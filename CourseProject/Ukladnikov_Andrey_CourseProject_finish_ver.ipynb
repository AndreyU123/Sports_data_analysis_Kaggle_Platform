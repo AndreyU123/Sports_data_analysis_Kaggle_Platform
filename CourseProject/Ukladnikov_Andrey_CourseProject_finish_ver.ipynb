{
 "cells": [
  {
   "cell_type": "markdown",
   "id": "6b4818d3",
   "metadata": {},
   "source": [
    "# Курсовой проект по курсу Спортивный анализ данных. Платформа Kaggle"
   ]
  },
  {
   "cell_type": "code",
   "execution_count": 53,
   "id": "1f0714d7",
   "metadata": {},
   "outputs": [],
   "source": [
    "from typing import List,Optional\n",
    "from tqdm import tqdm\n",
    "\n",
    "import numpy as np\n",
    "import pandas as pd\n",
    "\n",
    "import matplotlib as mpl\n",
    "import matplotlib.pyplot as plt\n",
    "%matplotlib inline\n",
    "import os\n",
    "\n",
    "import seaborn as sns\n",
    "import scipy.stats as st\n",
    "from scipy.stats import probplot, ks_2samp\n",
    "from sklearn.metrics import roc_auc_score\n",
    "from sklearn.ensemble import RandomForestRegressor\n",
    "from sklearn.model_selection import KFold, cross_val_score,train_test_split\n",
    "from sklearn.base import BaseEstimator, TransformerMixin\n",
    "from sklearn.utils.validation import check_is_fitted\n",
    "from sklearn.model_selection import StratifiedShuffleSplit\n",
    "from sklearn.model_selection import StratifiedKFold\n",
    "\n",
    "import missingno as msno\n",
    "\n",
    "import xgboost as xgb\n",
    "import lightgbm as lgb\n",
    "import catboost as cb\n",
    "\n",
    "from sklearn.metrics import roc_auc_score, roc_curve\n",
    "from tqdm import tqdm\n",
    "from typing import List, Tuple"
   ]
  },
  {
   "cell_type": "code",
   "execution_count": 2,
   "id": "4c4b3d5e",
   "metadata": {},
   "outputs": [],
   "source": [
    "DATA_PATH=\"Data\"\n",
    "def load_data(dataset_name,data_path=DATA_PATH):\n",
    "    csv_path = os.path.join(data_path,dataset_name)\n",
    "    data = pd.read_csv(csv_path)\n",
    "    data.columns=[col.upper() for col in data.columns]\n",
    "    print(\"shape = {} rows, {} cols\".format(*data.shape))\n",
    "    return data"
   ]
  },
  {
   "cell_type": "code",
   "execution_count": 3,
   "id": "5b15d8ba",
   "metadata": {},
   "outputs": [
    {
     "name": "stdout",
     "output_type": "stream",
     "text": [
      "shape = 110093 rows, 3 cols\n",
      "shape = 165141 rows, 2 cols\n",
      "shape = 250000 rows, 24 cols\n"
     ]
    }
   ],
   "source": [
    "train = load_data(\"train.csv\")\n",
    "test = load_data(\"test.csv\")\n",
    "client_profile=load_data(\"client_profile.csv\")\n",
    "#applications_history=load_data(\"applications_history.csv\")\n",
    "#bki=load_data(\"bki.csv\")\n",
    "#payments=load_data(\"payments.csv\")"
   ]
  },
  {
   "cell_type": "code",
   "execution_count": 4,
   "id": "96ecf4f7",
   "metadata": {},
   "outputs": [
    {
     "data": {
      "text/html": [
       "<div>\n",
       "<style scoped>\n",
       "    .dataframe tbody tr th:only-of-type {\n",
       "        vertical-align: middle;\n",
       "    }\n",
       "\n",
       "    .dataframe tbody tr th {\n",
       "        vertical-align: top;\n",
       "    }\n",
       "\n",
       "    .dataframe thead th {\n",
       "        text-align: right;\n",
       "    }\n",
       "</style>\n",
       "<table border=\"1\" class=\"dataframe\">\n",
       "  <thead>\n",
       "    <tr style=\"text-align: right;\">\n",
       "      <th></th>\n",
       "      <th>APPLICATION_NUMBER</th>\n",
       "      <th>TARGET</th>\n",
       "    </tr>\n",
       "  </thead>\n",
       "  <tbody>\n",
       "    <tr>\n",
       "      <th>count</th>\n",
       "      <td>1.100930e+05</td>\n",
       "      <td>110093.000000</td>\n",
       "    </tr>\n",
       "    <tr>\n",
       "      <th>mean</th>\n",
       "      <td>1.235772e+08</td>\n",
       "      <td>0.080813</td>\n",
       "    </tr>\n",
       "    <tr>\n",
       "      <th>std</th>\n",
       "      <td>8.880939e+04</td>\n",
       "      <td>0.272550</td>\n",
       "    </tr>\n",
       "    <tr>\n",
       "      <th>min</th>\n",
       "      <td>1.234233e+08</td>\n",
       "      <td>0.000000</td>\n",
       "    </tr>\n",
       "    <tr>\n",
       "      <th>25%</th>\n",
       "      <td>1.235005e+08</td>\n",
       "      <td>0.000000</td>\n",
       "    </tr>\n",
       "    <tr>\n",
       "      <th>50%</th>\n",
       "      <td>1.235769e+08</td>\n",
       "      <td>0.000000</td>\n",
       "    </tr>\n",
       "    <tr>\n",
       "      <th>75%</th>\n",
       "      <td>1.236539e+08</td>\n",
       "      <td>0.000000</td>\n",
       "    </tr>\n",
       "    <tr>\n",
       "      <th>max</th>\n",
       "      <td>1.237308e+08</td>\n",
       "      <td>1.000000</td>\n",
       "    </tr>\n",
       "  </tbody>\n",
       "</table>\n",
       "</div>"
      ],
      "text/plain": [
       "       APPLICATION_NUMBER         TARGET\n",
       "count        1.100930e+05  110093.000000\n",
       "mean         1.235772e+08       0.080813\n",
       "std          8.880939e+04       0.272550\n",
       "min          1.234233e+08       0.000000\n",
       "25%          1.235005e+08       0.000000\n",
       "50%          1.235769e+08       0.000000\n",
       "75%          1.236539e+08       0.000000\n",
       "max          1.237308e+08       1.000000"
      ]
     },
     "execution_count": 4,
     "metadata": {},
     "output_type": "execute_result"
    }
   ],
   "source": [
    "train.describe()"
   ]
  },
  {
   "cell_type": "code",
   "execution_count": 5,
   "id": "172c29be",
   "metadata": {},
   "outputs": [
    {
     "data": {
      "text/html": [
       "<div>\n",
       "<style scoped>\n",
       "    .dataframe tbody tr th:only-of-type {\n",
       "        vertical-align: middle;\n",
       "    }\n",
       "\n",
       "    .dataframe tbody tr th {\n",
       "        vertical-align: top;\n",
       "    }\n",
       "\n",
       "    .dataframe thead th {\n",
       "        text-align: right;\n",
       "    }\n",
       "</style>\n",
       "<table border=\"1\" class=\"dataframe\">\n",
       "  <thead>\n",
       "    <tr style=\"text-align: right;\">\n",
       "      <th></th>\n",
       "      <th>APPLICATION_NUMBER</th>\n",
       "      <th>TARGET</th>\n",
       "      <th>NAME_CONTRACT_TYPE</th>\n",
       "    </tr>\n",
       "  </thead>\n",
       "  <tbody>\n",
       "    <tr>\n",
       "      <th>0</th>\n",
       "      <td>123687442</td>\n",
       "      <td>0</td>\n",
       "      <td>Cash</td>\n",
       "    </tr>\n",
       "    <tr>\n",
       "      <th>1</th>\n",
       "      <td>123597908</td>\n",
       "      <td>1</td>\n",
       "      <td>Cash</td>\n",
       "    </tr>\n",
       "    <tr>\n",
       "      <th>2</th>\n",
       "      <td>123526683</td>\n",
       "      <td>0</td>\n",
       "      <td>Cash</td>\n",
       "    </tr>\n",
       "    <tr>\n",
       "      <th>3</th>\n",
       "      <td>123710391</td>\n",
       "      <td>1</td>\n",
       "      <td>Cash</td>\n",
       "    </tr>\n",
       "    <tr>\n",
       "      <th>4</th>\n",
       "      <td>123590329</td>\n",
       "      <td>1</td>\n",
       "      <td>Cash</td>\n",
       "    </tr>\n",
       "    <tr>\n",
       "      <th>...</th>\n",
       "      <td>...</td>\n",
       "      <td>...</td>\n",
       "      <td>...</td>\n",
       "    </tr>\n",
       "    <tr>\n",
       "      <th>110088</th>\n",
       "      <td>123458312</td>\n",
       "      <td>0</td>\n",
       "      <td>Cash</td>\n",
       "    </tr>\n",
       "    <tr>\n",
       "      <th>110089</th>\n",
       "      <td>123672463</td>\n",
       "      <td>0</td>\n",
       "      <td>Cash</td>\n",
       "    </tr>\n",
       "    <tr>\n",
       "      <th>110090</th>\n",
       "      <td>123723001</td>\n",
       "      <td>0</td>\n",
       "      <td>Cash</td>\n",
       "    </tr>\n",
       "    <tr>\n",
       "      <th>110091</th>\n",
       "      <td>123554358</td>\n",
       "      <td>0</td>\n",
       "      <td>Cash</td>\n",
       "    </tr>\n",
       "    <tr>\n",
       "      <th>110092</th>\n",
       "      <td>123676265</td>\n",
       "      <td>0</td>\n",
       "      <td>Credit Card</td>\n",
       "    </tr>\n",
       "  </tbody>\n",
       "</table>\n",
       "<p>110093 rows × 3 columns</p>\n",
       "</div>"
      ],
      "text/plain": [
       "        APPLICATION_NUMBER  TARGET NAME_CONTRACT_TYPE\n",
       "0                123687442       0               Cash\n",
       "1                123597908       1               Cash\n",
       "2                123526683       0               Cash\n",
       "3                123710391       1               Cash\n",
       "4                123590329       1               Cash\n",
       "...                    ...     ...                ...\n",
       "110088           123458312       0               Cash\n",
       "110089           123672463       0               Cash\n",
       "110090           123723001       0               Cash\n",
       "110091           123554358       0               Cash\n",
       "110092           123676265       0        Credit Card\n",
       "\n",
       "[110093 rows x 3 columns]"
      ]
     },
     "execution_count": 5,
     "metadata": {},
     "output_type": "execute_result"
    }
   ],
   "source": [
    "train"
   ]
  },
  {
   "cell_type": "code",
   "execution_count": 6,
   "id": "b18cb993",
   "metadata": {},
   "outputs": [
    {
     "name": "stdout",
     "output_type": "stream",
     "text": [
      "<class 'pandas.core.frame.DataFrame'>\n",
      "RangeIndex: 110093 entries, 0 to 110092\n",
      "Data columns (total 3 columns):\n",
      "APPLICATION_NUMBER    110093 non-null int64\n",
      "TARGET                110093 non-null int64\n",
      "NAME_CONTRACT_TYPE    110093 non-null object\n",
      "dtypes: int64(2), object(1)\n",
      "memory usage: 2.5+ MB\n"
     ]
    }
   ],
   "source": [
    "train.info()"
   ]
  },
  {
   "cell_type": "code",
   "execution_count": 7,
   "id": "0536ec9b",
   "metadata": {},
   "outputs": [
    {
     "data": {
      "text/plain": [
       "110093"
      ]
     },
     "execution_count": 7,
     "metadata": {},
     "output_type": "execute_result"
    }
   ],
   "source": [
    "train[\"APPLICATION_NUMBER\"].nunique()"
   ]
  },
  {
   "cell_type": "code",
   "execution_count": 8,
   "id": "0694736f",
   "metadata": {},
   "outputs": [
    {
     "data": {
      "text/html": [
       "<div>\n",
       "<style scoped>\n",
       "    .dataframe tbody tr th:only-of-type {\n",
       "        vertical-align: middle;\n",
       "    }\n",
       "\n",
       "    .dataframe tbody tr th {\n",
       "        vertical-align: top;\n",
       "    }\n",
       "\n",
       "    .dataframe thead th {\n",
       "        text-align: right;\n",
       "    }\n",
       "</style>\n",
       "<table border=\"1\" class=\"dataframe\">\n",
       "  <thead>\n",
       "    <tr style=\"text-align: right;\">\n",
       "      <th></th>\n",
       "      <th>APPLICATION_NUMBER</th>\n",
       "      <th>NAME_CONTRACT_TYPE</th>\n",
       "    </tr>\n",
       "  </thead>\n",
       "  <tbody>\n",
       "    <tr>\n",
       "      <th>0</th>\n",
       "      <td>123724268</td>\n",
       "      <td>Cash</td>\n",
       "    </tr>\n",
       "    <tr>\n",
       "      <th>1</th>\n",
       "      <td>123456549</td>\n",
       "      <td>Cash</td>\n",
       "    </tr>\n",
       "    <tr>\n",
       "      <th>2</th>\n",
       "      <td>123428178</td>\n",
       "      <td>Credit Card</td>\n",
       "    </tr>\n",
       "    <tr>\n",
       "      <th>3</th>\n",
       "      <td>123619984</td>\n",
       "      <td>Cash</td>\n",
       "    </tr>\n",
       "    <tr>\n",
       "      <th>4</th>\n",
       "      <td>123671104</td>\n",
       "      <td>Cash</td>\n",
       "    </tr>\n",
       "    <tr>\n",
       "      <th>...</th>\n",
       "      <td>...</td>\n",
       "      <td>...</td>\n",
       "    </tr>\n",
       "    <tr>\n",
       "      <th>165136</th>\n",
       "      <td>123487967</td>\n",
       "      <td>Cash</td>\n",
       "    </tr>\n",
       "    <tr>\n",
       "      <th>165137</th>\n",
       "      <td>123536402</td>\n",
       "      <td>Cash</td>\n",
       "    </tr>\n",
       "    <tr>\n",
       "      <th>165138</th>\n",
       "      <td>123718238</td>\n",
       "      <td>Cash</td>\n",
       "    </tr>\n",
       "    <tr>\n",
       "      <th>165139</th>\n",
       "      <td>123631557</td>\n",
       "      <td>Cash</td>\n",
       "    </tr>\n",
       "    <tr>\n",
       "      <th>165140</th>\n",
       "      <td>123433260</td>\n",
       "      <td>Cash</td>\n",
       "    </tr>\n",
       "  </tbody>\n",
       "</table>\n",
       "<p>165141 rows × 2 columns</p>\n",
       "</div>"
      ],
      "text/plain": [
       "        APPLICATION_NUMBER NAME_CONTRACT_TYPE\n",
       "0                123724268               Cash\n",
       "1                123456549               Cash\n",
       "2                123428178        Credit Card\n",
       "3                123619984               Cash\n",
       "4                123671104               Cash\n",
       "...                    ...                ...\n",
       "165136           123487967               Cash\n",
       "165137           123536402               Cash\n",
       "165138           123718238               Cash\n",
       "165139           123631557               Cash\n",
       "165140           123433260               Cash\n",
       "\n",
       "[165141 rows x 2 columns]"
      ]
     },
     "execution_count": 8,
     "metadata": {},
     "output_type": "execute_result"
    }
   ],
   "source": [
    "test"
   ]
  },
  {
   "cell_type": "markdown",
   "id": "72182ef3",
   "metadata": {},
   "source": [
    "**Выводы - поле APPLICATION_NUMBER - просто идентификатор типа ID, который нужен лишь для соединения с другими датасетами**"
   ]
  },
  {
   "cell_type": "code",
   "execution_count": 9,
   "id": "aad69391",
   "metadata": {},
   "outputs": [],
   "source": [
    "def target_description_print(ds, target_name):                              \n",
    "    \"\"\"\n",
    "    Печать распределения целевых значений.\n",
    "    \n",
    "    Parameters\n",
    "    ----------\n",
    "    ds: pd.DataFrame\n",
    "        Вектор целевой переменной.\n",
    "    target_name: str\n",
    "        название целевого поля\n",
    "    \"\"\"\n",
    "    \n",
    "    values_count_TARGET_0 = ds[ds[target_name]==0].count()[target_name]\n",
    "    values_count_TARGET_1 = ds[ds[target_name]==1].count()[target_name]\n",
    "    values_count_TARGET_1_2 = np.around(values_count_TARGET_1/values_count_TARGET_0,3)\n",
    "    values_count_TARGET_Sum = values_count_TARGET_0+values_count_TARGET_1\n",
    "    print(\"TARGET==0 values count =\",values_count_TARGET_0)\n",
    "    print(\"TARGET==1 values count =\",values_count_TARGET_1)\n",
    "    print(\"(TARGET==1)count / (TARGET==0)count =\",values_count_TARGET_1_2)\n",
    "    print(\"TARGET==0 and TARGET==1 in sum values count =\",values_count_TARGET_Sum)"
   ]
  },
  {
   "cell_type": "code",
   "execution_count": 10,
   "id": "c216343f",
   "metadata": {},
   "outputs": [
    {
     "name": "stdout",
     "output_type": "stream",
     "text": [
      "TARGET==0 values count = 101196\n",
      "TARGET==1 values count = 8897\n",
      "(TARGET==1)count / (TARGET==0)count = 0.088\n",
      "TARGET==0 and TARGET==1 in sum values count = 110093\n"
     ]
    }
   ],
   "source": [
    "target_description_print(train,'TARGET')"
   ]
  },
  {
   "cell_type": "markdown",
   "id": "36c3c75d",
   "metadata": {},
   "source": [
    "#### Создание модели с вновь построенными признаками версия 4"
   ]
  },
  {
   "cell_type": "markdown",
   "id": "cc346515",
   "metadata": {},
   "source": [
    "Анализ распределения признаков client_profile"
   ]
  },
  {
   "cell_type": "code",
   "execution_count": 11,
   "id": "ee4de889",
   "metadata": {},
   "outputs": [],
   "source": [
    "def show_features_distribution(ds, numerical_features, n_rows, n_cols, isTrain, isPlot=True):\n",
    "    fig, axes = plt.subplots(n_rows, n_cols, figsize=(15, 15))\n",
    "    title=''\n",
    "    if isTrain:\n",
    "        title = 'train'\n",
    "    else:\n",
    "        title = 'test'\n",
    "    print('Features distribution for {}'.format(title))\n",
    "\n",
    "    for num, feature in enumerate(numerical_features):\n",
    "        data = ds[feature].copy()    \n",
    "        if n_rows==1 and n_cols==1:            \n",
    "            if isPlot:\n",
    "                plt.plot(data, color=\"blue\")\n",
    "            else:\n",
    "                plt.hist(data,bins=1000, color=\"blue\")\n",
    "            plt.xlabel(feature, fontsize=12)\n",
    "        else:            \n",
    "            if isPlot:\n",
    "                axes[num%n_rows, num//n_rows].plot(data, color=\"blue\")\n",
    "            else:\n",
    "                axes[num%n_rows, num//n_rows].hist(data, bins=1000, color=\"blue\")\n",
    "            axes[num%n_rows, num//n_rows].set_xlabel(feature, fontsize=12)"
   ]
  },
  {
   "cell_type": "code",
   "execution_count": 12,
   "id": "60355f83",
   "metadata": {},
   "outputs": [],
   "source": [
    "numerical_features = client_profile.select_dtypes(exclude=[\"object\"])\n",
    "numerical_features=numerical_features.drop([\"APPLICATION_NUMBER\"],axis=1)"
   ]
  },
  {
   "cell_type": "code",
   "execution_count": 13,
   "id": "5922ac39",
   "metadata": {},
   "outputs": [
    {
     "data": {
      "text/html": [
       "<div>\n",
       "<style scoped>\n",
       "    .dataframe tbody tr th:only-of-type {\n",
       "        vertical-align: middle;\n",
       "    }\n",
       "\n",
       "    .dataframe tbody tr th {\n",
       "        vertical-align: top;\n",
       "    }\n",
       "\n",
       "    .dataframe thead th {\n",
       "        text-align: right;\n",
       "    }\n",
       "</style>\n",
       "<table border=\"1\" class=\"dataframe\">\n",
       "  <thead>\n",
       "    <tr style=\"text-align: right;\">\n",
       "      <th></th>\n",
       "      <th>CHILDRENS</th>\n",
       "      <th>TOTAL_SALARY</th>\n",
       "      <th>AMOUNT_CREDIT</th>\n",
       "      <th>AMOUNT_ANNUITY</th>\n",
       "      <th>REGION_POPULATION</th>\n",
       "      <th>AGE</th>\n",
       "      <th>DAYS_ON_LAST_JOB</th>\n",
       "      <th>OWN_CAR_AGE</th>\n",
       "      <th>FLAG_PHONE</th>\n",
       "      <th>FLAG_EMAIL</th>\n",
       "      <th>FAMILY_SIZE</th>\n",
       "      <th>EXTERNAL_SCORING_RATING_1</th>\n",
       "      <th>EXTERNAL_SCORING_RATING_2</th>\n",
       "      <th>EXTERNAL_SCORING_RATING_3</th>\n",
       "      <th>AMT_REQ_CREDIT_BUREAU_HOUR</th>\n",
       "      <th>AMT_REQ_CREDIT_BUREAU_DAY</th>\n",
       "      <th>AMT_REQ_CREDIT_BUREAU_WEEK</th>\n",
       "      <th>AMT_REQ_CREDIT_BUREAU_MON</th>\n",
       "      <th>AMT_REQ_CREDIT_BUREAU_QRT</th>\n",
       "      <th>AMT_REQ_CREDIT_BUREAU_YEAR</th>\n",
       "    </tr>\n",
       "  </thead>\n",
       "  <tbody>\n",
       "    <tr>\n",
       "      <th>count</th>\n",
       "      <td>250000.000000</td>\n",
       "      <td>2.500000e+05</td>\n",
       "      <td>2.500000e+05</td>\n",
       "      <td>249989.000000</td>\n",
       "      <td>250000.000000</td>\n",
       "      <td>250000.000000</td>\n",
       "      <td>250000.000000</td>\n",
       "      <td>85041.000000</td>\n",
       "      <td>250000.000000</td>\n",
       "      <td>250000.000000</td>\n",
       "      <td>249998.000000</td>\n",
       "      <td>109121.000000</td>\n",
       "      <td>2.494680e+05</td>\n",
       "      <td>200462.000000</td>\n",
       "      <td>216293.000000</td>\n",
       "      <td>216293.000000</td>\n",
       "      <td>216293.000000</td>\n",
       "      <td>216293.000000</td>\n",
       "      <td>216293.000000</td>\n",
       "      <td>216293.000000</td>\n",
       "    </tr>\n",
       "    <tr>\n",
       "      <th>mean</th>\n",
       "      <td>0.417624</td>\n",
       "      <td>1.690662e+05</td>\n",
       "      <td>5.993051e+05</td>\n",
       "      <td>27125.209585</td>\n",
       "      <td>0.020871</td>\n",
       "      <td>16033.460496</td>\n",
       "      <td>67505.883296</td>\n",
       "      <td>12.030221</td>\n",
       "      <td>0.280244</td>\n",
       "      <td>0.057072</td>\n",
       "      <td>2.154025</td>\n",
       "      <td>0.502122</td>\n",
       "      <td>5.141749e-01</td>\n",
       "      <td>0.510848</td>\n",
       "      <td>0.006348</td>\n",
       "      <td>0.006866</td>\n",
       "      <td>0.034217</td>\n",
       "      <td>0.267475</td>\n",
       "      <td>0.266786</td>\n",
       "      <td>1.899030</td>\n",
       "    </tr>\n",
       "    <tr>\n",
       "      <th>std</th>\n",
       "      <td>0.722529</td>\n",
       "      <td>2.588480e+05</td>\n",
       "      <td>4.022720e+05</td>\n",
       "      <td>14503.930366</td>\n",
       "      <td>0.013827</td>\n",
       "      <td>4361.332320</td>\n",
       "      <td>139261.099609</td>\n",
       "      <td>11.899404</td>\n",
       "      <td>0.449119</td>\n",
       "      <td>0.231981</td>\n",
       "      <td>0.911543</td>\n",
       "      <td>0.210817</td>\n",
       "      <td>1.910938e-01</td>\n",
       "      <td>0.195054</td>\n",
       "      <td>0.083783</td>\n",
       "      <td>0.107957</td>\n",
       "      <td>0.204029</td>\n",
       "      <td>0.914514</td>\n",
       "      <td>0.831547</td>\n",
       "      <td>1.868811</td>\n",
       "    </tr>\n",
       "    <tr>\n",
       "      <th>min</th>\n",
       "      <td>0.000000</td>\n",
       "      <td>2.565000e+04</td>\n",
       "      <td>4.500000e+04</td>\n",
       "      <td>1615.500000</td>\n",
       "      <td>0.000290</td>\n",
       "      <td>7489.000000</td>\n",
       "      <td>0.000000</td>\n",
       "      <td>0.000000</td>\n",
       "      <td>0.000000</td>\n",
       "      <td>0.000000</td>\n",
       "      <td>1.000000</td>\n",
       "      <td>0.014691</td>\n",
       "      <td>8.173617e-08</td>\n",
       "      <td>0.000527</td>\n",
       "      <td>0.000000</td>\n",
       "      <td>0.000000</td>\n",
       "      <td>0.000000</td>\n",
       "      <td>0.000000</td>\n",
       "      <td>0.000000</td>\n",
       "      <td>0.000000</td>\n",
       "    </tr>\n",
       "    <tr>\n",
       "      <th>25%</th>\n",
       "      <td>0.000000</td>\n",
       "      <td>1.125000e+05</td>\n",
       "      <td>2.700000e+05</td>\n",
       "      <td>16524.000000</td>\n",
       "      <td>0.010006</td>\n",
       "      <td>12415.000000</td>\n",
       "      <td>931.000000</td>\n",
       "      <td>5.000000</td>\n",
       "      <td>0.000000</td>\n",
       "      <td>0.000000</td>\n",
       "      <td>2.000000</td>\n",
       "      <td>0.334180</td>\n",
       "      <td>3.920026e-01</td>\n",
       "      <td>0.370650</td>\n",
       "      <td>0.000000</td>\n",
       "      <td>0.000000</td>\n",
       "      <td>0.000000</td>\n",
       "      <td>0.000000</td>\n",
       "      <td>0.000000</td>\n",
       "      <td>0.000000</td>\n",
       "    </tr>\n",
       "    <tr>\n",
       "      <th>50%</th>\n",
       "      <td>0.000000</td>\n",
       "      <td>1.485000e+05</td>\n",
       "      <td>5.147775e+05</td>\n",
       "      <td>24930.000000</td>\n",
       "      <td>0.018850</td>\n",
       "      <td>15744.000000</td>\n",
       "      <td>2217.000000</td>\n",
       "      <td>9.000000</td>\n",
       "      <td>0.000000</td>\n",
       "      <td>0.000000</td>\n",
       "      <td>2.000000</td>\n",
       "      <td>0.506018</td>\n",
       "      <td>5.656713e-01</td>\n",
       "      <td>0.535276</td>\n",
       "      <td>0.000000</td>\n",
       "      <td>0.000000</td>\n",
       "      <td>0.000000</td>\n",
       "      <td>0.000000</td>\n",
       "      <td>0.000000</td>\n",
       "      <td>1.000000</td>\n",
       "    </tr>\n",
       "    <tr>\n",
       "      <th>75%</th>\n",
       "      <td>1.000000</td>\n",
       "      <td>2.025000e+05</td>\n",
       "      <td>8.086500e+05</td>\n",
       "      <td>34618.500000</td>\n",
       "      <td>0.028663</td>\n",
       "      <td>19681.000000</td>\n",
       "      <td>5678.000000</td>\n",
       "      <td>15.000000</td>\n",
       "      <td>1.000000</td>\n",
       "      <td>0.000000</td>\n",
       "      <td>3.000000</td>\n",
       "      <td>0.674793</td>\n",
       "      <td>6.635195e-01</td>\n",
       "      <td>0.669057</td>\n",
       "      <td>0.000000</td>\n",
       "      <td>0.000000</td>\n",
       "      <td>0.000000</td>\n",
       "      <td>0.000000</td>\n",
       "      <td>0.000000</td>\n",
       "      <td>3.000000</td>\n",
       "    </tr>\n",
       "    <tr>\n",
       "      <th>max</th>\n",
       "      <td>19.000000</td>\n",
       "      <td>1.170000e+08</td>\n",
       "      <td>4.050000e+06</td>\n",
       "      <td>230161.500000</td>\n",
       "      <td>0.072508</td>\n",
       "      <td>25229.000000</td>\n",
       "      <td>365243.000000</td>\n",
       "      <td>69.000000</td>\n",
       "      <td>1.000000</td>\n",
       "      <td>1.000000</td>\n",
       "      <td>20.000000</td>\n",
       "      <td>0.962693</td>\n",
       "      <td>8.549997e-01</td>\n",
       "      <td>0.896010</td>\n",
       "      <td>4.000000</td>\n",
       "      <td>9.000000</td>\n",
       "      <td>8.000000</td>\n",
       "      <td>27.000000</td>\n",
       "      <td>261.000000</td>\n",
       "      <td>25.000000</td>\n",
       "    </tr>\n",
       "  </tbody>\n",
       "</table>\n",
       "</div>"
      ],
      "text/plain": [
       "           CHILDRENS  TOTAL_SALARY  AMOUNT_CREDIT  AMOUNT_ANNUITY  \\\n",
       "count  250000.000000  2.500000e+05   2.500000e+05   249989.000000   \n",
       "mean        0.417624  1.690662e+05   5.993051e+05    27125.209585   \n",
       "std         0.722529  2.588480e+05   4.022720e+05    14503.930366   \n",
       "min         0.000000  2.565000e+04   4.500000e+04     1615.500000   \n",
       "25%         0.000000  1.125000e+05   2.700000e+05    16524.000000   \n",
       "50%         0.000000  1.485000e+05   5.147775e+05    24930.000000   \n",
       "75%         1.000000  2.025000e+05   8.086500e+05    34618.500000   \n",
       "max        19.000000  1.170000e+08   4.050000e+06   230161.500000   \n",
       "\n",
       "       REGION_POPULATION            AGE  DAYS_ON_LAST_JOB   OWN_CAR_AGE  \\\n",
       "count      250000.000000  250000.000000     250000.000000  85041.000000   \n",
       "mean            0.020871   16033.460496      67505.883296     12.030221   \n",
       "std             0.013827    4361.332320     139261.099609     11.899404   \n",
       "min             0.000290    7489.000000          0.000000      0.000000   \n",
       "25%             0.010006   12415.000000        931.000000      5.000000   \n",
       "50%             0.018850   15744.000000       2217.000000      9.000000   \n",
       "75%             0.028663   19681.000000       5678.000000     15.000000   \n",
       "max             0.072508   25229.000000     365243.000000     69.000000   \n",
       "\n",
       "          FLAG_PHONE     FLAG_EMAIL    FAMILY_SIZE  EXTERNAL_SCORING_RATING_1  \\\n",
       "count  250000.000000  250000.000000  249998.000000              109121.000000   \n",
       "mean        0.280244       0.057072       2.154025                   0.502122   \n",
       "std         0.449119       0.231981       0.911543                   0.210817   \n",
       "min         0.000000       0.000000       1.000000                   0.014691   \n",
       "25%         0.000000       0.000000       2.000000                   0.334180   \n",
       "50%         0.000000       0.000000       2.000000                   0.506018   \n",
       "75%         1.000000       0.000000       3.000000                   0.674793   \n",
       "max         1.000000       1.000000      20.000000                   0.962693   \n",
       "\n",
       "       EXTERNAL_SCORING_RATING_2  EXTERNAL_SCORING_RATING_3  \\\n",
       "count               2.494680e+05              200462.000000   \n",
       "mean                5.141749e-01                   0.510848   \n",
       "std                 1.910938e-01                   0.195054   \n",
       "min                 8.173617e-08                   0.000527   \n",
       "25%                 3.920026e-01                   0.370650   \n",
       "50%                 5.656713e-01                   0.535276   \n",
       "75%                 6.635195e-01                   0.669057   \n",
       "max                 8.549997e-01                   0.896010   \n",
       "\n",
       "       AMT_REQ_CREDIT_BUREAU_HOUR  AMT_REQ_CREDIT_BUREAU_DAY  \\\n",
       "count               216293.000000              216293.000000   \n",
       "mean                     0.006348                   0.006866   \n",
       "std                      0.083783                   0.107957   \n",
       "min                      0.000000                   0.000000   \n",
       "25%                      0.000000                   0.000000   \n",
       "50%                      0.000000                   0.000000   \n",
       "75%                      0.000000                   0.000000   \n",
       "max                      4.000000                   9.000000   \n",
       "\n",
       "       AMT_REQ_CREDIT_BUREAU_WEEK  AMT_REQ_CREDIT_BUREAU_MON  \\\n",
       "count               216293.000000              216293.000000   \n",
       "mean                     0.034217                   0.267475   \n",
       "std                      0.204029                   0.914514   \n",
       "min                      0.000000                   0.000000   \n",
       "25%                      0.000000                   0.000000   \n",
       "50%                      0.000000                   0.000000   \n",
       "75%                      0.000000                   0.000000   \n",
       "max                      8.000000                  27.000000   \n",
       "\n",
       "       AMT_REQ_CREDIT_BUREAU_QRT  AMT_REQ_CREDIT_BUREAU_YEAR  \n",
       "count              216293.000000               216293.000000  \n",
       "mean                    0.266786                    1.899030  \n",
       "std                     0.831547                    1.868811  \n",
       "min                     0.000000                    0.000000  \n",
       "25%                     0.000000                    0.000000  \n",
       "50%                     0.000000                    1.000000  \n",
       "75%                     0.000000                    3.000000  \n",
       "max                   261.000000                   25.000000  "
      ]
     },
     "execution_count": 13,
     "metadata": {},
     "output_type": "execute_result"
    }
   ],
   "source": [
    "numerical_features.describe()"
   ]
  },
  {
   "cell_type": "code",
   "execution_count": 14,
   "id": "be09642a",
   "metadata": {},
   "outputs": [
    {
     "name": "stdout",
     "output_type": "stream",
     "text": [
      "<class 'pandas.core.frame.DataFrame'>\n",
      "RangeIndex: 250000 entries, 0 to 249999\n",
      "Data columns (total 20 columns):\n",
      "CHILDRENS                     250000 non-null int64\n",
      "TOTAL_SALARY                  250000 non-null float64\n",
      "AMOUNT_CREDIT                 250000 non-null float64\n",
      "AMOUNT_ANNUITY                249989 non-null float64\n",
      "REGION_POPULATION             250000 non-null float64\n",
      "AGE                           250000 non-null int64\n",
      "DAYS_ON_LAST_JOB              250000 non-null int64\n",
      "OWN_CAR_AGE                   85041 non-null float64\n",
      "FLAG_PHONE                    250000 non-null int64\n",
      "FLAG_EMAIL                    250000 non-null int64\n",
      "FAMILY_SIZE                   249998 non-null float64\n",
      "EXTERNAL_SCORING_RATING_1     109121 non-null float64\n",
      "EXTERNAL_SCORING_RATING_2     249468 non-null float64\n",
      "EXTERNAL_SCORING_RATING_3     200462 non-null float64\n",
      "AMT_REQ_CREDIT_BUREAU_HOUR    216293 non-null float64\n",
      "AMT_REQ_CREDIT_BUREAU_DAY     216293 non-null float64\n",
      "AMT_REQ_CREDIT_BUREAU_WEEK    216293 non-null float64\n",
      "AMT_REQ_CREDIT_BUREAU_MON     216293 non-null float64\n",
      "AMT_REQ_CREDIT_BUREAU_QRT     216293 non-null float64\n",
      "AMT_REQ_CREDIT_BUREAU_YEAR    216293 non-null float64\n",
      "dtypes: float64(15), int64(5)\n",
      "memory usage: 38.1 MB\n"
     ]
    }
   ],
   "source": [
    "numerical_features.info()"
   ]
  },
  {
   "cell_type": "code",
   "execution_count": 15,
   "id": "c93c61b7",
   "metadata": {},
   "outputs": [],
   "source": [
    "tmp=pd.DataFrame(data=numerical_features, columns=['DAYS_ON_LAST_JOB','OWN_CAR_AGE','AMT_REQ_CREDIT_BUREAU_QRT'])"
   ]
  },
  {
   "cell_type": "code",
   "execution_count": 16,
   "id": "06f6976a",
   "metadata": {},
   "outputs": [
    {
     "name": "stdout",
     "output_type": "stream",
     "text": [
      "Features distribution for train\n"
     ]
    },
    {
     "name": "stderr",
     "output_type": "stream",
     "text": [
      "C:\\Users\\Windows\\.conda\\envs\\tf\\lib\\site-packages\\numpy\\lib\\histograms.py:839: RuntimeWarning: invalid value encountered in greater_equal\n",
      "  keep = (tmp_a >= first_edge)\n",
      "C:\\Users\\Windows\\.conda\\envs\\tf\\lib\\site-packages\\numpy\\lib\\histograms.py:840: RuntimeWarning: invalid value encountered in less_equal\n",
      "  keep &= (tmp_a <= last_edge)\n"
     ]
    },
    {
     "data": {
      "image/png": "[encoded data removed]",
      "text/plain": [
       "<Figure size 1080x1080 with 1 Axes>"
      ]
     },
     "metadata": {
      "needs_background": "light"
     },
     "output_type": "display_data"
    }
   ],
   "source": [
    "n_cols = 1\n",
    "n_rows = 1 #len(tmp)//n_cols + 1\n",
    "show_features_distribution(tmp,['AMT_REQ_CREDIT_BUREAU_QRT'],n_rows, n_cols, isTrain=True, isPlot=False)"
   ]
  },
  {
   "cell_type": "code",
   "execution_count": 17,
   "id": "b0ee2dfd",
   "metadata": {},
   "outputs": [
    {
     "data": {
      "text/plain": [
       "2"
      ]
     },
     "execution_count": 17,
     "metadata": {},
     "output_type": "execute_result"
    }
   ],
   "source": [
    "numerical_features[numerical_features['AMT_REQ_CREDIT_BUREAU_QRT']>10]['AMT_REQ_CREDIT_BUREAU_QRT'].count()"
   ]
  },
  {
   "cell_type": "code",
   "execution_count": 18,
   "id": "b31decf3",
   "metadata": {},
   "outputs": [
    {
     "name": "stdout",
     "output_type": "stream",
     "text": [
      "Features distribution for train\n"
     ]
    },
    {
     "data": {
      "image/png": "[encoded data removed]",
      "text/plain": [
       "<Figure size 1080x1080 with 1 Axes>"
      ]
     },
     "metadata": {
      "needs_background": "light"
     },
     "output_type": "display_data"
    }
   ],
   "source": [
    "n_cols = 1\n",
    "n_rows = 1 #len(tmp)//n_cols + 1\n",
    "show_features_distribution(tmp,['DAYS_ON_LAST_JOB'],n_rows, n_cols, isTrain=True, isPlot=False)"
   ]
  },
  {
   "cell_type": "code",
   "execution_count": 19,
   "id": "a246e4c6",
   "metadata": {},
   "outputs": [],
   "source": [
    "dayes_in_year=365\n",
    "max_job_duration_years=70"
   ]
  },
  {
   "cell_type": "code",
   "execution_count": 20,
   "id": "cb42e319",
   "metadata": {},
   "outputs": [
    {
     "data": {
      "text/plain": [
       "44867"
      ]
     },
     "execution_count": 20,
     "metadata": {},
     "output_type": "execute_result"
    }
   ],
   "source": [
    "numerical_features[numerical_features['DAYS_ON_LAST_JOB']>dayes_in_year*max_job_duration_years]['DAYS_ON_LAST_JOB'].count()"
   ]
  },
  {
   "cell_type": "markdown",
   "id": "e7b7caa9",
   "metadata": {},
   "source": [
    "для DAYS_ON_LAST_JOB и AMT_REQ_CREDIT_BUREAU_QRT - надо удалить выбросы"
   ]
  },
  {
   "cell_type": "code",
   "execution_count": 21,
   "id": "0896eee1",
   "metadata": {},
   "outputs": [],
   "source": [
    "def check_missings(df: pd.DataFrame) -> pd.DataFrame:\n",
    "    \"\"\"\n",
    "    Функция для вычисления среднего и общего числа пропусков.\n",
    "\n",
    "    Parameters\n",
    "    ----------\n",
    "    df: pandas.core.DataFrame\n",
    "        Набор данных для вычисления статистики.\n",
    "\n",
    "    Returns\n",
    "    -------\n",
    "    result: pandas.core.DataFrame\n",
    "        Датафрейм со статистикой распределения пропусков.\n",
    "\n",
    "    \"\"\"\n",
    "    na = df.isnull().sum()\n",
    "    result = pd.DataFrame({\n",
    "        \"Total\": na,\n",
    "        \"Percent\": 100*na/df.shape[0],\n",
    "        \"Types\": df.dtypes\n",
    "    })\n",
    "    result = result[result[\"Total\"] != 0]\n",
    "    print(f\"Total NA-values = {na.sum()}\")\n",
    "    return result.T"
   ]
  },
  {
   "cell_type": "code",
   "execution_count": 22,
   "id": "19d0369f",
   "metadata": {},
   "outputs": [
    {
     "name": "stdout",
     "output_type": "stream",
     "text": [
      "Total NA-values = 558163\n"
     ]
    },
    {
     "data": {
      "text/html": [
       "<div>\n",
       "<style scoped>\n",
       "    .dataframe tbody tr th:only-of-type {\n",
       "        vertical-align: middle;\n",
       "    }\n",
       "\n",
       "    .dataframe tbody tr th {\n",
       "        vertical-align: top;\n",
       "    }\n",
       "\n",
       "    .dataframe thead th {\n",
       "        text-align: right;\n",
       "    }\n",
       "</style>\n",
       "<table border=\"1\" class=\"dataframe\">\n",
       "  <thead>\n",
       "    <tr style=\"text-align: right;\">\n",
       "      <th></th>\n",
       "      <th>AMOUNT_ANNUITY</th>\n",
       "      <th>OWN_CAR_AGE</th>\n",
       "      <th>FAMILY_SIZE</th>\n",
       "      <th>EXTERNAL_SCORING_RATING_1</th>\n",
       "      <th>EXTERNAL_SCORING_RATING_2</th>\n",
       "      <th>EXTERNAL_SCORING_RATING_3</th>\n",
       "      <th>AMT_REQ_CREDIT_BUREAU_HOUR</th>\n",
       "      <th>AMT_REQ_CREDIT_BUREAU_DAY</th>\n",
       "      <th>AMT_REQ_CREDIT_BUREAU_WEEK</th>\n",
       "      <th>AMT_REQ_CREDIT_BUREAU_MON</th>\n",
       "      <th>AMT_REQ_CREDIT_BUREAU_QRT</th>\n",
       "      <th>AMT_REQ_CREDIT_BUREAU_YEAR</th>\n",
       "    </tr>\n",
       "  </thead>\n",
       "  <tbody>\n",
       "    <tr>\n",
       "      <th>Total</th>\n",
       "      <td>11</td>\n",
       "      <td>164959</td>\n",
       "      <td>2</td>\n",
       "      <td>140879</td>\n",
       "      <td>532</td>\n",
       "      <td>49538</td>\n",
       "      <td>33707</td>\n",
       "      <td>33707</td>\n",
       "      <td>33707</td>\n",
       "      <td>33707</td>\n",
       "      <td>33707</td>\n",
       "      <td>33707</td>\n",
       "    </tr>\n",
       "    <tr>\n",
       "      <th>Percent</th>\n",
       "      <td>0.0044</td>\n",
       "      <td>65.9836</td>\n",
       "      <td>0.0008</td>\n",
       "      <td>56.3516</td>\n",
       "      <td>0.2128</td>\n",
       "      <td>19.8152</td>\n",
       "      <td>13.4828</td>\n",
       "      <td>13.4828</td>\n",
       "      <td>13.4828</td>\n",
       "      <td>13.4828</td>\n",
       "      <td>13.4828</td>\n",
       "      <td>13.4828</td>\n",
       "    </tr>\n",
       "    <tr>\n",
       "      <th>Types</th>\n",
       "      <td>float64</td>\n",
       "      <td>float64</td>\n",
       "      <td>float64</td>\n",
       "      <td>float64</td>\n",
       "      <td>float64</td>\n",
       "      <td>float64</td>\n",
       "      <td>float64</td>\n",
       "      <td>float64</td>\n",
       "      <td>float64</td>\n",
       "      <td>float64</td>\n",
       "      <td>float64</td>\n",
       "      <td>float64</td>\n",
       "    </tr>\n",
       "  </tbody>\n",
       "</table>\n",
       "</div>"
      ],
      "text/plain": [
       "        AMOUNT_ANNUITY OWN_CAR_AGE FAMILY_SIZE EXTERNAL_SCORING_RATING_1  \\\n",
       "Total               11      164959           2                    140879   \n",
       "Percent         0.0044     65.9836      0.0008                   56.3516   \n",
       "Types          float64     float64     float64                   float64   \n",
       "\n",
       "        EXTERNAL_SCORING_RATING_2 EXTERNAL_SCORING_RATING_3  \\\n",
       "Total                         532                     49538   \n",
       "Percent                    0.2128                   19.8152   \n",
       "Types                     float64                   float64   \n",
       "\n",
       "        AMT_REQ_CREDIT_BUREAU_HOUR AMT_REQ_CREDIT_BUREAU_DAY  \\\n",
       "Total                        33707                     33707   \n",
       "Percent                    13.4828                   13.4828   \n",
       "Types                      float64                   float64   \n",
       "\n",
       "        AMT_REQ_CREDIT_BUREAU_WEEK AMT_REQ_CREDIT_BUREAU_MON  \\\n",
       "Total                        33707                     33707   \n",
       "Percent                    13.4828                   13.4828   \n",
       "Types                      float64                   float64   \n",
       "\n",
       "        AMT_REQ_CREDIT_BUREAU_QRT AMT_REQ_CREDIT_BUREAU_YEAR  \n",
       "Total                       33707                      33707  \n",
       "Percent                   13.4828                    13.4828  \n",
       "Types                     float64                    float64  "
      ]
     },
     "execution_count": 22,
     "metadata": {},
     "output_type": "execute_result"
    }
   ],
   "source": [
    "client_profile_missing = check_missings(client_profile)\n",
    "client_profile_missing"
   ]
  },
  {
   "cell_type": "code",
   "execution_count": 23,
   "id": "1151a248",
   "metadata": {},
   "outputs": [],
   "source": [
    "from sklearn.impute import KNNImputer"
   ]
  },
  {
   "cell_type": "code",
   "execution_count": 24,
   "id": "aeb8b922",
   "metadata": {},
   "outputs": [],
   "source": [
    "knn_imputer = KNNImputer(n_neighbors=25, weights=\"uniform\")\n",
    "client_profile[\"AMOUNT_ANNUITY\"] = knn_imputer.fit_transform(client_profile[[\"AMOUNT_ANNUITY\"]])\n",
    "client_profile[\"FAMILY_SIZE\"] = knn_imputer.fit_transform(client_profile[[\"FAMILY_SIZE\"]])\n",
    "client_profile[\"EXTERNAL_SCORING_RATING_2\"] = knn_imputer.fit_transform(client_profile[[\"EXTERNAL_SCORING_RATING_2\"]])"
   ]
  },
  {
   "cell_type": "code",
   "execution_count": 25,
   "id": "24400125",
   "metadata": {},
   "outputs": [],
   "source": [
    "from sklearn.experimental import enable_iterative_imputer\n",
    "from sklearn.impute import IterativeImputer"
   ]
  },
  {
   "cell_type": "code",
   "execution_count": 26,
   "id": "8e87eaef",
   "metadata": {},
   "outputs": [],
   "source": [
    "iterative_imputer = IterativeImputer()\n",
    "client_profile[numerical_features.columns] = iterative_imputer.fit_transform(client_profile[numerical_features.columns])\n"
   ]
  },
  {
   "cell_type": "code",
   "execution_count": 27,
   "id": "4caa3690",
   "metadata": {},
   "outputs": [
    {
     "name": "stdout",
     "output_type": "stream",
     "text": [
      "Total NA-values = 0\n"
     ]
    },
    {
     "data": {
      "text/html": [
       "<div>\n",
       "<style scoped>\n",
       "    .dataframe tbody tr th:only-of-type {\n",
       "        vertical-align: middle;\n",
       "    }\n",
       "\n",
       "    .dataframe tbody tr th {\n",
       "        vertical-align: top;\n",
       "    }\n",
       "\n",
       "    .dataframe thead th {\n",
       "        text-align: right;\n",
       "    }\n",
       "</style>\n",
       "<table border=\"1\" class=\"dataframe\">\n",
       "  <thead>\n",
       "    <tr style=\"text-align: right;\">\n",
       "      <th></th>\n",
       "    </tr>\n",
       "  </thead>\n",
       "  <tbody>\n",
       "    <tr>\n",
       "      <th>Total</th>\n",
       "    </tr>\n",
       "    <tr>\n",
       "      <th>Percent</th>\n",
       "    </tr>\n",
       "    <tr>\n",
       "      <th>Types</th>\n",
       "    </tr>\n",
       "  </tbody>\n",
       "</table>\n",
       "</div>"
      ],
      "text/plain": [
       "Empty DataFrame\n",
       "Columns: []\n",
       "Index: [Total, Percent, Types]"
      ]
     },
     "execution_count": 27,
     "metadata": {},
     "output_type": "execute_result"
    }
   ],
   "source": [
    "client_profile_missing = check_missings(client_profile)\n",
    "client_profile_missing"
   ]
  },
  {
   "cell_type": "code",
   "execution_count": 28,
   "id": "a5e53c2c",
   "metadata": {},
   "outputs": [],
   "source": [
    "def make_cross_validation(X: pd.DataFrame,\n",
    "                          y: pd.Series,\n",
    "                          estimator: object,\n",
    "                          cat_feats,\n",
    "                          metric: callable,                          \n",
    "                          cv_strategy,                          \n",
    "                          isCatBoost=False\n",
    "                          ):\n",
    "    \"\"\"\n",
    "    Кросс-валидация.\n",
    "\n",
    "    Parameters\n",
    "    ----------\n",
    "    X: pd.DataFrame\n",
    "        Матрица признаков.\n",
    "\n",
    "    y: pd.Series\n",
    "        Вектор целевой переменной.\n",
    "\n",
    "    estimator: callable\n",
    "        Объект модели для обучения.\n",
    "\n",
    "    metric: callable\n",
    "        Метрика для оценки качества решения.\n",
    "        Ожидается, что на вход будет передана функция,\n",
    "        которая принимает 2 аргумента: y_true, y_pred.\n",
    "\n",
    "    cv_strategy: cross-validation generator\n",
    "        Объект для описания стратегии кросс-валидации.\n",
    "        Ожидается, что на вход будет передан объект типа\n",
    "        KFold или StratifiedKFold.\n",
    "\n",
    "    Returns\n",
    "    -------\n",
    "    oof_score: float\n",
    "        Значение метрики качества на OOF-прогнозах.\n",
    "\n",
    "    fold_train_scores: List[float]\n",
    "        Значение метрики качества на каждом обучающем датасете кросс-валидации.\n",
    "\n",
    "    fold_valid_scores: List[float]\n",
    "        Значение метрики качества на каждом валидационном датасете кросс-валидации.\n",
    "\n",
    "    oof_predictions: np.array\n",
    "        Прогнозы на OOF.\n",
    "\n",
    "    \"\"\"\n",
    "    estimators, fold_train_scores, fold_valid_scores = [], [], []\n",
    "    oof_predictions = np.zeros(X.shape[0])\n",
    "\n",
    "    for fold_number, (train_idx, valid_idx) in enumerate(cv_strategy.split(X, y)):\n",
    "        x_train, x_valid = X.loc[train_idx], X.loc[valid_idx]\n",
    "        y_train, y_valid = y.loc[train_idx], y.loc[valid_idx]\n",
    "\n",
    "        if isCatBoost:\n",
    "            estimator.fit(x_train, y_train, eval_set=[(x_train, y_train), (x_valid, y_valid)],\n",
    "                          cat_features=cat_feats,plot=True)\n",
    "        else:\n",
    "            estimator.fit(X=x_train,y=y_train,\n",
    "                      eval_set=[(x_train, y_train), (x_valid, y_valid)],\n",
    "                      early_stopping_rounds=500,\n",
    "                      eval_metric=\"auc\",\n",
    "                      verbose=200,\n",
    "                      categorical_feature=cat_feats)\n",
    "        \n",
    "        y_train_pred = estimator.predict_proba(x_train)[:, 1]\n",
    "        y_valid_pred = estimator.predict_proba(x_valid)[:, 1]\n",
    "\n",
    "        fold_train_scores.append(metric(y_train, y_train_pred))\n",
    "        fold_valid_scores.append(metric(y_valid, y_valid_pred))\n",
    "        \n",
    "        oof_predictions[valid_idx] = y_valid_pred        \n",
    "        oof_predictions[train_idx] = y_train_pred\n",
    "\n",
    "        msg = (\n",
    "            f\"Fold: {fold_number+1}, train-observations = {len(train_idx)}, \"\n",
    "            f\"valid-observations = {len(valid_idx)}\\n\"\n",
    "            f\"train-score = {round(fold_train_scores[fold_number], 4)}, \"\n",
    "            f\"valid-score = {round(fold_valid_scores[fold_number], 4)}\" \n",
    "        )\n",
    "        print(msg)\n",
    "        print(\"=\"*69)\n",
    "        estimators.append(estimator)\n",
    "\n",
    "    oof_score = metric(y, oof_predictions)\n",
    "    print(f\"CV-results train: {round(np.mean(fold_train_scores), 4)} +/- {round(np.std(fold_train_scores), 3)}\")\n",
    "    print(f\"CV-results valid: {round(np.mean(fold_valid_scores), 4)} +/- {round(np.std(fold_valid_scores), 3)}\")\n",
    "    print(f\"OOF-score = {round(oof_score, 4)}\")\n",
    "\n",
    "    return estimators, oof_score, fold_train_scores, fold_valid_scores, oof_predictions"
   ]
  },
  {
   "cell_type": "code",
   "execution_count": 29,
   "id": "4e032e87",
   "metadata": {},
   "outputs": [],
   "source": [
    "def create_client_profile_features(X:pd.DataFrame, copy:bool=True)->pd.DataFrame:\n",
    "    \"\"\"\n",
    "    Создание признаков на основе профиля клиентов\n",
    "    \n",
    "    Parameters\n",
    "    ----------\n",
    "    X: pd.DataFrame\n",
    "            исходная матрица признаков с профилем клиента\n",
    "    copy:bool,optional\n",
    "            использовать ли копию DF X, по умолчанию=True\n",
    "    \n",
    "    Returns \n",
    "    -------\n",
    "    X_transformed:pd.DataFrame\n",
    "            расширенная матрица признаков с профилем клиента\n",
    "        \n",
    "    \"\"\"\n",
    "    if copy:\n",
    "        X=X.copy(deep=True)\n",
    "        \n",
    "        \n",
    "    #AMT_REQ_CREDIT_BUREAU_QRT_max=10\n",
    "    #X['AMT_REQ_CREDIT_BUREAU_QRT']=np.where(X['AMT_REQ_CREDIT_BUREAU_QRT'] < AMT_REQ_CREDIT_BUREAU_QRT_max,\n",
    "    #                                        X['AMT_REQ_CREDIT_BUREAU_QRT'],np.nan)\n",
    "    \n",
    "    dayes_in_year=365\n",
    "    max_job_duration_years=70 #предполагаем что макс время работы не более 70 лет\n",
    "    X['DAYS_ON_LAST_JOB']= np.where(X['DAYS_ON_LAST_JOB'] < dayes_in_year * max_job_duration_years,\n",
    "                                    X['DAYS_ON_LAST_JOB'],np.nan)\n",
    "    bki_flags = [flag for flag in X.columns if \"AMT_REQ_CREDIT_BUREAU\" in flag]\n",
    "    X[\"BKI_REQUESTS_COUNT\"] = X[bki_flags].sum(axis=1)\n",
    "    X[\"BKI_KURTOSIS\"] = X[bki_flags].kurtosis(axis=1)\n",
    "    X[\"EXTERNAL_SCORING_PROD\"] = X[\"EXTERNAL_SCORING_RATING_1\"] * X[\"EXTERNAL_SCORING_RATING_2\"] * X[\"EXTERNAL_SCORING_RATING_3\"]\n",
    "    \n",
    "    total_ext_scoring_ratings = X[\"EXTERNAL_SCORING_RATING_1\"].sum()+X[\"EXTERNAL_SCORING_RATING_2\"].sum()+X[\"EXTERNAL_SCORING_RATING_3\"].sum()\n",
    "    ext_scoring_rating_1_ratio=np.ceil((total_ext_scoring_ratings / 3) / client_profile['EXTERNAL_SCORING_RATING_1'].sum())\n",
    "    ext_scoring_rating_2_ratio=np.ceil((total_ext_scoring_ratings / 3) / client_profile['EXTERNAL_SCORING_RATING_2'].sum())\n",
    "    ext_scoring_rating_3_ratio=np.ceil((total_ext_scoring_ratings / 3) / client_profile['EXTERNAL_SCORING_RATING_3'].sum())\n",
    "    X[\"EXTERNAL_SCORING_WEIGHTED\"] = X[\"EXTERNAL_SCORING_RATING_1\"] * ext_scoring_rating_1_ratio + X[\"EXTERNAL_SCORING_RATING_2\"] * ext_scoring_rating_2_ratio + X[\"EXTERNAL_SCORING_RATING_3\"] * ext_scoring_rating_3_ratio\n",
    "\n",
    "    for function_name in [\"min\", \"max\", \"mean\", \"nanmedian\", \"var\"]:\n",
    "        feature_name = \"EXTERNAL_SCORING_RATING_{}\".format(function_name)\n",
    "        X[feature_name] = eval(\"np.{}\".format(function_name))(\n",
    "            X[[\"EXTERNAL_SCORING_RATING_1\",\"EXTERNAL_SCORING_RATING_2\",\"EXTERNAL_SCORING_RATING_3\"]],axis=1)\n",
    "        \n",
    "    #Отношение между основными фин. показателями\n",
    "    X[\"RATIO_CREDIT_TO_ANNUITY\"] = X[\"AMOUNT_CREDIT\"] / X[\"AMOUNT_ANNUITY\"]\n",
    "    X[\"RATIO_ANNUITY_TO_SALARY\"] = X[\"AMOUNT_ANNUITY\"] / X[\"TOTAL_SALARY\"]\n",
    "    X[\"RATIO_CREDIT_TO_SALARY\"] = X[\"AMOUNT_CREDIT\"] / X[\"TOTAL_SALARY\"]\n",
    "    X[\"TOTAL_SALARY_NET\"] = X[\"TOTAL_SALARY\"]-X[\"AMOUNT_ANNUITY\"]\n",
    "    \n",
    "    #Отношение фин. показателей к возрасту и врем признакам\n",
    "    X[\"RATIO_ANNUITY_TO_AGE\"] = X[\"AMOUNT_ANNUITY\"] / X[\"AGE\"]\n",
    "    X[\"RATIO_CREDIT_TO_AGE\"] = X[\"AMOUNT_CREDIT\"] / X[\"AGE\"]\n",
    "    X[\"RATIO_SALARY_TO_AGE\"] = X[\"TOTAL_SALARY\"] / X[\"AGE\"]\n",
    "    X[\"RATIO_ANNUITY_TO_EXPERIENCE\"] = X[\"AMOUNT_ANNUITY\"] / X[\"DAYS_ON_LAST_JOB\"]\n",
    "    X[\"RATIO_CREDIT_TO_EXPERIENCE\"] = X[\"AMOUNT_CREDIT\"] / X[\"DAYS_ON_LAST_JOB\"]\n",
    "    X[\"RATIO_SALARY_TO_EXPERIENCE\"] = X[\"TOTAL_SALARY\"] / X[\"DAYS_ON_LAST_JOB\"]\n",
    "\n",
    "    #Отношение временных признаков\n",
    "    X[\"RATIO_AGE_TO_EXPERIENCE\"] = X[\"AGE\"] / X[\"DAYS_ON_LAST_JOB\"]\n",
    "    X[\"RATIO_SALARY_TO_REGION_POPULATION\"] = X[\"TOTAL_SALARY\"] * X[\"REGION_POPULATION\"]    \n",
    "    X[\"RATIO_CAR_TO_EXPERIENCE\"] = X[\"OWN_CAR_AGE\"] / X[\"DAYS_ON_LAST_JOB\"]    \n",
    "    X[\"RATIO_CAR_TO_AGE\"] = X[\"OWN_CAR_AGE\"] / X[\"AGE\"]\n",
    "\n",
    "    #Произведение фин. показателей кредита на вероятность дефолта (мат ожидание дефолта или ожидаемые потери)\n",
    "    X[\"EXPECTED_TOTAL_LOSS_1\"] = X[\"EXTERNAL_SCORING_RATING_1\"] * X[\"AMOUNT_CREDIT\"]\n",
    "    X[\"EXPECTED_TOTAL_LOSS_2\"] = X[\"EXTERNAL_SCORING_RATING_2\"] * X[\"AMOUNT_CREDIT\"]\n",
    "    X[\"EXPECTED_TOTAL_LOSS_3\"] = X[\"EXTERNAL_SCORING_RATING_3\"] * X[\"AMOUNT_CREDIT\"]\n",
    "    X[\"EXPECTED_MONTHLY_LOSS_1\"] = X[\"EXTERNAL_SCORING_RATING_1\"] * X[\"AMOUNT_ANNUITY\"]\n",
    "    X[\"EXPECTED_MONTHLY_LOSS_2\"] = X[\"EXTERNAL_SCORING_RATING_2\"] * X[\"AMOUNT_ANNUITY\"]\n",
    "    X[\"EXPECTED_MONTHLY_LOSS_3\"] = X[\"EXTERNAL_SCORING_RATING_3\"] * X[\"AMOUNT_ANNUITY\"]\n",
    "\n",
    "    #м.б закометарены\n",
    "    \n",
    "    \n",
    "    \n",
    "    X[\"EXTERNAL_SCORING_RATING_1_PLUS_2\"]=np.nansum(\n",
    "        X[[\"EXTERNAL_SCORING_RATING_1\",\"EXTERNAL_SCORING_RATING_2\"]], axis=1\n",
    "    )\n",
    "    X[\"EXTERNAL_SCORING_RATING_1_PLUS_3\"]=np.nansum(\n",
    "        X[[\"EXTERNAL_SCORING_RATING_1\",\"EXTERNAL_SCORING_RATING_3\"]], axis=1\n",
    "    )\n",
    "    \n",
    "    X[\"EXTERNAL_SCORING_RATING_2_PLUS_3\"]=np.nansum(\n",
    "        X[[\"EXTERNAL_SCORING_RATING_2\",\"EXTERNAL_SCORING_RATING_3\"]], axis=1\n",
    "    )\n",
    "    \n",
    "    \n",
    "    \n",
    "    X[\"EXTERNAL_SCORING_RATING_1_IS_NAN\"]=np.isnan(X[\"EXTERNAL_SCORING_RATING_1\"])\n",
    "    X[\"EXTERNAL_SCORING_RATING_2_IS_NAN\"]=np.isnan(X[\"EXTERNAL_SCORING_RATING_2\"])\n",
    "    X[\"EXTERNAL_SCORING_RATING_3_IS_NAN\"]=np.isnan(X[\"EXTERNAL_SCORING_RATING_3\"])\n",
    "    \n",
    "    \"\"\"\n",
    "    \"\"\"\n",
    "\n",
    "    #доп признаки\n",
    "    X[\"RATIO_CREDIT_PER_FAMILY_SIZE\"] = X[\"AMOUNT_CREDIT\"] / X[\"FAMILY_SIZE\"]\n",
    "    X[\"RATIO_CREDIT_PER_CHILDRENS\"] = X[\"AMOUNT_CREDIT\"] / (1+X[\"CHILDRENS\"])\n",
    "    X[\"RATIO_CHILDRENS_TO_FAMILY_SIZE\"] = X[\"CHILDRENS\"] / X[\"FAMILY_SIZE\"]\n",
    "    X[\"RATIO_SALARY_PER_FAMILY_SIZE\"] = X[\"TOTAL_SALARY\"] / X[\"FAMILY_SIZE\"]\n",
    "    X[\"RATIO_SALARY_PER_CHILD\"] = X[\"TOTAL_SALARY\"] / X[\"CHILDRENS\"]    \n",
    "    X[\"NON_CHILD\"] = X[\"FAMILY_SIZE\"] - X[\"CHILDRENS\"]    \n",
    "    X[\"RATIO_CHILD_TO_NON_CHILD\"] = X[\"CHILDRENS\"] / X[\"NON_CHILD\"]    \n",
    "    X[\"RATIO_SALARY_PER_NON_CHILD\"] = X[\"TOTAL_SALARY\"] / X[\"NON_CHILD\"]\n",
    "    X[\"RATIO_CREDIT_PER_NON_CHILD\"] = X[\"AMOUNT_CREDIT\"] / X[\"NON_CHILD\"]\n",
    "    \n",
    "    \n",
    "    \n",
    "    \n",
    "\n",
    "    return X\n",
    "    "
   ]
  },
  {
   "cell_type": "code",
   "execution_count": 30,
   "id": "595ac65f",
   "metadata": {},
   "outputs": [
    {
     "data": {
      "text/plain": [
       "Index(['APPLICATION_NUMBER', 'GENDER', 'CHILDRENS', 'TOTAL_SALARY',\n",
       "       'AMOUNT_CREDIT', 'AMOUNT_ANNUITY', 'EDUCATION_LEVEL', 'FAMILY_STATUS',\n",
       "       'REGION_POPULATION', 'AGE', 'DAYS_ON_LAST_JOB', 'OWN_CAR_AGE',\n",
       "       'FLAG_PHONE', 'FLAG_EMAIL', 'FAMILY_SIZE', 'EXTERNAL_SCORING_RATING_1',\n",
       "       'EXTERNAL_SCORING_RATING_2', 'EXTERNAL_SCORING_RATING_3',\n",
       "       'AMT_REQ_CREDIT_BUREAU_HOUR', 'AMT_REQ_CREDIT_BUREAU_DAY',\n",
       "       'AMT_REQ_CREDIT_BUREAU_WEEK', 'AMT_REQ_CREDIT_BUREAU_MON',\n",
       "       'AMT_REQ_CREDIT_BUREAU_QRT', 'AMT_REQ_CREDIT_BUREAU_YEAR'],\n",
       "      dtype='object')"
      ]
     },
     "execution_count": 30,
     "metadata": {},
     "output_type": "execute_result"
    }
   ],
   "source": [
    "client_profile.columns"
   ]
  },
  {
   "cell_type": "code",
   "execution_count": 31,
   "id": "088c8a00",
   "metadata": {},
   "outputs": [
    {
     "data": {
      "text/html": [
       "<div>\n",
       "<style scoped>\n",
       "    .dataframe tbody tr th:only-of-type {\n",
       "        vertical-align: middle;\n",
       "    }\n",
       "\n",
       "    .dataframe tbody tr th {\n",
       "        vertical-align: top;\n",
       "    }\n",
       "\n",
       "    .dataframe thead th {\n",
       "        text-align: right;\n",
       "    }\n",
       "</style>\n",
       "<table border=\"1\" class=\"dataframe\">\n",
       "  <thead>\n",
       "    <tr style=\"text-align: right;\">\n",
       "      <th></th>\n",
       "      <th>APPLICATION_NUMBER</th>\n",
       "      <th>GENDER</th>\n",
       "      <th>CHILDRENS</th>\n",
       "      <th>TOTAL_SALARY</th>\n",
       "      <th>AMOUNT_CREDIT</th>\n",
       "      <th>AMOUNT_ANNUITY</th>\n",
       "      <th>EDUCATION_LEVEL</th>\n",
       "      <th>FAMILY_STATUS</th>\n",
       "      <th>REGION_POPULATION</th>\n",
       "      <th>AGE</th>\n",
       "      <th>...</th>\n",
       "      <th>FAMILY_SIZE</th>\n",
       "      <th>EXTERNAL_SCORING_RATING_1</th>\n",
       "      <th>EXTERNAL_SCORING_RATING_2</th>\n",
       "      <th>EXTERNAL_SCORING_RATING_3</th>\n",
       "      <th>AMT_REQ_CREDIT_BUREAU_HOUR</th>\n",
       "      <th>AMT_REQ_CREDIT_BUREAU_DAY</th>\n",
       "      <th>AMT_REQ_CREDIT_BUREAU_WEEK</th>\n",
       "      <th>AMT_REQ_CREDIT_BUREAU_MON</th>\n",
       "      <th>AMT_REQ_CREDIT_BUREAU_QRT</th>\n",
       "      <th>AMT_REQ_CREDIT_BUREAU_YEAR</th>\n",
       "    </tr>\n",
       "  </thead>\n",
       "  <tbody>\n",
       "    <tr>\n",
       "      <th>0</th>\n",
       "      <td>123666076</td>\n",
       "      <td>F</td>\n",
       "      <td>0.0</td>\n",
       "      <td>157500.0</td>\n",
       "      <td>270000.0</td>\n",
       "      <td>13500.0</td>\n",
       "      <td>Incomplete higher</td>\n",
       "      <td>Civil marriage</td>\n",
       "      <td>0.008068</td>\n",
       "      <td>8560.0</td>\n",
       "      <td>...</td>\n",
       "      <td>2.0</td>\n",
       "      <td>0.329471</td>\n",
       "      <td>0.236315</td>\n",
       "      <td>0.678568</td>\n",
       "      <td>0.000000</td>\n",
       "      <td>0.000000</td>\n",
       "      <td>0.000000</td>\n",
       "      <td>0.000000</td>\n",
       "      <td>1.000000</td>\n",
       "      <td>2.000000</td>\n",
       "    </tr>\n",
       "    <tr>\n",
       "      <th>1</th>\n",
       "      <td>123423688</td>\n",
       "      <td>F</td>\n",
       "      <td>0.0</td>\n",
       "      <td>270000.0</td>\n",
       "      <td>536917.5</td>\n",
       "      <td>28467.0</td>\n",
       "      <td>Secondary / secondary special</td>\n",
       "      <td>Married</td>\n",
       "      <td>0.020246</td>\n",
       "      <td>23187.0</td>\n",
       "      <td>...</td>\n",
       "      <td>2.0</td>\n",
       "      <td>0.758282</td>\n",
       "      <td>0.442295</td>\n",
       "      <td>0.802745</td>\n",
       "      <td>0.000000</td>\n",
       "      <td>0.000000</td>\n",
       "      <td>0.000000</td>\n",
       "      <td>0.000000</td>\n",
       "      <td>1.000000</td>\n",
       "      <td>1.000000</td>\n",
       "    </tr>\n",
       "    <tr>\n",
       "      <th>2</th>\n",
       "      <td>123501780</td>\n",
       "      <td>M</td>\n",
       "      <td>1.0</td>\n",
       "      <td>427500.0</td>\n",
       "      <td>239850.0</td>\n",
       "      <td>23850.0</td>\n",
       "      <td>Incomplete higher</td>\n",
       "      <td>Married</td>\n",
       "      <td>0.072508</td>\n",
       "      <td>14387.0</td>\n",
       "      <td>...</td>\n",
       "      <td>3.0</td>\n",
       "      <td>0.409017</td>\n",
       "      <td>0.738159</td>\n",
       "      <td>0.491579</td>\n",
       "      <td>0.006862</td>\n",
       "      <td>0.006286</td>\n",
       "      <td>0.034368</td>\n",
       "      <td>0.459342</td>\n",
       "      <td>0.241681</td>\n",
       "      <td>1.972518</td>\n",
       "    </tr>\n",
       "    <tr>\n",
       "      <th>3</th>\n",
       "      <td>123588799</td>\n",
       "      <td>M</td>\n",
       "      <td>0.0</td>\n",
       "      <td>112500.0</td>\n",
       "      <td>254700.0</td>\n",
       "      <td>17149.5</td>\n",
       "      <td>Secondary / secondary special</td>\n",
       "      <td>Married</td>\n",
       "      <td>0.019101</td>\n",
       "      <td>14273.0</td>\n",
       "      <td>...</td>\n",
       "      <td>2.0</td>\n",
       "      <td>0.450509</td>\n",
       "      <td>0.308994</td>\n",
       "      <td>0.590233</td>\n",
       "      <td>0.000000</td>\n",
       "      <td>0.000000</td>\n",
       "      <td>0.000000</td>\n",
       "      <td>0.000000</td>\n",
       "      <td>0.000000</td>\n",
       "      <td>3.000000</td>\n",
       "    </tr>\n",
       "    <tr>\n",
       "      <th>4</th>\n",
       "      <td>123647485</td>\n",
       "      <td>M</td>\n",
       "      <td>0.0</td>\n",
       "      <td>130500.0</td>\n",
       "      <td>614574.0</td>\n",
       "      <td>19822.5</td>\n",
       "      <td>Lower secondary</td>\n",
       "      <td>Married</td>\n",
       "      <td>0.022625</td>\n",
       "      <td>22954.0</td>\n",
       "      <td>...</td>\n",
       "      <td>2.0</td>\n",
       "      <td>0.723691</td>\n",
       "      <td>0.739408</td>\n",
       "      <td>0.156640</td>\n",
       "      <td>0.000000</td>\n",
       "      <td>0.000000</td>\n",
       "      <td>1.000000</td>\n",
       "      <td>0.000000</td>\n",
       "      <td>0.000000</td>\n",
       "      <td>6.000000</td>\n",
       "    </tr>\n",
       "    <tr>\n",
       "      <th>...</th>\n",
       "      <td>...</td>\n",
       "      <td>...</td>\n",
       "      <td>...</td>\n",
       "      <td>...</td>\n",
       "      <td>...</td>\n",
       "      <td>...</td>\n",
       "      <td>...</td>\n",
       "      <td>...</td>\n",
       "      <td>...</td>\n",
       "      <td>...</td>\n",
       "      <td>...</td>\n",
       "      <td>...</td>\n",
       "      <td>...</td>\n",
       "      <td>...</td>\n",
       "      <td>...</td>\n",
       "      <td>...</td>\n",
       "      <td>...</td>\n",
       "      <td>...</td>\n",
       "      <td>...</td>\n",
       "      <td>...</td>\n",
       "      <td>...</td>\n",
       "    </tr>\n",
       "    <tr>\n",
       "      <th>249995</th>\n",
       "      <td>123657254</td>\n",
       "      <td>M</td>\n",
       "      <td>0.0</td>\n",
       "      <td>216000.0</td>\n",
       "      <td>45000.0</td>\n",
       "      <td>2425.5</td>\n",
       "      <td>Higher education</td>\n",
       "      <td>Married</td>\n",
       "      <td>0.018850</td>\n",
       "      <td>19150.0</td>\n",
       "      <td>...</td>\n",
       "      <td>2.0</td>\n",
       "      <td>0.555436</td>\n",
       "      <td>0.581592</td>\n",
       "      <td>0.048259</td>\n",
       "      <td>0.000000</td>\n",
       "      <td>0.000000</td>\n",
       "      <td>0.000000</td>\n",
       "      <td>0.000000</td>\n",
       "      <td>1.000000</td>\n",
       "      <td>3.000000</td>\n",
       "    </tr>\n",
       "    <tr>\n",
       "      <th>249996</th>\n",
       "      <td>123645397</td>\n",
       "      <td>M</td>\n",
       "      <td>0.0</td>\n",
       "      <td>103500.0</td>\n",
       "      <td>675000.0</td>\n",
       "      <td>28507.5</td>\n",
       "      <td>Higher education</td>\n",
       "      <td>Married</td>\n",
       "      <td>0.014520</td>\n",
       "      <td>19604.0</td>\n",
       "      <td>...</td>\n",
       "      <td>2.0</td>\n",
       "      <td>0.685357</td>\n",
       "      <td>0.676409</td>\n",
       "      <td>0.726711</td>\n",
       "      <td>0.000000</td>\n",
       "      <td>0.000000</td>\n",
       "      <td>0.000000</td>\n",
       "      <td>0.000000</td>\n",
       "      <td>0.000000</td>\n",
       "      <td>0.000000</td>\n",
       "    </tr>\n",
       "    <tr>\n",
       "      <th>249997</th>\n",
       "      <td>123504053</td>\n",
       "      <td>M</td>\n",
       "      <td>0.0</td>\n",
       "      <td>202500.0</td>\n",
       "      <td>1078200.0</td>\n",
       "      <td>38331.0</td>\n",
       "      <td>Secondary / secondary special</td>\n",
       "      <td>Single / not married</td>\n",
       "      <td>0.031329</td>\n",
       "      <td>8351.0</td>\n",
       "      <td>...</td>\n",
       "      <td>1.0</td>\n",
       "      <td>0.269227</td>\n",
       "      <td>0.353665</td>\n",
       "      <td>0.283712</td>\n",
       "      <td>0.000000</td>\n",
       "      <td>0.000000</td>\n",
       "      <td>0.000000</td>\n",
       "      <td>0.000000</td>\n",
       "      <td>1.000000</td>\n",
       "      <td>4.000000</td>\n",
       "    </tr>\n",
       "    <tr>\n",
       "      <th>249998</th>\n",
       "      <td>123547316</td>\n",
       "      <td>F</td>\n",
       "      <td>0.0</td>\n",
       "      <td>135000.0</td>\n",
       "      <td>500211.0</td>\n",
       "      <td>38839.5</td>\n",
       "      <td>Secondary / secondary special</td>\n",
       "      <td>Married</td>\n",
       "      <td>0.030755</td>\n",
       "      <td>13277.0</td>\n",
       "      <td>...</td>\n",
       "      <td>2.0</td>\n",
       "      <td>0.305746</td>\n",
       "      <td>0.682462</td>\n",
       "      <td>0.639708</td>\n",
       "      <td>0.000000</td>\n",
       "      <td>0.000000</td>\n",
       "      <td>0.000000</td>\n",
       "      <td>0.000000</td>\n",
       "      <td>0.000000</td>\n",
       "      <td>3.000000</td>\n",
       "    </tr>\n",
       "    <tr>\n",
       "      <th>249999</th>\n",
       "      <td>123616787</td>\n",
       "      <td>F</td>\n",
       "      <td>0.0</td>\n",
       "      <td>270000.0</td>\n",
       "      <td>573408.0</td>\n",
       "      <td>35077.5</td>\n",
       "      <td>Incomplete higher</td>\n",
       "      <td>Separated</td>\n",
       "      <td>0.072508</td>\n",
       "      <td>18334.0</td>\n",
       "      <td>...</td>\n",
       "      <td>1.0</td>\n",
       "      <td>0.646046</td>\n",
       "      <td>0.708573</td>\n",
       "      <td>0.528093</td>\n",
       "      <td>0.000000</td>\n",
       "      <td>0.000000</td>\n",
       "      <td>0.000000</td>\n",
       "      <td>0.000000</td>\n",
       "      <td>0.000000</td>\n",
       "      <td>7.000000</td>\n",
       "    </tr>\n",
       "  </tbody>\n",
       "</table>\n",
       "<p>250000 rows × 24 columns</p>\n",
       "</div>"
      ],
      "text/plain": [
       "        APPLICATION_NUMBER GENDER  CHILDRENS  TOTAL_SALARY  AMOUNT_CREDIT  \\\n",
       "0                123666076      F        0.0      157500.0       270000.0   \n",
       "1                123423688      F        0.0      270000.0       536917.5   \n",
       "2                123501780      M        1.0      427500.0       239850.0   \n",
       "3                123588799      M        0.0      112500.0       254700.0   \n",
       "4                123647485      M        0.0      130500.0       614574.0   \n",
       "...                    ...    ...        ...           ...            ...   \n",
       "249995           123657254      M        0.0      216000.0        45000.0   \n",
       "249996           123645397      M        0.0      103500.0       675000.0   \n",
       "249997           123504053      M        0.0      202500.0      1078200.0   \n",
       "249998           123547316      F        0.0      135000.0       500211.0   \n",
       "249999           123616787      F        0.0      270000.0       573408.0   \n",
       "\n",
       "        AMOUNT_ANNUITY                EDUCATION_LEVEL         FAMILY_STATUS  \\\n",
       "0              13500.0              Incomplete higher        Civil marriage   \n",
       "1              28467.0  Secondary / secondary special               Married   \n",
       "2              23850.0              Incomplete higher               Married   \n",
       "3              17149.5  Secondary / secondary special               Married   \n",
       "4              19822.5                Lower secondary               Married   \n",
       "...                ...                            ...                   ...   \n",
       "249995          2425.5               Higher education               Married   \n",
       "249996         28507.5               Higher education               Married   \n",
       "249997         38331.0  Secondary / secondary special  Single / not married   \n",
       "249998         38839.5  Secondary / secondary special               Married   \n",
       "249999         35077.5              Incomplete higher             Separated   \n",
       "\n",
       "        REGION_POPULATION      AGE  ...  FAMILY_SIZE  \\\n",
       "0                0.008068   8560.0  ...          2.0   \n",
       "1                0.020246  23187.0  ...          2.0   \n",
       "2                0.072508  14387.0  ...          3.0   \n",
       "3                0.019101  14273.0  ...          2.0   \n",
       "4                0.022625  22954.0  ...          2.0   \n",
       "...                   ...      ...  ...          ...   \n",
       "249995           0.018850  19150.0  ...          2.0   \n",
       "249996           0.014520  19604.0  ...          2.0   \n",
       "249997           0.031329   8351.0  ...          1.0   \n",
       "249998           0.030755  13277.0  ...          2.0   \n",
       "249999           0.072508  18334.0  ...          1.0   \n",
       "\n",
       "        EXTERNAL_SCORING_RATING_1  EXTERNAL_SCORING_RATING_2  \\\n",
       "0                        0.329471                   0.236315   \n",
       "1                        0.758282                   0.442295   \n",
       "2                        0.409017                   0.738159   \n",
       "3                        0.450509                   0.308994   \n",
       "4                        0.723691                   0.739408   \n",
       "...                           ...                        ...   \n",
       "249995                   0.555436                   0.581592   \n",
       "249996                   0.685357                   0.676409   \n",
       "249997                   0.269227                   0.353665   \n",
       "249998                   0.305746                   0.682462   \n",
       "249999                   0.646046                   0.708573   \n",
       "\n",
       "        EXTERNAL_SCORING_RATING_3  AMT_REQ_CREDIT_BUREAU_HOUR  \\\n",
       "0                        0.678568                    0.000000   \n",
       "1                        0.802745                    0.000000   \n",
       "2                        0.491579                    0.006862   \n",
       "3                        0.590233                    0.000000   \n",
       "4                        0.156640                    0.000000   \n",
       "...                           ...                         ...   \n",
       "249995                   0.048259                    0.000000   \n",
       "249996                   0.726711                    0.000000   \n",
       "249997                   0.283712                    0.000000   \n",
       "249998                   0.639708                    0.000000   \n",
       "249999                   0.528093                    0.000000   \n",
       "\n",
       "        AMT_REQ_CREDIT_BUREAU_DAY  AMT_REQ_CREDIT_BUREAU_WEEK  \\\n",
       "0                        0.000000                    0.000000   \n",
       "1                        0.000000                    0.000000   \n",
       "2                        0.006286                    0.034368   \n",
       "3                        0.000000                    0.000000   \n",
       "4                        0.000000                    1.000000   \n",
       "...                           ...                         ...   \n",
       "249995                   0.000000                    0.000000   \n",
       "249996                   0.000000                    0.000000   \n",
       "249997                   0.000000                    0.000000   \n",
       "249998                   0.000000                    0.000000   \n",
       "249999                   0.000000                    0.000000   \n",
       "\n",
       "        AMT_REQ_CREDIT_BUREAU_MON  AMT_REQ_CREDIT_BUREAU_QRT  \\\n",
       "0                        0.000000                   1.000000   \n",
       "1                        0.000000                   1.000000   \n",
       "2                        0.459342                   0.241681   \n",
       "3                        0.000000                   0.000000   \n",
       "4                        0.000000                   0.000000   \n",
       "...                           ...                        ...   \n",
       "249995                   0.000000                   1.000000   \n",
       "249996                   0.000000                   0.000000   \n",
       "249997                   0.000000                   1.000000   \n",
       "249998                   0.000000                   0.000000   \n",
       "249999                   0.000000                   0.000000   \n",
       "\n",
       "        AMT_REQ_CREDIT_BUREAU_YEAR  \n",
       "0                         2.000000  \n",
       "1                         1.000000  \n",
       "2                         1.972518  \n",
       "3                         3.000000  \n",
       "4                         6.000000  \n",
       "...                            ...  \n",
       "249995                    3.000000  \n",
       "249996                    0.000000  \n",
       "249997                    4.000000  \n",
       "249998                    3.000000  \n",
       "249999                    7.000000  \n",
       "\n",
       "[250000 rows x 24 columns]"
      ]
     },
     "execution_count": 31,
     "metadata": {},
     "output_type": "execute_result"
    }
   ],
   "source": [
    "client_profile"
   ]
  },
  {
   "cell_type": "code",
   "execution_count": 32,
   "id": "f3f051d8",
   "metadata": {},
   "outputs": [
    {
     "name": "stderr",
     "output_type": "stream",
     "text": [
      "C:\\Users\\Windows\\AppData\\Local\\Temp/ipykernel_11268/2666864051.py:1: FutureWarning: Sorting because non-concatenation axis is not aligned. A future version\n",
      "of pandas will change to not sort by default.\n",
      "\n",
      "To accept the future behavior, pass 'sort=False'.\n",
      "\n",
      "To retain the current behavior and silence the warning, pass 'sort=True'.\n",
      "\n",
      "  data=pd.concat([train,test],axis=0)\n"
     ]
    }
   ],
   "source": [
    "data=pd.concat([train,test],axis=0)\n",
    "data = data.reset_index(drop=True)"
   ]
  },
  {
   "cell_type": "code",
   "execution_count": 33,
   "id": "d5754132",
   "metadata": {},
   "outputs": [],
   "source": [
    "client_profile=create_client_profile_features(client_profile)"
   ]
  },
  {
   "cell_type": "code",
   "execution_count": 34,
   "id": "dd5f17df",
   "metadata": {},
   "outputs": [],
   "source": [
    "data=data.merge(client_profile, how=\"left\", on=\"APPLICATION_NUMBER\")"
   ]
  },
  {
   "cell_type": "code",
   "execution_count": 35,
   "id": "d6736baf",
   "metadata": {},
   "outputs": [
    {
     "data": {
      "text/plain": [
       "(275234, 70)"
      ]
     },
     "execution_count": 35,
     "metadata": {},
     "output_type": "execute_result"
    }
   ],
   "source": [
    "data.shape"
   ]
  },
  {
   "cell_type": "code",
   "execution_count": 36,
   "id": "79df787f",
   "metadata": {},
   "outputs": [],
   "source": [
    "def get_splitted_data(data:pd.DataFrame, target_name:str, join_feature_name:str):\n",
    "                       \n",
    "    \"\"\"\n",
    "    Получить разбивку на train, test, target, test_id, categorical,numerical\n",
    "\n",
    "    Parameters\n",
    "    ----------\n",
    "    data: pd.DataFrame\n",
    "        Матрица признаков общаяя.\n",
    "   \n",
    "    target_name: str\n",
    "        имя поля целевого признака\n",
    "    \n",
    "    join_feature_name: str\n",
    "        имя поля признака по которому будем соединять тест\n",
    "\n",
    "\n",
    "    Returns\n",
    "    -------\n",
    "    train: pd.DataFrame\n",
    "        Полная часть - вся учебная выборка.\n",
    "\n",
    "    test: pd.DataFrame\n",
    "        Полная часть - вся тестовая выборка.\n",
    "        \n",
    "    target:pd.core.series.Series\n",
    "        значение целевой переменной\n",
    "        \n",
    "    test_id:pd.core.series.Series\n",
    "        значение признака по которому будем соединять тест\n",
    "    \n",
    "    categorical: list\n",
    "        Список имен полей категориальных признаков\n",
    "    \n",
    "    numerical: list\n",
    "        Список имен полей числовых признаков\n",
    "    \n",
    "        \n",
    "    \"\"\"\n",
    "    \n",
    "    mask=data[target_name].isnull()\n",
    "    feature_to_drop=[join_feature_name,target_name]\n",
    "\n",
    "    train,test=data.loc[~mask],data.loc[mask]\n",
    "\n",
    "    target,test_id=train[target_name],test[join_feature_name]\n",
    "    train=train.drop(feature_to_drop,axis=1)\n",
    "    test=test.drop(feature_to_drop,axis=1)\n",
    "\n",
    "    categorical = train.dtypes[train.dtypes==\"object\"].index.tolist()\n",
    "    numerical=list(set(train.columns)-set(categorical))\n",
    "\n",
    "    train=train.replace(np.inf,np.nan)\n",
    "    train=train.replace(-np.inf,np.nan)\n",
    "    \n",
    "    return train, test, target, test_id, categorical,numerical"
   ]
  },
  {
   "cell_type": "code",
   "execution_count": 37,
   "id": "d3bcbb87",
   "metadata": {},
   "outputs": [],
   "source": [
    "train, test, target, test_id, categorical,numerical = get_splitted_data(\n",
    "    data, target_name=\"TARGET\", join_feature_name=\"APPLICATION_NUMBER\")"
   ]
  },
  {
   "cell_type": "code",
   "execution_count": 230,
   "id": "eb4868e1",
   "metadata": {},
   "outputs": [],
   "source": [
    "lgbm_params = {\n",
    "    \"boosting_type\": \"gbdt\",\n",
    "    \"objective\": \"binary\",\n",
    "    \"metric\": \"auc\",\n",
    "    \"learning_rate\": 0.01,\n",
    "    \"n_estimators\": 10000,\n",
    "    \"n_jobs\": 7,\n",
    "    \"seed\": 27,\n",
    "    \"early_stopping_rounds\":500,\n",
    "    'num_leaves': 57,\n",
    "    'max_depth': 8,\n",
    "    'subsample_for_bin': 200000,\n",
    "    'reg_alpha': 0.436193,\n",
    "    'reg_lambda': 0.479169,\n",
    "    'colsample_bytree': 0.508716,\n",
    "    'min_split_gain': 0.024766,\n",
    "    'subsample': 0.7,\n",
    "    'is_unbalance': False,\n",
    "    'random_state': 27,\n",
    "}"
   ]
  },
  {
   "cell_type": "code",
   "execution_count": 39,
   "id": "a3324cfd",
   "metadata": {},
   "outputs": [],
   "source": [
    "train[categorical]=train[categorical].fillna('NA')\n",
    "test[categorical]=test[categorical].fillna('NA')"
   ]
  },
  {
   "cell_type": "code",
   "execution_count": 40,
   "id": "b5282328",
   "metadata": {},
   "outputs": [],
   "source": [
    "for c in categorical:\n",
    "    train[c] = train[c].astype('category')\n",
    "for c in categorical:\n",
    "    test[c] = test[c].astype('category')"
   ]
  },
  {
   "cell_type": "code",
   "execution_count": 54,
   "id": "fafbc2a2",
   "metadata": {},
   "outputs": [],
   "source": [
    " model = lgb.LGBMClassifier(**lgbm_params)"
   ]
  },
  {
   "cell_type": "code",
   "execution_count": 55,
   "id": "584c3f4d",
   "metadata": {},
   "outputs": [
    {
     "name": "stderr",
     "output_type": "stream",
     "text": [
      "C:\\Users\\Windows\\.conda\\envs\\tf\\lib\\site-packages\\lightgbm\\sklearn.py:726: UserWarning: 'early_stopping_rounds' argument is deprecated and will be removed in a future release of LightGBM. Pass 'early_stopping()' callback via 'callbacks' argument instead.\n",
      "  _log_warning(\"'early_stopping_rounds' argument is deprecated and will be removed in a future release of LightGBM. \"\n",
      "C:\\Users\\Windows\\.conda\\envs\\tf\\lib\\site-packages\\lightgbm\\sklearn.py:736: UserWarning: 'verbose' argument is deprecated and will be removed in a future release of LightGBM. Pass 'log_evaluation()' callback via 'callbacks' argument instead.\n",
      "  _log_warning(\"'verbose' argument is deprecated and will be removed in a future release of LightGBM. \"\n",
      "C:\\Users\\Windows\\.conda\\envs\\tf\\lib\\site-packages\\lightgbm\\basic.py:2065: UserWarning: Using categorical_feature in Dataset.\n",
      "  _log_warning('Using categorical_feature in Dataset.')\n",
      "C:\\Users\\Windows\\.conda\\envs\\tf\\lib\\site-packages\\lightgbm\\basic.py:2068: UserWarning: categorical_feature in Dataset is overridden.\n",
      "New categorical_feature is ['EDUCATION_LEVEL', 'EXTERNAL_SCORING_RATING_1_IS_NAN', 'EXTERNAL_SCORING_RATING_2_IS_NAN', 'EXTERNAL_SCORING_RATING_3_IS_NAN', 'FAMILY_STATUS', 'GENDER', 'NAME_CONTRACT_TYPE']\n",
      "  _log_warning('categorical_feature in Dataset is overridden.\\n'\n"
     ]
    },
    {
     "name": "stdout",
     "output_type": "stream",
     "text": [
      "[LightGBM] [Warning] seed is set=27, random_state=27 will be ignored. Current value: seed=27\n",
      "[LightGBM] [Warning] early_stopping_round is set=500, early_stopping_rounds=500 will be ignored. Current value: early_stopping_round=500\n"
     ]
    },
    {
     "name": "stderr",
     "output_type": "stream",
     "text": [
      "C:\\Users\\Windows\\.conda\\envs\\tf\\lib\\site-packages\\lightgbm\\basic.py:1780: UserWarning: Overriding the parameters from Reference Dataset.\n",
      "  _log_warning('Overriding the parameters from Reference Dataset.')\n",
      "C:\\Users\\Windows\\.conda\\envs\\tf\\lib\\site-packages\\lightgbm\\basic.py:1513: UserWarning: categorical_column in param dict is overridden.\n",
      "  _log_warning(f'{cat_alias} in param dict is overridden.')\n"
     ]
    },
    {
     "name": "stdout",
     "output_type": "stream",
     "text": [
      "[200]\ttraining's auc: 0.763778\tvalid_1's auc: 0.714125\n",
      "[400]\ttraining's auc: 0.794745\tvalid_1's auc: 0.720975\n",
      "[600]\ttraining's auc: 0.818907\tvalid_1's auc: 0.724648\n",
      "[800]\ttraining's auc: 0.83728\tvalid_1's auc: 0.724385\n",
      "[1000]\ttraining's auc: 0.853685\tvalid_1's auc: 0.724267\n",
      "Fold: 1, train-observations = 104588, valid-observations = 5505\n",
      "train-score = 0.8205, valid-score = 0.7253\n",
      "=====================================================================\n",
      "[LightGBM] [Warning] seed is set=27, random_state=27 will be ignored. Current value: seed=27\n",
      "[LightGBM] [Warning] early_stopping_round is set=500, early_stopping_rounds=500 will be ignored. Current value: early_stopping_round=500\n"
     ]
    },
    {
     "name": "stderr",
     "output_type": "stream",
     "text": [
      "C:\\Users\\Windows\\.conda\\envs\\tf\\lib\\site-packages\\lightgbm\\sklearn.py:726: UserWarning: 'early_stopping_rounds' argument is deprecated and will be removed in a future release of LightGBM. Pass 'early_stopping()' callback via 'callbacks' argument instead.\n",
      "  _log_warning(\"'early_stopping_rounds' argument is deprecated and will be removed in a future release of LightGBM. \"\n",
      "C:\\Users\\Windows\\.conda\\envs\\tf\\lib\\site-packages\\lightgbm\\sklearn.py:736: UserWarning: 'verbose' argument is deprecated and will be removed in a future release of LightGBM. Pass 'log_evaluation()' callback via 'callbacks' argument instead.\n",
      "  _log_warning(\"'verbose' argument is deprecated and will be removed in a future release of LightGBM. \"\n",
      "C:\\Users\\Windows\\.conda\\envs\\tf\\lib\\site-packages\\lightgbm\\basic.py:2065: UserWarning: Using categorical_feature in Dataset.\n",
      "  _log_warning('Using categorical_feature in Dataset.')\n",
      "C:\\Users\\Windows\\.conda\\envs\\tf\\lib\\site-packages\\lightgbm\\basic.py:2068: UserWarning: categorical_feature in Dataset is overridden.\n",
      "New categorical_feature is ['EDUCATION_LEVEL', 'EXTERNAL_SCORING_RATING_1_IS_NAN', 'EXTERNAL_SCORING_RATING_2_IS_NAN', 'EXTERNAL_SCORING_RATING_3_IS_NAN', 'FAMILY_STATUS', 'GENDER', 'NAME_CONTRACT_TYPE']\n",
      "  _log_warning('categorical_feature in Dataset is overridden.\\n'\n",
      "C:\\Users\\Windows\\.conda\\envs\\tf\\lib\\site-packages\\lightgbm\\basic.py:1780: UserWarning: Overriding the parameters from Reference Dataset.\n",
      "  _log_warning('Overriding the parameters from Reference Dataset.')\n",
      "C:\\Users\\Windows\\.conda\\envs\\tf\\lib\\site-packages\\lightgbm\\basic.py:1513: UserWarning: categorical_column in param dict is overridden.\n",
      "  _log_warning(f'{cat_alias} in param dict is overridden.')\n"
     ]
    },
    {
     "name": "stdout",
     "output_type": "stream",
     "text": [
      "[200]\ttraining's auc: 0.76439\tvalid_1's auc: 0.708987\n",
      "[400]\ttraining's auc: 0.795177\tvalid_1's auc: 0.720182\n",
      "[600]\ttraining's auc: 0.819345\tvalid_1's auc: 0.722238\n",
      "[800]\ttraining's auc: 0.838071\tvalid_1's auc: 0.721496\n",
      "[1000]\ttraining's auc: 0.853672\tvalid_1's auc: 0.721613\n",
      "[1200]\ttraining's auc: 0.868552\tvalid_1's auc: 0.721556\n",
      "[1400]\ttraining's auc: 0.882609\tvalid_1's auc: 0.720887\n",
      "Fold: 2, train-observations = 104588, valid-observations = 5505\n",
      "train-score = 0.8556, valid-score = 0.7227\n",
      "=====================================================================\n",
      "[LightGBM] [Warning] seed is set=27, random_state=27 will be ignored. Current value: seed=27\n",
      "[LightGBM] [Warning] early_stopping_round is set=500, early_stopping_rounds=500 will be ignored. Current value: early_stopping_round=500\n"
     ]
    },
    {
     "name": "stderr",
     "output_type": "stream",
     "text": [
      "C:\\Users\\Windows\\.conda\\envs\\tf\\lib\\site-packages\\lightgbm\\sklearn.py:726: UserWarning: 'early_stopping_rounds' argument is deprecated and will be removed in a future release of LightGBM. Pass 'early_stopping()' callback via 'callbacks' argument instead.\n",
      "  _log_warning(\"'early_stopping_rounds' argument is deprecated and will be removed in a future release of LightGBM. \"\n",
      "C:\\Users\\Windows\\.conda\\envs\\tf\\lib\\site-packages\\lightgbm\\sklearn.py:736: UserWarning: 'verbose' argument is deprecated and will be removed in a future release of LightGBM. Pass 'log_evaluation()' callback via 'callbacks' argument instead.\n",
      "  _log_warning(\"'verbose' argument is deprecated and will be removed in a future release of LightGBM. \"\n",
      "C:\\Users\\Windows\\.conda\\envs\\tf\\lib\\site-packages\\lightgbm\\basic.py:2065: UserWarning: Using categorical_feature in Dataset.\n",
      "  _log_warning('Using categorical_feature in Dataset.')\n",
      "C:\\Users\\Windows\\.conda\\envs\\tf\\lib\\site-packages\\lightgbm\\basic.py:2068: UserWarning: categorical_feature in Dataset is overridden.\n",
      "New categorical_feature is ['EDUCATION_LEVEL', 'EXTERNAL_SCORING_RATING_1_IS_NAN', 'EXTERNAL_SCORING_RATING_2_IS_NAN', 'EXTERNAL_SCORING_RATING_3_IS_NAN', 'FAMILY_STATUS', 'GENDER', 'NAME_CONTRACT_TYPE']\n",
      "  _log_warning('categorical_feature in Dataset is overridden.\\n'\n",
      "C:\\Users\\Windows\\.conda\\envs\\tf\\lib\\site-packages\\lightgbm\\basic.py:1780: UserWarning: Overriding the parameters from Reference Dataset.\n",
      "  _log_warning('Overriding the parameters from Reference Dataset.')\n",
      "C:\\Users\\Windows\\.conda\\envs\\tf\\lib\\site-packages\\lightgbm\\basic.py:1513: UserWarning: categorical_column in param dict is overridden.\n",
      "  _log_warning(f'{cat_alias} in param dict is overridden.')\n"
     ]
    },
    {
     "name": "stdout",
     "output_type": "stream",
     "text": [
      "[200]\ttraining's auc: 0.764518\tvalid_1's auc: 0.729777\n",
      "[400]\ttraining's auc: 0.795023\tvalid_1's auc: 0.728227\n",
      "[600]\ttraining's auc: 0.817831\tvalid_1's auc: 0.728307\n",
      "Fold: 3, train-observations = 104588, valid-observations = 5505\n",
      "train-score = 0.7645, valid-score = 0.7298\n",
      "=====================================================================\n",
      "[LightGBM] [Warning] seed is set=27, random_state=27 will be ignored. Current value: seed=27\n",
      "[LightGBM] [Warning] early_stopping_round is set=500, early_stopping_rounds=500 will be ignored. Current value: early_stopping_round=500\n"
     ]
    },
    {
     "name": "stderr",
     "output_type": "stream",
     "text": [
      "C:\\Users\\Windows\\.conda\\envs\\tf\\lib\\site-packages\\lightgbm\\sklearn.py:726: UserWarning: 'early_stopping_rounds' argument is deprecated and will be removed in a future release of LightGBM. Pass 'early_stopping()' callback via 'callbacks' argument instead.\n",
      "  _log_warning(\"'early_stopping_rounds' argument is deprecated and will be removed in a future release of LightGBM. \"\n",
      "C:\\Users\\Windows\\.conda\\envs\\tf\\lib\\site-packages\\lightgbm\\sklearn.py:736: UserWarning: 'verbose' argument is deprecated and will be removed in a future release of LightGBM. Pass 'log_evaluation()' callback via 'callbacks' argument instead.\n",
      "  _log_warning(\"'verbose' argument is deprecated and will be removed in a future release of LightGBM. \"\n",
      "C:\\Users\\Windows\\.conda\\envs\\tf\\lib\\site-packages\\lightgbm\\basic.py:2065: UserWarning: Using categorical_feature in Dataset.\n",
      "  _log_warning('Using categorical_feature in Dataset.')\n",
      "C:\\Users\\Windows\\.conda\\envs\\tf\\lib\\site-packages\\lightgbm\\basic.py:2068: UserWarning: categorical_feature in Dataset is overridden.\n",
      "New categorical_feature is ['EDUCATION_LEVEL', 'EXTERNAL_SCORING_RATING_1_IS_NAN', 'EXTERNAL_SCORING_RATING_2_IS_NAN', 'EXTERNAL_SCORING_RATING_3_IS_NAN', 'FAMILY_STATUS', 'GENDER', 'NAME_CONTRACT_TYPE']\n",
      "  _log_warning('categorical_feature in Dataset is overridden.\\n'\n",
      "C:\\Users\\Windows\\.conda\\envs\\tf\\lib\\site-packages\\lightgbm\\basic.py:1780: UserWarning: Overriding the parameters from Reference Dataset.\n",
      "  _log_warning('Overriding the parameters from Reference Dataset.')\n",
      "C:\\Users\\Windows\\.conda\\envs\\tf\\lib\\site-packages\\lightgbm\\basic.py:1513: UserWarning: categorical_column in param dict is overridden.\n",
      "  _log_warning(f'{cat_alias} in param dict is overridden.')\n"
     ]
    },
    {
     "name": "stdout",
     "output_type": "stream",
     "text": [
      "[200]\ttraining's auc: 0.763873\tvalid_1's auc: 0.722738\n",
      "[400]\ttraining's auc: 0.794693\tvalid_1's auc: 0.7308\n",
      "[600]\ttraining's auc: 0.818078\tvalid_1's auc: 0.732849\n",
      "[800]\ttraining's auc: 0.836817\tvalid_1's auc: 0.732825\n",
      "[1000]\ttraining's auc: 0.852839\tvalid_1's auc: 0.734248\n",
      "[1200]\ttraining's auc: 0.866708\tvalid_1's auc: 0.733525\n",
      "[1400]\ttraining's auc: 0.879059\tvalid_1's auc: 0.73404\n",
      "Fold: 4, train-observations = 104588, valid-observations = 5505\n",
      "train-score = 0.8578, valid-score = 0.735\n",
      "=====================================================================\n",
      "[LightGBM] [Warning] seed is set=27, random_state=27 will be ignored. Current value: seed=27\n",
      "[LightGBM] [Warning] early_stopping_round is set=500, early_stopping_rounds=500 will be ignored. Current value: early_stopping_round=500\n"
     ]
    },
    {
     "name": "stderr",
     "output_type": "stream",
     "text": [
      "C:\\Users\\Windows\\.conda\\envs\\tf\\lib\\site-packages\\lightgbm\\sklearn.py:726: UserWarning: 'early_stopping_rounds' argument is deprecated and will be removed in a future release of LightGBM. Pass 'early_stopping()' callback via 'callbacks' argument instead.\n",
      "  _log_warning(\"'early_stopping_rounds' argument is deprecated and will be removed in a future release of LightGBM. \"\n",
      "C:\\Users\\Windows\\.conda\\envs\\tf\\lib\\site-packages\\lightgbm\\sklearn.py:736: UserWarning: 'verbose' argument is deprecated and will be removed in a future release of LightGBM. Pass 'log_evaluation()' callback via 'callbacks' argument instead.\n",
      "  _log_warning(\"'verbose' argument is deprecated and will be removed in a future release of LightGBM. \"\n",
      "C:\\Users\\Windows\\.conda\\envs\\tf\\lib\\site-packages\\lightgbm\\basic.py:2065: UserWarning: Using categorical_feature in Dataset.\n",
      "  _log_warning('Using categorical_feature in Dataset.')\n",
      "C:\\Users\\Windows\\.conda\\envs\\tf\\lib\\site-packages\\lightgbm\\basic.py:2068: UserWarning: categorical_feature in Dataset is overridden.\n",
      "New categorical_feature is ['EDUCATION_LEVEL', 'EXTERNAL_SCORING_RATING_1_IS_NAN', 'EXTERNAL_SCORING_RATING_2_IS_NAN', 'EXTERNAL_SCORING_RATING_3_IS_NAN', 'FAMILY_STATUS', 'GENDER', 'NAME_CONTRACT_TYPE']\n",
      "  _log_warning('categorical_feature in Dataset is overridden.\\n'\n",
      "C:\\Users\\Windows\\.conda\\envs\\tf\\lib\\site-packages\\lightgbm\\basic.py:1780: UserWarning: Overriding the parameters from Reference Dataset.\n",
      "  _log_warning('Overriding the parameters from Reference Dataset.')\n",
      "C:\\Users\\Windows\\.conda\\envs\\tf\\lib\\site-packages\\lightgbm\\basic.py:1513: UserWarning: categorical_column in param dict is overridden.\n",
      "  _log_warning(f'{cat_alias} in param dict is overridden.')\n"
     ]
    },
    {
     "name": "stdout",
     "output_type": "stream",
     "text": [
      "[200]\ttraining's auc: 0.763852\tvalid_1's auc: 0.721292\n",
      "[400]\ttraining's auc: 0.795315\tvalid_1's auc: 0.727147\n",
      "[600]\ttraining's auc: 0.820651\tvalid_1's auc: 0.728892\n",
      "[800]\ttraining's auc: 0.840483\tvalid_1's auc: 0.730595\n",
      "[1000]\ttraining's auc: 0.857289\tvalid_1's auc: 0.732093\n",
      "[1200]\ttraining's auc: 0.871711\tvalid_1's auc: 0.732016\n",
      "[1400]\ttraining's auc: 0.884016\tvalid_1's auc: 0.729525\n",
      "Fold: 5, train-observations = 104588, valid-observations = 5505\n",
      "train-score = 0.8624, valid-score = 0.7332\n",
      "=====================================================================\n",
      "[LightGBM] [Warning] seed is set=27, random_state=27 will be ignored. Current value: seed=27\n",
      "[LightGBM] [Warning] early_stopping_round is set=500, early_stopping_rounds=500 will be ignored. Current value: early_stopping_round=500\n"
     ]
    },
    {
     "name": "stderr",
     "output_type": "stream",
     "text": [
      "C:\\Users\\Windows\\.conda\\envs\\tf\\lib\\site-packages\\lightgbm\\sklearn.py:726: UserWarning: 'early_stopping_rounds' argument is deprecated and will be removed in a future release of LightGBM. Pass 'early_stopping()' callback via 'callbacks' argument instead.\n",
      "  _log_warning(\"'early_stopping_rounds' argument is deprecated and will be removed in a future release of LightGBM. \"\n",
      "C:\\Users\\Windows\\.conda\\envs\\tf\\lib\\site-packages\\lightgbm\\sklearn.py:736: UserWarning: 'verbose' argument is deprecated and will be removed in a future release of LightGBM. Pass 'log_evaluation()' callback via 'callbacks' argument instead.\n",
      "  _log_warning(\"'verbose' argument is deprecated and will be removed in a future release of LightGBM. \"\n",
      "C:\\Users\\Windows\\.conda\\envs\\tf\\lib\\site-packages\\lightgbm\\basic.py:2065: UserWarning: Using categorical_feature in Dataset.\n",
      "  _log_warning('Using categorical_feature in Dataset.')\n",
      "C:\\Users\\Windows\\.conda\\envs\\tf\\lib\\site-packages\\lightgbm\\basic.py:2068: UserWarning: categorical_feature in Dataset is overridden.\n",
      "New categorical_feature is ['EDUCATION_LEVEL', 'EXTERNAL_SCORING_RATING_1_IS_NAN', 'EXTERNAL_SCORING_RATING_2_IS_NAN', 'EXTERNAL_SCORING_RATING_3_IS_NAN', 'FAMILY_STATUS', 'GENDER', 'NAME_CONTRACT_TYPE']\n",
      "  _log_warning('categorical_feature in Dataset is overridden.\\n'\n",
      "C:\\Users\\Windows\\.conda\\envs\\tf\\lib\\site-packages\\lightgbm\\basic.py:1780: UserWarning: Overriding the parameters from Reference Dataset.\n",
      "  _log_warning('Overriding the parameters from Reference Dataset.')\n",
      "C:\\Users\\Windows\\.conda\\envs\\tf\\lib\\site-packages\\lightgbm\\basic.py:1513: UserWarning: categorical_column in param dict is overridden.\n",
      "  _log_warning(f'{cat_alias} in param dict is overridden.')\n"
     ]
    },
    {
     "name": "stdout",
     "output_type": "stream",
     "text": [
      "[200]\ttraining's auc: 0.763932\tvalid_1's auc: 0.720072\n",
      "[400]\ttraining's auc: 0.794204\tvalid_1's auc: 0.724287\n",
      "[600]\ttraining's auc: 0.817141\tvalid_1's auc: 0.725402\n",
      "[800]\ttraining's auc: 0.835235\tvalid_1's auc: 0.72458\n",
      "[1000]\ttraining's auc: 0.851741\tvalid_1's auc: 0.723413\n",
      "Fold: 6, train-observations = 104588, valid-observations = 5505\n",
      "train-score = 0.8216, valid-score = 0.7257\n",
      "=====================================================================\n",
      "[LightGBM] [Warning] seed is set=27, random_state=27 will be ignored. Current value: seed=27\n",
      "[LightGBM] [Warning] early_stopping_round is set=500, early_stopping_rounds=500 will be ignored. Current value: early_stopping_round=500\n"
     ]
    },
    {
     "name": "stderr",
     "output_type": "stream",
     "text": [
      "C:\\Users\\Windows\\.conda\\envs\\tf\\lib\\site-packages\\lightgbm\\sklearn.py:726: UserWarning: 'early_stopping_rounds' argument is deprecated and will be removed in a future release of LightGBM. Pass 'early_stopping()' callback via 'callbacks' argument instead.\n",
      "  _log_warning(\"'early_stopping_rounds' argument is deprecated and will be removed in a future release of LightGBM. \"\n",
      "C:\\Users\\Windows\\.conda\\envs\\tf\\lib\\site-packages\\lightgbm\\sklearn.py:736: UserWarning: 'verbose' argument is deprecated and will be removed in a future release of LightGBM. Pass 'log_evaluation()' callback via 'callbacks' argument instead.\n",
      "  _log_warning(\"'verbose' argument is deprecated and will be removed in a future release of LightGBM. \"\n",
      "C:\\Users\\Windows\\.conda\\envs\\tf\\lib\\site-packages\\lightgbm\\basic.py:2065: UserWarning: Using categorical_feature in Dataset.\n",
      "  _log_warning('Using categorical_feature in Dataset.')\n",
      "C:\\Users\\Windows\\.conda\\envs\\tf\\lib\\site-packages\\lightgbm\\basic.py:2068: UserWarning: categorical_feature in Dataset is overridden.\n",
      "New categorical_feature is ['EDUCATION_LEVEL', 'EXTERNAL_SCORING_RATING_1_IS_NAN', 'EXTERNAL_SCORING_RATING_2_IS_NAN', 'EXTERNAL_SCORING_RATING_3_IS_NAN', 'FAMILY_STATUS', 'GENDER', 'NAME_CONTRACT_TYPE']\n",
      "  _log_warning('categorical_feature in Dataset is overridden.\\n'\n",
      "C:\\Users\\Windows\\.conda\\envs\\tf\\lib\\site-packages\\lightgbm\\basic.py:1780: UserWarning: Overriding the parameters from Reference Dataset.\n",
      "  _log_warning('Overriding the parameters from Reference Dataset.')\n",
      "C:\\Users\\Windows\\.conda\\envs\\tf\\lib\\site-packages\\lightgbm\\basic.py:1513: UserWarning: categorical_column in param dict is overridden.\n",
      "  _log_warning(f'{cat_alias} in param dict is overridden.')\n"
     ]
    },
    {
     "name": "stdout",
     "output_type": "stream",
     "text": [
      "[200]\ttraining's auc: 0.76329\tvalid_1's auc: 0.728688\n",
      "[400]\ttraining's auc: 0.794275\tvalid_1's auc: 0.733198\n",
      "[600]\ttraining's auc: 0.817262\tvalid_1's auc: 0.737553\n",
      "[800]\ttraining's auc: 0.835705\tvalid_1's auc: 0.737476\n",
      "[1000]\ttraining's auc: 0.85208\tvalid_1's auc: 0.740141\n",
      "[1200]\ttraining's auc: 0.866924\tvalid_1's auc: 0.741652\n",
      "[1400]\ttraining's auc: 0.880361\tvalid_1's auc: 0.741741\n",
      "[1600]\ttraining's auc: 0.890674\tvalid_1's auc: 0.742276\n",
      "[1800]\ttraining's auc: 0.900122\tvalid_1's auc: 0.741509\n",
      "[2000]\ttraining's auc: 0.908849\tvalid_1's auc: 0.743262\n",
      "[2200]\ttraining's auc: 0.916071\tvalid_1's auc: 0.7429\n",
      "[2400]\ttraining's auc: 0.921747\tvalid_1's auc: 0.742688\n",
      "Fold: 7, train-observations = 104588, valid-observations = 5505\n",
      "train-score = 0.9095, valid-score = 0.7443\n",
      "=====================================================================\n",
      "[LightGBM] [Warning] seed is set=27, random_state=27 will be ignored. Current value: seed=27\n",
      "[LightGBM] [Warning] early_stopping_round is set=500, early_stopping_rounds=500 will be ignored. Current value: early_stopping_round=500\n"
     ]
    },
    {
     "name": "stderr",
     "output_type": "stream",
     "text": [
      "C:\\Users\\Windows\\.conda\\envs\\tf\\lib\\site-packages\\lightgbm\\sklearn.py:726: UserWarning: 'early_stopping_rounds' argument is deprecated and will be removed in a future release of LightGBM. Pass 'early_stopping()' callback via 'callbacks' argument instead.\n",
      "  _log_warning(\"'early_stopping_rounds' argument is deprecated and will be removed in a future release of LightGBM. \"\n",
      "C:\\Users\\Windows\\.conda\\envs\\tf\\lib\\site-packages\\lightgbm\\sklearn.py:736: UserWarning: 'verbose' argument is deprecated and will be removed in a future release of LightGBM. Pass 'log_evaluation()' callback via 'callbacks' argument instead.\n",
      "  _log_warning(\"'verbose' argument is deprecated and will be removed in a future release of LightGBM. \"\n",
      "C:\\Users\\Windows\\.conda\\envs\\tf\\lib\\site-packages\\lightgbm\\basic.py:2065: UserWarning: Using categorical_feature in Dataset.\n",
      "  _log_warning('Using categorical_feature in Dataset.')\n",
      "C:\\Users\\Windows\\.conda\\envs\\tf\\lib\\site-packages\\lightgbm\\basic.py:2068: UserWarning: categorical_feature in Dataset is overridden.\n",
      "New categorical_feature is ['EDUCATION_LEVEL', 'EXTERNAL_SCORING_RATING_1_IS_NAN', 'EXTERNAL_SCORING_RATING_2_IS_NAN', 'EXTERNAL_SCORING_RATING_3_IS_NAN', 'FAMILY_STATUS', 'GENDER', 'NAME_CONTRACT_TYPE']\n",
      "  _log_warning('categorical_feature in Dataset is overridden.\\n'\n",
      "C:\\Users\\Windows\\.conda\\envs\\tf\\lib\\site-packages\\lightgbm\\basic.py:1780: UserWarning: Overriding the parameters from Reference Dataset.\n",
      "  _log_warning('Overriding the parameters from Reference Dataset.')\n",
      "C:\\Users\\Windows\\.conda\\envs\\tf\\lib\\site-packages\\lightgbm\\basic.py:1513: UserWarning: categorical_column in param dict is overridden.\n",
      "  _log_warning(f'{cat_alias} in param dict is overridden.')\n"
     ]
    },
    {
     "name": "stdout",
     "output_type": "stream",
     "text": [
      "[200]\ttraining's auc: 0.762998\tvalid_1's auc: 0.73328\n",
      "[400]\ttraining's auc: 0.794124\tvalid_1's auc: 0.741468\n",
      "[600]\ttraining's auc: 0.816972\tvalid_1's auc: 0.741595\n",
      "[800]\ttraining's auc: 0.836158\tvalid_1's auc: 0.74399\n",
      "[1000]\ttraining's auc: 0.852434\tvalid_1's auc: 0.740913\n",
      "[1200]\ttraining's auc: 0.866914\tvalid_1's auc: 0.741101\n",
      "Fold: 8, train-observations = 104588, valid-observations = 5505\n",
      "train-score = 0.8375, valid-score = 0.7441\n",
      "=====================================================================\n",
      "[LightGBM] [Warning] seed is set=27, random_state=27 will be ignored. Current value: seed=27\n",
      "[LightGBM] [Warning] early_stopping_round is set=500, early_stopping_rounds=500 will be ignored. Current value: early_stopping_round=500\n"
     ]
    },
    {
     "name": "stderr",
     "output_type": "stream",
     "text": [
      "C:\\Users\\Windows\\.conda\\envs\\tf\\lib\\site-packages\\lightgbm\\sklearn.py:726: UserWarning: 'early_stopping_rounds' argument is deprecated and will be removed in a future release of LightGBM. Pass 'early_stopping()' callback via 'callbacks' argument instead.\n",
      "  _log_warning(\"'early_stopping_rounds' argument is deprecated and will be removed in a future release of LightGBM. \"\n",
      "C:\\Users\\Windows\\.conda\\envs\\tf\\lib\\site-packages\\lightgbm\\sklearn.py:736: UserWarning: 'verbose' argument is deprecated and will be removed in a future release of LightGBM. Pass 'log_evaluation()' callback via 'callbacks' argument instead.\n",
      "  _log_warning(\"'verbose' argument is deprecated and will be removed in a future release of LightGBM. \"\n",
      "C:\\Users\\Windows\\.conda\\envs\\tf\\lib\\site-packages\\lightgbm\\basic.py:2065: UserWarning: Using categorical_feature in Dataset.\n",
      "  _log_warning('Using categorical_feature in Dataset.')\n",
      "C:\\Users\\Windows\\.conda\\envs\\tf\\lib\\site-packages\\lightgbm\\basic.py:2068: UserWarning: categorical_feature in Dataset is overridden.\n",
      "New categorical_feature is ['EDUCATION_LEVEL', 'EXTERNAL_SCORING_RATING_1_IS_NAN', 'EXTERNAL_SCORING_RATING_2_IS_NAN', 'EXTERNAL_SCORING_RATING_3_IS_NAN', 'FAMILY_STATUS', 'GENDER', 'NAME_CONTRACT_TYPE']\n",
      "  _log_warning('categorical_feature in Dataset is overridden.\\n'\n",
      "C:\\Users\\Windows\\.conda\\envs\\tf\\lib\\site-packages\\lightgbm\\basic.py:1780: UserWarning: Overriding the parameters from Reference Dataset.\n",
      "  _log_warning('Overriding the parameters from Reference Dataset.')\n",
      "C:\\Users\\Windows\\.conda\\envs\\tf\\lib\\site-packages\\lightgbm\\basic.py:1513: UserWarning: categorical_column in param dict is overridden.\n",
      "  _log_warning(f'{cat_alias} in param dict is overridden.')\n"
     ]
    },
    {
     "name": "stdout",
     "output_type": "stream",
     "text": [
      "[200]\ttraining's auc: 0.763938\tvalid_1's auc: 0.72068\n",
      "[400]\ttraining's auc: 0.793707\tvalid_1's auc: 0.726561\n",
      "[600]\ttraining's auc: 0.815615\tvalid_1's auc: 0.727318\n",
      "[800]\ttraining's auc: 0.834231\tvalid_1's auc: 0.728993\n",
      "[1000]\ttraining's auc: 0.852016\tvalid_1's auc: 0.72898\n",
      "[1200]\ttraining's auc: 0.86626\tvalid_1's auc: 0.726883\n",
      "Fold: 9, train-observations = 104588, valid-observations = 5505\n",
      "train-score = 0.8415, valid-score = 0.7295\n",
      "=====================================================================\n",
      "[LightGBM] [Warning] seed is set=27, random_state=27 will be ignored. Current value: seed=27\n",
      "[LightGBM] [Warning] early_stopping_round is set=500, early_stopping_rounds=500 will be ignored. Current value: early_stopping_round=500\n"
     ]
    },
    {
     "name": "stderr",
     "output_type": "stream",
     "text": [
      "C:\\Users\\Windows\\.conda\\envs\\tf\\lib\\site-packages\\lightgbm\\sklearn.py:726: UserWarning: 'early_stopping_rounds' argument is deprecated and will be removed in a future release of LightGBM. Pass 'early_stopping()' callback via 'callbacks' argument instead.\n",
      "  _log_warning(\"'early_stopping_rounds' argument is deprecated and will be removed in a future release of LightGBM. \"\n",
      "C:\\Users\\Windows\\.conda\\envs\\tf\\lib\\site-packages\\lightgbm\\sklearn.py:736: UserWarning: 'verbose' argument is deprecated and will be removed in a future release of LightGBM. Pass 'log_evaluation()' callback via 'callbacks' argument instead.\n",
      "  _log_warning(\"'verbose' argument is deprecated and will be removed in a future release of LightGBM. \"\n",
      "C:\\Users\\Windows\\.conda\\envs\\tf\\lib\\site-packages\\lightgbm\\basic.py:2065: UserWarning: Using categorical_feature in Dataset.\n",
      "  _log_warning('Using categorical_feature in Dataset.')\n",
      "C:\\Users\\Windows\\.conda\\envs\\tf\\lib\\site-packages\\lightgbm\\basic.py:2068: UserWarning: categorical_feature in Dataset is overridden.\n",
      "New categorical_feature is ['EDUCATION_LEVEL', 'EXTERNAL_SCORING_RATING_1_IS_NAN', 'EXTERNAL_SCORING_RATING_2_IS_NAN', 'EXTERNAL_SCORING_RATING_3_IS_NAN', 'FAMILY_STATUS', 'GENDER', 'NAME_CONTRACT_TYPE']\n",
      "  _log_warning('categorical_feature in Dataset is overridden.\\n'\n",
      "C:\\Users\\Windows\\.conda\\envs\\tf\\lib\\site-packages\\lightgbm\\basic.py:1780: UserWarning: Overriding the parameters from Reference Dataset.\n",
      "  _log_warning('Overriding the parameters from Reference Dataset.')\n",
      "C:\\Users\\Windows\\.conda\\envs\\tf\\lib\\site-packages\\lightgbm\\basic.py:1513: UserWarning: categorical_column in param dict is overridden.\n",
      "  _log_warning(f'{cat_alias} in param dict is overridden.')\n"
     ]
    },
    {
     "name": "stdout",
     "output_type": "stream",
     "text": [
      "[200]\ttraining's auc: 0.764002\tvalid_1's auc: 0.730111\n",
      "[400]\ttraining's auc: 0.794596\tvalid_1's auc: 0.736568\n",
      "[600]\ttraining's auc: 0.818201\tvalid_1's auc: 0.739867\n",
      "[800]\ttraining's auc: 0.836942\tvalid_1's auc: 0.740072\n",
      "[1000]\ttraining's auc: 0.853161\tvalid_1's auc: 0.741826\n",
      "[1200]\ttraining's auc: 0.867109\tvalid_1's auc: 0.740639\n",
      "[1400]\ttraining's auc: 0.879673\tvalid_1's auc: 0.739896\n",
      "Fold: 10, train-observations = 104588, valid-observations = 5505\n",
      "train-score = 0.8548, valid-score = 0.7425\n",
      "=====================================================================\n",
      "[LightGBM] [Warning] seed is set=27, random_state=27 will be ignored. Current value: seed=27\n",
      "[LightGBM] [Warning] early_stopping_round is set=500, early_stopping_rounds=500 will be ignored. Current value: early_stopping_round=500\n"
     ]
    },
    {
     "name": "stderr",
     "output_type": "stream",
     "text": [
      "C:\\Users\\Windows\\.conda\\envs\\tf\\lib\\site-packages\\lightgbm\\sklearn.py:726: UserWarning: 'early_stopping_rounds' argument is deprecated and will be removed in a future release of LightGBM. Pass 'early_stopping()' callback via 'callbacks' argument instead.\n",
      "  _log_warning(\"'early_stopping_rounds' argument is deprecated and will be removed in a future release of LightGBM. \"\n",
      "C:\\Users\\Windows\\.conda\\envs\\tf\\lib\\site-packages\\lightgbm\\sklearn.py:736: UserWarning: 'verbose' argument is deprecated and will be removed in a future release of LightGBM. Pass 'log_evaluation()' callback via 'callbacks' argument instead.\n",
      "  _log_warning(\"'verbose' argument is deprecated and will be removed in a future release of LightGBM. \"\n",
      "C:\\Users\\Windows\\.conda\\envs\\tf\\lib\\site-packages\\lightgbm\\basic.py:2065: UserWarning: Using categorical_feature in Dataset.\n",
      "  _log_warning('Using categorical_feature in Dataset.')\n",
      "C:\\Users\\Windows\\.conda\\envs\\tf\\lib\\site-packages\\lightgbm\\basic.py:2068: UserWarning: categorical_feature in Dataset is overridden.\n",
      "New categorical_feature is ['EDUCATION_LEVEL', 'EXTERNAL_SCORING_RATING_1_IS_NAN', 'EXTERNAL_SCORING_RATING_2_IS_NAN', 'EXTERNAL_SCORING_RATING_3_IS_NAN', 'FAMILY_STATUS', 'GENDER', 'NAME_CONTRACT_TYPE']\n",
      "  _log_warning('categorical_feature in Dataset is overridden.\\n'\n",
      "C:\\Users\\Windows\\.conda\\envs\\tf\\lib\\site-packages\\lightgbm\\basic.py:1780: UserWarning: Overriding the parameters from Reference Dataset.\n",
      "  _log_warning('Overriding the parameters from Reference Dataset.')\n",
      "C:\\Users\\Windows\\.conda\\envs\\tf\\lib\\site-packages\\lightgbm\\basic.py:1513: UserWarning: categorical_column in param dict is overridden.\n",
      "  _log_warning(f'{cat_alias} in param dict is overridden.')\n"
     ]
    },
    {
     "name": "stdout",
     "output_type": "stream",
     "text": [
      "[200]\ttraining's auc: 0.764785\tvalid_1's auc: 0.721964\n",
      "[400]\ttraining's auc: 0.795107\tvalid_1's auc: 0.727716\n",
      "[600]\ttraining's auc: 0.817184\tvalid_1's auc: 0.726458\n",
      "[800]\ttraining's auc: 0.836113\tvalid_1's auc: 0.725879\n",
      "Fold: 11, train-observations = 104588, valid-observations = 5505\n",
      "train-score = 0.801, valid-score = 0.7282\n",
      "=====================================================================\n",
      "[LightGBM] [Warning] seed is set=27, random_state=27 will be ignored. Current value: seed=27\n",
      "[LightGBM] [Warning] early_stopping_round is set=500, early_stopping_rounds=500 will be ignored. Current value: early_stopping_round=500\n"
     ]
    },
    {
     "name": "stderr",
     "output_type": "stream",
     "text": [
      "C:\\Users\\Windows\\.conda\\envs\\tf\\lib\\site-packages\\lightgbm\\sklearn.py:726: UserWarning: 'early_stopping_rounds' argument is deprecated and will be removed in a future release of LightGBM. Pass 'early_stopping()' callback via 'callbacks' argument instead.\n",
      "  _log_warning(\"'early_stopping_rounds' argument is deprecated and will be removed in a future release of LightGBM. \"\n",
      "C:\\Users\\Windows\\.conda\\envs\\tf\\lib\\site-packages\\lightgbm\\sklearn.py:736: UserWarning: 'verbose' argument is deprecated and will be removed in a future release of LightGBM. Pass 'log_evaluation()' callback via 'callbacks' argument instead.\n",
      "  _log_warning(\"'verbose' argument is deprecated and will be removed in a future release of LightGBM. \"\n",
      "C:\\Users\\Windows\\.conda\\envs\\tf\\lib\\site-packages\\lightgbm\\basic.py:2065: UserWarning: Using categorical_feature in Dataset.\n",
      "  _log_warning('Using categorical_feature in Dataset.')\n",
      "C:\\Users\\Windows\\.conda\\envs\\tf\\lib\\site-packages\\lightgbm\\basic.py:2068: UserWarning: categorical_feature in Dataset is overridden.\n",
      "New categorical_feature is ['EDUCATION_LEVEL', 'EXTERNAL_SCORING_RATING_1_IS_NAN', 'EXTERNAL_SCORING_RATING_2_IS_NAN', 'EXTERNAL_SCORING_RATING_3_IS_NAN', 'FAMILY_STATUS', 'GENDER', 'NAME_CONTRACT_TYPE']\n",
      "  _log_warning('categorical_feature in Dataset is overridden.\\n'\n",
      "C:\\Users\\Windows\\.conda\\envs\\tf\\lib\\site-packages\\lightgbm\\basic.py:1780: UserWarning: Overriding the parameters from Reference Dataset.\n",
      "  _log_warning('Overriding the parameters from Reference Dataset.')\n",
      "C:\\Users\\Windows\\.conda\\envs\\tf\\lib\\site-packages\\lightgbm\\basic.py:1513: UserWarning: categorical_column in param dict is overridden.\n",
      "  _log_warning(f'{cat_alias} in param dict is overridden.')\n"
     ]
    },
    {
     "name": "stdout",
     "output_type": "stream",
     "text": [
      "[200]\ttraining's auc: 0.764744\tvalid_1's auc: 0.719204\n",
      "[400]\ttraining's auc: 0.79578\tvalid_1's auc: 0.721826\n",
      "[600]\ttraining's auc: 0.818977\tvalid_1's auc: 0.721934\n",
      "[800]\ttraining's auc: 0.837052\tvalid_1's auc: 0.721843\n",
      "Fold: 12, train-observations = 104588, valid-observations = 5505\n",
      "train-score = 0.7998, valid-score = 0.7229\n",
      "=====================================================================\n",
      "[LightGBM] [Warning] seed is set=27, random_state=27 will be ignored. Current value: seed=27\n",
      "[LightGBM] [Warning] early_stopping_round is set=500, early_stopping_rounds=500 will be ignored. Current value: early_stopping_round=500\n"
     ]
    },
    {
     "name": "stderr",
     "output_type": "stream",
     "text": [
      "C:\\Users\\Windows\\.conda\\envs\\tf\\lib\\site-packages\\lightgbm\\sklearn.py:726: UserWarning: 'early_stopping_rounds' argument is deprecated and will be removed in a future release of LightGBM. Pass 'early_stopping()' callback via 'callbacks' argument instead.\n",
      "  _log_warning(\"'early_stopping_rounds' argument is deprecated and will be removed in a future release of LightGBM. \"\n",
      "C:\\Users\\Windows\\.conda\\envs\\tf\\lib\\site-packages\\lightgbm\\sklearn.py:736: UserWarning: 'verbose' argument is deprecated and will be removed in a future release of LightGBM. Pass 'log_evaluation()' callback via 'callbacks' argument instead.\n",
      "  _log_warning(\"'verbose' argument is deprecated and will be removed in a future release of LightGBM. \"\n",
      "C:\\Users\\Windows\\.conda\\envs\\tf\\lib\\site-packages\\lightgbm\\basic.py:2065: UserWarning: Using categorical_feature in Dataset.\n",
      "  _log_warning('Using categorical_feature in Dataset.')\n",
      "C:\\Users\\Windows\\.conda\\envs\\tf\\lib\\site-packages\\lightgbm\\basic.py:2068: UserWarning: categorical_feature in Dataset is overridden.\n",
      "New categorical_feature is ['EDUCATION_LEVEL', 'EXTERNAL_SCORING_RATING_1_IS_NAN', 'EXTERNAL_SCORING_RATING_2_IS_NAN', 'EXTERNAL_SCORING_RATING_3_IS_NAN', 'FAMILY_STATUS', 'GENDER', 'NAME_CONTRACT_TYPE']\n",
      "  _log_warning('categorical_feature in Dataset is overridden.\\n'\n",
      "C:\\Users\\Windows\\.conda\\envs\\tf\\lib\\site-packages\\lightgbm\\basic.py:1780: UserWarning: Overriding the parameters from Reference Dataset.\n",
      "  _log_warning('Overriding the parameters from Reference Dataset.')\n",
      "C:\\Users\\Windows\\.conda\\envs\\tf\\lib\\site-packages\\lightgbm\\basic.py:1513: UserWarning: categorical_column in param dict is overridden.\n",
      "  _log_warning(f'{cat_alias} in param dict is overridden.')\n"
     ]
    },
    {
     "name": "stdout",
     "output_type": "stream",
     "text": [
      "[200]\ttraining's auc: 0.763782\tvalid_1's auc: 0.731396\n",
      "[400]\ttraining's auc: 0.794913\tvalid_1's auc: 0.737393\n",
      "[600]\ttraining's auc: 0.81815\tvalid_1's auc: 0.739398\n",
      "[800]\ttraining's auc: 0.836453\tvalid_1's auc: 0.739168\n",
      "Fold: 13, train-observations = 104588, valid-observations = 5505\n",
      "train-score = 0.8061, valid-score = 0.7397\n",
      "=====================================================================\n",
      "[LightGBM] [Warning] seed is set=27, random_state=27 will be ignored. Current value: seed=27\n",
      "[LightGBM] [Warning] early_stopping_round is set=500, early_stopping_rounds=500 will be ignored. Current value: early_stopping_round=500\n"
     ]
    },
    {
     "name": "stderr",
     "output_type": "stream",
     "text": [
      "C:\\Users\\Windows\\.conda\\envs\\tf\\lib\\site-packages\\lightgbm\\sklearn.py:726: UserWarning: 'early_stopping_rounds' argument is deprecated and will be removed in a future release of LightGBM. Pass 'early_stopping()' callback via 'callbacks' argument instead.\n",
      "  _log_warning(\"'early_stopping_rounds' argument is deprecated and will be removed in a future release of LightGBM. \"\n",
      "C:\\Users\\Windows\\.conda\\envs\\tf\\lib\\site-packages\\lightgbm\\sklearn.py:736: UserWarning: 'verbose' argument is deprecated and will be removed in a future release of LightGBM. Pass 'log_evaluation()' callback via 'callbacks' argument instead.\n",
      "  _log_warning(\"'verbose' argument is deprecated and will be removed in a future release of LightGBM. \"\n",
      "C:\\Users\\Windows\\.conda\\envs\\tf\\lib\\site-packages\\lightgbm\\basic.py:2065: UserWarning: Using categorical_feature in Dataset.\n",
      "  _log_warning('Using categorical_feature in Dataset.')\n",
      "C:\\Users\\Windows\\.conda\\envs\\tf\\lib\\site-packages\\lightgbm\\basic.py:2068: UserWarning: categorical_feature in Dataset is overridden.\n",
      "New categorical_feature is ['EDUCATION_LEVEL', 'EXTERNAL_SCORING_RATING_1_IS_NAN', 'EXTERNAL_SCORING_RATING_2_IS_NAN', 'EXTERNAL_SCORING_RATING_3_IS_NAN', 'FAMILY_STATUS', 'GENDER', 'NAME_CONTRACT_TYPE']\n",
      "  _log_warning('categorical_feature in Dataset is overridden.\\n'\n",
      "C:\\Users\\Windows\\.conda\\envs\\tf\\lib\\site-packages\\lightgbm\\basic.py:1780: UserWarning: Overriding the parameters from Reference Dataset.\n",
      "  _log_warning('Overriding the parameters from Reference Dataset.')\n",
      "C:\\Users\\Windows\\.conda\\envs\\tf\\lib\\site-packages\\lightgbm\\basic.py:1513: UserWarning: categorical_column in param dict is overridden.\n",
      "  _log_warning(f'{cat_alias} in param dict is overridden.')\n"
     ]
    },
    {
     "name": "stdout",
     "output_type": "stream",
     "text": [
      "[200]\ttraining's auc: 0.764443\tvalid_1's auc: 0.704685\n",
      "[400]\ttraining's auc: 0.795315\tvalid_1's auc: 0.712086\n",
      "[600]\ttraining's auc: 0.817038\tvalid_1's auc: 0.714168\n",
      "[800]\ttraining's auc: 0.835832\tvalid_1's auc: 0.715223\n",
      "[1000]\ttraining's auc: 0.852977\tvalid_1's auc: 0.71634\n",
      "[1200]\ttraining's auc: 0.86774\tvalid_1's auc: 0.716561\n",
      "[1400]\ttraining's auc: 0.880269\tvalid_1's auc: 0.71686\n",
      "[1600]\ttraining's auc: 0.891082\tvalid_1's auc: 0.716548\n",
      "[1800]\ttraining's auc: 0.900625\tvalid_1's auc: 0.716913\n",
      "Fold: 14, train-observations = 104589, valid-observations = 5504\n",
      "train-score = 0.8843, valid-score = 0.7176\n",
      "=====================================================================\n",
      "[LightGBM] [Warning] seed is set=27, random_state=27 will be ignored. Current value: seed=27\n",
      "[LightGBM] [Warning] early_stopping_round is set=500, early_stopping_rounds=500 will be ignored. Current value: early_stopping_round=500\n"
     ]
    },
    {
     "name": "stderr",
     "output_type": "stream",
     "text": [
      "C:\\Users\\Windows\\.conda\\envs\\tf\\lib\\site-packages\\lightgbm\\sklearn.py:726: UserWarning: 'early_stopping_rounds' argument is deprecated and will be removed in a future release of LightGBM. Pass 'early_stopping()' callback via 'callbacks' argument instead.\n",
      "  _log_warning(\"'early_stopping_rounds' argument is deprecated and will be removed in a future release of LightGBM. \"\n",
      "C:\\Users\\Windows\\.conda\\envs\\tf\\lib\\site-packages\\lightgbm\\sklearn.py:736: UserWarning: 'verbose' argument is deprecated and will be removed in a future release of LightGBM. Pass 'log_evaluation()' callback via 'callbacks' argument instead.\n",
      "  _log_warning(\"'verbose' argument is deprecated and will be removed in a future release of LightGBM. \"\n",
      "C:\\Users\\Windows\\.conda\\envs\\tf\\lib\\site-packages\\lightgbm\\basic.py:2065: UserWarning: Using categorical_feature in Dataset.\n",
      "  _log_warning('Using categorical_feature in Dataset.')\n",
      "C:\\Users\\Windows\\.conda\\envs\\tf\\lib\\site-packages\\lightgbm\\basic.py:2068: UserWarning: categorical_feature in Dataset is overridden.\n",
      "New categorical_feature is ['EDUCATION_LEVEL', 'EXTERNAL_SCORING_RATING_1_IS_NAN', 'EXTERNAL_SCORING_RATING_2_IS_NAN', 'EXTERNAL_SCORING_RATING_3_IS_NAN', 'FAMILY_STATUS', 'GENDER', 'NAME_CONTRACT_TYPE']\n",
      "  _log_warning('categorical_feature in Dataset is overridden.\\n'\n",
      "C:\\Users\\Windows\\.conda\\envs\\tf\\lib\\site-packages\\lightgbm\\basic.py:1780: UserWarning: Overriding the parameters from Reference Dataset.\n",
      "  _log_warning('Overriding the parameters from Reference Dataset.')\n",
      "C:\\Users\\Windows\\.conda\\envs\\tf\\lib\\site-packages\\lightgbm\\basic.py:1513: UserWarning: categorical_column in param dict is overridden.\n",
      "  _log_warning(f'{cat_alias} in param dict is overridden.')\n"
     ]
    },
    {
     "name": "stdout",
     "output_type": "stream",
     "text": [
      "[200]\ttraining's auc: 0.764421\tvalid_1's auc: 0.718802\n",
      "[400]\ttraining's auc: 0.794747\tvalid_1's auc: 0.72738\n",
      "[600]\ttraining's auc: 0.818064\tvalid_1's auc: 0.728256\n",
      "[800]\ttraining's auc: 0.836061\tvalid_1's auc: 0.727158\n",
      "[1000]\ttraining's auc: 0.852746\tvalid_1's auc: 0.726912\n",
      "Fold: 15, train-observations = 104589, valid-observations = 5504\n",
      "train-score = 0.8111, valid-score = 0.7291\n",
      "=====================================================================\n",
      "[LightGBM] [Warning] seed is set=27, random_state=27 will be ignored. Current value: seed=27\n",
      "[LightGBM] [Warning] early_stopping_round is set=500, early_stopping_rounds=500 will be ignored. Current value: early_stopping_round=500\n"
     ]
    },
    {
     "name": "stderr",
     "output_type": "stream",
     "text": [
      "C:\\Users\\Windows\\.conda\\envs\\tf\\lib\\site-packages\\lightgbm\\sklearn.py:726: UserWarning: 'early_stopping_rounds' argument is deprecated and will be removed in a future release of LightGBM. Pass 'early_stopping()' callback via 'callbacks' argument instead.\n",
      "  _log_warning(\"'early_stopping_rounds' argument is deprecated and will be removed in a future release of LightGBM. \"\n",
      "C:\\Users\\Windows\\.conda\\envs\\tf\\lib\\site-packages\\lightgbm\\sklearn.py:736: UserWarning: 'verbose' argument is deprecated and will be removed in a future release of LightGBM. Pass 'log_evaluation()' callback via 'callbacks' argument instead.\n",
      "  _log_warning(\"'verbose' argument is deprecated and will be removed in a future release of LightGBM. \"\n",
      "C:\\Users\\Windows\\.conda\\envs\\tf\\lib\\site-packages\\lightgbm\\basic.py:2065: UserWarning: Using categorical_feature in Dataset.\n",
      "  _log_warning('Using categorical_feature in Dataset.')\n",
      "C:\\Users\\Windows\\.conda\\envs\\tf\\lib\\site-packages\\lightgbm\\basic.py:2068: UserWarning: categorical_feature in Dataset is overridden.\n",
      "New categorical_feature is ['EDUCATION_LEVEL', 'EXTERNAL_SCORING_RATING_1_IS_NAN', 'EXTERNAL_SCORING_RATING_2_IS_NAN', 'EXTERNAL_SCORING_RATING_3_IS_NAN', 'FAMILY_STATUS', 'GENDER', 'NAME_CONTRACT_TYPE']\n",
      "  _log_warning('categorical_feature in Dataset is overridden.\\n'\n",
      "C:\\Users\\Windows\\.conda\\envs\\tf\\lib\\site-packages\\lightgbm\\basic.py:1780: UserWarning: Overriding the parameters from Reference Dataset.\n",
      "  _log_warning('Overriding the parameters from Reference Dataset.')\n",
      "C:\\Users\\Windows\\.conda\\envs\\tf\\lib\\site-packages\\lightgbm\\basic.py:1513: UserWarning: categorical_column in param dict is overridden.\n",
      "  _log_warning(f'{cat_alias} in param dict is overridden.')\n"
     ]
    },
    {
     "name": "stdout",
     "output_type": "stream",
     "text": [
      "[200]\ttraining's auc: 0.765157\tvalid_1's auc: 0.695209\n",
      "[400]\ttraining's auc: 0.795542\tvalid_1's auc: 0.702692\n",
      "[600]\ttraining's auc: 0.818772\tvalid_1's auc: 0.70346\n",
      "[800]\ttraining's auc: 0.837361\tvalid_1's auc: 0.705145\n",
      "[1000]\ttraining's auc: 0.854112\tvalid_1's auc: 0.706521\n",
      "[1200]\ttraining's auc: 0.868327\tvalid_1's auc: 0.70591\n",
      "[1400]\ttraining's auc: 0.881274\tvalid_1's auc: 0.705834\n",
      "Fold: 16, train-observations = 104589, valid-observations = 5504\n",
      "train-score = 0.8514, valid-score = 0.7069\n",
      "=====================================================================\n",
      "[LightGBM] [Warning] seed is set=27, random_state=27 will be ignored. Current value: seed=27\n",
      "[LightGBM] [Warning] early_stopping_round is set=500, early_stopping_rounds=500 will be ignored. Current value: early_stopping_round=500\n"
     ]
    },
    {
     "name": "stderr",
     "output_type": "stream",
     "text": [
      "C:\\Users\\Windows\\.conda\\envs\\tf\\lib\\site-packages\\lightgbm\\sklearn.py:726: UserWarning: 'early_stopping_rounds' argument is deprecated and will be removed in a future release of LightGBM. Pass 'early_stopping()' callback via 'callbacks' argument instead.\n",
      "  _log_warning(\"'early_stopping_rounds' argument is deprecated and will be removed in a future release of LightGBM. \"\n",
      "C:\\Users\\Windows\\.conda\\envs\\tf\\lib\\site-packages\\lightgbm\\sklearn.py:736: UserWarning: 'verbose' argument is deprecated and will be removed in a future release of LightGBM. Pass 'log_evaluation()' callback via 'callbacks' argument instead.\n",
      "  _log_warning(\"'verbose' argument is deprecated and will be removed in a future release of LightGBM. \"\n",
      "C:\\Users\\Windows\\.conda\\envs\\tf\\lib\\site-packages\\lightgbm\\basic.py:2065: UserWarning: Using categorical_feature in Dataset.\n",
      "  _log_warning('Using categorical_feature in Dataset.')\n",
      "C:\\Users\\Windows\\.conda\\envs\\tf\\lib\\site-packages\\lightgbm\\basic.py:2068: UserWarning: categorical_feature in Dataset is overridden.\n",
      "New categorical_feature is ['EDUCATION_LEVEL', 'EXTERNAL_SCORING_RATING_1_IS_NAN', 'EXTERNAL_SCORING_RATING_2_IS_NAN', 'EXTERNAL_SCORING_RATING_3_IS_NAN', 'FAMILY_STATUS', 'GENDER', 'NAME_CONTRACT_TYPE']\n",
      "  _log_warning('categorical_feature in Dataset is overridden.\\n'\n",
      "C:\\Users\\Windows\\.conda\\envs\\tf\\lib\\site-packages\\lightgbm\\basic.py:1780: UserWarning: Overriding the parameters from Reference Dataset.\n",
      "  _log_warning('Overriding the parameters from Reference Dataset.')\n",
      "C:\\Users\\Windows\\.conda\\envs\\tf\\lib\\site-packages\\lightgbm\\basic.py:1513: UserWarning: categorical_column in param dict is overridden.\n",
      "  _log_warning(f'{cat_alias} in param dict is overridden.')\n"
     ]
    },
    {
     "name": "stdout",
     "output_type": "stream",
     "text": [
      "[200]\ttraining's auc: 0.763018\tvalid_1's auc: 0.737748\n",
      "[400]\ttraining's auc: 0.794097\tvalid_1's auc: 0.747469\n",
      "[600]\ttraining's auc: 0.816939\tvalid_1's auc: 0.750708\n",
      "[800]\ttraining's auc: 0.835067\tvalid_1's auc: 0.753283\n",
      "[1000]\ttraining's auc: 0.851444\tvalid_1's auc: 0.754197\n",
      "[1200]\ttraining's auc: 0.866087\tvalid_1's auc: 0.753831\n",
      "[1400]\ttraining's auc: 0.879442\tvalid_1's auc: 0.75413\n",
      "Fold: 17, train-observations = 104589, valid-observations = 5504\n",
      "train-score = 0.8493, valid-score = 0.7552\n",
      "=====================================================================\n",
      "[LightGBM] [Warning] seed is set=27, random_state=27 will be ignored. Current value: seed=27\n",
      "[LightGBM] [Warning] early_stopping_round is set=500, early_stopping_rounds=500 will be ignored. Current value: early_stopping_round=500\n"
     ]
    },
    {
     "name": "stderr",
     "output_type": "stream",
     "text": [
      "C:\\Users\\Windows\\.conda\\envs\\tf\\lib\\site-packages\\lightgbm\\sklearn.py:726: UserWarning: 'early_stopping_rounds' argument is deprecated and will be removed in a future release of LightGBM. Pass 'early_stopping()' callback via 'callbacks' argument instead.\n",
      "  _log_warning(\"'early_stopping_rounds' argument is deprecated and will be removed in a future release of LightGBM. \"\n",
      "C:\\Users\\Windows\\.conda\\envs\\tf\\lib\\site-packages\\lightgbm\\sklearn.py:736: UserWarning: 'verbose' argument is deprecated and will be removed in a future release of LightGBM. Pass 'log_evaluation()' callback via 'callbacks' argument instead.\n",
      "  _log_warning(\"'verbose' argument is deprecated and will be removed in a future release of LightGBM. \"\n",
      "C:\\Users\\Windows\\.conda\\envs\\tf\\lib\\site-packages\\lightgbm\\basic.py:2065: UserWarning: Using categorical_feature in Dataset.\n",
      "  _log_warning('Using categorical_feature in Dataset.')\n",
      "C:\\Users\\Windows\\.conda\\envs\\tf\\lib\\site-packages\\lightgbm\\basic.py:2068: UserWarning: categorical_feature in Dataset is overridden.\n",
      "New categorical_feature is ['EDUCATION_LEVEL', 'EXTERNAL_SCORING_RATING_1_IS_NAN', 'EXTERNAL_SCORING_RATING_2_IS_NAN', 'EXTERNAL_SCORING_RATING_3_IS_NAN', 'FAMILY_STATUS', 'GENDER', 'NAME_CONTRACT_TYPE']\n",
      "  _log_warning('categorical_feature in Dataset is overridden.\\n'\n",
      "C:\\Users\\Windows\\.conda\\envs\\tf\\lib\\site-packages\\lightgbm\\basic.py:1780: UserWarning: Overriding the parameters from Reference Dataset.\n",
      "  _log_warning('Overriding the parameters from Reference Dataset.')\n",
      "C:\\Users\\Windows\\.conda\\envs\\tf\\lib\\site-packages\\lightgbm\\basic.py:1513: UserWarning: categorical_column in param dict is overridden.\n",
      "  _log_warning(f'{cat_alias} in param dict is overridden.')\n"
     ]
    },
    {
     "name": "stdout",
     "output_type": "stream",
     "text": [
      "[200]\ttraining's auc: 0.763295\tvalid_1's auc: 0.731741\n",
      "[400]\ttraining's auc: 0.793626\tvalid_1's auc: 0.73808\n",
      "[600]\ttraining's auc: 0.817634\tvalid_1's auc: 0.736333\n",
      "[800]\ttraining's auc: 0.836958\tvalid_1's auc: 0.735738\n",
      "Fold: 18, train-observations = 104589, valid-observations = 5504\n",
      "train-score = 0.7959, valid-score = 0.7384\n",
      "=====================================================================\n",
      "[LightGBM] [Warning] seed is set=27, random_state=27 will be ignored. Current value: seed=27\n",
      "[LightGBM] [Warning] early_stopping_round is set=500, early_stopping_rounds=500 will be ignored. Current value: early_stopping_round=500\n"
     ]
    },
    {
     "name": "stderr",
     "output_type": "stream",
     "text": [
      "C:\\Users\\Windows\\.conda\\envs\\tf\\lib\\site-packages\\lightgbm\\sklearn.py:726: UserWarning: 'early_stopping_rounds' argument is deprecated and will be removed in a future release of LightGBM. Pass 'early_stopping()' callback via 'callbacks' argument instead.\n",
      "  _log_warning(\"'early_stopping_rounds' argument is deprecated and will be removed in a future release of LightGBM. \"\n",
      "C:\\Users\\Windows\\.conda\\envs\\tf\\lib\\site-packages\\lightgbm\\sklearn.py:736: UserWarning: 'verbose' argument is deprecated and will be removed in a future release of LightGBM. Pass 'log_evaluation()' callback via 'callbacks' argument instead.\n",
      "  _log_warning(\"'verbose' argument is deprecated and will be removed in a future release of LightGBM. \"\n",
      "C:\\Users\\Windows\\.conda\\envs\\tf\\lib\\site-packages\\lightgbm\\basic.py:2065: UserWarning: Using categorical_feature in Dataset.\n",
      "  _log_warning('Using categorical_feature in Dataset.')\n",
      "C:\\Users\\Windows\\.conda\\envs\\tf\\lib\\site-packages\\lightgbm\\basic.py:2068: UserWarning: categorical_feature in Dataset is overridden.\n",
      "New categorical_feature is ['EDUCATION_LEVEL', 'EXTERNAL_SCORING_RATING_1_IS_NAN', 'EXTERNAL_SCORING_RATING_2_IS_NAN', 'EXTERNAL_SCORING_RATING_3_IS_NAN', 'FAMILY_STATUS', 'GENDER', 'NAME_CONTRACT_TYPE']\n",
      "  _log_warning('categorical_feature in Dataset is overridden.\\n'\n",
      "C:\\Users\\Windows\\.conda\\envs\\tf\\lib\\site-packages\\lightgbm\\basic.py:1780: UserWarning: Overriding the parameters from Reference Dataset.\n",
      "  _log_warning('Overriding the parameters from Reference Dataset.')\n",
      "C:\\Users\\Windows\\.conda\\envs\\tf\\lib\\site-packages\\lightgbm\\basic.py:1513: UserWarning: categorical_column in param dict is overridden.\n",
      "  _log_warning(f'{cat_alias} in param dict is overridden.')\n"
     ]
    },
    {
     "name": "stdout",
     "output_type": "stream",
     "text": [
      "[200]\ttraining's auc: 0.764582\tvalid_1's auc: 0.702302\n",
      "[400]\ttraining's auc: 0.794954\tvalid_1's auc: 0.708622\n",
      "[600]\ttraining's auc: 0.817875\tvalid_1's auc: 0.712218\n",
      "[800]\ttraining's auc: 0.836876\tvalid_1's auc: 0.712186\n",
      "[1000]\ttraining's auc: 0.853971\tvalid_1's auc: 0.711947\n",
      "[1200]\ttraining's auc: 0.868607\tvalid_1's auc: 0.711314\n",
      "Fold: 19, train-observations = 104589, valid-observations = 5504\n",
      "train-score = 0.8294, valid-score = 0.7132\n",
      "=====================================================================\n",
      "[LightGBM] [Warning] seed is set=27, random_state=27 will be ignored. Current value: seed=27\n",
      "[LightGBM] [Warning] early_stopping_round is set=500, early_stopping_rounds=500 will be ignored. Current value: early_stopping_round=500"
     ]
    },
    {
     "name": "stderr",
     "output_type": "stream",
     "text": [
      "C:\\Users\\Windows\\.conda\\envs\\tf\\lib\\site-packages\\lightgbm\\sklearn.py:726: UserWarning: 'early_stopping_rounds' argument is deprecated and will be removed in a future release of LightGBM. Pass 'early_stopping()' callback via 'callbacks' argument instead.\n",
      "  _log_warning(\"'early_stopping_rounds' argument is deprecated and will be removed in a future release of LightGBM. \"\n",
      "C:\\Users\\Windows\\.conda\\envs\\tf\\lib\\site-packages\\lightgbm\\sklearn.py:736: UserWarning: 'verbose' argument is deprecated and will be removed in a future release of LightGBM. Pass 'log_evaluation()' callback via 'callbacks' argument instead.\n",
      "  _log_warning(\"'verbose' argument is deprecated and will be removed in a future release of LightGBM. \"\n",
      "C:\\Users\\Windows\\.conda\\envs\\tf\\lib\\site-packages\\lightgbm\\basic.py:2065: UserWarning: Using categorical_feature in Dataset.\n",
      "  _log_warning('Using categorical_feature in Dataset.')\n",
      "C:\\Users\\Windows\\.conda\\envs\\tf\\lib\\site-packages\\lightgbm\\basic.py:2068: UserWarning: categorical_feature in Dataset is overridden.\n",
      "New categorical_feature is ['EDUCATION_LEVEL', 'EXTERNAL_SCORING_RATING_1_IS_NAN', 'EXTERNAL_SCORING_RATING_2_IS_NAN', 'EXTERNAL_SCORING_RATING_3_IS_NAN', 'FAMILY_STATUS', 'GENDER', 'NAME_CONTRACT_TYPE']\n",
      "  _log_warning('categorical_feature in Dataset is overridden.\\n'\n"
     ]
    },
    {
     "name": "stdout",
     "output_type": "stream",
     "text": [
      "\n"
     ]
    },
    {
     "name": "stderr",
     "output_type": "stream",
     "text": [
      "C:\\Users\\Windows\\.conda\\envs\\tf\\lib\\site-packages\\lightgbm\\basic.py:1780: UserWarning: Overriding the parameters from Reference Dataset.\n",
      "  _log_warning('Overriding the parameters from Reference Dataset.')\n",
      "C:\\Users\\Windows\\.conda\\envs\\tf\\lib\\site-packages\\lightgbm\\basic.py:1513: UserWarning: categorical_column in param dict is overridden.\n",
      "  _log_warning(f'{cat_alias} in param dict is overridden.')\n"
     ]
    },
    {
     "name": "stdout",
     "output_type": "stream",
     "text": [
      "[200]\ttraining's auc: 0.763157\tvalid_1's auc: 0.726793\n",
      "[400]\ttraining's auc: 0.794058\tvalid_1's auc: 0.733213\n",
      "[600]\ttraining's auc: 0.816977\tvalid_1's auc: 0.734675\n",
      "[800]\ttraining's auc: 0.835793\tvalid_1's auc: 0.734631\n",
      "[1000]\ttraining's auc: 0.852428\tvalid_1's auc: 0.734497\n",
      "[1200]\ttraining's auc: 0.866329\tvalid_1's auc: 0.734559\n",
      "Fold: 20, train-observations = 104589, valid-observations = 5504\n",
      "train-score = 0.8273, valid-score = 0.7358\n",
      "=====================================================================\n",
      "CV-results train: 0.8341 +/- 0.033\n",
      "CV-results valid: 0.731 +/- 0.011\n",
      "OOF-score = 0.8228\n"
     ]
    }
   ],
   "source": [
    "#model,test_prediction=get_samples_hold_out_validation(lgbm_params,train,target,[0.7,0.2,0.1],'LGBM', categorical)\n",
    "#cv_strategy = KFold(n_splits=20, random_state=42,shuffle=True)\n",
    "#cv_strategy = StratifiedShuffleSplit(n_splits=20, random_state=29, train_size=0.7)\n",
    "cv_strategy = StratifiedKFold(n_splits=20, shuffle=True, random_state=42)\n",
    "\n",
    "estimators, oof_score, fold_train_scores, fold_valid_scores, oof_predictions = make_cross_validation(\n",
    "    train, target, model, categorical, metric=roc_auc_score,cv_strategy=cv_strategy\n",
    ")"
   ]
  },
  {
   "cell_type": "code",
   "execution_count": 56,
   "id": "0856ea12",
   "metadata": {},
   "outputs": [],
   "source": [
    "fold_number_max_score = np.argmax(fold_valid_scores)"
   ]
  },
  {
   "cell_type": "code",
   "execution_count": 57,
   "id": "8d647e23",
   "metadata": {},
   "outputs": [
    {
     "data": {
      "text/plain": [
       "0.7552454075615601"
      ]
     },
     "execution_count": 57,
     "metadata": {},
     "output_type": "execute_result"
    }
   ],
   "source": [
    "np.max(fold_valid_scores)"
   ]
  },
  {
   "cell_type": "code",
   "execution_count": 58,
   "id": "07b7bb68",
   "metadata": {},
   "outputs": [],
   "source": [
    "best_model_lgb=estimators[fold_number_max_score]"
   ]
  },
  {
   "cell_type": "code",
   "execution_count": 59,
   "id": "d8c451f0",
   "metadata": {},
   "outputs": [],
   "source": [
    "test_predict_target=best_model_lgb.predict_proba(test)[:,1]  "
   ]
  },
  {
   "cell_type": "markdown",
   "id": "fdd8b24a",
   "metadata": {},
   "source": [
    "Оценим важности признаков и уберем малозначащие признаки из модели"
   ]
  },
  {
   "cell_type": "code",
   "execution_count": 63,
   "id": "67f0c34b",
   "metadata": {},
   "outputs": [
    {
     "data": {
      "text/plain": [
       "<AxesSubplot:title={'center':'Feature importance'}, xlabel='Feature importance', ylabel='Features'>"
      ]
     },
     "execution_count": 63,
     "metadata": {},
     "output_type": "execute_result"
    },
    {
     "data": {
      "image/png": "[encoded data removed]",
      "text/plain": [
       "<Figure size 720x2160 with 1 Axes>"
      ]
     },
     "metadata": {
      "needs_background": "light"
     },
     "output_type": "display_data"
    }
   ],
   "source": [
    "lgb.plot_importance(best_model_lgb,max_num_features=200,figsize=(10,30))"
   ]
  },
  {
   "cell_type": "code",
   "execution_count": 64,
   "id": "550bac55",
   "metadata": {},
   "outputs": [
    {
     "data": {
      "text/plain": [
       "68"
      ]
     },
     "execution_count": 64,
     "metadata": {},
     "output_type": "execute_result"
    }
   ],
   "source": [
    "len(best_model_lgb.feature_importances_)"
   ]
  },
  {
   "cell_type": "markdown",
   "id": "596c1920",
   "metadata": {},
   "source": [
    "Уберем последние 4 признака, которые по существу мало влияют на качество модели и снова обучим модель"
   ]
  },
  {
   "cell_type": "code",
   "execution_count": 65,
   "id": "ff32b69f",
   "metadata": {},
   "outputs": [],
   "source": [
    "train_only_imp_features=train.drop([\"CHILDRENS\",\"FLAG_EMAIL\",\"NON_CHILD\",\"RATIO_CHILD_TO_NON_CHILD\"],axis=1)"
   ]
  },
  {
   "cell_type": "code",
   "execution_count": 66,
   "id": "fc1b717e",
   "metadata": {},
   "outputs": [],
   "source": [
    "test_only_imp_features=test.drop([\"CHILDRENS\",\"FLAG_EMAIL\",\"NON_CHILD\",\"RATIO_CHILD_TO_NON_CHILD\"],axis=1)"
   ]
  },
  {
   "cell_type": "markdown",
   "id": "81f3cd2d",
   "metadata": {},
   "source": [
    "Оптимизируем параметры модели и снова обучим модель"
   ]
  },
  {
   "cell_type": "code",
   "execution_count": 67,
   "id": "ef430d3a",
   "metadata": {},
   "outputs": [
    {
     "name": "stdout",
     "output_type": "stream",
     "text": [
      "Requirement already satisfied: bayesian-optimization in c:\\users\\windows\\.conda\\envs\\tf\\lib\\site-packages (1.2.0)\n",
      "Requirement already satisfied: scipy>=0.14.0 in c:\\users\\windows\\appdata\\roaming\\python\\python38\\site-packages (from bayesian-optimization) (1.4.1)\n",
      "Requirement already satisfied: scikit-learn>=0.18.0 in c:\\users\\windows\\appdata\\roaming\\python\\python38\\site-packages (from bayesian-optimization) (0.24.1)\n",
      "Requirement already satisfied: numpy>=1.9.0 in c:\\users\\windows\\.conda\\envs\\tf\\lib\\site-packages (from bayesian-optimization) (1.18.5)\n",
      "Requirement already satisfied: joblib>=0.11 in c:\\users\\windows\\.conda\\envs\\tf\\lib\\site-packages (from scikit-learn>=0.18.0->bayesian-optimization) (1.0.1)\n",
      "Requirement already satisfied: threadpoolctl>=2.0.0 in c:\\users\\windows\\.conda\\envs\\tf\\lib\\site-packages (from scikit-learn>=0.18.0->bayesian-optimization) (3.0.0)\n"
     ]
    },
    {
     "name": "stderr",
     "output_type": "stream",
     "text": [
      "WARNING: You are using pip version 21.0.1; however, version 21.3.1 is available.\n",
      "You should consider upgrading via the 'C:\\Users\\Windows\\.conda\\envs\\tf\\python.exe -m pip install --upgrade pip' command.\n"
     ]
    }
   ],
   "source": [
    "!pip install bayesian-optimization"
   ]
  },
  {
   "cell_type": "code",
   "execution_count": 68,
   "id": "86ba887e",
   "metadata": {},
   "outputs": [],
   "source": [
    "from bayes_opt import BayesianOptimization"
   ]
  },
  {
   "cell_type": "code",
   "execution_count": 69,
   "id": "31b7526e",
   "metadata": {},
   "outputs": [],
   "source": [
    "def get_train_valid_test_data(data,target):\n",
    "    x_train, x_valid = train_test_split(\n",
    "        data, train_size=0.7, shuffle=True, random_state=1\n",
    "    )\n",
    "    y_train, y_valid = train_test_split(\n",
    "        target, train_size=0.7, shuffle=True, random_state=1\n",
    "    )\n",
    "\n",
    "    x_valid, x_test = train_test_split(\n",
    "        x_valid, train_size=0.7, shuffle=True, random_state=27\n",
    "    )\n",
    "    y_valid, y_test = train_test_split(\n",
    "        y_valid, train_size=0.7, shuffle=True, random_state=27\n",
    "    )\n",
    "\n",
    "    print(\"x_train.shape = {} rows, {} cols\".format(*x_train.shape))\n",
    "    print(\"x_valid.shape = {} rows, {} cols\".format(*x_valid.shape))\n",
    "    print(\"x_test.shape = {} rows, {} cols\".format(*x_test.shape))\n",
    "    return x_train, x_valid,x_test, y_train, y_valid,y_test"
   ]
  },
  {
   "cell_type": "code",
   "execution_count": 151,
   "id": "838edb4c",
   "metadata": {},
   "outputs": [
    {
     "name": "stdout",
     "output_type": "stream",
     "text": [
      "x_train.shape = 77065 rows, 64 cols\n",
      "x_valid.shape = 23119 rows, 64 cols\n",
      "x_test.shape = 9909 rows, 64 cols\n"
     ]
    }
   ],
   "source": [
    "x_train, x_valid,x_test, y_train, y_valid,y_test=get_train_valid_test_data(train_only_imp_features,target)"
   ]
  },
  {
   "cell_type": "code",
   "execution_count": 273,
   "id": "ec9195a0",
   "metadata": {},
   "outputs": [],
   "source": [
    "def lgboost_optimize_params(max_depth, colsample_bytree, num_leaves, min_data_in_leaf,\n",
    "                            min_child_weight):\n",
    "\n",
    "    params = {\n",
    "        'boosting_type': 'gbdt',\n",
    "        'objective': 'binary',\n",
    "        'metric': 'auc',\n",
    "        'learning_rate': 0.01,\n",
    "        'n_estimators': 9000,\n",
    "        'n_jobs': 7,\n",
    "        'seed': 27,\n",
    "        'early_stopping_rounds':500,\n",
    "        'num_leaves': 57,\n",
    "        'max_depth': 9,\n",
    "        'subsample_for_bin': 200000,\n",
    "        'lambda_l1': 0.436193,\n",
    "        'lambda_l2': 0.479169,\n",
    "        'colsample_bytree': 0.508716,\n",
    "        'min_split_gain': 0.024766,\n",
    "        'subsample': 0.7,\n",
    "        'is_unbalance': False,\n",
    "        'random_state': 27,\n",
    "        'extra_trees':False,\n",
    "        'min_data_in_leaf':20,\n",
    "        'min_child_weight': 0.001,\n",
    "        'subsample_freq':0\n",
    "    }\n",
    "    \n",
    "    params[\"max_depth\"] = int(max_depth)  \n",
    "    params[\"colsample_bytree\"] = colsample_bytree\n",
    "    params[\"num_leaves\"] = int(num_leaves)   \n",
    "    params[\"min_data_in_leaf\"] = int(min_data_in_leaf)\n",
    "    params[\"min_child_weight\"] = min_child_weight\n",
    "       \n",
    "    \n",
    "    model = lgb.LGBMClassifier(**params)\n",
    "    \n",
    "    model.fit(X=x_train,y=y_train,\n",
    "                      eval_set=[(x_train, y_train), (x_valid, y_valid)],\n",
    "                      early_stopping_rounds=500,\n",
    "                      eval_metric=\"auc\",\n",
    "                      verbose=200,\n",
    "                      categorical_feature=categorical)\n",
    " \n",
    "    return roc_auc_score(y_valid, model.predict_proba(x_valid)[:, 1])"
   ]
  },
  {
   "cell_type": "code",
   "execution_count": 254,
   "id": "371adecf",
   "metadata": {},
   "outputs": [
    {
     "name": "stdout",
     "output_type": "stream",
     "text": [
      "|   iter    |  target   | colsam... | max_depth | min_da... | num_le... |\n",
      "-------------------------------------------------------------------------\n",
      "[LightGBM] [Warning] seed is set=27, random_state=27 will be ignored. Current value: seed=27\n",
      "[LightGBM] [Warning] min_data_in_leaf is set=194, min_child_samples=20 will be ignored. Current value: min_data_in_leaf=194\n",
      "[LightGBM] [Warning] lambda_l1 is set=0.436193, reg_alpha=0.0 will be ignored. Current value: lambda_l1=0.436193\n",
      "[LightGBM] [Warning] lambda_l2 is set=0.479169, reg_lambda=0.0 will be ignored. Current value: lambda_l2=0.479169\n",
      "[LightGBM] [Warning] early_stopping_round is set=500, early_stopping_rounds=500 will be ignored. Current value: early_stopping_round=500\n"
     ]
    },
    {
     "name": "stderr",
     "output_type": "stream",
     "text": [
      "C:\\Users\\Windows\\.conda\\envs\\tf\\lib\\site-packages\\lightgbm\\sklearn.py:726: UserWarning: 'early_stopping_rounds' argument is deprecated and will be removed in a future release of LightGBM. Pass 'early_stopping()' callback via 'callbacks' argument instead.\n",
      "  _log_warning(\"'early_stopping_rounds' argument is deprecated and will be removed in a future release of LightGBM. \"\n",
      "C:\\Users\\Windows\\.conda\\envs\\tf\\lib\\site-packages\\lightgbm\\sklearn.py:736: UserWarning: 'verbose' argument is deprecated and will be removed in a future release of LightGBM. Pass 'log_evaluation()' callback via 'callbacks' argument instead.\n",
      "  _log_warning(\"'verbose' argument is deprecated and will be removed in a future release of LightGBM. \"\n",
      "C:\\Users\\Windows\\.conda\\envs\\tf\\lib\\site-packages\\lightgbm\\basic.py:2065: UserWarning: Using categorical_feature in Dataset.\n",
      "  _log_warning('Using categorical_feature in Dataset.')\n",
      "C:\\Users\\Windows\\.conda\\envs\\tf\\lib\\site-packages\\lightgbm\\basic.py:2068: UserWarning: categorical_feature in Dataset is overridden.\n",
      "New categorical_feature is ['EDUCATION_LEVEL', 'EXTERNAL_SCORING_RATING_1_IS_NAN', 'EXTERNAL_SCORING_RATING_2_IS_NAN', 'EXTERNAL_SCORING_RATING_3_IS_NAN', 'FAMILY_STATUS', 'GENDER', 'NAME_CONTRACT_TYPE']\n",
      "  _log_warning('categorical_feature in Dataset is overridden.\\n'\n",
      "C:\\Users\\Windows\\.conda\\envs\\tf\\lib\\site-packages\\lightgbm\\basic.py:1780: UserWarning: Overriding the parameters from Reference Dataset.\n",
      "  _log_warning('Overriding the parameters from Reference Dataset.')\n",
      "C:\\Users\\Windows\\.conda\\envs\\tf\\lib\\site-packages\\lightgbm\\basic.py:1513: UserWarning: categorical_column in param dict is overridden.\n",
      "  _log_warning(f'{cat_alias} in param dict is overridden.')\n"
     ]
    },
    {
     "name": "stdout",
     "output_type": "stream",
     "text": [
      "[200]\ttraining's auc: 0.796115\tvalid_1's auc: 0.720958\n",
      "[400]\ttraining's auc: 0.830393\tvalid_1's auc: 0.725106\n",
      "[600]\ttraining's auc: 0.850126\tvalid_1's auc: 0.725539\n",
      "[800]\ttraining's auc: 0.868439\tvalid_1's auc: 0.725713\n",
      "[1000]\ttraining's auc: 0.884222\tvalid_1's auc: 0.725898\n",
      "[1200]\ttraining's auc: 0.896984\tvalid_1's auc: 0.726256\n",
      "[1400]\ttraining's auc: 0.907614\tvalid_1's auc: 0.726232\n",
      "[1600]\ttraining's auc: 0.915779\tvalid_1's auc: 0.726208\n",
      "[1800]\ttraining's auc: 0.922411\tvalid_1's auc: 0.725517\n",
      "| \u001b[0m 1       \u001b[0m | \u001b[0m 0.7268  \u001b[0m | \u001b[0m 0.5554  \u001b[0m | \u001b[0m 9.258   \u001b[0m | \u001b[0m 194.9   \u001b[0m | \u001b[0m 90.1    \u001b[0m |\n",
      "[LightGBM] [Warning] seed is set=27, random_state=27 will be ignored. Current value: seed=27\n",
      "[LightGBM] [Warning] min_data_in_leaf is set=231, min_child_samples=20 will be ignored. Current value: min_data_in_leaf=231\n",
      "[LightGBM] [Warning] lambda_l1 is set=0.436193, reg_alpha=0.0 will be ignored. Current value: lambda_l1=0.436193\n",
      "[LightGBM] [Warning] lambda_l2 is set=0.479169, reg_lambda=0.0 will be ignored. Current value: lambda_l2=0.479169\n",
      "[LightGBM] [Warning] early_stopping_round is set=500, early_stopping_rounds=500 will be ignored. Current value: early_stopping_round=500\n"
     ]
    },
    {
     "name": "stderr",
     "output_type": "stream",
     "text": [
      "C:\\Users\\Windows\\.conda\\envs\\tf\\lib\\site-packages\\lightgbm\\sklearn.py:726: UserWarning: 'early_stopping_rounds' argument is deprecated and will be removed in a future release of LightGBM. Pass 'early_stopping()' callback via 'callbacks' argument instead.\n",
      "  _log_warning(\"'early_stopping_rounds' argument is deprecated and will be removed in a future release of LightGBM. \"\n",
      "C:\\Users\\Windows\\.conda\\envs\\tf\\lib\\site-packages\\lightgbm\\sklearn.py:736: UserWarning: 'verbose' argument is deprecated and will be removed in a future release of LightGBM. Pass 'log_evaluation()' callback via 'callbacks' argument instead.\n",
      "  _log_warning(\"'verbose' argument is deprecated and will be removed in a future release of LightGBM. \"\n",
      "C:\\Users\\Windows\\.conda\\envs\\tf\\lib\\site-packages\\lightgbm\\basic.py:2065: UserWarning: Using categorical_feature in Dataset.\n",
      "  _log_warning('Using categorical_feature in Dataset.')\n",
      "C:\\Users\\Windows\\.conda\\envs\\tf\\lib\\site-packages\\lightgbm\\basic.py:2068: UserWarning: categorical_feature in Dataset is overridden.\n",
      "New categorical_feature is ['EDUCATION_LEVEL', 'EXTERNAL_SCORING_RATING_1_IS_NAN', 'EXTERNAL_SCORING_RATING_2_IS_NAN', 'EXTERNAL_SCORING_RATING_3_IS_NAN', 'FAMILY_STATUS', 'GENDER', 'NAME_CONTRACT_TYPE']\n",
      "  _log_warning('categorical_feature in Dataset is overridden.\\n'\n",
      "C:\\Users\\Windows\\.conda\\envs\\tf\\lib\\site-packages\\lightgbm\\basic.py:1780: UserWarning: Overriding the parameters from Reference Dataset.\n",
      "  _log_warning('Overriding the parameters from Reference Dataset.')\n",
      "C:\\Users\\Windows\\.conda\\envs\\tf\\lib\\site-packages\\lightgbm\\basic.py:1513: UserWarning: categorical_column in param dict is overridden.\n",
      "  _log_warning(f'{cat_alias} in param dict is overridden.')\n"
     ]
    },
    {
     "name": "stdout",
     "output_type": "stream",
     "text": [
      "[200]\ttraining's auc: 0.75776\tvalid_1's auc: 0.72063\n",
      "[400]\ttraining's auc: 0.783986\tvalid_1's auc: 0.725142\n",
      "[600]\ttraining's auc: 0.802654\tvalid_1's auc: 0.726157\n",
      "[800]\ttraining's auc: 0.819317\tvalid_1's auc: 0.726076\n",
      "[1000]\ttraining's auc: 0.8343\tvalid_1's auc: 0.726252\n",
      "[1200]\ttraining's auc: 0.848366\tvalid_1's auc: 0.726177\n",
      "[1400]\ttraining's auc: 0.862025\tvalid_1's auc: 0.726219\n",
      "[1600]\ttraining's auc: 0.874227\tvalid_1's auc: 0.725639\n",
      "[1800]\ttraining's auc: 0.884532\tvalid_1's auc: 0.725632\n",
      "| \u001b[0m 2       \u001b[0m | \u001b[0m 0.7268  \u001b[0m | \u001b[0m 0.53    \u001b[0m | \u001b[0m 9.918   \u001b[0m | \u001b[0m 231.3   \u001b[0m | \u001b[0m 40.73   \u001b[0m |\n",
      "[LightGBM] [Warning] seed is set=27, random_state=27 will be ignored. Current value: seed=27\n",
      "[LightGBM] [Warning] min_data_in_leaf is set=229, min_child_samples=20 will be ignored. Current value: min_data_in_leaf=229\n",
      "[LightGBM] [Warning] lambda_l1 is set=0.436193, reg_alpha=0.0 will be ignored. Current value: lambda_l1=0.436193\n",
      "[LightGBM] [Warning] lambda_l2 is set=0.479169, reg_lambda=0.0 will be ignored. Current value: lambda_l2=0.479169\n",
      "[LightGBM] [Warning] early_stopping_round is set=500, early_stopping_rounds=500 will be ignored. Current value: early_stopping_round=500\n"
     ]
    },
    {
     "name": "stderr",
     "output_type": "stream",
     "text": [
      "C:\\Users\\Windows\\.conda\\envs\\tf\\lib\\site-packages\\lightgbm\\sklearn.py:726: UserWarning: 'early_stopping_rounds' argument is deprecated and will be removed in a future release of LightGBM. Pass 'early_stopping()' callback via 'callbacks' argument instead.\n",
      "  _log_warning(\"'early_stopping_rounds' argument is deprecated and will be removed in a future release of LightGBM. \"\n",
      "C:\\Users\\Windows\\.conda\\envs\\tf\\lib\\site-packages\\lightgbm\\sklearn.py:736: UserWarning: 'verbose' argument is deprecated and will be removed in a future release of LightGBM. Pass 'log_evaluation()' callback via 'callbacks' argument instead.\n",
      "  _log_warning(\"'verbose' argument is deprecated and will be removed in a future release of LightGBM. \"\n",
      "C:\\Users\\Windows\\.conda\\envs\\tf\\lib\\site-packages\\lightgbm\\basic.py:2065: UserWarning: Using categorical_feature in Dataset.\n",
      "  _log_warning('Using categorical_feature in Dataset.')\n",
      "C:\\Users\\Windows\\.conda\\envs\\tf\\lib\\site-packages\\lightgbm\\basic.py:2068: UserWarning: categorical_feature in Dataset is overridden.\n",
      "New categorical_feature is ['EDUCATION_LEVEL', 'EXTERNAL_SCORING_RATING_1_IS_NAN', 'EXTERNAL_SCORING_RATING_2_IS_NAN', 'EXTERNAL_SCORING_RATING_3_IS_NAN', 'FAMILY_STATUS', 'GENDER', 'NAME_CONTRACT_TYPE']\n",
      "  _log_warning('categorical_feature in Dataset is overridden.\\n'\n",
      "C:\\Users\\Windows\\.conda\\envs\\tf\\lib\\site-packages\\lightgbm\\basic.py:1780: UserWarning: Overriding the parameters from Reference Dataset.\n",
      "  _log_warning('Overriding the parameters from Reference Dataset.')\n",
      "C:\\Users\\Windows\\.conda\\envs\\tf\\lib\\site-packages\\lightgbm\\basic.py:1513: UserWarning: categorical_column in param dict is overridden.\n",
      "  _log_warning(f'{cat_alias} in param dict is overridden.')\n"
     ]
    },
    {
     "name": "stdout",
     "output_type": "stream",
     "text": [
      "[200]\ttraining's auc: 0.790227\tvalid_1's auc: 0.721091\n",
      "[400]\ttraining's auc: 0.818971\tvalid_1's auc: 0.723534\n",
      "[600]\ttraining's auc: 0.836235\tvalid_1's auc: 0.724355\n",
      "[800]\ttraining's auc: 0.851124\tvalid_1's auc: 0.724072\n",
      "[1000]\ttraining's auc: 0.865975\tvalid_1's auc: 0.72391\n",
      "[1200]\ttraining's auc: 0.878008\tvalid_1's auc: 0.723873\n",
      "| \u001b[0m 3       \u001b[0m | \u001b[0m 0.7252  \u001b[0m | \u001b[0m 0.7451  \u001b[0m | \u001b[0m 8.653   \u001b[0m | \u001b[0m 229.9   \u001b[0m | \u001b[0m 89.35   \u001b[0m |\n",
      "[LightGBM] [Warning] seed is set=27, random_state=27 will be ignored. Current value: seed=27\n",
      "[LightGBM] [Warning] min_data_in_leaf is set=68, min_child_samples=20 will be ignored. Current value: min_data_in_leaf=68\n",
      "[LightGBM] [Warning] lambda_l1 is set=0.436193, reg_alpha=0.0 will be ignored. Current value: lambda_l1=0.436193\n",
      "[LightGBM] [Warning] lambda_l2 is set=0.479169, reg_lambda=0.0 will be ignored. Current value: lambda_l2=0.479169\n",
      "[LightGBM] [Warning] early_stopping_round is set=500, early_stopping_rounds=500 will be ignored. Current value: early_stopping_round=500\n"
     ]
    },
    {
     "name": "stderr",
     "output_type": "stream",
     "text": [
      "C:\\Users\\Windows\\.conda\\envs\\tf\\lib\\site-packages\\lightgbm\\sklearn.py:726: UserWarning: 'early_stopping_rounds' argument is deprecated and will be removed in a future release of LightGBM. Pass 'early_stopping()' callback via 'callbacks' argument instead.\n",
      "  _log_warning(\"'early_stopping_rounds' argument is deprecated and will be removed in a future release of LightGBM. \"\n",
      "C:\\Users\\Windows\\.conda\\envs\\tf\\lib\\site-packages\\lightgbm\\sklearn.py:736: UserWarning: 'verbose' argument is deprecated and will be removed in a future release of LightGBM. Pass 'log_evaluation()' callback via 'callbacks' argument instead.\n",
      "  _log_warning(\"'verbose' argument is deprecated and will be removed in a future release of LightGBM. \"\n",
      "C:\\Users\\Windows\\.conda\\envs\\tf\\lib\\site-packages\\lightgbm\\basic.py:2065: UserWarning: Using categorical_feature in Dataset.\n",
      "  _log_warning('Using categorical_feature in Dataset.')\n",
      "C:\\Users\\Windows\\.conda\\envs\\tf\\lib\\site-packages\\lightgbm\\basic.py:2068: UserWarning: categorical_feature in Dataset is overridden.\n",
      "New categorical_feature is ['EDUCATION_LEVEL', 'EXTERNAL_SCORING_RATING_1_IS_NAN', 'EXTERNAL_SCORING_RATING_2_IS_NAN', 'EXTERNAL_SCORING_RATING_3_IS_NAN', 'FAMILY_STATUS', 'GENDER', 'NAME_CONTRACT_TYPE']\n",
      "  _log_warning('categorical_feature in Dataset is overridden.\\n'\n",
      "C:\\Users\\Windows\\.conda\\envs\\tf\\lib\\site-packages\\lightgbm\\basic.py:1780: UserWarning: Overriding the parameters from Reference Dataset.\n",
      "  _log_warning('Overriding the parameters from Reference Dataset.')\n",
      "C:\\Users\\Windows\\.conda\\envs\\tf\\lib\\site-packages\\lightgbm\\basic.py:1513: UserWarning: categorical_column in param dict is overridden.\n",
      "  _log_warning(f'{cat_alias} in param dict is overridden.')\n"
     ]
    },
    {
     "name": "stdout",
     "output_type": "stream",
     "text": [
      "[200]\ttraining's auc: 0.770643\tvalid_1's auc: 0.719792\n",
      "[400]\ttraining's auc: 0.803297\tvalid_1's auc: 0.723376\n",
      "[600]\ttraining's auc: 0.826976\tvalid_1's auc: 0.723926\n",
      "[800]\ttraining's auc: 0.84916\tvalid_1's auc: 0.72394\n",
      "[1000]\ttraining's auc: 0.8675\tvalid_1's auc: 0.723632\n",
      "[1200]\ttraining's auc: 0.883785\tvalid_1's auc: 0.723784\n",
      "[1400]\ttraining's auc: 0.896793\tvalid_1's auc: 0.722871\n",
      "| \u001b[0m 4       \u001b[0m | \u001b[0m 0.7244  \u001b[0m | \u001b[0m 0.7496  \u001b[0m | \u001b[0m 9.481   \u001b[0m | \u001b[0m 68.14   \u001b[0m | \u001b[0m 49.42   \u001b[0m |\n",
      "[LightGBM] [Warning] seed is set=27, random_state=27 will be ignored. Current value: seed=27\n",
      "[LightGBM] [Warning] min_data_in_leaf is set=59, min_child_samples=20 will be ignored. Current value: min_data_in_leaf=59\n",
      "[LightGBM] [Warning] lambda_l1 is set=0.436193, reg_alpha=0.0 will be ignored. Current value: lambda_l1=0.436193\n",
      "[LightGBM] [Warning] lambda_l2 is set=0.479169, reg_lambda=0.0 will be ignored. Current value: lambda_l2=0.479169\n",
      "[LightGBM] [Warning] early_stopping_round is set=500, early_stopping_rounds=500 will be ignored. Current value: early_stopping_round=500\n"
     ]
    },
    {
     "name": "stderr",
     "output_type": "stream",
     "text": [
      "C:\\Users\\Windows\\.conda\\envs\\tf\\lib\\site-packages\\lightgbm\\sklearn.py:726: UserWarning: 'early_stopping_rounds' argument is deprecated and will be removed in a future release of LightGBM. Pass 'early_stopping()' callback via 'callbacks' argument instead.\n",
      "  _log_warning(\"'early_stopping_rounds' argument is deprecated and will be removed in a future release of LightGBM. \"\n",
      "C:\\Users\\Windows\\.conda\\envs\\tf\\lib\\site-packages\\lightgbm\\sklearn.py:736: UserWarning: 'verbose' argument is deprecated and will be removed in a future release of LightGBM. Pass 'log_evaluation()' callback via 'callbacks' argument instead.\n",
      "  _log_warning(\"'verbose' argument is deprecated and will be removed in a future release of LightGBM. \"\n",
      "C:\\Users\\Windows\\.conda\\envs\\tf\\lib\\site-packages\\lightgbm\\basic.py:2065: UserWarning: Using categorical_feature in Dataset.\n",
      "  _log_warning('Using categorical_feature in Dataset.')\n",
      "C:\\Users\\Windows\\.conda\\envs\\tf\\lib\\site-packages\\lightgbm\\basic.py:2068: UserWarning: categorical_feature in Dataset is overridden.\n",
      "New categorical_feature is ['EDUCATION_LEVEL', 'EXTERNAL_SCORING_RATING_1_IS_NAN', 'EXTERNAL_SCORING_RATING_2_IS_NAN', 'EXTERNAL_SCORING_RATING_3_IS_NAN', 'FAMILY_STATUS', 'GENDER', 'NAME_CONTRACT_TYPE']\n",
      "  _log_warning('categorical_feature in Dataset is overridden.\\n'\n",
      "C:\\Users\\Windows\\.conda\\envs\\tf\\lib\\site-packages\\lightgbm\\basic.py:1780: UserWarning: Overriding the parameters from Reference Dataset.\n",
      "  _log_warning('Overriding the parameters from Reference Dataset.')\n",
      "C:\\Users\\Windows\\.conda\\envs\\tf\\lib\\site-packages\\lightgbm\\basic.py:1513: UserWarning: categorical_column in param dict is overridden.\n",
      "  _log_warning(f'{cat_alias} in param dict is overridden.')\n"
     ]
    },
    {
     "name": "stdout",
     "output_type": "stream",
     "text": [
      "[200]\ttraining's auc: 0.757939\tvalid_1's auc: 0.719914\n",
      "[400]\ttraining's auc: 0.785707\tvalid_1's auc: 0.724667\n",
      "[600]\ttraining's auc: 0.806751\tvalid_1's auc: 0.725499\n",
      "[800]\ttraining's auc: 0.826328\tvalid_1's auc: 0.724958\n",
      "[1000]\ttraining's auc: 0.843497\tvalid_1's auc: 0.724691\n",
      "[1200]\ttraining's auc: 0.858249\tvalid_1's auc: 0.724203\n",
      "| \u001b[0m 5       \u001b[0m | \u001b[0m 0.7257  \u001b[0m | \u001b[0m 0.5238  \u001b[0m | \u001b[0m 9.175   \u001b[0m | \u001b[0m 59.89   \u001b[0m | \u001b[0m 37.75   \u001b[0m |\n",
      "[LightGBM] [Warning] seed is set=27, random_state=27 will be ignored. Current value: seed=27\n",
      "[LightGBM] [Warning] min_data_in_leaf is set=205, min_child_samples=20 will be ignored. Current value: min_data_in_leaf=205\n",
      "[LightGBM] [Warning] lambda_l1 is set=0.436193, reg_alpha=0.0 will be ignored. Current value: lambda_l1=0.436193\n",
      "[LightGBM] [Warning] lambda_l2 is set=0.479169, reg_lambda=0.0 will be ignored. Current value: lambda_l2=0.479169\n",
      "[LightGBM] [Warning] early_stopping_round is set=500, early_stopping_rounds=500 will be ignored. Current value: early_stopping_round=500\n"
     ]
    },
    {
     "name": "stderr",
     "output_type": "stream",
     "text": [
      "C:\\Users\\Windows\\.conda\\envs\\tf\\lib\\site-packages\\lightgbm\\sklearn.py:726: UserWarning: 'early_stopping_rounds' argument is deprecated and will be removed in a future release of LightGBM. Pass 'early_stopping()' callback via 'callbacks' argument instead.\n",
      "  _log_warning(\"'early_stopping_rounds' argument is deprecated and will be removed in a future release of LightGBM. \"\n",
      "C:\\Users\\Windows\\.conda\\envs\\tf\\lib\\site-packages\\lightgbm\\sklearn.py:736: UserWarning: 'verbose' argument is deprecated and will be removed in a future release of LightGBM. Pass 'log_evaluation()' callback via 'callbacks' argument instead.\n",
      "  _log_warning(\"'verbose' argument is deprecated and will be removed in a future release of LightGBM. \"\n",
      "C:\\Users\\Windows\\.conda\\envs\\tf\\lib\\site-packages\\lightgbm\\basic.py:2065: UserWarning: Using categorical_feature in Dataset.\n",
      "  _log_warning('Using categorical_feature in Dataset.')\n",
      "C:\\Users\\Windows\\.conda\\envs\\tf\\lib\\site-packages\\lightgbm\\basic.py:2068: UserWarning: categorical_feature in Dataset is overridden.\n",
      "New categorical_feature is ['EDUCATION_LEVEL', 'EXTERNAL_SCORING_RATING_1_IS_NAN', 'EXTERNAL_SCORING_RATING_2_IS_NAN', 'EXTERNAL_SCORING_RATING_3_IS_NAN', 'FAMILY_STATUS', 'GENDER', 'NAME_CONTRACT_TYPE']\n",
      "  _log_warning('categorical_feature in Dataset is overridden.\\n'\n",
      "C:\\Users\\Windows\\.conda\\envs\\tf\\lib\\site-packages\\lightgbm\\basic.py:1780: UserWarning: Overriding the parameters from Reference Dataset.\n",
      "  _log_warning('Overriding the parameters from Reference Dataset.')\n",
      "C:\\Users\\Windows\\.conda\\envs\\tf\\lib\\site-packages\\lightgbm\\basic.py:1513: UserWarning: categorical_column in param dict is overridden.\n",
      "  _log_warning(f'{cat_alias} in param dict is overridden.')\n"
     ]
    },
    {
     "name": "stdout",
     "output_type": "stream",
     "text": [
      "[200]\ttraining's auc: 0.753004\tvalid_1's auc: 0.720255\n",
      "[400]\ttraining's auc: 0.775672\tvalid_1's auc: 0.724597\n",
      "[600]\ttraining's auc: 0.791936\tvalid_1's auc: 0.726991\n",
      "[800]\ttraining's auc: 0.805424\tvalid_1's auc: 0.727443\n",
      "[1000]\ttraining's auc: 0.81778\tvalid_1's auc: 0.727959\n",
      "[1200]\ttraining's auc: 0.828345\tvalid_1's auc: 0.727735\n",
      "[1400]\ttraining's auc: 0.840375\tvalid_1's auc: 0.727402\n",
      "| \u001b[95m 6       \u001b[0m | \u001b[95m 0.7282  \u001b[0m | \u001b[95m 0.3487  \u001b[0m | \u001b[95m 7.221   \u001b[0m | \u001b[95m 205.9   \u001b[0m | \u001b[95m 37.22   \u001b[0m |\n",
      "[LightGBM] [Warning] seed is set=27, random_state=27 will be ignored. Current value: seed=27\n",
      "[LightGBM] [Warning] min_data_in_leaf is set=66, min_child_samples=20 will be ignored. Current value: min_data_in_leaf=66\n",
      "[LightGBM] [Warning] lambda_l1 is set=0.436193, reg_alpha=0.0 will be ignored. Current value: lambda_l1=0.436193\n",
      "[LightGBM] [Warning] lambda_l2 is set=0.479169, reg_lambda=0.0 will be ignored. Current value: lambda_l2=0.479169\n",
      "[LightGBM] [Warning] early_stopping_round is set=500, early_stopping_rounds=500 will be ignored. Current value: early_stopping_round=500\n"
     ]
    },
    {
     "name": "stderr",
     "output_type": "stream",
     "text": [
      "C:\\Users\\Windows\\.conda\\envs\\tf\\lib\\site-packages\\lightgbm\\sklearn.py:726: UserWarning: 'early_stopping_rounds' argument is deprecated and will be removed in a future release of LightGBM. Pass 'early_stopping()' callback via 'callbacks' argument instead.\n",
      "  _log_warning(\"'early_stopping_rounds' argument is deprecated and will be removed in a future release of LightGBM. \"\n",
      "C:\\Users\\Windows\\.conda\\envs\\tf\\lib\\site-packages\\lightgbm\\sklearn.py:736: UserWarning: 'verbose' argument is deprecated and will be removed in a future release of LightGBM. Pass 'log_evaluation()' callback via 'callbacks' argument instead.\n",
      "  _log_warning(\"'verbose' argument is deprecated and will be removed in a future release of LightGBM. \"\n",
      "C:\\Users\\Windows\\.conda\\envs\\tf\\lib\\site-packages\\lightgbm\\basic.py:2065: UserWarning: Using categorical_feature in Dataset.\n",
      "  _log_warning('Using categorical_feature in Dataset.')\n",
      "C:\\Users\\Windows\\.conda\\envs\\tf\\lib\\site-packages\\lightgbm\\basic.py:2068: UserWarning: categorical_feature in Dataset is overridden.\n",
      "New categorical_feature is ['EDUCATION_LEVEL', 'EXTERNAL_SCORING_RATING_1_IS_NAN', 'EXTERNAL_SCORING_RATING_2_IS_NAN', 'EXTERNAL_SCORING_RATING_3_IS_NAN', 'FAMILY_STATUS', 'GENDER', 'NAME_CONTRACT_TYPE']\n",
      "  _log_warning('categorical_feature in Dataset is overridden.\\n'\n",
      "C:\\Users\\Windows\\.conda\\envs\\tf\\lib\\site-packages\\lightgbm\\basic.py:1780: UserWarning: Overriding the parameters from Reference Dataset.\n",
      "  _log_warning('Overriding the parameters from Reference Dataset.')\n",
      "C:\\Users\\Windows\\.conda\\envs\\tf\\lib\\site-packages\\lightgbm\\basic.py:1513: UserWarning: categorical_column in param dict is overridden.\n",
      "  _log_warning(f'{cat_alias} in param dict is overridden.')\n"
     ]
    },
    {
     "name": "stdout",
     "output_type": "stream",
     "text": [
      "[200]\ttraining's auc: 0.781558\tvalid_1's auc: 0.721578\n",
      "[400]\ttraining's auc: 0.817055\tvalid_1's auc: 0.726262\n",
      "[600]\ttraining's auc: 0.841657\tvalid_1's auc: 0.72738\n",
      "[800]\ttraining's auc: 0.861465\tvalid_1's auc: 0.727376\n",
      "[1000]\ttraining's auc: 0.878021\tvalid_1's auc: 0.727823\n",
      "[1200]\ttraining's auc: 0.892088\tvalid_1's auc: 0.726901\n",
      "| \u001b[95m 7       \u001b[0m | \u001b[95m 0.7286  \u001b[0m | \u001b[95m 0.3424  \u001b[0m | \u001b[95m 8.804   \u001b[0m | \u001b[95m 66.81   \u001b[0m | \u001b[95m 69.92   \u001b[0m |\n",
      "[LightGBM] [Warning] seed is set=27, random_state=27 will be ignored. Current value: seed=27\n",
      "[LightGBM] [Warning] min_data_in_leaf is set=65, min_child_samples=20 will be ignored. Current value: min_data_in_leaf=65\n",
      "[LightGBM] [Warning] lambda_l1 is set=0.436193, reg_alpha=0.0 will be ignored. Current value: lambda_l1=0.436193\n",
      "[LightGBM] [Warning] lambda_l2 is set=0.479169, reg_lambda=0.0 will be ignored. Current value: lambda_l2=0.479169\n",
      "[LightGBM] [Warning] early_stopping_round is set=500, early_stopping_rounds=500 will be ignored. Current value: early_stopping_round=500\n"
     ]
    },
    {
     "name": "stderr",
     "output_type": "stream",
     "text": [
      "C:\\Users\\Windows\\.conda\\envs\\tf\\lib\\site-packages\\lightgbm\\sklearn.py:726: UserWarning: 'early_stopping_rounds' argument is deprecated and will be removed in a future release of LightGBM. Pass 'early_stopping()' callback via 'callbacks' argument instead.\n",
      "  _log_warning(\"'early_stopping_rounds' argument is deprecated and will be removed in a future release of LightGBM. \"\n",
      "C:\\Users\\Windows\\.conda\\envs\\tf\\lib\\site-packages\\lightgbm\\sklearn.py:736: UserWarning: 'verbose' argument is deprecated and will be removed in a future release of LightGBM. Pass 'log_evaluation()' callback via 'callbacks' argument instead.\n",
      "  _log_warning(\"'verbose' argument is deprecated and will be removed in a future release of LightGBM. \"\n",
      "C:\\Users\\Windows\\.conda\\envs\\tf\\lib\\site-packages\\lightgbm\\basic.py:2065: UserWarning: Using categorical_feature in Dataset.\n",
      "  _log_warning('Using categorical_feature in Dataset.')\n",
      "C:\\Users\\Windows\\.conda\\envs\\tf\\lib\\site-packages\\lightgbm\\basic.py:2068: UserWarning: categorical_feature in Dataset is overridden.\n",
      "New categorical_feature is ['EDUCATION_LEVEL', 'EXTERNAL_SCORING_RATING_1_IS_NAN', 'EXTERNAL_SCORING_RATING_2_IS_NAN', 'EXTERNAL_SCORING_RATING_3_IS_NAN', 'FAMILY_STATUS', 'GENDER', 'NAME_CONTRACT_TYPE']\n",
      "  _log_warning('categorical_feature in Dataset is overridden.\\n'\n",
      "C:\\Users\\Windows\\.conda\\envs\\tf\\lib\\site-packages\\lightgbm\\basic.py:1780: UserWarning: Overriding the parameters from Reference Dataset.\n",
      "  _log_warning('Overriding the parameters from Reference Dataset.')\n",
      "C:\\Users\\Windows\\.conda\\envs\\tf\\lib\\site-packages\\lightgbm\\basic.py:1513: UserWarning: categorical_column in param dict is overridden.\n",
      "  _log_warning(f'{cat_alias} in param dict is overridden.')\n"
     ]
    },
    {
     "name": "stdout",
     "output_type": "stream",
     "text": [
      "[200]\ttraining's auc: 0.784708\tvalid_1's auc: 0.719813\n",
      "[400]\ttraining's auc: 0.820648\tvalid_1's auc: 0.723007\n",
      "[600]\ttraining's auc: 0.844307\tvalid_1's auc: 0.723573\n",
      "[800]\ttraining's auc: 0.863849\tvalid_1's auc: 0.724646\n",
      "[1000]\ttraining's auc: 0.881937\tvalid_1's auc: 0.724711\n",
      "[1200]\ttraining's auc: 0.897304\tvalid_1's auc: 0.724315\n",
      "[1400]\ttraining's auc: 0.909093\tvalid_1's auc: 0.724493\n",
      "| \u001b[0m 8       \u001b[0m | \u001b[0m 0.7251  \u001b[0m | \u001b[0m 0.6187  \u001b[0m | \u001b[0m 8.296   \u001b[0m | \u001b[0m 65.75   \u001b[0m | \u001b[0m 69.33   \u001b[0m |\n",
      "[LightGBM] [Warning] seed is set=27, random_state=27 will be ignored. Current value: seed=27\n",
      "[LightGBM] [Warning] min_data_in_leaf is set=91, min_child_samples=20 will be ignored. Current value: min_data_in_leaf=91\n",
      "[LightGBM] [Warning] lambda_l1 is set=0.436193, reg_alpha=0.0 will be ignored. Current value: lambda_l1=0.436193\n",
      "[LightGBM] [Warning] lambda_l2 is set=0.479169, reg_lambda=0.0 will be ignored. Current value: lambda_l2=0.479169\n",
      "[LightGBM] [Warning] early_stopping_round is set=500, early_stopping_rounds=500 will be ignored. Current value: early_stopping_round=500\n"
     ]
    },
    {
     "name": "stderr",
     "output_type": "stream",
     "text": [
      "C:\\Users\\Windows\\.conda\\envs\\tf\\lib\\site-packages\\lightgbm\\sklearn.py:726: UserWarning: 'early_stopping_rounds' argument is deprecated and will be removed in a future release of LightGBM. Pass 'early_stopping()' callback via 'callbacks' argument instead.\n",
      "  _log_warning(\"'early_stopping_rounds' argument is deprecated and will be removed in a future release of LightGBM. \"\n",
      "C:\\Users\\Windows\\.conda\\envs\\tf\\lib\\site-packages\\lightgbm\\sklearn.py:736: UserWarning: 'verbose' argument is deprecated and will be removed in a future release of LightGBM. Pass 'log_evaluation()' callback via 'callbacks' argument instead.\n",
      "  _log_warning(\"'verbose' argument is deprecated and will be removed in a future release of LightGBM. \"\n",
      "C:\\Users\\Windows\\.conda\\envs\\tf\\lib\\site-packages\\lightgbm\\basic.py:2065: UserWarning: Using categorical_feature in Dataset.\n",
      "  _log_warning('Using categorical_feature in Dataset.')\n",
      "C:\\Users\\Windows\\.conda\\envs\\tf\\lib\\site-packages\\lightgbm\\basic.py:2068: UserWarning: categorical_feature in Dataset is overridden.\n",
      "New categorical_feature is ['EDUCATION_LEVEL', 'EXTERNAL_SCORING_RATING_1_IS_NAN', 'EXTERNAL_SCORING_RATING_2_IS_NAN', 'EXTERNAL_SCORING_RATING_3_IS_NAN', 'FAMILY_STATUS', 'GENDER', 'NAME_CONTRACT_TYPE']\n",
      "  _log_warning('categorical_feature in Dataset is overridden.\\n'\n",
      "C:\\Users\\Windows\\.conda\\envs\\tf\\lib\\site-packages\\lightgbm\\basic.py:1780: UserWarning: Overriding the parameters from Reference Dataset.\n",
      "  _log_warning('Overriding the parameters from Reference Dataset.')\n",
      "C:\\Users\\Windows\\.conda\\envs\\tf\\lib\\site-packages\\lightgbm\\basic.py:1513: UserWarning: categorical_column in param dict is overridden.\n",
      "  _log_warning(f'{cat_alias} in param dict is overridden.')\n"
     ]
    },
    {
     "name": "stdout",
     "output_type": "stream",
     "text": [
      "[200]\ttraining's auc: 0.797731\tvalid_1's auc: 0.719778\n",
      "[400]\ttraining's auc: 0.835716\tvalid_1's auc: 0.722591\n",
      "[600]\ttraining's auc: 0.855319\tvalid_1's auc: 0.722937\n",
      "[800]\ttraining's auc: 0.873034\tvalid_1's auc: 0.722726\n",
      "[1000]\ttraining's auc: 0.889741\tvalid_1's auc: 0.722758\n",
      "| \u001b[0m 9       \u001b[0m | \u001b[0m 0.7235  \u001b[0m | \u001b[0m 0.8351  \u001b[0m | \u001b[0m 8.17    \u001b[0m | \u001b[0m 91.58   \u001b[0m | \u001b[0m 89.19   \u001b[0m |\n",
      "[LightGBM] [Warning] seed is set=27, random_state=27 will be ignored. Current value: seed=27\n",
      "[LightGBM] [Warning] min_data_in_leaf is set=70, min_child_samples=20 will be ignored. Current value: min_data_in_leaf=70\n",
      "[LightGBM] [Warning] lambda_l1 is set=0.436193, reg_alpha=0.0 will be ignored. Current value: lambda_l1=0.436193\n",
      "[LightGBM] [Warning] lambda_l2 is set=0.479169, reg_lambda=0.0 will be ignored. Current value: lambda_l2=0.479169\n",
      "[LightGBM] [Warning] early_stopping_round is set=500, early_stopping_rounds=500 will be ignored. Current value: early_stopping_round=500\n"
     ]
    },
    {
     "name": "stderr",
     "output_type": "stream",
     "text": [
      "C:\\Users\\Windows\\.conda\\envs\\tf\\lib\\site-packages\\lightgbm\\sklearn.py:726: UserWarning: 'early_stopping_rounds' argument is deprecated and will be removed in a future release of LightGBM. Pass 'early_stopping()' callback via 'callbacks' argument instead.\n",
      "  _log_warning(\"'early_stopping_rounds' argument is deprecated and will be removed in a future release of LightGBM. \"\n",
      "C:\\Users\\Windows\\.conda\\envs\\tf\\lib\\site-packages\\lightgbm\\sklearn.py:736: UserWarning: 'verbose' argument is deprecated and will be removed in a future release of LightGBM. Pass 'log_evaluation()' callback via 'callbacks' argument instead.\n",
      "  _log_warning(\"'verbose' argument is deprecated and will be removed in a future release of LightGBM. \"\n",
      "C:\\Users\\Windows\\.conda\\envs\\tf\\lib\\site-packages\\lightgbm\\basic.py:2065: UserWarning: Using categorical_feature in Dataset.\n",
      "  _log_warning('Using categorical_feature in Dataset.')\n",
      "C:\\Users\\Windows\\.conda\\envs\\tf\\lib\\site-packages\\lightgbm\\basic.py:2068: UserWarning: categorical_feature in Dataset is overridden.\n",
      "New categorical_feature is ['EDUCATION_LEVEL', 'EXTERNAL_SCORING_RATING_1_IS_NAN', 'EXTERNAL_SCORING_RATING_2_IS_NAN', 'EXTERNAL_SCORING_RATING_3_IS_NAN', 'FAMILY_STATUS', 'GENDER', 'NAME_CONTRACT_TYPE']\n",
      "  _log_warning('categorical_feature in Dataset is overridden.\\n'\n",
      "C:\\Users\\Windows\\.conda\\envs\\tf\\lib\\site-packages\\lightgbm\\basic.py:1780: UserWarning: Overriding the parameters from Reference Dataset.\n",
      "  _log_warning('Overriding the parameters from Reference Dataset.')\n",
      "C:\\Users\\Windows\\.conda\\envs\\tf\\lib\\site-packages\\lightgbm\\basic.py:1513: UserWarning: categorical_column in param dict is overridden.\n",
      "  _log_warning(f'{cat_alias} in param dict is overridden.')\n"
     ]
    },
    {
     "name": "stdout",
     "output_type": "stream",
     "text": [
      "[200]\ttraining's auc: 0.774059\tvalid_1's auc: 0.720419\n",
      "[400]\ttraining's auc: 0.807198\tvalid_1's auc: 0.723711\n",
      "[600]\ttraining's auc: 0.829993\tvalid_1's auc: 0.725097\n",
      "[800]\ttraining's auc: 0.849606\tvalid_1's auc: 0.725152\n",
      "[1000]\ttraining's auc: 0.86763\tvalid_1's auc: 0.724871\n",
      "| \u001b[0m 10      \u001b[0m | \u001b[0m 0.7256  \u001b[0m | \u001b[0m 0.6311  \u001b[0m | \u001b[0m 8.132   \u001b[0m | \u001b[0m 70.28   \u001b[0m | \u001b[0m 56.08   \u001b[0m |\n",
      "[LightGBM] [Warning] seed is set=27, random_state=27 will be ignored. Current value: seed=27\n",
      "[LightGBM] [Warning] min_data_in_leaf is set=95, min_child_samples=20 will be ignored. Current value: min_data_in_leaf=95\n",
      "[LightGBM] [Warning] lambda_l1 is set=0.436193, reg_alpha=0.0 will be ignored. Current value: lambda_l1=0.436193\n",
      "[LightGBM] [Warning] lambda_l2 is set=0.479169, reg_lambda=0.0 will be ignored. Current value: lambda_l2=0.479169\n",
      "[LightGBM] [Warning] early_stopping_round is set=500, early_stopping_rounds=500 will be ignored. Current value: early_stopping_round=500\n"
     ]
    },
    {
     "name": "stderr",
     "output_type": "stream",
     "text": [
      "C:\\Users\\Windows\\.conda\\envs\\tf\\lib\\site-packages\\lightgbm\\sklearn.py:726: UserWarning: 'early_stopping_rounds' argument is deprecated and will be removed in a future release of LightGBM. Pass 'early_stopping()' callback via 'callbacks' argument instead.\n",
      "  _log_warning(\"'early_stopping_rounds' argument is deprecated and will be removed in a future release of LightGBM. \"\n",
      "C:\\Users\\Windows\\.conda\\envs\\tf\\lib\\site-packages\\lightgbm\\sklearn.py:736: UserWarning: 'verbose' argument is deprecated and will be removed in a future release of LightGBM. Pass 'log_evaluation()' callback via 'callbacks' argument instead.\n",
      "  _log_warning(\"'verbose' argument is deprecated and will be removed in a future release of LightGBM. \"\n",
      "C:\\Users\\Windows\\.conda\\envs\\tf\\lib\\site-packages\\lightgbm\\basic.py:2065: UserWarning: Using categorical_feature in Dataset.\n",
      "  _log_warning('Using categorical_feature in Dataset.')\n",
      "C:\\Users\\Windows\\.conda\\envs\\tf\\lib\\site-packages\\lightgbm\\basic.py:2068: UserWarning: categorical_feature in Dataset is overridden.\n",
      "New categorical_feature is ['EDUCATION_LEVEL', 'EXTERNAL_SCORING_RATING_1_IS_NAN', 'EXTERNAL_SCORING_RATING_2_IS_NAN', 'EXTERNAL_SCORING_RATING_3_IS_NAN', 'FAMILY_STATUS', 'GENDER', 'NAME_CONTRACT_TYPE']\n",
      "  _log_warning('categorical_feature in Dataset is overridden.\\n'\n",
      "C:\\Users\\Windows\\.conda\\envs\\tf\\lib\\site-packages\\lightgbm\\basic.py:1780: UserWarning: Overriding the parameters from Reference Dataset.\n",
      "  _log_warning('Overriding the parameters from Reference Dataset.')\n",
      "C:\\Users\\Windows\\.conda\\envs\\tf\\lib\\site-packages\\lightgbm\\basic.py:1513: UserWarning: categorical_column in param dict is overridden.\n",
      "  _log_warning(f'{cat_alias} in param dict is overridden.')\n"
     ]
    },
    {
     "name": "stdout",
     "output_type": "stream",
     "text": [
      "[200]\ttraining's auc: 0.767114\tvalid_1's auc: 0.720078\n",
      "[400]\ttraining's auc: 0.798148\tvalid_1's auc: 0.724372\n",
      "[600]\ttraining's auc: 0.821114\tvalid_1's auc: 0.724802\n",
      "[800]\ttraining's auc: 0.842018\tvalid_1's auc: 0.723987\n",
      "| \u001b[0m 11      \u001b[0m | \u001b[0m 0.7251  \u001b[0m | \u001b[0m 0.622   \u001b[0m | \u001b[0m 9.849   \u001b[0m | \u001b[0m 95.02   \u001b[0m | \u001b[0m 48.16   \u001b[0m |\n",
      "[LightGBM] [Warning] seed is set=27, random_state=27 will be ignored. Current value: seed=27\n",
      "[LightGBM] [Warning] min_data_in_leaf is set=131, min_child_samples=20 will be ignored. Current value: min_data_in_leaf=131\n",
      "[LightGBM] [Warning] lambda_l1 is set=0.436193, reg_alpha=0.0 will be ignored. Current value: lambda_l1=0.436193\n",
      "[LightGBM] [Warning] lambda_l2 is set=0.479169, reg_lambda=0.0 will be ignored. Current value: lambda_l2=0.479169\n",
      "[LightGBM] [Warning] early_stopping_round is set=500, early_stopping_rounds=500 will be ignored. Current value: early_stopping_round=500\n"
     ]
    },
    {
     "name": "stderr",
     "output_type": "stream",
     "text": [
      "C:\\Users\\Windows\\.conda\\envs\\tf\\lib\\site-packages\\lightgbm\\sklearn.py:726: UserWarning: 'early_stopping_rounds' argument is deprecated and will be removed in a future release of LightGBM. Pass 'early_stopping()' callback via 'callbacks' argument instead.\n",
      "  _log_warning(\"'early_stopping_rounds' argument is deprecated and will be removed in a future release of LightGBM. \"\n",
      "C:\\Users\\Windows\\.conda\\envs\\tf\\lib\\site-packages\\lightgbm\\sklearn.py:736: UserWarning: 'verbose' argument is deprecated and will be removed in a future release of LightGBM. Pass 'log_evaluation()' callback via 'callbacks' argument instead.\n",
      "  _log_warning(\"'verbose' argument is deprecated and will be removed in a future release of LightGBM. \"\n",
      "C:\\Users\\Windows\\.conda\\envs\\tf\\lib\\site-packages\\lightgbm\\basic.py:2065: UserWarning: Using categorical_feature in Dataset.\n",
      "  _log_warning('Using categorical_feature in Dataset.')\n",
      "C:\\Users\\Windows\\.conda\\envs\\tf\\lib\\site-packages\\lightgbm\\basic.py:2068: UserWarning: categorical_feature in Dataset is overridden.\n",
      "New categorical_feature is ['EDUCATION_LEVEL', 'EXTERNAL_SCORING_RATING_1_IS_NAN', 'EXTERNAL_SCORING_RATING_2_IS_NAN', 'EXTERNAL_SCORING_RATING_3_IS_NAN', 'FAMILY_STATUS', 'GENDER', 'NAME_CONTRACT_TYPE']\n",
      "  _log_warning('categorical_feature in Dataset is overridden.\\n'\n",
      "C:\\Users\\Windows\\.conda\\envs\\tf\\lib\\site-packages\\lightgbm\\basic.py:1780: UserWarning: Overriding the parameters from Reference Dataset.\n",
      "  _log_warning('Overriding the parameters from Reference Dataset.')\n",
      "C:\\Users\\Windows\\.conda\\envs\\tf\\lib\\site-packages\\lightgbm\\basic.py:1513: UserWarning: categorical_column in param dict is overridden.\n",
      "  _log_warning(f'{cat_alias} in param dict is overridden.')\n"
     ]
    },
    {
     "name": "stdout",
     "output_type": "stream",
     "text": [
      "[200]\ttraining's auc: 0.763017\tvalid_1's auc: 0.720208\n",
      "[400]\ttraining's auc: 0.788345\tvalid_1's auc: 0.723889\n",
      "[600]\ttraining's auc: 0.805775\tvalid_1's auc: 0.724964\n",
      "[800]\ttraining's auc: 0.820617\tvalid_1's auc: 0.725485\n",
      "[1000]\ttraining's auc: 0.835215\tvalid_1's auc: 0.725371\n",
      "[1200]\ttraining's auc: 0.848906\tvalid_1's auc: 0.725415\n",
      "[1400]\ttraining's auc: 0.860682\tvalid_1's auc: 0.724987\n",
      "| \u001b[0m 12      \u001b[0m | \u001b[0m 0.7257  \u001b[0m | \u001b[0m 0.4728  \u001b[0m | \u001b[0m 7.941   \u001b[0m | \u001b[0m 131.4   \u001b[0m | \u001b[0m 46.35   \u001b[0m |\n",
      "[LightGBM] [Warning] seed is set=27, random_state=27 will be ignored. Current value: seed=27\n",
      "[LightGBM] [Warning] min_data_in_leaf is set=149, min_child_samples=20 will be ignored. Current value: min_data_in_leaf=149\n",
      "[LightGBM] [Warning] lambda_l1 is set=0.436193, reg_alpha=0.0 will be ignored. Current value: lambda_l1=0.436193\n",
      "[LightGBM] [Warning] lambda_l2 is set=0.479169, reg_lambda=0.0 will be ignored. Current value: lambda_l2=0.479169\n",
      "[LightGBM] [Warning] early_stopping_round is set=500, early_stopping_rounds=500 will be ignored. Current value: early_stopping_round=500\n"
     ]
    },
    {
     "name": "stderr",
     "output_type": "stream",
     "text": [
      "C:\\Users\\Windows\\.conda\\envs\\tf\\lib\\site-packages\\lightgbm\\sklearn.py:726: UserWarning: 'early_stopping_rounds' argument is deprecated and will be removed in a future release of LightGBM. Pass 'early_stopping()' callback via 'callbacks' argument instead.\n",
      "  _log_warning(\"'early_stopping_rounds' argument is deprecated and will be removed in a future release of LightGBM. \"\n",
      "C:\\Users\\Windows\\.conda\\envs\\tf\\lib\\site-packages\\lightgbm\\sklearn.py:736: UserWarning: 'verbose' argument is deprecated and will be removed in a future release of LightGBM. Pass 'log_evaluation()' callback via 'callbacks' argument instead.\n",
      "  _log_warning(\"'verbose' argument is deprecated and will be removed in a future release of LightGBM. \"\n",
      "C:\\Users\\Windows\\.conda\\envs\\tf\\lib\\site-packages\\lightgbm\\basic.py:2065: UserWarning: Using categorical_feature in Dataset.\n",
      "  _log_warning('Using categorical_feature in Dataset.')\n",
      "C:\\Users\\Windows\\.conda\\envs\\tf\\lib\\site-packages\\lightgbm\\basic.py:2068: UserWarning: categorical_feature in Dataset is overridden.\n",
      "New categorical_feature is ['EDUCATION_LEVEL', 'EXTERNAL_SCORING_RATING_1_IS_NAN', 'EXTERNAL_SCORING_RATING_2_IS_NAN', 'EXTERNAL_SCORING_RATING_3_IS_NAN', 'FAMILY_STATUS', 'GENDER', 'NAME_CONTRACT_TYPE']\n",
      "  _log_warning('categorical_feature in Dataset is overridden.\\n'\n",
      "C:\\Users\\Windows\\.conda\\envs\\tf\\lib\\site-packages\\lightgbm\\basic.py:1780: UserWarning: Overriding the parameters from Reference Dataset.\n",
      "  _log_warning('Overriding the parameters from Reference Dataset.')\n",
      "C:\\Users\\Windows\\.conda\\envs\\tf\\lib\\site-packages\\lightgbm\\basic.py:1513: UserWarning: categorical_column in param dict is overridden.\n",
      "  _log_warning(f'{cat_alias} in param dict is overridden.')\n"
     ]
    },
    {
     "name": "stdout",
     "output_type": "stream",
     "text": [
      "[200]\ttraining's auc: 0.794274\tvalid_1's auc: 0.720786\n",
      "[400]\ttraining's auc: 0.827112\tvalid_1's auc: 0.723681\n",
      "[600]\ttraining's auc: 0.844794\tvalid_1's auc: 0.72358\n",
      "[800]\ttraining's auc: 0.861188\tvalid_1's auc: 0.723383\n",
      "[1000]\ttraining's auc: 0.87755\tvalid_1's auc: 0.722622\n",
      "| \u001b[0m 13      \u001b[0m | \u001b[0m 0.7241  \u001b[0m | \u001b[0m 0.6533  \u001b[0m | \u001b[0m 8.622   \u001b[0m | \u001b[0m 149.8   \u001b[0m | \u001b[0m 89.32   \u001b[0m |\n",
      "[LightGBM] [Warning] seed is set=27, random_state=27 will be ignored. Current value: seed=27\n",
      "[LightGBM] [Warning] min_data_in_leaf is set=26, min_child_samples=20 will be ignored. Current value: min_data_in_leaf=26\n"
     ]
    },
    {
     "name": "stderr",
     "output_type": "stream",
     "text": [
      "C:\\Users\\Windows\\.conda\\envs\\tf\\lib\\site-packages\\lightgbm\\sklearn.py:726: UserWarning: 'early_stopping_rounds' argument is deprecated and will be removed in a future release of LightGBM. Pass 'early_stopping()' callback via 'callbacks' argument instead.\n",
      "  _log_warning(\"'early_stopping_rounds' argument is deprecated and will be removed in a future release of LightGBM. \"\n",
      "C:\\Users\\Windows\\.conda\\envs\\tf\\lib\\site-packages\\lightgbm\\sklearn.py:736: UserWarning: 'verbose' argument is deprecated and will be removed in a future release of LightGBM. Pass 'log_evaluation()' callback via 'callbacks' argument instead.\n",
      "  _log_warning(\"'verbose' argument is deprecated and will be removed in a future release of LightGBM. \"\n",
      "C:\\Users\\Windows\\.conda\\envs\\tf\\lib\\site-packages\\lightgbm\\basic.py:2065: UserWarning: Using categorical_feature in Dataset.\n",
      "  _log_warning('Using categorical_feature in Dataset.')\n",
      "C:\\Users\\Windows\\.conda\\envs\\tf\\lib\\site-packages\\lightgbm\\basic.py:2068: UserWarning: categorical_feature in Dataset is overridden.\n",
      "New categorical_feature is ['EDUCATION_LEVEL', 'EXTERNAL_SCORING_RATING_1_IS_NAN', 'EXTERNAL_SCORING_RATING_2_IS_NAN', 'EXTERNAL_SCORING_RATING_3_IS_NAN', 'FAMILY_STATUS', 'GENDER', 'NAME_CONTRACT_TYPE']\n",
      "  _log_warning('categorical_feature in Dataset is overridden.\\n'\n"
     ]
    },
    {
     "name": "stdout",
     "output_type": "stream",
     "text": [
      "[LightGBM] [Warning] lambda_l1 is set=0.436193, reg_alpha=0.0 will be ignored. Current value: lambda_l1=0.436193\n",
      "[LightGBM] [Warning] lambda_l2 is set=0.479169, reg_lambda=0.0 will be ignored. Current value: lambda_l2=0.479169\n",
      "[LightGBM] [Warning] early_stopping_round is set=500, early_stopping_rounds=500 will be ignored. Current value: early_stopping_round=500\n"
     ]
    },
    {
     "name": "stderr",
     "output_type": "stream",
     "text": [
      "C:\\Users\\Windows\\.conda\\envs\\tf\\lib\\site-packages\\lightgbm\\basic.py:1780: UserWarning: Overriding the parameters from Reference Dataset.\n",
      "  _log_warning('Overriding the parameters from Reference Dataset.')\n",
      "C:\\Users\\Windows\\.conda\\envs\\tf\\lib\\site-packages\\lightgbm\\basic.py:1513: UserWarning: categorical_column in param dict is overridden.\n",
      "  _log_warning(f'{cat_alias} in param dict is overridden.')\n"
     ]
    },
    {
     "name": "stdout",
     "output_type": "stream",
     "text": [
      "[200]\ttraining's auc: 0.809432\tvalid_1's auc: 0.720593\n",
      "[400]\ttraining's auc: 0.855442\tvalid_1's auc: 0.723526\n",
      "[600]\ttraining's auc: 0.883021\tvalid_1's auc: 0.725527\n",
      "[800]\ttraining's auc: 0.902939\tvalid_1's auc: 0.726196\n",
      "[1000]\ttraining's auc: 0.918171\tvalid_1's auc: 0.725531\n",
      "[1200]\ttraining's auc: 0.929283\tvalid_1's auc: 0.725886\n",
      "| \u001b[0m 14      \u001b[0m | \u001b[0m 0.7264  \u001b[0m | \u001b[0m 0.4025  \u001b[0m | \u001b[0m 9.048   \u001b[0m | \u001b[0m 26.03   \u001b[0m | \u001b[0m 99.1    \u001b[0m |\n",
      "[LightGBM] [Warning] seed is set=27, random_state=27 will be ignored. Current value: seed=27\n",
      "[LightGBM] [Warning] min_data_in_leaf is set=222, min_child_samples=20 will be ignored. Current value: min_data_in_leaf=222\n",
      "[LightGBM] [Warning] lambda_l1 is set=0.436193, reg_alpha=0.0 will be ignored. Current value: lambda_l1=0.436193\n",
      "[LightGBM] [Warning] lambda_l2 is set=0.479169, reg_lambda=0.0 will be ignored. Current value: lambda_l2=0.479169\n",
      "[LightGBM] [Warning] early_stopping_round is set=500, early_stopping_rounds=500 will be ignored. Current value: early_stopping_round=500\n"
     ]
    },
    {
     "name": "stderr",
     "output_type": "stream",
     "text": [
      "C:\\Users\\Windows\\.conda\\envs\\tf\\lib\\site-packages\\lightgbm\\sklearn.py:726: UserWarning: 'early_stopping_rounds' argument is deprecated and will be removed in a future release of LightGBM. Pass 'early_stopping()' callback via 'callbacks' argument instead.\n",
      "  _log_warning(\"'early_stopping_rounds' argument is deprecated and will be removed in a future release of LightGBM. \"\n",
      "C:\\Users\\Windows\\.conda\\envs\\tf\\lib\\site-packages\\lightgbm\\sklearn.py:736: UserWarning: 'verbose' argument is deprecated and will be removed in a future release of LightGBM. Pass 'log_evaluation()' callback via 'callbacks' argument instead.\n",
      "  _log_warning(\"'verbose' argument is deprecated and will be removed in a future release of LightGBM. \"\n",
      "C:\\Users\\Windows\\.conda\\envs\\tf\\lib\\site-packages\\lightgbm\\basic.py:2065: UserWarning: Using categorical_feature in Dataset.\n",
      "  _log_warning('Using categorical_feature in Dataset.')\n",
      "C:\\Users\\Windows\\.conda\\envs\\tf\\lib\\site-packages\\lightgbm\\basic.py:2068: UserWarning: categorical_feature in Dataset is overridden.\n",
      "New categorical_feature is ['EDUCATION_LEVEL', 'EXTERNAL_SCORING_RATING_1_IS_NAN', 'EXTERNAL_SCORING_RATING_2_IS_NAN', 'EXTERNAL_SCORING_RATING_3_IS_NAN', 'FAMILY_STATUS', 'GENDER', 'NAME_CONTRACT_TYPE']\n",
      "  _log_warning('categorical_feature in Dataset is overridden.\\n'\n",
      "C:\\Users\\Windows\\.conda\\envs\\tf\\lib\\site-packages\\lightgbm\\basic.py:1780: UserWarning: Overriding the parameters from Reference Dataset.\n",
      "  _log_warning('Overriding the parameters from Reference Dataset.')\n",
      "C:\\Users\\Windows\\.conda\\envs\\tf\\lib\\site-packages\\lightgbm\\basic.py:1513: UserWarning: categorical_column in param dict is overridden.\n",
      "  _log_warning(f'{cat_alias} in param dict is overridden.')\n"
     ]
    },
    {
     "name": "stdout",
     "output_type": "stream",
     "text": [
      "[200]\ttraining's auc: 0.759013\tvalid_1's auc: 0.719675\n",
      "[400]\ttraining's auc: 0.779519\tvalid_1's auc: 0.723935\n",
      "[600]\ttraining's auc: 0.793011\tvalid_1's auc: 0.724521\n",
      "[800]\ttraining's auc: 0.80475\tvalid_1's auc: 0.723941\n",
      "[1000]\ttraining's auc: 0.815516\tvalid_1's auc: 0.725018\n",
      "[1200]\ttraining's auc: 0.825441\tvalid_1's auc: 0.72474\n",
      "[1400]\ttraining's auc: 0.835889\tvalid_1's auc: 0.72511\n",
      "[1600]\ttraining's auc: 0.845929\tvalid_1's auc: 0.725072\n",
      "[1800]\ttraining's auc: 0.855314\tvalid_1's auc: 0.724367\n",
      "| \u001b[0m 15      \u001b[0m | \u001b[0m 0.7258  \u001b[0m | \u001b[0m 0.6698  \u001b[0m | \u001b[0m 6.851   \u001b[0m | \u001b[0m 222.3   \u001b[0m | \u001b[0m 52.26   \u001b[0m |\n",
      "[LightGBM] [Warning] seed is set=27, random_state=27 will be ignored. Current value: seed=27\n",
      "[LightGBM] [Warning] min_data_in_leaf is set=50, min_child_samples=20 will be ignored. Current value: min_data_in_leaf=50\n",
      "[LightGBM] [Warning] lambda_l1 is set=0.436193, reg_alpha=0.0 will be ignored. Current value: lambda_l1=0.436193\n",
      "[LightGBM] [Warning] lambda_l2 is set=0.479169, reg_lambda=0.0 will be ignored. Current value: lambda_l2=0.479169\n",
      "[LightGBM] [Warning] early_stopping_round is set=500, early_stopping_rounds=500 will be ignored. Current value: early_stopping_round=500\n"
     ]
    },
    {
     "name": "stderr",
     "output_type": "stream",
     "text": [
      "C:\\Users\\Windows\\.conda\\envs\\tf\\lib\\site-packages\\lightgbm\\sklearn.py:726: UserWarning: 'early_stopping_rounds' argument is deprecated and will be removed in a future release of LightGBM. Pass 'early_stopping()' callback via 'callbacks' argument instead.\n",
      "  _log_warning(\"'early_stopping_rounds' argument is deprecated and will be removed in a future release of LightGBM. \"\n",
      "C:\\Users\\Windows\\.conda\\envs\\tf\\lib\\site-packages\\lightgbm\\sklearn.py:736: UserWarning: 'verbose' argument is deprecated and will be removed in a future release of LightGBM. Pass 'log_evaluation()' callback via 'callbacks' argument instead.\n",
      "  _log_warning(\"'verbose' argument is deprecated and will be removed in a future release of LightGBM. \"\n",
      "C:\\Users\\Windows\\.conda\\envs\\tf\\lib\\site-packages\\lightgbm\\basic.py:2065: UserWarning: Using categorical_feature in Dataset.\n",
      "  _log_warning('Using categorical_feature in Dataset.')\n",
      "C:\\Users\\Windows\\.conda\\envs\\tf\\lib\\site-packages\\lightgbm\\basic.py:2068: UserWarning: categorical_feature in Dataset is overridden.\n",
      "New categorical_feature is ['EDUCATION_LEVEL', 'EXTERNAL_SCORING_RATING_1_IS_NAN', 'EXTERNAL_SCORING_RATING_2_IS_NAN', 'EXTERNAL_SCORING_RATING_3_IS_NAN', 'FAMILY_STATUS', 'GENDER', 'NAME_CONTRACT_TYPE']\n",
      "  _log_warning('categorical_feature in Dataset is overridden.\\n'\n",
      "C:\\Users\\Windows\\.conda\\envs\\tf\\lib\\site-packages\\lightgbm\\basic.py:1780: UserWarning: Overriding the parameters from Reference Dataset.\n",
      "  _log_warning('Overriding the parameters from Reference Dataset.')\n",
      "C:\\Users\\Windows\\.conda\\envs\\tf\\lib\\site-packages\\lightgbm\\basic.py:1513: UserWarning: categorical_column in param dict is overridden.\n",
      "  _log_warning(f'{cat_alias} in param dict is overridden.')\n"
     ]
    },
    {
     "name": "stdout",
     "output_type": "stream",
     "text": [
      "[200]\ttraining's auc: 0.804743\tvalid_1's auc: 0.719452\n",
      "[400]\ttraining's auc: 0.846077\tvalid_1's auc: 0.72196\n",
      "[600]\ttraining's auc: 0.867492\tvalid_1's auc: 0.722232\n",
      "[800]\ttraining's auc: 0.886274\tvalid_1's auc: 0.722517\n",
      "[1000]\ttraining's auc: 0.901306\tvalid_1's auc: 0.721957\n",
      "| \u001b[0m 16      \u001b[0m | \u001b[0m 0.7227  \u001b[0m | \u001b[0m 0.8169  \u001b[0m | \u001b[0m 8.997   \u001b[0m | \u001b[0m 50.46   \u001b[0m | \u001b[0m 95.24   \u001b[0m |\n",
      "[LightGBM] [Warning] seed is set=27, random_state=27 will be ignored. Current value: seed=27\n",
      "[LightGBM] [Warning] min_data_in_leaf is set=137, min_child_samples=20 will be ignored. Current value: min_data_in_leaf=137\n",
      "[LightGBM] [Warning] lambda_l1 is set=0.436193, reg_alpha=0.0 will be ignored. Current value: lambda_l1=0.436193\n",
      "[LightGBM] [Warning] lambda_l2 is set=0.479169, reg_lambda=0.0 will be ignored. Current value: lambda_l2=0.479169\n",
      "[LightGBM] [Warning] early_stopping_round is set=500, early_stopping_rounds=500 will be ignored. Current value: early_stopping_round=500\n"
     ]
    },
    {
     "name": "stderr",
     "output_type": "stream",
     "text": [
      "C:\\Users\\Windows\\.conda\\envs\\tf\\lib\\site-packages\\lightgbm\\sklearn.py:726: UserWarning: 'early_stopping_rounds' argument is deprecated and will be removed in a future release of LightGBM. Pass 'early_stopping()' callback via 'callbacks' argument instead.\n",
      "  _log_warning(\"'early_stopping_rounds' argument is deprecated and will be removed in a future release of LightGBM. \"\n",
      "C:\\Users\\Windows\\.conda\\envs\\tf\\lib\\site-packages\\lightgbm\\sklearn.py:736: UserWarning: 'verbose' argument is deprecated and will be removed in a future release of LightGBM. Pass 'log_evaluation()' callback via 'callbacks' argument instead.\n",
      "  _log_warning(\"'verbose' argument is deprecated and will be removed in a future release of LightGBM. \"\n",
      "C:\\Users\\Windows\\.conda\\envs\\tf\\lib\\site-packages\\lightgbm\\basic.py:2065: UserWarning: Using categorical_feature in Dataset.\n",
      "  _log_warning('Using categorical_feature in Dataset.')\n",
      "C:\\Users\\Windows\\.conda\\envs\\tf\\lib\\site-packages\\lightgbm\\basic.py:2068: UserWarning: categorical_feature in Dataset is overridden.\n",
      "New categorical_feature is ['EDUCATION_LEVEL', 'EXTERNAL_SCORING_RATING_1_IS_NAN', 'EXTERNAL_SCORING_RATING_2_IS_NAN', 'EXTERNAL_SCORING_RATING_3_IS_NAN', 'FAMILY_STATUS', 'GENDER', 'NAME_CONTRACT_TYPE']\n",
      "  _log_warning('categorical_feature in Dataset is overridden.\\n'\n",
      "C:\\Users\\Windows\\.conda\\envs\\tf\\lib\\site-packages\\lightgbm\\basic.py:1780: UserWarning: Overriding the parameters from Reference Dataset.\n",
      "  _log_warning('Overriding the parameters from Reference Dataset.')\n",
      "C:\\Users\\Windows\\.conda\\envs\\tf\\lib\\site-packages\\lightgbm\\basic.py:1513: UserWarning: categorical_column in param dict is overridden.\n",
      "  _log_warning(f'{cat_alias} in param dict is overridden.')\n"
     ]
    },
    {
     "name": "stdout",
     "output_type": "stream",
     "text": [
      "[200]\ttraining's auc: 0.780627\tvalid_1's auc: 0.720096\n",
      "[400]\ttraining's auc: 0.810636\tvalid_1's auc: 0.723338\n",
      "[600]\ttraining's auc: 0.826236\tvalid_1's auc: 0.723628\n",
      "[800]\ttraining's auc: 0.841379\tvalid_1's auc: 0.723002\n",
      "| \u001b[0m 17      \u001b[0m | \u001b[0m 0.7244  \u001b[0m | \u001b[0m 0.7226  \u001b[0m | \u001b[0m 7.927   \u001b[0m | \u001b[0m 137.5   \u001b[0m | \u001b[0m 74.03   \u001b[0m |\n",
      "[LightGBM] [Warning] seed is set=27, random_state=27 will be ignored. Current value: seed=27\n",
      "[LightGBM] [Warning] min_data_in_leaf is set=40, min_child_samples=20 will be ignored. Current value: min_data_in_leaf=40\n",
      "[LightGBM] [Warning] lambda_l1 is set=0.436193, reg_alpha=0.0 will be ignored. Current value: lambda_l1=0.436193\n",
      "[LightGBM] [Warning] lambda_l2 is set=0.479169, reg_lambda=0.0 will be ignored. Current value: lambda_l2=0.479169\n",
      "[LightGBM] [Warning] early_stopping_round is set=500, early_stopping_rounds=500 will be ignored. Current value: early_stopping_round=500\n"
     ]
    },
    {
     "name": "stderr",
     "output_type": "stream",
     "text": [
      "C:\\Users\\Windows\\.conda\\envs\\tf\\lib\\site-packages\\lightgbm\\sklearn.py:726: UserWarning: 'early_stopping_rounds' argument is deprecated and will be removed in a future release of LightGBM. Pass 'early_stopping()' callback via 'callbacks' argument instead.\n",
      "  _log_warning(\"'early_stopping_rounds' argument is deprecated and will be removed in a future release of LightGBM. \"\n",
      "C:\\Users\\Windows\\.conda\\envs\\tf\\lib\\site-packages\\lightgbm\\sklearn.py:736: UserWarning: 'verbose' argument is deprecated and will be removed in a future release of LightGBM. Pass 'log_evaluation()' callback via 'callbacks' argument instead.\n",
      "  _log_warning(\"'verbose' argument is deprecated and will be removed in a future release of LightGBM. \"\n",
      "C:\\Users\\Windows\\.conda\\envs\\tf\\lib\\site-packages\\lightgbm\\basic.py:2065: UserWarning: Using categorical_feature in Dataset.\n",
      "  _log_warning('Using categorical_feature in Dataset.')\n",
      "C:\\Users\\Windows\\.conda\\envs\\tf\\lib\\site-packages\\lightgbm\\basic.py:2068: UserWarning: categorical_feature in Dataset is overridden.\n",
      "New categorical_feature is ['EDUCATION_LEVEL', 'EXTERNAL_SCORING_RATING_1_IS_NAN', 'EXTERNAL_SCORING_RATING_2_IS_NAN', 'EXTERNAL_SCORING_RATING_3_IS_NAN', 'FAMILY_STATUS', 'GENDER', 'NAME_CONTRACT_TYPE']\n",
      "  _log_warning('categorical_feature in Dataset is overridden.\\n'\n",
      "C:\\Users\\Windows\\.conda\\envs\\tf\\lib\\site-packages\\lightgbm\\basic.py:1780: UserWarning: Overriding the parameters from Reference Dataset.\n",
      "  _log_warning('Overriding the parameters from Reference Dataset.')\n",
      "C:\\Users\\Windows\\.conda\\envs\\tf\\lib\\site-packages\\lightgbm\\basic.py:1513: UserWarning: categorical_column in param dict is overridden.\n",
      "  _log_warning(f'{cat_alias} in param dict is overridden.')\n"
     ]
    },
    {
     "name": "stdout",
     "output_type": "stream",
     "text": [
      "[200]\ttraining's auc: 0.759283\tvalid_1's auc: 0.720052\n",
      "[400]\ttraining's auc: 0.786197\tvalid_1's auc: 0.724289\n",
      "[600]\ttraining's auc: 0.806246\tvalid_1's auc: 0.724246\n",
      "[800]\ttraining's auc: 0.82397\tvalid_1's auc: 0.725279\n",
      "[1000]\ttraining's auc: 0.840566\tvalid_1's auc: 0.725631\n",
      "[1200]\ttraining's auc: 0.854927\tvalid_1's auc: 0.725039\n",
      "[1400]\ttraining's auc: 0.86829\tvalid_1's auc: 0.724123\n",
      "| \u001b[0m 18      \u001b[0m | \u001b[0m 0.7258  \u001b[0m | \u001b[0m 0.4654  \u001b[0m | \u001b[0m 7.222   \u001b[0m | \u001b[0m 40.61   \u001b[0m | \u001b[0m 40.06   \u001b[0m |\n",
      "[LightGBM] [Warning] seed is set=27, random_state=27 will be ignored. Current value: seed=27\n",
      "[LightGBM] [Warning] min_data_in_leaf is set=60, min_child_samples=20 will be ignored. Current value: min_data_in_leaf=60\n",
      "[LightGBM] [Warning] lambda_l1 is set=0.436193, reg_alpha=0.0 will be ignored. Current value: lambda_l1=0.436193\n",
      "[LightGBM] [Warning] lambda_l2 is set=0.479169, reg_lambda=0.0 will be ignored. Current value: lambda_l2=0.479169\n",
      "[LightGBM] [Warning] early_stopping_round is set=500, early_stopping_rounds=500 will be ignored. Current value: early_stopping_round=500\n"
     ]
    },
    {
     "name": "stderr",
     "output_type": "stream",
     "text": [
      "C:\\Users\\Windows\\.conda\\envs\\tf\\lib\\site-packages\\lightgbm\\sklearn.py:726: UserWarning: 'early_stopping_rounds' argument is deprecated and will be removed in a future release of LightGBM. Pass 'early_stopping()' callback via 'callbacks' argument instead.\n",
      "  _log_warning(\"'early_stopping_rounds' argument is deprecated and will be removed in a future release of LightGBM. \"\n",
      "C:\\Users\\Windows\\.conda\\envs\\tf\\lib\\site-packages\\lightgbm\\sklearn.py:736: UserWarning: 'verbose' argument is deprecated and will be removed in a future release of LightGBM. Pass 'log_evaluation()' callback via 'callbacks' argument instead.\n",
      "  _log_warning(\"'verbose' argument is deprecated and will be removed in a future release of LightGBM. \"\n",
      "C:\\Users\\Windows\\.conda\\envs\\tf\\lib\\site-packages\\lightgbm\\basic.py:2065: UserWarning: Using categorical_feature in Dataset.\n",
      "  _log_warning('Using categorical_feature in Dataset.')\n",
      "C:\\Users\\Windows\\.conda\\envs\\tf\\lib\\site-packages\\lightgbm\\basic.py:2068: UserWarning: categorical_feature in Dataset is overridden.\n",
      "New categorical_feature is ['EDUCATION_LEVEL', 'EXTERNAL_SCORING_RATING_1_IS_NAN', 'EXTERNAL_SCORING_RATING_2_IS_NAN', 'EXTERNAL_SCORING_RATING_3_IS_NAN', 'FAMILY_STATUS', 'GENDER', 'NAME_CONTRACT_TYPE']\n",
      "  _log_warning('categorical_feature in Dataset is overridden.\\n'\n",
      "C:\\Users\\Windows\\.conda\\envs\\tf\\lib\\site-packages\\lightgbm\\basic.py:1780: UserWarning: Overriding the parameters from Reference Dataset.\n",
      "  _log_warning('Overriding the parameters from Reference Dataset.')\n",
      "C:\\Users\\Windows\\.conda\\envs\\tf\\lib\\site-packages\\lightgbm\\basic.py:1513: UserWarning: categorical_column in param dict is overridden.\n",
      "  _log_warning(f'{cat_alias} in param dict is overridden.')\n"
     ]
    },
    {
     "name": "stdout",
     "output_type": "stream",
     "text": [
      "[200]\ttraining's auc: 0.765097\tvalid_1's auc: 0.719537\n",
      "[400]\ttraining's auc: 0.790751\tvalid_1's auc: 0.723208\n",
      "[600]\ttraining's auc: 0.807253\tvalid_1's auc: 0.72385\n",
      "[800]\ttraining's auc: 0.821239\tvalid_1's auc: 0.724156\n",
      "[1000]\ttraining's auc: 0.834236\tvalid_1's auc: 0.724073\n",
      "[1200]\ttraining's auc: 0.845821\tvalid_1's auc: 0.724121\n",
      "[1400]\ttraining's auc: 0.857096\tvalid_1's auc: 0.72403\n",
      "| \u001b[0m 19      \u001b[0m | \u001b[0m 0.7247  \u001b[0m | \u001b[0m 0.593   \u001b[0m | \u001b[0m 6.113   \u001b[0m | \u001b[0m 60.08   \u001b[0m | \u001b[0m 78.69   \u001b[0m |\n",
      "[LightGBM] [Warning] seed is set=27, random_state=27 will be ignored. Current value: seed=27\n",
      "[LightGBM] [Warning] min_data_in_leaf is set=243, min_child_samples=20 will be ignored. Current value: min_data_in_leaf=243\n",
      "[LightGBM] [Warning] lambda_l1 is set=0.436193, reg_alpha=0.0 will be ignored. Current value: lambda_l1=0.436193\n",
      "[LightGBM] [Warning] lambda_l2 is set=0.479169, reg_lambda=0.0 will be ignored. Current value: lambda_l2=0.479169\n",
      "[LightGBM] [Warning] early_stopping_round is set=500, early_stopping_rounds=500 will be ignored. Current value: early_stopping_round=500\n"
     ]
    },
    {
     "name": "stderr",
     "output_type": "stream",
     "text": [
      "C:\\Users\\Windows\\.conda\\envs\\tf\\lib\\site-packages\\lightgbm\\sklearn.py:726: UserWarning: 'early_stopping_rounds' argument is deprecated and will be removed in a future release of LightGBM. Pass 'early_stopping()' callback via 'callbacks' argument instead.\n",
      "  _log_warning(\"'early_stopping_rounds' argument is deprecated and will be removed in a future release of LightGBM. \"\n",
      "C:\\Users\\Windows\\.conda\\envs\\tf\\lib\\site-packages\\lightgbm\\sklearn.py:736: UserWarning: 'verbose' argument is deprecated and will be removed in a future release of LightGBM. Pass 'log_evaluation()' callback via 'callbacks' argument instead.\n",
      "  _log_warning(\"'verbose' argument is deprecated and will be removed in a future release of LightGBM. \"\n",
      "C:\\Users\\Windows\\.conda\\envs\\tf\\lib\\site-packages\\lightgbm\\basic.py:2065: UserWarning: Using categorical_feature in Dataset.\n",
      "  _log_warning('Using categorical_feature in Dataset.')\n",
      "C:\\Users\\Windows\\.conda\\envs\\tf\\lib\\site-packages\\lightgbm\\basic.py:2068: UserWarning: categorical_feature in Dataset is overridden.\n",
      "New categorical_feature is ['EDUCATION_LEVEL', 'EXTERNAL_SCORING_RATING_1_IS_NAN', 'EXTERNAL_SCORING_RATING_2_IS_NAN', 'EXTERNAL_SCORING_RATING_3_IS_NAN', 'FAMILY_STATUS', 'GENDER', 'NAME_CONTRACT_TYPE']\n",
      "  _log_warning('categorical_feature in Dataset is overridden.\\n'\n",
      "C:\\Users\\Windows\\.conda\\envs\\tf\\lib\\site-packages\\lightgbm\\basic.py:1780: UserWarning: Overriding the parameters from Reference Dataset.\n",
      "  _log_warning('Overriding the parameters from Reference Dataset.')\n",
      "C:\\Users\\Windows\\.conda\\envs\\tf\\lib\\site-packages\\lightgbm\\basic.py:1513: UserWarning: categorical_column in param dict is overridden.\n",
      "  _log_warning(f'{cat_alias} in param dict is overridden.')\n"
     ]
    },
    {
     "name": "stdout",
     "output_type": "stream",
     "text": [
      "[200]\ttraining's auc: 0.756783\tvalid_1's auc: 0.720529\n",
      "[400]\ttraining's auc: 0.777088\tvalid_1's auc: 0.724032\n",
      "[600]\ttraining's auc: 0.789214\tvalid_1's auc: 0.725532\n",
      "[800]\ttraining's auc: 0.798845\tvalid_1's auc: 0.725826\n",
      "[1000]\ttraining's auc: 0.809609\tvalid_1's auc: 0.725734\n",
      "[1200]\ttraining's auc: 0.819673\tvalid_1's auc: 0.726336\n",
      "[1400]\ttraining's auc: 0.82882\tvalid_1's auc: 0.726054\n",
      "[1600]\ttraining's auc: 0.837937\tvalid_1's auc: 0.726027\n",
      "[1800]\ttraining's auc: 0.846077\tvalid_1's auc: 0.726016\n",
      "[2000]\ttraining's auc: 0.85454\tvalid_1's auc: 0.725976\n",
      "| \u001b[0m 20      \u001b[0m | \u001b[0m 0.7266  \u001b[0m | \u001b[0m 0.4169  \u001b[0m | \u001b[0m 6.775   \u001b[0m | \u001b[0m 244.0   \u001b[0m | \u001b[0m 66.68   \u001b[0m |\n",
      "[LightGBM] [Warning] seed is set=27, random_state=27 will be ignored. Current value: seed=27\n",
      "[LightGBM] [Warning] min_data_in_leaf is set=183, min_child_samples=20 will be ignored. Current value: min_data_in_leaf=183\n",
      "[LightGBM] [Warning] lambda_l1 is set=0.436193, reg_alpha=0.0 will be ignored. Current value: lambda_l1=0.436193\n",
      "[LightGBM] [Warning] lambda_l2 is set=0.479169, reg_lambda=0.0 will be ignored. Current value: lambda_l2=0.479169\n",
      "[LightGBM] [Warning] early_stopping_round is set=500, early_stopping_rounds=500 will be ignored. Current value: early_stopping_round=500\n"
     ]
    },
    {
     "name": "stderr",
     "output_type": "stream",
     "text": [
      "C:\\Users\\Windows\\.conda\\envs\\tf\\lib\\site-packages\\lightgbm\\sklearn.py:726: UserWarning: 'early_stopping_rounds' argument is deprecated and will be removed in a future release of LightGBM. Pass 'early_stopping()' callback via 'callbacks' argument instead.\n",
      "  _log_warning(\"'early_stopping_rounds' argument is deprecated and will be removed in a future release of LightGBM. \"\n",
      "C:\\Users\\Windows\\.conda\\envs\\tf\\lib\\site-packages\\lightgbm\\sklearn.py:736: UserWarning: 'verbose' argument is deprecated and will be removed in a future release of LightGBM. Pass 'log_evaluation()' callback via 'callbacks' argument instead.\n",
      "  _log_warning(\"'verbose' argument is deprecated and will be removed in a future release of LightGBM. \"\n",
      "C:\\Users\\Windows\\.conda\\envs\\tf\\lib\\site-packages\\lightgbm\\basic.py:2065: UserWarning: Using categorical_feature in Dataset.\n",
      "  _log_warning('Using categorical_feature in Dataset.')\n",
      "C:\\Users\\Windows\\.conda\\envs\\tf\\lib\\site-packages\\lightgbm\\basic.py:2068: UserWarning: categorical_feature in Dataset is overridden.\n",
      "New categorical_feature is ['EDUCATION_LEVEL', 'EXTERNAL_SCORING_RATING_1_IS_NAN', 'EXTERNAL_SCORING_RATING_2_IS_NAN', 'EXTERNAL_SCORING_RATING_3_IS_NAN', 'FAMILY_STATUS', 'GENDER', 'NAME_CONTRACT_TYPE']\n",
      "  _log_warning('categorical_feature in Dataset is overridden.\\n'\n",
      "C:\\Users\\Windows\\.conda\\envs\\tf\\lib\\site-packages\\lightgbm\\basic.py:1780: UserWarning: Overriding the parameters from Reference Dataset.\n",
      "  _log_warning('Overriding the parameters from Reference Dataset.')\n",
      "C:\\Users\\Windows\\.conda\\envs\\tf\\lib\\site-packages\\lightgbm\\basic.py:1513: UserWarning: categorical_column in param dict is overridden.\n",
      "  _log_warning(f'{cat_alias} in param dict is overridden.')\n"
     ]
    },
    {
     "name": "stdout",
     "output_type": "stream",
     "text": [
      "[200]\ttraining's auc: 0.753987\tvalid_1's auc: 0.719102\n",
      "[400]\ttraining's auc: 0.779515\tvalid_1's auc: 0.724423\n",
      "[600]\ttraining's auc: 0.798724\tvalid_1's auc: 0.724085\n",
      "[800]\ttraining's auc: 0.815154\tvalid_1's auc: 0.72414\n",
      "| \u001b[0m 21      \u001b[0m | \u001b[0m 0.7245  \u001b[0m | \u001b[0m 0.8762  \u001b[0m | \u001b[0m 9.5     \u001b[0m | \u001b[0m 183.3   \u001b[0m | \u001b[0m 34.16   \u001b[0m |\n",
      "[LightGBM] [Warning] seed is set=27, random_state=27 will be ignored. Current value: seed=27\n",
      "[LightGBM] [Warning] min_data_in_leaf is set=106, min_child_samples=20 will be ignored. Current value: min_data_in_leaf=106\n",
      "[LightGBM] [Warning] lambda_l1 is set=0.436193, reg_alpha=0.0 will be ignored. Current value: lambda_l1=0.436193\n",
      "[LightGBM] [Warning] lambda_l2 is set=0.479169, reg_lambda=0.0 will be ignored. Current value: lambda_l2=0.479169\n",
      "[LightGBM] [Warning] early_stopping_round is set=500, early_stopping_rounds=500 will be ignored. Current value: early_stopping_round=500\n"
     ]
    },
    {
     "name": "stderr",
     "output_type": "stream",
     "text": [
      "C:\\Users\\Windows\\.conda\\envs\\tf\\lib\\site-packages\\lightgbm\\sklearn.py:726: UserWarning: 'early_stopping_rounds' argument is deprecated and will be removed in a future release of LightGBM. Pass 'early_stopping()' callback via 'callbacks' argument instead.\n",
      "  _log_warning(\"'early_stopping_rounds' argument is deprecated and will be removed in a future release of LightGBM. \"\n",
      "C:\\Users\\Windows\\.conda\\envs\\tf\\lib\\site-packages\\lightgbm\\sklearn.py:736: UserWarning: 'verbose' argument is deprecated and will be removed in a future release of LightGBM. Pass 'log_evaluation()' callback via 'callbacks' argument instead.\n",
      "  _log_warning(\"'verbose' argument is deprecated and will be removed in a future release of LightGBM. \"\n",
      "C:\\Users\\Windows\\.conda\\envs\\tf\\lib\\site-packages\\lightgbm\\basic.py:2065: UserWarning: Using categorical_feature in Dataset.\n",
      "  _log_warning('Using categorical_feature in Dataset.')\n",
      "C:\\Users\\Windows\\.conda\\envs\\tf\\lib\\site-packages\\lightgbm\\basic.py:2068: UserWarning: categorical_feature in Dataset is overridden.\n",
      "New categorical_feature is ['EDUCATION_LEVEL', 'EXTERNAL_SCORING_RATING_1_IS_NAN', 'EXTERNAL_SCORING_RATING_2_IS_NAN', 'EXTERNAL_SCORING_RATING_3_IS_NAN', 'FAMILY_STATUS', 'GENDER', 'NAME_CONTRACT_TYPE']\n",
      "  _log_warning('categorical_feature in Dataset is overridden.\\n'\n",
      "C:\\Users\\Windows\\.conda\\envs\\tf\\lib\\site-packages\\lightgbm\\basic.py:1780: UserWarning: Overriding the parameters from Reference Dataset.\n",
      "  _log_warning('Overriding the parameters from Reference Dataset.')\n",
      "C:\\Users\\Windows\\.conda\\envs\\tf\\lib\\site-packages\\lightgbm\\basic.py:1513: UserWarning: categorical_column in param dict is overridden.\n",
      "  _log_warning(f'{cat_alias} in param dict is overridden.')\n"
     ]
    },
    {
     "name": "stdout",
     "output_type": "stream",
     "text": [
      "[200]\ttraining's auc: 0.744949\tvalid_1's auc: 0.718912\n",
      "[400]\ttraining's auc: 0.765893\tvalid_1's auc: 0.722333\n",
      "[600]\ttraining's auc: 0.78024\tvalid_1's auc: 0.723696\n",
      "[800]\ttraining's auc: 0.792471\tvalid_1's auc: 0.723529\n",
      "[1000]\ttraining's auc: 0.80415\tvalid_1's auc: 0.72333\n",
      "| \u001b[0m 22      \u001b[0m | \u001b[0m 0.7243  \u001b[0m | \u001b[0m 0.7486  \u001b[0m | \u001b[0m 6.824   \u001b[0m | \u001b[0m 106.4   \u001b[0m | \u001b[0m 27.39   \u001b[0m |\n",
      "[LightGBM] [Warning] seed is set=27, random_state=27 will be ignored. Current value: seed=27\n",
      "[LightGBM] [Warning] min_data_in_leaf is set=129, min_child_samples=20 will be ignored. Current value: min_data_in_leaf=129\n",
      "[LightGBM] [Warning] lambda_l1 is set=0.436193, reg_alpha=0.0 will be ignored. Current value: lambda_l1=0.436193\n",
      "[LightGBM] [Warning] lambda_l2 is set=0.479169, reg_lambda=0.0 will be ignored. Current value: lambda_l2=0.479169\n",
      "[LightGBM] [Warning] early_stopping_round is set=500, early_stopping_rounds=500 will be ignored. Current value: early_stopping_round=500\n"
     ]
    },
    {
     "name": "stderr",
     "output_type": "stream",
     "text": [
      "C:\\Users\\Windows\\.conda\\envs\\tf\\lib\\site-packages\\lightgbm\\sklearn.py:726: UserWarning: 'early_stopping_rounds' argument is deprecated and will be removed in a future release of LightGBM. Pass 'early_stopping()' callback via 'callbacks' argument instead.\n",
      "  _log_warning(\"'early_stopping_rounds' argument is deprecated and will be removed in a future release of LightGBM. \"\n",
      "C:\\Users\\Windows\\.conda\\envs\\tf\\lib\\site-packages\\lightgbm\\sklearn.py:736: UserWarning: 'verbose' argument is deprecated and will be removed in a future release of LightGBM. Pass 'log_evaluation()' callback via 'callbacks' argument instead.\n",
      "  _log_warning(\"'verbose' argument is deprecated and will be removed in a future release of LightGBM. \"\n",
      "C:\\Users\\Windows\\.conda\\envs\\tf\\lib\\site-packages\\lightgbm\\basic.py:2065: UserWarning: Using categorical_feature in Dataset.\n",
      "  _log_warning('Using categorical_feature in Dataset.')\n",
      "C:\\Users\\Windows\\.conda\\envs\\tf\\lib\\site-packages\\lightgbm\\basic.py:2068: UserWarning: categorical_feature in Dataset is overridden.\n",
      "New categorical_feature is ['EDUCATION_LEVEL', 'EXTERNAL_SCORING_RATING_1_IS_NAN', 'EXTERNAL_SCORING_RATING_2_IS_NAN', 'EXTERNAL_SCORING_RATING_3_IS_NAN', 'FAMILY_STATUS', 'GENDER', 'NAME_CONTRACT_TYPE']\n",
      "  _log_warning('categorical_feature in Dataset is overridden.\\n'\n",
      "C:\\Users\\Windows\\.conda\\envs\\tf\\lib\\site-packages\\lightgbm\\basic.py:1780: UserWarning: Overriding the parameters from Reference Dataset.\n",
      "  _log_warning('Overriding the parameters from Reference Dataset.')\n",
      "C:\\Users\\Windows\\.conda\\envs\\tf\\lib\\site-packages\\lightgbm\\basic.py:1513: UserWarning: categorical_column in param dict is overridden.\n",
      "  _log_warning(f'{cat_alias} in param dict is overridden.')\n"
     ]
    },
    {
     "name": "stdout",
     "output_type": "stream",
     "text": [
      "[200]\ttraining's auc: 0.798333\tvalid_1's auc: 0.720594\n",
      "[400]\ttraining's auc: 0.831808\tvalid_1's auc: 0.723858\n",
      "[600]\ttraining's auc: 0.850464\tvalid_1's auc: 0.724341\n",
      "[800]\ttraining's auc: 0.866252\tvalid_1's auc: 0.72519\n",
      "[1000]\ttraining's auc: 0.882335\tvalid_1's auc: 0.72492\n",
      "[1200]\ttraining's auc: 0.895513\tvalid_1's auc: 0.725038\n",
      "| \u001b[0m 23      \u001b[0m | \u001b[0m 0.7258  \u001b[0m | \u001b[0m 0.5292  \u001b[0m | \u001b[0m 8.452   \u001b[0m | \u001b[0m 129.1   \u001b[0m | \u001b[0m 98.39   \u001b[0m |\n",
      "[LightGBM] [Warning] seed is set=27, random_state=27 will be ignored. Current value: seed=27\n",
      "[LightGBM] [Warning] min_data_in_leaf is set=107, min_child_samples=20 will be ignored. Current value: min_data_in_leaf=107\n",
      "[LightGBM] [Warning] lambda_l1 is set=0.436193, reg_alpha=0.0 will be ignored. Current value: lambda_l1=0.436193\n",
      "[LightGBM] [Warning] lambda_l2 is set=0.479169, reg_lambda=0.0 will be ignored. Current value: lambda_l2=0.479169\n",
      "[LightGBM] [Warning] early_stopping_round is set=500, early_stopping_rounds=500 will be ignored. Current value: early_stopping_round=500\n"
     ]
    },
    {
     "name": "stderr",
     "output_type": "stream",
     "text": [
      "C:\\Users\\Windows\\.conda\\envs\\tf\\lib\\site-packages\\lightgbm\\sklearn.py:726: UserWarning: 'early_stopping_rounds' argument is deprecated and will be removed in a future release of LightGBM. Pass 'early_stopping()' callback via 'callbacks' argument instead.\n",
      "  _log_warning(\"'early_stopping_rounds' argument is deprecated and will be removed in a future release of LightGBM. \"\n",
      "C:\\Users\\Windows\\.conda\\envs\\tf\\lib\\site-packages\\lightgbm\\sklearn.py:736: UserWarning: 'verbose' argument is deprecated and will be removed in a future release of LightGBM. Pass 'log_evaluation()' callback via 'callbacks' argument instead.\n",
      "  _log_warning(\"'verbose' argument is deprecated and will be removed in a future release of LightGBM. \"\n",
      "C:\\Users\\Windows\\.conda\\envs\\tf\\lib\\site-packages\\lightgbm\\basic.py:2065: UserWarning: Using categorical_feature in Dataset.\n",
      "  _log_warning('Using categorical_feature in Dataset.')\n",
      "C:\\Users\\Windows\\.conda\\envs\\tf\\lib\\site-packages\\lightgbm\\basic.py:2068: UserWarning: categorical_feature in Dataset is overridden.\n",
      "New categorical_feature is ['EDUCATION_LEVEL', 'EXTERNAL_SCORING_RATING_1_IS_NAN', 'EXTERNAL_SCORING_RATING_2_IS_NAN', 'EXTERNAL_SCORING_RATING_3_IS_NAN', 'FAMILY_STATUS', 'GENDER', 'NAME_CONTRACT_TYPE']\n",
      "  _log_warning('categorical_feature in Dataset is overridden.\\n'\n",
      "C:\\Users\\Windows\\.conda\\envs\\tf\\lib\\site-packages\\lightgbm\\basic.py:1780: UserWarning: Overriding the parameters from Reference Dataset.\n",
      "  _log_warning('Overriding the parameters from Reference Dataset.')\n",
      "C:\\Users\\Windows\\.conda\\envs\\tf\\lib\\site-packages\\lightgbm\\basic.py:1513: UserWarning: categorical_column in param dict is overridden.\n",
      "  _log_warning(f'{cat_alias} in param dict is overridden.')\n"
     ]
    },
    {
     "name": "stdout",
     "output_type": "stream",
     "text": [
      "[200]\ttraining's auc: 0.801874\tvalid_1's auc: 0.720336\n",
      "[400]\ttraining's auc: 0.84152\tvalid_1's auc: 0.72391\n",
      "[600]\ttraining's auc: 0.864835\tvalid_1's auc: 0.723894\n",
      "[800]\ttraining's auc: 0.884167\tvalid_1's auc: 0.723521\n",
      "[1000]\ttraining's auc: 0.901553\tvalid_1's auc: 0.72406\n",
      "| \u001b[0m 24      \u001b[0m | \u001b[0m 0.7243  \u001b[0m | \u001b[0m 0.7191  \u001b[0m | \u001b[0m 9.319   \u001b[0m | \u001b[0m 107.7   \u001b[0m | \u001b[0m 92.52   \u001b[0m |\n",
      "[LightGBM] [Warning] seed is set=27, random_state=27 will be ignored. Current value: seed=27\n",
      "[LightGBM] [Warning] min_data_in_leaf is set=71, min_child_samples=20 will be ignored. Current value: min_data_in_leaf=71\n",
      "[LightGBM] [Warning] lambda_l1 is set=0.436193, reg_alpha=0.0 will be ignored. Current value: lambda_l1=0.436193\n",
      "[LightGBM] [Warning] lambda_l2 is set=0.479169, reg_lambda=0.0 will be ignored. Current value: lambda_l2=0.479169\n",
      "[LightGBM] [Warning] early_stopping_round is set=500, early_stopping_rounds=500 will be ignored. Current value: early_stopping_round=500\n"
     ]
    },
    {
     "name": "stderr",
     "output_type": "stream",
     "text": [
      "C:\\Users\\Windows\\.conda\\envs\\tf\\lib\\site-packages\\lightgbm\\sklearn.py:726: UserWarning: 'early_stopping_rounds' argument is deprecated and will be removed in a future release of LightGBM. Pass 'early_stopping()' callback via 'callbacks' argument instead.\n",
      "  _log_warning(\"'early_stopping_rounds' argument is deprecated and will be removed in a future release of LightGBM. \"\n",
      "C:\\Users\\Windows\\.conda\\envs\\tf\\lib\\site-packages\\lightgbm\\sklearn.py:736: UserWarning: 'verbose' argument is deprecated and will be removed in a future release of LightGBM. Pass 'log_evaluation()' callback via 'callbacks' argument instead.\n",
      "  _log_warning(\"'verbose' argument is deprecated and will be removed in a future release of LightGBM. \"\n",
      "C:\\Users\\Windows\\.conda\\envs\\tf\\lib\\site-packages\\lightgbm\\basic.py:2065: UserWarning: Using categorical_feature in Dataset.\n",
      "  _log_warning('Using categorical_feature in Dataset.')\n",
      "C:\\Users\\Windows\\.conda\\envs\\tf\\lib\\site-packages\\lightgbm\\basic.py:2068: UserWarning: categorical_feature in Dataset is overridden.\n",
      "New categorical_feature is ['EDUCATION_LEVEL', 'EXTERNAL_SCORING_RATING_1_IS_NAN', 'EXTERNAL_SCORING_RATING_2_IS_NAN', 'EXTERNAL_SCORING_RATING_3_IS_NAN', 'FAMILY_STATUS', 'GENDER', 'NAME_CONTRACT_TYPE']\n",
      "  _log_warning('categorical_feature in Dataset is overridden.\\n'\n",
      "C:\\Users\\Windows\\.conda\\envs\\tf\\lib\\site-packages\\lightgbm\\basic.py:1780: UserWarning: Overriding the parameters from Reference Dataset.\n",
      "  _log_warning('Overriding the parameters from Reference Dataset.')\n",
      "C:\\Users\\Windows\\.conda\\envs\\tf\\lib\\site-packages\\lightgbm\\basic.py:1513: UserWarning: categorical_column in param dict is overridden.\n",
      "  _log_warning(f'{cat_alias} in param dict is overridden.')\n"
     ]
    },
    {
     "name": "stdout",
     "output_type": "stream",
     "text": [
      "[200]\ttraining's auc: 0.765207\tvalid_1's auc: 0.719435\n",
      "[400]\ttraining's auc: 0.7913\tvalid_1's auc: 0.723424\n",
      "[600]\ttraining's auc: 0.806705\tvalid_1's auc: 0.723958\n",
      "[800]\ttraining's auc: 0.820307\tvalid_1's auc: 0.723292\n",
      "| \u001b[0m 25      \u001b[0m | \u001b[0m 0.7243  \u001b[0m | \u001b[0m 0.6876  \u001b[0m | \u001b[0m 6.687   \u001b[0m | \u001b[0m 71.07   \u001b[0m | \u001b[0m 60.71   \u001b[0m |\n",
      "[LightGBM] [Warning] seed is set=27, random_state=27 will be ignored. Current value: seed=27\n",
      "[LightGBM] [Warning] min_data_in_leaf is set=170, min_child_samples=20 will be ignored. Current value: min_data_in_leaf=170\n",
      "[LightGBM] [Warning] lambda_l1 is set=0.436193, reg_alpha=0.0 will be ignored. Current value: lambda_l1=0.436193\n",
      "[LightGBM] [Warning] lambda_l2 is set=0.479169, reg_lambda=0.0 will be ignored. Current value: lambda_l2=0.479169\n",
      "[LightGBM] [Warning] early_stopping_round is set=500, early_stopping_rounds=500 will be ignored. Current value: early_stopping_round=500\n"
     ]
    },
    {
     "name": "stderr",
     "output_type": "stream",
     "text": [
      "C:\\Users\\Windows\\.conda\\envs\\tf\\lib\\site-packages\\lightgbm\\sklearn.py:726: UserWarning: 'early_stopping_rounds' argument is deprecated and will be removed in a future release of LightGBM. Pass 'early_stopping()' callback via 'callbacks' argument instead.\n",
      "  _log_warning(\"'early_stopping_rounds' argument is deprecated and will be removed in a future release of LightGBM. \"\n",
      "C:\\Users\\Windows\\.conda\\envs\\tf\\lib\\site-packages\\lightgbm\\sklearn.py:736: UserWarning: 'verbose' argument is deprecated and will be removed in a future release of LightGBM. Pass 'log_evaluation()' callback via 'callbacks' argument instead.\n",
      "  _log_warning(\"'verbose' argument is deprecated and will be removed in a future release of LightGBM. \"\n",
      "C:\\Users\\Windows\\.conda\\envs\\tf\\lib\\site-packages\\lightgbm\\basic.py:2065: UserWarning: Using categorical_feature in Dataset.\n",
      "  _log_warning('Using categorical_feature in Dataset.')\n",
      "C:\\Users\\Windows\\.conda\\envs\\tf\\lib\\site-packages\\lightgbm\\basic.py:2068: UserWarning: categorical_feature in Dataset is overridden.\n",
      "New categorical_feature is ['EDUCATION_LEVEL', 'EXTERNAL_SCORING_RATING_1_IS_NAN', 'EXTERNAL_SCORING_RATING_2_IS_NAN', 'EXTERNAL_SCORING_RATING_3_IS_NAN', 'FAMILY_STATUS', 'GENDER', 'NAME_CONTRACT_TYPE']\n",
      "  _log_warning('categorical_feature in Dataset is overridden.\\n'\n",
      "C:\\Users\\Windows\\.conda\\envs\\tf\\lib\\site-packages\\lightgbm\\basic.py:1780: UserWarning: Overriding the parameters from Reference Dataset.\n",
      "  _log_warning('Overriding the parameters from Reference Dataset.')\n",
      "C:\\Users\\Windows\\.conda\\envs\\tf\\lib\\site-packages\\lightgbm\\basic.py:1513: UserWarning: categorical_column in param dict is overridden.\n",
      "  _log_warning(f'{cat_alias} in param dict is overridden.')\n"
     ]
    },
    {
     "name": "stdout",
     "output_type": "stream",
     "text": [
      "[200]\ttraining's auc: 0.802333\tvalid_1's auc: 0.718972\n",
      "[400]\ttraining's auc: 0.837719\tvalid_1's auc: 0.722027\n",
      "[600]\ttraining's auc: 0.858348\tvalid_1's auc: 0.722204\n",
      "[800]\ttraining's auc: 0.875439\tvalid_1's auc: 0.722054\n",
      "[1000]\ttraining's auc: 0.891881\tvalid_1's auc: 0.722424\n",
      "[1200]\ttraining's auc: 0.905091\tvalid_1's auc: 0.722299\n",
      "[1400]\ttraining's auc: 0.915285\tvalid_1's auc: 0.720816\n",
      "| \u001b[0m 26      \u001b[0m | \u001b[0m 0.7231  \u001b[0m | \u001b[0m 0.8841  \u001b[0m | \u001b[0m 9.99    \u001b[0m | \u001b[0m 170.3   \u001b[0m | \u001b[0m 96.14   \u001b[0m |\n",
      "[LightGBM] [Warning] seed is set=27, random_state=27 will be ignored. Current value: seed=27\n",
      "[LightGBM] [Warning] min_data_in_leaf is set=126, min_child_samples=20 will be ignored. Current value: min_data_in_leaf=126\n",
      "[LightGBM] [Warning] lambda_l1 is set=0.436193, reg_alpha=0.0 will be ignored. Current value: lambda_l1=0.436193\n",
      "[LightGBM] [Warning] lambda_l2 is set=0.479169, reg_lambda=0.0 will be ignored. Current value: lambda_l2=0.479169\n",
      "[LightGBM] [Warning] early_stopping_round is set=500, early_stopping_rounds=500 will be ignored. Current value: early_stopping_round=500\n"
     ]
    },
    {
     "name": "stderr",
     "output_type": "stream",
     "text": [
      "C:\\Users\\Windows\\.conda\\envs\\tf\\lib\\site-packages\\lightgbm\\sklearn.py:726: UserWarning: 'early_stopping_rounds' argument is deprecated and will be removed in a future release of LightGBM. Pass 'early_stopping()' callback via 'callbacks' argument instead.\n",
      "  _log_warning(\"'early_stopping_rounds' argument is deprecated and will be removed in a future release of LightGBM. \"\n",
      "C:\\Users\\Windows\\.conda\\envs\\tf\\lib\\site-packages\\lightgbm\\sklearn.py:736: UserWarning: 'verbose' argument is deprecated and will be removed in a future release of LightGBM. Pass 'log_evaluation()' callback via 'callbacks' argument instead.\n",
      "  _log_warning(\"'verbose' argument is deprecated and will be removed in a future release of LightGBM. \"\n",
      "C:\\Users\\Windows\\.conda\\envs\\tf\\lib\\site-packages\\lightgbm\\basic.py:2065: UserWarning: Using categorical_feature in Dataset.\n",
      "  _log_warning('Using categorical_feature in Dataset.')\n",
      "C:\\Users\\Windows\\.conda\\envs\\tf\\lib\\site-packages\\lightgbm\\basic.py:2068: UserWarning: categorical_feature in Dataset is overridden.\n",
      "New categorical_feature is ['EDUCATION_LEVEL', 'EXTERNAL_SCORING_RATING_1_IS_NAN', 'EXTERNAL_SCORING_RATING_2_IS_NAN', 'EXTERNAL_SCORING_RATING_3_IS_NAN', 'FAMILY_STATUS', 'GENDER', 'NAME_CONTRACT_TYPE']\n",
      "  _log_warning('categorical_feature in Dataset is overridden.\\n'\n",
      "C:\\Users\\Windows\\.conda\\envs\\tf\\lib\\site-packages\\lightgbm\\basic.py:1780: UserWarning: Overriding the parameters from Reference Dataset.\n",
      "  _log_warning('Overriding the parameters from Reference Dataset.')\n",
      "C:\\Users\\Windows\\.conda\\envs\\tf\\lib\\site-packages\\lightgbm\\basic.py:1513: UserWarning: categorical_column in param dict is overridden.\n",
      "  _log_warning(f'{cat_alias} in param dict is overridden.')\n"
     ]
    },
    {
     "name": "stdout",
     "output_type": "stream",
     "text": [
      "[200]\ttraining's auc: 0.782922\tvalid_1's auc: 0.720959\n",
      "[400]\ttraining's auc: 0.810267\tvalid_1's auc: 0.724623\n",
      "[600]\ttraining's auc: 0.827406\tvalid_1's auc: 0.725327\n",
      "[800]\ttraining's auc: 0.841833\tvalid_1's auc: 0.726003\n",
      "[1000]\ttraining's auc: 0.855685\tvalid_1's auc: 0.725749\n",
      "[1200]\ttraining's auc: 0.869373\tvalid_1's auc: 0.725723\n",
      "| \u001b[0m 27      \u001b[0m | \u001b[0m 0.7265  \u001b[0m | \u001b[0m 0.498   \u001b[0m | \u001b[0m 7.323   \u001b[0m | \u001b[0m 127.0   \u001b[0m | \u001b[0m 87.28   \u001b[0m |\n",
      "=========================================================================\n"
     ]
    }
   ],
   "source": [
    "params_search = {\n",
    "    \"max_depth\": (6, 10),    \n",
    "    \"colsample_bytree\": (0.3, 0.9),\n",
    "    \"num_leaves\": (25,100),     \n",
    "    'min_data_in_leaf': (25,256)\n",
    "    'min_child_weight':(0.0005,0.05)  \n",
    "}\n",
    "\n",
    "optimizer = BayesianOptimization(\n",
    "    f=lgboost_optimize_params,\n",
    "    pbounds=params_search,\n",
    "    random_state=27\n",
    ")\n",
    "optimizer.maximize(\n",
    "    init_points=7, n_iter=20, acq='ei'\n",
    ")"
   ]
  },
  {
   "cell_type": "code",
   "execution_count": 255,
   "id": "50d731e1",
   "metadata": {},
   "outputs": [],
   "source": [
    "optimal_lgb_params = optimizer.max"
   ]
  },
  {
   "cell_type": "code",
   "execution_count": 256,
   "id": "abbfe040",
   "metadata": {},
   "outputs": [
    {
     "data": {
      "text/plain": [
       "{'target': 0.7285736263388486,\n",
       " 'params': {'colsample_bytree': 0.34238477753119584,\n",
       "  'max_depth': 8.804284691566153,\n",
       "  'min_data_in_leaf': 66.80635207218523,\n",
       "  'num_leaves': 69.9187937784069}}"
      ]
     },
     "execution_count": 256,
     "metadata": {},
     "output_type": "execute_result"
    }
   ],
   "source": [
    "optimal_lgb_params"
   ]
  },
  {
   "cell_type": "code",
   "execution_count": 257,
   "id": "6e1c1e30",
   "metadata": {},
   "outputs": [],
   "source": [
    "optimal_lgb_params[\"params\"][\"max_depth\"]=int(np.round(optimal_lgb_params[\"params\"][\"max_depth\"]))\n",
    "optimal_lgb_params[\"params\"][\"num_leaves\"]=int(np.round(optimal_lgb_params[\"params\"][\"num_leaves\"]))\n",
    "optimal_lgb_params[\"params\"][\"min_data_in_leaf\"]=int(np.round(optimal_lgb_params[\"params\"][\"min_data_in_leaf\"]))\n"
   ]
  },
  {
   "cell_type": "code",
   "execution_count": 258,
   "id": "57333db0",
   "metadata": {},
   "outputs": [
    {
     "data": {
      "text/plain": [
       "{'target': 0.7285736263388486,\n",
       " 'params': {'colsample_bytree': 0.34238477753119584,\n",
       "  'max_depth': 9,\n",
       "  'min_data_in_leaf': 67,\n",
       "  'num_leaves': 70}}"
      ]
     },
     "execution_count": 258,
     "metadata": {},
     "output_type": "execute_result"
    }
   ],
   "source": [
    "optimal_lgb_params"
   ]
  },
  {
   "cell_type": "code",
   "execution_count": 259,
   "id": "ecae426d",
   "metadata": {},
   "outputs": [],
   "source": [
    "lgbm_params = {\n",
    "        'boosting_type': 'gbdt',\n",
    "        'objective': 'binary',\n",
    "        'metric': 'auc',\n",
    "        'learning_rate': 0.01,\n",
    "        'n_estimators': 9000,\n",
    "        'n_jobs': 7,\n",
    "        'seed': 27,\n",
    "        'early_stopping_rounds':500,\n",
    "        'num_leaves': 57,\n",
    "        'max_depth': 9,\n",
    "        'subsample_for_bin': 200000,\n",
    "        'lambda_l1': 0.436193,\n",
    "        'lambda_l2': 0.479169,\n",
    "        'colsample_bytree': 0.508716,\n",
    "        'min_split_gain': 0.024766,\n",
    "        'subsample': 0.7,\n",
    "        'is_unbalance': False,\n",
    "        'random_state': 27,\n",
    "        'extra_trees':False,\n",
    "        'min_data_in_leaf':20,\n",
    "        'min_child_weight': 0.001,\n",
    "        'subsample_freq':0\n",
    "    \n",
    " }"
   ]
  },
  {
   "cell_type": "code",
   "execution_count": 260,
   "id": "8aeb36c1",
   "metadata": {},
   "outputs": [],
   "source": [
    "for optimal_lgb_param_name in optimal_lgb_params[\"params\"]:\n",
    "    lgbm_params[optimal_lgb_param_name]=optimal_lgb_params[\"params\"][optimal_lgb_param_name]\n",
    "    "
   ]
  },
  {
   "cell_type": "code",
   "execution_count": 261,
   "id": "137ffeed",
   "metadata": {},
   "outputs": [
    {
     "data": {
      "text/plain": [
       "{'boosting_type': 'gbdt',\n",
       " 'objective': 'binary',\n",
       " 'metric': 'auc',\n",
       " 'learning_rate': 0.01,\n",
       " 'n_estimators': 9000,\n",
       " 'n_jobs': 7,\n",
       " 'seed': 27,\n",
       " 'early_stopping_rounds': 500,\n",
       " 'num_leaves': 70,\n",
       " 'max_depth': 9,\n",
       " 'subsample_for_bin': 200000,\n",
       " 'lambda_l1': 0.436193,\n",
       " 'lambda_l2': 0.479169,\n",
       " 'colsample_bytree': 0.34238477753119584,\n",
       " 'min_split_gain': 0.024766,\n",
       " 'subsample': 0.7,\n",
       " 'is_unbalance': False,\n",
       " 'random_state': 27,\n",
       " 'extra_trees': False,\n",
       " 'min_data_in_leaf': 67,\n",
       " 'min_child_weight': 0.001,\n",
       " 'subsample_freq': 0}"
      ]
     },
     "execution_count": 261,
     "metadata": {},
     "output_type": "execute_result"
    }
   ],
   "source": [
    "lgbm_params"
   ]
  },
  {
   "cell_type": "markdown",
   "id": "46152ff9",
   "metadata": {},
   "source": [
    "Используется BayesianOptimization"
   ]
  },
  {
   "cell_type": "code",
   "execution_count": 262,
   "id": "ae68b398",
   "metadata": {},
   "outputs": [],
   "source": [
    "model = lgb.LGBMClassifier(**lgbm_params)"
   ]
  },
  {
   "cell_type": "code",
   "execution_count": 263,
   "id": "fd18dae4",
   "metadata": {},
   "outputs": [
    {
     "name": "stderr",
     "output_type": "stream",
     "text": [
      "C:\\Users\\Windows\\.conda\\envs\\tf\\lib\\site-packages\\lightgbm\\sklearn.py:726: UserWarning: 'early_stopping_rounds' argument is deprecated and will be removed in a future release of LightGBM. Pass 'early_stopping()' callback via 'callbacks' argument instead.\n",
      "  _log_warning(\"'early_stopping_rounds' argument is deprecated and will be removed in a future release of LightGBM. \"\n",
      "C:\\Users\\Windows\\.conda\\envs\\tf\\lib\\site-packages\\lightgbm\\sklearn.py:736: UserWarning: 'verbose' argument is deprecated and will be removed in a future release of LightGBM. Pass 'log_evaluation()' callback via 'callbacks' argument instead.\n",
      "  _log_warning(\"'verbose' argument is deprecated and will be removed in a future release of LightGBM. \"\n",
      "C:\\Users\\Windows\\.conda\\envs\\tf\\lib\\site-packages\\lightgbm\\basic.py:2065: UserWarning: Using categorical_feature in Dataset.\n",
      "  _log_warning('Using categorical_feature in Dataset.')\n",
      "C:\\Users\\Windows\\.conda\\envs\\tf\\lib\\site-packages\\lightgbm\\basic.py:2068: UserWarning: categorical_feature in Dataset is overridden.\n",
      "New categorical_feature is ['EDUCATION_LEVEL', 'EXTERNAL_SCORING_RATING_1_IS_NAN', 'EXTERNAL_SCORING_RATING_2_IS_NAN', 'EXTERNAL_SCORING_RATING_3_IS_NAN', 'FAMILY_STATUS', 'GENDER', 'NAME_CONTRACT_TYPE']\n",
      "  _log_warning('categorical_feature in Dataset is overridden.\\n'\n"
     ]
    },
    {
     "name": "stdout",
     "output_type": "stream",
     "text": [
      "[LightGBM] [Warning] seed is set=27, random_state=27 will be ignored. Current value: seed=27\n",
      "[LightGBM] [Warning] min_data_in_leaf is set=67, min_child_samples=20 will be ignored. Current value: min_data_in_leaf=67\n",
      "[LightGBM] [Warning] lambda_l1 is set=0.436193, reg_alpha=0.0 will be ignored. Current value: lambda_l1=0.436193\n",
      "[LightGBM] [Warning] lambda_l2 is set=0.479169, reg_lambda=0.0 will be ignored. Current value: lambda_l2=0.479169\n",
      "[LightGBM] [Warning] early_stopping_round is set=500, early_stopping_rounds=500 will be ignored. Current value: early_stopping_round=500\n"
     ]
    },
    {
     "name": "stderr",
     "output_type": "stream",
     "text": [
      "C:\\Users\\Windows\\.conda\\envs\\tf\\lib\\site-packages\\lightgbm\\basic.py:1780: UserWarning: Overriding the parameters from Reference Dataset.\n",
      "  _log_warning('Overriding the parameters from Reference Dataset.')\n",
      "C:\\Users\\Windows\\.conda\\envs\\tf\\lib\\site-packages\\lightgbm\\basic.py:1513: UserWarning: categorical_column in param dict is overridden.\n",
      "  _log_warning(f'{cat_alias} in param dict is overridden.')\n"
     ]
    },
    {
     "name": "stdout",
     "output_type": "stream",
     "text": [
      "[200]\ttraining's auc: 0.768946\tvalid_1's auc: 0.713565\n",
      "[400]\ttraining's auc: 0.80216\tvalid_1's auc: 0.720543\n",
      "[600]\ttraining's auc: 0.828857\tvalid_1's auc: 0.723278\n",
      "[800]\ttraining's auc: 0.84929\tvalid_1's auc: 0.723693\n",
      "[1000]\ttraining's auc: 0.866238\tvalid_1's auc: 0.724008\n",
      "[1200]\ttraining's auc: 0.881614\tvalid_1's auc: 0.723129\n",
      "Fold: 1, train-observations = 104588, valid-observations = 5505\n",
      "train-score = 0.8533, valid-score = 0.7247\n",
      "=====================================================================\n",
      "[LightGBM] [Warning] seed is set=27, random_state=27 will be ignored. Current value: seed=27\n",
      "[LightGBM] [Warning] min_data_in_leaf is set=67, min_child_samples=20 will be ignored. Current value: min_data_in_leaf=67\n",
      "[LightGBM] [Warning] lambda_l1 is set=0.436193, reg_alpha=0.0 will be ignored. Current value: lambda_l1=0.436193\n",
      "[LightGBM] [Warning] lambda_l2 is set=0.479169, reg_lambda=0.0 will be ignored. Current value: lambda_l2=0.479169\n",
      "[LightGBM] [Warning] early_stopping_round is set=500, early_stopping_rounds=500 will be ignored. Current value: early_stopping_round=500\n"
     ]
    },
    {
     "name": "stderr",
     "output_type": "stream",
     "text": [
      "C:\\Users\\Windows\\.conda\\envs\\tf\\lib\\site-packages\\lightgbm\\sklearn.py:726: UserWarning: 'early_stopping_rounds' argument is deprecated and will be removed in a future release of LightGBM. Pass 'early_stopping()' callback via 'callbacks' argument instead.\n",
      "  _log_warning(\"'early_stopping_rounds' argument is deprecated and will be removed in a future release of LightGBM. \"\n",
      "C:\\Users\\Windows\\.conda\\envs\\tf\\lib\\site-packages\\lightgbm\\sklearn.py:736: UserWarning: 'verbose' argument is deprecated and will be removed in a future release of LightGBM. Pass 'log_evaluation()' callback via 'callbacks' argument instead.\n",
      "  _log_warning(\"'verbose' argument is deprecated and will be removed in a future release of LightGBM. \"\n",
      "C:\\Users\\Windows\\.conda\\envs\\tf\\lib\\site-packages\\lightgbm\\basic.py:2065: UserWarning: Using categorical_feature in Dataset.\n",
      "  _log_warning('Using categorical_feature in Dataset.')\n",
      "C:\\Users\\Windows\\.conda\\envs\\tf\\lib\\site-packages\\lightgbm\\basic.py:2068: UserWarning: categorical_feature in Dataset is overridden.\n",
      "New categorical_feature is ['EDUCATION_LEVEL', 'EXTERNAL_SCORING_RATING_1_IS_NAN', 'EXTERNAL_SCORING_RATING_2_IS_NAN', 'EXTERNAL_SCORING_RATING_3_IS_NAN', 'FAMILY_STATUS', 'GENDER', 'NAME_CONTRACT_TYPE']\n",
      "  _log_warning('categorical_feature in Dataset is overridden.\\n'\n",
      "C:\\Users\\Windows\\.conda\\envs\\tf\\lib\\site-packages\\lightgbm\\basic.py:1780: UserWarning: Overriding the parameters from Reference Dataset.\n",
      "  _log_warning('Overriding the parameters from Reference Dataset.')\n",
      "C:\\Users\\Windows\\.conda\\envs\\tf\\lib\\site-packages\\lightgbm\\basic.py:1513: UserWarning: categorical_column in param dict is overridden.\n",
      "  _log_warning(f'{cat_alias} in param dict is overridden.')\n"
     ]
    },
    {
     "name": "stdout",
     "output_type": "stream",
     "text": [
      "[200]\ttraining's auc: 0.769396\tvalid_1's auc: 0.707464\n",
      "[400]\ttraining's auc: 0.802504\tvalid_1's auc: 0.717752\n",
      "[600]\ttraining's auc: 0.828616\tvalid_1's auc: 0.721124\n",
      "[800]\ttraining's auc: 0.848841\tvalid_1's auc: 0.722019\n",
      "[1000]\ttraining's auc: 0.865579\tvalid_1's auc: 0.720323\n",
      "[1200]\ttraining's auc: 0.881153\tvalid_1's auc: 0.720044\n",
      "Fold: 2, train-observations = 104588, valid-observations = 5505\n",
      "train-score = 0.8527, valid-score = 0.7224\n",
      "=====================================================================\n",
      "[LightGBM] [Warning] seed is set=27, random_state=27 will be ignored. Current value: seed=27\n",
      "[LightGBM] [Warning] min_data_in_leaf is set=67, min_child_samples=20 will be ignored. Current value: min_data_in_leaf=67\n",
      "[LightGBM] [Warning] lambda_l1 is set=0.436193, reg_alpha=0.0 will be ignored. Current value: lambda_l1=0.436193\n",
      "[LightGBM] [Warning] lambda_l2 is set=0.479169, reg_lambda=0.0 will be ignored. Current value: lambda_l2=0.479169\n",
      "[LightGBM] [Warning] early_stopping_round is set=500, early_stopping_rounds=500 will be ignored. Current value: early_stopping_round=500\n"
     ]
    },
    {
     "name": "stderr",
     "output_type": "stream",
     "text": [
      "C:\\Users\\Windows\\.conda\\envs\\tf\\lib\\site-packages\\lightgbm\\sklearn.py:726: UserWarning: 'early_stopping_rounds' argument is deprecated and will be removed in a future release of LightGBM. Pass 'early_stopping()' callback via 'callbacks' argument instead.\n",
      "  _log_warning(\"'early_stopping_rounds' argument is deprecated and will be removed in a future release of LightGBM. \"\n",
      "C:\\Users\\Windows\\.conda\\envs\\tf\\lib\\site-packages\\lightgbm\\sklearn.py:736: UserWarning: 'verbose' argument is deprecated and will be removed in a future release of LightGBM. Pass 'log_evaluation()' callback via 'callbacks' argument instead.\n",
      "  _log_warning(\"'verbose' argument is deprecated and will be removed in a future release of LightGBM. \"\n",
      "C:\\Users\\Windows\\.conda\\envs\\tf\\lib\\site-packages\\lightgbm\\basic.py:2065: UserWarning: Using categorical_feature in Dataset.\n",
      "  _log_warning('Using categorical_feature in Dataset.')\n",
      "C:\\Users\\Windows\\.conda\\envs\\tf\\lib\\site-packages\\lightgbm\\basic.py:2068: UserWarning: categorical_feature in Dataset is overridden.\n",
      "New categorical_feature is ['EDUCATION_LEVEL', 'EXTERNAL_SCORING_RATING_1_IS_NAN', 'EXTERNAL_SCORING_RATING_2_IS_NAN', 'EXTERNAL_SCORING_RATING_3_IS_NAN', 'FAMILY_STATUS', 'GENDER', 'NAME_CONTRACT_TYPE']\n",
      "  _log_warning('categorical_feature in Dataset is overridden.\\n'\n",
      "C:\\Users\\Windows\\.conda\\envs\\tf\\lib\\site-packages\\lightgbm\\basic.py:1780: UserWarning: Overriding the parameters from Reference Dataset.\n",
      "  _log_warning('Overriding the parameters from Reference Dataset.')\n",
      "C:\\Users\\Windows\\.conda\\envs\\tf\\lib\\site-packages\\lightgbm\\basic.py:1513: UserWarning: categorical_column in param dict is overridden.\n",
      "  _log_warning(f'{cat_alias} in param dict is overridden.')\n"
     ]
    },
    {
     "name": "stdout",
     "output_type": "stream",
     "text": [
      "[200]\ttraining's auc: 0.769391\tvalid_1's auc: 0.728514\n",
      "[400]\ttraining's auc: 0.802538\tvalid_1's auc: 0.730383\n",
      "[600]\ttraining's auc: 0.827406\tvalid_1's auc: 0.730079\n",
      "[800]\ttraining's auc: 0.847911\tvalid_1's auc: 0.731195\n",
      "[1000]\ttraining's auc: 0.865473\tvalid_1's auc: 0.731888\n",
      "[1200]\ttraining's auc: 0.880741\tvalid_1's auc: 0.730913\n",
      "[1400]\ttraining's auc: 0.893327\tvalid_1's auc: 0.73109\n",
      "[1600]\ttraining's auc: 0.903923\tvalid_1's auc: 0.730421\n",
      "[1800]\ttraining's auc: 0.912887\tvalid_1's auc: 0.728417\n",
      "Fold: 3, train-observations = 104588, valid-observations = 5505\n",
      "train-score = 0.8903, valid-score = 0.7325\n",
      "=====================================================================\n",
      "[LightGBM] [Warning] seed is set=27, random_state=27 will be ignored. Current value: seed=27\n",
      "[LightGBM] [Warning] min_data_in_leaf is set=67, min_child_samples=20 will be ignored. Current value: min_data_in_leaf=67\n",
      "[LightGBM] [Warning] lambda_l1 is set=0.436193, reg_alpha=0.0 will be ignored. Current value: lambda_l1=0.436193\n",
      "[LightGBM] [Warning] lambda_l2 is set=0.479169, reg_lambda=0.0 will be ignored. Current value: lambda_l2=0.479169\n",
      "[LightGBM] [Warning] early_stopping_round is set=500, early_stopping_rounds=500 will be ignored. Current value: early_stopping_round=500\n"
     ]
    },
    {
     "name": "stderr",
     "output_type": "stream",
     "text": [
      "C:\\Users\\Windows\\.conda\\envs\\tf\\lib\\site-packages\\lightgbm\\sklearn.py:726: UserWarning: 'early_stopping_rounds' argument is deprecated and will be removed in a future release of LightGBM. Pass 'early_stopping()' callback via 'callbacks' argument instead.\n",
      "  _log_warning(\"'early_stopping_rounds' argument is deprecated and will be removed in a future release of LightGBM. \"\n",
      "C:\\Users\\Windows\\.conda\\envs\\tf\\lib\\site-packages\\lightgbm\\sklearn.py:736: UserWarning: 'verbose' argument is deprecated and will be removed in a future release of LightGBM. Pass 'log_evaluation()' callback via 'callbacks' argument instead.\n",
      "  _log_warning(\"'verbose' argument is deprecated and will be removed in a future release of LightGBM. \"\n",
      "C:\\Users\\Windows\\.conda\\envs\\tf\\lib\\site-packages\\lightgbm\\basic.py:2065: UserWarning: Using categorical_feature in Dataset.\n",
      "  _log_warning('Using categorical_feature in Dataset.')\n",
      "C:\\Users\\Windows\\.conda\\envs\\tf\\lib\\site-packages\\lightgbm\\basic.py:2068: UserWarning: categorical_feature in Dataset is overridden.\n",
      "New categorical_feature is ['EDUCATION_LEVEL', 'EXTERNAL_SCORING_RATING_1_IS_NAN', 'EXTERNAL_SCORING_RATING_2_IS_NAN', 'EXTERNAL_SCORING_RATING_3_IS_NAN', 'FAMILY_STATUS', 'GENDER', 'NAME_CONTRACT_TYPE']\n",
      "  _log_warning('categorical_feature in Dataset is overridden.\\n'\n",
      "C:\\Users\\Windows\\.conda\\envs\\tf\\lib\\site-packages\\lightgbm\\basic.py:1780: UserWarning: Overriding the parameters from Reference Dataset.\n",
      "  _log_warning('Overriding the parameters from Reference Dataset.')\n",
      "C:\\Users\\Windows\\.conda\\envs\\tf\\lib\\site-packages\\lightgbm\\basic.py:1513: UserWarning: categorical_column in param dict is overridden.\n",
      "  _log_warning(f'{cat_alias} in param dict is overridden.')\n"
     ]
    },
    {
     "name": "stdout",
     "output_type": "stream",
     "text": [
      "[200]\ttraining's auc: 0.768086\tvalid_1's auc: 0.723752\n",
      "[400]\ttraining's auc: 0.80217\tvalid_1's auc: 0.729438\n",
      "[600]\ttraining's auc: 0.827943\tvalid_1's auc: 0.73182\n",
      "[800]\ttraining's auc: 0.848476\tvalid_1's auc: 0.730906\n",
      "[1000]\ttraining's auc: 0.866184\tvalid_1's auc: 0.732\n",
      "Fold: 4, train-observations = 104588, valid-observations = 5505\n",
      "train-score = 0.8213, valid-score = 0.7323\n",
      "=====================================================================\n",
      "[LightGBM] [Warning] seed is set=27, random_state=27 will be ignored. Current value: seed=27\n",
      "[LightGBM] [Warning] min_data_in_leaf is set=67, min_child_samples=20 will be ignored. Current value: min_data_in_leaf=67\n",
      "[LightGBM] [Warning] lambda_l1 is set=0.436193, reg_alpha=0.0 will be ignored. Current value: lambda_l1=0.436193\n",
      "[LightGBM] [Warning] lambda_l2 is set=0.479169, reg_lambda=0.0 will be ignored. Current value: lambda_l2=0.479169\n",
      "[LightGBM] [Warning] early_stopping_round is set=500, early_stopping_rounds=500 will be ignored. Current value: early_stopping_round=500\n"
     ]
    },
    {
     "name": "stderr",
     "output_type": "stream",
     "text": [
      "C:\\Users\\Windows\\.conda\\envs\\tf\\lib\\site-packages\\lightgbm\\sklearn.py:726: UserWarning: 'early_stopping_rounds' argument is deprecated and will be removed in a future release of LightGBM. Pass 'early_stopping()' callback via 'callbacks' argument instead.\n",
      "  _log_warning(\"'early_stopping_rounds' argument is deprecated and will be removed in a future release of LightGBM. \"\n",
      "C:\\Users\\Windows\\.conda\\envs\\tf\\lib\\site-packages\\lightgbm\\sklearn.py:736: UserWarning: 'verbose' argument is deprecated and will be removed in a future release of LightGBM. Pass 'log_evaluation()' callback via 'callbacks' argument instead.\n",
      "  _log_warning(\"'verbose' argument is deprecated and will be removed in a future release of LightGBM. \"\n",
      "C:\\Users\\Windows\\.conda\\envs\\tf\\lib\\site-packages\\lightgbm\\basic.py:2065: UserWarning: Using categorical_feature in Dataset.\n",
      "  _log_warning('Using categorical_feature in Dataset.')\n",
      "C:\\Users\\Windows\\.conda\\envs\\tf\\lib\\site-packages\\lightgbm\\basic.py:2068: UserWarning: categorical_feature in Dataset is overridden.\n",
      "New categorical_feature is ['EDUCATION_LEVEL', 'EXTERNAL_SCORING_RATING_1_IS_NAN', 'EXTERNAL_SCORING_RATING_2_IS_NAN', 'EXTERNAL_SCORING_RATING_3_IS_NAN', 'FAMILY_STATUS', 'GENDER', 'NAME_CONTRACT_TYPE']\n",
      "  _log_warning('categorical_feature in Dataset is overridden.\\n'\n",
      "C:\\Users\\Windows\\.conda\\envs\\tf\\lib\\site-packages\\lightgbm\\basic.py:1780: UserWarning: Overriding the parameters from Reference Dataset.\n",
      "  _log_warning('Overriding the parameters from Reference Dataset.')\n",
      "C:\\Users\\Windows\\.conda\\envs\\tf\\lib\\site-packages\\lightgbm\\basic.py:1513: UserWarning: categorical_column in param dict is overridden.\n",
      "  _log_warning(f'{cat_alias} in param dict is overridden.')\n"
     ]
    },
    {
     "name": "stdout",
     "output_type": "stream",
     "text": [
      "[200]\ttraining's auc: 0.769039\tvalid_1's auc: 0.719771\n",
      "[400]\ttraining's auc: 0.803372\tvalid_1's auc: 0.72797\n",
      "[600]\ttraining's auc: 0.829403\tvalid_1's auc: 0.730056\n",
      "[800]\ttraining's auc: 0.851184\tvalid_1's auc: 0.73013\n",
      "[1000]\ttraining's auc: 0.868213\tvalid_1's auc: 0.730759\n",
      "[1200]\ttraining's auc: 0.882323\tvalid_1's auc: 0.731041\n",
      "[1400]\ttraining's auc: 0.894082\tvalid_1's auc: 0.729526\n",
      "Fold: 5, train-observations = 104588, valid-observations = 5505\n",
      "train-score = 0.8651, valid-score = 0.7313\n",
      "=====================================================================\n",
      "[LightGBM] [Warning] seed is set=27, random_state=27 will be ignored. Current value: seed=27\n",
      "[LightGBM] [Warning] min_data_in_leaf is set=67, min_child_samples=20 will be ignored. Current value: min_data_in_leaf=67\n",
      "[LightGBM] [Warning] lambda_l1 is set=0.436193, reg_alpha=0.0 will be ignored. Current value: lambda_l1=0.436193\n",
      "[LightGBM] [Warning] lambda_l2 is set=0.479169, reg_lambda=0.0 will be ignored. Current value: lambda_l2=0.479169\n",
      "[LightGBM] [Warning] early_stopping_round is set=500, early_stopping_rounds=500 will be ignored. Current value: early_stopping_round=500\n"
     ]
    },
    {
     "name": "stderr",
     "output_type": "stream",
     "text": [
      "C:\\Users\\Windows\\.conda\\envs\\tf\\lib\\site-packages\\lightgbm\\sklearn.py:726: UserWarning: 'early_stopping_rounds' argument is deprecated and will be removed in a future release of LightGBM. Pass 'early_stopping()' callback via 'callbacks' argument instead.\n",
      "  _log_warning(\"'early_stopping_rounds' argument is deprecated and will be removed in a future release of LightGBM. \"\n",
      "C:\\Users\\Windows\\.conda\\envs\\tf\\lib\\site-packages\\lightgbm\\sklearn.py:736: UserWarning: 'verbose' argument is deprecated and will be removed in a future release of LightGBM. Pass 'log_evaluation()' callback via 'callbacks' argument instead.\n",
      "  _log_warning(\"'verbose' argument is deprecated and will be removed in a future release of LightGBM. \"\n",
      "C:\\Users\\Windows\\.conda\\envs\\tf\\lib\\site-packages\\lightgbm\\basic.py:2065: UserWarning: Using categorical_feature in Dataset.\n",
      "  _log_warning('Using categorical_feature in Dataset.')\n",
      "C:\\Users\\Windows\\.conda\\envs\\tf\\lib\\site-packages\\lightgbm\\basic.py:2068: UserWarning: categorical_feature in Dataset is overridden.\n",
      "New categorical_feature is ['EDUCATION_LEVEL', 'EXTERNAL_SCORING_RATING_1_IS_NAN', 'EXTERNAL_SCORING_RATING_2_IS_NAN', 'EXTERNAL_SCORING_RATING_3_IS_NAN', 'FAMILY_STATUS', 'GENDER', 'NAME_CONTRACT_TYPE']\n",
      "  _log_warning('categorical_feature in Dataset is overridden.\\n'\n",
      "C:\\Users\\Windows\\.conda\\envs\\tf\\lib\\site-packages\\lightgbm\\basic.py:1780: UserWarning: Overriding the parameters from Reference Dataset.\n",
      "  _log_warning('Overriding the parameters from Reference Dataset.')\n",
      "C:\\Users\\Windows\\.conda\\envs\\tf\\lib\\site-packages\\lightgbm\\basic.py:1513: UserWarning: categorical_column in param dict is overridden.\n",
      "  _log_warning(f'{cat_alias} in param dict is overridden.')\n"
     ]
    },
    {
     "name": "stdout",
     "output_type": "stream",
     "text": [
      "[200]\ttraining's auc: 0.769102\tvalid_1's auc: 0.721448\n",
      "[400]\ttraining's auc: 0.801928\tvalid_1's auc: 0.723957\n",
      "[600]\ttraining's auc: 0.827523\tvalid_1's auc: 0.725634\n",
      "[800]\ttraining's auc: 0.847435\tvalid_1's auc: 0.724522\n",
      "[1000]\ttraining's auc: 0.864451\tvalid_1's auc: 0.724672\n",
      "Fold: 6, train-observations = 104588, valid-observations = 5505\n",
      "train-score = 0.8368, valid-score = 0.7266\n",
      "=====================================================================\n",
      "[LightGBM] [Warning] seed is set=27, random_state=27 will be ignored. Current value: seed=27\n",
      "[LightGBM] [Warning] min_data_in_leaf is set=67, min_child_samples=20 will be ignored. Current value: min_data_in_leaf=67\n",
      "[LightGBM] [Warning] lambda_l1 is set=0.436193, reg_alpha=0.0 will be ignored. Current value: lambda_l1=0.436193\n",
      "[LightGBM] [Warning] lambda_l2 is set=0.479169, reg_lambda=0.0 will be ignored. Current value: lambda_l2=0.479169\n",
      "[LightGBM] [Warning] early_stopping_round is set=500, early_stopping_rounds=500 will be ignored. Current value: early_stopping_round=500\n"
     ]
    },
    {
     "name": "stderr",
     "output_type": "stream",
     "text": [
      "C:\\Users\\Windows\\.conda\\envs\\tf\\lib\\site-packages\\lightgbm\\sklearn.py:726: UserWarning: 'early_stopping_rounds' argument is deprecated and will be removed in a future release of LightGBM. Pass 'early_stopping()' callback via 'callbacks' argument instead.\n",
      "  _log_warning(\"'early_stopping_rounds' argument is deprecated and will be removed in a future release of LightGBM. \"\n",
      "C:\\Users\\Windows\\.conda\\envs\\tf\\lib\\site-packages\\lightgbm\\sklearn.py:736: UserWarning: 'verbose' argument is deprecated and will be removed in a future release of LightGBM. Pass 'log_evaluation()' callback via 'callbacks' argument instead.\n",
      "  _log_warning(\"'verbose' argument is deprecated and will be removed in a future release of LightGBM. \"\n",
      "C:\\Users\\Windows\\.conda\\envs\\tf\\lib\\site-packages\\lightgbm\\basic.py:2065: UserWarning: Using categorical_feature in Dataset.\n",
      "  _log_warning('Using categorical_feature in Dataset.')\n",
      "C:\\Users\\Windows\\.conda\\envs\\tf\\lib\\site-packages\\lightgbm\\basic.py:2068: UserWarning: categorical_feature in Dataset is overridden.\n",
      "New categorical_feature is ['EDUCATION_LEVEL', 'EXTERNAL_SCORING_RATING_1_IS_NAN', 'EXTERNAL_SCORING_RATING_2_IS_NAN', 'EXTERNAL_SCORING_RATING_3_IS_NAN', 'FAMILY_STATUS', 'GENDER', 'NAME_CONTRACT_TYPE']\n",
      "  _log_warning('categorical_feature in Dataset is overridden.\\n'\n",
      "C:\\Users\\Windows\\.conda\\envs\\tf\\lib\\site-packages\\lightgbm\\basic.py:1780: UserWarning: Overriding the parameters from Reference Dataset.\n",
      "  _log_warning('Overriding the parameters from Reference Dataset.')\n",
      "C:\\Users\\Windows\\.conda\\envs\\tf\\lib\\site-packages\\lightgbm\\basic.py:1513: UserWarning: categorical_column in param dict is overridden.\n",
      "  _log_warning(f'{cat_alias} in param dict is overridden.')\n"
     ]
    },
    {
     "name": "stdout",
     "output_type": "stream",
     "text": [
      "[200]\ttraining's auc: 0.768489\tvalid_1's auc: 0.726698\n",
      "[400]\ttraining's auc: 0.802195\tvalid_1's auc: 0.730929\n",
      "[600]\ttraining's auc: 0.827146\tvalid_1's auc: 0.735197\n",
      "[800]\ttraining's auc: 0.847866\tvalid_1's auc: 0.738065\n",
      "[1000]\ttraining's auc: 0.865047\tvalid_1's auc: 0.739219\n",
      "[1200]\ttraining's auc: 0.87923\tvalid_1's auc: 0.741547\n",
      "[1400]\ttraining's auc: 0.892193\tvalid_1's auc: 0.73975\n",
      "[1600]\ttraining's auc: 0.90288\tvalid_1's auc: 0.738972\n",
      "Fold: 7, train-observations = 104588, valid-observations = 5505\n",
      "train-score = 0.8785, valid-score = 0.7418\n",
      "=====================================================================\n",
      "[LightGBM] [Warning] seed is set=27, random_state=27 will be ignored. Current value: seed=27\n",
      "[LightGBM] [Warning] min_data_in_leaf is set=67, min_child_samples=20 will be ignored. Current value: min_data_in_leaf=67\n",
      "[LightGBM] [Warning] lambda_l1 is set=0.436193, reg_alpha=0.0 will be ignored. Current value: lambda_l1=0.436193\n",
      "[LightGBM] [Warning] lambda_l2 is set=0.479169, reg_lambda=0.0 will be ignored. Current value: lambda_l2=0.479169\n",
      "[LightGBM] [Warning] early_stopping_round is set=500, early_stopping_rounds=500 will be ignored. Current value: early_stopping_round=500\n"
     ]
    },
    {
     "name": "stderr",
     "output_type": "stream",
     "text": [
      "C:\\Users\\Windows\\.conda\\envs\\tf\\lib\\site-packages\\lightgbm\\sklearn.py:726: UserWarning: 'early_stopping_rounds' argument is deprecated and will be removed in a future release of LightGBM. Pass 'early_stopping()' callback via 'callbacks' argument instead.\n",
      "  _log_warning(\"'early_stopping_rounds' argument is deprecated and will be removed in a future release of LightGBM. \"\n",
      "C:\\Users\\Windows\\.conda\\envs\\tf\\lib\\site-packages\\lightgbm\\sklearn.py:736: UserWarning: 'verbose' argument is deprecated and will be removed in a future release of LightGBM. Pass 'log_evaluation()' callback via 'callbacks' argument instead.\n",
      "  _log_warning(\"'verbose' argument is deprecated and will be removed in a future release of LightGBM. \"\n",
      "C:\\Users\\Windows\\.conda\\envs\\tf\\lib\\site-packages\\lightgbm\\basic.py:2065: UserWarning: Using categorical_feature in Dataset.\n",
      "  _log_warning('Using categorical_feature in Dataset.')\n",
      "C:\\Users\\Windows\\.conda\\envs\\tf\\lib\\site-packages\\lightgbm\\basic.py:2068: UserWarning: categorical_feature in Dataset is overridden.\n",
      "New categorical_feature is ['EDUCATION_LEVEL', 'EXTERNAL_SCORING_RATING_1_IS_NAN', 'EXTERNAL_SCORING_RATING_2_IS_NAN', 'EXTERNAL_SCORING_RATING_3_IS_NAN', 'FAMILY_STATUS', 'GENDER', 'NAME_CONTRACT_TYPE']\n",
      "  _log_warning('categorical_feature in Dataset is overridden.\\n'\n",
      "C:\\Users\\Windows\\.conda\\envs\\tf\\lib\\site-packages\\lightgbm\\basic.py:1780: UserWarning: Overriding the parameters from Reference Dataset.\n",
      "  _log_warning('Overriding the parameters from Reference Dataset.')\n",
      "C:\\Users\\Windows\\.conda\\envs\\tf\\lib\\site-packages\\lightgbm\\basic.py:1513: UserWarning: categorical_column in param dict is overridden.\n",
      "  _log_warning(f'{cat_alias} in param dict is overridden.')\n"
     ]
    },
    {
     "name": "stdout",
     "output_type": "stream",
     "text": [
      "[200]\ttraining's auc: 0.767688\tvalid_1's auc: 0.735111\n",
      "[400]\ttraining's auc: 0.801501\tvalid_1's auc: 0.74173\n",
      "[600]\ttraining's auc: 0.827575\tvalid_1's auc: 0.742723\n",
      "[800]\ttraining's auc: 0.847378\tvalid_1's auc: 0.742612\n",
      "[1000]\ttraining's auc: 0.864288\tvalid_1's auc: 0.742609\n",
      "[1200]\ttraining's auc: 0.878308\tvalid_1's auc: 0.742562\n",
      "[1400]\ttraining's auc: 0.891525\tvalid_1's auc: 0.741601\n",
      "[1600]\ttraining's auc: 0.902078\tvalid_1's auc: 0.741117\n",
      "Fold: 8, train-observations = 104588, valid-observations = 5505\n",
      "train-score = 0.8736, valid-score = 0.7443\n",
      "=====================================================================\n",
      "[LightGBM] [Warning] seed is set=27, random_state=27 will be ignored. Current value: seed=27\n",
      "[LightGBM] [Warning] min_data_in_leaf is set=67, min_child_samples=20 will be ignored. Current value: min_data_in_leaf=67\n",
      "[LightGBM] [Warning] lambda_l1 is set=0.436193, reg_alpha=0.0 will be ignored. Current value: lambda_l1=0.436193\n",
      "[LightGBM] [Warning] lambda_l2 is set=0.479169, reg_lambda=0.0 will be ignored. Current value: lambda_l2=0.479169\n",
      "[LightGBM] [Warning] early_stopping_round is set=500, early_stopping_rounds=500 will be ignored. Current value: early_stopping_round=500\n"
     ]
    },
    {
     "name": "stderr",
     "output_type": "stream",
     "text": [
      "C:\\Users\\Windows\\.conda\\envs\\tf\\lib\\site-packages\\lightgbm\\sklearn.py:726: UserWarning: 'early_stopping_rounds' argument is deprecated and will be removed in a future release of LightGBM. Pass 'early_stopping()' callback via 'callbacks' argument instead.\n",
      "  _log_warning(\"'early_stopping_rounds' argument is deprecated and will be removed in a future release of LightGBM. \"\n",
      "C:\\Users\\Windows\\.conda\\envs\\tf\\lib\\site-packages\\lightgbm\\sklearn.py:736: UserWarning: 'verbose' argument is deprecated and will be removed in a future release of LightGBM. Pass 'log_evaluation()' callback via 'callbacks' argument instead.\n",
      "  _log_warning(\"'verbose' argument is deprecated and will be removed in a future release of LightGBM. \"\n",
      "C:\\Users\\Windows\\.conda\\envs\\tf\\lib\\site-packages\\lightgbm\\basic.py:2065: UserWarning: Using categorical_feature in Dataset.\n",
      "  _log_warning('Using categorical_feature in Dataset.')\n",
      "C:\\Users\\Windows\\.conda\\envs\\tf\\lib\\site-packages\\lightgbm\\basic.py:2068: UserWarning: categorical_feature in Dataset is overridden.\n",
      "New categorical_feature is ['EDUCATION_LEVEL', 'EXTERNAL_SCORING_RATING_1_IS_NAN', 'EXTERNAL_SCORING_RATING_2_IS_NAN', 'EXTERNAL_SCORING_RATING_3_IS_NAN', 'FAMILY_STATUS', 'GENDER', 'NAME_CONTRACT_TYPE']\n",
      "  _log_warning('categorical_feature in Dataset is overridden.\\n'\n",
      "C:\\Users\\Windows\\.conda\\envs\\tf\\lib\\site-packages\\lightgbm\\basic.py:1780: UserWarning: Overriding the parameters from Reference Dataset.\n",
      "  _log_warning('Overriding the parameters from Reference Dataset.')\n",
      "C:\\Users\\Windows\\.conda\\envs\\tf\\lib\\site-packages\\lightgbm\\basic.py:1513: UserWarning: categorical_column in param dict is overridden.\n",
      "  _log_warning(f'{cat_alias} in param dict is overridden.')\n"
     ]
    },
    {
     "name": "stdout",
     "output_type": "stream",
     "text": [
      "[200]\ttraining's auc: 0.769081\tvalid_1's auc: 0.721172\n",
      "[400]\ttraining's auc: 0.801209\tvalid_1's auc: 0.726952\n",
      "[600]\ttraining's auc: 0.826535\tvalid_1's auc: 0.732592\n",
      "[800]\ttraining's auc: 0.84706\tvalid_1's auc: 0.730898\n",
      "[1000]\ttraining's auc: 0.863487\tvalid_1's auc: 0.730548\n",
      "Fold: 9, train-observations = 104588, valid-observations = 5505\n",
      "train-score = 0.8265, valid-score = 0.7326\n",
      "=====================================================================\n",
      "[LightGBM] [Warning] seed is set=27, random_state=27 will be ignored. Current value: seed=27\n",
      "[LightGBM] [Warning] min_data_in_leaf is set=67, min_child_samples=20 will be ignored. Current value: min_data_in_leaf=67\n",
      "[LightGBM] [Warning] lambda_l1 is set=0.436193, reg_alpha=0.0 will be ignored. Current value: lambda_l1=0.436193\n",
      "[LightGBM] [Warning] lambda_l2 is set=0.479169, reg_lambda=0.0 will be ignored. Current value: lambda_l2=0.479169\n",
      "[LightGBM] [Warning] early_stopping_round is set=500, early_stopping_rounds=500 will be ignored. Current value: early_stopping_round=500\n"
     ]
    },
    {
     "name": "stderr",
     "output_type": "stream",
     "text": [
      "C:\\Users\\Windows\\.conda\\envs\\tf\\lib\\site-packages\\lightgbm\\sklearn.py:726: UserWarning: 'early_stopping_rounds' argument is deprecated and will be removed in a future release of LightGBM. Pass 'early_stopping()' callback via 'callbacks' argument instead.\n",
      "  _log_warning(\"'early_stopping_rounds' argument is deprecated and will be removed in a future release of LightGBM. \"\n",
      "C:\\Users\\Windows\\.conda\\envs\\tf\\lib\\site-packages\\lightgbm\\sklearn.py:736: UserWarning: 'verbose' argument is deprecated and will be removed in a future release of LightGBM. Pass 'log_evaluation()' callback via 'callbacks' argument instead.\n",
      "  _log_warning(\"'verbose' argument is deprecated and will be removed in a future release of LightGBM. \"\n",
      "C:\\Users\\Windows\\.conda\\envs\\tf\\lib\\site-packages\\lightgbm\\basic.py:2065: UserWarning: Using categorical_feature in Dataset.\n",
      "  _log_warning('Using categorical_feature in Dataset.')\n",
      "C:\\Users\\Windows\\.conda\\envs\\tf\\lib\\site-packages\\lightgbm\\basic.py:2068: UserWarning: categorical_feature in Dataset is overridden.\n",
      "New categorical_feature is ['EDUCATION_LEVEL', 'EXTERNAL_SCORING_RATING_1_IS_NAN', 'EXTERNAL_SCORING_RATING_2_IS_NAN', 'EXTERNAL_SCORING_RATING_3_IS_NAN', 'FAMILY_STATUS', 'GENDER', 'NAME_CONTRACT_TYPE']\n",
      "  _log_warning('categorical_feature in Dataset is overridden.\\n'\n",
      "C:\\Users\\Windows\\.conda\\envs\\tf\\lib\\site-packages\\lightgbm\\basic.py:1780: UserWarning: Overriding the parameters from Reference Dataset.\n",
      "  _log_warning('Overriding the parameters from Reference Dataset.')\n",
      "C:\\Users\\Windows\\.conda\\envs\\tf\\lib\\site-packages\\lightgbm\\basic.py:1513: UserWarning: categorical_column in param dict is overridden.\n",
      "  _log_warning(f'{cat_alias} in param dict is overridden.')\n"
     ]
    },
    {
     "name": "stdout",
     "output_type": "stream",
     "text": [
      "[200]\ttraining's auc: 0.768362\tvalid_1's auc: 0.73059\n",
      "[400]\ttraining's auc: 0.802309\tvalid_1's auc: 0.736534\n",
      "[600]\ttraining's auc: 0.828625\tvalid_1's auc: 0.739566\n",
      "[800]\ttraining's auc: 0.847887\tvalid_1's auc: 0.739983\n",
      "[1000]\ttraining's auc: 0.86451\tvalid_1's auc: 0.740389\n",
      "[1200]\ttraining's auc: 0.87847\tvalid_1's auc: 0.739792\n",
      "[1400]\ttraining's auc: 0.891564\tvalid_1's auc: 0.740021\n",
      "Fold: 10, train-observations = 104588, valid-observations = 5505\n",
      "train-score = 0.8648, valid-score = 0.7409\n",
      "=====================================================================\n",
      "[LightGBM] [Warning] seed is set=27, random_state=27 will be ignored. Current value: seed=27\n",
      "[LightGBM] [Warning] min_data_in_leaf is set=67, min_child_samples=20 will be ignored. Current value: min_data_in_leaf=67\n",
      "[LightGBM] [Warning] lambda_l1 is set=0.436193, reg_alpha=0.0 will be ignored. Current value: lambda_l1=0.436193\n",
      "[LightGBM] [Warning] lambda_l2 is set=0.479169, reg_lambda=0.0 will be ignored. Current value: lambda_l2=0.479169\n",
      "[LightGBM] [Warning] early_stopping_round is set=500, early_stopping_rounds=500 will be ignored. Current value: early_stopping_round=500\n"
     ]
    },
    {
     "name": "stderr",
     "output_type": "stream",
     "text": [
      "C:\\Users\\Windows\\.conda\\envs\\tf\\lib\\site-packages\\lightgbm\\sklearn.py:726: UserWarning: 'early_stopping_rounds' argument is deprecated and will be removed in a future release of LightGBM. Pass 'early_stopping()' callback via 'callbacks' argument instead.\n",
      "  _log_warning(\"'early_stopping_rounds' argument is deprecated and will be removed in a future release of LightGBM. \"\n",
      "C:\\Users\\Windows\\.conda\\envs\\tf\\lib\\site-packages\\lightgbm\\sklearn.py:736: UserWarning: 'verbose' argument is deprecated and will be removed in a future release of LightGBM. Pass 'log_evaluation()' callback via 'callbacks' argument instead.\n",
      "  _log_warning(\"'verbose' argument is deprecated and will be removed in a future release of LightGBM. \"\n",
      "C:\\Users\\Windows\\.conda\\envs\\tf\\lib\\site-packages\\lightgbm\\basic.py:2065: UserWarning: Using categorical_feature in Dataset.\n",
      "  _log_warning('Using categorical_feature in Dataset.')\n",
      "C:\\Users\\Windows\\.conda\\envs\\tf\\lib\\site-packages\\lightgbm\\basic.py:2068: UserWarning: categorical_feature in Dataset is overridden.\n",
      "New categorical_feature is ['EDUCATION_LEVEL', 'EXTERNAL_SCORING_RATING_1_IS_NAN', 'EXTERNAL_SCORING_RATING_2_IS_NAN', 'EXTERNAL_SCORING_RATING_3_IS_NAN', 'FAMILY_STATUS', 'GENDER', 'NAME_CONTRACT_TYPE']\n",
      "  _log_warning('categorical_feature in Dataset is overridden.\\n'\n",
      "C:\\Users\\Windows\\.conda\\envs\\tf\\lib\\site-packages\\lightgbm\\basic.py:1780: UserWarning: Overriding the parameters from Reference Dataset.\n",
      "  _log_warning('Overriding the parameters from Reference Dataset.')\n",
      "C:\\Users\\Windows\\.conda\\envs\\tf\\lib\\site-packages\\lightgbm\\basic.py:1513: UserWarning: categorical_column in param dict is overridden.\n",
      "  _log_warning(f'{cat_alias} in param dict is overridden.')\n"
     ]
    },
    {
     "name": "stdout",
     "output_type": "stream",
     "text": [
      "[200]\ttraining's auc: 0.769538\tvalid_1's auc: 0.720349\n",
      "[400]\ttraining's auc: 0.802958\tvalid_1's auc: 0.72605\n",
      "[600]\ttraining's auc: 0.828718\tvalid_1's auc: 0.72639\n",
      "[800]\ttraining's auc: 0.848944\tvalid_1's auc: 0.726216\n",
      "[1000]\ttraining's auc: 0.865498\tvalid_1's auc: 0.724678\n",
      "Fold: 11, train-observations = 104588, valid-observations = 5505\n",
      "train-score = 0.819, valid-score = 0.728\n",
      "=====================================================================\n",
      "[LightGBM] [Warning] seed is set=27, random_state=27 will be ignored. Current value: seed=27\n",
      "[LightGBM] [Warning] min_data_in_leaf is set=67, min_child_samples=20 will be ignored. Current value: min_data_in_leaf=67\n",
      "[LightGBM] [Warning] lambda_l1 is set=0.436193, reg_alpha=0.0 will be ignored. Current value: lambda_l1=0.436193\n",
      "[LightGBM] [Warning] lambda_l2 is set=0.479169, reg_lambda=0.0 will be ignored. Current value: lambda_l2=0.479169\n",
      "[LightGBM] [Warning] early_stopping_round is set=500, early_stopping_rounds=500 will be ignored. Current value: early_stopping_round=500\n"
     ]
    },
    {
     "name": "stderr",
     "output_type": "stream",
     "text": [
      "C:\\Users\\Windows\\.conda\\envs\\tf\\lib\\site-packages\\lightgbm\\sklearn.py:726: UserWarning: 'early_stopping_rounds' argument is deprecated and will be removed in a future release of LightGBM. Pass 'early_stopping()' callback via 'callbacks' argument instead.\n",
      "  _log_warning(\"'early_stopping_rounds' argument is deprecated and will be removed in a future release of LightGBM. \"\n",
      "C:\\Users\\Windows\\.conda\\envs\\tf\\lib\\site-packages\\lightgbm\\sklearn.py:736: UserWarning: 'verbose' argument is deprecated and will be removed in a future release of LightGBM. Pass 'log_evaluation()' callback via 'callbacks' argument instead.\n",
      "  _log_warning(\"'verbose' argument is deprecated and will be removed in a future release of LightGBM. \"\n",
      "C:\\Users\\Windows\\.conda\\envs\\tf\\lib\\site-packages\\lightgbm\\basic.py:2065: UserWarning: Using categorical_feature in Dataset.\n",
      "  _log_warning('Using categorical_feature in Dataset.')\n",
      "C:\\Users\\Windows\\.conda\\envs\\tf\\lib\\site-packages\\lightgbm\\basic.py:2068: UserWarning: categorical_feature in Dataset is overridden.\n",
      "New categorical_feature is ['EDUCATION_LEVEL', 'EXTERNAL_SCORING_RATING_1_IS_NAN', 'EXTERNAL_SCORING_RATING_2_IS_NAN', 'EXTERNAL_SCORING_RATING_3_IS_NAN', 'FAMILY_STATUS', 'GENDER', 'NAME_CONTRACT_TYPE']\n",
      "  _log_warning('categorical_feature in Dataset is overridden.\\n'\n",
      "C:\\Users\\Windows\\.conda\\envs\\tf\\lib\\site-packages\\lightgbm\\basic.py:1780: UserWarning: Overriding the parameters from Reference Dataset.\n",
      "  _log_warning('Overriding the parameters from Reference Dataset.')\n",
      "C:\\Users\\Windows\\.conda\\envs\\tf\\lib\\site-packages\\lightgbm\\basic.py:1513: UserWarning: categorical_column in param dict is overridden.\n",
      "  _log_warning(f'{cat_alias} in param dict is overridden.')\n"
     ]
    },
    {
     "name": "stdout",
     "output_type": "stream",
     "text": [
      "[200]\ttraining's auc: 0.769212\tvalid_1's auc: 0.719901\n",
      "[400]\ttraining's auc: 0.802931\tvalid_1's auc: 0.7242\n",
      "[600]\ttraining's auc: 0.828784\tvalid_1's auc: 0.723477\n",
      "[800]\ttraining's auc: 0.847896\tvalid_1's auc: 0.723578\n",
      "Fold: 12, train-observations = 104588, valid-observations = 5505\n",
      "train-score = 0.8158, valid-score = 0.7262\n",
      "=====================================================================\n",
      "[LightGBM] [Warning] seed is set=27, random_state=27 will be ignored. Current value: seed=27\n",
      "[LightGBM] [Warning] min_data_in_leaf is set=67, min_child_samples=20 will be ignored. Current value: min_data_in_leaf=67\n"
     ]
    },
    {
     "name": "stderr",
     "output_type": "stream",
     "text": [
      "C:\\Users\\Windows\\.conda\\envs\\tf\\lib\\site-packages\\lightgbm\\sklearn.py:726: UserWarning: 'early_stopping_rounds' argument is deprecated and will be removed in a future release of LightGBM. Pass 'early_stopping()' callback via 'callbacks' argument instead.\n",
      "  _log_warning(\"'early_stopping_rounds' argument is deprecated and will be removed in a future release of LightGBM. \"\n",
      "C:\\Users\\Windows\\.conda\\envs\\tf\\lib\\site-packages\\lightgbm\\sklearn.py:736: UserWarning: 'verbose' argument is deprecated and will be removed in a future release of LightGBM. Pass 'log_evaluation()' callback via 'callbacks' argument instead.\n",
      "  _log_warning(\"'verbose' argument is deprecated and will be removed in a future release of LightGBM. \"\n",
      "C:\\Users\\Windows\\.conda\\envs\\tf\\lib\\site-packages\\lightgbm\\basic.py:2065: UserWarning: Using categorical_feature in Dataset.\n",
      "  _log_warning('Using categorical_feature in Dataset.')\n",
      "C:\\Users\\Windows\\.conda\\envs\\tf\\lib\\site-packages\\lightgbm\\basic.py:2068: UserWarning: categorical_feature in Dataset is overridden.\n",
      "New categorical_feature is ['EDUCATION_LEVEL', 'EXTERNAL_SCORING_RATING_1_IS_NAN', 'EXTERNAL_SCORING_RATING_2_IS_NAN', 'EXTERNAL_SCORING_RATING_3_IS_NAN', 'FAMILY_STATUS', 'GENDER', 'NAME_CONTRACT_TYPE']\n",
      "  _log_warning('categorical_feature in Dataset is overridden.\\n'\n"
     ]
    },
    {
     "name": "stdout",
     "output_type": "stream",
     "text": [
      "[LightGBM] [Warning] lambda_l1 is set=0.436193, reg_alpha=0.0 will be ignored. Current value: lambda_l1=0.436193\n",
      "[LightGBM] [Warning] lambda_l2 is set=0.479169, reg_lambda=0.0 will be ignored. Current value: lambda_l2=0.479169\n",
      "[LightGBM] [Warning] early_stopping_round is set=500, early_stopping_rounds=500 will be ignored. Current value: early_stopping_round=500\n"
     ]
    },
    {
     "name": "stderr",
     "output_type": "stream",
     "text": [
      "C:\\Users\\Windows\\.conda\\envs\\tf\\lib\\site-packages\\lightgbm\\basic.py:1780: UserWarning: Overriding the parameters from Reference Dataset.\n",
      "  _log_warning('Overriding the parameters from Reference Dataset.')\n",
      "C:\\Users\\Windows\\.conda\\envs\\tf\\lib\\site-packages\\lightgbm\\basic.py:1513: UserWarning: categorical_column in param dict is overridden.\n",
      "  _log_warning(f'{cat_alias} in param dict is overridden.')\n"
     ]
    },
    {
     "name": "stdout",
     "output_type": "stream",
     "text": [
      "[200]\ttraining's auc: 0.768245\tvalid_1's auc: 0.732166\n",
      "[400]\ttraining's auc: 0.801818\tvalid_1's auc: 0.737601\n",
      "[600]\ttraining's auc: 0.826689\tvalid_1's auc: 0.739101\n",
      "[800]\ttraining's auc: 0.84674\tvalid_1's auc: 0.73855\n",
      "[1000]\ttraining's auc: 0.863775\tvalid_1's auc: 0.738417\n",
      "Fold: 13, train-observations = 104588, valid-observations = 5505\n",
      "train-score = 0.831, valid-score = 0.7398\n",
      "=====================================================================\n",
      "[LightGBM] [Warning] seed is set=27, random_state=27 will be ignored. Current value: seed=27\n",
      "[LightGBM] [Warning] min_data_in_leaf is set=67, min_child_samples=20 will be ignored. Current value: min_data_in_leaf=67\n",
      "[LightGBM] [Warning] lambda_l1 is set=0.436193, reg_alpha=0.0 will be ignored. Current value: lambda_l1=0.436193\n",
      "[LightGBM] [Warning] lambda_l2 is set=0.479169, reg_lambda=0.0 will be ignored. Current value: lambda_l2=0.479169\n",
      "[LightGBM] [Warning] early_stopping_round is set=500, early_stopping_rounds=500 will be ignored. Current value: early_stopping_round=500\n"
     ]
    },
    {
     "name": "stderr",
     "output_type": "stream",
     "text": [
      "C:\\Users\\Windows\\.conda\\envs\\tf\\lib\\site-packages\\lightgbm\\sklearn.py:726: UserWarning: 'early_stopping_rounds' argument is deprecated and will be removed in a future release of LightGBM. Pass 'early_stopping()' callback via 'callbacks' argument instead.\n",
      "  _log_warning(\"'early_stopping_rounds' argument is deprecated and will be removed in a future release of LightGBM. \"\n",
      "C:\\Users\\Windows\\.conda\\envs\\tf\\lib\\site-packages\\lightgbm\\sklearn.py:736: UserWarning: 'verbose' argument is deprecated and will be removed in a future release of LightGBM. Pass 'log_evaluation()' callback via 'callbacks' argument instead.\n",
      "  _log_warning(\"'verbose' argument is deprecated and will be removed in a future release of LightGBM. \"\n",
      "C:\\Users\\Windows\\.conda\\envs\\tf\\lib\\site-packages\\lightgbm\\basic.py:2065: UserWarning: Using categorical_feature in Dataset.\n",
      "  _log_warning('Using categorical_feature in Dataset.')\n",
      "C:\\Users\\Windows\\.conda\\envs\\tf\\lib\\site-packages\\lightgbm\\basic.py:2068: UserWarning: categorical_feature in Dataset is overridden.\n",
      "New categorical_feature is ['EDUCATION_LEVEL', 'EXTERNAL_SCORING_RATING_1_IS_NAN', 'EXTERNAL_SCORING_RATING_2_IS_NAN', 'EXTERNAL_SCORING_RATING_3_IS_NAN', 'FAMILY_STATUS', 'GENDER', 'NAME_CONTRACT_TYPE']\n",
      "  _log_warning('categorical_feature in Dataset is overridden.\\n'\n",
      "C:\\Users\\Windows\\.conda\\envs\\tf\\lib\\site-packages\\lightgbm\\basic.py:1780: UserWarning: Overriding the parameters from Reference Dataset.\n",
      "  _log_warning('Overriding the parameters from Reference Dataset.')\n",
      "C:\\Users\\Windows\\.conda\\envs\\tf\\lib\\site-packages\\lightgbm\\basic.py:1513: UserWarning: categorical_column in param dict is overridden.\n",
      "  _log_warning(f'{cat_alias} in param dict is overridden.')\n"
     ]
    },
    {
     "name": "stdout",
     "output_type": "stream",
     "text": [
      "[200]\ttraining's auc: 0.769272\tvalid_1's auc: 0.706492\n",
      "[400]\ttraining's auc: 0.801982\tvalid_1's auc: 0.712197\n",
      "[600]\ttraining's auc: 0.827664\tvalid_1's auc: 0.716358\n",
      "[800]\ttraining's auc: 0.847298\tvalid_1's auc: 0.717576\n",
      "[1000]\ttraining's auc: 0.864614\tvalid_1's auc: 0.717289\n",
      "[1200]\ttraining's auc: 0.880487\tvalid_1's auc: 0.718355\n",
      "[1400]\ttraining's auc: 0.894468\tvalid_1's auc: 0.716114\n",
      "[1600]\ttraining's auc: 0.904467\tvalid_1's auc: 0.71623\n",
      "Fold: 14, train-observations = 104589, valid-observations = 5504\n",
      "train-score = 0.8864, valid-score = 0.719\n",
      "=====================================================================\n",
      "[LightGBM] [Warning] seed is set=27, random_state=27 will be ignored. Current value: seed=27\n",
      "[LightGBM] [Warning] min_data_in_leaf is set=67, min_child_samples=20 will be ignored. Current value: min_data_in_leaf=67\n",
      "[LightGBM] [Warning] lambda_l1 is set=0.436193, reg_alpha=0.0 will be ignored. Current value: lambda_l1=0.436193\n",
      "[LightGBM] [Warning] lambda_l2 is set=0.479169, reg_lambda=0.0 will be ignored. Current value: lambda_l2=0.479169\n"
     ]
    },
    {
     "name": "stderr",
     "output_type": "stream",
     "text": [
      "C:\\Users\\Windows\\.conda\\envs\\tf\\lib\\site-packages\\lightgbm\\sklearn.py:726: UserWarning: 'early_stopping_rounds' argument is deprecated and will be removed in a future release of LightGBM. Pass 'early_stopping()' callback via 'callbacks' argument instead.\n",
      "  _log_warning(\"'early_stopping_rounds' argument is deprecated and will be removed in a future release of LightGBM. \"\n",
      "C:\\Users\\Windows\\.conda\\envs\\tf\\lib\\site-packages\\lightgbm\\sklearn.py:736: UserWarning: 'verbose' argument is deprecated and will be removed in a future release of LightGBM. Pass 'log_evaluation()' callback via 'callbacks' argument instead.\n",
      "  _log_warning(\"'verbose' argument is deprecated and will be removed in a future release of LightGBM. \"\n",
      "C:\\Users\\Windows\\.conda\\envs\\tf\\lib\\site-packages\\lightgbm\\basic.py:2065: UserWarning: Using categorical_feature in Dataset.\n",
      "  _log_warning('Using categorical_feature in Dataset.')\n",
      "C:\\Users\\Windows\\.conda\\envs\\tf\\lib\\site-packages\\lightgbm\\basic.py:2068: UserWarning: categorical_feature in Dataset is overridden.\n",
      "New categorical_feature is ['EDUCATION_LEVEL', 'EXTERNAL_SCORING_RATING_1_IS_NAN', 'EXTERNAL_SCORING_RATING_2_IS_NAN', 'EXTERNAL_SCORING_RATING_3_IS_NAN', 'FAMILY_STATUS', 'GENDER', 'NAME_CONTRACT_TYPE']\n",
      "  _log_warning('categorical_feature in Dataset is overridden.\\n'\n"
     ]
    },
    {
     "name": "stdout",
     "output_type": "stream",
     "text": [
      "[LightGBM] [Warning] early_stopping_round is set=500, early_stopping_rounds=500 will be ignored. Current value: early_stopping_round=500\n"
     ]
    },
    {
     "name": "stderr",
     "output_type": "stream",
     "text": [
      "C:\\Users\\Windows\\.conda\\envs\\tf\\lib\\site-packages\\lightgbm\\basic.py:1780: UserWarning: Overriding the parameters from Reference Dataset.\n",
      "  _log_warning('Overriding the parameters from Reference Dataset.')\n",
      "C:\\Users\\Windows\\.conda\\envs\\tf\\lib\\site-packages\\lightgbm\\basic.py:1513: UserWarning: categorical_column in param dict is overridden.\n",
      "  _log_warning(f'{cat_alias} in param dict is overridden.')\n"
     ]
    },
    {
     "name": "stdout",
     "output_type": "stream",
     "text": [
      "[200]\ttraining's auc: 0.769616\tvalid_1's auc: 0.718687\n",
      "[400]\ttraining's auc: 0.802518\tvalid_1's auc: 0.728204\n",
      "[600]\ttraining's auc: 0.828182\tvalid_1's auc: 0.729168\n",
      "[800]\ttraining's auc: 0.84862\tvalid_1's auc: 0.728328\n",
      "[1000]\ttraining's auc: 0.865783\tvalid_1's auc: 0.727711\n",
      "Fold: 15, train-observations = 104589, valid-observations = 5504\n",
      "train-score = 0.8236, valid-score = 0.7297\n",
      "=====================================================================\n",
      "[LightGBM] [Warning] seed is set=27, random_state=27 will be ignored. Current value: seed=27\n",
      "[LightGBM] [Warning] min_data_in_leaf is set=67, min_child_samples=20 will be ignored. Current value: min_data_in_leaf=67\n",
      "[LightGBM] [Warning] lambda_l1 is set=0.436193, reg_alpha=0.0 will be ignored. Current value: lambda_l1=0.436193\n",
      "[LightGBM] [Warning] lambda_l2 is set=0.479169, reg_lambda=0.0 will be ignored. Current value: lambda_l2=0.479169\n",
      "[LightGBM] [Warning] early_stopping_round is set=500, early_stopping_rounds=500 will be ignored. Current value: early_stopping_round=500\n"
     ]
    },
    {
     "name": "stderr",
     "output_type": "stream",
     "text": [
      "C:\\Users\\Windows\\.conda\\envs\\tf\\lib\\site-packages\\lightgbm\\sklearn.py:726: UserWarning: 'early_stopping_rounds' argument is deprecated and will be removed in a future release of LightGBM. Pass 'early_stopping()' callback via 'callbacks' argument instead.\n",
      "  _log_warning(\"'early_stopping_rounds' argument is deprecated and will be removed in a future release of LightGBM. \"\n",
      "C:\\Users\\Windows\\.conda\\envs\\tf\\lib\\site-packages\\lightgbm\\sklearn.py:736: UserWarning: 'verbose' argument is deprecated and will be removed in a future release of LightGBM. Pass 'log_evaluation()' callback via 'callbacks' argument instead.\n",
      "  _log_warning(\"'verbose' argument is deprecated and will be removed in a future release of LightGBM. \"\n",
      "C:\\Users\\Windows\\.conda\\envs\\tf\\lib\\site-packages\\lightgbm\\basic.py:2065: UserWarning: Using categorical_feature in Dataset.\n",
      "  _log_warning('Using categorical_feature in Dataset.')\n",
      "C:\\Users\\Windows\\.conda\\envs\\tf\\lib\\site-packages\\lightgbm\\basic.py:2068: UserWarning: categorical_feature in Dataset is overridden.\n",
      "New categorical_feature is ['EDUCATION_LEVEL', 'EXTERNAL_SCORING_RATING_1_IS_NAN', 'EXTERNAL_SCORING_RATING_2_IS_NAN', 'EXTERNAL_SCORING_RATING_3_IS_NAN', 'FAMILY_STATUS', 'GENDER', 'NAME_CONTRACT_TYPE']\n",
      "  _log_warning('categorical_feature in Dataset is overridden.\\n'\n",
      "C:\\Users\\Windows\\.conda\\envs\\tf\\lib\\site-packages\\lightgbm\\basic.py:1780: UserWarning: Overriding the parameters from Reference Dataset.\n",
      "  _log_warning('Overriding the parameters from Reference Dataset.')\n",
      "C:\\Users\\Windows\\.conda\\envs\\tf\\lib\\site-packages\\lightgbm\\basic.py:1513: UserWarning: categorical_column in param dict is overridden.\n",
      "  _log_warning(f'{cat_alias} in param dict is overridden.')\n"
     ]
    },
    {
     "name": "stdout",
     "output_type": "stream",
     "text": [
      "[200]\ttraining's auc: 0.769773\tvalid_1's auc: 0.694177\n",
      "[400]\ttraining's auc: 0.803357\tvalid_1's auc: 0.700969\n",
      "[600]\ttraining's auc: 0.829808\tvalid_1's auc: 0.704456\n",
      "[800]\ttraining's auc: 0.849256\tvalid_1's auc: 0.706144\n",
      "[1000]\ttraining's auc: 0.866081\tvalid_1's auc: 0.706513\n",
      "[1200]\ttraining's auc: 0.880644\tvalid_1's auc: 0.705322\n",
      "[1400]\ttraining's auc: 0.893542\tvalid_1's auc: 0.704618\n",
      "Fold: 16, train-observations = 104589, valid-observations = 5504\n",
      "train-score = 0.8607, valid-score = 0.7067\n",
      "=====================================================================\n",
      "[LightGBM] [Warning] seed is set=27, random_state=27 will be ignored. Current value: seed=27\n",
      "[LightGBM] [Warning] min_data_in_leaf is set=67, min_child_samples=20 will be ignored. Current value: min_data_in_leaf=67\n"
     ]
    },
    {
     "name": "stderr",
     "output_type": "stream",
     "text": [
      "C:\\Users\\Windows\\.conda\\envs\\tf\\lib\\site-packages\\lightgbm\\sklearn.py:726: UserWarning: 'early_stopping_rounds' argument is deprecated and will be removed in a future release of LightGBM. Pass 'early_stopping()' callback via 'callbacks' argument instead.\n",
      "  _log_warning(\"'early_stopping_rounds' argument is deprecated and will be removed in a future release of LightGBM. \"\n",
      "C:\\Users\\Windows\\.conda\\envs\\tf\\lib\\site-packages\\lightgbm\\sklearn.py:736: UserWarning: 'verbose' argument is deprecated and will be removed in a future release of LightGBM. Pass 'log_evaluation()' callback via 'callbacks' argument instead.\n",
      "  _log_warning(\"'verbose' argument is deprecated and will be removed in a future release of LightGBM. \"\n",
      "C:\\Users\\Windows\\.conda\\envs\\tf\\lib\\site-packages\\lightgbm\\basic.py:2065: UserWarning: Using categorical_feature in Dataset.\n",
      "  _log_warning('Using categorical_feature in Dataset.')\n",
      "C:\\Users\\Windows\\.conda\\envs\\tf\\lib\\site-packages\\lightgbm\\basic.py:2068: UserWarning: categorical_feature in Dataset is overridden.\n",
      "New categorical_feature is ['EDUCATION_LEVEL', 'EXTERNAL_SCORING_RATING_1_IS_NAN', 'EXTERNAL_SCORING_RATING_2_IS_NAN', 'EXTERNAL_SCORING_RATING_3_IS_NAN', 'FAMILY_STATUS', 'GENDER', 'NAME_CONTRACT_TYPE']\n",
      "  _log_warning('categorical_feature in Dataset is overridden.\\n'\n"
     ]
    },
    {
     "name": "stdout",
     "output_type": "stream",
     "text": [
      "[LightGBM] [Warning] lambda_l1 is set=0.436193, reg_alpha=0.0 will be ignored. Current value: lambda_l1=0.436193\n",
      "[LightGBM] [Warning] lambda_l2 is set=0.479169, reg_lambda=0.0 will be ignored. Current value: lambda_l2=0.479169\n",
      "[LightGBM] [Warning] early_stopping_round is set=500, early_stopping_rounds=500 will be ignored. Current value: early_stopping_round=500\n"
     ]
    },
    {
     "name": "stderr",
     "output_type": "stream",
     "text": [
      "C:\\Users\\Windows\\.conda\\envs\\tf\\lib\\site-packages\\lightgbm\\basic.py:1780: UserWarning: Overriding the parameters from Reference Dataset.\n",
      "  _log_warning('Overriding the parameters from Reference Dataset.')\n",
      "C:\\Users\\Windows\\.conda\\envs\\tf\\lib\\site-packages\\lightgbm\\basic.py:1513: UserWarning: categorical_column in param dict is overridden.\n",
      "  _log_warning(f'{cat_alias} in param dict is overridden.')\n"
     ]
    },
    {
     "name": "stdout",
     "output_type": "stream",
     "text": [
      "[200]\ttraining's auc: 0.767963\tvalid_1's auc: 0.738527\n",
      "[400]\ttraining's auc: 0.801622\tvalid_1's auc: 0.74665\n",
      "[600]\ttraining's auc: 0.827545\tvalid_1's auc: 0.752\n",
      "[800]\ttraining's auc: 0.847661\tvalid_1's auc: 0.753937\n",
      "[1000]\ttraining's auc: 0.864826\tvalid_1's auc: 0.755204\n",
      "[1200]\ttraining's auc: 0.880591\tvalid_1's auc: 0.754641\n",
      "[1400]\ttraining's auc: 0.893667\tvalid_1's auc: 0.754293\n",
      "Fold: 17, train-observations = 104589, valid-observations = 5504\n",
      "train-score = 0.871, valid-score = 0.7558\n",
      "=====================================================================\n",
      "[LightGBM] [Warning] seed is set=27, random_state=27 will be ignored. Current value: seed=27\n",
      "[LightGBM] [Warning] min_data_in_leaf is set=67, min_child_samples=20 will be ignored. Current value: min_data_in_leaf=67\n"
     ]
    },
    {
     "name": "stderr",
     "output_type": "stream",
     "text": [
      "C:\\Users\\Windows\\.conda\\envs\\tf\\lib\\site-packages\\lightgbm\\sklearn.py:726: UserWarning: 'early_stopping_rounds' argument is deprecated and will be removed in a future release of LightGBM. Pass 'early_stopping()' callback via 'callbacks' argument instead.\n",
      "  _log_warning(\"'early_stopping_rounds' argument is deprecated and will be removed in a future release of LightGBM. \"\n",
      "C:\\Users\\Windows\\.conda\\envs\\tf\\lib\\site-packages\\lightgbm\\sklearn.py:736: UserWarning: 'verbose' argument is deprecated and will be removed in a future release of LightGBM. Pass 'log_evaluation()' callback via 'callbacks' argument instead.\n",
      "  _log_warning(\"'verbose' argument is deprecated and will be removed in a future release of LightGBM. \"\n",
      "C:\\Users\\Windows\\.conda\\envs\\tf\\lib\\site-packages\\lightgbm\\basic.py:2065: UserWarning: Using categorical_feature in Dataset.\n",
      "  _log_warning('Using categorical_feature in Dataset.')\n",
      "C:\\Users\\Windows\\.conda\\envs\\tf\\lib\\site-packages\\lightgbm\\basic.py:2068: UserWarning: categorical_feature in Dataset is overridden.\n",
      "New categorical_feature is ['EDUCATION_LEVEL', 'EXTERNAL_SCORING_RATING_1_IS_NAN', 'EXTERNAL_SCORING_RATING_2_IS_NAN', 'EXTERNAL_SCORING_RATING_3_IS_NAN', 'FAMILY_STATUS', 'GENDER', 'NAME_CONTRACT_TYPE']\n",
      "  _log_warning('categorical_feature in Dataset is overridden.\\n'\n"
     ]
    },
    {
     "name": "stdout",
     "output_type": "stream",
     "text": [
      "[LightGBM] [Warning] lambda_l1 is set=0.436193, reg_alpha=0.0 will be ignored. Current value: lambda_l1=0.436193\n",
      "[LightGBM] [Warning] lambda_l2 is set=0.479169, reg_lambda=0.0 will be ignored. Current value: lambda_l2=0.479169\n",
      "[LightGBM] [Warning] early_stopping_round is set=500, early_stopping_rounds=500 will be ignored. Current value: early_stopping_round=500\n"
     ]
    },
    {
     "name": "stderr",
     "output_type": "stream",
     "text": [
      "C:\\Users\\Windows\\.conda\\envs\\tf\\lib\\site-packages\\lightgbm\\basic.py:1780: UserWarning: Overriding the parameters from Reference Dataset.\n",
      "  _log_warning('Overriding the parameters from Reference Dataset.')\n",
      "C:\\Users\\Windows\\.conda\\envs\\tf\\lib\\site-packages\\lightgbm\\basic.py:1513: UserWarning: categorical_column in param dict is overridden.\n",
      "  _log_warning(f'{cat_alias} in param dict is overridden.')\n"
     ]
    },
    {
     "name": "stdout",
     "output_type": "stream",
     "text": [
      "[200]\ttraining's auc: 0.768716\tvalid_1's auc: 0.731609\n",
      "[400]\ttraining's auc: 0.802771\tvalid_1's auc: 0.738292\n",
      "[600]\ttraining's auc: 0.828015\tvalid_1's auc: 0.739081\n",
      "[800]\ttraining's auc: 0.849437\tvalid_1's auc: 0.739628\n",
      "[1000]\ttraining's auc: 0.866875\tvalid_1's auc: 0.740906\n",
      "[1200]\ttraining's auc: 0.88285\tvalid_1's auc: 0.739924\n",
      "[1400]\ttraining's auc: 0.894825\tvalid_1's auc: 0.737133\n",
      "Fold: 18, train-observations = 104589, valid-observations = 5504\n",
      "train-score = 0.8672, valid-score = 0.7415\n",
      "=====================================================================\n",
      "[LightGBM] [Warning] seed is set=27, random_state=27 will be ignored. Current value: seed=27\n",
      "[LightGBM] [Warning] min_data_in_leaf is set=67, min_child_samples=20 will be ignored. Current value: min_data_in_leaf=67\n",
      "[LightGBM] [Warning] lambda_l1 is set=0.436193, reg_alpha=0.0 will be ignored. Current value: lambda_l1=0.436193\n",
      "[LightGBM] [Warning] lambda_l2 is set=0.479169, reg_lambda=0.0 will be ignored. Current value: lambda_l2=0.479169\n",
      "[LightGBM] [Warning] early_stopping_round is set=500, early_stopping_rounds=500 will be ignored. Current value: early_stopping_round=500\n"
     ]
    },
    {
     "name": "stderr",
     "output_type": "stream",
     "text": [
      "C:\\Users\\Windows\\.conda\\envs\\tf\\lib\\site-packages\\lightgbm\\sklearn.py:726: UserWarning: 'early_stopping_rounds' argument is deprecated and will be removed in a future release of LightGBM. Pass 'early_stopping()' callback via 'callbacks' argument instead.\n",
      "  _log_warning(\"'early_stopping_rounds' argument is deprecated and will be removed in a future release of LightGBM. \"\n",
      "C:\\Users\\Windows\\.conda\\envs\\tf\\lib\\site-packages\\lightgbm\\sklearn.py:736: UserWarning: 'verbose' argument is deprecated and will be removed in a future release of LightGBM. Pass 'log_evaluation()' callback via 'callbacks' argument instead.\n",
      "  _log_warning(\"'verbose' argument is deprecated and will be removed in a future release of LightGBM. \"\n",
      "C:\\Users\\Windows\\.conda\\envs\\tf\\lib\\site-packages\\lightgbm\\basic.py:2065: UserWarning: Using categorical_feature in Dataset.\n",
      "  _log_warning('Using categorical_feature in Dataset.')\n",
      "C:\\Users\\Windows\\.conda\\envs\\tf\\lib\\site-packages\\lightgbm\\basic.py:2068: UserWarning: categorical_feature in Dataset is overridden.\n",
      "New categorical_feature is ['EDUCATION_LEVEL', 'EXTERNAL_SCORING_RATING_1_IS_NAN', 'EXTERNAL_SCORING_RATING_2_IS_NAN', 'EXTERNAL_SCORING_RATING_3_IS_NAN', 'FAMILY_STATUS', 'GENDER', 'NAME_CONTRACT_TYPE']\n",
      "  _log_warning('categorical_feature in Dataset is overridden.\\n'\n",
      "C:\\Users\\Windows\\.conda\\envs\\tf\\lib\\site-packages\\lightgbm\\basic.py:1780: UserWarning: Overriding the parameters from Reference Dataset.\n",
      "  _log_warning('Overriding the parameters from Reference Dataset.')\n",
      "C:\\Users\\Windows\\.conda\\envs\\tf\\lib\\site-packages\\lightgbm\\basic.py:1513: UserWarning: categorical_column in param dict is overridden.\n",
      "  _log_warning(f'{cat_alias} in param dict is overridden.')\n"
     ]
    },
    {
     "name": "stdout",
     "output_type": "stream",
     "text": [
      "[200]\ttraining's auc: 0.769943\tvalid_1's auc: 0.701767\n",
      "[400]\ttraining's auc: 0.803694\tvalid_1's auc: 0.70872\n",
      "[600]\ttraining's auc: 0.82925\tvalid_1's auc: 0.710714\n",
      "[800]\ttraining's auc: 0.848982\tvalid_1's auc: 0.713312\n",
      "[1000]\ttraining's auc: 0.866222\tvalid_1's auc: 0.712303\n",
      "[1200]\ttraining's auc: 0.88118\tvalid_1's auc: 0.713347\n",
      "Fold: 19, train-observations = 104589, valid-observations = 5504\n",
      "train-score = 0.8578, valid-score = 0.7139\n",
      "=====================================================================\n",
      "[LightGBM] [Warning] seed is set=27, random_state=27 will be ignored. Current value: seed=27\n",
      "[LightGBM] [Warning] min_data_in_leaf is set=67, min_child_samples=20 will be ignored. Current value: min_data_in_leaf=67\n",
      "[LightGBM] [Warning] lambda_l1 is set=0.436193, reg_alpha=0.0 will be ignored. Current value: lambda_l1=0.436193\n",
      "[LightGBM] [Warning] lambda_l2 is set=0.479169, reg_lambda=0.0 will be ignored. Current value: lambda_l2=0.479169\n",
      "[LightGBM] [Warning] early_stopping_round is set=500, early_stopping_rounds=500 will be ignored. Current value: early_stopping_round=500\n"
     ]
    },
    {
     "name": "stderr",
     "output_type": "stream",
     "text": [
      "C:\\Users\\Windows\\.conda\\envs\\tf\\lib\\site-packages\\lightgbm\\sklearn.py:726: UserWarning: 'early_stopping_rounds' argument is deprecated and will be removed in a future release of LightGBM. Pass 'early_stopping()' callback via 'callbacks' argument instead.\n",
      "  _log_warning(\"'early_stopping_rounds' argument is deprecated and will be removed in a future release of LightGBM. \"\n",
      "C:\\Users\\Windows\\.conda\\envs\\tf\\lib\\site-packages\\lightgbm\\sklearn.py:736: UserWarning: 'verbose' argument is deprecated and will be removed in a future release of LightGBM. Pass 'log_evaluation()' callback via 'callbacks' argument instead.\n",
      "  _log_warning(\"'verbose' argument is deprecated and will be removed in a future release of LightGBM. \"\n",
      "C:\\Users\\Windows\\.conda\\envs\\tf\\lib\\site-packages\\lightgbm\\basic.py:2065: UserWarning: Using categorical_feature in Dataset.\n",
      "  _log_warning('Using categorical_feature in Dataset.')\n",
      "C:\\Users\\Windows\\.conda\\envs\\tf\\lib\\site-packages\\lightgbm\\basic.py:2068: UserWarning: categorical_feature in Dataset is overridden.\n",
      "New categorical_feature is ['EDUCATION_LEVEL', 'EXTERNAL_SCORING_RATING_1_IS_NAN', 'EXTERNAL_SCORING_RATING_2_IS_NAN', 'EXTERNAL_SCORING_RATING_3_IS_NAN', 'FAMILY_STATUS', 'GENDER', 'NAME_CONTRACT_TYPE']\n",
      "  _log_warning('categorical_feature in Dataset is overridden.\\n'\n",
      "C:\\Users\\Windows\\.conda\\envs\\tf\\lib\\site-packages\\lightgbm\\basic.py:1780: UserWarning: Overriding the parameters from Reference Dataset.\n",
      "  _log_warning('Overriding the parameters from Reference Dataset.')\n",
      "C:\\Users\\Windows\\.conda\\envs\\tf\\lib\\site-packages\\lightgbm\\basic.py:1513: UserWarning: categorical_column in param dict is overridden.\n",
      "  _log_warning(f'{cat_alias} in param dict is overridden.')\n"
     ]
    },
    {
     "name": "stdout",
     "output_type": "stream",
     "text": [
      "[200]\ttraining's auc: 0.768274\tvalid_1's auc: 0.726522\n",
      "[400]\ttraining's auc: 0.802128\tvalid_1's auc: 0.732899\n",
      "[600]\ttraining's auc: 0.8283\tvalid_1's auc: 0.73556\n",
      "[800]\ttraining's auc: 0.848967\tvalid_1's auc: 0.736759\n",
      "[1000]\ttraining's auc: 0.865426\tvalid_1's auc: 0.73785\n",
      "[1200]\ttraining's auc: 0.879974\tvalid_1's auc: 0.73705\n",
      "[1400]\ttraining's auc: 0.892753\tvalid_1's auc: 0.735296\n",
      "Fold: 20, train-observations = 104589, valid-observations = 5504\n",
      "train-score = 0.8638, valid-score = 0.7383\n",
      "=====================================================================\n",
      "CV-results train: 0.853 +/- 0.023\n",
      "CV-results valid: 0.7314 +/- 0.011\n",
      "OOF-score = 0.8577\n"
     ]
    }
   ],
   "source": [
    "#model,test_prediction=get_samples_hold_out_validation(lgbm_params,train,target,[0.7,0.2,0.1],'LGBM', categorical)\n",
    "#cv_strategy = KFold(n_splits=20, random_state=42,shuffle=True)\n",
    "#cv_strategy = StratifiedShuffleSplit(n_splits=20, random_state=27, train_size=0.7)\n",
    "cv_strategy = StratifiedKFold(n_splits=20, shuffle=True, random_state=42)\n",
    "\n",
    "estimators, oof_score, fold_train_scores, fold_valid_scores, oof_predictions = make_cross_validation(\n",
    "    train_only_imp_features, target, model, categorical, metric=roc_auc_score,cv_strategy=cv_strategy\n",
    ")"
   ]
  },
  {
   "cell_type": "code",
   "execution_count": 266,
   "id": "88e71eff",
   "metadata": {},
   "outputs": [
    {
     "name": "stdout",
     "output_type": "stream",
     "text": [
      "max of fold_valid_scores= 0.7557504591883194\n"
     ]
    }
   ],
   "source": [
    "fold_number_max_score = np.argmax(fold_valid_scores)\n",
    "print(\"max of fold_valid_scores=\",np.max(fold_valid_scores))\n",
    "best_model_lgb=estimators[fold_number_max_score]\n",
    "test_predict_target=best_model_lgb.predict_proba(test_only_imp_features)[:,1]  "
   ]
  },
  {
   "cell_type": "code",
   "execution_count": 267,
   "id": "fa8ad2d2",
   "metadata": {},
   "outputs": [],
   "source": [
    "test_predict_target = pd.DataFrame(data = test_predict_target, columns = [\"TARGET\"], index = test_id.index.copy())\n",
    "predicted_test = pd.merge(test_id, test_predict_target, how = 'left', left_index = True, right_index = True)\n"
   ]
  },
  {
   "cell_type": "code",
   "execution_count": 268,
   "id": "fb907a62",
   "metadata": {},
   "outputs": [
    {
     "data": {
      "text/html": [
       "<div>\n",
       "<style scoped>\n",
       "    .dataframe tbody tr th:only-of-type {\n",
       "        vertical-align: middle;\n",
       "    }\n",
       "\n",
       "    .dataframe tbody tr th {\n",
       "        vertical-align: top;\n",
       "    }\n",
       "\n",
       "    .dataframe thead th {\n",
       "        text-align: right;\n",
       "    }\n",
       "</style>\n",
       "<table border=\"1\" class=\"dataframe\">\n",
       "  <thead>\n",
       "    <tr style=\"text-align: right;\">\n",
       "      <th></th>\n",
       "      <th>APPLICATION_NUMBER</th>\n",
       "      <th>TARGET</th>\n",
       "    </tr>\n",
       "  </thead>\n",
       "  <tbody>\n",
       "    <tr>\n",
       "      <th>110093</th>\n",
       "      <td>123724268</td>\n",
       "      <td>0.051618</td>\n",
       "    </tr>\n",
       "    <tr>\n",
       "      <th>110094</th>\n",
       "      <td>123456549</td>\n",
       "      <td>0.205129</td>\n",
       "    </tr>\n",
       "    <tr>\n",
       "      <th>110095</th>\n",
       "      <td>123428178</td>\n",
       "      <td>0.156043</td>\n",
       "    </tr>\n",
       "    <tr>\n",
       "      <th>110096</th>\n",
       "      <td>123619984</td>\n",
       "      <td>0.084627</td>\n",
       "    </tr>\n",
       "    <tr>\n",
       "      <th>110097</th>\n",
       "      <td>123671104</td>\n",
       "      <td>0.016538</td>\n",
       "    </tr>\n",
       "    <tr>\n",
       "      <th>...</th>\n",
       "      <td>...</td>\n",
       "      <td>...</td>\n",
       "    </tr>\n",
       "    <tr>\n",
       "      <th>275229</th>\n",
       "      <td>123487967</td>\n",
       "      <td>0.084627</td>\n",
       "    </tr>\n",
       "    <tr>\n",
       "      <th>275230</th>\n",
       "      <td>123536402</td>\n",
       "      <td>0.082711</td>\n",
       "    </tr>\n",
       "    <tr>\n",
       "      <th>275231</th>\n",
       "      <td>123718238</td>\n",
       "      <td>0.084627</td>\n",
       "    </tr>\n",
       "    <tr>\n",
       "      <th>275232</th>\n",
       "      <td>123631557</td>\n",
       "      <td>0.021895</td>\n",
       "    </tr>\n",
       "    <tr>\n",
       "      <th>275233</th>\n",
       "      <td>123433260</td>\n",
       "      <td>0.035572</td>\n",
       "    </tr>\n",
       "  </tbody>\n",
       "</table>\n",
       "<p>165141 rows × 2 columns</p>\n",
       "</div>"
      ],
      "text/plain": [
       "        APPLICATION_NUMBER    TARGET\n",
       "110093           123724268  0.051618\n",
       "110094           123456549  0.205129\n",
       "110095           123428178  0.156043\n",
       "110096           123619984  0.084627\n",
       "110097           123671104  0.016538\n",
       "...                    ...       ...\n",
       "275229           123487967  0.084627\n",
       "275230           123536402  0.082711\n",
       "275231           123718238  0.084627\n",
       "275232           123631557  0.021895\n",
       "275233           123433260  0.035572\n",
       "\n",
       "[165141 rows x 2 columns]"
      ]
     },
     "execution_count": 268,
     "metadata": {},
     "output_type": "execute_result"
    }
   ],
   "source": [
    "predicted_test_finish = predicted_test.drop_duplicates('APPLICATION_NUMBER', keep='last')\n",
    "predicted_test_finish"
   ]
  },
  {
   "cell_type": "code",
   "execution_count": 269,
   "id": "a5b52f47",
   "metadata": {},
   "outputs": [],
   "source": [
    "predicted_test_finish.to_csv(\"UkladnikovA_4_submit.csv\",columns=['APPLICATION_NUMBER','TARGET'],index=False)"
   ]
  },
  {
   "cell_type": "code",
   "execution_count": 270,
   "id": "960a031a",
   "metadata": {},
   "outputs": [],
   "source": [
    "def create_bootstrap_samples(data: np.array, n_samples: int = 1000) -> np.array:\n",
    "    \"\"\"\n",
    "    Создание бутстреп-выборок.\n",
    "\n",
    "    Parameters\n",
    "    ----------\n",
    "    data: np.array\n",
    "        Исходная выборка, которая будет использоваться для\n",
    "        создания бутстреп выборок.\n",
    "\n",
    "    n_samples: int, optional, default = 1000\n",
    "        Количество создаваемых бутстреп выборок.\n",
    "        Опциональный параметр, по умолчанию, равен 1000.\n",
    "\n",
    "    Returns\n",
    "    -------\n",
    "    bootstrap_idx: np.array\n",
    "        Матрица индексов, для создания бутстреп выборок.\n",
    "\n",
    "    \"\"\"\n",
    "    bootstrap_idx = np.random.randint(\n",
    "        low=0, high=len(data), size=(n_samples, len(data))\n",
    "    )\n",
    "    return bootstrap_idx\n",
    "\n",
    "\n",
    "def create_bootstrap_metrics(y_true: np.array,\n",
    "                             y_pred: np.array,\n",
    "                             metric: callable,\n",
    "                             n_samlpes: int = 1000) -> List[float]:\n",
    "    \"\"\"\n",
    "    Вычисление бутстреп оценок.\n",
    "\n",
    "    Parameters\n",
    "    ----------\n",
    "    y_true: np.array\n",
    "        Вектор целевой переменной.\n",
    "\n",
    "    y_pred: np.array\n",
    "        Вектор прогнозов.\n",
    "\n",
    "    metric: callable\n",
    "        Функция для вычисления метрики.\n",
    "        Функция должна принимать 2 аргумента: y_true, y_pred.\n",
    "\n",
    "    n_samples: int, optional, default = 1000\n",
    "        Количество создаваемых бутстреп выборок.\n",
    "        Опциональный параметр, по умолчанию, равен 1000.\n",
    "\n",
    "    Returns\n",
    "    -------\n",
    "    bootstrap_metrics: List[float]\n",
    "        Список со значениями метрики качества на каждой бустреп выборке.\n",
    "\n",
    "    \"\"\"\n",
    "    scores = []\n",
    "\n",
    "    if isinstance(y_true, pd.Series):\n",
    "        y_true = y_true.values\n",
    "\n",
    "    bootstrap_idx = create_bootstrap_samples(y_true)\n",
    "    for idx in bootstrap_idx:\n",
    "        y_true_bootstrap = y_true[idx]\n",
    "        y_pred_bootstrap = y_pred[idx]\n",
    "\n",
    "        score = metric(y_true_bootstrap, y_pred_bootstrap)\n",
    "        scores.append(score)\n",
    "\n",
    "    return scores\n",
    "\n",
    "\n",
    "def calculate_confidence_interval(scores: list, conf_interval: float = 0.95) -> Tuple[float]:\n",
    "    \"\"\"\n",
    "    Вычисление доверительного интервала.\n",
    "\n",
    "    Parameters\n",
    "    ----------\n",
    "    scores: List[float / int]\n",
    "        Список с оценками изучаемой величины.\n",
    "\n",
    "    conf_interval: float, optional, default = 0.95\n",
    "        Уровень доверия для построения интервала.\n",
    "        Опциональный параметр, по умолчанию, равен 0.95.\n",
    "\n",
    "    Returns\n",
    "    -------\n",
    "    conf_interval: Tuple[float]\n",
    "        Кортеж с границами доверительного интервала.\n",
    "\n",
    "    \"\"\"\n",
    "    left_bound = np.percentile(\n",
    "        scores, ((1 - conf_interval) / 2) * 100\n",
    "    )\n",
    "    right_bound = np.percentile(\n",
    "        scores, (conf_interval + ((1 - conf_interval) / 2)) * 100\n",
    "    )\n",
    "\n",
    "    return left_bound, right_bound"
   ]
  },
  {
   "cell_type": "markdown",
   "id": "60e41f88",
   "metadata": {},
   "source": [
    "строим доверительный интервал на тесте"
   ]
  },
  {
   "cell_type": "code",
   "execution_count": 271,
   "id": "feb29047",
   "metadata": {},
   "outputs": [],
   "source": [
    "y_predicted=best_model_lgb.predict_proba(x_test)[:,1] "
   ]
  },
  {
   "cell_type": "code",
   "execution_count": 272,
   "id": "7213afff",
   "metadata": {},
   "outputs": [
    {
     "data": {
      "text/plain": [
       "(0.8382820909881499, 0.8624674425956151)"
      ]
     },
     "execution_count": 272,
     "metadata": {},
     "output_type": "execute_result"
    }
   ],
   "source": [
    "scores = create_bootstrap_metrics(y_test, y_predicted, roc_auc_score)\n",
    "\n",
    "calculate_confidence_interval(scores)"
   ]
  },
  {
   "cell_type": "code",
   "execution_count": null,
   "id": "6640c0ca",
   "metadata": {},
   "outputs": [],
   "source": []
  }
 ],
 "metadata": {
  "kernelspec": {
   "display_name": "Python 3 (ipykernel)",
   "language": "python",
   "name": "python3"
  },
  "language_info": {
   "codemirror_mode": {
    "name": "ipython",
    "version": 3
   },
   "file_extension": ".py",
   "mimetype": "text/x-python",
   "name": "python",
   "nbconvert_exporter": "python",
   "pygments_lexer": "ipython3",
   "version": "3.8.5"
  }
 },
 "nbformat": 4,
 "nbformat_minor": 5
}
