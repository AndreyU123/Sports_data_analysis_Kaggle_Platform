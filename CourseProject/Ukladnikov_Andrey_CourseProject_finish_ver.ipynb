{
 "cells": [
  {
   "cell_type": "markdown",
   "id": "c15e3f24",
   "metadata": {},
   "source": [
    "# Курсовой проект по курсу Спортивный анализ данных. Платформа Kaggle"
   ]
  },
  {
   "cell_type": "code",
   "execution_count": 1,
   "id": "c57341a2",
   "metadata": {},
   "outputs": [],
   "source": [
    "from typing import List,Optional\n",
    "from tqdm import tqdm\n",
    "\n",
    "import numpy as np\n",
    "import pandas as pd\n",
    "\n",
    "import matplotlib as mpl\n",
    "import matplotlib.pyplot as plt\n",
    "%matplotlib inline\n",
    "import os\n",
    "\n",
    "import seaborn as sns\n",
    "import scipy.stats as st\n",
    "from scipy.stats import probplot, ks_2samp\n",
    "from sklearn.metrics import roc_auc_score\n",
    "from sklearn.ensemble import RandomForestRegressor\n",
    "from sklearn.model_selection import KFold, cross_val_score,train_test_split\n",
    "from sklearn.base import BaseEstimator, TransformerMixin\n",
    "from sklearn.utils.validation import check_is_fitted\n",
    "from sklearn.model_selection import StratifiedShuffleSplit\n",
    "from sklearn.model_selection import StratifiedKFold\n",
    "\n",
    "import missingno as msno\n",
    "\n",
    "import xgboost as xgb\n",
    "import lightgbm as lgb\n",
    "import catboost as cb\n",
    "\n",
    "from sklearn.metrics import roc_auc_score, roc_curve\n",
    "from tqdm import tqdm\n",
    "from typing import List, Tuple"
   ]
  },
  {
   "cell_type": "code",
   "execution_count": 2,
   "id": "8e743ad7",
   "metadata": {},
   "outputs": [],
   "source": [
    "DATA_PATH=\"Data\"\n",
    "def load_data(dataset_name,data_path=DATA_PATH):\n",
    "    csv_path = os.path.join(data_path,dataset_name)\n",
    "    data = pd.read_csv(csv_path)\n",
    "    data.columns=[col.upper() for col in data.columns]\n",
    "    print(\"shape = {} rows, {} cols\".format(*data.shape))\n",
    "    return data"
   ]
  },
  {
   "cell_type": "code",
   "execution_count": 84,
   "id": "60f0ece2",
   "metadata": {},
   "outputs": [
    {
     "name": "stdout",
     "output_type": "stream",
     "text": [
      "shape = 110093 rows, 3 cols\n",
      "shape = 165141 rows, 2 cols\n",
      "shape = 250000 rows, 24 cols\n"
     ]
    }
   ],
   "source": [
    "train = load_data(\"train.csv\")\n",
    "test = load_data(\"test.csv\")\n",
    "client_profile=load_data(\"client_profile.csv\")\n",
    "#applications_history=load_data(\"applications_history.csv\")\n",
    "#bki=load_data(\"bki.csv\")\n",
    "#payments=load_data(\"payments.csv\")"
   ]
  },
  {
   "cell_type": "code",
   "execution_count": 4,
   "id": "5cb9dc4f",
   "metadata": {},
   "outputs": [
    {
     "data": {
      "text/html": [
       "<div>\n",
       "<style scoped>\n",
       "    .dataframe tbody tr th:only-of-type {\n",
       "        vertical-align: middle;\n",
       "    }\n",
       "\n",
       "    .dataframe tbody tr th {\n",
       "        vertical-align: top;\n",
       "    }\n",
       "\n",
       "    .dataframe thead th {\n",
       "        text-align: right;\n",
       "    }\n",
       "</style>\n",
       "<table border=\"1\" class=\"dataframe\">\n",
       "  <thead>\n",
       "    <tr style=\"text-align: right;\">\n",
       "      <th></th>\n",
       "      <th>APPLICATION_NUMBER</th>\n",
       "      <th>TARGET</th>\n",
       "    </tr>\n",
       "  </thead>\n",
       "  <tbody>\n",
       "    <tr>\n",
       "      <th>count</th>\n",
       "      <td>1.100930e+05</td>\n",
       "      <td>110093.000000</td>\n",
       "    </tr>\n",
       "    <tr>\n",
       "      <th>mean</th>\n",
       "      <td>1.235772e+08</td>\n",
       "      <td>0.080813</td>\n",
       "    </tr>\n",
       "    <tr>\n",
       "      <th>std</th>\n",
       "      <td>8.880939e+04</td>\n",
       "      <td>0.272550</td>\n",
       "    </tr>\n",
       "    <tr>\n",
       "      <th>min</th>\n",
       "      <td>1.234233e+08</td>\n",
       "      <td>0.000000</td>\n",
       "    </tr>\n",
       "    <tr>\n",
       "      <th>25%</th>\n",
       "      <td>1.235005e+08</td>\n",
       "      <td>0.000000</td>\n",
       "    </tr>\n",
       "    <tr>\n",
       "      <th>50%</th>\n",
       "      <td>1.235769e+08</td>\n",
       "      <td>0.000000</td>\n",
       "    </tr>\n",
       "    <tr>\n",
       "      <th>75%</th>\n",
       "      <td>1.236539e+08</td>\n",
       "      <td>0.000000</td>\n",
       "    </tr>\n",
       "    <tr>\n",
       "      <th>max</th>\n",
       "      <td>1.237308e+08</td>\n",
       "      <td>1.000000</td>\n",
       "    </tr>\n",
       "  </tbody>\n",
       "</table>\n",
       "</div>"
      ],
      "text/plain": [
       "       APPLICATION_NUMBER         TARGET\n",
       "count        1.100930e+05  110093.000000\n",
       "mean         1.235772e+08       0.080813\n",
       "std          8.880939e+04       0.272550\n",
       "min          1.234233e+08       0.000000\n",
       "25%          1.235005e+08       0.000000\n",
       "50%          1.235769e+08       0.000000\n",
       "75%          1.236539e+08       0.000000\n",
       "max          1.237308e+08       1.000000"
      ]
     },
     "execution_count": 4,
     "metadata": {},
     "output_type": "execute_result"
    }
   ],
   "source": [
    "train.describe()"
   ]
  },
  {
   "cell_type": "code",
   "execution_count": 5,
   "id": "1c8ea7dc",
   "metadata": {},
   "outputs": [
    {
     "data": {
      "text/html": [
       "<div>\n",
       "<style scoped>\n",
       "    .dataframe tbody tr th:only-of-type {\n",
       "        vertical-align: middle;\n",
       "    }\n",
       "\n",
       "    .dataframe tbody tr th {\n",
       "        vertical-align: top;\n",
       "    }\n",
       "\n",
       "    .dataframe thead th {\n",
       "        text-align: right;\n",
       "    }\n",
       "</style>\n",
       "<table border=\"1\" class=\"dataframe\">\n",
       "  <thead>\n",
       "    <tr style=\"text-align: right;\">\n",
       "      <th></th>\n",
       "      <th>APPLICATION_NUMBER</th>\n",
       "      <th>TARGET</th>\n",
       "      <th>NAME_CONTRACT_TYPE</th>\n",
       "    </tr>\n",
       "  </thead>\n",
       "  <tbody>\n",
       "    <tr>\n",
       "      <th>0</th>\n",
       "      <td>123687442</td>\n",
       "      <td>0</td>\n",
       "      <td>Cash</td>\n",
       "    </tr>\n",
       "    <tr>\n",
       "      <th>1</th>\n",
       "      <td>123597908</td>\n",
       "      <td>1</td>\n",
       "      <td>Cash</td>\n",
       "    </tr>\n",
       "    <tr>\n",
       "      <th>2</th>\n",
       "      <td>123526683</td>\n",
       "      <td>0</td>\n",
       "      <td>Cash</td>\n",
       "    </tr>\n",
       "    <tr>\n",
       "      <th>3</th>\n",
       "      <td>123710391</td>\n",
       "      <td>1</td>\n",
       "      <td>Cash</td>\n",
       "    </tr>\n",
       "    <tr>\n",
       "      <th>4</th>\n",
       "      <td>123590329</td>\n",
       "      <td>1</td>\n",
       "      <td>Cash</td>\n",
       "    </tr>\n",
       "    <tr>\n",
       "      <th>...</th>\n",
       "      <td>...</td>\n",
       "      <td>...</td>\n",
       "      <td>...</td>\n",
       "    </tr>\n",
       "    <tr>\n",
       "      <th>110088</th>\n",
       "      <td>123458312</td>\n",
       "      <td>0</td>\n",
       "      <td>Cash</td>\n",
       "    </tr>\n",
       "    <tr>\n",
       "      <th>110089</th>\n",
       "      <td>123672463</td>\n",
       "      <td>0</td>\n",
       "      <td>Cash</td>\n",
       "    </tr>\n",
       "    <tr>\n",
       "      <th>110090</th>\n",
       "      <td>123723001</td>\n",
       "      <td>0</td>\n",
       "      <td>Cash</td>\n",
       "    </tr>\n",
       "    <tr>\n",
       "      <th>110091</th>\n",
       "      <td>123554358</td>\n",
       "      <td>0</td>\n",
       "      <td>Cash</td>\n",
       "    </tr>\n",
       "    <tr>\n",
       "      <th>110092</th>\n",
       "      <td>123676265</td>\n",
       "      <td>0</td>\n",
       "      <td>Credit Card</td>\n",
       "    </tr>\n",
       "  </tbody>\n",
       "</table>\n",
       "<p>110093 rows × 3 columns</p>\n",
       "</div>"
      ],
      "text/plain": [
       "        APPLICATION_NUMBER  TARGET NAME_CONTRACT_TYPE\n",
       "0                123687442       0               Cash\n",
       "1                123597908       1               Cash\n",
       "2                123526683       0               Cash\n",
       "3                123710391       1               Cash\n",
       "4                123590329       1               Cash\n",
       "...                    ...     ...                ...\n",
       "110088           123458312       0               Cash\n",
       "110089           123672463       0               Cash\n",
       "110090           123723001       0               Cash\n",
       "110091           123554358       0               Cash\n",
       "110092           123676265       0        Credit Card\n",
       "\n",
       "[110093 rows x 3 columns]"
      ]
     },
     "execution_count": 5,
     "metadata": {},
     "output_type": "execute_result"
    }
   ],
   "source": [
    "train"
   ]
  },
  {
   "cell_type": "code",
   "execution_count": 6,
   "id": "38313ba6",
   "metadata": {},
   "outputs": [
    {
     "name": "stdout",
     "output_type": "stream",
     "text": [
      "<class 'pandas.core.frame.DataFrame'>\n",
      "RangeIndex: 110093 entries, 0 to 110092\n",
      "Data columns (total 3 columns):\n",
      "APPLICATION_NUMBER    110093 non-null int64\n",
      "TARGET                110093 non-null int64\n",
      "NAME_CONTRACT_TYPE    110093 non-null object\n",
      "dtypes: int64(2), object(1)\n",
      "memory usage: 2.5+ MB\n"
     ]
    }
   ],
   "source": [
    "train.info()"
   ]
  },
  {
   "cell_type": "code",
   "execution_count": 7,
   "id": "d9d15680",
   "metadata": {},
   "outputs": [
    {
     "data": {
      "text/plain": [
       "110093"
      ]
     },
     "execution_count": 7,
     "metadata": {},
     "output_type": "execute_result"
    }
   ],
   "source": [
    "train[\"APPLICATION_NUMBER\"].nunique()"
   ]
  },
  {
   "cell_type": "code",
   "execution_count": 8,
   "id": "ca4f60ed",
   "metadata": {},
   "outputs": [
    {
     "data": {
      "text/html": [
       "<div>\n",
       "<style scoped>\n",
       "    .dataframe tbody tr th:only-of-type {\n",
       "        vertical-align: middle;\n",
       "    }\n",
       "\n",
       "    .dataframe tbody tr th {\n",
       "        vertical-align: top;\n",
       "    }\n",
       "\n",
       "    .dataframe thead th {\n",
       "        text-align: right;\n",
       "    }\n",
       "</style>\n",
       "<table border=\"1\" class=\"dataframe\">\n",
       "  <thead>\n",
       "    <tr style=\"text-align: right;\">\n",
       "      <th></th>\n",
       "      <th>APPLICATION_NUMBER</th>\n",
       "      <th>NAME_CONTRACT_TYPE</th>\n",
       "    </tr>\n",
       "  </thead>\n",
       "  <tbody>\n",
       "    <tr>\n",
       "      <th>0</th>\n",
       "      <td>123724268</td>\n",
       "      <td>Cash</td>\n",
       "    </tr>\n",
       "    <tr>\n",
       "      <th>1</th>\n",
       "      <td>123456549</td>\n",
       "      <td>Cash</td>\n",
       "    </tr>\n",
       "    <tr>\n",
       "      <th>2</th>\n",
       "      <td>123428178</td>\n",
       "      <td>Credit Card</td>\n",
       "    </tr>\n",
       "    <tr>\n",
       "      <th>3</th>\n",
       "      <td>123619984</td>\n",
       "      <td>Cash</td>\n",
       "    </tr>\n",
       "    <tr>\n",
       "      <th>4</th>\n",
       "      <td>123671104</td>\n",
       "      <td>Cash</td>\n",
       "    </tr>\n",
       "    <tr>\n",
       "      <th>...</th>\n",
       "      <td>...</td>\n",
       "      <td>...</td>\n",
       "    </tr>\n",
       "    <tr>\n",
       "      <th>165136</th>\n",
       "      <td>123487967</td>\n",
       "      <td>Cash</td>\n",
       "    </tr>\n",
       "    <tr>\n",
       "      <th>165137</th>\n",
       "      <td>123536402</td>\n",
       "      <td>Cash</td>\n",
       "    </tr>\n",
       "    <tr>\n",
       "      <th>165138</th>\n",
       "      <td>123718238</td>\n",
       "      <td>Cash</td>\n",
       "    </tr>\n",
       "    <tr>\n",
       "      <th>165139</th>\n",
       "      <td>123631557</td>\n",
       "      <td>Cash</td>\n",
       "    </tr>\n",
       "    <tr>\n",
       "      <th>165140</th>\n",
       "      <td>123433260</td>\n",
       "      <td>Cash</td>\n",
       "    </tr>\n",
       "  </tbody>\n",
       "</table>\n",
       "<p>165141 rows × 2 columns</p>\n",
       "</div>"
      ],
      "text/plain": [
       "        APPLICATION_NUMBER NAME_CONTRACT_TYPE\n",
       "0                123724268               Cash\n",
       "1                123456549               Cash\n",
       "2                123428178        Credit Card\n",
       "3                123619984               Cash\n",
       "4                123671104               Cash\n",
       "...                    ...                ...\n",
       "165136           123487967               Cash\n",
       "165137           123536402               Cash\n",
       "165138           123718238               Cash\n",
       "165139           123631557               Cash\n",
       "165140           123433260               Cash\n",
       "\n",
       "[165141 rows x 2 columns]"
      ]
     },
     "execution_count": 8,
     "metadata": {},
     "output_type": "execute_result"
    }
   ],
   "source": [
    "test"
   ]
  },
  {
   "cell_type": "markdown",
   "id": "d4812045",
   "metadata": {},
   "source": [
    "**Выводы - поле APPLICATION_NUMBER - просто идентификатор типа ID, который нужен лишь для соединения с другими датасетами**"
   ]
  },
  {
   "cell_type": "code",
   "execution_count": 9,
   "id": "aac30cdc",
   "metadata": {},
   "outputs": [],
   "source": [
    "def target_description_print(ds, target_name):                              \n",
    "    \"\"\"\n",
    "    Печать распределения целевых значений.\n",
    "    \n",
    "    Parameters\n",
    "    ----------\n",
    "    ds: pd.DataFrame\n",
    "        Вектор целевой переменной.\n",
    "    target_name: str\n",
    "        название целевого поля\n",
    "    \"\"\"\n",
    "    \n",
    "    values_count_TARGET_0 = ds[ds[target_name]==0].count()[target_name]\n",
    "    values_count_TARGET_1 = ds[ds[target_name]==1].count()[target_name]\n",
    "    values_count_TARGET_1_2 = np.around(values_count_TARGET_1/values_count_TARGET_0,3)\n",
    "    values_count_TARGET_Sum = values_count_TARGET_0+values_count_TARGET_1\n",
    "    print(\"TARGET==0 values count =\",values_count_TARGET_0)\n",
    "    print(\"TARGET==1 values count =\",values_count_TARGET_1)\n",
    "    print(\"(TARGET==1)count / (TARGET==0)count =\",values_count_TARGET_1_2)\n",
    "    print(\"TARGET==0 and TARGET==1 in sum values count =\",values_count_TARGET_Sum)"
   ]
  },
  {
   "cell_type": "code",
   "execution_count": 10,
   "id": "4210b38b",
   "metadata": {},
   "outputs": [
    {
     "name": "stdout",
     "output_type": "stream",
     "text": [
      "TARGET==0 values count = 101196\n",
      "TARGET==1 values count = 8897\n",
      "(TARGET==1)count / (TARGET==0)count = 0.088\n",
      "TARGET==0 and TARGET==1 in sum values count = 110093\n"
     ]
    }
   ],
   "source": [
    "target_description_print(train,'TARGET')"
   ]
  },
  {
   "cell_type": "markdown",
   "id": "9b1aa398",
   "metadata": {},
   "source": [
    "#### Создание модели с вновь построенными признаками версия 4"
   ]
  },
  {
   "cell_type": "markdown",
   "id": "2f65f6bc",
   "metadata": {},
   "source": [
    "Анализ распределения признаков client_profile"
   ]
  },
  {
   "cell_type": "code",
   "execution_count": 11,
   "id": "33ca3b2c",
   "metadata": {},
   "outputs": [],
   "source": [
    "def show_features_distribution(ds, numerical_features, n_rows, n_cols, isTrain, isPlot=True):\n",
    "    fig, axes = plt.subplots(n_rows, n_cols, figsize=(15, 15))\n",
    "    title=''\n",
    "    if isTrain:\n",
    "        title = 'train'\n",
    "    else:\n",
    "        title = 'test'\n",
    "    print('Features distribution for {}'.format(title))\n",
    "\n",
    "    for num, feature in enumerate(numerical_features):\n",
    "        data = ds[feature].copy()    \n",
    "        if n_rows==1 and n_cols==1:            \n",
    "            if isPlot:\n",
    "                plt.plot(data, color=\"blue\")\n",
    "            else:\n",
    "                plt.hist(data,bins=1000, color=\"blue\")\n",
    "            plt.xlabel(feature, fontsize=12)\n",
    "        else:            \n",
    "            if isPlot:\n",
    "                axes[num%n_rows, num//n_rows].plot(data, color=\"blue\")\n",
    "            else:\n",
    "                axes[num%n_rows, num//n_rows].hist(data, bins=1000, color=\"blue\")\n",
    "            axes[num%n_rows, num//n_rows].set_xlabel(feature, fontsize=12)"
   ]
  },
  {
   "cell_type": "code",
   "execution_count": 86,
   "id": "f7ce1b9b",
   "metadata": {},
   "outputs": [],
   "source": [
    "numerical_features = client_profile.select_dtypes(exclude=[\"object\"])\n",
    "numerical_features=numerical_features.drop([\"APPLICATION_NUMBER\"],axis=1)"
   ]
  },
  {
   "cell_type": "code",
   "execution_count": 87,
   "id": "839c7bd5",
   "metadata": {},
   "outputs": [
    {
     "data": {
      "text/html": [
       "<div>\n",
       "<style scoped>\n",
       "    .dataframe tbody tr th:only-of-type {\n",
       "        vertical-align: middle;\n",
       "    }\n",
       "\n",
       "    .dataframe tbody tr th {\n",
       "        vertical-align: top;\n",
       "    }\n",
       "\n",
       "    .dataframe thead th {\n",
       "        text-align: right;\n",
       "    }\n",
       "</style>\n",
       "<table border=\"1\" class=\"dataframe\">\n",
       "  <thead>\n",
       "    <tr style=\"text-align: right;\">\n",
       "      <th></th>\n",
       "      <th>CHILDRENS</th>\n",
       "      <th>TOTAL_SALARY</th>\n",
       "      <th>AMOUNT_CREDIT</th>\n",
       "      <th>AMOUNT_ANNUITY</th>\n",
       "      <th>REGION_POPULATION</th>\n",
       "      <th>AGE</th>\n",
       "      <th>DAYS_ON_LAST_JOB</th>\n",
       "      <th>OWN_CAR_AGE</th>\n",
       "      <th>FLAG_PHONE</th>\n",
       "      <th>FLAG_EMAIL</th>\n",
       "      <th>FAMILY_SIZE</th>\n",
       "      <th>EXTERNAL_SCORING_RATING_1</th>\n",
       "      <th>EXTERNAL_SCORING_RATING_2</th>\n",
       "      <th>EXTERNAL_SCORING_RATING_3</th>\n",
       "      <th>AMT_REQ_CREDIT_BUREAU_HOUR</th>\n",
       "      <th>AMT_REQ_CREDIT_BUREAU_DAY</th>\n",
       "      <th>AMT_REQ_CREDIT_BUREAU_WEEK</th>\n",
       "      <th>AMT_REQ_CREDIT_BUREAU_MON</th>\n",
       "      <th>AMT_REQ_CREDIT_BUREAU_QRT</th>\n",
       "      <th>AMT_REQ_CREDIT_BUREAU_YEAR</th>\n",
       "    </tr>\n",
       "  </thead>\n",
       "  <tbody>\n",
       "    <tr>\n",
       "      <th>count</th>\n",
       "      <td>250000.000000</td>\n",
       "      <td>2.500000e+05</td>\n",
       "      <td>2.500000e+05</td>\n",
       "      <td>249989.000000</td>\n",
       "      <td>250000.000000</td>\n",
       "      <td>250000.000000</td>\n",
       "      <td>250000.000000</td>\n",
       "      <td>85041.000000</td>\n",
       "      <td>250000.000000</td>\n",
       "      <td>250000.000000</td>\n",
       "      <td>249998.000000</td>\n",
       "      <td>109121.000000</td>\n",
       "      <td>2.494680e+05</td>\n",
       "      <td>200462.000000</td>\n",
       "      <td>216293.000000</td>\n",
       "      <td>216293.000000</td>\n",
       "      <td>216293.000000</td>\n",
       "      <td>216293.000000</td>\n",
       "      <td>216293.000000</td>\n",
       "      <td>216293.000000</td>\n",
       "    </tr>\n",
       "    <tr>\n",
       "      <th>mean</th>\n",
       "      <td>0.417624</td>\n",
       "      <td>1.690662e+05</td>\n",
       "      <td>5.993051e+05</td>\n",
       "      <td>27125.209585</td>\n",
       "      <td>0.020871</td>\n",
       "      <td>16033.460496</td>\n",
       "      <td>67505.883296</td>\n",
       "      <td>12.030221</td>\n",
       "      <td>0.280244</td>\n",
       "      <td>0.057072</td>\n",
       "      <td>2.154025</td>\n",
       "      <td>0.502122</td>\n",
       "      <td>5.141749e-01</td>\n",
       "      <td>0.510848</td>\n",
       "      <td>0.006348</td>\n",
       "      <td>0.006866</td>\n",
       "      <td>0.034217</td>\n",
       "      <td>0.267475</td>\n",
       "      <td>0.266786</td>\n",
       "      <td>1.899030</td>\n",
       "    </tr>\n",
       "    <tr>\n",
       "      <th>std</th>\n",
       "      <td>0.722529</td>\n",
       "      <td>2.588480e+05</td>\n",
       "      <td>4.022720e+05</td>\n",
       "      <td>14503.930366</td>\n",
       "      <td>0.013827</td>\n",
       "      <td>4361.332320</td>\n",
       "      <td>139261.099609</td>\n",
       "      <td>11.899404</td>\n",
       "      <td>0.449119</td>\n",
       "      <td>0.231981</td>\n",
       "      <td>0.911543</td>\n",
       "      <td>0.210817</td>\n",
       "      <td>1.910938e-01</td>\n",
       "      <td>0.195054</td>\n",
       "      <td>0.083783</td>\n",
       "      <td>0.107957</td>\n",
       "      <td>0.204029</td>\n",
       "      <td>0.914514</td>\n",
       "      <td>0.831547</td>\n",
       "      <td>1.868811</td>\n",
       "    </tr>\n",
       "    <tr>\n",
       "      <th>min</th>\n",
       "      <td>0.000000</td>\n",
       "      <td>2.565000e+04</td>\n",
       "      <td>4.500000e+04</td>\n",
       "      <td>1615.500000</td>\n",
       "      <td>0.000290</td>\n",
       "      <td>7489.000000</td>\n",
       "      <td>0.000000</td>\n",
       "      <td>0.000000</td>\n",
       "      <td>0.000000</td>\n",
       "      <td>0.000000</td>\n",
       "      <td>1.000000</td>\n",
       "      <td>0.014691</td>\n",
       "      <td>8.173617e-08</td>\n",
       "      <td>0.000527</td>\n",
       "      <td>0.000000</td>\n",
       "      <td>0.000000</td>\n",
       "      <td>0.000000</td>\n",
       "      <td>0.000000</td>\n",
       "      <td>0.000000</td>\n",
       "      <td>0.000000</td>\n",
       "    </tr>\n",
       "    <tr>\n",
       "      <th>25%</th>\n",
       "      <td>0.000000</td>\n",
       "      <td>1.125000e+05</td>\n",
       "      <td>2.700000e+05</td>\n",
       "      <td>16524.000000</td>\n",
       "      <td>0.010006</td>\n",
       "      <td>12415.000000</td>\n",
       "      <td>931.000000</td>\n",
       "      <td>5.000000</td>\n",
       "      <td>0.000000</td>\n",
       "      <td>0.000000</td>\n",
       "      <td>2.000000</td>\n",
       "      <td>0.334180</td>\n",
       "      <td>3.920026e-01</td>\n",
       "      <td>0.370650</td>\n",
       "      <td>0.000000</td>\n",
       "      <td>0.000000</td>\n",
       "      <td>0.000000</td>\n",
       "      <td>0.000000</td>\n",
       "      <td>0.000000</td>\n",
       "      <td>0.000000</td>\n",
       "    </tr>\n",
       "    <tr>\n",
       "      <th>50%</th>\n",
       "      <td>0.000000</td>\n",
       "      <td>1.485000e+05</td>\n",
       "      <td>5.147775e+05</td>\n",
       "      <td>24930.000000</td>\n",
       "      <td>0.018850</td>\n",
       "      <td>15744.000000</td>\n",
       "      <td>2217.000000</td>\n",
       "      <td>9.000000</td>\n",
       "      <td>0.000000</td>\n",
       "      <td>0.000000</td>\n",
       "      <td>2.000000</td>\n",
       "      <td>0.506018</td>\n",
       "      <td>5.656713e-01</td>\n",
       "      <td>0.535276</td>\n",
       "      <td>0.000000</td>\n",
       "      <td>0.000000</td>\n",
       "      <td>0.000000</td>\n",
       "      <td>0.000000</td>\n",
       "      <td>0.000000</td>\n",
       "      <td>1.000000</td>\n",
       "    </tr>\n",
       "    <tr>\n",
       "      <th>75%</th>\n",
       "      <td>1.000000</td>\n",
       "      <td>2.025000e+05</td>\n",
       "      <td>8.086500e+05</td>\n",
       "      <td>34618.500000</td>\n",
       "      <td>0.028663</td>\n",
       "      <td>19681.000000</td>\n",
       "      <td>5678.000000</td>\n",
       "      <td>15.000000</td>\n",
       "      <td>1.000000</td>\n",
       "      <td>0.000000</td>\n",
       "      <td>3.000000</td>\n",
       "      <td>0.674793</td>\n",
       "      <td>6.635195e-01</td>\n",
       "      <td>0.669057</td>\n",
       "      <td>0.000000</td>\n",
       "      <td>0.000000</td>\n",
       "      <td>0.000000</td>\n",
       "      <td>0.000000</td>\n",
       "      <td>0.000000</td>\n",
       "      <td>3.000000</td>\n",
       "    </tr>\n",
       "    <tr>\n",
       "      <th>max</th>\n",
       "      <td>19.000000</td>\n",
       "      <td>1.170000e+08</td>\n",
       "      <td>4.050000e+06</td>\n",
       "      <td>230161.500000</td>\n",
       "      <td>0.072508</td>\n",
       "      <td>25229.000000</td>\n",
       "      <td>365243.000000</td>\n",
       "      <td>69.000000</td>\n",
       "      <td>1.000000</td>\n",
       "      <td>1.000000</td>\n",
       "      <td>20.000000</td>\n",
       "      <td>0.962693</td>\n",
       "      <td>8.549997e-01</td>\n",
       "      <td>0.896010</td>\n",
       "      <td>4.000000</td>\n",
       "      <td>9.000000</td>\n",
       "      <td>8.000000</td>\n",
       "      <td>27.000000</td>\n",
       "      <td>261.000000</td>\n",
       "      <td>25.000000</td>\n",
       "    </tr>\n",
       "  </tbody>\n",
       "</table>\n",
       "</div>"
      ],
      "text/plain": [
       "           CHILDRENS  TOTAL_SALARY  AMOUNT_CREDIT  AMOUNT_ANNUITY  \\\n",
       "count  250000.000000  2.500000e+05   2.500000e+05   249989.000000   \n",
       "mean        0.417624  1.690662e+05   5.993051e+05    27125.209585   \n",
       "std         0.722529  2.588480e+05   4.022720e+05    14503.930366   \n",
       "min         0.000000  2.565000e+04   4.500000e+04     1615.500000   \n",
       "25%         0.000000  1.125000e+05   2.700000e+05    16524.000000   \n",
       "50%         0.000000  1.485000e+05   5.147775e+05    24930.000000   \n",
       "75%         1.000000  2.025000e+05   8.086500e+05    34618.500000   \n",
       "max        19.000000  1.170000e+08   4.050000e+06   230161.500000   \n",
       "\n",
       "       REGION_POPULATION            AGE  DAYS_ON_LAST_JOB   OWN_CAR_AGE  \\\n",
       "count      250000.000000  250000.000000     250000.000000  85041.000000   \n",
       "mean            0.020871   16033.460496      67505.883296     12.030221   \n",
       "std             0.013827    4361.332320     139261.099609     11.899404   \n",
       "min             0.000290    7489.000000          0.000000      0.000000   \n",
       "25%             0.010006   12415.000000        931.000000      5.000000   \n",
       "50%             0.018850   15744.000000       2217.000000      9.000000   \n",
       "75%             0.028663   19681.000000       5678.000000     15.000000   \n",
       "max             0.072508   25229.000000     365243.000000     69.000000   \n",
       "\n",
       "          FLAG_PHONE     FLAG_EMAIL    FAMILY_SIZE  EXTERNAL_SCORING_RATING_1  \\\n",
       "count  250000.000000  250000.000000  249998.000000              109121.000000   \n",
       "mean        0.280244       0.057072       2.154025                   0.502122   \n",
       "std         0.449119       0.231981       0.911543                   0.210817   \n",
       "min         0.000000       0.000000       1.000000                   0.014691   \n",
       "25%         0.000000       0.000000       2.000000                   0.334180   \n",
       "50%         0.000000       0.000000       2.000000                   0.506018   \n",
       "75%         1.000000       0.000000       3.000000                   0.674793   \n",
       "max         1.000000       1.000000      20.000000                   0.962693   \n",
       "\n",
       "       EXTERNAL_SCORING_RATING_2  EXTERNAL_SCORING_RATING_3  \\\n",
       "count               2.494680e+05              200462.000000   \n",
       "mean                5.141749e-01                   0.510848   \n",
       "std                 1.910938e-01                   0.195054   \n",
       "min                 8.173617e-08                   0.000527   \n",
       "25%                 3.920026e-01                   0.370650   \n",
       "50%                 5.656713e-01                   0.535276   \n",
       "75%                 6.635195e-01                   0.669057   \n",
       "max                 8.549997e-01                   0.896010   \n",
       "\n",
       "       AMT_REQ_CREDIT_BUREAU_HOUR  AMT_REQ_CREDIT_BUREAU_DAY  \\\n",
       "count               216293.000000              216293.000000   \n",
       "mean                     0.006348                   0.006866   \n",
       "std                      0.083783                   0.107957   \n",
       "min                      0.000000                   0.000000   \n",
       "25%                      0.000000                   0.000000   \n",
       "50%                      0.000000                   0.000000   \n",
       "75%                      0.000000                   0.000000   \n",
       "max                      4.000000                   9.000000   \n",
       "\n",
       "       AMT_REQ_CREDIT_BUREAU_WEEK  AMT_REQ_CREDIT_BUREAU_MON  \\\n",
       "count               216293.000000              216293.000000   \n",
       "mean                     0.034217                   0.267475   \n",
       "std                      0.204029                   0.914514   \n",
       "min                      0.000000                   0.000000   \n",
       "25%                      0.000000                   0.000000   \n",
       "50%                      0.000000                   0.000000   \n",
       "75%                      0.000000                   0.000000   \n",
       "max                      8.000000                  27.000000   \n",
       "\n",
       "       AMT_REQ_CREDIT_BUREAU_QRT  AMT_REQ_CREDIT_BUREAU_YEAR  \n",
       "count              216293.000000               216293.000000  \n",
       "mean                    0.266786                    1.899030  \n",
       "std                     0.831547                    1.868811  \n",
       "min                     0.000000                    0.000000  \n",
       "25%                     0.000000                    0.000000  \n",
       "50%                     0.000000                    1.000000  \n",
       "75%                     0.000000                    3.000000  \n",
       "max                   261.000000                   25.000000  "
      ]
     },
     "execution_count": 87,
     "metadata": {},
     "output_type": "execute_result"
    }
   ],
   "source": [
    "numerical_features.describe()"
   ]
  },
  {
   "cell_type": "code",
   "execution_count": 88,
   "id": "6ebdd6b3",
   "metadata": {},
   "outputs": [
    {
     "name": "stdout",
     "output_type": "stream",
     "text": [
      "<class 'pandas.core.frame.DataFrame'>\n",
      "RangeIndex: 250000 entries, 0 to 249999\n",
      "Data columns (total 20 columns):\n",
      "CHILDRENS                     250000 non-null int64\n",
      "TOTAL_SALARY                  250000 non-null float64\n",
      "AMOUNT_CREDIT                 250000 non-null float64\n",
      "AMOUNT_ANNUITY                249989 non-null float64\n",
      "REGION_POPULATION             250000 non-null float64\n",
      "AGE                           250000 non-null int64\n",
      "DAYS_ON_LAST_JOB              250000 non-null int64\n",
      "OWN_CAR_AGE                   85041 non-null float64\n",
      "FLAG_PHONE                    250000 non-null int64\n",
      "FLAG_EMAIL                    250000 non-null int64\n",
      "FAMILY_SIZE                   249998 non-null float64\n",
      "EXTERNAL_SCORING_RATING_1     109121 non-null float64\n",
      "EXTERNAL_SCORING_RATING_2     249468 non-null float64\n",
      "EXTERNAL_SCORING_RATING_3     200462 non-null float64\n",
      "AMT_REQ_CREDIT_BUREAU_HOUR    216293 non-null float64\n",
      "AMT_REQ_CREDIT_BUREAU_DAY     216293 non-null float64\n",
      "AMT_REQ_CREDIT_BUREAU_WEEK    216293 non-null float64\n",
      "AMT_REQ_CREDIT_BUREAU_MON     216293 non-null float64\n",
      "AMT_REQ_CREDIT_BUREAU_QRT     216293 non-null float64\n",
      "AMT_REQ_CREDIT_BUREAU_YEAR    216293 non-null float64\n",
      "dtypes: float64(15), int64(5)\n",
      "memory usage: 38.1 MB\n"
     ]
    }
   ],
   "source": [
    "numerical_features.info()"
   ]
  },
  {
   "cell_type": "code",
   "execution_count": 89,
   "id": "8610bbd2",
   "metadata": {},
   "outputs": [],
   "source": [
    "tmp=pd.DataFrame(data=numerical_features, columns=['DAYS_ON_LAST_JOB','OWN_CAR_AGE','AMT_REQ_CREDIT_BUREAU_QRT'])"
   ]
  },
  {
   "cell_type": "code",
   "execution_count": 90,
   "id": "5431c6b0",
   "metadata": {},
   "outputs": [
    {
     "name": "stdout",
     "output_type": "stream",
     "text": [
      "Features distribution for train\n"
     ]
    },
    {
     "name": "stderr",
     "output_type": "stream",
     "text": [
      "C:\\Users\\Windows\\.conda\\envs\\tf\\lib\\site-packages\\numpy\\lib\\histograms.py:839: RuntimeWarning: invalid value encountered in greater_equal\n",
      "  keep = (tmp_a >= first_edge)\n",
      "C:\\Users\\Windows\\.conda\\envs\\tf\\lib\\site-packages\\numpy\\lib\\histograms.py:840: RuntimeWarning: invalid value encountered in less_equal\n",
      "  keep &= (tmp_a <= last_edge)\n"
     ]
    },
    {
     "data": {
      "image/png": "[encoded data removed]",
      "text/plain": [
       "<Figure size 1080x1080 with 1 Axes>"
      ]
     },
     "metadata": {
      "needs_background": "light"
     },
     "output_type": "display_data"
    }
   ],
   "source": [
    "n_cols = 1\n",
    "n_rows = 1 #len(tmp)//n_cols + 1\n",
    "show_features_distribution(tmp,['AMT_REQ_CREDIT_BUREAU_QRT'],n_rows, n_cols, isTrain=True, isPlot=False)"
   ]
  },
  {
   "cell_type": "code",
   "execution_count": 91,
   "id": "c37b28fc",
   "metadata": {},
   "outputs": [
    {
     "data": {
      "text/plain": [
       "2"
      ]
     },
     "execution_count": 91,
     "metadata": {},
     "output_type": "execute_result"
    }
   ],
   "source": [
    "numerical_features[numerical_features['AMT_REQ_CREDIT_BUREAU_QRT']>10]['AMT_REQ_CREDIT_BUREAU_QRT'].count()"
   ]
  },
  {
   "cell_type": "code",
   "execution_count": 92,
   "id": "b1ba10f4",
   "metadata": {},
   "outputs": [
    {
     "name": "stdout",
     "output_type": "stream",
     "text": [
      "Features distribution for train\n"
     ]
    },
    {
     "data": {
      "image/png": "[encoded data removed]",
      "text/plain": [
       "<Figure size 1080x1080 with 1 Axes>"
      ]
     },
     "metadata": {
      "needs_background": "light"
     },
     "output_type": "display_data"
    }
   ],
   "source": [
    "n_cols = 1\n",
    "n_rows = 1 #len(tmp)//n_cols + 1\n",
    "show_features_distribution(tmp,['DAYS_ON_LAST_JOB'],n_rows, n_cols, isTrain=True, isPlot=False)"
   ]
  },
  {
   "cell_type": "code",
   "execution_count": 93,
   "id": "264a2315",
   "metadata": {},
   "outputs": [],
   "source": [
    "dayes_in_year=365\n",
    "max_job_duration_years=70"
   ]
  },
  {
   "cell_type": "code",
   "execution_count": 94,
   "id": "02b9db84",
   "metadata": {},
   "outputs": [
    {
     "data": {
      "text/plain": [
       "44867"
      ]
     },
     "execution_count": 94,
     "metadata": {},
     "output_type": "execute_result"
    }
   ],
   "source": [
    "numerical_features[numerical_features['DAYS_ON_LAST_JOB']>dayes_in_year*max_job_duration_years]['DAYS_ON_LAST_JOB'].count()"
   ]
  },
  {
   "cell_type": "markdown",
   "id": "855b8c8a",
   "metadata": {},
   "source": [
    "для DAYS_ON_LAST_JOB и AMT_REQ_CREDIT_BUREAU_QRT - надо удалить выбросы"
   ]
  },
  {
   "cell_type": "code",
   "execution_count": 95,
   "id": "6a4ec4fe",
   "metadata": {},
   "outputs": [],
   "source": [
    "def check_missings(df: pd.DataFrame) -> pd.DataFrame:\n",
    "    \"\"\"\n",
    "    Функция для вычисления среднего и общего числа пропусков.\n",
    "\n",
    "    Parameters\n",
    "    ----------\n",
    "    df: pandas.core.DataFrame\n",
    "        Набор данных для вычисления статистики.\n",
    "\n",
    "    Returns\n",
    "    -------\n",
    "    result: pandas.core.DataFrame\n",
    "        Датафрейм со статистикой распределения пропусков.\n",
    "\n",
    "    \"\"\"\n",
    "    na = df.isnull().sum()\n",
    "    result = pd.DataFrame({\n",
    "        \"Total\": na,\n",
    "        \"Percent\": 100*na/df.shape[0],\n",
    "        \"Types\": df.dtypes\n",
    "    })\n",
    "    result = result[result[\"Total\"] != 0]\n",
    "    print(f\"Total NA-values = {na.sum()}\")\n",
    "    return result.T"
   ]
  },
  {
   "cell_type": "code",
   "execution_count": 96,
   "id": "0e2cf7e8",
   "metadata": {},
   "outputs": [
    {
     "name": "stdout",
     "output_type": "stream",
     "text": [
      "Total NA-values = 558163\n"
     ]
    },
    {
     "data": {
      "text/html": [
       "<div>\n",
       "<style scoped>\n",
       "    .dataframe tbody tr th:only-of-type {\n",
       "        vertical-align: middle;\n",
       "    }\n",
       "\n",
       "    .dataframe tbody tr th {\n",
       "        vertical-align: top;\n",
       "    }\n",
       "\n",
       "    .dataframe thead th {\n",
       "        text-align: right;\n",
       "    }\n",
       "</style>\n",
       "<table border=\"1\" class=\"dataframe\">\n",
       "  <thead>\n",
       "    <tr style=\"text-align: right;\">\n",
       "      <th></th>\n",
       "      <th>AMOUNT_ANNUITY</th>\n",
       "      <th>OWN_CAR_AGE</th>\n",
       "      <th>FAMILY_SIZE</th>\n",
       "      <th>EXTERNAL_SCORING_RATING_1</th>\n",
       "      <th>EXTERNAL_SCORING_RATING_2</th>\n",
       "      <th>EXTERNAL_SCORING_RATING_3</th>\n",
       "      <th>AMT_REQ_CREDIT_BUREAU_HOUR</th>\n",
       "      <th>AMT_REQ_CREDIT_BUREAU_DAY</th>\n",
       "      <th>AMT_REQ_CREDIT_BUREAU_WEEK</th>\n",
       "      <th>AMT_REQ_CREDIT_BUREAU_MON</th>\n",
       "      <th>AMT_REQ_CREDIT_BUREAU_QRT</th>\n",
       "      <th>AMT_REQ_CREDIT_BUREAU_YEAR</th>\n",
       "    </tr>\n",
       "  </thead>\n",
       "  <tbody>\n",
       "    <tr>\n",
       "      <th>Total</th>\n",
       "      <td>11</td>\n",
       "      <td>164959</td>\n",
       "      <td>2</td>\n",
       "      <td>140879</td>\n",
       "      <td>532</td>\n",
       "      <td>49538</td>\n",
       "      <td>33707</td>\n",
       "      <td>33707</td>\n",
       "      <td>33707</td>\n",
       "      <td>33707</td>\n",
       "      <td>33707</td>\n",
       "      <td>33707</td>\n",
       "    </tr>\n",
       "    <tr>\n",
       "      <th>Percent</th>\n",
       "      <td>0.0044</td>\n",
       "      <td>65.9836</td>\n",
       "      <td>0.0008</td>\n",
       "      <td>56.3516</td>\n",
       "      <td>0.2128</td>\n",
       "      <td>19.8152</td>\n",
       "      <td>13.4828</td>\n",
       "      <td>13.4828</td>\n",
       "      <td>13.4828</td>\n",
       "      <td>13.4828</td>\n",
       "      <td>13.4828</td>\n",
       "      <td>13.4828</td>\n",
       "    </tr>\n",
       "    <tr>\n",
       "      <th>Types</th>\n",
       "      <td>float64</td>\n",
       "      <td>float64</td>\n",
       "      <td>float64</td>\n",
       "      <td>float64</td>\n",
       "      <td>float64</td>\n",
       "      <td>float64</td>\n",
       "      <td>float64</td>\n",
       "      <td>float64</td>\n",
       "      <td>float64</td>\n",
       "      <td>float64</td>\n",
       "      <td>float64</td>\n",
       "      <td>float64</td>\n",
       "    </tr>\n",
       "  </tbody>\n",
       "</table>\n",
       "</div>"
      ],
      "text/plain": [
       "        AMOUNT_ANNUITY OWN_CAR_AGE FAMILY_SIZE EXTERNAL_SCORING_RATING_1  \\\n",
       "Total               11      164959           2                    140879   \n",
       "Percent         0.0044     65.9836      0.0008                   56.3516   \n",
       "Types          float64     float64     float64                   float64   \n",
       "\n",
       "        EXTERNAL_SCORING_RATING_2 EXTERNAL_SCORING_RATING_3  \\\n",
       "Total                         532                     49538   \n",
       "Percent                    0.2128                   19.8152   \n",
       "Types                     float64                   float64   \n",
       "\n",
       "        AMT_REQ_CREDIT_BUREAU_HOUR AMT_REQ_CREDIT_BUREAU_DAY  \\\n",
       "Total                        33707                     33707   \n",
       "Percent                    13.4828                   13.4828   \n",
       "Types                      float64                   float64   \n",
       "\n",
       "        AMT_REQ_CREDIT_BUREAU_WEEK AMT_REQ_CREDIT_BUREAU_MON  \\\n",
       "Total                        33707                     33707   \n",
       "Percent                    13.4828                   13.4828   \n",
       "Types                      float64                   float64   \n",
       "\n",
       "        AMT_REQ_CREDIT_BUREAU_QRT AMT_REQ_CREDIT_BUREAU_YEAR  \n",
       "Total                       33707                      33707  \n",
       "Percent                   13.4828                    13.4828  \n",
       "Types                     float64                    float64  "
      ]
     },
     "execution_count": 96,
     "metadata": {},
     "output_type": "execute_result"
    }
   ],
   "source": [
    "client_profile_missing = check_missings(client_profile)\n",
    "client_profile_missing"
   ]
  },
  {
   "cell_type": "code",
   "execution_count": 97,
   "id": "f47c0f43",
   "metadata": {},
   "outputs": [],
   "source": [
    "from sklearn.impute import KNNImputer"
   ]
  },
  {
   "cell_type": "code",
   "execution_count": 98,
   "id": "8939097f",
   "metadata": {},
   "outputs": [],
   "source": [
    "knn_imputer = KNNImputer(n_neighbors=25, weights=\"uniform\")\n",
    "client_profile[\"AMOUNT_ANNUITY\"] = knn_imputer.fit_transform(client_profile[[\"AMOUNT_ANNUITY\"]])\n",
    "client_profile[\"FAMILY_SIZE\"] = knn_imputer.fit_transform(client_profile[[\"FAMILY_SIZE\"]])\n",
    "client_profile[\"EXTERNAL_SCORING_RATING_2\"] = knn_imputer.fit_transform(client_profile[[\"EXTERNAL_SCORING_RATING_2\"]])"
   ]
  },
  {
   "cell_type": "code",
   "execution_count": 99,
   "id": "07c29dda",
   "metadata": {},
   "outputs": [],
   "source": [
    "from sklearn.experimental import enable_iterative_imputer\n",
    "from sklearn.impute import IterativeImputer"
   ]
  },
  {
   "cell_type": "code",
   "execution_count": 100,
   "id": "bee376d0",
   "metadata": {},
   "outputs": [],
   "source": [
    "iterative_imputer = IterativeImputer()\n",
    "client_profile[numerical_features.columns] = iterative_imputer.fit_transform(client_profile[numerical_features.columns])\n"
   ]
  },
  {
   "cell_type": "code",
   "execution_count": 101,
   "id": "51e98df4",
   "metadata": {},
   "outputs": [
    {
     "name": "stdout",
     "output_type": "stream",
     "text": [
      "Total NA-values = 0\n"
     ]
    },
    {
     "data": {
      "text/html": [
       "<div>\n",
       "<style scoped>\n",
       "    .dataframe tbody tr th:only-of-type {\n",
       "        vertical-align: middle;\n",
       "    }\n",
       "\n",
       "    .dataframe tbody tr th {\n",
       "        vertical-align: top;\n",
       "    }\n",
       "\n",
       "    .dataframe thead th {\n",
       "        text-align: right;\n",
       "    }\n",
       "</style>\n",
       "<table border=\"1\" class=\"dataframe\">\n",
       "  <thead>\n",
       "    <tr style=\"text-align: right;\">\n",
       "      <th></th>\n",
       "    </tr>\n",
       "  </thead>\n",
       "  <tbody>\n",
       "    <tr>\n",
       "      <th>Total</th>\n",
       "    </tr>\n",
       "    <tr>\n",
       "      <th>Percent</th>\n",
       "    </tr>\n",
       "    <tr>\n",
       "      <th>Types</th>\n",
       "    </tr>\n",
       "  </tbody>\n",
       "</table>\n",
       "</div>"
      ],
      "text/plain": [
       "Empty DataFrame\n",
       "Columns: []\n",
       "Index: [Total, Percent, Types]"
      ]
     },
     "execution_count": 101,
     "metadata": {},
     "output_type": "execute_result"
    }
   ],
   "source": [
    "client_profile_missing = check_missings(client_profile)\n",
    "client_profile_missing"
   ]
  },
  {
   "cell_type": "code",
   "execution_count": 102,
   "id": "bdd5692b",
   "metadata": {},
   "outputs": [],
   "source": [
    "def make_cross_validation(X: pd.DataFrame,\n",
    "                          y: pd.Series,\n",
    "                          estimator: object,\n",
    "                          cat_feats,\n",
    "                          metric: callable,                          \n",
    "                          cv_strategy,\n",
    "                          error_to_be_outlier=None,\n",
    "                          isCatBoost=False\n",
    "                          ):\n",
    "    \"\"\"\n",
    "    Кросс-валидация.\n",
    "\n",
    "    Parameters\n",
    "    ----------\n",
    "    X: pd.DataFrame\n",
    "        Матрица признаков.\n",
    "\n",
    "    y: pd.Series\n",
    "        Вектор целевой переменной.\n",
    "\n",
    "    estimator: callable\n",
    "        Объект модели для обучения.\n",
    "\n",
    "    metric: callable\n",
    "        Метрика для оценки качества решения.\n",
    "        Ожидается, что на вход будет передана функция,\n",
    "        которая принимает 2 аргумента: y_true, y_pred.\n",
    "\n",
    "    cv_strategy: cross-validation generator\n",
    "        Объект для описания стратегии кросс-валидации.\n",
    "        Ожидается, что на вход будет передан объект типа\n",
    "        KFold или StratifiedKFold.\n",
    "\n",
    "    Returns\n",
    "    -------\n",
    "    oof_score: float\n",
    "        Значение метрики качества на OOF-прогнозах.\n",
    "\n",
    "    fold_train_scores: List[float]\n",
    "        Значение метрики качества на каждом обучающем датасете кросс-валидации.\n",
    "\n",
    "    fold_valid_scores: List[float]\n",
    "        Значение метрики качества на каждом валидационном датасете кросс-валидации.\n",
    "\n",
    "    oof_predictions: np.array\n",
    "        Прогнозы на OOF.\n",
    "\n",
    "    \"\"\"\n",
    "    estimators, fold_train_scores, fold_valid_scores = [], [], []\n",
    "    oof_predictions = np.zeros(X.shape[0])\n",
    "\n",
    "    for fold_number, (train_idx, valid_idx) in enumerate(cv_strategy.split(X, y)):\n",
    "        x_train, x_valid = X.loc[train_idx], X.loc[valid_idx]\n",
    "        y_train, y_valid = y.loc[train_idx], y.loc[valid_idx]\n",
    "\n",
    "        if isCatBoost:\n",
    "            estimator.fit(x_train, y_train, eval_set=[(x_train, y_train), (x_valid, y_valid)],\n",
    "                          cat_features=cat_feats,plot=True)\n",
    "        else:\n",
    "            estimator.fit(X=x_train,y=y_train,\n",
    "                      eval_set=[(x_train, y_train), (x_valid, y_valid)],\n",
    "                      early_stopping_rounds=500,\n",
    "                      eval_metric=\"auc\",\n",
    "                      verbose=200,\n",
    "                      categorical_feature=cat_feats)\n",
    "        \n",
    "        y_train_pred = estimator.predict_proba(x_train)[:, 1]\n",
    "        y_valid_pred = estimator.predict_proba(x_valid)[:, 1]\n",
    "\n",
    "        if not error_to_be_outlier:\n",
    "            fold_train_scores.append(metric(y_train, y_train_pred))\n",
    "            fold_valid_scores.append(metric(y_valid, y_valid_pred))\n",
    "        else: #не работает с классификацией\n",
    "            mask = ((y_valid - y_valid_pred) / y_valid) < error_to_be_outlier\n",
    "            fold_valid_scores.append(metric(y_valid[mask], y_valid_pred[mask]))\n",
    "            mask2 = ((y_train - y_train_pred) / y_train) < error_to_be_outlier\n",
    "            fold_valid_scores.append(metric(y_train[mask2], y_train_pred[mask2]))\n",
    "\n",
    "        \n",
    "        oof_predictions[valid_idx] = y_valid_pred        \n",
    "        oof_predictions[train_idx] = y_train_pred\n",
    "\n",
    "        msg = (\n",
    "            f\"Fold: {fold_number+1}, train-observations = {len(train_idx)}, \"\n",
    "            f\"valid-observations = {len(valid_idx)}\\n\"\n",
    "            f\"train-score = {round(fold_train_scores[fold_number], 4)}, \"\n",
    "            f\"valid-score = {round(fold_valid_scores[fold_number], 4)}\" \n",
    "        )\n",
    "        print(msg)\n",
    "        print(\"=\"*69)\n",
    "        estimators.append(estimator)\n",
    "\n",
    "    oof_score = metric(y, oof_predictions)\n",
    "    print(f\"CV-results train: {round(np.mean(fold_train_scores), 4)} +/- {round(np.std(fold_train_scores), 3)}\")\n",
    "    print(f\"CV-results valid: {round(np.mean(fold_valid_scores), 4)} +/- {round(np.std(fold_valid_scores), 3)}\")\n",
    "    print(f\"OOF-score = {round(oof_score, 4)}\")\n",
    "\n",
    "    return estimators, oof_score, fold_train_scores, fold_valid_scores, oof_predictions"
   ]
  },
  {
   "cell_type": "code",
   "execution_count": 103,
   "id": "7fbddbdc",
   "metadata": {},
   "outputs": [],
   "source": [
    "def create_client_profile_features(X:pd.DataFrame, copy:bool=True)->pd.DataFrame:\n",
    "    \"\"\"\n",
    "    Создание признаков на основе профиля клиентов\n",
    "    \n",
    "    Parameters\n",
    "    ----------\n",
    "    X: pd.DataFrame\n",
    "            исходная матрица признаков с профилем клиента\n",
    "    copy:bool,optional\n",
    "            использовать ли копию DF X, по умолчанию=True\n",
    "    \n",
    "    Returns \n",
    "    -------\n",
    "    X_transformed:pd.DataFrame\n",
    "            расширенная матрица признаков с профилем клиента\n",
    "        \n",
    "    \"\"\"\n",
    "    if copy:\n",
    "        X=X.copy(deep=True)\n",
    "        \n",
    "        \n",
    "    #AMT_REQ_CREDIT_BUREAU_QRT_max=10\n",
    "    #X['AMT_REQ_CREDIT_BUREAU_QRT']=np.where(X['AMT_REQ_CREDIT_BUREAU_QRT'] < AMT_REQ_CREDIT_BUREAU_QRT_max,\n",
    "    #                                        X['AMT_REQ_CREDIT_BUREAU_QRT'],np.nan)\n",
    "    \n",
    "    dayes_in_year=365\n",
    "    max_job_duration_years=70 #предполагаем что макс время работы не более 70 лет\n",
    "    X['DAYS_ON_LAST_JOB']= np.where(X['DAYS_ON_LAST_JOB'] < dayes_in_year * max_job_duration_years,\n",
    "                                    X['DAYS_ON_LAST_JOB'],np.nan)\n",
    "    bki_flags = [flag for flag in X.columns if \"AMT_REQ_CREDIT_BUREAU\" in flag]\n",
    "    X[\"BKI_REQUESTS_COUNT\"] = X[bki_flags].sum(axis=1)\n",
    "    X[\"BKI_KURTOSIS\"] = X[bki_flags].kurtosis(axis=1)\n",
    "    X[\"EXTERNAL_SCORING_PROD\"] = X[\"EXTERNAL_SCORING_RATING_1\"] * X[\"EXTERNAL_SCORING_RATING_2\"] * X[\"EXTERNAL_SCORING_RATING_3\"]\n",
    "    \n",
    "    total_ext_scoring_ratings = X[\"EXTERNAL_SCORING_RATING_1\"].sum()+X[\"EXTERNAL_SCORING_RATING_2\"].sum()+X[\"EXTERNAL_SCORING_RATING_3\"].sum()\n",
    "    ext_scoring_rating_1_ratio=np.ceil((total_ext_scoring_ratings / 3) / client_profile['EXTERNAL_SCORING_RATING_1'].sum())\n",
    "    ext_scoring_rating_2_ratio=np.ceil((total_ext_scoring_ratings / 3) / client_profile['EXTERNAL_SCORING_RATING_2'].sum())\n",
    "    ext_scoring_rating_3_ratio=np.ceil((total_ext_scoring_ratings / 3) / client_profile['EXTERNAL_SCORING_RATING_3'].sum())\n",
    "    X[\"EXTERNAL_SCORING_WEIGHTED\"] = X[\"EXTERNAL_SCORING_RATING_1\"] * ext_scoring_rating_1_ratio + X[\"EXTERNAL_SCORING_RATING_2\"] * ext_scoring_rating_2_ratio + X[\"EXTERNAL_SCORING_RATING_3\"] * ext_scoring_rating_3_ratio\n",
    "\n",
    "    for function_name in [\"min\", \"max\", \"mean\", \"nanmedian\", \"var\"]:\n",
    "        feature_name = \"EXTERNAL_SCORING_RATING_{}\".format(function_name)\n",
    "        X[feature_name] = eval(\"np.{}\".format(function_name))(\n",
    "            X[[\"EXTERNAL_SCORING_RATING_1\",\"EXTERNAL_SCORING_RATING_2\",\"EXTERNAL_SCORING_RATING_3\"]],axis=1)\n",
    "        \n",
    "    #Отношение между основными фин. показателями\n",
    "    X[\"RATIO_CREDIT_TO_ANNUITY\"] = X[\"AMOUNT_CREDIT\"] / X[\"AMOUNT_ANNUITY\"]\n",
    "    X[\"RATIO_ANNUITY_TO_SALARY\"] = X[\"AMOUNT_ANNUITY\"] / X[\"TOTAL_SALARY\"]\n",
    "    X[\"RATIO_CREDIT_TO_SALARY\"] = X[\"AMOUNT_CREDIT\"] / X[\"TOTAL_SALARY\"]\n",
    "    X[\"TOTAL_SALARY_NET\"] = X[\"TOTAL_SALARY\"]-X[\"AMOUNT_ANNUITY\"]\n",
    "    \n",
    "    #Отношение фин. показателей к возрасту и врем признакам\n",
    "    X[\"RATIO_ANNUITY_TO_AGE\"] = X[\"AMOUNT_ANNUITY\"] / X[\"AGE\"]\n",
    "    X[\"RATIO_CREDIT_TO_AGE\"] = X[\"AMOUNT_CREDIT\"] / X[\"AGE\"]\n",
    "    X[\"RATIO_SALARY_TO_AGE\"] = X[\"TOTAL_SALARY\"] / X[\"AGE\"]\n",
    "    X[\"RATIO_ANNUITY_TO_EXPERIENCE\"] = X[\"AMOUNT_ANNUITY\"] / X[\"DAYS_ON_LAST_JOB\"]\n",
    "    X[\"RATIO_CREDIT_TO_EXPERIENCE\"] = X[\"AMOUNT_CREDIT\"] / X[\"DAYS_ON_LAST_JOB\"]\n",
    "    X[\"RATIO_SALARY_TO_EXPERIENCE\"] = X[\"TOTAL_SALARY\"] / X[\"DAYS_ON_LAST_JOB\"]\n",
    "\n",
    "    #Отношение временных признаков\n",
    "    X[\"RATIO_AGE_TO_EXPERIENCE\"] = X[\"AGE\"] / X[\"DAYS_ON_LAST_JOB\"]\n",
    "    X[\"RATIO_SALARY_TO_REGION_POPULATION\"] = X[\"TOTAL_SALARY\"] * X[\"REGION_POPULATION\"]    \n",
    "    X[\"RATIO_CAR_TO_EXPERIENCE\"] = X[\"OWN_CAR_AGE\"] / X[\"DAYS_ON_LAST_JOB\"]    \n",
    "    X[\"RATIO_CAR_TO_AGE\"] = X[\"OWN_CAR_AGE\"] / X[\"AGE\"]\n",
    "\n",
    "    #Произведение фин. показателей кредита на вероятность дефолта (мат ожидание дефолта или ожидаемые потери)\n",
    "    X[\"EXPECTED_TOTAL_LOSS_1\"] = X[\"EXTERNAL_SCORING_RATING_1\"] * X[\"AMOUNT_CREDIT\"]\n",
    "    X[\"EXPECTED_TOTAL_LOSS_2\"] = X[\"EXTERNAL_SCORING_RATING_2\"] * X[\"AMOUNT_CREDIT\"]\n",
    "    X[\"EXPECTED_TOTAL_LOSS_3\"] = X[\"EXTERNAL_SCORING_RATING_3\"] * X[\"AMOUNT_CREDIT\"]\n",
    "    X[\"EXPECTED_MONTHLY_LOSS_1\"] = X[\"EXTERNAL_SCORING_RATING_1\"] * X[\"AMOUNT_ANNUITY\"]\n",
    "    X[\"EXPECTED_MONTHLY_LOSS_2\"] = X[\"EXTERNAL_SCORING_RATING_2\"] * X[\"AMOUNT_ANNUITY\"]\n",
    "    X[\"EXPECTED_MONTHLY_LOSS_3\"] = X[\"EXTERNAL_SCORING_RATING_3\"] * X[\"AMOUNT_ANNUITY\"]\n",
    "\n",
    "    #м.б закометарены\n",
    "    \n",
    "    \n",
    "    \n",
    "    X[\"EXTERNAL_SCORING_RATING_1_PLUS_2\"]=np.nansum(\n",
    "        X[[\"EXTERNAL_SCORING_RATING_1\",\"EXTERNAL_SCORING_RATING_2\"]], axis=1\n",
    "    )\n",
    "    X[\"EXTERNAL_SCORING_RATING_1_PLUS_3\"]=np.nansum(\n",
    "        X[[\"EXTERNAL_SCORING_RATING_1\",\"EXTERNAL_SCORING_RATING_3\"]], axis=1\n",
    "    )\n",
    "    \n",
    "    X[\"EXTERNAL_SCORING_RATING_2_PLUS_3\"]=np.nansum(\n",
    "        X[[\"EXTERNAL_SCORING_RATING_2\",\"EXTERNAL_SCORING_RATING_3\"]], axis=1\n",
    "    )\n",
    "    \n",
    "    \n",
    "    \n",
    "    X[\"EXTERNAL_SCORING_RATING_1_IS_NAN\"]=np.isnan(X[\"EXTERNAL_SCORING_RATING_1\"])\n",
    "    X[\"EXTERNAL_SCORING_RATING_2_IS_NAN\"]=np.isnan(X[\"EXTERNAL_SCORING_RATING_2\"])\n",
    "    X[\"EXTERNAL_SCORING_RATING_3_IS_NAN\"]=np.isnan(X[\"EXTERNAL_SCORING_RATING_3\"])\n",
    "    \n",
    "    \"\"\"\n",
    "    \"\"\"\n",
    "\n",
    "    #доп признаки\n",
    "    X[\"RATIO_CREDIT_PER_FAMILY_SIZE\"] = X[\"AMOUNT_CREDIT\"] / X[\"FAMILY_SIZE\"]\n",
    "    X[\"RATIO_CREDIT_PER_CHILDRENS\"] = X[\"AMOUNT_CREDIT\"] / (1+X[\"CHILDRENS\"])\n",
    "    X[\"RATIO_CHILDRENS_TO_FAMILY_SIZE\"] = X[\"CHILDRENS\"] / X[\"FAMILY_SIZE\"]\n",
    "    X[\"RATIO_SALARY_PER_FAMILY_SIZE\"] = X[\"TOTAL_SALARY\"] / X[\"FAMILY_SIZE\"]\n",
    "    X[\"RATIO_SALARY_PER_CHILD\"] = X[\"TOTAL_SALARY\"] / X[\"CHILDRENS\"]    \n",
    "    X[\"NON_CHILD\"] = X[\"FAMILY_SIZE\"] - X[\"CHILDRENS\"]    \n",
    "    X[\"RATIO_CHILD_TO_NON_CHILD\"] = X[\"CHILDRENS\"] / X[\"NON_CHILD\"]    \n",
    "    X[\"RATIO_SALARY_PER_NON_CHILD\"] = X[\"TOTAL_SALARY\"] / X[\"NON_CHILD\"]\n",
    "    X[\"RATIO_CREDIT_PER_NON_CHILD\"] = X[\"AMOUNT_CREDIT\"] / X[\"NON_CHILD\"]\n",
    "    \n",
    "    \n",
    "    \n",
    "    \n",
    "\n",
    "    return X\n",
    "    "
   ]
  },
  {
   "cell_type": "code",
   "execution_count": 104,
   "id": "371b60e8",
   "metadata": {},
   "outputs": [
    {
     "data": {
      "text/plain": [
       "Index(['APPLICATION_NUMBER', 'GENDER', 'CHILDRENS', 'TOTAL_SALARY',\n",
       "       'AMOUNT_CREDIT', 'AMOUNT_ANNUITY', 'EDUCATION_LEVEL', 'FAMILY_STATUS',\n",
       "       'REGION_POPULATION', 'AGE', 'DAYS_ON_LAST_JOB', 'OWN_CAR_AGE',\n",
       "       'FLAG_PHONE', 'FLAG_EMAIL', 'FAMILY_SIZE', 'EXTERNAL_SCORING_RATING_1',\n",
       "       'EXTERNAL_SCORING_RATING_2', 'EXTERNAL_SCORING_RATING_3',\n",
       "       'AMT_REQ_CREDIT_BUREAU_HOUR', 'AMT_REQ_CREDIT_BUREAU_DAY',\n",
       "       'AMT_REQ_CREDIT_BUREAU_WEEK', 'AMT_REQ_CREDIT_BUREAU_MON',\n",
       "       'AMT_REQ_CREDIT_BUREAU_QRT', 'AMT_REQ_CREDIT_BUREAU_YEAR'],\n",
       "      dtype='object')"
      ]
     },
     "execution_count": 104,
     "metadata": {},
     "output_type": "execute_result"
    }
   ],
   "source": [
    "client_profile.columns"
   ]
  },
  {
   "cell_type": "code",
   "execution_count": 105,
   "id": "14e141c6",
   "metadata": {},
   "outputs": [
    {
     "data": {
      "text/html": [
       "<div>\n",
       "<style scoped>\n",
       "    .dataframe tbody tr th:only-of-type {\n",
       "        vertical-align: middle;\n",
       "    }\n",
       "\n",
       "    .dataframe tbody tr th {\n",
       "        vertical-align: top;\n",
       "    }\n",
       "\n",
       "    .dataframe thead th {\n",
       "        text-align: right;\n",
       "    }\n",
       "</style>\n",
       "<table border=\"1\" class=\"dataframe\">\n",
       "  <thead>\n",
       "    <tr style=\"text-align: right;\">\n",
       "      <th></th>\n",
       "      <th>APPLICATION_NUMBER</th>\n",
       "      <th>GENDER</th>\n",
       "      <th>CHILDRENS</th>\n",
       "      <th>TOTAL_SALARY</th>\n",
       "      <th>AMOUNT_CREDIT</th>\n",
       "      <th>AMOUNT_ANNUITY</th>\n",
       "      <th>EDUCATION_LEVEL</th>\n",
       "      <th>FAMILY_STATUS</th>\n",
       "      <th>REGION_POPULATION</th>\n",
       "      <th>AGE</th>\n",
       "      <th>...</th>\n",
       "      <th>FAMILY_SIZE</th>\n",
       "      <th>EXTERNAL_SCORING_RATING_1</th>\n",
       "      <th>EXTERNAL_SCORING_RATING_2</th>\n",
       "      <th>EXTERNAL_SCORING_RATING_3</th>\n",
       "      <th>AMT_REQ_CREDIT_BUREAU_HOUR</th>\n",
       "      <th>AMT_REQ_CREDIT_BUREAU_DAY</th>\n",
       "      <th>AMT_REQ_CREDIT_BUREAU_WEEK</th>\n",
       "      <th>AMT_REQ_CREDIT_BUREAU_MON</th>\n",
       "      <th>AMT_REQ_CREDIT_BUREAU_QRT</th>\n",
       "      <th>AMT_REQ_CREDIT_BUREAU_YEAR</th>\n",
       "    </tr>\n",
       "  </thead>\n",
       "  <tbody>\n",
       "    <tr>\n",
       "      <th>0</th>\n",
       "      <td>123666076</td>\n",
       "      <td>F</td>\n",
       "      <td>0.0</td>\n",
       "      <td>157500.0</td>\n",
       "      <td>270000.0</td>\n",
       "      <td>13500.0</td>\n",
       "      <td>Incomplete higher</td>\n",
       "      <td>Civil marriage</td>\n",
       "      <td>0.008068</td>\n",
       "      <td>8560.0</td>\n",
       "      <td>...</td>\n",
       "      <td>2.0</td>\n",
       "      <td>0.329471</td>\n",
       "      <td>0.236315</td>\n",
       "      <td>0.678568</td>\n",
       "      <td>0.000000</td>\n",
       "      <td>0.000000</td>\n",
       "      <td>0.000000</td>\n",
       "      <td>0.000000</td>\n",
       "      <td>1.000000</td>\n",
       "      <td>2.000000</td>\n",
       "    </tr>\n",
       "    <tr>\n",
       "      <th>1</th>\n",
       "      <td>123423688</td>\n",
       "      <td>F</td>\n",
       "      <td>0.0</td>\n",
       "      <td>270000.0</td>\n",
       "      <td>536917.5</td>\n",
       "      <td>28467.0</td>\n",
       "      <td>Secondary / secondary special</td>\n",
       "      <td>Married</td>\n",
       "      <td>0.020246</td>\n",
       "      <td>23187.0</td>\n",
       "      <td>...</td>\n",
       "      <td>2.0</td>\n",
       "      <td>0.758282</td>\n",
       "      <td>0.442295</td>\n",
       "      <td>0.802745</td>\n",
       "      <td>0.000000</td>\n",
       "      <td>0.000000</td>\n",
       "      <td>0.000000</td>\n",
       "      <td>0.000000</td>\n",
       "      <td>1.000000</td>\n",
       "      <td>1.000000</td>\n",
       "    </tr>\n",
       "    <tr>\n",
       "      <th>2</th>\n",
       "      <td>123501780</td>\n",
       "      <td>M</td>\n",
       "      <td>1.0</td>\n",
       "      <td>427500.0</td>\n",
       "      <td>239850.0</td>\n",
       "      <td>23850.0</td>\n",
       "      <td>Incomplete higher</td>\n",
       "      <td>Married</td>\n",
       "      <td>0.072508</td>\n",
       "      <td>14387.0</td>\n",
       "      <td>...</td>\n",
       "      <td>3.0</td>\n",
       "      <td>0.409017</td>\n",
       "      <td>0.738159</td>\n",
       "      <td>0.491579</td>\n",
       "      <td>0.006862</td>\n",
       "      <td>0.006286</td>\n",
       "      <td>0.034368</td>\n",
       "      <td>0.459342</td>\n",
       "      <td>0.241681</td>\n",
       "      <td>1.972518</td>\n",
       "    </tr>\n",
       "    <tr>\n",
       "      <th>3</th>\n",
       "      <td>123588799</td>\n",
       "      <td>M</td>\n",
       "      <td>0.0</td>\n",
       "      <td>112500.0</td>\n",
       "      <td>254700.0</td>\n",
       "      <td>17149.5</td>\n",
       "      <td>Secondary / secondary special</td>\n",
       "      <td>Married</td>\n",
       "      <td>0.019101</td>\n",
       "      <td>14273.0</td>\n",
       "      <td>...</td>\n",
       "      <td>2.0</td>\n",
       "      <td>0.450509</td>\n",
       "      <td>0.308994</td>\n",
       "      <td>0.590233</td>\n",
       "      <td>0.000000</td>\n",
       "      <td>0.000000</td>\n",
       "      <td>0.000000</td>\n",
       "      <td>0.000000</td>\n",
       "      <td>0.000000</td>\n",
       "      <td>3.000000</td>\n",
       "    </tr>\n",
       "    <tr>\n",
       "      <th>4</th>\n",
       "      <td>123647485</td>\n",
       "      <td>M</td>\n",
       "      <td>0.0</td>\n",
       "      <td>130500.0</td>\n",
       "      <td>614574.0</td>\n",
       "      <td>19822.5</td>\n",
       "      <td>Lower secondary</td>\n",
       "      <td>Married</td>\n",
       "      <td>0.022625</td>\n",
       "      <td>22954.0</td>\n",
       "      <td>...</td>\n",
       "      <td>2.0</td>\n",
       "      <td>0.723691</td>\n",
       "      <td>0.739408</td>\n",
       "      <td>0.156640</td>\n",
       "      <td>0.000000</td>\n",
       "      <td>0.000000</td>\n",
       "      <td>1.000000</td>\n",
       "      <td>0.000000</td>\n",
       "      <td>0.000000</td>\n",
       "      <td>6.000000</td>\n",
       "    </tr>\n",
       "    <tr>\n",
       "      <th>...</th>\n",
       "      <td>...</td>\n",
       "      <td>...</td>\n",
       "      <td>...</td>\n",
       "      <td>...</td>\n",
       "      <td>...</td>\n",
       "      <td>...</td>\n",
       "      <td>...</td>\n",
       "      <td>...</td>\n",
       "      <td>...</td>\n",
       "      <td>...</td>\n",
       "      <td>...</td>\n",
       "      <td>...</td>\n",
       "      <td>...</td>\n",
       "      <td>...</td>\n",
       "      <td>...</td>\n",
       "      <td>...</td>\n",
       "      <td>...</td>\n",
       "      <td>...</td>\n",
       "      <td>...</td>\n",
       "      <td>...</td>\n",
       "      <td>...</td>\n",
       "    </tr>\n",
       "    <tr>\n",
       "      <th>249995</th>\n",
       "      <td>123657254</td>\n",
       "      <td>M</td>\n",
       "      <td>0.0</td>\n",
       "      <td>216000.0</td>\n",
       "      <td>45000.0</td>\n",
       "      <td>2425.5</td>\n",
       "      <td>Higher education</td>\n",
       "      <td>Married</td>\n",
       "      <td>0.018850</td>\n",
       "      <td>19150.0</td>\n",
       "      <td>...</td>\n",
       "      <td>2.0</td>\n",
       "      <td>0.555436</td>\n",
       "      <td>0.581592</td>\n",
       "      <td>0.048259</td>\n",
       "      <td>0.000000</td>\n",
       "      <td>0.000000</td>\n",
       "      <td>0.000000</td>\n",
       "      <td>0.000000</td>\n",
       "      <td>1.000000</td>\n",
       "      <td>3.000000</td>\n",
       "    </tr>\n",
       "    <tr>\n",
       "      <th>249996</th>\n",
       "      <td>123645397</td>\n",
       "      <td>M</td>\n",
       "      <td>0.0</td>\n",
       "      <td>103500.0</td>\n",
       "      <td>675000.0</td>\n",
       "      <td>28507.5</td>\n",
       "      <td>Higher education</td>\n",
       "      <td>Married</td>\n",
       "      <td>0.014520</td>\n",
       "      <td>19604.0</td>\n",
       "      <td>...</td>\n",
       "      <td>2.0</td>\n",
       "      <td>0.685357</td>\n",
       "      <td>0.676409</td>\n",
       "      <td>0.726711</td>\n",
       "      <td>0.000000</td>\n",
       "      <td>0.000000</td>\n",
       "      <td>0.000000</td>\n",
       "      <td>0.000000</td>\n",
       "      <td>0.000000</td>\n",
       "      <td>0.000000</td>\n",
       "    </tr>\n",
       "    <tr>\n",
       "      <th>249997</th>\n",
       "      <td>123504053</td>\n",
       "      <td>M</td>\n",
       "      <td>0.0</td>\n",
       "      <td>202500.0</td>\n",
       "      <td>1078200.0</td>\n",
       "      <td>38331.0</td>\n",
       "      <td>Secondary / secondary special</td>\n",
       "      <td>Single / not married</td>\n",
       "      <td>0.031329</td>\n",
       "      <td>8351.0</td>\n",
       "      <td>...</td>\n",
       "      <td>1.0</td>\n",
       "      <td>0.269227</td>\n",
       "      <td>0.353665</td>\n",
       "      <td>0.283712</td>\n",
       "      <td>0.000000</td>\n",
       "      <td>0.000000</td>\n",
       "      <td>0.000000</td>\n",
       "      <td>0.000000</td>\n",
       "      <td>1.000000</td>\n",
       "      <td>4.000000</td>\n",
       "    </tr>\n",
       "    <tr>\n",
       "      <th>249998</th>\n",
       "      <td>123547316</td>\n",
       "      <td>F</td>\n",
       "      <td>0.0</td>\n",
       "      <td>135000.0</td>\n",
       "      <td>500211.0</td>\n",
       "      <td>38839.5</td>\n",
       "      <td>Secondary / secondary special</td>\n",
       "      <td>Married</td>\n",
       "      <td>0.030755</td>\n",
       "      <td>13277.0</td>\n",
       "      <td>...</td>\n",
       "      <td>2.0</td>\n",
       "      <td>0.305746</td>\n",
       "      <td>0.682462</td>\n",
       "      <td>0.639708</td>\n",
       "      <td>0.000000</td>\n",
       "      <td>0.000000</td>\n",
       "      <td>0.000000</td>\n",
       "      <td>0.000000</td>\n",
       "      <td>0.000000</td>\n",
       "      <td>3.000000</td>\n",
       "    </tr>\n",
       "    <tr>\n",
       "      <th>249999</th>\n",
       "      <td>123616787</td>\n",
       "      <td>F</td>\n",
       "      <td>0.0</td>\n",
       "      <td>270000.0</td>\n",
       "      <td>573408.0</td>\n",
       "      <td>35077.5</td>\n",
       "      <td>Incomplete higher</td>\n",
       "      <td>Separated</td>\n",
       "      <td>0.072508</td>\n",
       "      <td>18334.0</td>\n",
       "      <td>...</td>\n",
       "      <td>1.0</td>\n",
       "      <td>0.646046</td>\n",
       "      <td>0.708573</td>\n",
       "      <td>0.528093</td>\n",
       "      <td>0.000000</td>\n",
       "      <td>0.000000</td>\n",
       "      <td>0.000000</td>\n",
       "      <td>0.000000</td>\n",
       "      <td>0.000000</td>\n",
       "      <td>7.000000</td>\n",
       "    </tr>\n",
       "  </tbody>\n",
       "</table>\n",
       "<p>250000 rows × 24 columns</p>\n",
       "</div>"
      ],
      "text/plain": [
       "        APPLICATION_NUMBER GENDER  CHILDRENS  TOTAL_SALARY  AMOUNT_CREDIT  \\\n",
       "0                123666076      F        0.0      157500.0       270000.0   \n",
       "1                123423688      F        0.0      270000.0       536917.5   \n",
       "2                123501780      M        1.0      427500.0       239850.0   \n",
       "3                123588799      M        0.0      112500.0       254700.0   \n",
       "4                123647485      M        0.0      130500.0       614574.0   \n",
       "...                    ...    ...        ...           ...            ...   \n",
       "249995           123657254      M        0.0      216000.0        45000.0   \n",
       "249996           123645397      M        0.0      103500.0       675000.0   \n",
       "249997           123504053      M        0.0      202500.0      1078200.0   \n",
       "249998           123547316      F        0.0      135000.0       500211.0   \n",
       "249999           123616787      F        0.0      270000.0       573408.0   \n",
       "\n",
       "        AMOUNT_ANNUITY                EDUCATION_LEVEL         FAMILY_STATUS  \\\n",
       "0              13500.0              Incomplete higher        Civil marriage   \n",
       "1              28467.0  Secondary / secondary special               Married   \n",
       "2              23850.0              Incomplete higher               Married   \n",
       "3              17149.5  Secondary / secondary special               Married   \n",
       "4              19822.5                Lower secondary               Married   \n",
       "...                ...                            ...                   ...   \n",
       "249995          2425.5               Higher education               Married   \n",
       "249996         28507.5               Higher education               Married   \n",
       "249997         38331.0  Secondary / secondary special  Single / not married   \n",
       "249998         38839.5  Secondary / secondary special               Married   \n",
       "249999         35077.5              Incomplete higher             Separated   \n",
       "\n",
       "        REGION_POPULATION      AGE  ...  FAMILY_SIZE  \\\n",
       "0                0.008068   8560.0  ...          2.0   \n",
       "1                0.020246  23187.0  ...          2.0   \n",
       "2                0.072508  14387.0  ...          3.0   \n",
       "3                0.019101  14273.0  ...          2.0   \n",
       "4                0.022625  22954.0  ...          2.0   \n",
       "...                   ...      ...  ...          ...   \n",
       "249995           0.018850  19150.0  ...          2.0   \n",
       "249996           0.014520  19604.0  ...          2.0   \n",
       "249997           0.031329   8351.0  ...          1.0   \n",
       "249998           0.030755  13277.0  ...          2.0   \n",
       "249999           0.072508  18334.0  ...          1.0   \n",
       "\n",
       "        EXTERNAL_SCORING_RATING_1  EXTERNAL_SCORING_RATING_2  \\\n",
       "0                        0.329471                   0.236315   \n",
       "1                        0.758282                   0.442295   \n",
       "2                        0.409017                   0.738159   \n",
       "3                        0.450509                   0.308994   \n",
       "4                        0.723691                   0.739408   \n",
       "...                           ...                        ...   \n",
       "249995                   0.555436                   0.581592   \n",
       "249996                   0.685357                   0.676409   \n",
       "249997                   0.269227                   0.353665   \n",
       "249998                   0.305746                   0.682462   \n",
       "249999                   0.646046                   0.708573   \n",
       "\n",
       "        EXTERNAL_SCORING_RATING_3  AMT_REQ_CREDIT_BUREAU_HOUR  \\\n",
       "0                        0.678568                    0.000000   \n",
       "1                        0.802745                    0.000000   \n",
       "2                        0.491579                    0.006862   \n",
       "3                        0.590233                    0.000000   \n",
       "4                        0.156640                    0.000000   \n",
       "...                           ...                         ...   \n",
       "249995                   0.048259                    0.000000   \n",
       "249996                   0.726711                    0.000000   \n",
       "249997                   0.283712                    0.000000   \n",
       "249998                   0.639708                    0.000000   \n",
       "249999                   0.528093                    0.000000   \n",
       "\n",
       "        AMT_REQ_CREDIT_BUREAU_DAY  AMT_REQ_CREDIT_BUREAU_WEEK  \\\n",
       "0                        0.000000                    0.000000   \n",
       "1                        0.000000                    0.000000   \n",
       "2                        0.006286                    0.034368   \n",
       "3                        0.000000                    0.000000   \n",
       "4                        0.000000                    1.000000   \n",
       "...                           ...                         ...   \n",
       "249995                   0.000000                    0.000000   \n",
       "249996                   0.000000                    0.000000   \n",
       "249997                   0.000000                    0.000000   \n",
       "249998                   0.000000                    0.000000   \n",
       "249999                   0.000000                    0.000000   \n",
       "\n",
       "        AMT_REQ_CREDIT_BUREAU_MON  AMT_REQ_CREDIT_BUREAU_QRT  \\\n",
       "0                        0.000000                   1.000000   \n",
       "1                        0.000000                   1.000000   \n",
       "2                        0.459342                   0.241681   \n",
       "3                        0.000000                   0.000000   \n",
       "4                        0.000000                   0.000000   \n",
       "...                           ...                        ...   \n",
       "249995                   0.000000                   1.000000   \n",
       "249996                   0.000000                   0.000000   \n",
       "249997                   0.000000                   1.000000   \n",
       "249998                   0.000000                   0.000000   \n",
       "249999                   0.000000                   0.000000   \n",
       "\n",
       "        AMT_REQ_CREDIT_BUREAU_YEAR  \n",
       "0                         2.000000  \n",
       "1                         1.000000  \n",
       "2                         1.972518  \n",
       "3                         3.000000  \n",
       "4                         6.000000  \n",
       "...                            ...  \n",
       "249995                    3.000000  \n",
       "249996                    0.000000  \n",
       "249997                    4.000000  \n",
       "249998                    3.000000  \n",
       "249999                    7.000000  \n",
       "\n",
       "[250000 rows x 24 columns]"
      ]
     },
     "execution_count": 105,
     "metadata": {},
     "output_type": "execute_result"
    }
   ],
   "source": [
    "client_profile"
   ]
  },
  {
   "cell_type": "code",
   "execution_count": 106,
   "id": "422caceb",
   "metadata": {},
   "outputs": [
    {
     "name": "stderr",
     "output_type": "stream",
     "text": [
      "C:\\Users\\Windows\\AppData\\Local\\Temp/ipykernel_10604/2666864051.py:1: FutureWarning: Sorting because non-concatenation axis is not aligned. A future version\n",
      "of pandas will change to not sort by default.\n",
      "\n",
      "To accept the future behavior, pass 'sort=False'.\n",
      "\n",
      "To retain the current behavior and silence the warning, pass 'sort=True'.\n",
      "\n",
      "  data=pd.concat([train,test],axis=0)\n"
     ]
    }
   ],
   "source": [
    "data=pd.concat([train,test],axis=0)\n",
    "data = data.reset_index(drop=True)"
   ]
  },
  {
   "cell_type": "code",
   "execution_count": 107,
   "id": "8829b7e4",
   "metadata": {},
   "outputs": [],
   "source": [
    "client_profile=create_client_profile_features(client_profile)"
   ]
  },
  {
   "cell_type": "code",
   "execution_count": 108,
   "id": "bbdb5093",
   "metadata": {},
   "outputs": [],
   "source": [
    "data=data.merge(client_profile, how=\"left\", on=\"APPLICATION_NUMBER\")"
   ]
  },
  {
   "cell_type": "code",
   "execution_count": 109,
   "id": "50905458",
   "metadata": {},
   "outputs": [
    {
     "data": {
      "text/plain": [
       "(275234, 70)"
      ]
     },
     "execution_count": 109,
     "metadata": {},
     "output_type": "execute_result"
    }
   ],
   "source": [
    "data.shape"
   ]
  },
  {
   "cell_type": "code",
   "execution_count": 110,
   "id": "fcf73876",
   "metadata": {},
   "outputs": [],
   "source": [
    "def get_splitted_data(data:pd.DataFrame, target_name:str, join_feature_name:str):\n",
    "                       \n",
    "    \"\"\"\n",
    "    Получить разбивку на train, test, target, test_id, categorical,numerical\n",
    "\n",
    "    Parameters\n",
    "    ----------\n",
    "    data: pd.DataFrame\n",
    "        Матрица признаков общаяя.\n",
    "   \n",
    "    target_name: str\n",
    "        имя поля целевого признака\n",
    "    \n",
    "    join_feature_name: str\n",
    "        имя поля признака по которому будем соединять тест\n",
    "\n",
    "\n",
    "    Returns\n",
    "    -------\n",
    "    train: pd.DataFrame\n",
    "        Полная часть - вся учебная выборка.\n",
    "\n",
    "    test: pd.DataFrame\n",
    "        Полная часть - вся тестовая выборка.\n",
    "        \n",
    "    target:pd.core.series.Series\n",
    "        значение целевой переменной\n",
    "        \n",
    "    test_id:pd.core.series.Series\n",
    "        значение признака по которому будем соединять тест\n",
    "    \n",
    "    categorical: list\n",
    "        Список имен полей категориальных признаков\n",
    "    \n",
    "    numerical: list\n",
    "        Список имен полей числовых признаков\n",
    "    \n",
    "        \n",
    "    \"\"\"\n",
    "    \n",
    "    mask=data[target_name].isnull()\n",
    "    feature_to_drop=[join_feature_name,target_name]\n",
    "\n",
    "    train,test=data.loc[~mask],data.loc[mask]\n",
    "\n",
    "    target,test_id=train[target_name],test[join_feature_name]\n",
    "    train=train.drop(feature_to_drop,axis=1)\n",
    "    test=test.drop(feature_to_drop,axis=1)\n",
    "\n",
    "    categorical = train.dtypes[train.dtypes==\"object\"].index.tolist()\n",
    "    numerical=list(set(train.columns)-set(categorical))\n",
    "\n",
    "    train=train.replace(np.inf,np.nan)\n",
    "    train=train.replace(-np.inf,np.nan)\n",
    "    \n",
    "    return train, test, target, test_id, categorical,numerical"
   ]
  },
  {
   "cell_type": "code",
   "execution_count": 111,
   "id": "1eaa48ff",
   "metadata": {},
   "outputs": [],
   "source": [
    "train, test, target, test_id, categorical,numerical = get_splitted_data(\n",
    "    data, target_name=\"TARGET\", join_feature_name=\"APPLICATION_NUMBER\")"
   ]
  },
  {
   "cell_type": "code",
   "execution_count": 112,
   "id": "5e9a1bc7",
   "metadata": {},
   "outputs": [],
   "source": [
    "lgbm_params = {\n",
    "    \"boosting_type\": \"gbdt\",\n",
    "    \"objective\": \"binary\",\n",
    "    \"metric\": \"auc\",\n",
    "    \"learning_rate\": 0.01,\n",
    "    \"n_estimators\": 10000,\n",
    "    \"n_jobs\": 7,\n",
    "    \"seed\": 27,\n",
    "    \"early_stopping_rounds\":500,\n",
    "    'num_leaves': 57,\n",
    "    'max_depth': 8,\n",
    "    'subsample_for_bin': 240000,\n",
    "    'reg_alpha': 0.436193,\n",
    "    'reg_lambda': 0.479169,\n",
    "    'colsample_bytree': 0.508716,\n",
    "    'min_split_gain': 0.024766,\n",
    "    'subsample': 0.7,\n",
    "    'is_unbalance': False,\n",
    "    'random_state': 27,\n",
    "}"
   ]
  },
  {
   "cell_type": "code",
   "execution_count": 113,
   "id": "d5a0c7a3",
   "metadata": {},
   "outputs": [],
   "source": [
    "train[categorical]=train[categorical].fillna('NA')\n",
    "test[categorical]=test[categorical].fillna('NA')"
   ]
  },
  {
   "cell_type": "code",
   "execution_count": 114,
   "id": "3a0518a7",
   "metadata": {},
   "outputs": [],
   "source": [
    "for c in categorical:\n",
    "    train[c] = train[c].astype('category')\n",
    "for c in categorical:\n",
    "    test[c] = test[c].astype('category')"
   ]
  },
  {
   "cell_type": "code",
   "execution_count": 41,
   "id": "17c0306b",
   "metadata": {},
   "outputs": [],
   "source": [
    " model = lgb.LGBMClassifier(**lgbm_params)"
   ]
  },
  {
   "cell_type": "code",
   "execution_count": 42,
   "id": "98ef79ca",
   "metadata": {},
   "outputs": [
    {
     "name": "stderr",
     "output_type": "stream",
     "text": [
      "C:\\Users\\Windows\\.conda\\envs\\tf\\lib\\site-packages\\lightgbm\\sklearn.py:726: UserWarning: 'early_stopping_rounds' argument is deprecated and will be removed in a future release of LightGBM. Pass 'early_stopping()' callback via 'callbacks' argument instead.\n",
      "  _log_warning(\"'early_stopping_rounds' argument is deprecated and will be removed in a future release of LightGBM. \"\n",
      "C:\\Users\\Windows\\.conda\\envs\\tf\\lib\\site-packages\\lightgbm\\sklearn.py:736: UserWarning: 'verbose' argument is deprecated and will be removed in a future release of LightGBM. Pass 'log_evaluation()' callback via 'callbacks' argument instead.\n",
      "  _log_warning(\"'verbose' argument is deprecated and will be removed in a future release of LightGBM. \"\n",
      "C:\\Users\\Windows\\.conda\\envs\\tf\\lib\\site-packages\\lightgbm\\basic.py:2065: UserWarning: Using categorical_feature in Dataset.\n",
      "  _log_warning('Using categorical_feature in Dataset.')\n",
      "C:\\Users\\Windows\\.conda\\envs\\tf\\lib\\site-packages\\lightgbm\\basic.py:2068: UserWarning: categorical_feature in Dataset is overridden.\n",
      "New categorical_feature is ['EDUCATION_LEVEL', 'EXTERNAL_SCORING_RATING_1_IS_NAN', 'EXTERNAL_SCORING_RATING_2_IS_NAN', 'EXTERNAL_SCORING_RATING_3_IS_NAN', 'FAMILY_STATUS', 'GENDER', 'NAME_CONTRACT_TYPE']\n",
      "  _log_warning('categorical_feature in Dataset is overridden.\\n'\n"
     ]
    },
    {
     "name": "stdout",
     "output_type": "stream",
     "text": [
      "[LightGBM] [Warning] seed is set=27, random_state=27 will be ignored. Current value: seed=27\n",
      "[LightGBM] [Warning] early_stopping_round is set=500, early_stopping_rounds=500 will be ignored. Current value: early_stopping_round=500\n"
     ]
    },
    {
     "name": "stderr",
     "output_type": "stream",
     "text": [
      "C:\\Users\\Windows\\.conda\\envs\\tf\\lib\\site-packages\\lightgbm\\basic.py:1780: UserWarning: Overriding the parameters from Reference Dataset.\n",
      "  _log_warning('Overriding the parameters from Reference Dataset.')\n",
      "C:\\Users\\Windows\\.conda\\envs\\tf\\lib\\site-packages\\lightgbm\\basic.py:1513: UserWarning: categorical_column in param dict is overridden.\n",
      "  _log_warning(f'{cat_alias} in param dict is overridden.')\n"
     ]
    },
    {
     "name": "stdout",
     "output_type": "stream",
     "text": [
      "[200]\ttraining's auc: 0.763778\tvalid_1's auc: 0.714125\n",
      "[400]\ttraining's auc: 0.794745\tvalid_1's auc: 0.720975\n",
      "[600]\ttraining's auc: 0.818907\tvalid_1's auc: 0.724648\n",
      "[800]\ttraining's auc: 0.83728\tvalid_1's auc: 0.724385\n",
      "[1000]\ttraining's auc: 0.853685\tvalid_1's auc: 0.724267\n",
      "Fold: 1, train-observations = 104588, valid-observations = 5505\n",
      "train-score = 0.8205, valid-score = 0.7253\n",
      "=====================================================================\n",
      "[LightGBM] [Warning] seed is set=27, random_state=27 will be ignored. Current value: seed=27\n",
      "[LightGBM] [Warning] early_stopping_round is set=500, early_stopping_rounds=500 will be ignored. Current value: early_stopping_round=500\n"
     ]
    },
    {
     "name": "stderr",
     "output_type": "stream",
     "text": [
      "C:\\Users\\Windows\\.conda\\envs\\tf\\lib\\site-packages\\lightgbm\\sklearn.py:726: UserWarning: 'early_stopping_rounds' argument is deprecated and will be removed in a future release of LightGBM. Pass 'early_stopping()' callback via 'callbacks' argument instead.\n",
      "  _log_warning(\"'early_stopping_rounds' argument is deprecated and will be removed in a future release of LightGBM. \"\n",
      "C:\\Users\\Windows\\.conda\\envs\\tf\\lib\\site-packages\\lightgbm\\sklearn.py:736: UserWarning: 'verbose' argument is deprecated and will be removed in a future release of LightGBM. Pass 'log_evaluation()' callback via 'callbacks' argument instead.\n",
      "  _log_warning(\"'verbose' argument is deprecated and will be removed in a future release of LightGBM. \"\n",
      "C:\\Users\\Windows\\.conda\\envs\\tf\\lib\\site-packages\\lightgbm\\basic.py:2065: UserWarning: Using categorical_feature in Dataset.\n",
      "  _log_warning('Using categorical_feature in Dataset.')\n",
      "C:\\Users\\Windows\\.conda\\envs\\tf\\lib\\site-packages\\lightgbm\\basic.py:2068: UserWarning: categorical_feature in Dataset is overridden.\n",
      "New categorical_feature is ['EDUCATION_LEVEL', 'EXTERNAL_SCORING_RATING_1_IS_NAN', 'EXTERNAL_SCORING_RATING_2_IS_NAN', 'EXTERNAL_SCORING_RATING_3_IS_NAN', 'FAMILY_STATUS', 'GENDER', 'NAME_CONTRACT_TYPE']\n",
      "  _log_warning('categorical_feature in Dataset is overridden.\\n'\n",
      "C:\\Users\\Windows\\.conda\\envs\\tf\\lib\\site-packages\\lightgbm\\basic.py:1780: UserWarning: Overriding the parameters from Reference Dataset.\n",
      "  _log_warning('Overriding the parameters from Reference Dataset.')\n",
      "C:\\Users\\Windows\\.conda\\envs\\tf\\lib\\site-packages\\lightgbm\\basic.py:1513: UserWarning: categorical_column in param dict is overridden.\n",
      "  _log_warning(f'{cat_alias} in param dict is overridden.')\n"
     ]
    },
    {
     "name": "stdout",
     "output_type": "stream",
     "text": [
      "[200]\ttraining's auc: 0.76439\tvalid_1's auc: 0.708987\n",
      "[400]\ttraining's auc: 0.795177\tvalid_1's auc: 0.720182\n",
      "[600]\ttraining's auc: 0.819345\tvalid_1's auc: 0.722238\n",
      "[800]\ttraining's auc: 0.838071\tvalid_1's auc: 0.721496\n",
      "[1000]\ttraining's auc: 0.853672\tvalid_1's auc: 0.721613\n",
      "[1200]\ttraining's auc: 0.868552\tvalid_1's auc: 0.721556\n",
      "[1400]\ttraining's auc: 0.882609\tvalid_1's auc: 0.720887\n",
      "Fold: 2, train-observations = 104588, valid-observations = 5505\n",
      "train-score = 0.8556, valid-score = 0.7227\n",
      "=====================================================================\n",
      "[LightGBM] [Warning] seed is set=27, random_state=27 will be ignored. Current value: seed=27\n",
      "[LightGBM] [Warning] early_stopping_round is set=500, early_stopping_rounds=500 will be ignored. Current value: early_stopping_round=500\n"
     ]
    },
    {
     "name": "stderr",
     "output_type": "stream",
     "text": [
      "C:\\Users\\Windows\\.conda\\envs\\tf\\lib\\site-packages\\lightgbm\\sklearn.py:726: UserWarning: 'early_stopping_rounds' argument is deprecated and will be removed in a future release of LightGBM. Pass 'early_stopping()' callback via 'callbacks' argument instead.\n",
      "  _log_warning(\"'early_stopping_rounds' argument is deprecated and will be removed in a future release of LightGBM. \"\n",
      "C:\\Users\\Windows\\.conda\\envs\\tf\\lib\\site-packages\\lightgbm\\sklearn.py:736: UserWarning: 'verbose' argument is deprecated and will be removed in a future release of LightGBM. Pass 'log_evaluation()' callback via 'callbacks' argument instead.\n",
      "  _log_warning(\"'verbose' argument is deprecated and will be removed in a future release of LightGBM. \"\n",
      "C:\\Users\\Windows\\.conda\\envs\\tf\\lib\\site-packages\\lightgbm\\basic.py:2065: UserWarning: Using categorical_feature in Dataset.\n",
      "  _log_warning('Using categorical_feature in Dataset.')\n",
      "C:\\Users\\Windows\\.conda\\envs\\tf\\lib\\site-packages\\lightgbm\\basic.py:2068: UserWarning: categorical_feature in Dataset is overridden.\n",
      "New categorical_feature is ['EDUCATION_LEVEL', 'EXTERNAL_SCORING_RATING_1_IS_NAN', 'EXTERNAL_SCORING_RATING_2_IS_NAN', 'EXTERNAL_SCORING_RATING_3_IS_NAN', 'FAMILY_STATUS', 'GENDER', 'NAME_CONTRACT_TYPE']\n",
      "  _log_warning('categorical_feature in Dataset is overridden.\\n'\n",
      "C:\\Users\\Windows\\.conda\\envs\\tf\\lib\\site-packages\\lightgbm\\basic.py:1780: UserWarning: Overriding the parameters from Reference Dataset.\n",
      "  _log_warning('Overriding the parameters from Reference Dataset.')\n",
      "C:\\Users\\Windows\\.conda\\envs\\tf\\lib\\site-packages\\lightgbm\\basic.py:1513: UserWarning: categorical_column in param dict is overridden.\n",
      "  _log_warning(f'{cat_alias} in param dict is overridden.')\n"
     ]
    },
    {
     "name": "stdout",
     "output_type": "stream",
     "text": [
      "[200]\ttraining's auc: 0.764518\tvalid_1's auc: 0.729777\n",
      "[400]\ttraining's auc: 0.795023\tvalid_1's auc: 0.728227\n",
      "[600]\ttraining's auc: 0.817831\tvalid_1's auc: 0.728307\n",
      "Fold: 3, train-observations = 104588, valid-observations = 5505\n",
      "train-score = 0.7645, valid-score = 0.7298\n",
      "=====================================================================\n",
      "[LightGBM] [Warning] seed is set=27, random_state=27 will be ignored. Current value: seed=27\n",
      "[LightGBM] [Warning] early_stopping_round is set=500, early_stopping_rounds=500 will be ignored. Current value: early_stopping_round=500\n"
     ]
    },
    {
     "name": "stderr",
     "output_type": "stream",
     "text": [
      "C:\\Users\\Windows\\.conda\\envs\\tf\\lib\\site-packages\\lightgbm\\sklearn.py:726: UserWarning: 'early_stopping_rounds' argument is deprecated and will be removed in a future release of LightGBM. Pass 'early_stopping()' callback via 'callbacks' argument instead.\n",
      "  _log_warning(\"'early_stopping_rounds' argument is deprecated and will be removed in a future release of LightGBM. \"\n",
      "C:\\Users\\Windows\\.conda\\envs\\tf\\lib\\site-packages\\lightgbm\\sklearn.py:736: UserWarning: 'verbose' argument is deprecated and will be removed in a future release of LightGBM. Pass 'log_evaluation()' callback via 'callbacks' argument instead.\n",
      "  _log_warning(\"'verbose' argument is deprecated and will be removed in a future release of LightGBM. \"\n",
      "C:\\Users\\Windows\\.conda\\envs\\tf\\lib\\site-packages\\lightgbm\\basic.py:2065: UserWarning: Using categorical_feature in Dataset.\n",
      "  _log_warning('Using categorical_feature in Dataset.')\n",
      "C:\\Users\\Windows\\.conda\\envs\\tf\\lib\\site-packages\\lightgbm\\basic.py:2068: UserWarning: categorical_feature in Dataset is overridden.\n",
      "New categorical_feature is ['EDUCATION_LEVEL', 'EXTERNAL_SCORING_RATING_1_IS_NAN', 'EXTERNAL_SCORING_RATING_2_IS_NAN', 'EXTERNAL_SCORING_RATING_3_IS_NAN', 'FAMILY_STATUS', 'GENDER', 'NAME_CONTRACT_TYPE']\n",
      "  _log_warning('categorical_feature in Dataset is overridden.\\n'\n",
      "C:\\Users\\Windows\\.conda\\envs\\tf\\lib\\site-packages\\lightgbm\\basic.py:1780: UserWarning: Overriding the parameters from Reference Dataset.\n",
      "  _log_warning('Overriding the parameters from Reference Dataset.')\n",
      "C:\\Users\\Windows\\.conda\\envs\\tf\\lib\\site-packages\\lightgbm\\basic.py:1513: UserWarning: categorical_column in param dict is overridden.\n",
      "  _log_warning(f'{cat_alias} in param dict is overridden.')\n"
     ]
    },
    {
     "name": "stdout",
     "output_type": "stream",
     "text": [
      "[200]\ttraining's auc: 0.763873\tvalid_1's auc: 0.722738\n",
      "[400]\ttraining's auc: 0.794693\tvalid_1's auc: 0.7308\n",
      "[600]\ttraining's auc: 0.818078\tvalid_1's auc: 0.732849\n",
      "[800]\ttraining's auc: 0.836817\tvalid_1's auc: 0.732825\n",
      "[1000]\ttraining's auc: 0.852839\tvalid_1's auc: 0.734248\n",
      "[1200]\ttraining's auc: 0.866708\tvalid_1's auc: 0.733525\n",
      "[1400]\ttraining's auc: 0.879059\tvalid_1's auc: 0.73404\n",
      "Fold: 4, train-observations = 104588, valid-observations = 5505\n",
      "train-score = 0.8578, valid-score = 0.735\n",
      "=====================================================================\n",
      "[LightGBM] [Warning] seed is set=27, random_state=27 will be ignored. Current value: seed=27\n",
      "[LightGBM] [Warning] early_stopping_round is set=500, early_stopping_rounds=500 will be ignored. Current value: early_stopping_round=500\n"
     ]
    },
    {
     "name": "stderr",
     "output_type": "stream",
     "text": [
      "C:\\Users\\Windows\\.conda\\envs\\tf\\lib\\site-packages\\lightgbm\\sklearn.py:726: UserWarning: 'early_stopping_rounds' argument is deprecated and will be removed in a future release of LightGBM. Pass 'early_stopping()' callback via 'callbacks' argument instead.\n",
      "  _log_warning(\"'early_stopping_rounds' argument is deprecated and will be removed in a future release of LightGBM. \"\n",
      "C:\\Users\\Windows\\.conda\\envs\\tf\\lib\\site-packages\\lightgbm\\sklearn.py:736: UserWarning: 'verbose' argument is deprecated and will be removed in a future release of LightGBM. Pass 'log_evaluation()' callback via 'callbacks' argument instead.\n",
      "  _log_warning(\"'verbose' argument is deprecated and will be removed in a future release of LightGBM. \"\n",
      "C:\\Users\\Windows\\.conda\\envs\\tf\\lib\\site-packages\\lightgbm\\basic.py:2065: UserWarning: Using categorical_feature in Dataset.\n",
      "  _log_warning('Using categorical_feature in Dataset.')\n",
      "C:\\Users\\Windows\\.conda\\envs\\tf\\lib\\site-packages\\lightgbm\\basic.py:2068: UserWarning: categorical_feature in Dataset is overridden.\n",
      "New categorical_feature is ['EDUCATION_LEVEL', 'EXTERNAL_SCORING_RATING_1_IS_NAN', 'EXTERNAL_SCORING_RATING_2_IS_NAN', 'EXTERNAL_SCORING_RATING_3_IS_NAN', 'FAMILY_STATUS', 'GENDER', 'NAME_CONTRACT_TYPE']\n",
      "  _log_warning('categorical_feature in Dataset is overridden.\\n'\n",
      "C:\\Users\\Windows\\.conda\\envs\\tf\\lib\\site-packages\\lightgbm\\basic.py:1780: UserWarning: Overriding the parameters from Reference Dataset.\n",
      "  _log_warning('Overriding the parameters from Reference Dataset.')\n",
      "C:\\Users\\Windows\\.conda\\envs\\tf\\lib\\site-packages\\lightgbm\\basic.py:1513: UserWarning: categorical_column in param dict is overridden.\n",
      "  _log_warning(f'{cat_alias} in param dict is overridden.')\n"
     ]
    },
    {
     "name": "stdout",
     "output_type": "stream",
     "text": [
      "[200]\ttraining's auc: 0.763852\tvalid_1's auc: 0.721292\n",
      "[400]\ttraining's auc: 0.795315\tvalid_1's auc: 0.727147\n",
      "[600]\ttraining's auc: 0.820651\tvalid_1's auc: 0.728892\n",
      "[800]\ttraining's auc: 0.840483\tvalid_1's auc: 0.730595\n",
      "[1000]\ttraining's auc: 0.857289\tvalid_1's auc: 0.732093\n",
      "[1200]\ttraining's auc: 0.871711\tvalid_1's auc: 0.732016\n",
      "[1400]\ttraining's auc: 0.884016\tvalid_1's auc: 0.729525\n",
      "Fold: 5, train-observations = 104588, valid-observations = 5505\n",
      "train-score = 0.8624, valid-score = 0.7332\n",
      "=====================================================================\n",
      "[LightGBM] [Warning] seed is set=27, random_state=27 will be ignored. Current value: seed=27\n",
      "[LightGBM] [Warning] early_stopping_round is set=500, early_stopping_rounds=500 will be ignored. Current value: early_stopping_round=500\n"
     ]
    },
    {
     "name": "stderr",
     "output_type": "stream",
     "text": [
      "C:\\Users\\Windows\\.conda\\envs\\tf\\lib\\site-packages\\lightgbm\\sklearn.py:726: UserWarning: 'early_stopping_rounds' argument is deprecated and will be removed in a future release of LightGBM. Pass 'early_stopping()' callback via 'callbacks' argument instead.\n",
      "  _log_warning(\"'early_stopping_rounds' argument is deprecated and will be removed in a future release of LightGBM. \"\n",
      "C:\\Users\\Windows\\.conda\\envs\\tf\\lib\\site-packages\\lightgbm\\sklearn.py:736: UserWarning: 'verbose' argument is deprecated and will be removed in a future release of LightGBM. Pass 'log_evaluation()' callback via 'callbacks' argument instead.\n",
      "  _log_warning(\"'verbose' argument is deprecated and will be removed in a future release of LightGBM. \"\n",
      "C:\\Users\\Windows\\.conda\\envs\\tf\\lib\\site-packages\\lightgbm\\basic.py:2065: UserWarning: Using categorical_feature in Dataset.\n",
      "  _log_warning('Using categorical_feature in Dataset.')\n",
      "C:\\Users\\Windows\\.conda\\envs\\tf\\lib\\site-packages\\lightgbm\\basic.py:2068: UserWarning: categorical_feature in Dataset is overridden.\n",
      "New categorical_feature is ['EDUCATION_LEVEL', 'EXTERNAL_SCORING_RATING_1_IS_NAN', 'EXTERNAL_SCORING_RATING_2_IS_NAN', 'EXTERNAL_SCORING_RATING_3_IS_NAN', 'FAMILY_STATUS', 'GENDER', 'NAME_CONTRACT_TYPE']\n",
      "  _log_warning('categorical_feature in Dataset is overridden.\\n'\n",
      "C:\\Users\\Windows\\.conda\\envs\\tf\\lib\\site-packages\\lightgbm\\basic.py:1780: UserWarning: Overriding the parameters from Reference Dataset.\n",
      "  _log_warning('Overriding the parameters from Reference Dataset.')\n",
      "C:\\Users\\Windows\\.conda\\envs\\tf\\lib\\site-packages\\lightgbm\\basic.py:1513: UserWarning: categorical_column in param dict is overridden.\n",
      "  _log_warning(f'{cat_alias} in param dict is overridden.')\n"
     ]
    },
    {
     "name": "stdout",
     "output_type": "stream",
     "text": [
      "[200]\ttraining's auc: 0.763932\tvalid_1's auc: 0.720072\n",
      "[400]\ttraining's auc: 0.794204\tvalid_1's auc: 0.724287\n",
      "[600]\ttraining's auc: 0.817141\tvalid_1's auc: 0.725402\n",
      "[800]\ttraining's auc: 0.835235\tvalid_1's auc: 0.72458\n",
      "[1000]\ttraining's auc: 0.851741\tvalid_1's auc: 0.723413\n",
      "Fold: 6, train-observations = 104588, valid-observations = 5505\n",
      "train-score = 0.8216, valid-score = 0.7257\n",
      "=====================================================================\n",
      "[LightGBM] [Warning] seed is set=27, random_state=27 will be ignored. Current value: seed=27\n",
      "[LightGBM] [Warning] early_stopping_round is set=500, early_stopping_rounds=500 will be ignored. Current value: early_stopping_round=500\n"
     ]
    },
    {
     "name": "stderr",
     "output_type": "stream",
     "text": [
      "C:\\Users\\Windows\\.conda\\envs\\tf\\lib\\site-packages\\lightgbm\\sklearn.py:726: UserWarning: 'early_stopping_rounds' argument is deprecated and will be removed in a future release of LightGBM. Pass 'early_stopping()' callback via 'callbacks' argument instead.\n",
      "  _log_warning(\"'early_stopping_rounds' argument is deprecated and will be removed in a future release of LightGBM. \"\n",
      "C:\\Users\\Windows\\.conda\\envs\\tf\\lib\\site-packages\\lightgbm\\sklearn.py:736: UserWarning: 'verbose' argument is deprecated and will be removed in a future release of LightGBM. Pass 'log_evaluation()' callback via 'callbacks' argument instead.\n",
      "  _log_warning(\"'verbose' argument is deprecated and will be removed in a future release of LightGBM. \"\n",
      "C:\\Users\\Windows\\.conda\\envs\\tf\\lib\\site-packages\\lightgbm\\basic.py:2065: UserWarning: Using categorical_feature in Dataset.\n",
      "  _log_warning('Using categorical_feature in Dataset.')\n",
      "C:\\Users\\Windows\\.conda\\envs\\tf\\lib\\site-packages\\lightgbm\\basic.py:2068: UserWarning: categorical_feature in Dataset is overridden.\n",
      "New categorical_feature is ['EDUCATION_LEVEL', 'EXTERNAL_SCORING_RATING_1_IS_NAN', 'EXTERNAL_SCORING_RATING_2_IS_NAN', 'EXTERNAL_SCORING_RATING_3_IS_NAN', 'FAMILY_STATUS', 'GENDER', 'NAME_CONTRACT_TYPE']\n",
      "  _log_warning('categorical_feature in Dataset is overridden.\\n'\n",
      "C:\\Users\\Windows\\.conda\\envs\\tf\\lib\\site-packages\\lightgbm\\basic.py:1780: UserWarning: Overriding the parameters from Reference Dataset.\n",
      "  _log_warning('Overriding the parameters from Reference Dataset.')\n",
      "C:\\Users\\Windows\\.conda\\envs\\tf\\lib\\site-packages\\lightgbm\\basic.py:1513: UserWarning: categorical_column in param dict is overridden.\n",
      "  _log_warning(f'{cat_alias} in param dict is overridden.')\n"
     ]
    },
    {
     "name": "stdout",
     "output_type": "stream",
     "text": [
      "[200]\ttraining's auc: 0.76329\tvalid_1's auc: 0.728688\n",
      "[400]\ttraining's auc: 0.794275\tvalid_1's auc: 0.733198\n",
      "[600]\ttraining's auc: 0.817262\tvalid_1's auc: 0.737553\n",
      "[800]\ttraining's auc: 0.835705\tvalid_1's auc: 0.737476\n",
      "[1000]\ttraining's auc: 0.85208\tvalid_1's auc: 0.740141\n",
      "[1200]\ttraining's auc: 0.866924\tvalid_1's auc: 0.741652\n",
      "[1400]\ttraining's auc: 0.880361\tvalid_1's auc: 0.741741\n",
      "[1600]\ttraining's auc: 0.890674\tvalid_1's auc: 0.742276\n",
      "[1800]\ttraining's auc: 0.900122\tvalid_1's auc: 0.741509\n",
      "[2000]\ttraining's auc: 0.908849\tvalid_1's auc: 0.743262\n",
      "[2200]\ttraining's auc: 0.916071\tvalid_1's auc: 0.7429\n",
      "[2400]\ttraining's auc: 0.921747\tvalid_1's auc: 0.742688\n",
      "Fold: 7, train-observations = 104588, valid-observations = 5505\n",
      "train-score = 0.9095, valid-score = 0.7443\n",
      "=====================================================================\n",
      "[LightGBM] [Warning] seed is set=27, random_state=27 will be ignored. Current value: seed=27\n",
      "[LightGBM] [Warning] early_stopping_round is set=500, early_stopping_rounds=500 will be ignored. Current value: early_stopping_round=500\n"
     ]
    },
    {
     "name": "stderr",
     "output_type": "stream",
     "text": [
      "C:\\Users\\Windows\\.conda\\envs\\tf\\lib\\site-packages\\lightgbm\\sklearn.py:726: UserWarning: 'early_stopping_rounds' argument is deprecated and will be removed in a future release of LightGBM. Pass 'early_stopping()' callback via 'callbacks' argument instead.\n",
      "  _log_warning(\"'early_stopping_rounds' argument is deprecated and will be removed in a future release of LightGBM. \"\n",
      "C:\\Users\\Windows\\.conda\\envs\\tf\\lib\\site-packages\\lightgbm\\sklearn.py:736: UserWarning: 'verbose' argument is deprecated and will be removed in a future release of LightGBM. Pass 'log_evaluation()' callback via 'callbacks' argument instead.\n",
      "  _log_warning(\"'verbose' argument is deprecated and will be removed in a future release of LightGBM. \"\n",
      "C:\\Users\\Windows\\.conda\\envs\\tf\\lib\\site-packages\\lightgbm\\basic.py:2065: UserWarning: Using categorical_feature in Dataset.\n",
      "  _log_warning('Using categorical_feature in Dataset.')\n",
      "C:\\Users\\Windows\\.conda\\envs\\tf\\lib\\site-packages\\lightgbm\\basic.py:2068: UserWarning: categorical_feature in Dataset is overridden.\n",
      "New categorical_feature is ['EDUCATION_LEVEL', 'EXTERNAL_SCORING_RATING_1_IS_NAN', 'EXTERNAL_SCORING_RATING_2_IS_NAN', 'EXTERNAL_SCORING_RATING_3_IS_NAN', 'FAMILY_STATUS', 'GENDER', 'NAME_CONTRACT_TYPE']\n",
      "  _log_warning('categorical_feature in Dataset is overridden.\\n'\n",
      "C:\\Users\\Windows\\.conda\\envs\\tf\\lib\\site-packages\\lightgbm\\basic.py:1780: UserWarning: Overriding the parameters from Reference Dataset.\n",
      "  _log_warning('Overriding the parameters from Reference Dataset.')\n",
      "C:\\Users\\Windows\\.conda\\envs\\tf\\lib\\site-packages\\lightgbm\\basic.py:1513: UserWarning: categorical_column in param dict is overridden.\n",
      "  _log_warning(f'{cat_alias} in param dict is overridden.')\n"
     ]
    },
    {
     "name": "stdout",
     "output_type": "stream",
     "text": [
      "[200]\ttraining's auc: 0.762998\tvalid_1's auc: 0.73328\n",
      "[400]\ttraining's auc: 0.794124\tvalid_1's auc: 0.741468\n",
      "[600]\ttraining's auc: 0.816972\tvalid_1's auc: 0.741595\n",
      "[800]\ttraining's auc: 0.836158\tvalid_1's auc: 0.74399\n",
      "[1000]\ttraining's auc: 0.852434\tvalid_1's auc: 0.740913\n",
      "[1200]\ttraining's auc: 0.866914\tvalid_1's auc: 0.741101\n",
      "Fold: 8, train-observations = 104588, valid-observations = 5505\n",
      "train-score = 0.8375, valid-score = 0.7441\n",
      "=====================================================================\n",
      "[LightGBM] [Warning] seed is set=27, random_state=27 will be ignored. Current value: seed=27\n",
      "[LightGBM] [Warning] early_stopping_round is set=500, early_stopping_rounds=500 will be ignored. Current value: early_stopping_round=500\n"
     ]
    },
    {
     "name": "stderr",
     "output_type": "stream",
     "text": [
      "C:\\Users\\Windows\\.conda\\envs\\tf\\lib\\site-packages\\lightgbm\\sklearn.py:726: UserWarning: 'early_stopping_rounds' argument is deprecated and will be removed in a future release of LightGBM. Pass 'early_stopping()' callback via 'callbacks' argument instead.\n",
      "  _log_warning(\"'early_stopping_rounds' argument is deprecated and will be removed in a future release of LightGBM. \"\n",
      "C:\\Users\\Windows\\.conda\\envs\\tf\\lib\\site-packages\\lightgbm\\sklearn.py:736: UserWarning: 'verbose' argument is deprecated and will be removed in a future release of LightGBM. Pass 'log_evaluation()' callback via 'callbacks' argument instead.\n",
      "  _log_warning(\"'verbose' argument is deprecated and will be removed in a future release of LightGBM. \"\n",
      "C:\\Users\\Windows\\.conda\\envs\\tf\\lib\\site-packages\\lightgbm\\basic.py:2065: UserWarning: Using categorical_feature in Dataset.\n",
      "  _log_warning('Using categorical_feature in Dataset.')\n",
      "C:\\Users\\Windows\\.conda\\envs\\tf\\lib\\site-packages\\lightgbm\\basic.py:2068: UserWarning: categorical_feature in Dataset is overridden.\n",
      "New categorical_feature is ['EDUCATION_LEVEL', 'EXTERNAL_SCORING_RATING_1_IS_NAN', 'EXTERNAL_SCORING_RATING_2_IS_NAN', 'EXTERNAL_SCORING_RATING_3_IS_NAN', 'FAMILY_STATUS', 'GENDER', 'NAME_CONTRACT_TYPE']\n",
      "  _log_warning('categorical_feature in Dataset is overridden.\\n'\n",
      "C:\\Users\\Windows\\.conda\\envs\\tf\\lib\\site-packages\\lightgbm\\basic.py:1780: UserWarning: Overriding the parameters from Reference Dataset.\n",
      "  _log_warning('Overriding the parameters from Reference Dataset.')\n",
      "C:\\Users\\Windows\\.conda\\envs\\tf\\lib\\site-packages\\lightgbm\\basic.py:1513: UserWarning: categorical_column in param dict is overridden.\n",
      "  _log_warning(f'{cat_alias} in param dict is overridden.')\n"
     ]
    },
    {
     "name": "stdout",
     "output_type": "stream",
     "text": [
      "[200]\ttraining's auc: 0.763938\tvalid_1's auc: 0.72068\n",
      "[400]\ttraining's auc: 0.793707\tvalid_1's auc: 0.726561\n",
      "[600]\ttraining's auc: 0.815615\tvalid_1's auc: 0.727318\n",
      "[800]\ttraining's auc: 0.834231\tvalid_1's auc: 0.728993\n",
      "[1000]\ttraining's auc: 0.852016\tvalid_1's auc: 0.72898\n",
      "[1200]\ttraining's auc: 0.86626\tvalid_1's auc: 0.726883\n",
      "Fold: 9, train-observations = 104588, valid-observations = 5505\n",
      "train-score = 0.8415, valid-score = 0.7295\n",
      "=====================================================================\n",
      "[LightGBM] [Warning] seed is set=27, random_state=27 will be ignored. Current value: seed=27\n",
      "[LightGBM] [Warning] early_stopping_round is set=500, early_stopping_rounds=500 will be ignored. Current value: early_stopping_round=500\n"
     ]
    },
    {
     "name": "stderr",
     "output_type": "stream",
     "text": [
      "C:\\Users\\Windows\\.conda\\envs\\tf\\lib\\site-packages\\lightgbm\\sklearn.py:726: UserWarning: 'early_stopping_rounds' argument is deprecated and will be removed in a future release of LightGBM. Pass 'early_stopping()' callback via 'callbacks' argument instead.\n",
      "  _log_warning(\"'early_stopping_rounds' argument is deprecated and will be removed in a future release of LightGBM. \"\n",
      "C:\\Users\\Windows\\.conda\\envs\\tf\\lib\\site-packages\\lightgbm\\sklearn.py:736: UserWarning: 'verbose' argument is deprecated and will be removed in a future release of LightGBM. Pass 'log_evaluation()' callback via 'callbacks' argument instead.\n",
      "  _log_warning(\"'verbose' argument is deprecated and will be removed in a future release of LightGBM. \"\n",
      "C:\\Users\\Windows\\.conda\\envs\\tf\\lib\\site-packages\\lightgbm\\basic.py:2065: UserWarning: Using categorical_feature in Dataset.\n",
      "  _log_warning('Using categorical_feature in Dataset.')\n",
      "C:\\Users\\Windows\\.conda\\envs\\tf\\lib\\site-packages\\lightgbm\\basic.py:2068: UserWarning: categorical_feature in Dataset is overridden.\n",
      "New categorical_feature is ['EDUCATION_LEVEL', 'EXTERNAL_SCORING_RATING_1_IS_NAN', 'EXTERNAL_SCORING_RATING_2_IS_NAN', 'EXTERNAL_SCORING_RATING_3_IS_NAN', 'FAMILY_STATUS', 'GENDER', 'NAME_CONTRACT_TYPE']\n",
      "  _log_warning('categorical_feature in Dataset is overridden.\\n'\n",
      "C:\\Users\\Windows\\.conda\\envs\\tf\\lib\\site-packages\\lightgbm\\basic.py:1780: UserWarning: Overriding the parameters from Reference Dataset.\n",
      "  _log_warning('Overriding the parameters from Reference Dataset.')\n",
      "C:\\Users\\Windows\\.conda\\envs\\tf\\lib\\site-packages\\lightgbm\\basic.py:1513: UserWarning: categorical_column in param dict is overridden.\n",
      "  _log_warning(f'{cat_alias} in param dict is overridden.')\n"
     ]
    },
    {
     "name": "stdout",
     "output_type": "stream",
     "text": [
      "[200]\ttraining's auc: 0.764002\tvalid_1's auc: 0.730111\n",
      "[400]\ttraining's auc: 0.794596\tvalid_1's auc: 0.736568\n",
      "[600]\ttraining's auc: 0.818201\tvalid_1's auc: 0.739867\n",
      "[800]\ttraining's auc: 0.836942\tvalid_1's auc: 0.740072\n",
      "[1000]\ttraining's auc: 0.853161\tvalid_1's auc: 0.741826\n",
      "[1200]\ttraining's auc: 0.867109\tvalid_1's auc: 0.740639\n",
      "[1400]\ttraining's auc: 0.879673\tvalid_1's auc: 0.739896\n",
      "Fold: 10, train-observations = 104588, valid-observations = 5505\n",
      "train-score = 0.8548, valid-score = 0.7425\n",
      "=====================================================================\n",
      "[LightGBM] [Warning] seed is set=27, random_state=27 will be ignored. Current value: seed=27\n",
      "[LightGBM] [Warning] early_stopping_round is set=500, early_stopping_rounds=500 will be ignored. Current value: early_stopping_round=500\n"
     ]
    },
    {
     "name": "stderr",
     "output_type": "stream",
     "text": [
      "C:\\Users\\Windows\\.conda\\envs\\tf\\lib\\site-packages\\lightgbm\\sklearn.py:726: UserWarning: 'early_stopping_rounds' argument is deprecated and will be removed in a future release of LightGBM. Pass 'early_stopping()' callback via 'callbacks' argument instead.\n",
      "  _log_warning(\"'early_stopping_rounds' argument is deprecated and will be removed in a future release of LightGBM. \"\n",
      "C:\\Users\\Windows\\.conda\\envs\\tf\\lib\\site-packages\\lightgbm\\sklearn.py:736: UserWarning: 'verbose' argument is deprecated and will be removed in a future release of LightGBM. Pass 'log_evaluation()' callback via 'callbacks' argument instead.\n",
      "  _log_warning(\"'verbose' argument is deprecated and will be removed in a future release of LightGBM. \"\n",
      "C:\\Users\\Windows\\.conda\\envs\\tf\\lib\\site-packages\\lightgbm\\basic.py:2065: UserWarning: Using categorical_feature in Dataset.\n",
      "  _log_warning('Using categorical_feature in Dataset.')\n",
      "C:\\Users\\Windows\\.conda\\envs\\tf\\lib\\site-packages\\lightgbm\\basic.py:2068: UserWarning: categorical_feature in Dataset is overridden.\n",
      "New categorical_feature is ['EDUCATION_LEVEL', 'EXTERNAL_SCORING_RATING_1_IS_NAN', 'EXTERNAL_SCORING_RATING_2_IS_NAN', 'EXTERNAL_SCORING_RATING_3_IS_NAN', 'FAMILY_STATUS', 'GENDER', 'NAME_CONTRACT_TYPE']\n",
      "  _log_warning('categorical_feature in Dataset is overridden.\\n'\n",
      "C:\\Users\\Windows\\.conda\\envs\\tf\\lib\\site-packages\\lightgbm\\basic.py:1780: UserWarning: Overriding the parameters from Reference Dataset.\n",
      "  _log_warning('Overriding the parameters from Reference Dataset.')\n",
      "C:\\Users\\Windows\\.conda\\envs\\tf\\lib\\site-packages\\lightgbm\\basic.py:1513: UserWarning: categorical_column in param dict is overridden.\n",
      "  _log_warning(f'{cat_alias} in param dict is overridden.')\n"
     ]
    },
    {
     "name": "stdout",
     "output_type": "stream",
     "text": [
      "[200]\ttraining's auc: 0.764785\tvalid_1's auc: 0.721964\n",
      "[400]\ttraining's auc: 0.795107\tvalid_1's auc: 0.727716\n",
      "[600]\ttraining's auc: 0.817184\tvalid_1's auc: 0.726458\n",
      "[800]\ttraining's auc: 0.836113\tvalid_1's auc: 0.725879\n",
      "Fold: 11, train-observations = 104588, valid-observations = 5505\n",
      "train-score = 0.801, valid-score = 0.7282\n",
      "=====================================================================\n",
      "[LightGBM] [Warning] seed is set=27, random_state=27 will be ignored. Current value: seed=27\n",
      "[LightGBM] [Warning] early_stopping_round is set=500, early_stopping_rounds=500 will be ignored. Current value: early_stopping_round=500\n"
     ]
    },
    {
     "name": "stderr",
     "output_type": "stream",
     "text": [
      "C:\\Users\\Windows\\.conda\\envs\\tf\\lib\\site-packages\\lightgbm\\sklearn.py:726: UserWarning: 'early_stopping_rounds' argument is deprecated and will be removed in a future release of LightGBM. Pass 'early_stopping()' callback via 'callbacks' argument instead.\n",
      "  _log_warning(\"'early_stopping_rounds' argument is deprecated and will be removed in a future release of LightGBM. \"\n",
      "C:\\Users\\Windows\\.conda\\envs\\tf\\lib\\site-packages\\lightgbm\\sklearn.py:736: UserWarning: 'verbose' argument is deprecated and will be removed in a future release of LightGBM. Pass 'log_evaluation()' callback via 'callbacks' argument instead.\n",
      "  _log_warning(\"'verbose' argument is deprecated and will be removed in a future release of LightGBM. \"\n",
      "C:\\Users\\Windows\\.conda\\envs\\tf\\lib\\site-packages\\lightgbm\\basic.py:2065: UserWarning: Using categorical_feature in Dataset.\n",
      "  _log_warning('Using categorical_feature in Dataset.')\n",
      "C:\\Users\\Windows\\.conda\\envs\\tf\\lib\\site-packages\\lightgbm\\basic.py:2068: UserWarning: categorical_feature in Dataset is overridden.\n",
      "New categorical_feature is ['EDUCATION_LEVEL', 'EXTERNAL_SCORING_RATING_1_IS_NAN', 'EXTERNAL_SCORING_RATING_2_IS_NAN', 'EXTERNAL_SCORING_RATING_3_IS_NAN', 'FAMILY_STATUS', 'GENDER', 'NAME_CONTRACT_TYPE']\n",
      "  _log_warning('categorical_feature in Dataset is overridden.\\n'\n",
      "C:\\Users\\Windows\\.conda\\envs\\tf\\lib\\site-packages\\lightgbm\\basic.py:1780: UserWarning: Overriding the parameters from Reference Dataset.\n",
      "  _log_warning('Overriding the parameters from Reference Dataset.')\n",
      "C:\\Users\\Windows\\.conda\\envs\\tf\\lib\\site-packages\\lightgbm\\basic.py:1513: UserWarning: categorical_column in param dict is overridden.\n",
      "  _log_warning(f'{cat_alias} in param dict is overridden.')\n"
     ]
    },
    {
     "name": "stdout",
     "output_type": "stream",
     "text": [
      "[200]\ttraining's auc: 0.764744\tvalid_1's auc: 0.719204\n",
      "[400]\ttraining's auc: 0.79578\tvalid_1's auc: 0.721826\n",
      "[600]\ttraining's auc: 0.818977\tvalid_1's auc: 0.721934\n",
      "[800]\ttraining's auc: 0.837052\tvalid_1's auc: 0.721843\n",
      "Fold: 12, train-observations = 104588, valid-observations = 5505\n",
      "train-score = 0.7998, valid-score = 0.7229\n",
      "=====================================================================\n",
      "[LightGBM] [Warning] seed is set=27, random_state=27 will be ignored. Current value: seed=27\n",
      "[LightGBM] [Warning] early_stopping_round is set=500, early_stopping_rounds=500 will be ignored. Current value: early_stopping_round=500\n"
     ]
    },
    {
     "name": "stderr",
     "output_type": "stream",
     "text": [
      "C:\\Users\\Windows\\.conda\\envs\\tf\\lib\\site-packages\\lightgbm\\sklearn.py:726: UserWarning: 'early_stopping_rounds' argument is deprecated and will be removed in a future release of LightGBM. Pass 'early_stopping()' callback via 'callbacks' argument instead.\n",
      "  _log_warning(\"'early_stopping_rounds' argument is deprecated and will be removed in a future release of LightGBM. \"\n",
      "C:\\Users\\Windows\\.conda\\envs\\tf\\lib\\site-packages\\lightgbm\\sklearn.py:736: UserWarning: 'verbose' argument is deprecated and will be removed in a future release of LightGBM. Pass 'log_evaluation()' callback via 'callbacks' argument instead.\n",
      "  _log_warning(\"'verbose' argument is deprecated and will be removed in a future release of LightGBM. \"\n",
      "C:\\Users\\Windows\\.conda\\envs\\tf\\lib\\site-packages\\lightgbm\\basic.py:2065: UserWarning: Using categorical_feature in Dataset.\n",
      "  _log_warning('Using categorical_feature in Dataset.')\n",
      "C:\\Users\\Windows\\.conda\\envs\\tf\\lib\\site-packages\\lightgbm\\basic.py:2068: UserWarning: categorical_feature in Dataset is overridden.\n",
      "New categorical_feature is ['EDUCATION_LEVEL', 'EXTERNAL_SCORING_RATING_1_IS_NAN', 'EXTERNAL_SCORING_RATING_2_IS_NAN', 'EXTERNAL_SCORING_RATING_3_IS_NAN', 'FAMILY_STATUS', 'GENDER', 'NAME_CONTRACT_TYPE']\n",
      "  _log_warning('categorical_feature in Dataset is overridden.\\n'\n",
      "C:\\Users\\Windows\\.conda\\envs\\tf\\lib\\site-packages\\lightgbm\\basic.py:1780: UserWarning: Overriding the parameters from Reference Dataset.\n",
      "  _log_warning('Overriding the parameters from Reference Dataset.')\n",
      "C:\\Users\\Windows\\.conda\\envs\\tf\\lib\\site-packages\\lightgbm\\basic.py:1513: UserWarning: categorical_column in param dict is overridden.\n",
      "  _log_warning(f'{cat_alias} in param dict is overridden.')\n"
     ]
    },
    {
     "name": "stdout",
     "output_type": "stream",
     "text": [
      "[200]\ttraining's auc: 0.763782\tvalid_1's auc: 0.731396\n",
      "[400]\ttraining's auc: 0.794913\tvalid_1's auc: 0.737393\n",
      "[600]\ttraining's auc: 0.81815\tvalid_1's auc: 0.739398\n",
      "[800]\ttraining's auc: 0.836453\tvalid_1's auc: 0.739168\n",
      "Fold: 13, train-observations = 104588, valid-observations = 5505\n",
      "train-score = 0.8061, valid-score = 0.7397\n",
      "=====================================================================\n",
      "[LightGBM] [Warning] seed is set=27, random_state=27 will be ignored. Current value: seed=27\n",
      "[LightGBM] [Warning] early_stopping_round is set=500, early_stopping_rounds=500 will be ignored. Current value: early_stopping_round=500\n"
     ]
    },
    {
     "name": "stderr",
     "output_type": "stream",
     "text": [
      "C:\\Users\\Windows\\.conda\\envs\\tf\\lib\\site-packages\\lightgbm\\sklearn.py:726: UserWarning: 'early_stopping_rounds' argument is deprecated and will be removed in a future release of LightGBM. Pass 'early_stopping()' callback via 'callbacks' argument instead.\n",
      "  _log_warning(\"'early_stopping_rounds' argument is deprecated and will be removed in a future release of LightGBM. \"\n",
      "C:\\Users\\Windows\\.conda\\envs\\tf\\lib\\site-packages\\lightgbm\\sklearn.py:736: UserWarning: 'verbose' argument is deprecated and will be removed in a future release of LightGBM. Pass 'log_evaluation()' callback via 'callbacks' argument instead.\n",
      "  _log_warning(\"'verbose' argument is deprecated and will be removed in a future release of LightGBM. \"\n",
      "C:\\Users\\Windows\\.conda\\envs\\tf\\lib\\site-packages\\lightgbm\\basic.py:2065: UserWarning: Using categorical_feature in Dataset.\n",
      "  _log_warning('Using categorical_feature in Dataset.')\n",
      "C:\\Users\\Windows\\.conda\\envs\\tf\\lib\\site-packages\\lightgbm\\basic.py:2068: UserWarning: categorical_feature in Dataset is overridden.\n",
      "New categorical_feature is ['EDUCATION_LEVEL', 'EXTERNAL_SCORING_RATING_1_IS_NAN', 'EXTERNAL_SCORING_RATING_2_IS_NAN', 'EXTERNAL_SCORING_RATING_3_IS_NAN', 'FAMILY_STATUS', 'GENDER', 'NAME_CONTRACT_TYPE']\n",
      "  _log_warning('categorical_feature in Dataset is overridden.\\n'\n",
      "C:\\Users\\Windows\\.conda\\envs\\tf\\lib\\site-packages\\lightgbm\\basic.py:1780: UserWarning: Overriding the parameters from Reference Dataset.\n",
      "  _log_warning('Overriding the parameters from Reference Dataset.')\n",
      "C:\\Users\\Windows\\.conda\\envs\\tf\\lib\\site-packages\\lightgbm\\basic.py:1513: UserWarning: categorical_column in param dict is overridden.\n",
      "  _log_warning(f'{cat_alias} in param dict is overridden.')\n"
     ]
    },
    {
     "name": "stdout",
     "output_type": "stream",
     "text": [
      "[200]\ttraining's auc: 0.764443\tvalid_1's auc: 0.704685\n",
      "[400]\ttraining's auc: 0.795315\tvalid_1's auc: 0.712086\n",
      "[600]\ttraining's auc: 0.817038\tvalid_1's auc: 0.714168\n",
      "[800]\ttraining's auc: 0.835832\tvalid_1's auc: 0.715223\n",
      "[1000]\ttraining's auc: 0.852977\tvalid_1's auc: 0.71634\n",
      "[1200]\ttraining's auc: 0.86774\tvalid_1's auc: 0.716561\n",
      "[1400]\ttraining's auc: 0.880269\tvalid_1's auc: 0.71686\n",
      "[1600]\ttraining's auc: 0.891082\tvalid_1's auc: 0.716548\n",
      "[1800]\ttraining's auc: 0.900625\tvalid_1's auc: 0.716913\n",
      "Fold: 14, train-observations = 104589, valid-observations = 5504\n",
      "train-score = 0.8843, valid-score = 0.7176\n",
      "=====================================================================\n",
      "[LightGBM] [Warning] seed is set=27, random_state=27 will be ignored. Current value: seed=27\n",
      "[LightGBM] [Warning] early_stopping_round is set=500, early_stopping_rounds=500 will be ignored. Current value: early_stopping_round=500\n"
     ]
    },
    {
     "name": "stderr",
     "output_type": "stream",
     "text": [
      "C:\\Users\\Windows\\.conda\\envs\\tf\\lib\\site-packages\\lightgbm\\sklearn.py:726: UserWarning: 'early_stopping_rounds' argument is deprecated and will be removed in a future release of LightGBM. Pass 'early_stopping()' callback via 'callbacks' argument instead.\n",
      "  _log_warning(\"'early_stopping_rounds' argument is deprecated and will be removed in a future release of LightGBM. \"\n",
      "C:\\Users\\Windows\\.conda\\envs\\tf\\lib\\site-packages\\lightgbm\\sklearn.py:736: UserWarning: 'verbose' argument is deprecated and will be removed in a future release of LightGBM. Pass 'log_evaluation()' callback via 'callbacks' argument instead.\n",
      "  _log_warning(\"'verbose' argument is deprecated and will be removed in a future release of LightGBM. \"\n",
      "C:\\Users\\Windows\\.conda\\envs\\tf\\lib\\site-packages\\lightgbm\\basic.py:2065: UserWarning: Using categorical_feature in Dataset.\n",
      "  _log_warning('Using categorical_feature in Dataset.')\n",
      "C:\\Users\\Windows\\.conda\\envs\\tf\\lib\\site-packages\\lightgbm\\basic.py:2068: UserWarning: categorical_feature in Dataset is overridden.\n",
      "New categorical_feature is ['EDUCATION_LEVEL', 'EXTERNAL_SCORING_RATING_1_IS_NAN', 'EXTERNAL_SCORING_RATING_2_IS_NAN', 'EXTERNAL_SCORING_RATING_3_IS_NAN', 'FAMILY_STATUS', 'GENDER', 'NAME_CONTRACT_TYPE']\n",
      "  _log_warning('categorical_feature in Dataset is overridden.\\n'\n",
      "C:\\Users\\Windows\\.conda\\envs\\tf\\lib\\site-packages\\lightgbm\\basic.py:1780: UserWarning: Overriding the parameters from Reference Dataset.\n",
      "  _log_warning('Overriding the parameters from Reference Dataset.')\n",
      "C:\\Users\\Windows\\.conda\\envs\\tf\\lib\\site-packages\\lightgbm\\basic.py:1513: UserWarning: categorical_column in param dict is overridden.\n",
      "  _log_warning(f'{cat_alias} in param dict is overridden.')\n"
     ]
    },
    {
     "name": "stdout",
     "output_type": "stream",
     "text": [
      "[200]\ttraining's auc: 0.764421\tvalid_1's auc: 0.718802\n",
      "[400]\ttraining's auc: 0.794747\tvalid_1's auc: 0.72738\n",
      "[600]\ttraining's auc: 0.818064\tvalid_1's auc: 0.728256\n",
      "[800]\ttraining's auc: 0.836061\tvalid_1's auc: 0.727158\n",
      "[1000]\ttraining's auc: 0.852746\tvalid_1's auc: 0.726912\n",
      "Fold: 15, train-observations = 104589, valid-observations = 5504\n",
      "train-score = 0.8111, valid-score = 0.7291\n",
      "=====================================================================\n",
      "[LightGBM] [Warning] seed is set=27, random_state=27 will be ignored. Current value: seed=27\n",
      "[LightGBM] [Warning] early_stopping_round is set=500, early_stopping_rounds=500 will be ignored. Current value: early_stopping_round=500\n"
     ]
    },
    {
     "name": "stderr",
     "output_type": "stream",
     "text": [
      "C:\\Users\\Windows\\.conda\\envs\\tf\\lib\\site-packages\\lightgbm\\sklearn.py:726: UserWarning: 'early_stopping_rounds' argument is deprecated and will be removed in a future release of LightGBM. Pass 'early_stopping()' callback via 'callbacks' argument instead.\n",
      "  _log_warning(\"'early_stopping_rounds' argument is deprecated and will be removed in a future release of LightGBM. \"\n",
      "C:\\Users\\Windows\\.conda\\envs\\tf\\lib\\site-packages\\lightgbm\\sklearn.py:736: UserWarning: 'verbose' argument is deprecated and will be removed in a future release of LightGBM. Pass 'log_evaluation()' callback via 'callbacks' argument instead.\n",
      "  _log_warning(\"'verbose' argument is deprecated and will be removed in a future release of LightGBM. \"\n",
      "C:\\Users\\Windows\\.conda\\envs\\tf\\lib\\site-packages\\lightgbm\\basic.py:2065: UserWarning: Using categorical_feature in Dataset.\n",
      "  _log_warning('Using categorical_feature in Dataset.')\n",
      "C:\\Users\\Windows\\.conda\\envs\\tf\\lib\\site-packages\\lightgbm\\basic.py:2068: UserWarning: categorical_feature in Dataset is overridden.\n",
      "New categorical_feature is ['EDUCATION_LEVEL', 'EXTERNAL_SCORING_RATING_1_IS_NAN', 'EXTERNAL_SCORING_RATING_2_IS_NAN', 'EXTERNAL_SCORING_RATING_3_IS_NAN', 'FAMILY_STATUS', 'GENDER', 'NAME_CONTRACT_TYPE']\n",
      "  _log_warning('categorical_feature in Dataset is overridden.\\n'\n",
      "C:\\Users\\Windows\\.conda\\envs\\tf\\lib\\site-packages\\lightgbm\\basic.py:1780: UserWarning: Overriding the parameters from Reference Dataset.\n",
      "  _log_warning('Overriding the parameters from Reference Dataset.')\n",
      "C:\\Users\\Windows\\.conda\\envs\\tf\\lib\\site-packages\\lightgbm\\basic.py:1513: UserWarning: categorical_column in param dict is overridden.\n",
      "  _log_warning(f'{cat_alias} in param dict is overridden.')\n"
     ]
    },
    {
     "name": "stdout",
     "output_type": "stream",
     "text": [
      "[200]\ttraining's auc: 0.765157\tvalid_1's auc: 0.695209\n",
      "[400]\ttraining's auc: 0.795542\tvalid_1's auc: 0.702692\n",
      "[600]\ttraining's auc: 0.818772\tvalid_1's auc: 0.70346\n",
      "[800]\ttraining's auc: 0.837361\tvalid_1's auc: 0.705145\n",
      "[1000]\ttraining's auc: 0.854112\tvalid_1's auc: 0.706521\n",
      "[1200]\ttraining's auc: 0.868327\tvalid_1's auc: 0.70591\n",
      "[1400]\ttraining's auc: 0.881274\tvalid_1's auc: 0.705834\n",
      "Fold: 16, train-observations = 104589, valid-observations = 5504\n",
      "train-score = 0.8514, valid-score = 0.7069\n",
      "=====================================================================\n",
      "[LightGBM] [Warning] seed is set=27, random_state=27 will be ignored. Current value: seed=27\n",
      "[LightGBM] [Warning] early_stopping_round is set=500, early_stopping_rounds=500 will be ignored. Current value: early_stopping_round=500\n"
     ]
    },
    {
     "name": "stderr",
     "output_type": "stream",
     "text": [
      "C:\\Users\\Windows\\.conda\\envs\\tf\\lib\\site-packages\\lightgbm\\sklearn.py:726: UserWarning: 'early_stopping_rounds' argument is deprecated and will be removed in a future release of LightGBM. Pass 'early_stopping()' callback via 'callbacks' argument instead.\n",
      "  _log_warning(\"'early_stopping_rounds' argument is deprecated and will be removed in a future release of LightGBM. \"\n",
      "C:\\Users\\Windows\\.conda\\envs\\tf\\lib\\site-packages\\lightgbm\\sklearn.py:736: UserWarning: 'verbose' argument is deprecated and will be removed in a future release of LightGBM. Pass 'log_evaluation()' callback via 'callbacks' argument instead.\n",
      "  _log_warning(\"'verbose' argument is deprecated and will be removed in a future release of LightGBM. \"\n",
      "C:\\Users\\Windows\\.conda\\envs\\tf\\lib\\site-packages\\lightgbm\\basic.py:2065: UserWarning: Using categorical_feature in Dataset.\n",
      "  _log_warning('Using categorical_feature in Dataset.')\n",
      "C:\\Users\\Windows\\.conda\\envs\\tf\\lib\\site-packages\\lightgbm\\basic.py:2068: UserWarning: categorical_feature in Dataset is overridden.\n",
      "New categorical_feature is ['EDUCATION_LEVEL', 'EXTERNAL_SCORING_RATING_1_IS_NAN', 'EXTERNAL_SCORING_RATING_2_IS_NAN', 'EXTERNAL_SCORING_RATING_3_IS_NAN', 'FAMILY_STATUS', 'GENDER', 'NAME_CONTRACT_TYPE']\n",
      "  _log_warning('categorical_feature in Dataset is overridden.\\n'\n",
      "C:\\Users\\Windows\\.conda\\envs\\tf\\lib\\site-packages\\lightgbm\\basic.py:1780: UserWarning: Overriding the parameters from Reference Dataset.\n",
      "  _log_warning('Overriding the parameters from Reference Dataset.')\n",
      "C:\\Users\\Windows\\.conda\\envs\\tf\\lib\\site-packages\\lightgbm\\basic.py:1513: UserWarning: categorical_column in param dict is overridden.\n",
      "  _log_warning(f'{cat_alias} in param dict is overridden.')\n"
     ]
    },
    {
     "name": "stdout",
     "output_type": "stream",
     "text": [
      "[200]\ttraining's auc: 0.763018\tvalid_1's auc: 0.737748\n",
      "[400]\ttraining's auc: 0.794097\tvalid_1's auc: 0.747469\n",
      "[600]\ttraining's auc: 0.816939\tvalid_1's auc: 0.750708\n",
      "[800]\ttraining's auc: 0.835067\tvalid_1's auc: 0.753283\n",
      "[1000]\ttraining's auc: 0.851444\tvalid_1's auc: 0.754197\n",
      "[1200]\ttraining's auc: 0.866087\tvalid_1's auc: 0.753831\n",
      "[1400]\ttraining's auc: 0.879442\tvalid_1's auc: 0.75413\n",
      "Fold: 17, train-observations = 104589, valid-observations = 5504\n",
      "train-score = 0.8493, valid-score = 0.7552\n",
      "=====================================================================\n",
      "[LightGBM] [Warning] seed is set=27, random_state=27 will be ignored. Current value: seed=27\n",
      "[LightGBM] [Warning] early_stopping_round is set=500, early_stopping_rounds=500 will be ignored. Current value: early_stopping_round=500\n"
     ]
    },
    {
     "name": "stderr",
     "output_type": "stream",
     "text": [
      "C:\\Users\\Windows\\.conda\\envs\\tf\\lib\\site-packages\\lightgbm\\sklearn.py:726: UserWarning: 'early_stopping_rounds' argument is deprecated and will be removed in a future release of LightGBM. Pass 'early_stopping()' callback via 'callbacks' argument instead.\n",
      "  _log_warning(\"'early_stopping_rounds' argument is deprecated and will be removed in a future release of LightGBM. \"\n",
      "C:\\Users\\Windows\\.conda\\envs\\tf\\lib\\site-packages\\lightgbm\\sklearn.py:736: UserWarning: 'verbose' argument is deprecated and will be removed in a future release of LightGBM. Pass 'log_evaluation()' callback via 'callbacks' argument instead.\n",
      "  _log_warning(\"'verbose' argument is deprecated and will be removed in a future release of LightGBM. \"\n",
      "C:\\Users\\Windows\\.conda\\envs\\tf\\lib\\site-packages\\lightgbm\\basic.py:2065: UserWarning: Using categorical_feature in Dataset.\n",
      "  _log_warning('Using categorical_feature in Dataset.')\n",
      "C:\\Users\\Windows\\.conda\\envs\\tf\\lib\\site-packages\\lightgbm\\basic.py:2068: UserWarning: categorical_feature in Dataset is overridden.\n",
      "New categorical_feature is ['EDUCATION_LEVEL', 'EXTERNAL_SCORING_RATING_1_IS_NAN', 'EXTERNAL_SCORING_RATING_2_IS_NAN', 'EXTERNAL_SCORING_RATING_3_IS_NAN', 'FAMILY_STATUS', 'GENDER', 'NAME_CONTRACT_TYPE']\n",
      "  _log_warning('categorical_feature in Dataset is overridden.\\n'\n",
      "C:\\Users\\Windows\\.conda\\envs\\tf\\lib\\site-packages\\lightgbm\\basic.py:1780: UserWarning: Overriding the parameters from Reference Dataset.\n",
      "  _log_warning('Overriding the parameters from Reference Dataset.')\n",
      "C:\\Users\\Windows\\.conda\\envs\\tf\\lib\\site-packages\\lightgbm\\basic.py:1513: UserWarning: categorical_column in param dict is overridden.\n",
      "  _log_warning(f'{cat_alias} in param dict is overridden.')\n"
     ]
    },
    {
     "name": "stdout",
     "output_type": "stream",
     "text": [
      "[200]\ttraining's auc: 0.763295\tvalid_1's auc: 0.731741\n",
      "[400]\ttraining's auc: 0.793626\tvalid_1's auc: 0.73808\n",
      "[600]\ttraining's auc: 0.817634\tvalid_1's auc: 0.736333\n",
      "[800]\ttraining's auc: 0.836958\tvalid_1's auc: 0.735738\n",
      "Fold: 18, train-observations = 104589, valid-observations = 5504\n",
      "train-score = 0.7959, valid-score = 0.7384\n",
      "=====================================================================\n",
      "[LightGBM] [Warning] seed is set=27, random_state=27 will be ignored. Current value: seed=27\n",
      "[LightGBM] [Warning] early_stopping_round is set=500, early_stopping_rounds=500 will be ignored. Current value: early_stopping_round=500\n"
     ]
    },
    {
     "name": "stderr",
     "output_type": "stream",
     "text": [
      "C:\\Users\\Windows\\.conda\\envs\\tf\\lib\\site-packages\\lightgbm\\sklearn.py:726: UserWarning: 'early_stopping_rounds' argument is deprecated and will be removed in a future release of LightGBM. Pass 'early_stopping()' callback via 'callbacks' argument instead.\n",
      "  _log_warning(\"'early_stopping_rounds' argument is deprecated and will be removed in a future release of LightGBM. \"\n",
      "C:\\Users\\Windows\\.conda\\envs\\tf\\lib\\site-packages\\lightgbm\\sklearn.py:736: UserWarning: 'verbose' argument is deprecated and will be removed in a future release of LightGBM. Pass 'log_evaluation()' callback via 'callbacks' argument instead.\n",
      "  _log_warning(\"'verbose' argument is deprecated and will be removed in a future release of LightGBM. \"\n",
      "C:\\Users\\Windows\\.conda\\envs\\tf\\lib\\site-packages\\lightgbm\\basic.py:2065: UserWarning: Using categorical_feature in Dataset.\n",
      "  _log_warning('Using categorical_feature in Dataset.')\n",
      "C:\\Users\\Windows\\.conda\\envs\\tf\\lib\\site-packages\\lightgbm\\basic.py:2068: UserWarning: categorical_feature in Dataset is overridden.\n",
      "New categorical_feature is ['EDUCATION_LEVEL', 'EXTERNAL_SCORING_RATING_1_IS_NAN', 'EXTERNAL_SCORING_RATING_2_IS_NAN', 'EXTERNAL_SCORING_RATING_3_IS_NAN', 'FAMILY_STATUS', 'GENDER', 'NAME_CONTRACT_TYPE']\n",
      "  _log_warning('categorical_feature in Dataset is overridden.\\n'\n",
      "C:\\Users\\Windows\\.conda\\envs\\tf\\lib\\site-packages\\lightgbm\\basic.py:1780: UserWarning: Overriding the parameters from Reference Dataset.\n",
      "  _log_warning('Overriding the parameters from Reference Dataset.')\n",
      "C:\\Users\\Windows\\.conda\\envs\\tf\\lib\\site-packages\\lightgbm\\basic.py:1513: UserWarning: categorical_column in param dict is overridden.\n",
      "  _log_warning(f'{cat_alias} in param dict is overridden.')\n"
     ]
    },
    {
     "name": "stdout",
     "output_type": "stream",
     "text": [
      "[200]\ttraining's auc: 0.764582\tvalid_1's auc: 0.702302\n",
      "[400]\ttraining's auc: 0.794954\tvalid_1's auc: 0.708622\n",
      "[600]\ttraining's auc: 0.817875\tvalid_1's auc: 0.712218\n",
      "[800]\ttraining's auc: 0.836876\tvalid_1's auc: 0.712186\n",
      "[1000]\ttraining's auc: 0.853971\tvalid_1's auc: 0.711947\n",
      "[1200]\ttraining's auc: 0.868607\tvalid_1's auc: 0.711314\n",
      "Fold: 19, train-observations = 104589, valid-observations = 5504\n",
      "train-score = 0.8294, valid-score = 0.7132\n",
      "=====================================================================\n",
      "[LightGBM] [Warning] seed is set=27, random_state=27 will be ignored. Current value: seed=27\n",
      "[LightGBM] [Warning] early_stopping_round is set=500, early_stopping_rounds=500 will be ignored. Current value: early_stopping_round=500\n"
     ]
    },
    {
     "name": "stderr",
     "output_type": "stream",
     "text": [
      "C:\\Users\\Windows\\.conda\\envs\\tf\\lib\\site-packages\\lightgbm\\sklearn.py:726: UserWarning: 'early_stopping_rounds' argument is deprecated and will be removed in a future release of LightGBM. Pass 'early_stopping()' callback via 'callbacks' argument instead.\n",
      "  _log_warning(\"'early_stopping_rounds' argument is deprecated and will be removed in a future release of LightGBM. \"\n",
      "C:\\Users\\Windows\\.conda\\envs\\tf\\lib\\site-packages\\lightgbm\\sklearn.py:736: UserWarning: 'verbose' argument is deprecated and will be removed in a future release of LightGBM. Pass 'log_evaluation()' callback via 'callbacks' argument instead.\n",
      "  _log_warning(\"'verbose' argument is deprecated and will be removed in a future release of LightGBM. \"\n",
      "C:\\Users\\Windows\\.conda\\envs\\tf\\lib\\site-packages\\lightgbm\\basic.py:2065: UserWarning: Using categorical_feature in Dataset.\n",
      "  _log_warning('Using categorical_feature in Dataset.')\n",
      "C:\\Users\\Windows\\.conda\\envs\\tf\\lib\\site-packages\\lightgbm\\basic.py:2068: UserWarning: categorical_feature in Dataset is overridden.\n",
      "New categorical_feature is ['EDUCATION_LEVEL', 'EXTERNAL_SCORING_RATING_1_IS_NAN', 'EXTERNAL_SCORING_RATING_2_IS_NAN', 'EXTERNAL_SCORING_RATING_3_IS_NAN', 'FAMILY_STATUS', 'GENDER', 'NAME_CONTRACT_TYPE']\n",
      "  _log_warning('categorical_feature in Dataset is overridden.\\n'\n",
      "C:\\Users\\Windows\\.conda\\envs\\tf\\lib\\site-packages\\lightgbm\\basic.py:1780: UserWarning: Overriding the parameters from Reference Dataset.\n",
      "  _log_warning('Overriding the parameters from Reference Dataset.')\n",
      "C:\\Users\\Windows\\.conda\\envs\\tf\\lib\\site-packages\\lightgbm\\basic.py:1513: UserWarning: categorical_column in param dict is overridden.\n",
      "  _log_warning(f'{cat_alias} in param dict is overridden.')\n"
     ]
    },
    {
     "name": "stdout",
     "output_type": "stream",
     "text": [
      "[200]\ttraining's auc: 0.763157\tvalid_1's auc: 0.726793\n",
      "[400]\ttraining's auc: 0.794058\tvalid_1's auc: 0.733213\n",
      "[600]\ttraining's auc: 0.816977\tvalid_1's auc: 0.734675\n",
      "[800]\ttraining's auc: 0.835793\tvalid_1's auc: 0.734631\n",
      "[1000]\ttraining's auc: 0.852428\tvalid_1's auc: 0.734497\n",
      "[1200]\ttraining's auc: 0.866329\tvalid_1's auc: 0.734559\n",
      "Fold: 20, train-observations = 104589, valid-observations = 5504\n",
      "train-score = 0.8273, valid-score = 0.7358\n",
      "=====================================================================\n",
      "CV-results train: 0.8341 +/- 0.033\n",
      "CV-results valid: 0.731 +/- 0.011\n",
      "OOF-score = 0.8228\n"
     ]
    }
   ],
   "source": [
    "#model,test_prediction=get_samples_hold_out_validation(lgbm_params,train,target,[0.7,0.2,0.1],'LGBM', categorical)\n",
    "#cv_strategy = KFold(n_splits=20, random_state=42,shuffle=True)\n",
    "#cv_strategy = StratifiedShuffleSplit(n_splits=20, random_state=29, train_size=0.7)\n",
    "cv_strategy = StratifiedKFold(n_splits=20, shuffle=True, random_state=42)\n",
    "\n",
    "estimators, oof_score, fold_train_scores, fold_valid_scores, oof_predictions = make_cross_validation(\n",
    "    train, target, model, categorical, metric=roc_auc_score,cv_strategy=cv_strategy\n",
    ")"
   ]
  },
  {
   "cell_type": "code",
   "execution_count": 43,
   "id": "74c78b72",
   "metadata": {},
   "outputs": [],
   "source": [
    "fold_number_max_score = np.argmax(fold_valid_scores)"
   ]
  },
  {
   "cell_type": "code",
   "execution_count": 44,
   "id": "f199927b",
   "metadata": {},
   "outputs": [
    {
     "data": {
      "text/plain": [
       "0.7552454075615601"
      ]
     },
     "execution_count": 44,
     "metadata": {},
     "output_type": "execute_result"
    }
   ],
   "source": [
    "np.max(fold_valid_scores)"
   ]
  },
  {
   "cell_type": "code",
   "execution_count": 45,
   "id": "3658d7e0",
   "metadata": {},
   "outputs": [],
   "source": [
    "best_model_lgb=estimators[fold_number_max_score]"
   ]
  },
  {
   "cell_type": "code",
   "execution_count": 46,
   "id": "28be4629",
   "metadata": {},
   "outputs": [],
   "source": [
    "test_predict_target=best_model_lgb.predict_proba(test)[:,1]  "
   ]
  },
  {
   "cell_type": "markdown",
   "id": "a3f09a3d",
   "metadata": {},
   "source": [
    "Оценим важности признаков и уберем малозначащие признаки из модели"
   ]
  },
  {
   "cell_type": "code",
   "execution_count": 47,
   "id": "b7cdb5e2",
   "metadata": {},
   "outputs": [],
   "source": [
    "def get_train_valid_test_data(data,target):\n",
    "    x_train, x_valid = train_test_split(\n",
    "        data, train_size=0.7, shuffle=True, random_state=1\n",
    "    )\n",
    "    y_train, y_valid = train_test_split(\n",
    "        target, train_size=0.7, shuffle=True, random_state=1\n",
    "    )\n",
    "\n",
    "    x_valid, x_test = train_test_split(\n",
    "        x_valid, train_size=0.7, shuffle=True, random_state=27\n",
    "    )\n",
    "    y_valid, y_test = train_test_split(\n",
    "        y_valid, train_size=0.7, shuffle=True, random_state=27\n",
    "    )\n",
    "\n",
    "    print(\"x_train.shape = {} rows, {} cols\".format(*x_train.shape))\n",
    "    print(\"x_valid.shape = {} rows, {} cols\".format(*x_valid.shape))\n",
    "    print(\"x_test.shape = {} rows, {} cols\".format(*x_test.shape))\n",
    "    return x_train, x_valid,x_test, y_train, y_valid,y_test"
   ]
  },
  {
   "cell_type": "code",
   "execution_count": 154,
   "id": "55a55e47",
   "metadata": {},
   "outputs": [
    {
     "name": "stdout",
     "output_type": "stream",
     "text": [
      "x_train.shape = 77065 rows, 68 cols\n",
      "x_valid.shape = 23119 rows, 68 cols\n",
      "x_test.shape = 9909 rows, 68 cols\n"
     ]
    }
   ],
   "source": [
    "x_train, x_valid,x_test, y_train, y_valid,y_test=get_train_valid_test_data(train,target)"
   ]
  },
  {
   "cell_type": "code",
   "execution_count": 146,
   "id": "7a6da9a1",
   "metadata": {},
   "outputs": [],
   "source": [
    "def _predict(estimator, x_valid):\n",
    "    if hasattr(estimator, \"predict_proba\"):\n",
    "        y_pred = estimator.predict_proba(x_valid)[:, 1]\n",
    "    else:\n",
    "        y_pred = estimator.predict(x_valid)\n",
    "\n",
    "    return y_pred\n",
    "\n",
    "def calculate_permutation_importance(estimator,\n",
    "                                     metric: callable,\n",
    "                                     x_valid: pd.DataFrame,\n",
    "                                     y_valid: pd.DataFrame,\n",
    "                                     maximize: bool = True\n",
    "                                     ) -> pd.Series:\n",
    "    \"\"\"\n",
    "    Вычисление важности признаков на основе перестановочного\n",
    "    критерия (permutation importance).\n",
    "\n",
    "    Parameters\n",
    "    ----------\n",
    "    estimator: sklearn-API estimator\n",
    "        Модель машинного обучения, выполненная в sklearn-API.\n",
    "        Модель должны быть обученной (применен метод `fit`).\n",
    "\n",
    "    metric: callable\n",
    "        Функция для оценки качества прогнозов, функция принимает\n",
    "        2 аргумента: вектор истинных ответов и вектор прогнозов.\n",
    "\n",
    "    x_valid: pandas.core.frame.DataFrame\n",
    "        Матрица признаков для оценки качества модели.\n",
    "\n",
    "    y_valid: pandas.core.frame.Series\n",
    "        Вектор целевой переменной для оценки качества модели.\n",
    "\n",
    "    maximize: bool, optional, default = True\n",
    "        Флаг максимизации метрики качества.\n",
    "        Опциональный параметр, по умолчанию, равен `True`.\n",
    "        Если `True`, значит чем выше значение метрики качества,\n",
    "        тем лучше. Если `False` - иначе.\n",
    "\n",
    "    \"\"\"\n",
    "    y_pred = _predict(estimator, x_valid)\n",
    "    base_score = metric(y_valid, y_pred)\n",
    "    scores, delta = {}, {}\n",
    "\n",
    "    for feature in tqdm(x_valid.columns):\n",
    "        x_valid_ = x_valid.copy(deep=True)\n",
    "        x_valid_[feature] = np.random.permutation(x_valid_[feature])\n",
    "        for c in categorical:\n",
    "            x_valid_[c] = x_valid_[c].astype('category')\n",
    "\n",
    "        y_pred = _predict(estimator, x_valid_)\n",
    "        feature_score = metric(y_valid, y_pred)\n",
    "\n",
    "        if maximize:\n",
    "            delta[feature] = base_score - feature_score\n",
    "        else:\n",
    "            delta[feature] = feature_score - base_score\n",
    "\n",
    "        scores[feature] = feature_score\n",
    "\n",
    "    scores, delta = pd.Series(scores), pd.Series(delta)\n",
    "    scores = scores.sort_values(ascending=False)\n",
    "    delta = delta.sort_values(ascending=False)\n",
    "\n",
    "    return scores, delta"
   ]
  },
  {
   "cell_type": "code",
   "execution_count": 149,
   "id": "358b9b56",
   "metadata": {},
   "outputs": [
    {
     "name": "stderr",
     "output_type": "stream",
     "text": [
      "100%|██████████| 68/68 [02:06<00:00,  1.86s/it]\n"
     ]
    }
   ],
   "source": [
    "scores, importance = calculate_permutation_importance(\n",
    "    best_model_lgb, roc_auc_score, train, target\n",
    ")"
   ]
  },
  {
   "cell_type": "code",
   "execution_count": 150,
   "id": "de232e9c",
   "metadata": {},
   "outputs": [
    {
     "data": {
      "text/plain": [
       "RATIO_CREDIT_TO_ANNUITY             0.034556\n",
       "AGE                                 0.012812\n",
       "EDUCATION_LEVEL                     0.012471\n",
       "NAME_CONTRACT_TYPE                  0.009123\n",
       "GENDER                              0.008667\n",
       "                                      ...   \n",
       "CHILDRENS                           0.000052\n",
       "EXTERNAL_SCORING_RATING_1_IS_NAN    0.000000\n",
       "EXTERNAL_SCORING_RATING_2_IS_NAN    0.000000\n",
       "EXTERNAL_SCORING_RATING_3_IS_NAN    0.000000\n",
       "EXTERNAL_SCORING_PROD              -0.000041\n",
       "Length: 68, dtype: float64"
      ]
     },
     "execution_count": 150,
     "metadata": {},
     "output_type": "execute_result"
    }
   ],
   "source": [
    "importance"
   ]
  },
  {
   "cell_type": "markdown",
   "id": "db97095b",
   "metadata": {},
   "source": [
    "Посмотрим важность признаков по алгоритму,  встроенному в модель для сравнения"
   ]
  },
  {
   "cell_type": "code",
   "execution_count": 47,
   "id": "d620be2b",
   "metadata": {},
   "outputs": [
    {
     "data": {
      "text/plain": [
       "<AxesSubplot:title={'center':'Feature importance'}, xlabel='Feature importance', ylabel='Features'>"
      ]
     },
     "execution_count": 47,
     "metadata": {},
     "output_type": "execute_result"
    },
    {
     "data": {
      "image/png": "[encoded data removed]",
      "text/plain": [
       "<Figure size 720x2160 with 1 Axes>"
      ]
     },
     "metadata": {
      "needs_background": "light"
     },
     "output_type": "display_data"
    }
   ],
   "source": [
    "lgb.plot_importance(best_model_lgb,max_num_features=200,figsize=(10,30))"
   ]
  },
  {
   "cell_type": "code",
   "execution_count": 48,
   "id": "c3c536c9",
   "metadata": {},
   "outputs": [
    {
     "data": {
      "text/plain": [
       "68"
      ]
     },
     "execution_count": 48,
     "metadata": {},
     "output_type": "execute_result"
    }
   ],
   "source": [
    "len(best_model_lgb.feature_importances_)"
   ]
  },
  {
   "cell_type": "markdown",
   "id": "fbf7a38e",
   "metadata": {},
   "source": [
    "Уберем последние 4 признака, которые по существу мало влияют на качество модели и снова обучим модель"
   ]
  },
  {
   "cell_type": "code",
   "execution_count": 151,
   "id": "20577966",
   "metadata": {},
   "outputs": [],
   "source": [
    "train_only_imp_features=train.drop([\"CHILDRENS\",\"EXTERNAL_SCORING_RATING_1_IS_NAN\",\"EXTERNAL_SCORING_RATING_2_IS_NAN\",\"EXTERNAL_SCORING_RATING_3_IS_NAN\",\"EXTERNAL_SCORING_PROD\"],axis=1)"
   ]
  },
  {
   "cell_type": "code",
   "execution_count": 152,
   "id": "87a9ad02",
   "metadata": {},
   "outputs": [],
   "source": [
    "test_only_imp_features=test.drop([\"CHILDRENS\",\"EXTERNAL_SCORING_RATING_1_IS_NAN\",\"EXTERNAL_SCORING_RATING_2_IS_NAN\",\"EXTERNAL_SCORING_RATING_3_IS_NAN\",\"EXTERNAL_SCORING_PROD\"],axis=1)"
   ]
  },
  {
   "cell_type": "markdown",
   "id": "3e198c88",
   "metadata": {},
   "source": [
    "Оптимизируем параметры модели и снова обучим модель"
   ]
  },
  {
   "cell_type": "code",
   "execution_count": 153,
   "id": "c6c28bee",
   "metadata": {},
   "outputs": [
    {
     "name": "stdout",
     "output_type": "stream",
     "text": [
      "Requirement already satisfied: bayesian-optimization in c:\\users\\windows\\.conda\\envs\\tf\\lib\\site-packages (1.2.0)\n",
      "Requirement already satisfied: scipy>=0.14.0 in c:\\users\\windows\\appdata\\roaming\\python\\python38\\site-packages (from bayesian-optimization) (1.4.1)\n",
      "Requirement already satisfied: numpy>=1.9.0 in c:\\users\\windows\\.conda\\envs\\tf\\lib\\site-packages (from bayesian-optimization) (1.18.5)\n",
      "Requirement already satisfied: scikit-learn>=0.18.0 in c:\\users\\windows\\appdata\\roaming\\python\\python38\\site-packages (from bayesian-optimization) (0.24.1)\n",
      "Requirement already satisfied: joblib>=0.11 in c:\\users\\windows\\.conda\\envs\\tf\\lib\\site-packages (from scikit-learn>=0.18.0->bayesian-optimization) (1.0.1)\n",
      "Requirement already satisfied: threadpoolctl>=2.0.0 in c:\\users\\windows\\.conda\\envs\\tf\\lib\\site-packages (from scikit-learn>=0.18.0->bayesian-optimization) (3.0.0)\n"
     ]
    },
    {
     "name": "stderr",
     "output_type": "stream",
     "text": [
      "WARNING: You are using pip version 21.0.1; however, version 21.3.1 is available.\n",
      "You should consider upgrading via the 'C:\\Users\\Windows\\.conda\\envs\\tf\\python.exe -m pip install --upgrade pip' command.\n"
     ]
    }
   ],
   "source": [
    "!pip install bayesian-optimization"
   ]
  },
  {
   "cell_type": "code",
   "execution_count": 155,
   "id": "97347dfe",
   "metadata": {},
   "outputs": [],
   "source": [
    "from bayes_opt import BayesianOptimization"
   ]
  },
  {
   "cell_type": "code",
   "execution_count": 156,
   "id": "fab3a1b7",
   "metadata": {},
   "outputs": [
    {
     "name": "stdout",
     "output_type": "stream",
     "text": [
      "x_train.shape = 77065 rows, 63 cols\n",
      "x_valid.shape = 23119 rows, 63 cols\n",
      "x_test.shape = 9909 rows, 63 cols\n"
     ]
    }
   ],
   "source": [
    "x_train, x_valid,x_test, y_train, y_valid,y_test=get_train_valid_test_data(train_only_imp_features,target)"
   ]
  },
  {
   "cell_type": "code",
   "execution_count": 159,
   "id": "88be0486",
   "metadata": {},
   "outputs": [
    {
     "data": {
      "text/plain": [
       "['NAME_CONTRACT_TYPE',\n",
       " 'GENDER',\n",
       " 'EDUCATION_LEVEL',\n",
       " 'FAMILY_STATUS',\n",
       " 'EXTERNAL_SCORING_RATING_1_IS_NAN',\n",
       " 'EXTERNAL_SCORING_RATING_2_IS_NAN',\n",
       " 'EXTERNAL_SCORING_RATING_3_IS_NAN']"
      ]
     },
     "execution_count": 159,
     "metadata": {},
     "output_type": "execute_result"
    }
   ],
   "source": [
    "categorical"
   ]
  },
  {
   "cell_type": "code",
   "execution_count": 160,
   "id": "a7f96f95",
   "metadata": {},
   "outputs": [],
   "source": [
    "categorical.remove('EXTERNAL_SCORING_RATING_1_IS_NAN')\n",
    "categorical.remove('EXTERNAL_SCORING_RATING_2_IS_NAN')\n",
    "categorical.remove('EXTERNAL_SCORING_RATING_3_IS_NAN')"
   ]
  },
  {
   "cell_type": "code",
   "execution_count": 161,
   "id": "0002ab04",
   "metadata": {},
   "outputs": [],
   "source": [
    "def lgboost_optimize_params(max_depth, colsample_bytree, num_leaves, min_data_in_leaf,\n",
    "                            min_child_weight):\n",
    "\n",
    "    params = {\n",
    "        'boosting_type': 'gbdt',\n",
    "        'objective': 'binary',\n",
    "        'metric': 'auc',\n",
    "        'learning_rate': 0.01,\n",
    "        'n_estimators': 9000,\n",
    "        'n_jobs': 7,\n",
    "        'seed': 27,\n",
    "        'early_stopping_rounds':500,\n",
    "        'num_leaves': 57,\n",
    "        'max_depth': 9,\n",
    "        'subsample_for_bin': 240000,\n",
    "        'lambda_l1': 0.436193,\n",
    "        'lambda_l2': 0.479169,\n",
    "        'colsample_bytree': 0.508716,\n",
    "        'min_split_gain': 0.024766,\n",
    "        'subsample': 0.7,\n",
    "        'is_unbalance': False,\n",
    "        'random_state': 27,\n",
    "        'extra_trees':False,\n",
    "        'min_data_in_leaf':20,\n",
    "        'min_child_weight': 0.001,\n",
    "        'subsample_freq':0\n",
    "    }\n",
    "    \n",
    "    params[\"max_depth\"] = int(max_depth)  \n",
    "    params[\"colsample_bytree\"] = colsample_bytree\n",
    "    params[\"num_leaves\"] = int(num_leaves)   \n",
    "    params[\"min_data_in_leaf\"] = int(min_data_in_leaf)\n",
    "    params[\"min_child_weight\"] = min_child_weight\n",
    "       \n",
    "    \n",
    "    model = lgb.LGBMClassifier(**params)\n",
    "    \n",
    "    model.fit(X=x_train,y=y_train,\n",
    "                      eval_set=[(x_train, y_train), (x_valid, y_valid)],\n",
    "                      early_stopping_rounds=500,\n",
    "                      eval_metric=\"auc\",\n",
    "                      verbose=200,\n",
    "                      categorical_feature=categorical)\n",
    " \n",
    "    return roc_auc_score(y_valid, model.predict_proba(x_valid)[:, 1])"
   ]
  },
  {
   "cell_type": "code",
   "execution_count": 162,
   "id": "c24b8008",
   "metadata": {},
   "outputs": [
    {
     "name": "stdout",
     "output_type": "stream",
     "text": [
      "|   iter    |  target   | colsam... | max_depth | min_ch... | min_da... | num_le... |\n",
      "-------------------------------------------------------------------------------------\n",
      "[LightGBM] [Warning] seed is set=27, random_state=27 will be ignored. Current value: seed=27\n",
      "[LightGBM] [Warning] min_data_in_leaf is set=223, min_child_samples=20 will be ignored. Current value: min_data_in_leaf=223\n",
      "[LightGBM] [Warning] lambda_l1 is set=0.436193, reg_alpha=0.0 will be ignored. Current value: lambda_l1=0.436193\n",
      "[LightGBM] [Warning] lambda_l2 is set=0.479169, reg_lambda=0.0 will be ignored. Current value: lambda_l2=0.479169\n",
      "[LightGBM] [Warning] early_stopping_round is set=500, early_stopping_rounds=500 will be ignored. Current value: early_stopping_round=500\n"
     ]
    },
    {
     "name": "stderr",
     "output_type": "stream",
     "text": [
      "C:\\Users\\Windows\\.conda\\envs\\tf\\lib\\site-packages\\lightgbm\\sklearn.py:726: UserWarning: 'early_stopping_rounds' argument is deprecated and will be removed in a future release of LightGBM. Pass 'early_stopping()' callback via 'callbacks' argument instead.\n",
      "  _log_warning(\"'early_stopping_rounds' argument is deprecated and will be removed in a future release of LightGBM. \"\n",
      "C:\\Users\\Windows\\.conda\\envs\\tf\\lib\\site-packages\\lightgbm\\sklearn.py:736: UserWarning: 'verbose' argument is deprecated and will be removed in a future release of LightGBM. Pass 'log_evaluation()' callback via 'callbacks' argument instead.\n",
      "  _log_warning(\"'verbose' argument is deprecated and will be removed in a future release of LightGBM. \"\n",
      "C:\\Users\\Windows\\.conda\\envs\\tf\\lib\\site-packages\\lightgbm\\basic.py:2065: UserWarning: Using categorical_feature in Dataset.\n",
      "  _log_warning('Using categorical_feature in Dataset.')\n",
      "C:\\Users\\Windows\\.conda\\envs\\tf\\lib\\site-packages\\lightgbm\\basic.py:2068: UserWarning: categorical_feature in Dataset is overridden.\n",
      "New categorical_feature is ['EDUCATION_LEVEL', 'FAMILY_STATUS', 'GENDER', 'NAME_CONTRACT_TYPE']\n",
      "  _log_warning('categorical_feature in Dataset is overridden.\\n'\n",
      "C:\\Users\\Windows\\.conda\\envs\\tf\\lib\\site-packages\\lightgbm\\basic.py:1780: UserWarning: Overriding the parameters from Reference Dataset.\n",
      "  _log_warning('Overriding the parameters from Reference Dataset.')\n",
      "C:\\Users\\Windows\\.conda\\envs\\tf\\lib\\site-packages\\lightgbm\\basic.py:1513: UserWarning: categorical_column in param dict is overridden.\n",
      "  _log_warning(f'{cat_alias} in param dict is overridden.')\n"
     ]
    },
    {
     "name": "stdout",
     "output_type": "stream",
     "text": [
      "[200]\ttraining's auc: 0.762122\tvalid_1's auc: 0.721039\n",
      "[400]\ttraining's auc: 0.789293\tvalid_1's auc: 0.724755\n",
      "[600]\ttraining's auc: 0.808394\tvalid_1's auc: 0.724494\n",
      "[800]\ttraining's auc: 0.825568\tvalid_1's auc: 0.724606\n",
      "| \u001b[0m 1       \u001b[0m | \u001b[0m 0.7254  \u001b[0m | \u001b[0m 0.5554  \u001b[0m | \u001b[0m 9.258   \u001b[0m | \u001b[0m 0.0369  \u001b[0m | \u001b[0m 223.5   \u001b[0m | \u001b[0m 44.5    \u001b[0m |\n",
      "[LightGBM] [Warning] seed is set=27, random_state=27 will be ignored. Current value: seed=27\n",
      "[LightGBM] [Warning] min_data_in_leaf is set=192, min_child_samples=20 will be ignored. Current value: min_data_in_leaf=192\n",
      "[LightGBM] [Warning] lambda_l1 is set=0.436193, reg_alpha=0.0 will be ignored. Current value: lambda_l1=0.436193\n",
      "[LightGBM] [Warning] lambda_l2 is set=0.479169, reg_lambda=0.0 will be ignored. Current value: lambda_l2=0.479169\n",
      "[LightGBM] [Warning] early_stopping_round is set=500, early_stopping_rounds=500 will be ignored. Current value: early_stopping_round=500\n"
     ]
    },
    {
     "name": "stderr",
     "output_type": "stream",
     "text": [
      "C:\\Users\\Windows\\.conda\\envs\\tf\\lib\\site-packages\\lightgbm\\sklearn.py:726: UserWarning: 'early_stopping_rounds' argument is deprecated and will be removed in a future release of LightGBM. Pass 'early_stopping()' callback via 'callbacks' argument instead.\n",
      "  _log_warning(\"'early_stopping_rounds' argument is deprecated and will be removed in a future release of LightGBM. \"\n",
      "C:\\Users\\Windows\\.conda\\envs\\tf\\lib\\site-packages\\lightgbm\\sklearn.py:736: UserWarning: 'verbose' argument is deprecated and will be removed in a future release of LightGBM. Pass 'log_evaluation()' callback via 'callbacks' argument instead.\n",
      "  _log_warning(\"'verbose' argument is deprecated and will be removed in a future release of LightGBM. \"\n",
      "C:\\Users\\Windows\\.conda\\envs\\tf\\lib\\site-packages\\lightgbm\\basic.py:2065: UserWarning: Using categorical_feature in Dataset.\n",
      "  _log_warning('Using categorical_feature in Dataset.')\n",
      "C:\\Users\\Windows\\.conda\\envs\\tf\\lib\\site-packages\\lightgbm\\basic.py:2068: UserWarning: categorical_feature in Dataset is overridden.\n",
      "New categorical_feature is ['EDUCATION_LEVEL', 'FAMILY_STATUS', 'GENDER', 'NAME_CONTRACT_TYPE']\n",
      "  _log_warning('categorical_feature in Dataset is overridden.\\n'\n",
      "C:\\Users\\Windows\\.conda\\envs\\tf\\lib\\site-packages\\lightgbm\\basic.py:1780: UserWarning: Overriding the parameters from Reference Dataset.\n",
      "  _log_warning('Overriding the parameters from Reference Dataset.')\n",
      "C:\\Users\\Windows\\.conda\\envs\\tf\\lib\\site-packages\\lightgbm\\basic.py:1513: UserWarning: categorical_column in param dict is overridden.\n",
      "  _log_warning(f'{cat_alias} in param dict is overridden.')\n"
     ]
    },
    {
     "name": "stdout",
     "output_type": "stream",
     "text": [
      "[200]\ttraining's auc: 0.783075\tvalid_1's auc: 0.720437\n",
      "[400]\ttraining's auc: 0.816689\tvalid_1's auc: 0.723161\n",
      "[600]\ttraining's auc: 0.838006\tvalid_1's auc: 0.72341\n",
      "[800]\ttraining's auc: 0.857088\tvalid_1's auc: 0.723419\n",
      "[1000]\ttraining's auc: 0.874525\tvalid_1's auc: 0.723823\n",
      "[1200]\ttraining's auc: 0.888696\tvalid_1's auc: 0.722947\n",
      "[1400]\ttraining's auc: 0.901484\tvalid_1's auc: 0.723009\n",
      "| \u001b[0m 2       \u001b[0m | \u001b[0m 0.7243  \u001b[0m | \u001b[0m 0.8877  \u001b[0m | \u001b[0m 9.573   \u001b[0m | \u001b[0m 0.01088 \u001b[0m | \u001b[0m 192.5   \u001b[0m | \u001b[0m 69.68   \u001b[0m |\n",
      "[LightGBM] [Warning] seed is set=27, random_state=27 will be ignored. Current value: seed=27\n",
      "[LightGBM] [Warning] min_data_in_leaf is set=224, min_child_samples=20 will be ignored. Current value: min_data_in_leaf=224\n",
      "[LightGBM] [Warning] lambda_l1 is set=0.436193, reg_alpha=0.0 will be ignored. Current value: lambda_l1=0.436193\n",
      "[LightGBM] [Warning] lambda_l2 is set=0.479169, reg_lambda=0.0 will be ignored. Current value: lambda_l2=0.479169\n",
      "[LightGBM] [Warning] early_stopping_round is set=500, early_stopping_rounds=500 will be ignored. Current value: early_stopping_round=500\n"
     ]
    },
    {
     "name": "stderr",
     "output_type": "stream",
     "text": [
      "C:\\Users\\Windows\\.conda\\envs\\tf\\lib\\site-packages\\lightgbm\\sklearn.py:726: UserWarning: 'early_stopping_rounds' argument is deprecated and will be removed in a future release of LightGBM. Pass 'early_stopping()' callback via 'callbacks' argument instead.\n",
      "  _log_warning(\"'early_stopping_rounds' argument is deprecated and will be removed in a future release of LightGBM. \"\n",
      "C:\\Users\\Windows\\.conda\\envs\\tf\\lib\\site-packages\\lightgbm\\sklearn.py:736: UserWarning: 'verbose' argument is deprecated and will be removed in a future release of LightGBM. Pass 'log_evaluation()' callback via 'callbacks' argument instead.\n",
      "  _log_warning(\"'verbose' argument is deprecated and will be removed in a future release of LightGBM. \"\n",
      "C:\\Users\\Windows\\.conda\\envs\\tf\\lib\\site-packages\\lightgbm\\basic.py:2065: UserWarning: Using categorical_feature in Dataset.\n",
      "  _log_warning('Using categorical_feature in Dataset.')\n",
      "C:\\Users\\Windows\\.conda\\envs\\tf\\lib\\site-packages\\lightgbm\\basic.py:2068: UserWarning: categorical_feature in Dataset is overridden.\n",
      "New categorical_feature is ['EDUCATION_LEVEL', 'FAMILY_STATUS', 'GENDER', 'NAME_CONTRACT_TYPE']\n",
      "  _log_warning('categorical_feature in Dataset is overridden.\\n'\n",
      "C:\\Users\\Windows\\.conda\\envs\\tf\\lib\\site-packages\\lightgbm\\basic.py:1780: UserWarning: Overriding the parameters from Reference Dataset.\n",
      "  _log_warning('Overriding the parameters from Reference Dataset.')\n",
      "C:\\Users\\Windows\\.conda\\envs\\tf\\lib\\site-packages\\lightgbm\\basic.py:1513: UserWarning: categorical_column in param dict is overridden.\n",
      "  _log_warning(f'{cat_alias} in param dict is overridden.')\n"
     ]
    },
    {
     "name": "stdout",
     "output_type": "stream",
     "text": [
      "[200]\ttraining's auc: 0.745009\tvalid_1's auc: 0.718693\n",
      "[400]\ttraining's auc: 0.766281\tvalid_1's auc: 0.723903\n",
      "[600]\ttraining's auc: 0.782788\tvalid_1's auc: 0.724512\n",
      "[800]\ttraining's auc: 0.796299\tvalid_1's auc: 0.725194\n",
      "[1000]\ttraining's auc: 0.809227\tvalid_1's auc: 0.725709\n",
      "[1200]\ttraining's auc: 0.820996\tvalid_1's auc: 0.725614\n",
      "[1400]\ttraining's auc: 0.832282\tvalid_1's auc: 0.725752\n",
      "[1600]\ttraining's auc: 0.84233\tvalid_1's auc: 0.725298\n",
      "[1800]\ttraining's auc: 0.853091\tvalid_1's auc: 0.725013\n",
      "| \u001b[95m 3       \u001b[0m | \u001b[95m 0.726   \u001b[0m | \u001b[95m 0.8321  \u001b[0m | \u001b[95m 9.432   \u001b[0m | \u001b[95m 0.03759 \u001b[0m | \u001b[95m 224.1   \u001b[0m | \u001b[95m 26.81   \u001b[0m |\n",
      "[LightGBM] [Warning] seed is set=27, random_state=27 will be ignored. Current value: seed=27\n",
      "[LightGBM] [Warning] min_data_in_leaf is set=47, min_child_samples=20 will be ignored. Current value: min_data_in_leaf=47\n",
      "[LightGBM] [Warning] lambda_l1 is set=0.436193, reg_alpha=0.0 will be ignored. Current value: lambda_l1=0.436193\n",
      "[LightGBM] [Warning] lambda_l2 is set=0.479169, reg_lambda=0.0 will be ignored. Current value: lambda_l2=0.479169\n",
      "[LightGBM] [Warning] early_stopping_round is set=500, early_stopping_rounds=500 will be ignored. Current value: early_stopping_round=500\n"
     ]
    },
    {
     "name": "stderr",
     "output_type": "stream",
     "text": [
      "C:\\Users\\Windows\\.conda\\envs\\tf\\lib\\site-packages\\lightgbm\\sklearn.py:726: UserWarning: 'early_stopping_rounds' argument is deprecated and will be removed in a future release of LightGBM. Pass 'early_stopping()' callback via 'callbacks' argument instead.\n",
      "  _log_warning(\"'early_stopping_rounds' argument is deprecated and will be removed in a future release of LightGBM. \"\n",
      "C:\\Users\\Windows\\.conda\\envs\\tf\\lib\\site-packages\\lightgbm\\sklearn.py:736: UserWarning: 'verbose' argument is deprecated and will be removed in a future release of LightGBM. Pass 'log_evaluation()' callback via 'callbacks' argument instead.\n",
      "  _log_warning(\"'verbose' argument is deprecated and will be removed in a future release of LightGBM. \"\n",
      "C:\\Users\\Windows\\.conda\\envs\\tf\\lib\\site-packages\\lightgbm\\basic.py:2065: UserWarning: Using categorical_feature in Dataset.\n",
      "  _log_warning('Using categorical_feature in Dataset.')\n",
      "C:\\Users\\Windows\\.conda\\envs\\tf\\lib\\site-packages\\lightgbm\\basic.py:2068: UserWarning: categorical_feature in Dataset is overridden.\n",
      "New categorical_feature is ['EDUCATION_LEVEL', 'FAMILY_STATUS', 'GENDER', 'NAME_CONTRACT_TYPE']\n",
      "  _log_warning('categorical_feature in Dataset is overridden.\\n'\n",
      "C:\\Users\\Windows\\.conda\\envs\\tf\\lib\\site-packages\\lightgbm\\basic.py:1780: UserWarning: Overriding the parameters from Reference Dataset.\n",
      "  _log_warning('Overriding the parameters from Reference Dataset.')\n",
      "C:\\Users\\Windows\\.conda\\envs\\tf\\lib\\site-packages\\lightgbm\\basic.py:1513: UserWarning: categorical_column in param dict is overridden.\n",
      "  _log_warning(f'{cat_alias} in param dict is overridden.')\n"
     ]
    },
    {
     "name": "stdout",
     "output_type": "stream",
     "text": [
      "[200]\ttraining's auc: 0.744171\tvalid_1's auc: 0.718941\n",
      "[400]\ttraining's auc: 0.765967\tvalid_1's auc: 0.724071\n",
      "[600]\ttraining's auc: 0.781937\tvalid_1's auc: 0.725572\n",
      "[800]\ttraining's auc: 0.795423\tvalid_1's auc: 0.725578\n",
      "[1000]\ttraining's auc: 0.808332\tvalid_1's auc: 0.725595\n",
      "| \u001b[95m 4       \u001b[0m | \u001b[95m 0.726   \u001b[0m | \u001b[95m 0.4953  \u001b[0m | \u001b[95m 7.492   \u001b[0m | \u001b[95m 0.03979 \u001b[0m | \u001b[95m 47.16   \u001b[0m | \u001b[95m 25.29   \u001b[0m |\n",
      "[LightGBM] [Warning] seed is set=27, random_state=27 will be ignored. Current value: seed=27\n",
      "[LightGBM] [Warning] min_data_in_leaf is set=50, min_child_samples=20 will be ignored. Current value: min_data_in_leaf=50\n",
      "[LightGBM] [Warning] lambda_l1 is set=0.436193, reg_alpha=0.0 will be ignored. Current value: lambda_l1=0.436193\n",
      "[LightGBM] [Warning] lambda_l2 is set=0.479169, reg_lambda=0.0 will be ignored. Current value: lambda_l2=0.479169\n",
      "[LightGBM] [Warning] early_stopping_round is set=500, early_stopping_rounds=500 will be ignored. Current value: early_stopping_round=500\n"
     ]
    },
    {
     "name": "stderr",
     "output_type": "stream",
     "text": [
      "C:\\Users\\Windows\\.conda\\envs\\tf\\lib\\site-packages\\lightgbm\\sklearn.py:726: UserWarning: 'early_stopping_rounds' argument is deprecated and will be removed in a future release of LightGBM. Pass 'early_stopping()' callback via 'callbacks' argument instead.\n",
      "  _log_warning(\"'early_stopping_rounds' argument is deprecated and will be removed in a future release of LightGBM. \"\n",
      "C:\\Users\\Windows\\.conda\\envs\\tf\\lib\\site-packages\\lightgbm\\sklearn.py:736: UserWarning: 'verbose' argument is deprecated and will be removed in a future release of LightGBM. Pass 'log_evaluation()' callback via 'callbacks' argument instead.\n",
      "  _log_warning(\"'verbose' argument is deprecated and will be removed in a future release of LightGBM. \"\n",
      "C:\\Users\\Windows\\.conda\\envs\\tf\\lib\\site-packages\\lightgbm\\basic.py:2065: UserWarning: Using categorical_feature in Dataset.\n",
      "  _log_warning('Using categorical_feature in Dataset.')\n",
      "C:\\Users\\Windows\\.conda\\envs\\tf\\lib\\site-packages\\lightgbm\\basic.py:2068: UserWarning: categorical_feature in Dataset is overridden.\n",
      "New categorical_feature is ['EDUCATION_LEVEL', 'FAMILY_STATUS', 'GENDER', 'NAME_CONTRACT_TYPE']\n",
      "  _log_warning('categorical_feature in Dataset is overridden.\\n'\n",
      "C:\\Users\\Windows\\.conda\\envs\\tf\\lib\\site-packages\\lightgbm\\basic.py:1780: UserWarning: Overriding the parameters from Reference Dataset.\n",
      "  _log_warning('Overriding the parameters from Reference Dataset.')\n",
      "C:\\Users\\Windows\\.conda\\envs\\tf\\lib\\site-packages\\lightgbm\\basic.py:1513: UserWarning: categorical_column in param dict is overridden.\n",
      "  _log_warning(f'{cat_alias} in param dict is overridden.')\n"
     ]
    },
    {
     "name": "stdout",
     "output_type": "stream",
     "text": [
      "[200]\ttraining's auc: 0.733142\tvalid_1's auc: 0.717368\n",
      "[400]\ttraining's auc: 0.750009\tvalid_1's auc: 0.723912\n",
      "[600]\ttraining's auc: 0.762136\tvalid_1's auc: 0.725513\n",
      "[800]\ttraining's auc: 0.771832\tvalid_1's auc: 0.725788\n",
      "[1000]\ttraining's auc: 0.780843\tvalid_1's auc: 0.726492\n",
      "[1200]\ttraining's auc: 0.789514\tvalid_1's auc: 0.726655\n",
      "[1400]\ttraining's auc: 0.797608\tvalid_1's auc: 0.726485\n",
      "[1600]\ttraining's auc: 0.80569\tvalid_1's auc: 0.726764\n",
      "[1800]\ttraining's auc: 0.813112\tvalid_1's auc: 0.727415\n",
      "[2000]\ttraining's auc: 0.820115\tvalid_1's auc: 0.727177\n",
      "[2200]\ttraining's auc: 0.827134\tvalid_1's auc: 0.726763\n",
      "| \u001b[95m 5       \u001b[0m | \u001b[95m 0.7277  \u001b[0m | \u001b[95m 0.3487  \u001b[0m | \u001b[95m 7.221   \u001b[0m | \u001b[95m 0.03927 \u001b[0m | \u001b[95m 50.07   \u001b[0m | \u001b[95m 16.36   \u001b[0m |\n",
      "[LightGBM] [Warning] seed is set=27, random_state=27 will be ignored. Current value: seed=27\n",
      "[LightGBM] [Warning] min_data_in_leaf is set=112, min_child_samples=20 will be ignored. Current value: min_data_in_leaf=112\n",
      "[LightGBM] [Warning] lambda_l1 is set=0.436193, reg_alpha=0.0 will be ignored. Current value: lambda_l1=0.436193\n",
      "[LightGBM] [Warning] lambda_l2 is set=0.479169, reg_lambda=0.0 will be ignored. Current value: lambda_l2=0.479169\n",
      "[LightGBM] [Warning] early_stopping_round is set=500, early_stopping_rounds=500 will be ignored. Current value: early_stopping_round=500\n"
     ]
    },
    {
     "name": "stderr",
     "output_type": "stream",
     "text": [
      "C:\\Users\\Windows\\.conda\\envs\\tf\\lib\\site-packages\\lightgbm\\sklearn.py:726: UserWarning: 'early_stopping_rounds' argument is deprecated and will be removed in a future release of LightGBM. Pass 'early_stopping()' callback via 'callbacks' argument instead.\n",
      "  _log_warning(\"'early_stopping_rounds' argument is deprecated and will be removed in a future release of LightGBM. \"\n",
      "C:\\Users\\Windows\\.conda\\envs\\tf\\lib\\site-packages\\lightgbm\\sklearn.py:736: UserWarning: 'verbose' argument is deprecated and will be removed in a future release of LightGBM. Pass 'log_evaluation()' callback via 'callbacks' argument instead.\n",
      "  _log_warning(\"'verbose' argument is deprecated and will be removed in a future release of LightGBM. \"\n",
      "C:\\Users\\Windows\\.conda\\envs\\tf\\lib\\site-packages\\lightgbm\\basic.py:2065: UserWarning: Using categorical_feature in Dataset.\n",
      "  _log_warning('Using categorical_feature in Dataset.')\n",
      "C:\\Users\\Windows\\.conda\\envs\\tf\\lib\\site-packages\\lightgbm\\basic.py:2068: UserWarning: categorical_feature in Dataset is overridden.\n",
      "New categorical_feature is ['EDUCATION_LEVEL', 'FAMILY_STATUS', 'GENDER', 'NAME_CONTRACT_TYPE']\n",
      "  _log_warning('categorical_feature in Dataset is overridden.\\n'\n",
      "C:\\Users\\Windows\\.conda\\envs\\tf\\lib\\site-packages\\lightgbm\\basic.py:1780: UserWarning: Overriding the parameters from Reference Dataset.\n",
      "  _log_warning('Overriding the parameters from Reference Dataset.')\n",
      "C:\\Users\\Windows\\.conda\\envs\\tf\\lib\\site-packages\\lightgbm\\basic.py:1513: UserWarning: categorical_column in param dict is overridden.\n",
      "  _log_warning(f'{cat_alias} in param dict is overridden.')\n"
     ]
    },
    {
     "name": "stdout",
     "output_type": "stream",
     "text": [
      "[200]\ttraining's auc: 0.763481\tvalid_1's auc: 0.718937\n",
      "[400]\ttraining's auc: 0.787383\tvalid_1's auc: 0.722333\n",
      "[600]\ttraining's auc: 0.801393\tvalid_1's auc: 0.723923\n",
      "[800]\ttraining's auc: 0.81411\tvalid_1's auc: 0.724106\n",
      "[1000]\ttraining's auc: 0.827169\tvalid_1's auc: 0.724131\n",
      "| \u001b[0m 6       \u001b[0m | \u001b[0m 0.7245  \u001b[0m | \u001b[0m 0.7206  \u001b[0m | \u001b[0m 6.724   \u001b[0m | \u001b[0m 0.03015 \u001b[0m | \u001b[0m 112.2   \u001b[0m | \u001b[0m 56.22   \u001b[0m |\n",
      "[LightGBM] [Warning] seed is set=27, random_state=27 will be ignored. Current value: seed=27\n",
      "[LightGBM] [Warning] min_data_in_leaf is set=238, min_child_samples=20 will be ignored. Current value: min_data_in_leaf=238\n",
      "[LightGBM] [Warning] lambda_l1 is set=0.436193, reg_alpha=0.0 will be ignored. Current value: lambda_l1=0.436193\n",
      "[LightGBM] [Warning] lambda_l2 is set=0.479169, reg_lambda=0.0 will be ignored. Current value: lambda_l2=0.479169\n",
      "[LightGBM] [Warning] early_stopping_round is set=500, early_stopping_rounds=500 will be ignored. Current value: early_stopping_round=500\n"
     ]
    },
    {
     "name": "stderr",
     "output_type": "stream",
     "text": [
      "C:\\Users\\Windows\\.conda\\envs\\tf\\lib\\site-packages\\lightgbm\\sklearn.py:726: UserWarning: 'early_stopping_rounds' argument is deprecated and will be removed in a future release of LightGBM. Pass 'early_stopping()' callback via 'callbacks' argument instead.\n",
      "  _log_warning(\"'early_stopping_rounds' argument is deprecated and will be removed in a future release of LightGBM. \"\n",
      "C:\\Users\\Windows\\.conda\\envs\\tf\\lib\\site-packages\\lightgbm\\sklearn.py:736: UserWarning: 'verbose' argument is deprecated and will be removed in a future release of LightGBM. Pass 'log_evaluation()' callback via 'callbacks' argument instead.\n",
      "  _log_warning(\"'verbose' argument is deprecated and will be removed in a future release of LightGBM. \"\n",
      "C:\\Users\\Windows\\.conda\\envs\\tf\\lib\\site-packages\\lightgbm\\basic.py:2065: UserWarning: Using categorical_feature in Dataset.\n",
      "  _log_warning('Using categorical_feature in Dataset.')\n",
      "C:\\Users\\Windows\\.conda\\envs\\tf\\lib\\site-packages\\lightgbm\\basic.py:2068: UserWarning: categorical_feature in Dataset is overridden.\n",
      "New categorical_feature is ['EDUCATION_LEVEL', 'FAMILY_STATUS', 'GENDER', 'NAME_CONTRACT_TYPE']\n",
      "  _log_warning('categorical_feature in Dataset is overridden.\\n'\n",
      "C:\\Users\\Windows\\.conda\\envs\\tf\\lib\\site-packages\\lightgbm\\basic.py:1780: UserWarning: Overriding the parameters from Reference Dataset.\n",
      "  _log_warning('Overriding the parameters from Reference Dataset.')\n",
      "C:\\Users\\Windows\\.conda\\envs\\tf\\lib\\site-packages\\lightgbm\\basic.py:1513: UserWarning: categorical_column in param dict is overridden.\n",
      "  _log_warning(f'{cat_alias} in param dict is overridden.')\n"
     ]
    },
    {
     "name": "stdout",
     "output_type": "stream",
     "text": [
      "[200]\ttraining's auc: 0.782198\tvalid_1's auc: 0.721145\n",
      "[400]\ttraining's auc: 0.809548\tvalid_1's auc: 0.725617\n",
      "[600]\ttraining's auc: 0.826425\tvalid_1's auc: 0.726251\n",
      "[800]\ttraining's auc: 0.840884\tvalid_1's auc: 0.726081\n",
      "[1000]\ttraining's auc: 0.855609\tvalid_1's auc: 0.727095\n",
      "[1200]\ttraining's auc: 0.868677\tvalid_1's auc: 0.726914\n",
      "[1400]\ttraining's auc: 0.880459\tvalid_1's auc: 0.727441\n",
      "[1600]\ttraining's auc: 0.890854\tvalid_1's auc: 0.726352\n",
      "[1800]\ttraining's auc: 0.900148\tvalid_1's auc: 0.725336\n",
      "| \u001b[0m 7       \u001b[0m | \u001b[0m 0.7277  \u001b[0m | \u001b[0m 0.4324  \u001b[0m | \u001b[0m 8.902   \u001b[0m | \u001b[0m 0.04255 \u001b[0m | \u001b[0m 238.5   \u001b[0m | \u001b[0m 76.23   \u001b[0m |\n",
      "[LightGBM] [Warning] seed is set=27, random_state=27 will be ignored. Current value: seed=27\n",
      "[LightGBM] [Warning] min_data_in_leaf is set=49, min_child_samples=20 will be ignored. Current value: min_data_in_leaf=49\n",
      "[LightGBM] [Warning] lambda_l1 is set=0.436193, reg_alpha=0.0 will be ignored. Current value: lambda_l1=0.436193\n",
      "[LightGBM] [Warning] lambda_l2 is set=0.479169, reg_lambda=0.0 will be ignored. Current value: lambda_l2=0.479169\n",
      "[LightGBM] [Warning] early_stopping_round is set=500, early_stopping_rounds=500 will be ignored. Current value: early_stopping_round=500\n"
     ]
    },
    {
     "name": "stderr",
     "output_type": "stream",
     "text": [
      "C:\\Users\\Windows\\.conda\\envs\\tf\\lib\\site-packages\\lightgbm\\sklearn.py:726: UserWarning: 'early_stopping_rounds' argument is deprecated and will be removed in a future release of LightGBM. Pass 'early_stopping()' callback via 'callbacks' argument instead.\n",
      "  _log_warning(\"'early_stopping_rounds' argument is deprecated and will be removed in a future release of LightGBM. \"\n",
      "C:\\Users\\Windows\\.conda\\envs\\tf\\lib\\site-packages\\lightgbm\\sklearn.py:736: UserWarning: 'verbose' argument is deprecated and will be removed in a future release of LightGBM. Pass 'log_evaluation()' callback via 'callbacks' argument instead.\n",
      "  _log_warning(\"'verbose' argument is deprecated and will be removed in a future release of LightGBM. \"\n",
      "C:\\Users\\Windows\\.conda\\envs\\tf\\lib\\site-packages\\lightgbm\\basic.py:2065: UserWarning: Using categorical_feature in Dataset.\n",
      "  _log_warning('Using categorical_feature in Dataset.')\n",
      "C:\\Users\\Windows\\.conda\\envs\\tf\\lib\\site-packages\\lightgbm\\basic.py:2068: UserWarning: categorical_feature in Dataset is overridden.\n",
      "New categorical_feature is ['EDUCATION_LEVEL', 'FAMILY_STATUS', 'GENDER', 'NAME_CONTRACT_TYPE']\n",
      "  _log_warning('categorical_feature in Dataset is overridden.\\n'\n",
      "C:\\Users\\Windows\\.conda\\envs\\tf\\lib\\site-packages\\lightgbm\\basic.py:1780: UserWarning: Overriding the parameters from Reference Dataset.\n",
      "  _log_warning('Overriding the parameters from Reference Dataset.')\n",
      "C:\\Users\\Windows\\.conda\\envs\\tf\\lib\\site-packages\\lightgbm\\basic.py:1513: UserWarning: categorical_column in param dict is overridden.\n",
      "  _log_warning(f'{cat_alias} in param dict is overridden.')\n"
     ]
    },
    {
     "name": "stdout",
     "output_type": "stream",
     "text": [
      "[200]\ttraining's auc: 0.733152\tvalid_1's auc: 0.717935\n",
      "[400]\ttraining's auc: 0.750002\tvalid_1's auc: 0.723885\n",
      "[600]\ttraining's auc: 0.761438\tvalid_1's auc: 0.725448\n",
      "[800]\ttraining's auc: 0.770512\tvalid_1's auc: 0.726112\n",
      "[1000]\ttraining's auc: 0.780193\tvalid_1's auc: 0.725962\n",
      "[1200]\ttraining's auc: 0.788655\tvalid_1's auc: 0.725864\n",
      "| \u001b[0m 8       \u001b[0m | \u001b[0m 0.7265  \u001b[0m | \u001b[0m 0.4891  \u001b[0m | \u001b[0m 6.253   \u001b[0m | \u001b[0m 0.03597 \u001b[0m | \u001b[0m 49.79   \u001b[0m | \u001b[0m 16.59   \u001b[0m |\n",
      "[LightGBM] [Warning] seed is set=27, random_state=27 will be ignored. Current value: seed=27\n",
      "[LightGBM] [Warning] min_data_in_leaf is set=237, min_child_samples=20 will be ignored. Current value: min_data_in_leaf=237\n",
      "[LightGBM] [Warning] lambda_l1 is set=0.436193, reg_alpha=0.0 will be ignored. Current value: lambda_l1=0.436193\n",
      "[LightGBM] [Warning] lambda_l2 is set=0.479169, reg_lambda=0.0 will be ignored. Current value: lambda_l2=0.479169\n",
      "[LightGBM] [Warning] early_stopping_round is set=500, early_stopping_rounds=500 will be ignored. Current value: early_stopping_round=500\n"
     ]
    },
    {
     "name": "stderr",
     "output_type": "stream",
     "text": [
      "C:\\Users\\Windows\\.conda\\envs\\tf\\lib\\site-packages\\lightgbm\\sklearn.py:726: UserWarning: 'early_stopping_rounds' argument is deprecated and will be removed in a future release of LightGBM. Pass 'early_stopping()' callback via 'callbacks' argument instead.\n",
      "  _log_warning(\"'early_stopping_rounds' argument is deprecated and will be removed in a future release of LightGBM. \"\n",
      "C:\\Users\\Windows\\.conda\\envs\\tf\\lib\\site-packages\\lightgbm\\sklearn.py:736: UserWarning: 'verbose' argument is deprecated and will be removed in a future release of LightGBM. Pass 'log_evaluation()' callback via 'callbacks' argument instead.\n",
      "  _log_warning(\"'verbose' argument is deprecated and will be removed in a future release of LightGBM. \"\n",
      "C:\\Users\\Windows\\.conda\\envs\\tf\\lib\\site-packages\\lightgbm\\basic.py:2065: UserWarning: Using categorical_feature in Dataset.\n",
      "  _log_warning('Using categorical_feature in Dataset.')\n",
      "C:\\Users\\Windows\\.conda\\envs\\tf\\lib\\site-packages\\lightgbm\\basic.py:2068: UserWarning: categorical_feature in Dataset is overridden.\n",
      "New categorical_feature is ['EDUCATION_LEVEL', 'FAMILY_STATUS', 'GENDER', 'NAME_CONTRACT_TYPE']\n",
      "  _log_warning('categorical_feature in Dataset is overridden.\\n'\n",
      "C:\\Users\\Windows\\.conda\\envs\\tf\\lib\\site-packages\\lightgbm\\basic.py:1780: UserWarning: Overriding the parameters from Reference Dataset.\n",
      "  _log_warning('Overriding the parameters from Reference Dataset.')\n",
      "C:\\Users\\Windows\\.conda\\envs\\tf\\lib\\site-packages\\lightgbm\\basic.py:1513: UserWarning: categorical_column in param dict is overridden.\n",
      "  _log_warning(f'{cat_alias} in param dict is overridden.')\n"
     ]
    },
    {
     "name": "stdout",
     "output_type": "stream",
     "text": [
      "[200]\ttraining's auc: 0.784031\tvalid_1's auc: 0.721154\n",
      "[400]\ttraining's auc: 0.815882\tvalid_1's auc: 0.72586\n",
      "[600]\ttraining's auc: 0.834503\tvalid_1's auc: 0.726576\n",
      "[800]\ttraining's auc: 0.851575\tvalid_1's auc: 0.726625\n",
      "[1000]\ttraining's auc: 0.867619\tvalid_1's auc: 0.726561\n",
      "[1200]\ttraining's auc: 0.881291\tvalid_1's auc: 0.726576\n",
      "| \u001b[0m 9       \u001b[0m | \u001b[0m 0.7268  \u001b[0m | \u001b[0m 0.4298  \u001b[0m | \u001b[0m 9.723   \u001b[0m | \u001b[0m 0.01374 \u001b[0m | \u001b[0m 237.6   \u001b[0m | \u001b[0m 75.66   \u001b[0m |\n",
      "[LightGBM] [Warning] seed is set=27, random_state=27 will be ignored. Current value: seed=27\n",
      "[LightGBM] [Warning] min_data_in_leaf is set=51, min_child_samples=20 will be ignored. Current value: min_data_in_leaf=51\n",
      "[LightGBM] [Warning] lambda_l1 is set=0.436193, reg_alpha=0.0 will be ignored. Current value: lambda_l1=0.436193\n",
      "[LightGBM] [Warning] lambda_l2 is set=0.479169, reg_lambda=0.0 will be ignored. Current value: lambda_l2=0.479169\n",
      "[LightGBM] [Warning] early_stopping_round is set=500, early_stopping_rounds=500 will be ignored. Current value: early_stopping_round=500\n"
     ]
    },
    {
     "name": "stderr",
     "output_type": "stream",
     "text": [
      "C:\\Users\\Windows\\.conda\\envs\\tf\\lib\\site-packages\\lightgbm\\sklearn.py:726: UserWarning: 'early_stopping_rounds' argument is deprecated and will be removed in a future release of LightGBM. Pass 'early_stopping()' callback via 'callbacks' argument instead.\n",
      "  _log_warning(\"'early_stopping_rounds' argument is deprecated and will be removed in a future release of LightGBM. \"\n",
      "C:\\Users\\Windows\\.conda\\envs\\tf\\lib\\site-packages\\lightgbm\\sklearn.py:736: UserWarning: 'verbose' argument is deprecated and will be removed in a future release of LightGBM. Pass 'log_evaluation()' callback via 'callbacks' argument instead.\n",
      "  _log_warning(\"'verbose' argument is deprecated and will be removed in a future release of LightGBM. \"\n",
      "C:\\Users\\Windows\\.conda\\envs\\tf\\lib\\site-packages\\lightgbm\\basic.py:2065: UserWarning: Using categorical_feature in Dataset.\n",
      "  _log_warning('Using categorical_feature in Dataset.')\n",
      "C:\\Users\\Windows\\.conda\\envs\\tf\\lib\\site-packages\\lightgbm\\basic.py:2068: UserWarning: categorical_feature in Dataset is overridden.\n",
      "New categorical_feature is ['EDUCATION_LEVEL', 'FAMILY_STATUS', 'GENDER', 'NAME_CONTRACT_TYPE']\n",
      "  _log_warning('categorical_feature in Dataset is overridden.\\n'\n",
      "C:\\Users\\Windows\\.conda\\envs\\tf\\lib\\site-packages\\lightgbm\\basic.py:1780: UserWarning: Overriding the parameters from Reference Dataset.\n",
      "  _log_warning('Overriding the parameters from Reference Dataset.')\n",
      "C:\\Users\\Windows\\.conda\\envs\\tf\\lib\\site-packages\\lightgbm\\basic.py:1513: UserWarning: categorical_column in param dict is overridden.\n",
      "  _log_warning(f'{cat_alias} in param dict is overridden.')\n"
     ]
    },
    {
     "name": "stdout",
     "output_type": "stream",
     "text": [
      "[200]\ttraining's auc: 0.732639\tvalid_1's auc: 0.717206\n",
      "[400]\ttraining's auc: 0.749166\tvalid_1's auc: 0.723946\n",
      "[600]\ttraining's auc: 0.760534\tvalid_1's auc: 0.725096\n",
      "[800]\ttraining's auc: 0.77027\tvalid_1's auc: 0.724901\n",
      "[1000]\ttraining's auc: 0.779326\tvalid_1's auc: 0.725254\n",
      "| \u001b[0m 10      \u001b[0m | \u001b[0m 0.7256  \u001b[0m | \u001b[0m 0.6454  \u001b[0m | \u001b[0m 7.938   \u001b[0m | \u001b[0m 0.04815 \u001b[0m | \u001b[0m 51.19   \u001b[0m | \u001b[0m 15.78   \u001b[0m |\n",
      "[LightGBM] [Warning] seed is set=27, random_state=27 will be ignored. Current value: seed=27\n",
      "[LightGBM] [Warning] min_data_in_leaf is set=49, min_child_samples=20 will be ignored. Current value: min_data_in_leaf=49\n",
      "[LightGBM] [Warning] lambda_l1 is set=0.436193, reg_alpha=0.0 will be ignored. Current value: lambda_l1=0.436193\n",
      "[LightGBM] [Warning] lambda_l2 is set=0.479169, reg_lambda=0.0 will be ignored. Current value: lambda_l2=0.479169\n",
      "[LightGBM] [Warning] early_stopping_round is set=500, early_stopping_rounds=500 will be ignored. Current value: early_stopping_round=500\n"
     ]
    },
    {
     "name": "stderr",
     "output_type": "stream",
     "text": [
      "C:\\Users\\Windows\\.conda\\envs\\tf\\lib\\site-packages\\lightgbm\\sklearn.py:726: UserWarning: 'early_stopping_rounds' argument is deprecated and will be removed in a future release of LightGBM. Pass 'early_stopping()' callback via 'callbacks' argument instead.\n",
      "  _log_warning(\"'early_stopping_rounds' argument is deprecated and will be removed in a future release of LightGBM. \"\n",
      "C:\\Users\\Windows\\.conda\\envs\\tf\\lib\\site-packages\\lightgbm\\sklearn.py:736: UserWarning: 'verbose' argument is deprecated and will be removed in a future release of LightGBM. Pass 'log_evaluation()' callback via 'callbacks' argument instead.\n",
      "  _log_warning(\"'verbose' argument is deprecated and will be removed in a future release of LightGBM. \"\n",
      "C:\\Users\\Windows\\.conda\\envs\\tf\\lib\\site-packages\\lightgbm\\basic.py:2065: UserWarning: Using categorical_feature in Dataset.\n",
      "  _log_warning('Using categorical_feature in Dataset.')\n",
      "C:\\Users\\Windows\\.conda\\envs\\tf\\lib\\site-packages\\lightgbm\\basic.py:2068: UserWarning: categorical_feature in Dataset is overridden.\n",
      "New categorical_feature is ['EDUCATION_LEVEL', 'FAMILY_STATUS', 'GENDER', 'NAME_CONTRACT_TYPE']\n",
      "  _log_warning('categorical_feature in Dataset is overridden.\\n'\n",
      "C:\\Users\\Windows\\.conda\\envs\\tf\\lib\\site-packages\\lightgbm\\basic.py:1780: UserWarning: Overriding the parameters from Reference Dataset.\n",
      "  _log_warning('Overriding the parameters from Reference Dataset.')\n",
      "C:\\Users\\Windows\\.conda\\envs\\tf\\lib\\site-packages\\lightgbm\\basic.py:1513: UserWarning: categorical_column in param dict is overridden.\n",
      "  _log_warning(f'{cat_alias} in param dict is overridden.')\n"
     ]
    },
    {
     "name": "stdout",
     "output_type": "stream",
     "text": [
      "[200]\ttraining's auc: 0.732994\tvalid_1's auc: 0.717839\n",
      "[400]\ttraining's auc: 0.749815\tvalid_1's auc: 0.723822\n",
      "[600]\ttraining's auc: 0.761813\tvalid_1's auc: 0.725944\n",
      "[800]\ttraining's auc: 0.771459\tvalid_1's auc: 0.725749\n",
      "[1000]\ttraining's auc: 0.780859\tvalid_1's auc: 0.725579\n",
      "| \u001b[0m 11      \u001b[0m | \u001b[0m 0.7261  \u001b[0m | \u001b[0m 0.3291  \u001b[0m | \u001b[0m 7.029   \u001b[0m | \u001b[0m 0.01125 \u001b[0m | \u001b[0m 49.96   \u001b[0m | \u001b[0m 16.53   \u001b[0m |\n",
      "[LightGBM] [Warning] seed is set=27, random_state=27 will be ignored. Current value: seed=27\n",
      "[LightGBM] [Warning] min_data_in_leaf is set=49, min_child_samples=20 will be ignored. Current value: min_data_in_leaf=49\n",
      "[LightGBM] [Warning] lambda_l1 is set=0.436193, reg_alpha=0.0 will be ignored. Current value: lambda_l1=0.436193\n",
      "[LightGBM] [Warning] lambda_l2 is set=0.479169, reg_lambda=0.0 will be ignored. Current value: lambda_l2=0.479169\n",
      "[LightGBM] [Warning] early_stopping_round is set=500, early_stopping_rounds=500 will be ignored. Current value: early_stopping_round=500\n"
     ]
    },
    {
     "name": "stderr",
     "output_type": "stream",
     "text": [
      "C:\\Users\\Windows\\.conda\\envs\\tf\\lib\\site-packages\\lightgbm\\sklearn.py:726: UserWarning: 'early_stopping_rounds' argument is deprecated and will be removed in a future release of LightGBM. Pass 'early_stopping()' callback via 'callbacks' argument instead.\n",
      "  _log_warning(\"'early_stopping_rounds' argument is deprecated and will be removed in a future release of LightGBM. \"\n",
      "C:\\Users\\Windows\\.conda\\envs\\tf\\lib\\site-packages\\lightgbm\\sklearn.py:736: UserWarning: 'verbose' argument is deprecated and will be removed in a future release of LightGBM. Pass 'log_evaluation()' callback via 'callbacks' argument instead.\n",
      "  _log_warning(\"'verbose' argument is deprecated and will be removed in a future release of LightGBM. \"\n",
      "C:\\Users\\Windows\\.conda\\envs\\tf\\lib\\site-packages\\lightgbm\\basic.py:2065: UserWarning: Using categorical_feature in Dataset.\n",
      "  _log_warning('Using categorical_feature in Dataset.')\n",
      "C:\\Users\\Windows\\.conda\\envs\\tf\\lib\\site-packages\\lightgbm\\basic.py:2068: UserWarning: categorical_feature in Dataset is overridden.\n",
      "New categorical_feature is ['EDUCATION_LEVEL', 'FAMILY_STATUS', 'GENDER', 'NAME_CONTRACT_TYPE']\n",
      "  _log_warning('categorical_feature in Dataset is overridden.\\n'\n",
      "C:\\Users\\Windows\\.conda\\envs\\tf\\lib\\site-packages\\lightgbm\\basic.py:1780: UserWarning: Overriding the parameters from Reference Dataset.\n",
      "  _log_warning('Overriding the parameters from Reference Dataset.')\n",
      "C:\\Users\\Windows\\.conda\\envs\\tf\\lib\\site-packages\\lightgbm\\basic.py:1513: UserWarning: categorical_column in param dict is overridden.\n",
      "  _log_warning(f'{cat_alias} in param dict is overridden.')\n"
     ]
    },
    {
     "name": "stdout",
     "output_type": "stream",
     "text": [
      "[200]\ttraining's auc: 0.732922\tvalid_1's auc: 0.717349\n",
      "[400]\ttraining's auc: 0.749212\tvalid_1's auc: 0.723428\n",
      "[600]\ttraining's auc: 0.760682\tvalid_1's auc: 0.72514\n",
      "[800]\ttraining's auc: 0.770057\tvalid_1's auc: 0.725614\n",
      "[1000]\ttraining's auc: 0.77945\tvalid_1's auc: 0.725871\n",
      "[1200]\ttraining's auc: 0.787701\tvalid_1's auc: 0.725432\n",
      "[1400]\ttraining's auc: 0.795648\tvalid_1's auc: 0.725791\n",
      "| \u001b[0m 12      \u001b[0m | \u001b[0m 0.7262  \u001b[0m | \u001b[0m 0.3554  \u001b[0m | \u001b[0m 6.576   \u001b[0m | \u001b[0m 0.03594 \u001b[0m | \u001b[0m 49.77   \u001b[0m | \u001b[0m 16.58   \u001b[0m |\n",
      "[LightGBM] [Warning] seed is set=27, random_state=27 will be ignored. Current value: seed=27\n",
      "[LightGBM] [Warning] min_data_in_leaf is set=135, min_child_samples=20 will be ignored. Current value: min_data_in_leaf=135\n",
      "[LightGBM] [Warning] lambda_l1 is set=0.436193, reg_alpha=0.0 will be ignored. Current value: lambda_l1=0.436193\n",
      "[LightGBM] [Warning] lambda_l2 is set=0.479169, reg_lambda=0.0 will be ignored. Current value: lambda_l2=0.479169\n",
      "[LightGBM] [Warning] early_stopping_round is set=500, early_stopping_rounds=500 will be ignored. Current value: early_stopping_round=500\n"
     ]
    },
    {
     "name": "stderr",
     "output_type": "stream",
     "text": [
      "C:\\Users\\Windows\\.conda\\envs\\tf\\lib\\site-packages\\lightgbm\\sklearn.py:726: UserWarning: 'early_stopping_rounds' argument is deprecated and will be removed in a future release of LightGBM. Pass 'early_stopping()' callback via 'callbacks' argument instead.\n",
      "  _log_warning(\"'early_stopping_rounds' argument is deprecated and will be removed in a future release of LightGBM. \"\n",
      "C:\\Users\\Windows\\.conda\\envs\\tf\\lib\\site-packages\\lightgbm\\sklearn.py:736: UserWarning: 'verbose' argument is deprecated and will be removed in a future release of LightGBM. Pass 'log_evaluation()' callback via 'callbacks' argument instead.\n",
      "  _log_warning(\"'verbose' argument is deprecated and will be removed in a future release of LightGBM. \"\n",
      "C:\\Users\\Windows\\.conda\\envs\\tf\\lib\\site-packages\\lightgbm\\basic.py:2065: UserWarning: Using categorical_feature in Dataset.\n",
      "  _log_warning('Using categorical_feature in Dataset.')\n",
      "C:\\Users\\Windows\\.conda\\envs\\tf\\lib\\site-packages\\lightgbm\\basic.py:2068: UserWarning: categorical_feature in Dataset is overridden.\n",
      "New categorical_feature is ['EDUCATION_LEVEL', 'FAMILY_STATUS', 'GENDER', 'NAME_CONTRACT_TYPE']\n",
      "  _log_warning('categorical_feature in Dataset is overridden.\\n'\n",
      "C:\\Users\\Windows\\.conda\\envs\\tf\\lib\\site-packages\\lightgbm\\basic.py:1780: UserWarning: Overriding the parameters from Reference Dataset.\n",
      "  _log_warning('Overriding the parameters from Reference Dataset.')\n",
      "C:\\Users\\Windows\\.conda\\envs\\tf\\lib\\site-packages\\lightgbm\\basic.py:1513: UserWarning: categorical_column in param dict is overridden.\n",
      "  _log_warning(f'{cat_alias} in param dict is overridden.')\n"
     ]
    },
    {
     "name": "stdout",
     "output_type": "stream",
     "text": [
      "[200]\ttraining's auc: 0.7256\tvalid_1's auc: 0.715411\n",
      "[400]\ttraining's auc: 0.739075\tvalid_1's auc: 0.721965\n",
      "[600]\ttraining's auc: 0.747118\tvalid_1's auc: 0.723848\n",
      "[800]\ttraining's auc: 0.753972\tvalid_1's auc: 0.724303\n",
      "[1000]\ttraining's auc: 0.759556\tvalid_1's auc: 0.723886\n",
      "[1200]\ttraining's auc: 0.764814\tvalid_1's auc: 0.724109\n",
      "[1400]\ttraining's auc: 0.769973\tvalid_1's auc: 0.724887\n",
      "[1600]\ttraining's auc: 0.775879\tvalid_1's auc: 0.724848\n",
      "[1800]\ttraining's auc: 0.781282\tvalid_1's auc: 0.725095\n",
      "[2000]\ttraining's auc: 0.786495\tvalid_1's auc: 0.725395\n",
      "[2200]\ttraining's auc: 0.791259\tvalid_1's auc: 0.725844\n",
      "[2400]\ttraining's auc: 0.795937\tvalid_1's auc: 0.72538\n",
      "[2600]\ttraining's auc: 0.800953\tvalid_1's auc: 0.725287\n",
      "| \u001b[0m 13      \u001b[0m | \u001b[0m 0.7259  \u001b[0m | \u001b[0m 0.6205  \u001b[0m | \u001b[0m 7.004   \u001b[0m | \u001b[0m 0.02051 \u001b[0m | \u001b[0m 135.5   \u001b[0m | \u001b[0m 10.27   \u001b[0m |\n",
      "[LightGBM] [Warning] seed is set=27, random_state=27 will be ignored. Current value: seed=27\n",
      "[LightGBM] [Warning] min_data_in_leaf is set=126, min_child_samples=20 will be ignored. Current value: min_data_in_leaf=126\n",
      "[LightGBM] [Warning] lambda_l1 is set=0.436193, reg_alpha=0.0 will be ignored. Current value: lambda_l1=0.436193\n",
      "[LightGBM] [Warning] lambda_l2 is set=0.479169, reg_lambda=0.0 will be ignored. Current value: lambda_l2=0.479169\n",
      "[LightGBM] [Warning] early_stopping_round is set=500, early_stopping_rounds=500 will be ignored. Current value: early_stopping_round=500\n"
     ]
    },
    {
     "name": "stderr",
     "output_type": "stream",
     "text": [
      "C:\\Users\\Windows\\.conda\\envs\\tf\\lib\\site-packages\\lightgbm\\sklearn.py:726: UserWarning: 'early_stopping_rounds' argument is deprecated and will be removed in a future release of LightGBM. Pass 'early_stopping()' callback via 'callbacks' argument instead.\n",
      "  _log_warning(\"'early_stopping_rounds' argument is deprecated and will be removed in a future release of LightGBM. \"\n",
      "C:\\Users\\Windows\\.conda\\envs\\tf\\lib\\site-packages\\lightgbm\\sklearn.py:736: UserWarning: 'verbose' argument is deprecated and will be removed in a future release of LightGBM. Pass 'log_evaluation()' callback via 'callbacks' argument instead.\n",
      "  _log_warning(\"'verbose' argument is deprecated and will be removed in a future release of LightGBM. \"\n",
      "C:\\Users\\Windows\\.conda\\envs\\tf\\lib\\site-packages\\lightgbm\\basic.py:2065: UserWarning: Using categorical_feature in Dataset.\n",
      "  _log_warning('Using categorical_feature in Dataset.')\n",
      "C:\\Users\\Windows\\.conda\\envs\\tf\\lib\\site-packages\\lightgbm\\basic.py:2068: UserWarning: categorical_feature in Dataset is overridden.\n",
      "New categorical_feature is ['EDUCATION_LEVEL', 'FAMILY_STATUS', 'GENDER', 'NAME_CONTRACT_TYPE']\n",
      "  _log_warning('categorical_feature in Dataset is overridden.\\n'\n",
      "C:\\Users\\Windows\\.conda\\envs\\tf\\lib\\site-packages\\lightgbm\\basic.py:1780: UserWarning: Overriding the parameters from Reference Dataset.\n",
      "  _log_warning('Overriding the parameters from Reference Dataset.')\n",
      "C:\\Users\\Windows\\.conda\\envs\\tf\\lib\\site-packages\\lightgbm\\basic.py:1513: UserWarning: categorical_column in param dict is overridden.\n",
      "  _log_warning(f'{cat_alias} in param dict is overridden.')\n"
     ]
    },
    {
     "name": "stdout",
     "output_type": "stream",
     "text": [
      "[200]\ttraining's auc: 0.776112\tvalid_1's auc: 0.72093\n",
      "[400]\ttraining's auc: 0.803715\tvalid_1's auc: 0.725282\n",
      "[600]\ttraining's auc: 0.821861\tvalid_1's auc: 0.725837\n",
      "[800]\ttraining's auc: 0.835357\tvalid_1's auc: 0.726267\n",
      "[1000]\ttraining's auc: 0.849234\tvalid_1's auc: 0.727168\n",
      "[1200]\ttraining's auc: 0.862167\tvalid_1's auc: 0.727069\n",
      "[1400]\ttraining's auc: 0.873922\tvalid_1's auc: 0.726941\n",
      "| \u001b[0m 14      \u001b[0m | \u001b[0m 0.7275  \u001b[0m | \u001b[0m 0.3668  \u001b[0m | \u001b[0m 7.894   \u001b[0m | \u001b[0m 0.0342  \u001b[0m | \u001b[0m 126.1   \u001b[0m | \u001b[0m 69.77   \u001b[0m |\n",
      "[LightGBM] [Warning] seed is set=27, random_state=27 will be ignored. Current value: seed=27\n",
      "[LightGBM] [Warning] min_data_in_leaf is set=108, min_child_samples=20 will be ignored. Current value: min_data_in_leaf=108\n",
      "[LightGBM] [Warning] lambda_l1 is set=0.436193, reg_alpha=0.0 will be ignored. Current value: lambda_l1=0.436193\n",
      "[LightGBM] [Warning] lambda_l2 is set=0.479169, reg_lambda=0.0 will be ignored. Current value: lambda_l2=0.479169\n",
      "[LightGBM] [Warning] early_stopping_round is set=500, early_stopping_rounds=500 will be ignored. Current value: early_stopping_round=500\n"
     ]
    },
    {
     "name": "stderr",
     "output_type": "stream",
     "text": [
      "C:\\Users\\Windows\\.conda\\envs\\tf\\lib\\site-packages\\lightgbm\\sklearn.py:726: UserWarning: 'early_stopping_rounds' argument is deprecated and will be removed in a future release of LightGBM. Pass 'early_stopping()' callback via 'callbacks' argument instead.\n",
      "  _log_warning(\"'early_stopping_rounds' argument is deprecated and will be removed in a future release of LightGBM. \"\n",
      "C:\\Users\\Windows\\.conda\\envs\\tf\\lib\\site-packages\\lightgbm\\sklearn.py:736: UserWarning: 'verbose' argument is deprecated and will be removed in a future release of LightGBM. Pass 'log_evaluation()' callback via 'callbacks' argument instead.\n",
      "  _log_warning(\"'verbose' argument is deprecated and will be removed in a future release of LightGBM. \"\n",
      "C:\\Users\\Windows\\.conda\\envs\\tf\\lib\\site-packages\\lightgbm\\basic.py:2065: UserWarning: Using categorical_feature in Dataset.\n",
      "  _log_warning('Using categorical_feature in Dataset.')\n",
      "C:\\Users\\Windows\\.conda\\envs\\tf\\lib\\site-packages\\lightgbm\\basic.py:2068: UserWarning: categorical_feature in Dataset is overridden.\n",
      "New categorical_feature is ['EDUCATION_LEVEL', 'FAMILY_STATUS', 'GENDER', 'NAME_CONTRACT_TYPE']\n",
      "  _log_warning('categorical_feature in Dataset is overridden.\\n'\n",
      "C:\\Users\\Windows\\.conda\\envs\\tf\\lib\\site-packages\\lightgbm\\basic.py:1780: UserWarning: Overriding the parameters from Reference Dataset.\n",
      "  _log_warning('Overriding the parameters from Reference Dataset.')\n",
      "C:\\Users\\Windows\\.conda\\envs\\tf\\lib\\site-packages\\lightgbm\\basic.py:1513: UserWarning: categorical_column in param dict is overridden.\n",
      "  _log_warning(f'{cat_alias} in param dict is overridden.')\n"
     ]
    },
    {
     "name": "stdout",
     "output_type": "stream",
     "text": [
      "[200]\ttraining's auc: 0.781169\tvalid_1's auc: 0.719849\n",
      "[400]\ttraining's auc: 0.810626\tvalid_1's auc: 0.723558\n",
      "[600]\ttraining's auc: 0.827184\tvalid_1's auc: 0.724532\n",
      "[800]\ttraining's auc: 0.841624\tvalid_1's auc: 0.724956\n",
      "[1000]\ttraining's auc: 0.856082\tvalid_1's auc: 0.725443\n",
      "[1200]\ttraining's auc: 0.869872\tvalid_1's auc: 0.725452\n",
      "[1400]\ttraining's auc: 0.881737\tvalid_1's auc: 0.724599\n",
      "[1600]\ttraining's auc: 0.892393\tvalid_1's auc: 0.725014\n",
      "| \u001b[0m 15      \u001b[0m | \u001b[0m 0.726   \u001b[0m | \u001b[0m 0.682   \u001b[0m | \u001b[0m 7.655   \u001b[0m | \u001b[0m 0.04589 \u001b[0m | \u001b[0m 108.6   \u001b[0m | \u001b[0m 70.36   \u001b[0m |\n",
      "[LightGBM] [Warning] seed is set=27, random_state=27 will be ignored. Current value: seed=27\n",
      "[LightGBM] [Warning] min_data_in_leaf is set=50, min_child_samples=20 will be ignored. Current value: min_data_in_leaf=50\n",
      "[LightGBM] [Warning] lambda_l1 is set=0.436193, reg_alpha=0.0 will be ignored. Current value: lambda_l1=0.436193\n",
      "[LightGBM] [Warning] lambda_l2 is set=0.479169, reg_lambda=0.0 will be ignored. Current value: lambda_l2=0.479169\n",
      "[LightGBM] [Warning] early_stopping_round is set=500, early_stopping_rounds=500 will be ignored. Current value: early_stopping_round=500\n"
     ]
    },
    {
     "name": "stderr",
     "output_type": "stream",
     "text": [
      "C:\\Users\\Windows\\.conda\\envs\\tf\\lib\\site-packages\\lightgbm\\sklearn.py:726: UserWarning: 'early_stopping_rounds' argument is deprecated and will be removed in a future release of LightGBM. Pass 'early_stopping()' callback via 'callbacks' argument instead.\n",
      "  _log_warning(\"'early_stopping_rounds' argument is deprecated and will be removed in a future release of LightGBM. \"\n",
      "C:\\Users\\Windows\\.conda\\envs\\tf\\lib\\site-packages\\lightgbm\\sklearn.py:736: UserWarning: 'verbose' argument is deprecated and will be removed in a future release of LightGBM. Pass 'log_evaluation()' callback via 'callbacks' argument instead.\n",
      "  _log_warning(\"'verbose' argument is deprecated and will be removed in a future release of LightGBM. \"\n",
      "C:\\Users\\Windows\\.conda\\envs\\tf\\lib\\site-packages\\lightgbm\\basic.py:2065: UserWarning: Using categorical_feature in Dataset.\n",
      "  _log_warning('Using categorical_feature in Dataset.')\n",
      "C:\\Users\\Windows\\.conda\\envs\\tf\\lib\\site-packages\\lightgbm\\basic.py:2068: UserWarning: categorical_feature in Dataset is overridden.\n",
      "New categorical_feature is ['EDUCATION_LEVEL', 'FAMILY_STATUS', 'GENDER', 'NAME_CONTRACT_TYPE']\n",
      "  _log_warning('categorical_feature in Dataset is overridden.\\n'\n",
      "C:\\Users\\Windows\\.conda\\envs\\tf\\lib\\site-packages\\lightgbm\\basic.py:1780: UserWarning: Overriding the parameters from Reference Dataset.\n",
      "  _log_warning('Overriding the parameters from Reference Dataset.')\n",
      "C:\\Users\\Windows\\.conda\\envs\\tf\\lib\\site-packages\\lightgbm\\basic.py:1513: UserWarning: categorical_column in param dict is overridden.\n",
      "  _log_warning(f'{cat_alias} in param dict is overridden.')\n"
     ]
    },
    {
     "name": "stdout",
     "output_type": "stream",
     "text": [
      "[200]\ttraining's auc: 0.782146\tvalid_1's auc: 0.719181\n",
      "[400]\ttraining's auc: 0.819328\tvalid_1's auc: 0.72348\n",
      "[600]\ttraining's auc: 0.846029\tvalid_1's auc: 0.723838\n",
      "[800]\ttraining's auc: 0.868849\tvalid_1's auc: 0.723583\n",
      "[1000]\ttraining's auc: 0.886884\tvalid_1's auc: 0.723563\n",
      "[1200]\ttraining's auc: 0.901839\tvalid_1's auc: 0.723671\n",
      "[1400]\ttraining's auc: 0.913459\tvalid_1's auc: 0.722705\n",
      "[1600]\ttraining's auc: 0.922909\tvalid_1's auc: 0.722404\n",
      "| \u001b[0m 16      \u001b[0m | \u001b[0m 0.7242  \u001b[0m | \u001b[0m 0.6579  \u001b[0m | \u001b[0m 9.676   \u001b[0m | \u001b[0m 0.04021 \u001b[0m | \u001b[0m 50.18   \u001b[0m | \u001b[0m 61.02   \u001b[0m |\n",
      "[LightGBM] [Warning] seed is set=27, random_state=27 will be ignored. Current value: seed=27\n",
      "[LightGBM] [Warning] min_data_in_leaf is set=115, min_child_samples=20 will be ignored. Current value: min_data_in_leaf=115\n",
      "[LightGBM] [Warning] lambda_l1 is set=0.436193, reg_alpha=0.0 will be ignored. Current value: lambda_l1=0.436193\n",
      "[LightGBM] [Warning] lambda_l2 is set=0.479169, reg_lambda=0.0 will be ignored. Current value: lambda_l2=0.479169\n",
      "[LightGBM] [Warning] early_stopping_round is set=500, early_stopping_rounds=500 will be ignored. Current value: early_stopping_round=500\n"
     ]
    },
    {
     "name": "stderr",
     "output_type": "stream",
     "text": [
      "C:\\Users\\Windows\\.conda\\envs\\tf\\lib\\site-packages\\lightgbm\\sklearn.py:726: UserWarning: 'early_stopping_rounds' argument is deprecated and will be removed in a future release of LightGBM. Pass 'early_stopping()' callback via 'callbacks' argument instead.\n",
      "  _log_warning(\"'early_stopping_rounds' argument is deprecated and will be removed in a future release of LightGBM. \"\n",
      "C:\\Users\\Windows\\.conda\\envs\\tf\\lib\\site-packages\\lightgbm\\sklearn.py:736: UserWarning: 'verbose' argument is deprecated and will be removed in a future release of LightGBM. Pass 'log_evaluation()' callback via 'callbacks' argument instead.\n",
      "  _log_warning(\"'verbose' argument is deprecated and will be removed in a future release of LightGBM. \"\n",
      "C:\\Users\\Windows\\.conda\\envs\\tf\\lib\\site-packages\\lightgbm\\basic.py:2065: UserWarning: Using categorical_feature in Dataset.\n",
      "  _log_warning('Using categorical_feature in Dataset.')\n",
      "C:\\Users\\Windows\\.conda\\envs\\tf\\lib\\site-packages\\lightgbm\\basic.py:2068: UserWarning: categorical_feature in Dataset is overridden.\n",
      "New categorical_feature is ['EDUCATION_LEVEL', 'FAMILY_STATUS', 'GENDER', 'NAME_CONTRACT_TYPE']\n",
      "  _log_warning('categorical_feature in Dataset is overridden.\\n'\n",
      "C:\\Users\\Windows\\.conda\\envs\\tf\\lib\\site-packages\\lightgbm\\basic.py:1780: UserWarning: Overriding the parameters from Reference Dataset.\n",
      "  _log_warning('Overriding the parameters from Reference Dataset.')\n",
      "C:\\Users\\Windows\\.conda\\envs\\tf\\lib\\site-packages\\lightgbm\\basic.py:1513: UserWarning: categorical_column in param dict is overridden.\n",
      "  _log_warning(f'{cat_alias} in param dict is overridden.')\n"
     ]
    },
    {
     "name": "stdout",
     "output_type": "stream",
     "text": [
      "[200]\ttraining's auc: 0.768587\tvalid_1's auc: 0.71972\n",
      "[400]\ttraining's auc: 0.79714\tvalid_1's auc: 0.723855\n",
      "[600]\ttraining's auc: 0.814222\tvalid_1's auc: 0.724939\n",
      "[800]\ttraining's auc: 0.829396\tvalid_1's auc: 0.725153\n",
      "[1000]\ttraining's auc: 0.844755\tvalid_1's auc: 0.724282\n",
      "[1200]\ttraining's auc: 0.858039\tvalid_1's auc: 0.724359\n",
      "| \u001b[0m 17      \u001b[0m | \u001b[0m 0.7255  \u001b[0m | \u001b[0m 0.746   \u001b[0m | \u001b[0m 7.732   \u001b[0m | \u001b[0m 0.02754 \u001b[0m | \u001b[0m 116.0   \u001b[0m | \u001b[0m 52.19   \u001b[0m |\n",
      "[LightGBM] [Warning] seed is set=27, random_state=27 will be ignored. Current value: seed=27\n",
      "[LightGBM] [Warning] min_data_in_leaf is set=251, min_child_samples=20 will be ignored. Current value: min_data_in_leaf=251\n",
      "[LightGBM] [Warning] lambda_l1 is set=0.436193, reg_alpha=0.0 will be ignored. Current value: lambda_l1=0.436193\n",
      "[LightGBM] [Warning] lambda_l2 is set=0.479169, reg_lambda=0.0 will be ignored. Current value: lambda_l2=0.479169\n",
      "[LightGBM] [Warning] early_stopping_round is set=500, early_stopping_rounds=500 will be ignored. Current value: early_stopping_round=500\n"
     ]
    },
    {
     "name": "stderr",
     "output_type": "stream",
     "text": [
      "C:\\Users\\Windows\\.conda\\envs\\tf\\lib\\site-packages\\lightgbm\\sklearn.py:726: UserWarning: 'early_stopping_rounds' argument is deprecated and will be removed in a future release of LightGBM. Pass 'early_stopping()' callback via 'callbacks' argument instead.\n",
      "  _log_warning(\"'early_stopping_rounds' argument is deprecated and will be removed in a future release of LightGBM. \"\n",
      "C:\\Users\\Windows\\.conda\\envs\\tf\\lib\\site-packages\\lightgbm\\sklearn.py:736: UserWarning: 'verbose' argument is deprecated and will be removed in a future release of LightGBM. Pass 'log_evaluation()' callback via 'callbacks' argument instead.\n",
      "  _log_warning(\"'verbose' argument is deprecated and will be removed in a future release of LightGBM. \"\n",
      "C:\\Users\\Windows\\.conda\\envs\\tf\\lib\\site-packages\\lightgbm\\basic.py:2065: UserWarning: Using categorical_feature in Dataset.\n",
      "  _log_warning('Using categorical_feature in Dataset.')\n",
      "C:\\Users\\Windows\\.conda\\envs\\tf\\lib\\site-packages\\lightgbm\\basic.py:2068: UserWarning: categorical_feature in Dataset is overridden.\n",
      "New categorical_feature is ['EDUCATION_LEVEL', 'FAMILY_STATUS', 'GENDER', 'NAME_CONTRACT_TYPE']\n",
      "  _log_warning('categorical_feature in Dataset is overridden.\\n'\n",
      "C:\\Users\\Windows\\.conda\\envs\\tf\\lib\\site-packages\\lightgbm\\basic.py:1780: UserWarning: Overriding the parameters from Reference Dataset.\n",
      "  _log_warning('Overriding the parameters from Reference Dataset.')\n",
      "C:\\Users\\Windows\\.conda\\envs\\tf\\lib\\site-packages\\lightgbm\\basic.py:1513: UserWarning: categorical_column in param dict is overridden.\n",
      "  _log_warning(f'{cat_alias} in param dict is overridden.')\n"
     ]
    },
    {
     "name": "stdout",
     "output_type": "stream",
     "text": [
      "[200]\ttraining's auc: 0.771462\tvalid_1's auc: 0.720447\n",
      "[400]\ttraining's auc: 0.800543\tvalid_1's auc: 0.724224\n",
      "[600]\ttraining's auc: 0.819977\tvalid_1's auc: 0.724392\n",
      "[800]\ttraining's auc: 0.837227\tvalid_1's auc: 0.724288\n",
      "[1000]\ttraining's auc: 0.852253\tvalid_1's auc: 0.724692\n",
      "[1200]\ttraining's auc: 0.867212\tvalid_1's auc: 0.72472\n",
      "[1400]\ttraining's auc: 0.879895\tvalid_1's auc: 0.724237\n",
      "| \u001b[0m 18      \u001b[0m | \u001b[0m 0.7256  \u001b[0m | \u001b[0m 0.565   \u001b[0m | \u001b[0m 9.022   \u001b[0m | \u001b[0m 0.000914\u001b[0m | \u001b[0m 251.2   \u001b[0m | \u001b[0m 56.33   \u001b[0m |\n",
      "[LightGBM] [Warning] seed is set=27, random_state=27 will be ignored. Current value: seed=27\n",
      "[LightGBM] [Warning] min_data_in_leaf is set=238, min_child_samples=20 will be ignored. Current value: min_data_in_leaf=238\n",
      "[LightGBM] [Warning] lambda_l1 is set=0.436193, reg_alpha=0.0 will be ignored. Current value: lambda_l1=0.436193\n",
      "[LightGBM] [Warning] lambda_l2 is set=0.479169, reg_lambda=0.0 will be ignored. Current value: lambda_l2=0.479169\n",
      "[LightGBM] [Warning] early_stopping_round is set=500, early_stopping_rounds=500 will be ignored. Current value: early_stopping_round=500\n"
     ]
    },
    {
     "name": "stderr",
     "output_type": "stream",
     "text": [
      "C:\\Users\\Windows\\.conda\\envs\\tf\\lib\\site-packages\\lightgbm\\sklearn.py:726: UserWarning: 'early_stopping_rounds' argument is deprecated and will be removed in a future release of LightGBM. Pass 'early_stopping()' callback via 'callbacks' argument instead.\n",
      "  _log_warning(\"'early_stopping_rounds' argument is deprecated and will be removed in a future release of LightGBM. \"\n",
      "C:\\Users\\Windows\\.conda\\envs\\tf\\lib\\site-packages\\lightgbm\\sklearn.py:736: UserWarning: 'verbose' argument is deprecated and will be removed in a future release of LightGBM. Pass 'log_evaluation()' callback via 'callbacks' argument instead.\n",
      "  _log_warning(\"'verbose' argument is deprecated and will be removed in a future release of LightGBM. \"\n",
      "C:\\Users\\Windows\\.conda\\envs\\tf\\lib\\site-packages\\lightgbm\\basic.py:2065: UserWarning: Using categorical_feature in Dataset.\n",
      "  _log_warning('Using categorical_feature in Dataset.')\n",
      "C:\\Users\\Windows\\.conda\\envs\\tf\\lib\\site-packages\\lightgbm\\basic.py:2068: UserWarning: categorical_feature in Dataset is overridden.\n",
      "New categorical_feature is ['EDUCATION_LEVEL', 'FAMILY_STATUS', 'GENDER', 'NAME_CONTRACT_TYPE']\n",
      "  _log_warning('categorical_feature in Dataset is overridden.\\n'\n",
      "C:\\Users\\Windows\\.conda\\envs\\tf\\lib\\site-packages\\lightgbm\\basic.py:1780: UserWarning: Overriding the parameters from Reference Dataset.\n",
      "  _log_warning('Overriding the parameters from Reference Dataset.')\n",
      "C:\\Users\\Windows\\.conda\\envs\\tf\\lib\\site-packages\\lightgbm\\basic.py:1513: UserWarning: categorical_column in param dict is overridden.\n",
      "  _log_warning(f'{cat_alias} in param dict is overridden.')\n"
     ]
    },
    {
     "name": "stdout",
     "output_type": "stream",
     "text": [
      "[200]\ttraining's auc: 0.786338\tvalid_1's auc: 0.720878\n",
      "[400]\ttraining's auc: 0.817204\tvalid_1's auc: 0.724177\n",
      "[600]\ttraining's auc: 0.835939\tvalid_1's auc: 0.72426\n",
      "[800]\ttraining's auc: 0.854626\tvalid_1's auc: 0.724296\n",
      "[1000]\ttraining's auc: 0.87007\tvalid_1's auc: 0.724103\n",
      "[1200]\ttraining's auc: 0.884036\tvalid_1's auc: 0.723666\n",
      "[1400]\ttraining's auc: 0.894926\tvalid_1's auc: 0.72371\n",
      "| \u001b[0m 19      \u001b[0m | \u001b[0m 0.7247  \u001b[0m | \u001b[0m 0.5616  \u001b[0m | \u001b[0m 9.255   \u001b[0m | \u001b[0m 0.01908 \u001b[0m | \u001b[0m 238.3   \u001b[0m | \u001b[0m 76.06   \u001b[0m |\n",
      "[LightGBM] [Warning] seed is set=27, random_state=27 will be ignored. Current value: seed=27\n",
      "[LightGBM] [Warning] min_data_in_leaf is set=99, min_child_samples=20 will be ignored. Current value: min_data_in_leaf=99\n",
      "[LightGBM] [Warning] lambda_l1 is set=0.436193, reg_alpha=0.0 will be ignored. Current value: lambda_l1=0.436193\n",
      "[LightGBM] [Warning] lambda_l2 is set=0.479169, reg_lambda=0.0 will be ignored. Current value: lambda_l2=0.479169\n",
      "[LightGBM] [Warning] early_stopping_round is set=500, early_stopping_rounds=500 will be ignored. Current value: early_stopping_round=500\n"
     ]
    },
    {
     "name": "stderr",
     "output_type": "stream",
     "text": [
      "C:\\Users\\Windows\\.conda\\envs\\tf\\lib\\site-packages\\lightgbm\\sklearn.py:726: UserWarning: 'early_stopping_rounds' argument is deprecated and will be removed in a future release of LightGBM. Pass 'early_stopping()' callback via 'callbacks' argument instead.\n",
      "  _log_warning(\"'early_stopping_rounds' argument is deprecated and will be removed in a future release of LightGBM. \"\n",
      "C:\\Users\\Windows\\.conda\\envs\\tf\\lib\\site-packages\\lightgbm\\sklearn.py:736: UserWarning: 'verbose' argument is deprecated and will be removed in a future release of LightGBM. Pass 'log_evaluation()' callback via 'callbacks' argument instead.\n",
      "  _log_warning(\"'verbose' argument is deprecated and will be removed in a future release of LightGBM. \"\n",
      "C:\\Users\\Windows\\.conda\\envs\\tf\\lib\\site-packages\\lightgbm\\basic.py:2065: UserWarning: Using categorical_feature in Dataset.\n",
      "  _log_warning('Using categorical_feature in Dataset.')\n",
      "C:\\Users\\Windows\\.conda\\envs\\tf\\lib\\site-packages\\lightgbm\\basic.py:2068: UserWarning: categorical_feature in Dataset is overridden.\n",
      "New categorical_feature is ['EDUCATION_LEVEL', 'FAMILY_STATUS', 'GENDER', 'NAME_CONTRACT_TYPE']\n",
      "  _log_warning('categorical_feature in Dataset is overridden.\\n'\n",
      "C:\\Users\\Windows\\.conda\\envs\\tf\\lib\\site-packages\\lightgbm\\basic.py:1780: UserWarning: Overriding the parameters from Reference Dataset.\n",
      "  _log_warning('Overriding the parameters from Reference Dataset.')\n",
      "C:\\Users\\Windows\\.conda\\envs\\tf\\lib\\site-packages\\lightgbm\\basic.py:1513: UserWarning: categorical_column in param dict is overridden.\n",
      "  _log_warning(f'{cat_alias} in param dict is overridden.')\n"
     ]
    },
    {
     "name": "stdout",
     "output_type": "stream",
     "text": [
      "[200]\ttraining's auc: 0.778304\tvalid_1's auc: 0.719952\n",
      "[400]\ttraining's auc: 0.812487\tvalid_1's auc: 0.723442\n",
      "[600]\ttraining's auc: 0.836438\tvalid_1's auc: 0.723478\n",
      "[800]\ttraining's auc: 0.858176\tvalid_1's auc: 0.723025\n",
      "[1000]\ttraining's auc: 0.876646\tvalid_1's auc: 0.721833\n",
      "| \u001b[0m 20      \u001b[0m | \u001b[0m 0.7243  \u001b[0m | \u001b[0m 0.8689  \u001b[0m | \u001b[0m 9.042   \u001b[0m | \u001b[0m 0.04862 \u001b[0m | \u001b[0m 99.98   \u001b[0m | \u001b[0m 59.15   \u001b[0m |\n",
      "[LightGBM] [Warning] seed is set=27, random_state=27 will be ignored. Current value: seed=27\n",
      "[LightGBM] [Warning] min_data_in_leaf is set=211, min_child_samples=20 will be ignored. Current value: min_data_in_leaf=211\n",
      "[LightGBM] [Warning] lambda_l1 is set=0.436193, reg_alpha=0.0 will be ignored. Current value: lambda_l1=0.436193\n",
      "[LightGBM] [Warning] lambda_l2 is set=0.479169, reg_lambda=0.0 will be ignored. Current value: lambda_l2=0.479169\n",
      "[LightGBM] [Warning] early_stopping_round is set=500, early_stopping_rounds=500 will be ignored. Current value: early_stopping_round=500\n"
     ]
    },
    {
     "name": "stderr",
     "output_type": "stream",
     "text": [
      "C:\\Users\\Windows\\.conda\\envs\\tf\\lib\\site-packages\\lightgbm\\sklearn.py:726: UserWarning: 'early_stopping_rounds' argument is deprecated and will be removed in a future release of LightGBM. Pass 'early_stopping()' callback via 'callbacks' argument instead.\n",
      "  _log_warning(\"'early_stopping_rounds' argument is deprecated and will be removed in a future release of LightGBM. \"\n",
      "C:\\Users\\Windows\\.conda\\envs\\tf\\lib\\site-packages\\lightgbm\\sklearn.py:736: UserWarning: 'verbose' argument is deprecated and will be removed in a future release of LightGBM. Pass 'log_evaluation()' callback via 'callbacks' argument instead.\n",
      "  _log_warning(\"'verbose' argument is deprecated and will be removed in a future release of LightGBM. \"\n",
      "C:\\Users\\Windows\\.conda\\envs\\tf\\lib\\site-packages\\lightgbm\\basic.py:2065: UserWarning: Using categorical_feature in Dataset.\n",
      "  _log_warning('Using categorical_feature in Dataset.')\n",
      "C:\\Users\\Windows\\.conda\\envs\\tf\\lib\\site-packages\\lightgbm\\basic.py:2068: UserWarning: categorical_feature in Dataset is overridden.\n",
      "New categorical_feature is ['EDUCATION_LEVEL', 'FAMILY_STATUS', 'GENDER', 'NAME_CONTRACT_TYPE']\n",
      "  _log_warning('categorical_feature in Dataset is overridden.\\n'\n",
      "C:\\Users\\Windows\\.conda\\envs\\tf\\lib\\site-packages\\lightgbm\\basic.py:1780: UserWarning: Overriding the parameters from Reference Dataset.\n",
      "  _log_warning('Overriding the parameters from Reference Dataset.')\n",
      "C:\\Users\\Windows\\.conda\\envs\\tf\\lib\\site-packages\\lightgbm\\basic.py:1513: UserWarning: categorical_column in param dict is overridden.\n",
      "  _log_warning(f'{cat_alias} in param dict is overridden.')\n"
     ]
    },
    {
     "name": "stdout",
     "output_type": "stream",
     "text": [
      "[200]\ttraining's auc: 0.777032\tvalid_1's auc: 0.720552\n",
      "[400]\ttraining's auc: 0.808472\tvalid_1's auc: 0.725024\n",
      "[600]\ttraining's auc: 0.828892\tvalid_1's auc: 0.725955\n",
      "[800]\ttraining's auc: 0.845545\tvalid_1's auc: 0.725608\n",
      "[1000]\ttraining's auc: 0.863145\tvalid_1's auc: 0.726258\n",
      "[1200]\ttraining's auc: 0.878628\tvalid_1's auc: 0.726174\n",
      "[1400]\ttraining's auc: 0.891076\tvalid_1's auc: 0.725493\n",
      "[1600]\ttraining's auc: 0.901423\tvalid_1's auc: 0.725017\n",
      "| \u001b[0m 21      \u001b[0m | \u001b[0m 0.7268  \u001b[0m | \u001b[0m 0.4893  \u001b[0m | \u001b[0m 9.721   \u001b[0m | \u001b[0m 0.02708 \u001b[0m | \u001b[0m 211.2   \u001b[0m | \u001b[0m 63.51   \u001b[0m |\n",
      "[LightGBM] [Warning] seed is set=27, random_state=27 will be ignored. Current value: seed=27\n",
      "[LightGBM] [Warning] min_data_in_leaf is set=145, min_child_samples=20 will be ignored. Current value: min_data_in_leaf=145\n",
      "[LightGBM] [Warning] lambda_l1 is set=0.436193, reg_alpha=0.0 will be ignored. Current value: lambda_l1=0.436193\n",
      "[LightGBM] [Warning] lambda_l2 is set=0.479169, reg_lambda=0.0 will be ignored. Current value: lambda_l2=0.479169\n",
      "[LightGBM] [Warning] early_stopping_round is set=500, early_stopping_rounds=500 will be ignored. Current value: early_stopping_round=500\n"
     ]
    },
    {
     "name": "stderr",
     "output_type": "stream",
     "text": [
      "C:\\Users\\Windows\\.conda\\envs\\tf\\lib\\site-packages\\lightgbm\\sklearn.py:726: UserWarning: 'early_stopping_rounds' argument is deprecated and will be removed in a future release of LightGBM. Pass 'early_stopping()' callback via 'callbacks' argument instead.\n",
      "  _log_warning(\"'early_stopping_rounds' argument is deprecated and will be removed in a future release of LightGBM. \"\n",
      "C:\\Users\\Windows\\.conda\\envs\\tf\\lib\\site-packages\\lightgbm\\sklearn.py:736: UserWarning: 'verbose' argument is deprecated and will be removed in a future release of LightGBM. Pass 'log_evaluation()' callback via 'callbacks' argument instead.\n",
      "  _log_warning(\"'verbose' argument is deprecated and will be removed in a future release of LightGBM. \"\n",
      "C:\\Users\\Windows\\.conda\\envs\\tf\\lib\\site-packages\\lightgbm\\basic.py:2065: UserWarning: Using categorical_feature in Dataset.\n",
      "  _log_warning('Using categorical_feature in Dataset.')\n",
      "C:\\Users\\Windows\\.conda\\envs\\tf\\lib\\site-packages\\lightgbm\\basic.py:2068: UserWarning: categorical_feature in Dataset is overridden.\n",
      "New categorical_feature is ['EDUCATION_LEVEL', 'FAMILY_STATUS', 'GENDER', 'NAME_CONTRACT_TYPE']\n",
      "  _log_warning('categorical_feature in Dataset is overridden.\\n'\n",
      "C:\\Users\\Windows\\.conda\\envs\\tf\\lib\\site-packages\\lightgbm\\basic.py:1780: UserWarning: Overriding the parameters from Reference Dataset.\n",
      "  _log_warning('Overriding the parameters from Reference Dataset.')\n",
      "C:\\Users\\Windows\\.conda\\envs\\tf\\lib\\site-packages\\lightgbm\\basic.py:1513: UserWarning: categorical_column in param dict is overridden.\n",
      "  _log_warning(f'{cat_alias} in param dict is overridden.')\n"
     ]
    },
    {
     "name": "stdout",
     "output_type": "stream",
     "text": [
      "[200]\ttraining's auc: 0.733647\tvalid_1's auc: 0.717552\n",
      "[400]\ttraining's auc: 0.749921\tvalid_1's auc: 0.723865\n",
      "[600]\ttraining's auc: 0.761742\tvalid_1's auc: 0.724862\n",
      "[800]\ttraining's auc: 0.771184\tvalid_1's auc: 0.725097\n",
      "[1000]\ttraining's auc: 0.780221\tvalid_1's auc: 0.725083\n",
      "[1200]\ttraining's auc: 0.789076\tvalid_1's auc: 0.725079\n",
      "[1400]\ttraining's auc: 0.796633\tvalid_1's auc: 0.725212\n",
      "[1600]\ttraining's auc: 0.804535\tvalid_1's auc: 0.724972\n",
      "[1800]\ttraining's auc: 0.812456\tvalid_1's auc: 0.725108\n",
      "[2000]\ttraining's auc: 0.820018\tvalid_1's auc: 0.72535\n",
      "[2200]\ttraining's auc: 0.827663\tvalid_1's auc: 0.724909\n",
      "[2400]\ttraining's auc: 0.834361\tvalid_1's auc: 0.724656\n",
      "| \u001b[0m 22      \u001b[0m | \u001b[0m 0.7256  \u001b[0m | \u001b[0m 0.6708  \u001b[0m | \u001b[0m 8.507   \u001b[0m | \u001b[0m 0.03891 \u001b[0m | \u001b[0m 145.1   \u001b[0m | \u001b[0m 16.7    \u001b[0m |\n",
      "[LightGBM] [Warning] seed is set=27, random_state=27 will be ignored. Current value: seed=27\n",
      "[LightGBM] [Warning] min_data_in_leaf is set=218, min_child_samples=20 will be ignored. Current value: min_data_in_leaf=218\n",
      "[LightGBM] [Warning] lambda_l1 is set=0.436193, reg_alpha=0.0 will be ignored. Current value: lambda_l1=0.436193\n",
      "[LightGBM] [Warning] lambda_l2 is set=0.479169, reg_lambda=0.0 will be ignored. Current value: lambda_l2=0.479169\n",
      "[LightGBM] [Warning] early_stopping_round is set=500, early_stopping_rounds=500 will be ignored. Current value: early_stopping_round=500\n"
     ]
    },
    {
     "name": "stderr",
     "output_type": "stream",
     "text": [
      "C:\\Users\\Windows\\.conda\\envs\\tf\\lib\\site-packages\\lightgbm\\sklearn.py:726: UserWarning: 'early_stopping_rounds' argument is deprecated and will be removed in a future release of LightGBM. Pass 'early_stopping()' callback via 'callbacks' argument instead.\n",
      "  _log_warning(\"'early_stopping_rounds' argument is deprecated and will be removed in a future release of LightGBM. \"\n",
      "C:\\Users\\Windows\\.conda\\envs\\tf\\lib\\site-packages\\lightgbm\\sklearn.py:736: UserWarning: 'verbose' argument is deprecated and will be removed in a future release of LightGBM. Pass 'log_evaluation()' callback via 'callbacks' argument instead.\n",
      "  _log_warning(\"'verbose' argument is deprecated and will be removed in a future release of LightGBM. \"\n",
      "C:\\Users\\Windows\\.conda\\envs\\tf\\lib\\site-packages\\lightgbm\\basic.py:2065: UserWarning: Using categorical_feature in Dataset.\n",
      "  _log_warning('Using categorical_feature in Dataset.')\n",
      "C:\\Users\\Windows\\.conda\\envs\\tf\\lib\\site-packages\\lightgbm\\basic.py:2068: UserWarning: categorical_feature in Dataset is overridden.\n",
      "New categorical_feature is ['EDUCATION_LEVEL', 'FAMILY_STATUS', 'GENDER', 'NAME_CONTRACT_TYPE']\n",
      "  _log_warning('categorical_feature in Dataset is overridden.\\n'\n",
      "C:\\Users\\Windows\\.conda\\envs\\tf\\lib\\site-packages\\lightgbm\\basic.py:1780: UserWarning: Overriding the parameters from Reference Dataset.\n",
      "  _log_warning('Overriding the parameters from Reference Dataset.')\n",
      "C:\\Users\\Windows\\.conda\\envs\\tf\\lib\\site-packages\\lightgbm\\basic.py:1513: UserWarning: categorical_column in param dict is overridden.\n",
      "  _log_warning(f'{cat_alias} in param dict is overridden.')\n"
     ]
    },
    {
     "name": "stdout",
     "output_type": "stream",
     "text": [
      "[200]\ttraining's auc: 0.767357\tvalid_1's auc: 0.719398\n",
      "[400]\ttraining's auc: 0.793465\tvalid_1's auc: 0.724136\n",
      "[600]\ttraining's auc: 0.808464\tvalid_1's auc: 0.723829\n",
      "[800]\ttraining's auc: 0.82216\tvalid_1's auc: 0.724421\n",
      "| \u001b[0m 23      \u001b[0m | \u001b[0m 0.7252  \u001b[0m | \u001b[0m 0.7276  \u001b[0m | \u001b[0m 7.851   \u001b[0m | \u001b[0m 0.02544 \u001b[0m | \u001b[0m 218.8   \u001b[0m | \u001b[0m 53.2    \u001b[0m |\n",
      "[LightGBM] [Warning] seed is set=27, random_state=27 will be ignored. Current value: seed=27\n",
      "[LightGBM] [Warning] min_data_in_leaf is set=126, min_child_samples=20 will be ignored. Current value: min_data_in_leaf=126\n",
      "[LightGBM] [Warning] lambda_l1 is set=0.436193, reg_alpha=0.0 will be ignored. Current value: lambda_l1=0.436193\n",
      "[LightGBM] [Warning] lambda_l2 is set=0.479169, reg_lambda=0.0 will be ignored. Current value: lambda_l2=0.479169\n",
      "[LightGBM] [Warning] early_stopping_round is set=500, early_stopping_rounds=500 will be ignored. Current value: early_stopping_round=500\n"
     ]
    },
    {
     "name": "stderr",
     "output_type": "stream",
     "text": [
      "C:\\Users\\Windows\\.conda\\envs\\tf\\lib\\site-packages\\lightgbm\\sklearn.py:726: UserWarning: 'early_stopping_rounds' argument is deprecated and will be removed in a future release of LightGBM. Pass 'early_stopping()' callback via 'callbacks' argument instead.\n",
      "  _log_warning(\"'early_stopping_rounds' argument is deprecated and will be removed in a future release of LightGBM. \"\n",
      "C:\\Users\\Windows\\.conda\\envs\\tf\\lib\\site-packages\\lightgbm\\sklearn.py:736: UserWarning: 'verbose' argument is deprecated and will be removed in a future release of LightGBM. Pass 'log_evaluation()' callback via 'callbacks' argument instead.\n",
      "  _log_warning(\"'verbose' argument is deprecated and will be removed in a future release of LightGBM. \"\n",
      "C:\\Users\\Windows\\.conda\\envs\\tf\\lib\\site-packages\\lightgbm\\basic.py:2065: UserWarning: Using categorical_feature in Dataset.\n",
      "  _log_warning('Using categorical_feature in Dataset.')\n",
      "C:\\Users\\Windows\\.conda\\envs\\tf\\lib\\site-packages\\lightgbm\\basic.py:2068: UserWarning: categorical_feature in Dataset is overridden.\n",
      "New categorical_feature is ['EDUCATION_LEVEL', 'FAMILY_STATUS', 'GENDER', 'NAME_CONTRACT_TYPE']\n",
      "  _log_warning('categorical_feature in Dataset is overridden.\\n'\n",
      "C:\\Users\\Windows\\.conda\\envs\\tf\\lib\\site-packages\\lightgbm\\basic.py:1780: UserWarning: Overriding the parameters from Reference Dataset.\n",
      "  _log_warning('Overriding the parameters from Reference Dataset.')\n",
      "C:\\Users\\Windows\\.conda\\envs\\tf\\lib\\site-packages\\lightgbm\\basic.py:1513: UserWarning: categorical_column in param dict is overridden.\n",
      "  _log_warning(f'{cat_alias} in param dict is overridden.')\n"
     ]
    },
    {
     "name": "stdout",
     "output_type": "stream",
     "text": [
      "[200]\ttraining's auc: 0.776501\tvalid_1's auc: 0.720689\n",
      "[400]\ttraining's auc: 0.804487\tvalid_1's auc: 0.725162\n",
      "[600]\ttraining's auc: 0.821174\tvalid_1's auc: 0.726284\n",
      "[800]\ttraining's auc: 0.834974\tvalid_1's auc: 0.726974\n",
      "[1000]\ttraining's auc: 0.849142\tvalid_1's auc: 0.727508\n",
      "[1200]\ttraining's auc: 0.862673\tvalid_1's auc: 0.726845\n",
      "[1400]\ttraining's auc: 0.87476\tvalid_1's auc: 0.726869\n",
      "| \u001b[95m 24      \u001b[0m | \u001b[95m 0.7279  \u001b[0m | \u001b[95m 0.3845  \u001b[0m | \u001b[95m 7.932   \u001b[0m | \u001b[95m 0.02963 \u001b[0m | \u001b[95m 126.5   \u001b[0m | \u001b[95m 69.4    \u001b[0m |\n",
      "[LightGBM] [Warning] seed is set=27, random_state=27 will be ignored. Current value: seed=27\n",
      "[LightGBM] [Warning] min_data_in_leaf is set=50, min_child_samples=20 will be ignored. Current value: min_data_in_leaf=50\n",
      "[LightGBM] [Warning] lambda_l1 is set=0.436193, reg_alpha=0.0 will be ignored. Current value: lambda_l1=0.436193\n",
      "[LightGBM] [Warning] lambda_l2 is set=0.479169, reg_lambda=0.0 will be ignored. Current value: lambda_l2=0.479169\n",
      "[LightGBM] [Warning] early_stopping_round is set=500, early_stopping_rounds=500 will be ignored. Current value: early_stopping_round=500\n"
     ]
    },
    {
     "name": "stderr",
     "output_type": "stream",
     "text": [
      "C:\\Users\\Windows\\.conda\\envs\\tf\\lib\\site-packages\\lightgbm\\sklearn.py:726: UserWarning: 'early_stopping_rounds' argument is deprecated and will be removed in a future release of LightGBM. Pass 'early_stopping()' callback via 'callbacks' argument instead.\n",
      "  _log_warning(\"'early_stopping_rounds' argument is deprecated and will be removed in a future release of LightGBM. \"\n",
      "C:\\Users\\Windows\\.conda\\envs\\tf\\lib\\site-packages\\lightgbm\\sklearn.py:736: UserWarning: 'verbose' argument is deprecated and will be removed in a future release of LightGBM. Pass 'log_evaluation()' callback via 'callbacks' argument instead.\n",
      "  _log_warning(\"'verbose' argument is deprecated and will be removed in a future release of LightGBM. \"\n",
      "C:\\Users\\Windows\\.conda\\envs\\tf\\lib\\site-packages\\lightgbm\\basic.py:2065: UserWarning: Using categorical_feature in Dataset.\n",
      "  _log_warning('Using categorical_feature in Dataset.')\n",
      "C:\\Users\\Windows\\.conda\\envs\\tf\\lib\\site-packages\\lightgbm\\basic.py:2068: UserWarning: categorical_feature in Dataset is overridden.\n",
      "New categorical_feature is ['EDUCATION_LEVEL', 'FAMILY_STATUS', 'GENDER', 'NAME_CONTRACT_TYPE']\n",
      "  _log_warning('categorical_feature in Dataset is overridden.\\n'\n",
      "C:\\Users\\Windows\\.conda\\envs\\tf\\lib\\site-packages\\lightgbm\\basic.py:1780: UserWarning: Overriding the parameters from Reference Dataset.\n",
      "  _log_warning('Overriding the parameters from Reference Dataset.')\n",
      "C:\\Users\\Windows\\.conda\\envs\\tf\\lib\\site-packages\\lightgbm\\basic.py:1513: UserWarning: categorical_column in param dict is overridden.\n",
      "  _log_warning(f'{cat_alias} in param dict is overridden.')\n"
     ]
    },
    {
     "name": "stdout",
     "output_type": "stream",
     "text": [
      "[200]\ttraining's auc: 0.733662\tvalid_1's auc: 0.717539\n",
      "[400]\ttraining's auc: 0.750704\tvalid_1's auc: 0.723757\n",
      "[600]\ttraining's auc: 0.762575\tvalid_1's auc: 0.724977\n",
      "[800]\ttraining's auc: 0.772468\tvalid_1's auc: 0.725593\n",
      "[1000]\ttraining's auc: 0.78189\tvalid_1's auc: 0.725459\n",
      "[1200]\ttraining's auc: 0.791067\tvalid_1's auc: 0.725153\n",
      "[1400]\ttraining's auc: 0.79889\tvalid_1's auc: 0.724702\n",
      "| \u001b[0m 25      \u001b[0m | \u001b[0m 0.7259  \u001b[0m | \u001b[0m 0.509   \u001b[0m | \u001b[0m 7.202   \u001b[0m | \u001b[0m 0.01147 \u001b[0m | \u001b[0m 50.2    \u001b[0m | \u001b[0m 16.92   \u001b[0m |\n",
      "[LightGBM] [Warning] seed is set=27, random_state=27 will be ignored. Current value: seed=27\n",
      "[LightGBM] [Warning] min_data_in_leaf is set=108, min_child_samples=20 will be ignored. Current value: min_data_in_leaf=108\n",
      "[LightGBM] [Warning] lambda_l1 is set=0.436193, reg_alpha=0.0 will be ignored. Current value: lambda_l1=0.436193\n",
      "[LightGBM] [Warning] lambda_l2 is set=0.479169, reg_lambda=0.0 will be ignored. Current value: lambda_l2=0.479169\n",
      "[LightGBM] [Warning] early_stopping_round is set=500, early_stopping_rounds=500 will be ignored. Current value: early_stopping_round=500\n"
     ]
    },
    {
     "name": "stderr",
     "output_type": "stream",
     "text": [
      "C:\\Users\\Windows\\.conda\\envs\\tf\\lib\\site-packages\\lightgbm\\sklearn.py:726: UserWarning: 'early_stopping_rounds' argument is deprecated and will be removed in a future release of LightGBM. Pass 'early_stopping()' callback via 'callbacks' argument instead.\n",
      "  _log_warning(\"'early_stopping_rounds' argument is deprecated and will be removed in a future release of LightGBM. \"\n",
      "C:\\Users\\Windows\\.conda\\envs\\tf\\lib\\site-packages\\lightgbm\\sklearn.py:736: UserWarning: 'verbose' argument is deprecated and will be removed in a future release of LightGBM. Pass 'log_evaluation()' callback via 'callbacks' argument instead.\n",
      "  _log_warning(\"'verbose' argument is deprecated and will be removed in a future release of LightGBM. \"\n",
      "C:\\Users\\Windows\\.conda\\envs\\tf\\lib\\site-packages\\lightgbm\\basic.py:2065: UserWarning: Using categorical_feature in Dataset.\n",
      "  _log_warning('Using categorical_feature in Dataset.')\n",
      "C:\\Users\\Windows\\.conda\\envs\\tf\\lib\\site-packages\\lightgbm\\basic.py:2068: UserWarning: categorical_feature in Dataset is overridden.\n",
      "New categorical_feature is ['EDUCATION_LEVEL', 'FAMILY_STATUS', 'GENDER', 'NAME_CONTRACT_TYPE']\n",
      "  _log_warning('categorical_feature in Dataset is overridden.\\n'\n",
      "C:\\Users\\Windows\\.conda\\envs\\tf\\lib\\site-packages\\lightgbm\\basic.py:1780: UserWarning: Overriding the parameters from Reference Dataset.\n",
      "  _log_warning('Overriding the parameters from Reference Dataset.')\n",
      "C:\\Users\\Windows\\.conda\\envs\\tf\\lib\\site-packages\\lightgbm\\basic.py:1513: UserWarning: categorical_column in param dict is overridden.\n",
      "  _log_warning(f'{cat_alias} in param dict is overridden.')\n"
     ]
    },
    {
     "name": "stdout",
     "output_type": "stream",
     "text": [
      "[200]\ttraining's auc: 0.777641\tvalid_1's auc: 0.720869\n",
      "[400]\ttraining's auc: 0.806593\tvalid_1's auc: 0.725649\n",
      "[600]\ttraining's auc: 0.82437\tvalid_1's auc: 0.725677\n",
      "[800]\ttraining's auc: 0.839438\tvalid_1's auc: 0.727063\n",
      "[1000]\ttraining's auc: 0.853913\tvalid_1's auc: 0.727576\n",
      "[1200]\ttraining's auc: 0.866905\tvalid_1's auc: 0.727257\n",
      "[1400]\ttraining's auc: 0.878797\tvalid_1's auc: 0.726627\n",
      "| \u001b[0m 26      \u001b[0m | \u001b[0m 0.7278  \u001b[0m | \u001b[0m 0.413   \u001b[0m | \u001b[0m 7.08    \u001b[0m | \u001b[0m 0.03609 \u001b[0m | \u001b[0m 108.4   \u001b[0m | \u001b[0m 69.83   \u001b[0m |\n",
      "[LightGBM] [Warning] seed is set=27, random_state=27 will be ignored. Current value: seed=27\n",
      "[LightGBM] [Warning] min_data_in_leaf is set=108, min_child_samples=20 will be ignored. Current value: min_data_in_leaf=108\n",
      "[LightGBM] [Warning] lambda_l1 is set=0.436193, reg_alpha=0.0 will be ignored. Current value: lambda_l1=0.436193\n",
      "[LightGBM] [Warning] lambda_l2 is set=0.479169, reg_lambda=0.0 will be ignored. Current value: lambda_l2=0.479169\n",
      "[LightGBM] [Warning] early_stopping_round is set=500, early_stopping_rounds=500 will be ignored. Current value: early_stopping_round=500\n"
     ]
    },
    {
     "name": "stderr",
     "output_type": "stream",
     "text": [
      "C:\\Users\\Windows\\.conda\\envs\\tf\\lib\\site-packages\\lightgbm\\sklearn.py:726: UserWarning: 'early_stopping_rounds' argument is deprecated and will be removed in a future release of LightGBM. Pass 'early_stopping()' callback via 'callbacks' argument instead.\n",
      "  _log_warning(\"'early_stopping_rounds' argument is deprecated and will be removed in a future release of LightGBM. \"\n",
      "C:\\Users\\Windows\\.conda\\envs\\tf\\lib\\site-packages\\lightgbm\\sklearn.py:736: UserWarning: 'verbose' argument is deprecated and will be removed in a future release of LightGBM. Pass 'log_evaluation()' callback via 'callbacks' argument instead.\n",
      "  _log_warning(\"'verbose' argument is deprecated and will be removed in a future release of LightGBM. \"\n",
      "C:\\Users\\Windows\\.conda\\envs\\tf\\lib\\site-packages\\lightgbm\\basic.py:2065: UserWarning: Using categorical_feature in Dataset.\n",
      "  _log_warning('Using categorical_feature in Dataset.')\n",
      "C:\\Users\\Windows\\.conda\\envs\\tf\\lib\\site-packages\\lightgbm\\basic.py:2068: UserWarning: categorical_feature in Dataset is overridden.\n",
      "New categorical_feature is ['EDUCATION_LEVEL', 'FAMILY_STATUS', 'GENDER', 'NAME_CONTRACT_TYPE']\n",
      "  _log_warning('categorical_feature in Dataset is overridden.\\n'\n",
      "C:\\Users\\Windows\\.conda\\envs\\tf\\lib\\site-packages\\lightgbm\\basic.py:1780: UserWarning: Overriding the parameters from Reference Dataset.\n",
      "  _log_warning('Overriding the parameters from Reference Dataset.')\n",
      "C:\\Users\\Windows\\.conda\\envs\\tf\\lib\\site-packages\\lightgbm\\basic.py:1513: UserWarning: categorical_column in param dict is overridden.\n",
      "  _log_warning(f'{cat_alias} in param dict is overridden.')\n"
     ]
    },
    {
     "name": "stdout",
     "output_type": "stream",
     "text": [
      "[200]\ttraining's auc: 0.779131\tvalid_1's auc: 0.720811\n",
      "[400]\ttraining's auc: 0.807821\tvalid_1's auc: 0.723736\n",
      "[600]\ttraining's auc: 0.82587\tvalid_1's auc: 0.725033\n",
      "[800]\ttraining's auc: 0.840696\tvalid_1's auc: 0.725456\n",
      "[1000]\ttraining's auc: 0.855404\tvalid_1's auc: 0.725529\n",
      "[1200]\ttraining's auc: 0.86936\tvalid_1's auc: 0.725955\n",
      "[1400]\ttraining's auc: 0.881195\tvalid_1's auc: 0.725722\n",
      "[1600]\ttraining's auc: 0.891369\tvalid_1's auc: 0.725083\n",
      "[1800]\ttraining's auc: 0.900513\tvalid_1's auc: 0.724688\n",
      "| \u001b[0m 27      \u001b[0m | \u001b[0m 0.7264  \u001b[0m | \u001b[0m 0.5265  \u001b[0m | \u001b[0m 7.496   \u001b[0m | \u001b[0m 0.01786 \u001b[0m | \u001b[0m 108.1   \u001b[0m | \u001b[0m 69.63   \u001b[0m |\n",
      "=====================================================================================\n"
     ]
    }
   ],
   "source": [
    "params_search = {\n",
    "    \"max_depth\": (6, 10),    \n",
    "    \"colsample_bytree\": (0.3, 0.9),\n",
    "    \"num_leaves\": (10,100),     \n",
    "    'min_data_in_leaf': (10,256),\n",
    "    'min_child_weight':(0.0005,0.05)  \n",
    "}\n",
    "\n",
    "optimizer = BayesianOptimization(\n",
    "    f=lgboost_optimize_params,\n",
    "    pbounds=params_search,\n",
    "    random_state=27\n",
    ")\n",
    "optimizer.maximize(\n",
    "    init_points=7, n_iter=20, acq='ei'\n",
    ")"
   ]
  },
  {
   "cell_type": "code",
   "execution_count": 163,
   "id": "9ca19cbb",
   "metadata": {},
   "outputs": [],
   "source": [
    "optimal_lgb_params = optimizer.max"
   ]
  },
  {
   "cell_type": "code",
   "execution_count": 164,
   "id": "00534527",
   "metadata": {},
   "outputs": [
    {
     "data": {
      "text/plain": [
       "{'target': 0.7278843311239281,\n",
       " 'params': {'colsample_bytree': 0.38451716820947596,\n",
       "  'max_depth': 7.9319049115438,\n",
       "  'min_child_weight': 0.029626596863790836,\n",
       "  'min_data_in_leaf': 126.54263310829822,\n",
       "  'num_leaves': 69.3970383153434}}"
      ]
     },
     "execution_count": 164,
     "metadata": {},
     "output_type": "execute_result"
    }
   ],
   "source": [
    "optimal_lgb_params"
   ]
  },
  {
   "cell_type": "code",
   "execution_count": 165,
   "id": "75dfdeee",
   "metadata": {},
   "outputs": [],
   "source": [
    "optimal_lgb_params[\"params\"][\"max_depth\"]=int(np.round(optimal_lgb_params[\"params\"][\"max_depth\"]))\n",
    "optimal_lgb_params[\"params\"][\"num_leaves\"]=int(np.round(optimal_lgb_params[\"params\"][\"num_leaves\"]))\n",
    "optimal_lgb_params[\"params\"][\"min_data_in_leaf\"]=int(np.round(optimal_lgb_params[\"params\"][\"min_data_in_leaf\"]))\n"
   ]
  },
  {
   "cell_type": "code",
   "execution_count": 166,
   "id": "3397a86a",
   "metadata": {},
   "outputs": [
    {
     "data": {
      "text/plain": [
       "{'target': 0.7278843311239281,\n",
       " 'params': {'colsample_bytree': 0.38451716820947596,\n",
       "  'max_depth': 8,\n",
       "  'min_child_weight': 0.029626596863790836,\n",
       "  'min_data_in_leaf': 127,\n",
       "  'num_leaves': 69}}"
      ]
     },
     "execution_count": 166,
     "metadata": {},
     "output_type": "execute_result"
    }
   ],
   "source": [
    "optimal_lgb_params"
   ]
  },
  {
   "cell_type": "code",
   "execution_count": 167,
   "id": "7042a7e2",
   "metadata": {},
   "outputs": [],
   "source": [
    "lgbm_params = {\n",
    "        'boosting_type': 'gbdt',\n",
    "        'objective': 'binary',\n",
    "        'metric': 'auc',\n",
    "        'learning_rate': 0.01,\n",
    "        'n_estimators': 9000,\n",
    "        'n_jobs': 7,\n",
    "        'seed': 27,\n",
    "        'early_stopping_rounds':500,\n",
    "        'num_leaves': 57,\n",
    "        'max_depth': 9,\n",
    "        'subsample_for_bin': 240000,\n",
    "        'lambda_l1': 0.436193,\n",
    "        'lambda_l2': 0.479169,\n",
    "        'colsample_bytree': 0.508716,\n",
    "        'min_split_gain': 0.024766,\n",
    "        'subsample': 0.7,\n",
    "        'is_unbalance': False,\n",
    "        'random_state': 27,\n",
    "        'extra_trees':False,\n",
    "        'min_data_in_leaf':20,\n",
    "        'min_child_weight': 0.001,\n",
    "        'subsample_freq':0\n",
    "    \n",
    " }"
   ]
  },
  {
   "cell_type": "code",
   "execution_count": 168,
   "id": "8e855e16",
   "metadata": {},
   "outputs": [],
   "source": [
    "for optimal_lgb_param_name in optimal_lgb_params[\"params\"]:\n",
    "    lgbm_params[optimal_lgb_param_name]=optimal_lgb_params[\"params\"][optimal_lgb_param_name]\n",
    "    "
   ]
  },
  {
   "cell_type": "code",
   "execution_count": 169,
   "id": "923fea93",
   "metadata": {},
   "outputs": [
    {
     "data": {
      "text/plain": [
       "{'boosting_type': 'gbdt',\n",
       " 'objective': 'binary',\n",
       " 'metric': 'auc',\n",
       " 'learning_rate': 0.01,\n",
       " 'n_estimators': 9000,\n",
       " 'n_jobs': 7,\n",
       " 'seed': 27,\n",
       " 'early_stopping_rounds': 500,\n",
       " 'num_leaves': 69,\n",
       " 'max_depth': 8,\n",
       " 'subsample_for_bin': 240000,\n",
       " 'lambda_l1': 0.436193,\n",
       " 'lambda_l2': 0.479169,\n",
       " 'colsample_bytree': 0.38451716820947596,\n",
       " 'min_split_gain': 0.024766,\n",
       " 'subsample': 0.7,\n",
       " 'is_unbalance': False,\n",
       " 'random_state': 27,\n",
       " 'extra_trees': False,\n",
       " 'min_data_in_leaf': 127,\n",
       " 'min_child_weight': 0.029626596863790836,\n",
       " 'subsample_freq': 0}"
      ]
     },
     "execution_count": 169,
     "metadata": {},
     "output_type": "execute_result"
    }
   ],
   "source": [
    "lgbm_params"
   ]
  },
  {
   "cell_type": "markdown",
   "id": "95b748b3",
   "metadata": {},
   "source": [
    "Используется BayesianOptimization"
   ]
  },
  {
   "cell_type": "code",
   "execution_count": 170,
   "id": "87b2a073",
   "metadata": {},
   "outputs": [],
   "source": [
    "model = lgb.LGBMClassifier(**lgbm_params)"
   ]
  },
  {
   "cell_type": "code",
   "execution_count": 171,
   "id": "f1f0898f",
   "metadata": {},
   "outputs": [
    {
     "name": "stderr",
     "output_type": "stream",
     "text": [
      "C:\\Users\\Windows\\.conda\\envs\\tf\\lib\\site-packages\\lightgbm\\sklearn.py:726: UserWarning: 'early_stopping_rounds' argument is deprecated and will be removed in a future release of LightGBM. Pass 'early_stopping()' callback via 'callbacks' argument instead.\n",
      "  _log_warning(\"'early_stopping_rounds' argument is deprecated and will be removed in a future release of LightGBM. \"\n",
      "C:\\Users\\Windows\\.conda\\envs\\tf\\lib\\site-packages\\lightgbm\\sklearn.py:736: UserWarning: 'verbose' argument is deprecated and will be removed in a future release of LightGBM. Pass 'log_evaluation()' callback via 'callbacks' argument instead.\n",
      "  _log_warning(\"'verbose' argument is deprecated and will be removed in a future release of LightGBM. \"\n",
      "C:\\Users\\Windows\\.conda\\envs\\tf\\lib\\site-packages\\lightgbm\\basic.py:2065: UserWarning: Using categorical_feature in Dataset.\n",
      "  _log_warning('Using categorical_feature in Dataset.')\n",
      "C:\\Users\\Windows\\.conda\\envs\\tf\\lib\\site-packages\\lightgbm\\basic.py:2068: UserWarning: categorical_feature in Dataset is overridden.\n",
      "New categorical_feature is ['EDUCATION_LEVEL', 'FAMILY_STATUS', 'GENDER', 'NAME_CONTRACT_TYPE']\n",
      "  _log_warning('categorical_feature in Dataset is overridden.\\n'\n"
     ]
    },
    {
     "name": "stdout",
     "output_type": "stream",
     "text": [
      "[LightGBM] [Warning] seed is set=27, random_state=27 will be ignored. Current value: seed=27\n",
      "[LightGBM] [Warning] min_data_in_leaf is set=127, min_child_samples=20 will be ignored. Current value: min_data_in_leaf=127\n",
      "[LightGBM] [Warning] lambda_l1 is set=0.436193, reg_alpha=0.0 will be ignored. Current value: lambda_l1=0.436193\n",
      "[LightGBM] [Warning] lambda_l2 is set=0.479169, reg_lambda=0.0 will be ignored. Current value: lambda_l2=0.479169\n",
      "[LightGBM] [Warning] early_stopping_round is set=500, early_stopping_rounds=500 will be ignored. Current value: early_stopping_round=500\n"
     ]
    },
    {
     "name": "stderr",
     "output_type": "stream",
     "text": [
      "C:\\Users\\Windows\\.conda\\envs\\tf\\lib\\site-packages\\lightgbm\\basic.py:1780: UserWarning: Overriding the parameters from Reference Dataset.\n",
      "  _log_warning('Overriding the parameters from Reference Dataset.')\n",
      "C:\\Users\\Windows\\.conda\\envs\\tf\\lib\\site-packages\\lightgbm\\basic.py:1513: UserWarning: categorical_column in param dict is overridden.\n",
      "  _log_warning(f'{cat_alias} in param dict is overridden.')\n"
     ]
    },
    {
     "name": "stdout",
     "output_type": "stream",
     "text": [
      "[200]\ttraining's auc: 0.766622\tvalid_1's auc: 0.713541\n",
      "[400]\ttraining's auc: 0.79613\tvalid_1's auc: 0.719279\n",
      "[600]\ttraining's auc: 0.81738\tvalid_1's auc: 0.721519\n",
      "[800]\ttraining's auc: 0.834077\tvalid_1's auc: 0.72007\n",
      "[1000]\ttraining's auc: 0.849584\tvalid_1's auc: 0.720209\n",
      "Fold: 1, train-observations = 104588, valid-observations = 5505\n",
      "train-score = 0.8194, valid-score = 0.7227\n",
      "=====================================================================\n",
      "[LightGBM] [Warning] seed is set=27, random_state=27 will be ignored. Current value: seed=27\n",
      "[LightGBM] [Warning] min_data_in_leaf is set=127, min_child_samples=20 will be ignored. Current value: min_data_in_leaf=127\n",
      "[LightGBM] [Warning] lambda_l1 is set=0.436193, reg_alpha=0.0 will be ignored. Current value: lambda_l1=0.436193\n",
      "[LightGBM] [Warning] lambda_l2 is set=0.479169, reg_lambda=0.0 will be ignored. Current value: lambda_l2=0.479169\n",
      "[LightGBM] [Warning] early_stopping_round is set=500, early_stopping_rounds=500 will be ignored. Current value: early_stopping_round=500\n"
     ]
    },
    {
     "name": "stderr",
     "output_type": "stream",
     "text": [
      "C:\\Users\\Windows\\.conda\\envs\\tf\\lib\\site-packages\\lightgbm\\sklearn.py:726: UserWarning: 'early_stopping_rounds' argument is deprecated and will be removed in a future release of LightGBM. Pass 'early_stopping()' callback via 'callbacks' argument instead.\n",
      "  _log_warning(\"'early_stopping_rounds' argument is deprecated and will be removed in a future release of LightGBM. \"\n",
      "C:\\Users\\Windows\\.conda\\envs\\tf\\lib\\site-packages\\lightgbm\\sklearn.py:736: UserWarning: 'verbose' argument is deprecated and will be removed in a future release of LightGBM. Pass 'log_evaluation()' callback via 'callbacks' argument instead.\n",
      "  _log_warning(\"'verbose' argument is deprecated and will be removed in a future release of LightGBM. \"\n",
      "C:\\Users\\Windows\\.conda\\envs\\tf\\lib\\site-packages\\lightgbm\\basic.py:2065: UserWarning: Using categorical_feature in Dataset.\n",
      "  _log_warning('Using categorical_feature in Dataset.')\n",
      "C:\\Users\\Windows\\.conda\\envs\\tf\\lib\\site-packages\\lightgbm\\basic.py:2068: UserWarning: categorical_feature in Dataset is overridden.\n",
      "New categorical_feature is ['EDUCATION_LEVEL', 'FAMILY_STATUS', 'GENDER', 'NAME_CONTRACT_TYPE']\n",
      "  _log_warning('categorical_feature in Dataset is overridden.\\n'\n",
      "C:\\Users\\Windows\\.conda\\envs\\tf\\lib\\site-packages\\lightgbm\\basic.py:1780: UserWarning: Overriding the parameters from Reference Dataset.\n",
      "  _log_warning('Overriding the parameters from Reference Dataset.')\n",
      "C:\\Users\\Windows\\.conda\\envs\\tf\\lib\\site-packages\\lightgbm\\basic.py:1513: UserWarning: categorical_column in param dict is overridden.\n",
      "  _log_warning(f'{cat_alias} in param dict is overridden.')\n"
     ]
    },
    {
     "name": "stdout",
     "output_type": "stream",
     "text": [
      "[200]\ttraining's auc: 0.767021\tvalid_1's auc: 0.709531\n",
      "[400]\ttraining's auc: 0.796604\tvalid_1's auc: 0.717626\n",
      "[600]\ttraining's auc: 0.818151\tvalid_1's auc: 0.719057\n",
      "[800]\ttraining's auc: 0.834767\tvalid_1's auc: 0.719514\n",
      "[1000]\ttraining's auc: 0.848634\tvalid_1's auc: 0.719714\n",
      "[1200]\ttraining's auc: 0.862073\tvalid_1's auc: 0.718748\n",
      "Fold: 2, train-observations = 104588, valid-observations = 5505\n",
      "train-score = 0.83, valid-score = 0.72\n",
      "=====================================================================\n",
      "[LightGBM] [Warning] seed is set=27, random_state=27 will be ignored. Current value: seed=27\n",
      "[LightGBM] [Warning] min_data_in_leaf is set=127, min_child_samples=20 will be ignored. Current value: min_data_in_leaf=127\n",
      "[LightGBM] [Warning] lambda_l1 is set=0.436193, reg_alpha=0.0 will be ignored. Current value: lambda_l1=0.436193\n",
      "[LightGBM] [Warning] lambda_l2 is set=0.479169, reg_lambda=0.0 will be ignored. Current value: lambda_l2=0.479169\n",
      "[LightGBM] [Warning] early_stopping_round is set=500, early_stopping_rounds=500 will be ignored. Current value: early_stopping_round=500\n"
     ]
    },
    {
     "name": "stderr",
     "output_type": "stream",
     "text": [
      "C:\\Users\\Windows\\.conda\\envs\\tf\\lib\\site-packages\\lightgbm\\sklearn.py:726: UserWarning: 'early_stopping_rounds' argument is deprecated and will be removed in a future release of LightGBM. Pass 'early_stopping()' callback via 'callbacks' argument instead.\n",
      "  _log_warning(\"'early_stopping_rounds' argument is deprecated and will be removed in a future release of LightGBM. \"\n",
      "C:\\Users\\Windows\\.conda\\envs\\tf\\lib\\site-packages\\lightgbm\\sklearn.py:736: UserWarning: 'verbose' argument is deprecated and will be removed in a future release of LightGBM. Pass 'log_evaluation()' callback via 'callbacks' argument instead.\n",
      "  _log_warning(\"'verbose' argument is deprecated and will be removed in a future release of LightGBM. \"\n",
      "C:\\Users\\Windows\\.conda\\envs\\tf\\lib\\site-packages\\lightgbm\\basic.py:2065: UserWarning: Using categorical_feature in Dataset.\n",
      "  _log_warning('Using categorical_feature in Dataset.')\n",
      "C:\\Users\\Windows\\.conda\\envs\\tf\\lib\\site-packages\\lightgbm\\basic.py:2068: UserWarning: categorical_feature in Dataset is overridden.\n",
      "New categorical_feature is ['EDUCATION_LEVEL', 'FAMILY_STATUS', 'GENDER', 'NAME_CONTRACT_TYPE']\n",
      "  _log_warning('categorical_feature in Dataset is overridden.\\n'\n",
      "C:\\Users\\Windows\\.conda\\envs\\tf\\lib\\site-packages\\lightgbm\\basic.py:1780: UserWarning: Overriding the parameters from Reference Dataset.\n",
      "  _log_warning('Overriding the parameters from Reference Dataset.')\n",
      "C:\\Users\\Windows\\.conda\\envs\\tf\\lib\\site-packages\\lightgbm\\basic.py:1513: UserWarning: categorical_column in param dict is overridden.\n",
      "  _log_warning(f'{cat_alias} in param dict is overridden.')\n"
     ]
    },
    {
     "name": "stdout",
     "output_type": "stream",
     "text": [
      "[200]\ttraining's auc: 0.766742\tvalid_1's auc: 0.728141\n",
      "[400]\ttraining's auc: 0.795892\tvalid_1's auc: 0.730101\n",
      "[600]\ttraining's auc: 0.815727\tvalid_1's auc: 0.729306\n",
      "[800]\ttraining's auc: 0.832225\tvalid_1's auc: 0.729742\n",
      "[1000]\ttraining's auc: 0.846974\tvalid_1's auc: 0.729352\n",
      "Fold: 3, train-observations = 104588, valid-observations = 5505\n",
      "train-score = 0.8178, valid-score = 0.7309\n",
      "=====================================================================\n",
      "[LightGBM] [Warning] seed is set=27, random_state=27 will be ignored. Current value: seed=27\n",
      "[LightGBM] [Warning] min_data_in_leaf is set=127, min_child_samples=20 will be ignored. Current value: min_data_in_leaf=127\n",
      "[LightGBM] [Warning] lambda_l1 is set=0.436193, reg_alpha=0.0 will be ignored. Current value: lambda_l1=0.436193\n",
      "[LightGBM] [Warning] lambda_l2 is set=0.479169, reg_lambda=0.0 will be ignored. Current value: lambda_l2=0.479169\n",
      "[LightGBM] [Warning] early_stopping_round is set=500, early_stopping_rounds=500 will be ignored. Current value: early_stopping_round=500\n"
     ]
    },
    {
     "name": "stderr",
     "output_type": "stream",
     "text": [
      "C:\\Users\\Windows\\.conda\\envs\\tf\\lib\\site-packages\\lightgbm\\sklearn.py:726: UserWarning: 'early_stopping_rounds' argument is deprecated and will be removed in a future release of LightGBM. Pass 'early_stopping()' callback via 'callbacks' argument instead.\n",
      "  _log_warning(\"'early_stopping_rounds' argument is deprecated and will be removed in a future release of LightGBM. \"\n",
      "C:\\Users\\Windows\\.conda\\envs\\tf\\lib\\site-packages\\lightgbm\\sklearn.py:736: UserWarning: 'verbose' argument is deprecated and will be removed in a future release of LightGBM. Pass 'log_evaluation()' callback via 'callbacks' argument instead.\n",
      "  _log_warning(\"'verbose' argument is deprecated and will be removed in a future release of LightGBM. \"\n",
      "C:\\Users\\Windows\\.conda\\envs\\tf\\lib\\site-packages\\lightgbm\\basic.py:2065: UserWarning: Using categorical_feature in Dataset.\n",
      "  _log_warning('Using categorical_feature in Dataset.')\n",
      "C:\\Users\\Windows\\.conda\\envs\\tf\\lib\\site-packages\\lightgbm\\basic.py:2068: UserWarning: categorical_feature in Dataset is overridden.\n",
      "New categorical_feature is ['EDUCATION_LEVEL', 'FAMILY_STATUS', 'GENDER', 'NAME_CONTRACT_TYPE']\n",
      "  _log_warning('categorical_feature in Dataset is overridden.\\n'\n",
      "C:\\Users\\Windows\\.conda\\envs\\tf\\lib\\site-packages\\lightgbm\\basic.py:1780: UserWarning: Overriding the parameters from Reference Dataset.\n",
      "  _log_warning('Overriding the parameters from Reference Dataset.')\n",
      "C:\\Users\\Windows\\.conda\\envs\\tf\\lib\\site-packages\\lightgbm\\basic.py:1513: UserWarning: categorical_column in param dict is overridden.\n",
      "  _log_warning(f'{cat_alias} in param dict is overridden.')\n"
     ]
    },
    {
     "name": "stdout",
     "output_type": "stream",
     "text": [
      "[200]\ttraining's auc: 0.766191\tvalid_1's auc: 0.723476\n",
      "[400]\ttraining's auc: 0.796278\tvalid_1's auc: 0.731931\n",
      "[600]\ttraining's auc: 0.817076\tvalid_1's auc: 0.73224\n",
      "[800]\ttraining's auc: 0.834569\tvalid_1's auc: 0.73216\n",
      "[1000]\ttraining's auc: 0.849459\tvalid_1's auc: 0.733262\n",
      "Fold: 4, train-observations = 104588, valid-observations = 5505\n",
      "train-score = 0.8104, valid-score = 0.7336\n",
      "=====================================================================\n",
      "[LightGBM] [Warning] seed is set=27, random_state=27 will be ignored. Current value: seed=27\n",
      "[LightGBM] [Warning] min_data_in_leaf is set=127, min_child_samples=20 will be ignored. Current value: min_data_in_leaf=127\n",
      "[LightGBM] [Warning] lambda_l1 is set=0.436193, reg_alpha=0.0 will be ignored. Current value: lambda_l1=0.436193\n",
      "[LightGBM] [Warning] lambda_l2 is set=0.479169, reg_lambda=0.0 will be ignored. Current value: lambda_l2=0.479169\n",
      "[LightGBM] [Warning] early_stopping_round is set=500, early_stopping_rounds=500 will be ignored. Current value: early_stopping_round=500\n"
     ]
    },
    {
     "name": "stderr",
     "output_type": "stream",
     "text": [
      "C:\\Users\\Windows\\.conda\\envs\\tf\\lib\\site-packages\\lightgbm\\sklearn.py:726: UserWarning: 'early_stopping_rounds' argument is deprecated and will be removed in a future release of LightGBM. Pass 'early_stopping()' callback via 'callbacks' argument instead.\n",
      "  _log_warning(\"'early_stopping_rounds' argument is deprecated and will be removed in a future release of LightGBM. \"\n",
      "C:\\Users\\Windows\\.conda\\envs\\tf\\lib\\site-packages\\lightgbm\\sklearn.py:736: UserWarning: 'verbose' argument is deprecated and will be removed in a future release of LightGBM. Pass 'log_evaluation()' callback via 'callbacks' argument instead.\n",
      "  _log_warning(\"'verbose' argument is deprecated and will be removed in a future release of LightGBM. \"\n",
      "C:\\Users\\Windows\\.conda\\envs\\tf\\lib\\site-packages\\lightgbm\\basic.py:2065: UserWarning: Using categorical_feature in Dataset.\n",
      "  _log_warning('Using categorical_feature in Dataset.')\n",
      "C:\\Users\\Windows\\.conda\\envs\\tf\\lib\\site-packages\\lightgbm\\basic.py:2068: UserWarning: categorical_feature in Dataset is overridden.\n",
      "New categorical_feature is ['EDUCATION_LEVEL', 'FAMILY_STATUS', 'GENDER', 'NAME_CONTRACT_TYPE']\n",
      "  _log_warning('categorical_feature in Dataset is overridden.\\n'\n",
      "C:\\Users\\Windows\\.conda\\envs\\tf\\lib\\site-packages\\lightgbm\\basic.py:1780: UserWarning: Overriding the parameters from Reference Dataset.\n",
      "  _log_warning('Overriding the parameters from Reference Dataset.')\n",
      "C:\\Users\\Windows\\.conda\\envs\\tf\\lib\\site-packages\\lightgbm\\basic.py:1513: UserWarning: categorical_column in param dict is overridden.\n",
      "  _log_warning(f'{cat_alias} in param dict is overridden.')\n"
     ]
    },
    {
     "name": "stdout",
     "output_type": "stream",
     "text": [
      "[200]\ttraining's auc: 0.766706\tvalid_1's auc: 0.72005\n",
      "[400]\ttraining's auc: 0.795933\tvalid_1's auc: 0.729659\n",
      "[600]\ttraining's auc: 0.816648\tvalid_1's auc: 0.730518\n",
      "[800]\ttraining's auc: 0.834508\tvalid_1's auc: 0.733696\n",
      "[1000]\ttraining's auc: 0.848908\tvalid_1's auc: 0.734275\n",
      "[1200]\ttraining's auc: 0.862307\tvalid_1's auc: 0.733233\n",
      "[1400]\ttraining's auc: 0.874626\tvalid_1's auc: 0.73409\n",
      "Fold: 5, train-observations = 104588, valid-observations = 5505\n",
      "train-score = 0.8538, valid-score = 0.7347\n",
      "=====================================================================\n",
      "[LightGBM] [Warning] seed is set=27, random_state=27 will be ignored. Current value: seed=27\n",
      "[LightGBM] [Warning] min_data_in_leaf is set=127, min_child_samples=20 will be ignored. Current value: min_data_in_leaf=127\n",
      "[LightGBM] [Warning] lambda_l1 is set=0.436193, reg_alpha=0.0 will be ignored. Current value: lambda_l1=0.436193\n",
      "[LightGBM] [Warning] lambda_l2 is set=0.479169, reg_lambda=0.0 will be ignored. Current value: lambda_l2=0.479169\n",
      "[LightGBM] [Warning] early_stopping_round is set=500, early_stopping_rounds=500 will be ignored. Current value: early_stopping_round=500\n"
     ]
    },
    {
     "name": "stderr",
     "output_type": "stream",
     "text": [
      "C:\\Users\\Windows\\.conda\\envs\\tf\\lib\\site-packages\\lightgbm\\sklearn.py:726: UserWarning: 'early_stopping_rounds' argument is deprecated and will be removed in a future release of LightGBM. Pass 'early_stopping()' callback via 'callbacks' argument instead.\n",
      "  _log_warning(\"'early_stopping_rounds' argument is deprecated and will be removed in a future release of LightGBM. \"\n",
      "C:\\Users\\Windows\\.conda\\envs\\tf\\lib\\site-packages\\lightgbm\\sklearn.py:736: UserWarning: 'verbose' argument is deprecated and will be removed in a future release of LightGBM. Pass 'log_evaluation()' callback via 'callbacks' argument instead.\n",
      "  _log_warning(\"'verbose' argument is deprecated and will be removed in a future release of LightGBM. \"\n",
      "C:\\Users\\Windows\\.conda\\envs\\tf\\lib\\site-packages\\lightgbm\\basic.py:2065: UserWarning: Using categorical_feature in Dataset.\n",
      "  _log_warning('Using categorical_feature in Dataset.')\n",
      "C:\\Users\\Windows\\.conda\\envs\\tf\\lib\\site-packages\\lightgbm\\basic.py:2068: UserWarning: categorical_feature in Dataset is overridden.\n",
      "New categorical_feature is ['EDUCATION_LEVEL', 'FAMILY_STATUS', 'GENDER', 'NAME_CONTRACT_TYPE']\n",
      "  _log_warning('categorical_feature in Dataset is overridden.\\n'\n",
      "C:\\Users\\Windows\\.conda\\envs\\tf\\lib\\site-packages\\lightgbm\\basic.py:1780: UserWarning: Overriding the parameters from Reference Dataset.\n",
      "  _log_warning('Overriding the parameters from Reference Dataset.')\n",
      "C:\\Users\\Windows\\.conda\\envs\\tf\\lib\\site-packages\\lightgbm\\basic.py:1513: UserWarning: categorical_column in param dict is overridden.\n",
      "  _log_warning(f'{cat_alias} in param dict is overridden.')\n"
     ]
    },
    {
     "name": "stdout",
     "output_type": "stream",
     "text": [
      "[200]\ttraining's auc: 0.767281\tvalid_1's auc: 0.720798\n",
      "[400]\ttraining's auc: 0.796109\tvalid_1's auc: 0.722977\n",
      "[600]\ttraining's auc: 0.816577\tvalid_1's auc: 0.724289\n",
      "[800]\ttraining's auc: 0.832012\tvalid_1's auc: 0.724597\n",
      "[1000]\ttraining's auc: 0.84677\tvalid_1's auc: 0.723948\n",
      "[1200]\ttraining's auc: 0.860536\tvalid_1's auc: 0.72251\n",
      "Fold: 6, train-observations = 104588, valid-observations = 5505\n",
      "train-score = 0.8342, valid-score = 0.7253\n",
      "=====================================================================\n",
      "[LightGBM] [Warning] seed is set=27, random_state=27 will be ignored. Current value: seed=27\n",
      "[LightGBM] [Warning] min_data_in_leaf is set=127, min_child_samples=20 will be ignored. Current value: min_data_in_leaf=127\n",
      "[LightGBM] [Warning] lambda_l1 is set=0.436193, reg_alpha=0.0 will be ignored. Current value: lambda_l1=0.436193\n",
      "[LightGBM] [Warning] lambda_l2 is set=0.479169, reg_lambda=0.0 will be ignored. Current value: lambda_l2=0.479169\n",
      "[LightGBM] [Warning] early_stopping_round is set=500, early_stopping_rounds=500 will be ignored. Current value: early_stopping_round=500\n"
     ]
    },
    {
     "name": "stderr",
     "output_type": "stream",
     "text": [
      "C:\\Users\\Windows\\.conda\\envs\\tf\\lib\\site-packages\\lightgbm\\sklearn.py:726: UserWarning: 'early_stopping_rounds' argument is deprecated and will be removed in a future release of LightGBM. Pass 'early_stopping()' callback via 'callbacks' argument instead.\n",
      "  _log_warning(\"'early_stopping_rounds' argument is deprecated and will be removed in a future release of LightGBM. \"\n",
      "C:\\Users\\Windows\\.conda\\envs\\tf\\lib\\site-packages\\lightgbm\\sklearn.py:736: UserWarning: 'verbose' argument is deprecated and will be removed in a future release of LightGBM. Pass 'log_evaluation()' callback via 'callbacks' argument instead.\n",
      "  _log_warning(\"'verbose' argument is deprecated and will be removed in a future release of LightGBM. \"\n",
      "C:\\Users\\Windows\\.conda\\envs\\tf\\lib\\site-packages\\lightgbm\\basic.py:2065: UserWarning: Using categorical_feature in Dataset.\n",
      "  _log_warning('Using categorical_feature in Dataset.')\n",
      "C:\\Users\\Windows\\.conda\\envs\\tf\\lib\\site-packages\\lightgbm\\basic.py:2068: UserWarning: categorical_feature in Dataset is overridden.\n",
      "New categorical_feature is ['EDUCATION_LEVEL', 'FAMILY_STATUS', 'GENDER', 'NAME_CONTRACT_TYPE']\n",
      "  _log_warning('categorical_feature in Dataset is overridden.\\n'\n",
      "C:\\Users\\Windows\\.conda\\envs\\tf\\lib\\site-packages\\lightgbm\\basic.py:1780: UserWarning: Overriding the parameters from Reference Dataset.\n",
      "  _log_warning('Overriding the parameters from Reference Dataset.')\n",
      "C:\\Users\\Windows\\.conda\\envs\\tf\\lib\\site-packages\\lightgbm\\basic.py:1513: UserWarning: categorical_column in param dict is overridden.\n",
      "  _log_warning(f'{cat_alias} in param dict is overridden.')\n"
     ]
    },
    {
     "name": "stdout",
     "output_type": "stream",
     "text": [
      "[200]\ttraining's auc: 0.766688\tvalid_1's auc: 0.72886\n",
      "[400]\ttraining's auc: 0.796098\tvalid_1's auc: 0.73226\n",
      "[600]\ttraining's auc: 0.816645\tvalid_1's auc: 0.736699\n",
      "[800]\ttraining's auc: 0.832752\tvalid_1's auc: 0.740171\n",
      "[1000]\ttraining's auc: 0.847165\tvalid_1's auc: 0.740347\n",
      "[1200]\ttraining's auc: 0.861156\tvalid_1's auc: 0.741644\n",
      "[1400]\ttraining's auc: 0.873247\tvalid_1's auc: 0.742078\n",
      "[1600]\ttraining's auc: 0.884302\tvalid_1's auc: 0.743091\n",
      "[1800]\ttraining's auc: 0.89412\tvalid_1's auc: 0.743108\n",
      "[2000]\ttraining's auc: 0.9031\tvalid_1's auc: 0.742819\n",
      "Fold: 7, train-observations = 104588, valid-observations = 5505\n",
      "train-score = 0.8855, valid-score = 0.7441\n",
      "=====================================================================\n",
      "[LightGBM] [Warning] seed is set=27, random_state=27 will be ignored. Current value: seed=27\n",
      "[LightGBM] [Warning] min_data_in_leaf is set=127, min_child_samples=20 will be ignored. Current value: min_data_in_leaf=127\n",
      "[LightGBM] [Warning] lambda_l1 is set=0.436193, reg_alpha=0.0 will be ignored. Current value: lambda_l1=0.436193\n",
      "[LightGBM] [Warning] lambda_l2 is set=0.479169, reg_lambda=0.0 will be ignored. Current value: lambda_l2=0.479169\n",
      "[LightGBM] [Warning] early_stopping_round is set=500, early_stopping_rounds=500 will be ignored. Current value: early_stopping_round=500\n"
     ]
    },
    {
     "name": "stderr",
     "output_type": "stream",
     "text": [
      "C:\\Users\\Windows\\.conda\\envs\\tf\\lib\\site-packages\\lightgbm\\sklearn.py:726: UserWarning: 'early_stopping_rounds' argument is deprecated and will be removed in a future release of LightGBM. Pass 'early_stopping()' callback via 'callbacks' argument instead.\n",
      "  _log_warning(\"'early_stopping_rounds' argument is deprecated and will be removed in a future release of LightGBM. \"\n",
      "C:\\Users\\Windows\\.conda\\envs\\tf\\lib\\site-packages\\lightgbm\\sklearn.py:736: UserWarning: 'verbose' argument is deprecated and will be removed in a future release of LightGBM. Pass 'log_evaluation()' callback via 'callbacks' argument instead.\n",
      "  _log_warning(\"'verbose' argument is deprecated and will be removed in a future release of LightGBM. \"\n",
      "C:\\Users\\Windows\\.conda\\envs\\tf\\lib\\site-packages\\lightgbm\\basic.py:2065: UserWarning: Using categorical_feature in Dataset.\n",
      "  _log_warning('Using categorical_feature in Dataset.')\n",
      "C:\\Users\\Windows\\.conda\\envs\\tf\\lib\\site-packages\\lightgbm\\basic.py:2068: UserWarning: categorical_feature in Dataset is overridden.\n",
      "New categorical_feature is ['EDUCATION_LEVEL', 'FAMILY_STATUS', 'GENDER', 'NAME_CONTRACT_TYPE']\n",
      "  _log_warning('categorical_feature in Dataset is overridden.\\n'\n",
      "C:\\Users\\Windows\\.conda\\envs\\tf\\lib\\site-packages\\lightgbm\\basic.py:1780: UserWarning: Overriding the parameters from Reference Dataset.\n",
      "  _log_warning('Overriding the parameters from Reference Dataset.')\n",
      "C:\\Users\\Windows\\.conda\\envs\\tf\\lib\\site-packages\\lightgbm\\basic.py:1513: UserWarning: categorical_column in param dict is overridden.\n",
      "  _log_warning(f'{cat_alias} in param dict is overridden.')\n"
     ]
    },
    {
     "name": "stdout",
     "output_type": "stream",
     "text": [
      "[200]\ttraining's auc: 0.765942\tvalid_1's auc: 0.734845\n",
      "[400]\ttraining's auc: 0.79593\tvalid_1's auc: 0.742162\n",
      "[600]\ttraining's auc: 0.81605\tvalid_1's auc: 0.744936\n",
      "[800]\ttraining's auc: 0.832453\tvalid_1's auc: 0.744014\n",
      "[1000]\ttraining's auc: 0.845582\tvalid_1's auc: 0.745029\n",
      "[1200]\ttraining's auc: 0.858977\tvalid_1's auc: 0.743609\n",
      "[1400]\ttraining's auc: 0.870681\tvalid_1's auc: 0.742562\n",
      "Fold: 8, train-observations = 104588, valid-observations = 5505\n",
      "train-score = 0.844, valid-score = 0.7454\n",
      "=====================================================================\n",
      "[LightGBM] [Warning] seed is set=27, random_state=27 will be ignored. Current value: seed=27\n",
      "[LightGBM] [Warning] min_data_in_leaf is set=127, min_child_samples=20 will be ignored. Current value: min_data_in_leaf=127\n",
      "[LightGBM] [Warning] lambda_l1 is set=0.436193, reg_alpha=0.0 will be ignored. Current value: lambda_l1=0.436193\n",
      "[LightGBM] [Warning] lambda_l2 is set=0.479169, reg_lambda=0.0 will be ignored. Current value: lambda_l2=0.479169\n",
      "[LightGBM] [Warning] early_stopping_round is set=500, early_stopping_rounds=500 will be ignored. Current value: early_stopping_round=500\n"
     ]
    },
    {
     "name": "stderr",
     "output_type": "stream",
     "text": [
      "C:\\Users\\Windows\\.conda\\envs\\tf\\lib\\site-packages\\lightgbm\\sklearn.py:726: UserWarning: 'early_stopping_rounds' argument is deprecated and will be removed in a future release of LightGBM. Pass 'early_stopping()' callback via 'callbacks' argument instead.\n",
      "  _log_warning(\"'early_stopping_rounds' argument is deprecated and will be removed in a future release of LightGBM. \"\n",
      "C:\\Users\\Windows\\.conda\\envs\\tf\\lib\\site-packages\\lightgbm\\sklearn.py:736: UserWarning: 'verbose' argument is deprecated and will be removed in a future release of LightGBM. Pass 'log_evaluation()' callback via 'callbacks' argument instead.\n",
      "  _log_warning(\"'verbose' argument is deprecated and will be removed in a future release of LightGBM. \"\n",
      "C:\\Users\\Windows\\.conda\\envs\\tf\\lib\\site-packages\\lightgbm\\basic.py:2065: UserWarning: Using categorical_feature in Dataset.\n",
      "  _log_warning('Using categorical_feature in Dataset.')\n",
      "C:\\Users\\Windows\\.conda\\envs\\tf\\lib\\site-packages\\lightgbm\\basic.py:2068: UserWarning: categorical_feature in Dataset is overridden.\n",
      "New categorical_feature is ['EDUCATION_LEVEL', 'FAMILY_STATUS', 'GENDER', 'NAME_CONTRACT_TYPE']\n",
      "  _log_warning('categorical_feature in Dataset is overridden.\\n'\n",
      "C:\\Users\\Windows\\.conda\\envs\\tf\\lib\\site-packages\\lightgbm\\basic.py:1780: UserWarning: Overriding the parameters from Reference Dataset.\n",
      "  _log_warning('Overriding the parameters from Reference Dataset.')\n",
      "C:\\Users\\Windows\\.conda\\envs\\tf\\lib\\site-packages\\lightgbm\\basic.py:1513: UserWarning: categorical_column in param dict is overridden.\n",
      "  _log_warning(f'{cat_alias} in param dict is overridden.')\n"
     ]
    },
    {
     "name": "stdout",
     "output_type": "stream",
     "text": [
      "[200]\ttraining's auc: 0.766729\tvalid_1's auc: 0.71996\n",
      "[400]\ttraining's auc: 0.795305\tvalid_1's auc: 0.72605\n",
      "[600]\ttraining's auc: 0.81398\tvalid_1's auc: 0.728551\n",
      "[800]\ttraining's auc: 0.830629\tvalid_1's auc: 0.727991\n",
      "[1000]\ttraining's auc: 0.845962\tvalid_1's auc: 0.730085\n",
      "[1200]\ttraining's auc: 0.860031\tvalid_1's auc: 0.727619\n",
      "[1400]\ttraining's auc: 0.872568\tvalid_1's auc: 0.728549\n",
      "Fold: 9, train-observations = 104588, valid-observations = 5505\n",
      "train-score = 0.8474, valid-score = 0.7308\n",
      "=====================================================================\n",
      "[LightGBM] [Warning] seed is set=27, random_state=27 will be ignored. Current value: seed=27\n",
      "[LightGBM] [Warning] min_data_in_leaf is set=127, min_child_samples=20 will be ignored. Current value: min_data_in_leaf=127\n",
      "[LightGBM] [Warning] lambda_l1 is set=0.436193, reg_alpha=0.0 will be ignored. Current value: lambda_l1=0.436193\n",
      "[LightGBM] [Warning] lambda_l2 is set=0.479169, reg_lambda=0.0 will be ignored. Current value: lambda_l2=0.479169\n",
      "[LightGBM] [Warning] early_stopping_round is set=500, early_stopping_rounds=500 will be ignored. Current value: early_stopping_round=500\n"
     ]
    },
    {
     "name": "stderr",
     "output_type": "stream",
     "text": [
      "C:\\Users\\Windows\\.conda\\envs\\tf\\lib\\site-packages\\lightgbm\\sklearn.py:726: UserWarning: 'early_stopping_rounds' argument is deprecated and will be removed in a future release of LightGBM. Pass 'early_stopping()' callback via 'callbacks' argument instead.\n",
      "  _log_warning(\"'early_stopping_rounds' argument is deprecated and will be removed in a future release of LightGBM. \"\n",
      "C:\\Users\\Windows\\.conda\\envs\\tf\\lib\\site-packages\\lightgbm\\sklearn.py:736: UserWarning: 'verbose' argument is deprecated and will be removed in a future release of LightGBM. Pass 'log_evaluation()' callback via 'callbacks' argument instead.\n",
      "  _log_warning(\"'verbose' argument is deprecated and will be removed in a future release of LightGBM. \"\n",
      "C:\\Users\\Windows\\.conda\\envs\\tf\\lib\\site-packages\\lightgbm\\basic.py:2065: UserWarning: Using categorical_feature in Dataset.\n",
      "  _log_warning('Using categorical_feature in Dataset.')\n",
      "C:\\Users\\Windows\\.conda\\envs\\tf\\lib\\site-packages\\lightgbm\\basic.py:2068: UserWarning: categorical_feature in Dataset is overridden.\n",
      "New categorical_feature is ['EDUCATION_LEVEL', 'FAMILY_STATUS', 'GENDER', 'NAME_CONTRACT_TYPE']\n",
      "  _log_warning('categorical_feature in Dataset is overridden.\\n'\n",
      "C:\\Users\\Windows\\.conda\\envs\\tf\\lib\\site-packages\\lightgbm\\basic.py:1780: UserWarning: Overriding the parameters from Reference Dataset.\n",
      "  _log_warning('Overriding the parameters from Reference Dataset.')\n",
      "C:\\Users\\Windows\\.conda\\envs\\tf\\lib\\site-packages\\lightgbm\\basic.py:1513: UserWarning: categorical_column in param dict is overridden.\n",
      "  _log_warning(f'{cat_alias} in param dict is overridden.')\n"
     ]
    },
    {
     "name": "stdout",
     "output_type": "stream",
     "text": [
      "[200]\ttraining's auc: 0.766177\tvalid_1's auc: 0.731683\n",
      "[400]\ttraining's auc: 0.796217\tvalid_1's auc: 0.740906\n",
      "[600]\ttraining's auc: 0.816828\tvalid_1's auc: 0.742041\n",
      "[800]\ttraining's auc: 0.832458\tvalid_1's auc: 0.743848\n",
      "[1000]\ttraining's auc: 0.846599\tvalid_1's auc: 0.74317\n",
      "[1200]\ttraining's auc: 0.860487\tvalid_1's auc: 0.744201\n",
      "Fold: 10, train-observations = 104588, valid-observations = 5505\n",
      "train-score = 0.8327, valid-score = 0.7443\n",
      "=====================================================================\n",
      "[LightGBM] [Warning] seed is set=27, random_state=27 will be ignored. Current value: seed=27\n",
      "[LightGBM] [Warning] min_data_in_leaf is set=127, min_child_samples=20 will be ignored. Current value: min_data_in_leaf=127\n",
      "[LightGBM] [Warning] lambda_l1 is set=0.436193, reg_alpha=0.0 will be ignored. Current value: lambda_l1=0.436193\n",
      "[LightGBM] [Warning] lambda_l2 is set=0.479169, reg_lambda=0.0 will be ignored. Current value: lambda_l2=0.479169\n",
      "[LightGBM] [Warning] early_stopping_round is set=500, early_stopping_rounds=500 will be ignored. Current value: early_stopping_round=500\n"
     ]
    },
    {
     "name": "stderr",
     "output_type": "stream",
     "text": [
      "C:\\Users\\Windows\\.conda\\envs\\tf\\lib\\site-packages\\lightgbm\\sklearn.py:726: UserWarning: 'early_stopping_rounds' argument is deprecated and will be removed in a future release of LightGBM. Pass 'early_stopping()' callback via 'callbacks' argument instead.\n",
      "  _log_warning(\"'early_stopping_rounds' argument is deprecated and will be removed in a future release of LightGBM. \"\n",
      "C:\\Users\\Windows\\.conda\\envs\\tf\\lib\\site-packages\\lightgbm\\sklearn.py:736: UserWarning: 'verbose' argument is deprecated and will be removed in a future release of LightGBM. Pass 'log_evaluation()' callback via 'callbacks' argument instead.\n",
      "  _log_warning(\"'verbose' argument is deprecated and will be removed in a future release of LightGBM. \"\n",
      "C:\\Users\\Windows\\.conda\\envs\\tf\\lib\\site-packages\\lightgbm\\basic.py:2065: UserWarning: Using categorical_feature in Dataset.\n",
      "  _log_warning('Using categorical_feature in Dataset.')\n",
      "C:\\Users\\Windows\\.conda\\envs\\tf\\lib\\site-packages\\lightgbm\\basic.py:2068: UserWarning: categorical_feature in Dataset is overridden.\n",
      "New categorical_feature is ['EDUCATION_LEVEL', 'FAMILY_STATUS', 'GENDER', 'NAME_CONTRACT_TYPE']\n",
      "  _log_warning('categorical_feature in Dataset is overridden.\\n'\n",
      "C:\\Users\\Windows\\.conda\\envs\\tf\\lib\\site-packages\\lightgbm\\basic.py:1780: UserWarning: Overriding the parameters from Reference Dataset.\n",
      "  _log_warning('Overriding the parameters from Reference Dataset.')\n",
      "C:\\Users\\Windows\\.conda\\envs\\tf\\lib\\site-packages\\lightgbm\\basic.py:1513: UserWarning: categorical_column in param dict is overridden.\n",
      "  _log_warning(f'{cat_alias} in param dict is overridden.')\n"
     ]
    },
    {
     "name": "stdout",
     "output_type": "stream",
     "text": [
      "[200]\ttraining's auc: 0.766703\tvalid_1's auc: 0.720518\n",
      "[400]\ttraining's auc: 0.796623\tvalid_1's auc: 0.725993\n",
      "[600]\ttraining's auc: 0.81728\tvalid_1's auc: 0.724661\n",
      "[800]\ttraining's auc: 0.833483\tvalid_1's auc: 0.725523\n",
      "Fold: 11, train-observations = 104588, valid-observations = 5505\n",
      "train-score = 0.8069, valid-score = 0.7272\n",
      "=====================================================================\n",
      "[LightGBM] [Warning] seed is set=27, random_state=27 will be ignored. Current value: seed=27\n",
      "[LightGBM] [Warning] min_data_in_leaf is set=127, min_child_samples=20 will be ignored. Current value: min_data_in_leaf=127\n",
      "[LightGBM] [Warning] lambda_l1 is set=0.436193, reg_alpha=0.0 will be ignored. Current value: lambda_l1=0.436193\n",
      "[LightGBM] [Warning] lambda_l2 is set=0.479169, reg_lambda=0.0 will be ignored. Current value: lambda_l2=0.479169\n",
      "[LightGBM] [Warning] early_stopping_round is set=500, early_stopping_rounds=500 will be ignored. Current value: early_stopping_round=500\n"
     ]
    },
    {
     "name": "stderr",
     "output_type": "stream",
     "text": [
      "C:\\Users\\Windows\\.conda\\envs\\tf\\lib\\site-packages\\lightgbm\\sklearn.py:726: UserWarning: 'early_stopping_rounds' argument is deprecated and will be removed in a future release of LightGBM. Pass 'early_stopping()' callback via 'callbacks' argument instead.\n",
      "  _log_warning(\"'early_stopping_rounds' argument is deprecated and will be removed in a future release of LightGBM. \"\n",
      "C:\\Users\\Windows\\.conda\\envs\\tf\\lib\\site-packages\\lightgbm\\sklearn.py:736: UserWarning: 'verbose' argument is deprecated and will be removed in a future release of LightGBM. Pass 'log_evaluation()' callback via 'callbacks' argument instead.\n",
      "  _log_warning(\"'verbose' argument is deprecated and will be removed in a future release of LightGBM. \"\n",
      "C:\\Users\\Windows\\.conda\\envs\\tf\\lib\\site-packages\\lightgbm\\basic.py:2065: UserWarning: Using categorical_feature in Dataset.\n",
      "  _log_warning('Using categorical_feature in Dataset.')\n",
      "C:\\Users\\Windows\\.conda\\envs\\tf\\lib\\site-packages\\lightgbm\\basic.py:2068: UserWarning: categorical_feature in Dataset is overridden.\n",
      "New categorical_feature is ['EDUCATION_LEVEL', 'FAMILY_STATUS', 'GENDER', 'NAME_CONTRACT_TYPE']\n",
      "  _log_warning('categorical_feature in Dataset is overridden.\\n'\n",
      "C:\\Users\\Windows\\.conda\\envs\\tf\\lib\\site-packages\\lightgbm\\basic.py:1780: UserWarning: Overriding the parameters from Reference Dataset.\n",
      "  _log_warning('Overriding the parameters from Reference Dataset.')\n",
      "C:\\Users\\Windows\\.conda\\envs\\tf\\lib\\site-packages\\lightgbm\\basic.py:1513: UserWarning: categorical_column in param dict is overridden.\n",
      "  _log_warning(f'{cat_alias} in param dict is overridden.')\n"
     ]
    },
    {
     "name": "stdout",
     "output_type": "stream",
     "text": [
      "[200]\ttraining's auc: 0.76668\tvalid_1's auc: 0.722009\n",
      "[400]\ttraining's auc: 0.796212\tvalid_1's auc: 0.725644\n",
      "[600]\ttraining's auc: 0.815785\tvalid_1's auc: 0.724451\n",
      "[800]\ttraining's auc: 0.83124\tvalid_1's auc: 0.724256\n",
      "Fold: 12, train-observations = 104588, valid-observations = 5505\n",
      "train-score = 0.8023, valid-score = 0.7261\n",
      "=====================================================================\n",
      "[LightGBM] [Warning] seed is set=27, random_state=27 will be ignored. Current value: seed=27\n",
      "[LightGBM] [Warning] min_data_in_leaf is set=127, min_child_samples=20 will be ignored. Current value: min_data_in_leaf=127\n",
      "[LightGBM] [Warning] lambda_l1 is set=0.436193, reg_alpha=0.0 will be ignored. Current value: lambda_l1=0.436193\n",
      "[LightGBM] [Warning] lambda_l2 is set=0.479169, reg_lambda=0.0 will be ignored. Current value: lambda_l2=0.479169\n",
      "[LightGBM] [Warning] early_stopping_round is set=500, early_stopping_rounds=500 will be ignored. Current value: early_stopping_round=500\n"
     ]
    },
    {
     "name": "stderr",
     "output_type": "stream",
     "text": [
      "C:\\Users\\Windows\\.conda\\envs\\tf\\lib\\site-packages\\lightgbm\\sklearn.py:726: UserWarning: 'early_stopping_rounds' argument is deprecated and will be removed in a future release of LightGBM. Pass 'early_stopping()' callback via 'callbacks' argument instead.\n",
      "  _log_warning(\"'early_stopping_rounds' argument is deprecated and will be removed in a future release of LightGBM. \"\n",
      "C:\\Users\\Windows\\.conda\\envs\\tf\\lib\\site-packages\\lightgbm\\sklearn.py:736: UserWarning: 'verbose' argument is deprecated and will be removed in a future release of LightGBM. Pass 'log_evaluation()' callback via 'callbacks' argument instead.\n",
      "  _log_warning(\"'verbose' argument is deprecated and will be removed in a future release of LightGBM. \"\n",
      "C:\\Users\\Windows\\.conda\\envs\\tf\\lib\\site-packages\\lightgbm\\basic.py:2065: UserWarning: Using categorical_feature in Dataset.\n",
      "  _log_warning('Using categorical_feature in Dataset.')\n",
      "C:\\Users\\Windows\\.conda\\envs\\tf\\lib\\site-packages\\lightgbm\\basic.py:2068: UserWarning: categorical_feature in Dataset is overridden.\n",
      "New categorical_feature is ['EDUCATION_LEVEL', 'FAMILY_STATUS', 'GENDER', 'NAME_CONTRACT_TYPE']\n",
      "  _log_warning('categorical_feature in Dataset is overridden.\\n'\n",
      "C:\\Users\\Windows\\.conda\\envs\\tf\\lib\\site-packages\\lightgbm\\basic.py:1780: UserWarning: Overriding the parameters from Reference Dataset.\n",
      "  _log_warning('Overriding the parameters from Reference Dataset.')\n",
      "C:\\Users\\Windows\\.conda\\envs\\tf\\lib\\site-packages\\lightgbm\\basic.py:1513: UserWarning: categorical_column in param dict is overridden.\n",
      "  _log_warning(f'{cat_alias} in param dict is overridden.')\n"
     ]
    },
    {
     "name": "stdout",
     "output_type": "stream",
     "text": [
      "[200]\ttraining's auc: 0.765962\tvalid_1's auc: 0.731732\n",
      "[400]\ttraining's auc: 0.796148\tvalid_1's auc: 0.736652\n",
      "[600]\ttraining's auc: 0.816367\tvalid_1's auc: 0.736102\n",
      "[800]\ttraining's auc: 0.832057\tvalid_1's auc: 0.737232\n",
      "[1000]\ttraining's auc: 0.846848\tvalid_1's auc: 0.735985\n",
      "Fold: 13, train-observations = 104588, valid-observations = 5505\n",
      "train-score = 0.8104, valid-score = 0.7378\n",
      "=====================================================================\n",
      "[LightGBM] [Warning] seed is set=27, random_state=27 will be ignored. Current value: seed=27\n",
      "[LightGBM] [Warning] min_data_in_leaf is set=127, min_child_samples=20 will be ignored. Current value: min_data_in_leaf=127\n",
      "[LightGBM] [Warning] lambda_l1 is set=0.436193, reg_alpha=0.0 will be ignored. Current value: lambda_l1=0.436193\n",
      "[LightGBM] [Warning] lambda_l2 is set=0.479169, reg_lambda=0.0 will be ignored. Current value: lambda_l2=0.479169\n",
      "[LightGBM] [Warning] early_stopping_round is set=500, early_stopping_rounds=500 will be ignored. Current value: early_stopping_round=500\n"
     ]
    },
    {
     "name": "stderr",
     "output_type": "stream",
     "text": [
      "C:\\Users\\Windows\\.conda\\envs\\tf\\lib\\site-packages\\lightgbm\\sklearn.py:726: UserWarning: 'early_stopping_rounds' argument is deprecated and will be removed in a future release of LightGBM. Pass 'early_stopping()' callback via 'callbacks' argument instead.\n",
      "  _log_warning(\"'early_stopping_rounds' argument is deprecated and will be removed in a future release of LightGBM. \"\n",
      "C:\\Users\\Windows\\.conda\\envs\\tf\\lib\\site-packages\\lightgbm\\sklearn.py:736: UserWarning: 'verbose' argument is deprecated and will be removed in a future release of LightGBM. Pass 'log_evaluation()' callback via 'callbacks' argument instead.\n",
      "  _log_warning(\"'verbose' argument is deprecated and will be removed in a future release of LightGBM. \"\n",
      "C:\\Users\\Windows\\.conda\\envs\\tf\\lib\\site-packages\\lightgbm\\basic.py:2065: UserWarning: Using categorical_feature in Dataset.\n",
      "  _log_warning('Using categorical_feature in Dataset.')\n",
      "C:\\Users\\Windows\\.conda\\envs\\tf\\lib\\site-packages\\lightgbm\\basic.py:2068: UserWarning: categorical_feature in Dataset is overridden.\n",
      "New categorical_feature is ['EDUCATION_LEVEL', 'FAMILY_STATUS', 'GENDER', 'NAME_CONTRACT_TYPE']\n",
      "  _log_warning('categorical_feature in Dataset is overridden.\\n'\n",
      "C:\\Users\\Windows\\.conda\\envs\\tf\\lib\\site-packages\\lightgbm\\basic.py:1780: UserWarning: Overriding the parameters from Reference Dataset.\n",
      "  _log_warning('Overriding the parameters from Reference Dataset.')\n",
      "C:\\Users\\Windows\\.conda\\envs\\tf\\lib\\site-packages\\lightgbm\\basic.py:1513: UserWarning: categorical_column in param dict is overridden.\n",
      "  _log_warning(f'{cat_alias} in param dict is overridden.')\n"
     ]
    },
    {
     "name": "stdout",
     "output_type": "stream",
     "text": [
      "[200]\ttraining's auc: 0.76682\tvalid_1's auc: 0.706639\n",
      "[400]\ttraining's auc: 0.796304\tvalid_1's auc: 0.713599\n",
      "[600]\ttraining's auc: 0.815698\tvalid_1's auc: 0.715885\n",
      "[800]\ttraining's auc: 0.831607\tvalid_1's auc: 0.714702\n",
      "[1000]\ttraining's auc: 0.848087\tvalid_1's auc: 0.714967\n",
      "Fold: 14, train-observations = 104589, valid-observations = 5504\n",
      "train-score = 0.8162, valid-score = 0.7161\n",
      "=====================================================================\n",
      "[LightGBM] [Warning] seed is set=27, random_state=27 will be ignored. Current value: seed=27\n",
      "[LightGBM] [Warning] min_data_in_leaf is set=127, min_child_samples=20 will be ignored. Current value: min_data_in_leaf=127\n",
      "[LightGBM] [Warning] lambda_l1 is set=0.436193, reg_alpha=0.0 will be ignored. Current value: lambda_l1=0.436193\n",
      "[LightGBM] [Warning] lambda_l2 is set=0.479169, reg_lambda=0.0 will be ignored. Current value: lambda_l2=0.479169\n",
      "[LightGBM] [Warning] early_stopping_round is set=500, early_stopping_rounds=500 will be ignored. Current value: early_stopping_round=500\n"
     ]
    },
    {
     "name": "stderr",
     "output_type": "stream",
     "text": [
      "C:\\Users\\Windows\\.conda\\envs\\tf\\lib\\site-packages\\lightgbm\\sklearn.py:726: UserWarning: 'early_stopping_rounds' argument is deprecated and will be removed in a future release of LightGBM. Pass 'early_stopping()' callback via 'callbacks' argument instead.\n",
      "  _log_warning(\"'early_stopping_rounds' argument is deprecated and will be removed in a future release of LightGBM. \"\n",
      "C:\\Users\\Windows\\.conda\\envs\\tf\\lib\\site-packages\\lightgbm\\sklearn.py:736: UserWarning: 'verbose' argument is deprecated and will be removed in a future release of LightGBM. Pass 'log_evaluation()' callback via 'callbacks' argument instead.\n",
      "  _log_warning(\"'verbose' argument is deprecated and will be removed in a future release of LightGBM. \"\n",
      "C:\\Users\\Windows\\.conda\\envs\\tf\\lib\\site-packages\\lightgbm\\basic.py:2065: UserWarning: Using categorical_feature in Dataset.\n",
      "  _log_warning('Using categorical_feature in Dataset.')\n",
      "C:\\Users\\Windows\\.conda\\envs\\tf\\lib\\site-packages\\lightgbm\\basic.py:2068: UserWarning: categorical_feature in Dataset is overridden.\n",
      "New categorical_feature is ['EDUCATION_LEVEL', 'FAMILY_STATUS', 'GENDER', 'NAME_CONTRACT_TYPE']\n",
      "  _log_warning('categorical_feature in Dataset is overridden.\\n'\n",
      "C:\\Users\\Windows\\.conda\\envs\\tf\\lib\\site-packages\\lightgbm\\basic.py:1780: UserWarning: Overriding the parameters from Reference Dataset.\n",
      "  _log_warning('Overriding the parameters from Reference Dataset.')\n",
      "C:\\Users\\Windows\\.conda\\envs\\tf\\lib\\site-packages\\lightgbm\\basic.py:1513: UserWarning: categorical_column in param dict is overridden.\n",
      "  _log_warning(f'{cat_alias} in param dict is overridden.')\n"
     ]
    },
    {
     "name": "stdout",
     "output_type": "stream",
     "text": [
      "[200]\ttraining's auc: 0.767097\tvalid_1's auc: 0.720252\n",
      "[400]\ttraining's auc: 0.796782\tvalid_1's auc: 0.726889\n",
      "[600]\ttraining's auc: 0.81639\tvalid_1's auc: 0.728396\n",
      "[800]\ttraining's auc: 0.8333\tvalid_1's auc: 0.729103\n",
      "[1000]\ttraining's auc: 0.847858\tvalid_1's auc: 0.729499\n",
      "[1200]\ttraining's auc: 0.862312\tvalid_1's auc: 0.726982\n",
      "[1400]\ttraining's auc: 0.874903\tvalid_1's auc: 0.725854\n",
      "Fold: 15, train-observations = 104589, valid-observations = 5504\n",
      "train-score = 0.8446, valid-score = 0.7302\n",
      "=====================================================================\n",
      "[LightGBM] [Warning] seed is set=27, random_state=27 will be ignored. Current value: seed=27\n",
      "[LightGBM] [Warning] min_data_in_leaf is set=127, min_child_samples=20 will be ignored. Current value: min_data_in_leaf=127\n",
      "[LightGBM] [Warning] lambda_l1 is set=0.436193, reg_alpha=0.0 will be ignored. Current value: lambda_l1=0.436193\n",
      "[LightGBM] [Warning] lambda_l2 is set=0.479169, reg_lambda=0.0 will be ignored. Current value: lambda_l2=0.479169\n",
      "[LightGBM] [Warning] early_stopping_round is set=500, early_stopping_rounds=500 will be ignored. Current value: early_stopping_round=500\n"
     ]
    },
    {
     "name": "stderr",
     "output_type": "stream",
     "text": [
      "C:\\Users\\Windows\\.conda\\envs\\tf\\lib\\site-packages\\lightgbm\\sklearn.py:726: UserWarning: 'early_stopping_rounds' argument is deprecated and will be removed in a future release of LightGBM. Pass 'early_stopping()' callback via 'callbacks' argument instead.\n",
      "  _log_warning(\"'early_stopping_rounds' argument is deprecated and will be removed in a future release of LightGBM. \"\n",
      "C:\\Users\\Windows\\.conda\\envs\\tf\\lib\\site-packages\\lightgbm\\sklearn.py:736: UserWarning: 'verbose' argument is deprecated and will be removed in a future release of LightGBM. Pass 'log_evaluation()' callback via 'callbacks' argument instead.\n",
      "  _log_warning(\"'verbose' argument is deprecated and will be removed in a future release of LightGBM. \"\n",
      "C:\\Users\\Windows\\.conda\\envs\\tf\\lib\\site-packages\\lightgbm\\basic.py:2065: UserWarning: Using categorical_feature in Dataset.\n",
      "  _log_warning('Using categorical_feature in Dataset.')\n",
      "C:\\Users\\Windows\\.conda\\envs\\tf\\lib\\site-packages\\lightgbm\\basic.py:2068: UserWarning: categorical_feature in Dataset is overridden.\n",
      "New categorical_feature is ['EDUCATION_LEVEL', 'FAMILY_STATUS', 'GENDER', 'NAME_CONTRACT_TYPE']\n",
      "  _log_warning('categorical_feature in Dataset is overridden.\\n'\n",
      "C:\\Users\\Windows\\.conda\\envs\\tf\\lib\\site-packages\\lightgbm\\basic.py:1780: UserWarning: Overriding the parameters from Reference Dataset.\n",
      "  _log_warning('Overriding the parameters from Reference Dataset.')\n",
      "C:\\Users\\Windows\\.conda\\envs\\tf\\lib\\site-packages\\lightgbm\\basic.py:1513: UserWarning: categorical_column in param dict is overridden.\n",
      "  _log_warning(f'{cat_alias} in param dict is overridden.')\n"
     ]
    },
    {
     "name": "stdout",
     "output_type": "stream",
     "text": [
      "[200]\ttraining's auc: 0.767518\tvalid_1's auc: 0.691543\n",
      "[400]\ttraining's auc: 0.796723\tvalid_1's auc: 0.69968\n",
      "[600]\ttraining's auc: 0.817053\tvalid_1's auc: 0.703861\n",
      "[800]\ttraining's auc: 0.8334\tvalid_1's auc: 0.705158\n",
      "[1000]\ttraining's auc: 0.847662\tvalid_1's auc: 0.705841\n",
      "[1200]\ttraining's auc: 0.861228\tvalid_1's auc: 0.705519\n",
      "[1400]\ttraining's auc: 0.872704\tvalid_1's auc: 0.704575\n",
      "Fold: 16, train-observations = 104589, valid-observations = 5504\n",
      "train-score = 0.8428, valid-score = 0.7068\n",
      "=====================================================================\n",
      "[LightGBM] [Warning] seed is set=27, random_state=27 will be ignored. Current value: seed=27\n",
      "[LightGBM] [Warning] min_data_in_leaf is set=127, min_child_samples=20 will be ignored. Current value: min_data_in_leaf=127\n",
      "[LightGBM] [Warning] lambda_l1 is set=0.436193, reg_alpha=0.0 will be ignored. Current value: lambda_l1=0.436193\n",
      "[LightGBM] [Warning] lambda_l2 is set=0.479169, reg_lambda=0.0 will be ignored. Current value: lambda_l2=0.479169\n",
      "[LightGBM] [Warning] early_stopping_round is set=500, early_stopping_rounds=500 will be ignored. Current value: early_stopping_round=500\n"
     ]
    },
    {
     "name": "stderr",
     "output_type": "stream",
     "text": [
      "C:\\Users\\Windows\\.conda\\envs\\tf\\lib\\site-packages\\lightgbm\\sklearn.py:726: UserWarning: 'early_stopping_rounds' argument is deprecated and will be removed in a future release of LightGBM. Pass 'early_stopping()' callback via 'callbacks' argument instead.\n",
      "  _log_warning(\"'early_stopping_rounds' argument is deprecated and will be removed in a future release of LightGBM. \"\n",
      "C:\\Users\\Windows\\.conda\\envs\\tf\\lib\\site-packages\\lightgbm\\sklearn.py:736: UserWarning: 'verbose' argument is deprecated and will be removed in a future release of LightGBM. Pass 'log_evaluation()' callback via 'callbacks' argument instead.\n",
      "  _log_warning(\"'verbose' argument is deprecated and will be removed in a future release of LightGBM. \"\n",
      "C:\\Users\\Windows\\.conda\\envs\\tf\\lib\\site-packages\\lightgbm\\basic.py:2065: UserWarning: Using categorical_feature in Dataset.\n",
      "  _log_warning('Using categorical_feature in Dataset.')\n",
      "C:\\Users\\Windows\\.conda\\envs\\tf\\lib\\site-packages\\lightgbm\\basic.py:2068: UserWarning: categorical_feature in Dataset is overridden.\n",
      "New categorical_feature is ['EDUCATION_LEVEL', 'FAMILY_STATUS', 'GENDER', 'NAME_CONTRACT_TYPE']\n",
      "  _log_warning('categorical_feature in Dataset is overridden.\\n'\n",
      "C:\\Users\\Windows\\.conda\\envs\\tf\\lib\\site-packages\\lightgbm\\basic.py:1780: UserWarning: Overriding the parameters from Reference Dataset.\n",
      "  _log_warning('Overriding the parameters from Reference Dataset.')\n",
      "C:\\Users\\Windows\\.conda\\envs\\tf\\lib\\site-packages\\lightgbm\\basic.py:1513: UserWarning: categorical_column in param dict is overridden.\n",
      "  _log_warning(f'{cat_alias} in param dict is overridden.')\n"
     ]
    },
    {
     "name": "stdout",
     "output_type": "stream",
     "text": [
      "[200]\ttraining's auc: 0.765896\tvalid_1's auc: 0.73828\n",
      "[400]\ttraining's auc: 0.795323\tvalid_1's auc: 0.748859\n",
      "[600]\ttraining's auc: 0.814649\tvalid_1's auc: 0.753531\n",
      "[800]\ttraining's auc: 0.831882\tvalid_1's auc: 0.755928\n",
      "[1000]\ttraining's auc: 0.846471\tvalid_1's auc: 0.757478\n",
      "[1200]\ttraining's auc: 0.860084\tvalid_1's auc: 0.757135\n",
      "[1400]\ttraining's auc: 0.873037\tvalid_1's auc: 0.756481\n",
      "Fold: 17, train-observations = 104589, valid-observations = 5504\n",
      "train-score = 0.8512, valid-score = 0.7586\n",
      "=====================================================================\n",
      "[LightGBM] [Warning] seed is set=27, random_state=27 will be ignored. Current value: seed=27\n",
      "[LightGBM] [Warning] min_data_in_leaf is set=127, min_child_samples=20 will be ignored. Current value: min_data_in_leaf=127\n",
      "[LightGBM] [Warning] lambda_l1 is set=0.436193, reg_alpha=0.0 will be ignored. Current value: lambda_l1=0.436193\n",
      "[LightGBM] [Warning] lambda_l2 is set=0.479169, reg_lambda=0.0 will be ignored. Current value: lambda_l2=0.479169\n",
      "[LightGBM] [Warning] early_stopping_round is set=500, early_stopping_rounds=500 will be ignored. Current value: early_stopping_round=500\n"
     ]
    },
    {
     "name": "stderr",
     "output_type": "stream",
     "text": [
      "C:\\Users\\Windows\\.conda\\envs\\tf\\lib\\site-packages\\lightgbm\\sklearn.py:726: UserWarning: 'early_stopping_rounds' argument is deprecated and will be removed in a future release of LightGBM. Pass 'early_stopping()' callback via 'callbacks' argument instead.\n",
      "  _log_warning(\"'early_stopping_rounds' argument is deprecated and will be removed in a future release of LightGBM. \"\n",
      "C:\\Users\\Windows\\.conda\\envs\\tf\\lib\\site-packages\\lightgbm\\sklearn.py:736: UserWarning: 'verbose' argument is deprecated and will be removed in a future release of LightGBM. Pass 'log_evaluation()' callback via 'callbacks' argument instead.\n",
      "  _log_warning(\"'verbose' argument is deprecated and will be removed in a future release of LightGBM. \"\n",
      "C:\\Users\\Windows\\.conda\\envs\\tf\\lib\\site-packages\\lightgbm\\basic.py:2065: UserWarning: Using categorical_feature in Dataset.\n",
      "  _log_warning('Using categorical_feature in Dataset.')\n",
      "C:\\Users\\Windows\\.conda\\envs\\tf\\lib\\site-packages\\lightgbm\\basic.py:2068: UserWarning: categorical_feature in Dataset is overridden.\n",
      "New categorical_feature is ['EDUCATION_LEVEL', 'FAMILY_STATUS', 'GENDER', 'NAME_CONTRACT_TYPE']\n",
      "  _log_warning('categorical_feature in Dataset is overridden.\\n'\n",
      "C:\\Users\\Windows\\.conda\\envs\\tf\\lib\\site-packages\\lightgbm\\basic.py:1780: UserWarning: Overriding the parameters from Reference Dataset.\n",
      "  _log_warning('Overriding the parameters from Reference Dataset.')\n",
      "C:\\Users\\Windows\\.conda\\envs\\tf\\lib\\site-packages\\lightgbm\\basic.py:1513: UserWarning: categorical_column in param dict is overridden.\n",
      "  _log_warning(f'{cat_alias} in param dict is overridden.')\n"
     ]
    },
    {
     "name": "stdout",
     "output_type": "stream",
     "text": [
      "[200]\ttraining's auc: 0.766751\tvalid_1's auc: 0.731243\n",
      "[400]\ttraining's auc: 0.796102\tvalid_1's auc: 0.735956\n",
      "[600]\ttraining's auc: 0.81683\tvalid_1's auc: 0.737811\n",
      "[800]\ttraining's auc: 0.833708\tvalid_1's auc: 0.736513\n",
      "[1000]\ttraining's auc: 0.848842\tvalid_1's auc: 0.736119\n",
      "Fold: 18, train-observations = 104589, valid-observations = 5504\n",
      "train-score = 0.8202, valid-score = 0.7382\n",
      "=====================================================================\n",
      "[LightGBM] [Warning] seed is set=27, random_state=27 will be ignored. Current value: seed=27\n",
      "[LightGBM] [Warning] min_data_in_leaf is set=127, min_child_samples=20 will be ignored. Current value: min_data_in_leaf=127\n",
      "[LightGBM] [Warning] lambda_l1 is set=0.436193, reg_alpha=0.0 will be ignored. Current value: lambda_l1=0.436193\n",
      "[LightGBM] [Warning] lambda_l2 is set=0.479169, reg_lambda=0.0 will be ignored. Current value: lambda_l2=0.479169\n",
      "[LightGBM] [Warning] early_stopping_round is set=500, early_stopping_rounds=500 will be ignored. Current value: early_stopping_round=500\n"
     ]
    },
    {
     "name": "stderr",
     "output_type": "stream",
     "text": [
      "C:\\Users\\Windows\\.conda\\envs\\tf\\lib\\site-packages\\lightgbm\\sklearn.py:726: UserWarning: 'early_stopping_rounds' argument is deprecated and will be removed in a future release of LightGBM. Pass 'early_stopping()' callback via 'callbacks' argument instead.\n",
      "  _log_warning(\"'early_stopping_rounds' argument is deprecated and will be removed in a future release of LightGBM. \"\n",
      "C:\\Users\\Windows\\.conda\\envs\\tf\\lib\\site-packages\\lightgbm\\sklearn.py:736: UserWarning: 'verbose' argument is deprecated and will be removed in a future release of LightGBM. Pass 'log_evaluation()' callback via 'callbacks' argument instead.\n",
      "  _log_warning(\"'verbose' argument is deprecated and will be removed in a future release of LightGBM. \"\n",
      "C:\\Users\\Windows\\.conda\\envs\\tf\\lib\\site-packages\\lightgbm\\basic.py:2065: UserWarning: Using categorical_feature in Dataset.\n",
      "  _log_warning('Using categorical_feature in Dataset.')\n",
      "C:\\Users\\Windows\\.conda\\envs\\tf\\lib\\site-packages\\lightgbm\\basic.py:2068: UserWarning: categorical_feature in Dataset is overridden.\n",
      "New categorical_feature is ['EDUCATION_LEVEL', 'FAMILY_STATUS', 'GENDER', 'NAME_CONTRACT_TYPE']\n",
      "  _log_warning('categorical_feature in Dataset is overridden.\\n'\n",
      "C:\\Users\\Windows\\.conda\\envs\\tf\\lib\\site-packages\\lightgbm\\basic.py:1780: UserWarning: Overriding the parameters from Reference Dataset.\n",
      "  _log_warning('Overriding the parameters from Reference Dataset.')\n",
      "C:\\Users\\Windows\\.conda\\envs\\tf\\lib\\site-packages\\lightgbm\\basic.py:1513: UserWarning: categorical_column in param dict is overridden.\n",
      "  _log_warning(f'{cat_alias} in param dict is overridden.')\n"
     ]
    },
    {
     "name": "stdout",
     "output_type": "stream",
     "text": [
      "[200]\ttraining's auc: 0.767172\tvalid_1's auc: 0.701117\n",
      "[400]\ttraining's auc: 0.796589\tvalid_1's auc: 0.70794\n",
      "[600]\ttraining's auc: 0.817893\tvalid_1's auc: 0.712218\n",
      "[800]\ttraining's auc: 0.833791\tvalid_1's auc: 0.712158\n",
      "[1000]\ttraining's auc: 0.848305\tvalid_1's auc: 0.712426\n",
      "[1200]\ttraining's auc: 0.862166\tvalid_1's auc: 0.712105\n",
      "Fold: 19, train-observations = 104589, valid-observations = 5504\n",
      "train-score = 0.8282, valid-score = 0.7132\n",
      "=====================================================================\n",
      "[LightGBM] [Warning] seed is set=27, random_state=27 will be ignored. Current value: seed=27\n",
      "[LightGBM] [Warning] min_data_in_leaf is set=127, min_child_samples=20 will be ignored. Current value: min_data_in_leaf=127\n",
      "[LightGBM] [Warning] lambda_l1 is set=0.436193, reg_alpha=0.0 will be ignored. Current value: lambda_l1=0.436193\n",
      "[LightGBM] [Warning] lambda_l2 is set=0.479169, reg_lambda=0.0 will be ignored. Current value: lambda_l2=0.479169\n",
      "[LightGBM] [Warning] early_stopping_round is set=500, early_stopping_rounds=500 will be ignored. Current value: early_stopping_round=500\n"
     ]
    },
    {
     "name": "stderr",
     "output_type": "stream",
     "text": [
      "C:\\Users\\Windows\\.conda\\envs\\tf\\lib\\site-packages\\lightgbm\\sklearn.py:726: UserWarning: 'early_stopping_rounds' argument is deprecated and will be removed in a future release of LightGBM. Pass 'early_stopping()' callback via 'callbacks' argument instead.\n",
      "  _log_warning(\"'early_stopping_rounds' argument is deprecated and will be removed in a future release of LightGBM. \"\n",
      "C:\\Users\\Windows\\.conda\\envs\\tf\\lib\\site-packages\\lightgbm\\sklearn.py:736: UserWarning: 'verbose' argument is deprecated and will be removed in a future release of LightGBM. Pass 'log_evaluation()' callback via 'callbacks' argument instead.\n",
      "  _log_warning(\"'verbose' argument is deprecated and will be removed in a future release of LightGBM. \"\n",
      "C:\\Users\\Windows\\.conda\\envs\\tf\\lib\\site-packages\\lightgbm\\basic.py:2065: UserWarning: Using categorical_feature in Dataset.\n",
      "  _log_warning('Using categorical_feature in Dataset.')\n",
      "C:\\Users\\Windows\\.conda\\envs\\tf\\lib\\site-packages\\lightgbm\\basic.py:2068: UserWarning: categorical_feature in Dataset is overridden.\n",
      "New categorical_feature is ['EDUCATION_LEVEL', 'FAMILY_STATUS', 'GENDER', 'NAME_CONTRACT_TYPE']\n",
      "  _log_warning('categorical_feature in Dataset is overridden.\\n'\n",
      "C:\\Users\\Windows\\.conda\\envs\\tf\\lib\\site-packages\\lightgbm\\basic.py:1780: UserWarning: Overriding the parameters from Reference Dataset.\n",
      "  _log_warning('Overriding the parameters from Reference Dataset.')\n",
      "C:\\Users\\Windows\\.conda\\envs\\tf\\lib\\site-packages\\lightgbm\\basic.py:1513: UserWarning: categorical_column in param dict is overridden.\n",
      "  _log_warning(f'{cat_alias} in param dict is overridden.')\n"
     ]
    },
    {
     "name": "stdout",
     "output_type": "stream",
     "text": [
      "[200]\ttraining's auc: 0.766423\tvalid_1's auc: 0.725914\n",
      "[400]\ttraining's auc: 0.79617\tvalid_1's auc: 0.732994\n",
      "[600]\ttraining's auc: 0.816926\tvalid_1's auc: 0.735176\n",
      "[800]\ttraining's auc: 0.832746\tvalid_1's auc: 0.737097\n",
      "[1000]\ttraining's auc: 0.847073\tvalid_1's auc: 0.738023\n",
      "[1200]\ttraining's auc: 0.861057\tvalid_1's auc: 0.737579\n",
      "[1400]\ttraining's auc: 0.873656\tvalid_1's auc: 0.736662\n",
      "[1600]\ttraining's auc: 0.884324\tvalid_1's auc: 0.737618\n",
      "[1800]\ttraining's auc: 0.893682\tvalid_1's auc: 0.737074\n",
      "Fold: 20, train-observations = 104589, valid-observations = 5504\n",
      "train-score = 0.8681, valid-score = 0.7388\n",
      "=====================================================================\n",
      "CV-results train: 0.8333 +/- 0.021\n",
      "CV-results valid: 0.7312 +/- 0.012\n",
      "OOF-score = 0.8617\n"
     ]
    }
   ],
   "source": [
    "#model,test_prediction=get_samples_hold_out_validation(lgbm_params,train,target,[0.7,0.2,0.1],'LGBM', categorical)\n",
    "#cv_strategy = KFold(n_splits=20, random_state=42,shuffle=True)\n",
    "#cv_strategy = StratifiedShuffleSplit(n_splits=20, random_state=27, train_size=0.7)\n",
    "cv_strategy = StratifiedKFold(n_splits=20, shuffle=True, random_state=42)\n",
    "\n",
    "estimators, oof_score, fold_train_scores, fold_valid_scores, oof_predictions = make_cross_validation(\n",
    "    train_only_imp_features, target, model, categorical, metric=roc_auc_score,cv_strategy=cv_strategy\n",
    ")"
   ]
  },
  {
   "cell_type": "code",
   "execution_count": 192,
   "id": "0714fcb1",
   "metadata": {},
   "outputs": [
    {
     "name": "stdout",
     "output_type": "stream",
     "text": [
      "max of fold_valid_scores= 0.7585910969659145\n"
     ]
    }
   ],
   "source": [
    "fold_number_max_score = np.argmax(fold_valid_scores)\n",
    "print(\"max of fold_valid_scores=\",np.max(fold_valid_scores))\n",
    "best_model_lgb=estimators[fold_number_max_score]\n",
    "test_predict_target=best_model_lgb.predict_proba(test_only_imp_features)[:,1]  "
   ]
  },
  {
   "cell_type": "markdown",
   "id": "847c2774",
   "metadata": {},
   "source": [
    "Возьмем fold 8"
   ]
  },
  {
   "cell_type": "code",
   "execution_count": 199,
   "id": "0690179c",
   "metadata": {},
   "outputs": [],
   "source": [
    "#fold_number_max_score=7\n",
    "#print(fold_valid_scores[fold_number_max_score])\n",
    "#best_model_lgb=estimators[fold_number_max_score]\n",
    "#test_predict_target=best_model_lgb.predict_proba(test_only_imp_features)[:,1]  "
   ]
  },
  {
   "cell_type": "code",
   "execution_count": 193,
   "id": "7ecb1caa",
   "metadata": {},
   "outputs": [],
   "source": [
    "test_predict_target = pd.DataFrame(data = test_predict_target, columns = [\"TARGET\"], index = test_id.index.copy())\n",
    "predicted_test = pd.merge(test_id, test_predict_target, how = 'left', left_index = True, right_index = True)\n"
   ]
  },
  {
   "cell_type": "code",
   "execution_count": 194,
   "id": "cc6bc74d",
   "metadata": {},
   "outputs": [
    {
     "data": {
      "text/html": [
       "<div>\n",
       "<style scoped>\n",
       "    .dataframe tbody tr th:only-of-type {\n",
       "        vertical-align: middle;\n",
       "    }\n",
       "\n",
       "    .dataframe tbody tr th {\n",
       "        vertical-align: top;\n",
       "    }\n",
       "\n",
       "    .dataframe thead th {\n",
       "        text-align: right;\n",
       "    }\n",
       "</style>\n",
       "<table border=\"1\" class=\"dataframe\">\n",
       "  <thead>\n",
       "    <tr style=\"text-align: right;\">\n",
       "      <th></th>\n",
       "      <th>APPLICATION_NUMBER</th>\n",
       "      <th>TARGET</th>\n",
       "    </tr>\n",
       "  </thead>\n",
       "  <tbody>\n",
       "    <tr>\n",
       "      <th>110093</th>\n",
       "      <td>123724268</td>\n",
       "      <td>0.041323</td>\n",
       "    </tr>\n",
       "    <tr>\n",
       "      <th>110094</th>\n",
       "      <td>123456549</td>\n",
       "      <td>0.217943</td>\n",
       "    </tr>\n",
       "    <tr>\n",
       "      <th>110095</th>\n",
       "      <td>123428178</td>\n",
       "      <td>0.130140</td>\n",
       "    </tr>\n",
       "    <tr>\n",
       "      <th>110096</th>\n",
       "      <td>123619984</td>\n",
       "      <td>0.084809</td>\n",
       "    </tr>\n",
       "    <tr>\n",
       "      <th>110097</th>\n",
       "      <td>123671104</td>\n",
       "      <td>0.016467</td>\n",
       "    </tr>\n",
       "    <tr>\n",
       "      <th>...</th>\n",
       "      <td>...</td>\n",
       "      <td>...</td>\n",
       "    </tr>\n",
       "    <tr>\n",
       "      <th>275229</th>\n",
       "      <td>123487967</td>\n",
       "      <td>0.084809</td>\n",
       "    </tr>\n",
       "    <tr>\n",
       "      <th>275230</th>\n",
       "      <td>123536402</td>\n",
       "      <td>0.082516</td>\n",
       "    </tr>\n",
       "    <tr>\n",
       "      <th>275231</th>\n",
       "      <td>123718238</td>\n",
       "      <td>0.084809</td>\n",
       "    </tr>\n",
       "    <tr>\n",
       "      <th>275232</th>\n",
       "      <td>123631557</td>\n",
       "      <td>0.021803</td>\n",
       "    </tr>\n",
       "    <tr>\n",
       "      <th>275233</th>\n",
       "      <td>123433260</td>\n",
       "      <td>0.029753</td>\n",
       "    </tr>\n",
       "  </tbody>\n",
       "</table>\n",
       "<p>165141 rows × 2 columns</p>\n",
       "</div>"
      ],
      "text/plain": [
       "        APPLICATION_NUMBER    TARGET\n",
       "110093           123724268  0.041323\n",
       "110094           123456549  0.217943\n",
       "110095           123428178  0.130140\n",
       "110096           123619984  0.084809\n",
       "110097           123671104  0.016467\n",
       "...                    ...       ...\n",
       "275229           123487967  0.084809\n",
       "275230           123536402  0.082516\n",
       "275231           123718238  0.084809\n",
       "275232           123631557  0.021803\n",
       "275233           123433260  0.029753\n",
       "\n",
       "[165141 rows x 2 columns]"
      ]
     },
     "execution_count": 194,
     "metadata": {},
     "output_type": "execute_result"
    }
   ],
   "source": [
    "predicted_test_finish = predicted_test.drop_duplicates('APPLICATION_NUMBER', keep='last')\n",
    "predicted_test_finish"
   ]
  },
  {
   "cell_type": "code",
   "execution_count": 195,
   "id": "89ba42d4",
   "metadata": {},
   "outputs": [],
   "source": [
    "predicted_test_finish.to_csv(\"UkladnikovA_4_submit.csv\",columns=['APPLICATION_NUMBER','TARGET'],index=False)"
   ]
  },
  {
   "cell_type": "code",
   "execution_count": 196,
   "id": "fac80397",
   "metadata": {},
   "outputs": [],
   "source": [
    "def create_bootstrap_samples(data: np.array, n_samples: int = 1000) -> np.array:\n",
    "    \"\"\"\n",
    "    Создание бутстреп-выборок.\n",
    "\n",
    "    Parameters\n",
    "    ----------\n",
    "    data: np.array\n",
    "        Исходная выборка, которая будет использоваться для\n",
    "        создания бутстреп выборок.\n",
    "\n",
    "    n_samples: int, optional, default = 1000\n",
    "        Количество создаваемых бутстреп выборок.\n",
    "        Опциональный параметр, по умолчанию, равен 1000.\n",
    "\n",
    "    Returns\n",
    "    -------\n",
    "    bootstrap_idx: np.array\n",
    "        Матрица индексов, для создания бутстреп выборок.\n",
    "\n",
    "    \"\"\"\n",
    "    bootstrap_idx = np.random.randint(\n",
    "        low=0, high=len(data), size=(n_samples, len(data))\n",
    "    )\n",
    "    return bootstrap_idx\n",
    "\n",
    "\n",
    "def create_bootstrap_metrics(y_true: np.array,\n",
    "                             y_pred: np.array,\n",
    "                             metric: callable,\n",
    "                             n_samlpes: int = 1000) -> List[float]:\n",
    "    \"\"\"\n",
    "    Вычисление бутстреп оценок.\n",
    "\n",
    "    Parameters\n",
    "    ----------\n",
    "    y_true: np.array\n",
    "        Вектор целевой переменной.\n",
    "\n",
    "    y_pred: np.array\n",
    "        Вектор прогнозов.\n",
    "\n",
    "    metric: callable\n",
    "        Функция для вычисления метрики.\n",
    "        Функция должна принимать 2 аргумента: y_true, y_pred.\n",
    "\n",
    "    n_samples: int, optional, default = 1000\n",
    "        Количество создаваемых бутстреп выборок.\n",
    "        Опциональный параметр, по умолчанию, равен 1000.\n",
    "\n",
    "    Returns\n",
    "    -------\n",
    "    bootstrap_metrics: List[float]\n",
    "        Список со значениями метрики качества на каждой бустреп выборке.\n",
    "\n",
    "    \"\"\"\n",
    "    scores = []\n",
    "\n",
    "    if isinstance(y_true, pd.Series):\n",
    "        y_true = y_true.values\n",
    "\n",
    "    bootstrap_idx = create_bootstrap_samples(y_true)\n",
    "    for idx in bootstrap_idx:\n",
    "        y_true_bootstrap = y_true[idx]\n",
    "        y_pred_bootstrap = y_pred[idx]\n",
    "\n",
    "        score = metric(y_true_bootstrap, y_pred_bootstrap)\n",
    "        scores.append(score)\n",
    "\n",
    "    return scores\n",
    "\n",
    "\n",
    "def calculate_confidence_interval(scores: list, conf_interval: float = 0.95) -> Tuple[float]:\n",
    "    \"\"\"\n",
    "    Вычисление доверительного интервала.\n",
    "\n",
    "    Parameters\n",
    "    ----------\n",
    "    scores: List[float / int]\n",
    "        Список с оценками изучаемой величины.\n",
    "\n",
    "    conf_interval: float, optional, default = 0.95\n",
    "        Уровень доверия для построения интервала.\n",
    "        Опциональный параметр, по умолчанию, равен 0.95.\n",
    "\n",
    "    Returns\n",
    "    -------\n",
    "    conf_interval: Tuple[float]\n",
    "        Кортеж с границами доверительного интервала.\n",
    "\n",
    "    \"\"\"\n",
    "    left_bound = np.percentile(\n",
    "        scores, ((1 - conf_interval) / 2) * 100\n",
    "    )\n",
    "    right_bound = np.percentile(\n",
    "        scores, (conf_interval + ((1 - conf_interval) / 2)) * 100\n",
    "    )\n",
    "\n",
    "    return left_bound, right_bound"
   ]
  },
  {
   "cell_type": "markdown",
   "id": "a4e26069",
   "metadata": {},
   "source": [
    "строим доверительный интервал на тесте"
   ]
  },
  {
   "cell_type": "code",
   "execution_count": 197,
   "id": "c6a934e5",
   "metadata": {},
   "outputs": [],
   "source": [
    "y_predicted=best_model_lgb.predict_proba(x_test)[:,1] "
   ]
  },
  {
   "cell_type": "code",
   "execution_count": 198,
   "id": "feb8edf7",
   "metadata": {},
   "outputs": [
    {
     "data": {
      "text/plain": [
       "(0.8420220937254613, 0.8655439324946378)"
      ]
     },
     "execution_count": 198,
     "metadata": {},
     "output_type": "execute_result"
    }
   ],
   "source": [
    "scores = create_bootstrap_metrics(y_test, y_predicted, roc_auc_score)\n",
    "\n",
    "calculate_confidence_interval(scores)"
   ]
  },
  {
   "cell_type": "code",
   "execution_count": null,
   "id": "3b414ba2",
   "metadata": {},
   "outputs": [],
   "source": []
  }
 ],
 "metadata": {
  "kernelspec": {
   "display_name": "Python 3 (ipykernel)",
   "language": "python",
   "name": "python3"
  },
  "language_info": {
   "codemirror_mode": {
    "name": "ipython",
    "version": 3
   },
   "file_extension": ".py",
   "mimetype": "text/x-python",
   "name": "python",
   "nbconvert_exporter": "python",
   "pygments_lexer": "ipython3",
   "version": "3.8.5"
  }
 },
 "nbformat": 4,
 "nbformat_minor": 5
}
