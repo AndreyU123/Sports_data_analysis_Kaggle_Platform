{
 "cells": [
  {
   "cell_type": "markdown",
   "id": "fe1784fa",
   "metadata": {},
   "source": [
    "# Урок 3. Построение надежных схем валидации решения, оптимизация целевых метрик."
   ]
  },
  {
   "cell_type": "markdown",
   "id": "5d54841b",
   "metadata": {},
   "source": [
    "**Задание 1:**\n",
    "    \n",
    "**сделать Hold-Out валидацию с разбиением, размер которого будет адеквтаным, по вашему мнению; разбиение проводить по id-транзакции (TransactionID), обучать модель градиетного бустинга любой реализации с подбором числа деревьев по early_stopping критерию до достижения сходимости. Оценить качество модели на валидационной выборке, оценить расхождение по сравнению с качеством на обучающей выборке и валидационной выборке. Оценить качество на ЛБ, сравнить с качеством на обучении и валидации. Сделать выводы.**\n"
   ]
  },
  {
   "cell_type": "code",
   "execution_count": 1,
   "id": "fda48741",
   "metadata": {},
   "outputs": [],
   "source": [
    "from typing import List,Optional\n",
    "from tqdm import tqdm\n",
    "\n",
    "import numpy as np\n",
    "import pandas as pd\n",
    "\n",
    "import matplotlib as mpl\n",
    "import matplotlib.pyplot as plt\n",
    "%matplotlib inline\n",
    "import os\n",
    "\n",
    "import seaborn as sns\n",
    "import scipy.stats as st\n",
    "from scipy.stats import probplot, ks_2samp\n",
    "from sklearn.metrics import roc_auc_score\n",
    "from sklearn.ensemble import RandomForestRegressor\n",
    "from sklearn.model_selection import KFold, cross_val_score,train_test_split\n",
    "from sklearn.base import BaseEstimator, TransformerMixin\n",
    "from sklearn.utils.validation import check_is_fitted\n",
    "\n",
    "import missingno as msno\n",
    "\n",
    "import xgboost as xgb\n",
    "import lightgbm as lgb\n",
    "import catboost as cb"
   ]
  },
  {
   "cell_type": "markdown",
   "id": "1c381d46",
   "metadata": {},
   "source": [
    "Загрузка данных"
   ]
  },
  {
   "cell_type": "code",
   "execution_count": 2,
   "id": "573a7aee",
   "metadata": {},
   "outputs": [],
   "source": [
    "DATA_PATH=\"Data\"\n",
    "def load_data(dataset_name,data_path=DATA_PATH):\n",
    "    csv_path = os.path.join(data_path,dataset_name)\n",
    "    return pd.read_csv(csv_path)"
   ]
  },
  {
   "cell_type": "code",
   "execution_count": 3,
   "id": "6abbe39d",
   "metadata": {},
   "outputs": [],
   "source": [
    "train = load_data(\"assignment_2_train.csv\")\n",
    "test = load_data(\"assignment_2_test.csv\")"
   ]
  },
  {
   "cell_type": "code",
   "execution_count": 4,
   "id": "c953e914",
   "metadata": {},
   "outputs": [
    {
     "name": "stdout",
     "output_type": "stream",
     "text": [
      "train.shape = 180000 rows, 394 cols\n",
      "test.shape = 100001 rows, 394 cols\n"
     ]
    }
   ],
   "source": [
    "#Размерности датасетов\n",
    "print(\"train.shape = {} rows, {} cols\".format(*train.shape))\n",
    "print(\"test.shape = {} rows, {} cols\".format(*test.shape))"
   ]
  },
  {
   "cell_type": "code",
   "execution_count": 5,
   "id": "9fad6273",
   "metadata": {},
   "outputs": [
    {
     "data": {
      "text/html": [
       "<div>\n",
       "<style scoped>\n",
       "    .dataframe tbody tr th:only-of-type {\n",
       "        vertical-align: middle;\n",
       "    }\n",
       "\n",
       "    .dataframe tbody tr th {\n",
       "        vertical-align: top;\n",
       "    }\n",
       "\n",
       "    .dataframe thead th {\n",
       "        text-align: right;\n",
       "    }\n",
       "</style>\n",
       "<table border=\"1\" class=\"dataframe\">\n",
       "  <thead>\n",
       "    <tr style=\"text-align: right;\">\n",
       "      <th></th>\n",
       "      <th>TransactionID</th>\n",
       "      <th>isFraud</th>\n",
       "      <th>TransactionDT</th>\n",
       "      <th>TransactionAmt</th>\n",
       "      <th>card1</th>\n",
       "      <th>card2</th>\n",
       "      <th>card3</th>\n",
       "      <th>card5</th>\n",
       "      <th>addr1</th>\n",
       "      <th>addr2</th>\n",
       "      <th>...</th>\n",
       "      <th>V330</th>\n",
       "      <th>V331</th>\n",
       "      <th>V332</th>\n",
       "      <th>V333</th>\n",
       "      <th>V334</th>\n",
       "      <th>V335</th>\n",
       "      <th>V336</th>\n",
       "      <th>V337</th>\n",
       "      <th>V338</th>\n",
       "      <th>V339</th>\n",
       "    </tr>\n",
       "  </thead>\n",
       "  <tbody>\n",
       "    <tr>\n",
       "      <th>count</th>\n",
       "      <td>1.800000e+05</td>\n",
       "      <td>180000.000000</td>\n",
       "      <td>1.800000e+05</td>\n",
       "      <td>180000.000000</td>\n",
       "      <td>180000.000000</td>\n",
       "      <td>177389.000000</td>\n",
       "      <td>179997.000000</td>\n",
       "      <td>179047.000000</td>\n",
       "      <td>160567.000000</td>\n",
       "      <td>160567.000000</td>\n",
       "      <td>...</td>\n",
       "      <td>47996.000000</td>\n",
       "      <td>47996.000000</td>\n",
       "      <td>47996.000000</td>\n",
       "      <td>47996.000000</td>\n",
       "      <td>47996.000000</td>\n",
       "      <td>47996.000000</td>\n",
       "      <td>47996.000000</td>\n",
       "      <td>47996.000000</td>\n",
       "      <td>47996.000000</td>\n",
       "      <td>47996.000000</td>\n",
       "    </tr>\n",
       "    <tr>\n",
       "      <th>mean</th>\n",
       "      <td>3.077000e+06</td>\n",
       "      <td>0.028561</td>\n",
       "      <td>1.909818e+06</td>\n",
       "      <td>129.514237</td>\n",
       "      <td>9860.225806</td>\n",
       "      <td>368.326897</td>\n",
       "      <td>153.410374</td>\n",
       "      <td>200.363089</td>\n",
       "      <td>291.160444</td>\n",
       "      <td>86.559903</td>\n",
       "      <td>...</td>\n",
       "      <td>0.137074</td>\n",
       "      <td>74.962242</td>\n",
       "      <td>99.220468</td>\n",
       "      <td>85.778161</td>\n",
       "      <td>8.326725</td>\n",
       "      <td>18.404676</td>\n",
       "      <td>12.437524</td>\n",
       "      <td>26.798593</td>\n",
       "      <td>32.005349</td>\n",
       "      <td>28.492421</td>\n",
       "    </tr>\n",
       "    <tr>\n",
       "      <th>std</th>\n",
       "      <td>5.196167e+04</td>\n",
       "      <td>0.166570</td>\n",
       "      <td>1.039029e+06</td>\n",
       "      <td>206.515032</td>\n",
       "      <td>4910.778205</td>\n",
       "      <td>158.952840</td>\n",
       "      <td>11.529483</td>\n",
       "      <td>40.585532</td>\n",
       "      <td>102.250385</td>\n",
       "      <td>3.958070</td>\n",
       "      <td>...</td>\n",
       "      <td>0.642444</td>\n",
       "      <td>545.161980</td>\n",
       "      <td>668.223140</td>\n",
       "      <td>577.072150</td>\n",
       "      <td>84.616132</td>\n",
       "      <td>120.896921</td>\n",
       "      <td>99.305885</td>\n",
       "      <td>252.695682</td>\n",
       "      <td>284.870583</td>\n",
       "      <td>258.372941</td>\n",
       "    </tr>\n",
       "    <tr>\n",
       "      <th>min</th>\n",
       "      <td>2.987000e+06</td>\n",
       "      <td>0.000000</td>\n",
       "      <td>8.640000e+04</td>\n",
       "      <td>0.292000</td>\n",
       "      <td>1001.000000</td>\n",
       "      <td>100.000000</td>\n",
       "      <td>100.000000</td>\n",
       "      <td>100.000000</td>\n",
       "      <td>100.000000</td>\n",
       "      <td>10.000000</td>\n",
       "      <td>...</td>\n",
       "      <td>0.000000</td>\n",
       "      <td>0.000000</td>\n",
       "      <td>0.000000</td>\n",
       "      <td>0.000000</td>\n",
       "      <td>0.000000</td>\n",
       "      <td>0.000000</td>\n",
       "      <td>0.000000</td>\n",
       "      <td>0.000000</td>\n",
       "      <td>0.000000</td>\n",
       "      <td>0.000000</td>\n",
       "    </tr>\n",
       "    <tr>\n",
       "      <th>25%</th>\n",
       "      <td>3.032000e+06</td>\n",
       "      <td>0.000000</td>\n",
       "      <td>1.091681e+06</td>\n",
       "      <td>44.000000</td>\n",
       "      <td>6019.000000</td>\n",
       "      <td>215.000000</td>\n",
       "      <td>150.000000</td>\n",
       "      <td>166.000000</td>\n",
       "      <td>204.000000</td>\n",
       "      <td>87.000000</td>\n",
       "      <td>...</td>\n",
       "      <td>0.000000</td>\n",
       "      <td>0.000000</td>\n",
       "      <td>0.000000</td>\n",
       "      <td>0.000000</td>\n",
       "      <td>0.000000</td>\n",
       "      <td>0.000000</td>\n",
       "      <td>0.000000</td>\n",
       "      <td>0.000000</td>\n",
       "      <td>0.000000</td>\n",
       "      <td>0.000000</td>\n",
       "    </tr>\n",
       "    <tr>\n",
       "      <th>50%</th>\n",
       "      <td>3.077000e+06</td>\n",
       "      <td>0.000000</td>\n",
       "      <td>1.884075e+06</td>\n",
       "      <td>75.000000</td>\n",
       "      <td>9633.000000</td>\n",
       "      <td>375.000000</td>\n",
       "      <td>150.000000</td>\n",
       "      <td>226.000000</td>\n",
       "      <td>299.000000</td>\n",
       "      <td>87.000000</td>\n",
       "      <td>...</td>\n",
       "      <td>0.000000</td>\n",
       "      <td>0.000000</td>\n",
       "      <td>0.000000</td>\n",
       "      <td>0.000000</td>\n",
       "      <td>0.000000</td>\n",
       "      <td>0.000000</td>\n",
       "      <td>0.000000</td>\n",
       "      <td>0.000000</td>\n",
       "      <td>0.000000</td>\n",
       "      <td>0.000000</td>\n",
       "    </tr>\n",
       "    <tr>\n",
       "      <th>75%</th>\n",
       "      <td>3.121999e+06</td>\n",
       "      <td>0.000000</td>\n",
       "      <td>2.693196e+06</td>\n",
       "      <td>125.000000</td>\n",
       "      <td>14182.000000</td>\n",
       "      <td>514.000000</td>\n",
       "      <td>150.000000</td>\n",
       "      <td>226.000000</td>\n",
       "      <td>330.000000</td>\n",
       "      <td>87.000000</td>\n",
       "      <td>...</td>\n",
       "      <td>0.000000</td>\n",
       "      <td>0.000000</td>\n",
       "      <td>0.000000</td>\n",
       "      <td>0.000000</td>\n",
       "      <td>0.000000</td>\n",
       "      <td>0.000000</td>\n",
       "      <td>0.000000</td>\n",
       "      <td>0.000000</td>\n",
       "      <td>0.000000</td>\n",
       "      <td>0.000000</td>\n",
       "    </tr>\n",
       "    <tr>\n",
       "      <th>max</th>\n",
       "      <td>3.166999e+06</td>\n",
       "      <td>1.000000</td>\n",
       "      <td>3.958317e+06</td>\n",
       "      <td>5278.950000</td>\n",
       "      <td>18396.000000</td>\n",
       "      <td>600.000000</td>\n",
       "      <td>231.000000</td>\n",
       "      <td>237.000000</td>\n",
       "      <td>540.000000</td>\n",
       "      <td>102.000000</td>\n",
       "      <td>...</td>\n",
       "      <td>15.000000</td>\n",
       "      <td>20750.000000</td>\n",
       "      <td>32250.000000</td>\n",
       "      <td>21250.000000</td>\n",
       "      <td>3100.000000</td>\n",
       "      <td>3350.000000</td>\n",
       "      <td>3250.000000</td>\n",
       "      <td>8250.000000</td>\n",
       "      <td>8250.000000</td>\n",
       "      <td>8250.000000</td>\n",
       "    </tr>\n",
       "  </tbody>\n",
       "</table>\n",
       "<p>8 rows × 380 columns</p>\n",
       "</div>"
      ],
      "text/plain": [
       "       TransactionID        isFraud  TransactionDT  TransactionAmt  \\\n",
       "count   1.800000e+05  180000.000000   1.800000e+05   180000.000000   \n",
       "mean    3.077000e+06       0.028561   1.909818e+06      129.514237   \n",
       "std     5.196167e+04       0.166570   1.039029e+06      206.515032   \n",
       "min     2.987000e+06       0.000000   8.640000e+04        0.292000   \n",
       "25%     3.032000e+06       0.000000   1.091681e+06       44.000000   \n",
       "50%     3.077000e+06       0.000000   1.884075e+06       75.000000   \n",
       "75%     3.121999e+06       0.000000   2.693196e+06      125.000000   \n",
       "max     3.166999e+06       1.000000   3.958317e+06     5278.950000   \n",
       "\n",
       "               card1          card2          card3          card5  \\\n",
       "count  180000.000000  177389.000000  179997.000000  179047.000000   \n",
       "mean     9860.225806     368.326897     153.410374     200.363089   \n",
       "std      4910.778205     158.952840      11.529483      40.585532   \n",
       "min      1001.000000     100.000000     100.000000     100.000000   \n",
       "25%      6019.000000     215.000000     150.000000     166.000000   \n",
       "50%      9633.000000     375.000000     150.000000     226.000000   \n",
       "75%     14182.000000     514.000000     150.000000     226.000000   \n",
       "max     18396.000000     600.000000     231.000000     237.000000   \n",
       "\n",
       "               addr1          addr2  ...          V330          V331  \\\n",
       "count  160567.000000  160567.000000  ...  47996.000000  47996.000000   \n",
       "mean      291.160444      86.559903  ...      0.137074     74.962242   \n",
       "std       102.250385       3.958070  ...      0.642444    545.161980   \n",
       "min       100.000000      10.000000  ...      0.000000      0.000000   \n",
       "25%       204.000000      87.000000  ...      0.000000      0.000000   \n",
       "50%       299.000000      87.000000  ...      0.000000      0.000000   \n",
       "75%       330.000000      87.000000  ...      0.000000      0.000000   \n",
       "max       540.000000     102.000000  ...     15.000000  20750.000000   \n",
       "\n",
       "               V332          V333          V334          V335          V336  \\\n",
       "count  47996.000000  47996.000000  47996.000000  47996.000000  47996.000000   \n",
       "mean      99.220468     85.778161      8.326725     18.404676     12.437524   \n",
       "std      668.223140    577.072150     84.616132    120.896921     99.305885   \n",
       "min        0.000000      0.000000      0.000000      0.000000      0.000000   \n",
       "25%        0.000000      0.000000      0.000000      0.000000      0.000000   \n",
       "50%        0.000000      0.000000      0.000000      0.000000      0.000000   \n",
       "75%        0.000000      0.000000      0.000000      0.000000      0.000000   \n",
       "max    32250.000000  21250.000000   3100.000000   3350.000000   3250.000000   \n",
       "\n",
       "               V337          V338          V339  \n",
       "count  47996.000000  47996.000000  47996.000000  \n",
       "mean      26.798593     32.005349     28.492421  \n",
       "std      252.695682    284.870583    258.372941  \n",
       "min        0.000000      0.000000      0.000000  \n",
       "25%        0.000000      0.000000      0.000000  \n",
       "50%        0.000000      0.000000      0.000000  \n",
       "75%        0.000000      0.000000      0.000000  \n",
       "max     8250.000000   8250.000000   8250.000000  \n",
       "\n",
       "[8 rows x 380 columns]"
      ]
     },
     "execution_count": 5,
     "metadata": {},
     "output_type": "execute_result"
    }
   ],
   "source": [
    "train.describe()"
   ]
  },
  {
   "cell_type": "code",
   "execution_count": 6,
   "id": "4c9d1f3d",
   "metadata": {},
   "outputs": [
    {
     "data": {
      "text/html": [
       "<div>\n",
       "<style scoped>\n",
       "    .dataframe tbody tr th:only-of-type {\n",
       "        vertical-align: middle;\n",
       "    }\n",
       "\n",
       "    .dataframe tbody tr th {\n",
       "        vertical-align: top;\n",
       "    }\n",
       "\n",
       "    .dataframe thead th {\n",
       "        text-align: right;\n",
       "    }\n",
       "</style>\n",
       "<table border=\"1\" class=\"dataframe\">\n",
       "  <thead>\n",
       "    <tr style=\"text-align: right;\">\n",
       "      <th></th>\n",
       "      <th>TransactionID</th>\n",
       "      <th>isFraud</th>\n",
       "      <th>TransactionDT</th>\n",
       "      <th>TransactionAmt</th>\n",
       "      <th>ProductCD</th>\n",
       "      <th>card1</th>\n",
       "      <th>card2</th>\n",
       "      <th>card3</th>\n",
       "      <th>card4</th>\n",
       "      <th>card5</th>\n",
       "      <th>...</th>\n",
       "      <th>V330</th>\n",
       "      <th>V331</th>\n",
       "      <th>V332</th>\n",
       "      <th>V333</th>\n",
       "      <th>V334</th>\n",
       "      <th>V335</th>\n",
       "      <th>V336</th>\n",
       "      <th>V337</th>\n",
       "      <th>V338</th>\n",
       "      <th>V339</th>\n",
       "    </tr>\n",
       "  </thead>\n",
       "  <tbody>\n",
       "    <tr>\n",
       "      <th>0</th>\n",
       "      <td>2987000</td>\n",
       "      <td>0</td>\n",
       "      <td>86400</td>\n",
       "      <td>68.5</td>\n",
       "      <td>W</td>\n",
       "      <td>13926</td>\n",
       "      <td>NaN</td>\n",
       "      <td>150.0</td>\n",
       "      <td>discover</td>\n",
       "      <td>142.0</td>\n",
       "      <td>...</td>\n",
       "      <td>NaN</td>\n",
       "      <td>NaN</td>\n",
       "      <td>NaN</td>\n",
       "      <td>NaN</td>\n",
       "      <td>NaN</td>\n",
       "      <td>NaN</td>\n",
       "      <td>NaN</td>\n",
       "      <td>NaN</td>\n",
       "      <td>NaN</td>\n",
       "      <td>NaN</td>\n",
       "    </tr>\n",
       "    <tr>\n",
       "      <th>1</th>\n",
       "      <td>2987001</td>\n",
       "      <td>0</td>\n",
       "      <td>86401</td>\n",
       "      <td>29.0</td>\n",
       "      <td>W</td>\n",
       "      <td>2755</td>\n",
       "      <td>404.0</td>\n",
       "      <td>150.0</td>\n",
       "      <td>mastercard</td>\n",
       "      <td>102.0</td>\n",
       "      <td>...</td>\n",
       "      <td>NaN</td>\n",
       "      <td>NaN</td>\n",
       "      <td>NaN</td>\n",
       "      <td>NaN</td>\n",
       "      <td>NaN</td>\n",
       "      <td>NaN</td>\n",
       "      <td>NaN</td>\n",
       "      <td>NaN</td>\n",
       "      <td>NaN</td>\n",
       "      <td>NaN</td>\n",
       "    </tr>\n",
       "    <tr>\n",
       "      <th>2</th>\n",
       "      <td>2987002</td>\n",
       "      <td>0</td>\n",
       "      <td>86469</td>\n",
       "      <td>59.0</td>\n",
       "      <td>W</td>\n",
       "      <td>4663</td>\n",
       "      <td>490.0</td>\n",
       "      <td>150.0</td>\n",
       "      <td>visa</td>\n",
       "      <td>166.0</td>\n",
       "      <td>...</td>\n",
       "      <td>NaN</td>\n",
       "      <td>NaN</td>\n",
       "      <td>NaN</td>\n",
       "      <td>NaN</td>\n",
       "      <td>NaN</td>\n",
       "      <td>NaN</td>\n",
       "      <td>NaN</td>\n",
       "      <td>NaN</td>\n",
       "      <td>NaN</td>\n",
       "      <td>NaN</td>\n",
       "    </tr>\n",
       "    <tr>\n",
       "      <th>3</th>\n",
       "      <td>2987003</td>\n",
       "      <td>0</td>\n",
       "      <td>86499</td>\n",
       "      <td>50.0</td>\n",
       "      <td>W</td>\n",
       "      <td>18132</td>\n",
       "      <td>567.0</td>\n",
       "      <td>150.0</td>\n",
       "      <td>mastercard</td>\n",
       "      <td>117.0</td>\n",
       "      <td>...</td>\n",
       "      <td>NaN</td>\n",
       "      <td>NaN</td>\n",
       "      <td>NaN</td>\n",
       "      <td>NaN</td>\n",
       "      <td>NaN</td>\n",
       "      <td>NaN</td>\n",
       "      <td>NaN</td>\n",
       "      <td>NaN</td>\n",
       "      <td>NaN</td>\n",
       "      <td>NaN</td>\n",
       "    </tr>\n",
       "    <tr>\n",
       "      <th>4</th>\n",
       "      <td>2987004</td>\n",
       "      <td>0</td>\n",
       "      <td>86506</td>\n",
       "      <td>50.0</td>\n",
       "      <td>H</td>\n",
       "      <td>4497</td>\n",
       "      <td>514.0</td>\n",
       "      <td>150.0</td>\n",
       "      <td>mastercard</td>\n",
       "      <td>102.0</td>\n",
       "      <td>...</td>\n",
       "      <td>0.0</td>\n",
       "      <td>0.0</td>\n",
       "      <td>0.0</td>\n",
       "      <td>0.0</td>\n",
       "      <td>0.0</td>\n",
       "      <td>0.0</td>\n",
       "      <td>0.0</td>\n",
       "      <td>0.0</td>\n",
       "      <td>0.0</td>\n",
       "      <td>0.0</td>\n",
       "    </tr>\n",
       "  </tbody>\n",
       "</table>\n",
       "<p>5 rows × 394 columns</p>\n",
       "</div>"
      ],
      "text/plain": [
       "   TransactionID  isFraud  TransactionDT  TransactionAmt ProductCD  card1  \\\n",
       "0        2987000        0          86400            68.5         W  13926   \n",
       "1        2987001        0          86401            29.0         W   2755   \n",
       "2        2987002        0          86469            59.0         W   4663   \n",
       "3        2987003        0          86499            50.0         W  18132   \n",
       "4        2987004        0          86506            50.0         H   4497   \n",
       "\n",
       "   card2  card3       card4  card5  ... V330  V331  V332  V333  V334 V335  \\\n",
       "0    NaN  150.0    discover  142.0  ...  NaN   NaN   NaN   NaN   NaN  NaN   \n",
       "1  404.0  150.0  mastercard  102.0  ...  NaN   NaN   NaN   NaN   NaN  NaN   \n",
       "2  490.0  150.0        visa  166.0  ...  NaN   NaN   NaN   NaN   NaN  NaN   \n",
       "3  567.0  150.0  mastercard  117.0  ...  NaN   NaN   NaN   NaN   NaN  NaN   \n",
       "4  514.0  150.0  mastercard  102.0  ...  0.0   0.0   0.0   0.0   0.0  0.0   \n",
       "\n",
       "  V336  V337  V338  V339  \n",
       "0  NaN   NaN   NaN   NaN  \n",
       "1  NaN   NaN   NaN   NaN  \n",
       "2  NaN   NaN   NaN   NaN  \n",
       "3  NaN   NaN   NaN   NaN  \n",
       "4  0.0   0.0   0.0   0.0  \n",
       "\n",
       "[5 rows x 394 columns]"
      ]
     },
     "execution_count": 6,
     "metadata": {},
     "output_type": "execute_result"
    }
   ],
   "source": [
    "train.head(5)"
   ]
  },
  {
   "cell_type": "code",
   "execution_count": 7,
   "id": "74ff59a1",
   "metadata": {},
   "outputs": [
    {
     "name": "stdout",
     "output_type": "stream",
     "text": [
      "<class 'pandas.core.frame.DataFrame'>\n",
      "RangeIndex: 180000 entries, 0 to 179999\n",
      "Columns: 394 entries, TransactionID to V339\n",
      "dtypes: float64(376), int64(4), object(14)\n",
      "memory usage: 541.1+ MB\n"
     ]
    }
   ],
   "source": [
    "train.info()"
   ]
  },
  {
   "cell_type": "code",
   "execution_count": 8,
   "id": "ce27e517",
   "metadata": {},
   "outputs": [
    {
     "data": {
      "text/plain": [
       "180000"
      ]
     },
     "execution_count": 8,
     "metadata": {},
     "output_type": "execute_result"
    }
   ],
   "source": [
    "train[\"TransactionID\"].nunique()"
   ]
  },
  {
   "cell_type": "markdown",
   "id": "1e6b42c6",
   "metadata": {},
   "source": [
    "Получение и обработка числовых признаков"
   ]
  },
  {
   "cell_type": "code",
   "execution_count": 5,
   "id": "0a240e30",
   "metadata": {},
   "outputs": [
    {
     "name": "stdout",
     "output_type": "stream",
     "text": [
      "count of numeric_features 380\n"
     ]
    }
   ],
   "source": [
    "numerical_features = train.select_dtypes(exclude=[\"object\"])\n",
    "print(f\"count of numeric_features {numerical_features.shape[1]}\")"
   ]
  },
  {
   "cell_type": "code",
   "execution_count": 6,
   "id": "ad6dba37",
   "metadata": {},
   "outputs": [],
   "source": [
    "numerical_features = numerical_features.drop([\"TransactionID\",\"TransactionDT\", \"isFraud\"], axis=1)"
   ]
  },
  {
   "cell_type": "code",
   "execution_count": 7,
   "id": "fdcfa09b",
   "metadata": {},
   "outputs": [],
   "source": [
    "#Заменяем пропуски на среднии\n",
    "numerical_features = numerical_features.fillna(numerical_features.mean())"
   ]
  },
  {
   "cell_type": "code",
   "execution_count": 8,
   "id": "90e25f16",
   "metadata": {},
   "outputs": [],
   "source": [
    "data=numerical_features"
   ]
  },
  {
   "cell_type": "markdown",
   "id": "66680869",
   "metadata": {},
   "source": [
    "Получение и обработка категориальных признаков (кодировка с использованием OneHotEncoder)"
   ]
  },
  {
   "cell_type": "code",
   "execution_count": 17,
   "id": "9b1ca24c",
   "metadata": {},
   "outputs": [],
   "source": [
    "from sklearn.preprocessing import OneHotEncoder\n",
    "\n",
    "def handle_categorical_data(data, categorical_features):\n",
    "    enc = OneHotEncoder(sparse=False, handle_unknown='ignore')\n",
    "    for col in categorical_features.columns:\n",
    "        ohe_ftrs = enc.fit_transform(categorical_features[col].values.reshape(-1,1))\n",
    "        tmp = pd.DataFrame(ohe_ftrs, columns = [col + '_' + str(i) for i in range(ohe_ftrs.shape[1])])\n",
    "        data = pd.concat([data, tmp], axis=1)\n",
    "    return data"
   ]
  },
  {
   "cell_type": "code",
   "execution_count": 9,
   "id": "04b8e978",
   "metadata": {},
   "outputs": [],
   "source": [
    "categorical_features = train.select_dtypes(include=[\"object\"])"
   ]
  },
  {
   "cell_type": "code",
   "execution_count": 10,
   "id": "4fb32e11",
   "metadata": {},
   "outputs": [
    {
     "name": "stdout",
     "output_type": "stream",
     "text": [
      "count of categorical_features 14\n"
     ]
    }
   ],
   "source": [
    "print(f\"count of categorical_features {categorical_features.shape[1]}\")"
   ]
  },
  {
   "cell_type": "code",
   "execution_count": 20,
   "id": "c3a7b6cf",
   "metadata": {},
   "outputs": [],
   "source": [
    "data = handle_categorical_data(data, categorical_features)"
   ]
  },
  {
   "cell_type": "code",
   "execution_count": 21,
   "id": "b436b7a3",
   "metadata": {},
   "outputs": [
    {
     "data": {
      "text/html": [
       "<div>\n",
       "<style scoped>\n",
       "    .dataframe tbody tr th:only-of-type {\n",
       "        vertical-align: middle;\n",
       "    }\n",
       "\n",
       "    .dataframe tbody tr th {\n",
       "        vertical-align: top;\n",
       "    }\n",
       "\n",
       "    .dataframe thead th {\n",
       "        text-align: right;\n",
       "    }\n",
       "</style>\n",
       "<table border=\"1\" class=\"dataframe\">\n",
       "  <thead>\n",
       "    <tr style=\"text-align: right;\">\n",
       "      <th></th>\n",
       "      <th>TransactionAmt</th>\n",
       "      <th>card1</th>\n",
       "      <th>card2</th>\n",
       "      <th>card3</th>\n",
       "      <th>card5</th>\n",
       "      <th>addr1</th>\n",
       "      <th>addr2</th>\n",
       "      <th>dist1</th>\n",
       "      <th>dist2</th>\n",
       "      <th>C1</th>\n",
       "      <th>...</th>\n",
       "      <th>M6_2</th>\n",
       "      <th>M7_0</th>\n",
       "      <th>M7_1</th>\n",
       "      <th>M7_2</th>\n",
       "      <th>M8_0</th>\n",
       "      <th>M8_1</th>\n",
       "      <th>M8_2</th>\n",
       "      <th>M9_0</th>\n",
       "      <th>M9_1</th>\n",
       "      <th>M9_2</th>\n",
       "    </tr>\n",
       "  </thead>\n",
       "  <tbody>\n",
       "    <tr>\n",
       "      <th>0</th>\n",
       "      <td>68.50</td>\n",
       "      <td>13926</td>\n",
       "      <td>368.326897</td>\n",
       "      <td>150.0</td>\n",
       "      <td>142.0</td>\n",
       "      <td>315.0</td>\n",
       "      <td>87.0</td>\n",
       "      <td>19.000000</td>\n",
       "      <td>240.962443</td>\n",
       "      <td>1.0</td>\n",
       "      <td>...</td>\n",
       "      <td>0.0</td>\n",
       "      <td>0.0</td>\n",
       "      <td>0.0</td>\n",
       "      <td>1.0</td>\n",
       "      <td>0.0</td>\n",
       "      <td>0.0</td>\n",
       "      <td>1.0</td>\n",
       "      <td>0.0</td>\n",
       "      <td>0.0</td>\n",
       "      <td>1.0</td>\n",
       "    </tr>\n",
       "    <tr>\n",
       "      <th>1</th>\n",
       "      <td>29.00</td>\n",
       "      <td>2755</td>\n",
       "      <td>404.000000</td>\n",
       "      <td>150.0</td>\n",
       "      <td>102.0</td>\n",
       "      <td>325.0</td>\n",
       "      <td>87.0</td>\n",
       "      <td>126.243231</td>\n",
       "      <td>240.962443</td>\n",
       "      <td>1.0</td>\n",
       "      <td>...</td>\n",
       "      <td>0.0</td>\n",
       "      <td>0.0</td>\n",
       "      <td>0.0</td>\n",
       "      <td>1.0</td>\n",
       "      <td>0.0</td>\n",
       "      <td>0.0</td>\n",
       "      <td>1.0</td>\n",
       "      <td>0.0</td>\n",
       "      <td>0.0</td>\n",
       "      <td>1.0</td>\n",
       "    </tr>\n",
       "    <tr>\n",
       "      <th>2</th>\n",
       "      <td>59.00</td>\n",
       "      <td>4663</td>\n",
       "      <td>490.000000</td>\n",
       "      <td>150.0</td>\n",
       "      <td>166.0</td>\n",
       "      <td>330.0</td>\n",
       "      <td>87.0</td>\n",
       "      <td>287.000000</td>\n",
       "      <td>240.962443</td>\n",
       "      <td>1.0</td>\n",
       "      <td>...</td>\n",
       "      <td>0.0</td>\n",
       "      <td>1.0</td>\n",
       "      <td>0.0</td>\n",
       "      <td>0.0</td>\n",
       "      <td>1.0</td>\n",
       "      <td>0.0</td>\n",
       "      <td>0.0</td>\n",
       "      <td>1.0</td>\n",
       "      <td>0.0</td>\n",
       "      <td>0.0</td>\n",
       "    </tr>\n",
       "    <tr>\n",
       "      <th>3</th>\n",
       "      <td>50.00</td>\n",
       "      <td>18132</td>\n",
       "      <td>567.000000</td>\n",
       "      <td>150.0</td>\n",
       "      <td>117.0</td>\n",
       "      <td>476.0</td>\n",
       "      <td>87.0</td>\n",
       "      <td>126.243231</td>\n",
       "      <td>240.962443</td>\n",
       "      <td>2.0</td>\n",
       "      <td>...</td>\n",
       "      <td>0.0</td>\n",
       "      <td>0.0</td>\n",
       "      <td>0.0</td>\n",
       "      <td>1.0</td>\n",
       "      <td>0.0</td>\n",
       "      <td>0.0</td>\n",
       "      <td>1.0</td>\n",
       "      <td>0.0</td>\n",
       "      <td>0.0</td>\n",
       "      <td>1.0</td>\n",
       "    </tr>\n",
       "    <tr>\n",
       "      <th>4</th>\n",
       "      <td>50.00</td>\n",
       "      <td>4497</td>\n",
       "      <td>514.000000</td>\n",
       "      <td>150.0</td>\n",
       "      <td>102.0</td>\n",
       "      <td>420.0</td>\n",
       "      <td>87.0</td>\n",
       "      <td>126.243231</td>\n",
       "      <td>240.962443</td>\n",
       "      <td>1.0</td>\n",
       "      <td>...</td>\n",
       "      <td>1.0</td>\n",
       "      <td>0.0</td>\n",
       "      <td>0.0</td>\n",
       "      <td>1.0</td>\n",
       "      <td>0.0</td>\n",
       "      <td>0.0</td>\n",
       "      <td>1.0</td>\n",
       "      <td>0.0</td>\n",
       "      <td>0.0</td>\n",
       "      <td>1.0</td>\n",
       "    </tr>\n",
       "    <tr>\n",
       "      <th>...</th>\n",
       "      <td>...</td>\n",
       "      <td>...</td>\n",
       "      <td>...</td>\n",
       "      <td>...</td>\n",
       "      <td>...</td>\n",
       "      <td>...</td>\n",
       "      <td>...</td>\n",
       "      <td>...</td>\n",
       "      <td>...</td>\n",
       "      <td>...</td>\n",
       "      <td>...</td>\n",
       "      <td>...</td>\n",
       "      <td>...</td>\n",
       "      <td>...</td>\n",
       "      <td>...</td>\n",
       "      <td>...</td>\n",
       "      <td>...</td>\n",
       "      <td>...</td>\n",
       "      <td>...</td>\n",
       "      <td>...</td>\n",
       "      <td>...</td>\n",
       "    </tr>\n",
       "    <tr>\n",
       "      <th>179995</th>\n",
       "      <td>39.00</td>\n",
       "      <td>1877</td>\n",
       "      <td>310.000000</td>\n",
       "      <td>150.0</td>\n",
       "      <td>224.0</td>\n",
       "      <td>272.0</td>\n",
       "      <td>87.0</td>\n",
       "      <td>12.000000</td>\n",
       "      <td>240.962443</td>\n",
       "      <td>2.0</td>\n",
       "      <td>...</td>\n",
       "      <td>0.0</td>\n",
       "      <td>0.0</td>\n",
       "      <td>0.0</td>\n",
       "      <td>1.0</td>\n",
       "      <td>0.0</td>\n",
       "      <td>0.0</td>\n",
       "      <td>1.0</td>\n",
       "      <td>0.0</td>\n",
       "      <td>0.0</td>\n",
       "      <td>1.0</td>\n",
       "    </tr>\n",
       "    <tr>\n",
       "      <th>179996</th>\n",
       "      <td>59.95</td>\n",
       "      <td>10075</td>\n",
       "      <td>514.000000</td>\n",
       "      <td>150.0</td>\n",
       "      <td>224.0</td>\n",
       "      <td>315.0</td>\n",
       "      <td>87.0</td>\n",
       "      <td>126.243231</td>\n",
       "      <td>240.962443</td>\n",
       "      <td>4.0</td>\n",
       "      <td>...</td>\n",
       "      <td>0.0</td>\n",
       "      <td>0.0</td>\n",
       "      <td>0.0</td>\n",
       "      <td>1.0</td>\n",
       "      <td>0.0</td>\n",
       "      <td>0.0</td>\n",
       "      <td>1.0</td>\n",
       "      <td>0.0</td>\n",
       "      <td>0.0</td>\n",
       "      <td>1.0</td>\n",
       "    </tr>\n",
       "    <tr>\n",
       "      <th>179997</th>\n",
       "      <td>34.00</td>\n",
       "      <td>6053</td>\n",
       "      <td>122.000000</td>\n",
       "      <td>150.0</td>\n",
       "      <td>195.0</td>\n",
       "      <td>330.0</td>\n",
       "      <td>87.0</td>\n",
       "      <td>126.243231</td>\n",
       "      <td>240.962443</td>\n",
       "      <td>2.0</td>\n",
       "      <td>...</td>\n",
       "      <td>0.0</td>\n",
       "      <td>0.0</td>\n",
       "      <td>0.0</td>\n",
       "      <td>1.0</td>\n",
       "      <td>0.0</td>\n",
       "      <td>0.0</td>\n",
       "      <td>1.0</td>\n",
       "      <td>0.0</td>\n",
       "      <td>0.0</td>\n",
       "      <td>1.0</td>\n",
       "    </tr>\n",
       "    <tr>\n",
       "      <th>179998</th>\n",
       "      <td>59.00</td>\n",
       "      <td>7726</td>\n",
       "      <td>555.000000</td>\n",
       "      <td>150.0</td>\n",
       "      <td>226.0</td>\n",
       "      <td>272.0</td>\n",
       "      <td>87.0</td>\n",
       "      <td>126.243231</td>\n",
       "      <td>240.962443</td>\n",
       "      <td>1.0</td>\n",
       "      <td>...</td>\n",
       "      <td>0.0</td>\n",
       "      <td>0.0</td>\n",
       "      <td>0.0</td>\n",
       "      <td>1.0</td>\n",
       "      <td>0.0</td>\n",
       "      <td>0.0</td>\n",
       "      <td>1.0</td>\n",
       "      <td>0.0</td>\n",
       "      <td>0.0</td>\n",
       "      <td>1.0</td>\n",
       "    </tr>\n",
       "    <tr>\n",
       "      <th>179999</th>\n",
       "      <td>226.00</td>\n",
       "      <td>17480</td>\n",
       "      <td>528.000000</td>\n",
       "      <td>150.0</td>\n",
       "      <td>226.0</td>\n",
       "      <td>123.0</td>\n",
       "      <td>87.0</td>\n",
       "      <td>5.000000</td>\n",
       "      <td>240.962443</td>\n",
       "      <td>1.0</td>\n",
       "      <td>...</td>\n",
       "      <td>0.0</td>\n",
       "      <td>0.0</td>\n",
       "      <td>0.0</td>\n",
       "      <td>1.0</td>\n",
       "      <td>0.0</td>\n",
       "      <td>0.0</td>\n",
       "      <td>1.0</td>\n",
       "      <td>0.0</td>\n",
       "      <td>0.0</td>\n",
       "      <td>1.0</td>\n",
       "    </tr>\n",
       "  </tbody>\n",
       "</table>\n",
       "<p>180000 rows × 541 columns</p>\n",
       "</div>"
      ],
      "text/plain": [
       "        TransactionAmt  card1       card2  card3  card5  addr1  addr2  \\\n",
       "0                68.50  13926  368.326897  150.0  142.0  315.0   87.0   \n",
       "1                29.00   2755  404.000000  150.0  102.0  325.0   87.0   \n",
       "2                59.00   4663  490.000000  150.0  166.0  330.0   87.0   \n",
       "3                50.00  18132  567.000000  150.0  117.0  476.0   87.0   \n",
       "4                50.00   4497  514.000000  150.0  102.0  420.0   87.0   \n",
       "...                ...    ...         ...    ...    ...    ...    ...   \n",
       "179995           39.00   1877  310.000000  150.0  224.0  272.0   87.0   \n",
       "179996           59.95  10075  514.000000  150.0  224.0  315.0   87.0   \n",
       "179997           34.00   6053  122.000000  150.0  195.0  330.0   87.0   \n",
       "179998           59.00   7726  555.000000  150.0  226.0  272.0   87.0   \n",
       "179999          226.00  17480  528.000000  150.0  226.0  123.0   87.0   \n",
       "\n",
       "             dist1       dist2   C1  ...  M6_2  M7_0  M7_1  M7_2  M8_0  M8_1  \\\n",
       "0        19.000000  240.962443  1.0  ...   0.0   0.0   0.0   1.0   0.0   0.0   \n",
       "1       126.243231  240.962443  1.0  ...   0.0   0.0   0.0   1.0   0.0   0.0   \n",
       "2       287.000000  240.962443  1.0  ...   0.0   1.0   0.0   0.0   1.0   0.0   \n",
       "3       126.243231  240.962443  2.0  ...   0.0   0.0   0.0   1.0   0.0   0.0   \n",
       "4       126.243231  240.962443  1.0  ...   1.0   0.0   0.0   1.0   0.0   0.0   \n",
       "...            ...         ...  ...  ...   ...   ...   ...   ...   ...   ...   \n",
       "179995   12.000000  240.962443  2.0  ...   0.0   0.0   0.0   1.0   0.0   0.0   \n",
       "179996  126.243231  240.962443  4.0  ...   0.0   0.0   0.0   1.0   0.0   0.0   \n",
       "179997  126.243231  240.962443  2.0  ...   0.0   0.0   0.0   1.0   0.0   0.0   \n",
       "179998  126.243231  240.962443  1.0  ...   0.0   0.0   0.0   1.0   0.0   0.0   \n",
       "179999    5.000000  240.962443  1.0  ...   0.0   0.0   0.0   1.0   0.0   0.0   \n",
       "\n",
       "        M8_2  M9_0  M9_1  M9_2  \n",
       "0        1.0   0.0   0.0   1.0  \n",
       "1        1.0   0.0   0.0   1.0  \n",
       "2        0.0   1.0   0.0   0.0  \n",
       "3        1.0   0.0   0.0   1.0  \n",
       "4        1.0   0.0   0.0   1.0  \n",
       "...      ...   ...   ...   ...  \n",
       "179995   1.0   0.0   0.0   1.0  \n",
       "179996   1.0   0.0   0.0   1.0  \n",
       "179997   1.0   0.0   0.0   1.0  \n",
       "179998   1.0   0.0   0.0   1.0  \n",
       "179999   1.0   0.0   0.0   1.0  \n",
       "\n",
       "[180000 rows x 541 columns]"
      ]
     },
     "execution_count": 21,
     "metadata": {},
     "output_type": "execute_result"
    }
   ],
   "source": [
    "data"
   ]
  },
  {
   "cell_type": "markdown",
   "id": "b33da46b",
   "metadata": {},
   "source": [
    "Анализ целевого признака"
   ]
  },
  {
   "cell_type": "code",
   "execution_count": 11,
   "id": "29451e91",
   "metadata": {},
   "outputs": [],
   "source": [
    "target=train['isFraud']"
   ]
  },
  {
   "cell_type": "code",
   "execution_count": 23,
   "id": "1f0022f1",
   "metadata": {},
   "outputs": [
    {
     "data": {
      "text/plain": [
       "0"
      ]
     },
     "execution_count": 23,
     "metadata": {},
     "output_type": "execute_result"
    }
   ],
   "source": [
    "missing_values = target.copy().isnull().sum(axis=0)\n",
    "missing_values"
   ]
  },
  {
   "cell_type": "code",
   "execution_count": 24,
   "id": "323856f6",
   "metadata": {},
   "outputs": [
    {
     "name": "stdout",
     "output_type": "stream",
     "text": [
      "<class 'pandas.core.frame.DataFrame'>\n",
      "RangeIndex: 180000 entries, 0 to 179999\n",
      "Data columns (total 1 columns):\n",
      "isFraud    180000 non-null int64\n",
      "dtypes: int64(1)\n",
      "memory usage: 1.4 MB\n"
     ]
    }
   ],
   "source": [
    "dataset_target = pd.DataFrame(train['isFraud'])\n",
    "dataset_target.info()"
   ]
  },
  {
   "cell_type": "code",
   "execution_count": 25,
   "id": "bdf114c8",
   "metadata": {},
   "outputs": [
    {
     "data": {
      "text/html": [
       "<div>\n",
       "<style scoped>\n",
       "    .dataframe tbody tr th:only-of-type {\n",
       "        vertical-align: middle;\n",
       "    }\n",
       "\n",
       "    .dataframe tbody tr th {\n",
       "        vertical-align: top;\n",
       "    }\n",
       "\n",
       "    .dataframe thead th {\n",
       "        text-align: right;\n",
       "    }\n",
       "</style>\n",
       "<table border=\"1\" class=\"dataframe\">\n",
       "  <thead>\n",
       "    <tr style=\"text-align: right;\">\n",
       "      <th></th>\n",
       "      <th>isFraud</th>\n",
       "    </tr>\n",
       "  </thead>\n",
       "  <tbody>\n",
       "    <tr>\n",
       "      <th>0</th>\n",
       "      <td>0</td>\n",
       "    </tr>\n",
       "    <tr>\n",
       "      <th>1</th>\n",
       "      <td>0</td>\n",
       "    </tr>\n",
       "    <tr>\n",
       "      <th>2</th>\n",
       "      <td>0</td>\n",
       "    </tr>\n",
       "    <tr>\n",
       "      <th>3</th>\n",
       "      <td>0</td>\n",
       "    </tr>\n",
       "    <tr>\n",
       "      <th>4</th>\n",
       "      <td>0</td>\n",
       "    </tr>\n",
       "  </tbody>\n",
       "</table>\n",
       "</div>"
      ],
      "text/plain": [
       "   isFraud\n",
       "0        0\n",
       "1        0\n",
       "2        0\n",
       "3        0\n",
       "4        0"
      ]
     },
     "execution_count": 25,
     "metadata": {},
     "output_type": "execute_result"
    }
   ],
   "source": [
    "dataset_target.head(5)"
   ]
  },
  {
   "cell_type": "code",
   "execution_count": 26,
   "id": "0911250c",
   "metadata": {},
   "outputs": [
    {
     "name": "stdout",
     "output_type": "stream",
     "text": [
      "isFraud==0 values count = 174859\n",
      "isFraud==1 values count = 5141\n",
      "(isFraud==1)count / (isFraud==0)count values count = 0.029\n",
      "isFraud==0 and isFraud==1 in sum values count = 180000\n"
     ]
    }
   ],
   "source": [
    "values_count_isFraud_0 = dataset_target[dataset_target[\"isFraud\"]==0].count()[\"isFraud\"]\n",
    "values_count_isFraud_1 = dataset_target[dataset_target[\"isFraud\"]==1].count()[\"isFraud\"]\n",
    "values_count_isFraud_1_2 = np.around(values_count_isFraud_1/values_count_isFraud_0,3)\n",
    "values_count_isFraud_Sum = values_count_isFraud_0+values_count_isFraud_1\n",
    "print(\"isFraud==0 values count =\",values_count_isFraud_0)\n",
    "print(\"isFraud==1 values count =\",values_count_isFraud_1)\n",
    "print(\"(isFraud==1)count / (isFraud==0)count values count =\",values_count_isFraud_1_2)\n",
    "print(\"isFraud==0 and isFraud==1 in sum values count =\",values_count_isFraud_Sum)"
   ]
  },
  {
   "cell_type": "markdown",
   "id": "30e9e855",
   "metadata": {},
   "source": [
    "Тренировка модели где используется Hold-Out валидация (валидация на отложенной выборке)"
   ]
  },
  {
   "cell_type": "markdown",
   "id": "53351fd0",
   "metadata": {},
   "source": [
    "Hold-Out валидация (валидация на отложенной выборке) - train делим на 2 выборки - тренировочную и валидационную"
   ]
  },
  {
   "cell_type": "code",
   "execution_count": 27,
   "id": "d40055ee",
   "metadata": {},
   "outputs": [
    {
     "name": "stdout",
     "output_type": "stream",
     "text": [
      "x_train.shape = 144000 rows, 541 cols\n",
      "x_valid.shape = 36000 rows, 541 cols\n"
     ]
    }
   ],
   "source": [
    "x_train, x_valid = train_test_split(\n",
    "    data, train_size=0.8, random_state=1\n",
    ")\n",
    "y_train, y_valid = train_test_split(\n",
    "    target, train_size=0.8, random_state=1\n",
    ")\n",
    "print(\"x_train.shape = {} rows, {} cols\".format(*x_train.shape))\n",
    "print(\"x_valid.shape = {} rows, {} cols\".format(*x_valid.shape))"
   ]
  },
  {
   "cell_type": "code",
   "execution_count": 28,
   "id": "8d537e5f",
   "metadata": {},
   "outputs": [],
   "source": [
    "train_scores = pd.DataFrame({\"isFraud\": y_train}) \n",
    "valid_scores = pd.DataFrame({\"isFraud\": y_valid})\n",
    "test_scores = pd.DataFrame({\"isFraud\": test[\"isFraud\"]})"
   ]
  },
  {
   "cell_type": "markdown",
   "id": "07401a70",
   "metadata": {},
   "source": [
    "Тренировка LGBM модели"
   ]
  },
  {
   "cell_type": "code",
   "execution_count": 29,
   "id": "4b62cb5b",
   "metadata": {},
   "outputs": [],
   "source": [
    "params = {\n",
    "    \"boosting_type\": \"gbdt\",\n",
    "    \"objective\": \"binary\",\n",
    "    \"metric\": \"auc\",\n",
    "    \"learning_rate\": 0.01,\n",
    "    \"n_estimators\": 10000,\n",
    "    \"n_jobs\": 8,\n",
    "    \"seed\": 27,\n",
    "    \"early_stopping_rounds\":300\n",
    "}"
   ]
  },
  {
   "cell_type": "code",
   "execution_count": 30,
   "id": "a3c81a6d",
   "metadata": {},
   "outputs": [
    {
     "name": "stderr",
     "output_type": "stream",
     "text": [
      "C:\\Users\\Windows\\.conda\\envs\\tf\\lib\\site-packages\\lightgbm\\sklearn.py:726: UserWarning: 'early_stopping_rounds' argument is deprecated and will be removed in a future release of LightGBM. Pass 'early_stopping()' callback via 'callbacks' argument instead.\n",
      "  _log_warning(\"'early_stopping_rounds' argument is deprecated and will be removed in a future release of LightGBM. \"\n",
      "C:\\Users\\Windows\\.conda\\envs\\tf\\lib\\site-packages\\lightgbm\\sklearn.py:736: UserWarning: 'verbose' argument is deprecated and will be removed in a future release of LightGBM. Pass 'log_evaluation()' callback via 'callbacks' argument instead.\n",
      "  _log_warning(\"'verbose' argument is deprecated and will be removed in a future release of LightGBM. \"\n"
     ]
    },
    {
     "name": "stdout",
     "output_type": "stream",
     "text": [
      "[LightGBM] [Warning] early_stopping_round is set=300, early_stopping_rounds=300 will be ignored. Current value: early_stopping_round=300\n",
      "[500]\ttraining's auc: 0.949848\tvalid_1's auc: 0.929009\n",
      "[1000]\ttraining's auc: 0.970264\tvalid_1's auc: 0.941172\n",
      "[1500]\ttraining's auc: 0.980284\tvalid_1's auc: 0.946948\n",
      "[2000]\ttraining's auc: 0.986377\tvalid_1's auc: 0.950109\n",
      "[2500]\ttraining's auc: 0.990329\tvalid_1's auc: 0.952416\n",
      "[3000]\ttraining's auc: 0.993173\tvalid_1's auc: 0.953981\n",
      "[3500]\ttraining's auc: 0.994769\tvalid_1's auc: 0.955224\n",
      "[4000]\ttraining's auc: 0.99619\tvalid_1's auc: 0.956112\n",
      "[4500]\ttraining's auc: 0.997254\tvalid_1's auc: 0.956433\n",
      "[5000]\ttraining's auc: 0.997947\tvalid_1's auc: 0.956899\n",
      "[5500]\ttraining's auc: 0.998555\tvalid_1's auc: 0.957467\n",
      "[6000]\ttraining's auc: 0.998878\tvalid_1's auc: 0.957939\n",
      "[6500]\ttraining's auc: 0.999114\tvalid_1's auc: 0.958834\n",
      "[7000]\ttraining's auc: 0.999339\tvalid_1's auc: 0.959014\n",
      "[7500]\ttraining's auc: 0.999471\tvalid_1's auc: 0.959168\n",
      "[8000]\ttraining's auc: 0.999574\tvalid_1's auc: 0.959201\n"
     ]
    },
    {
     "data": {
      "text/plain": [
       "LGBMClassifier(early_stopping_rounds=300, learning_rate=0.01, metric='auc',\n",
       "               n_estimators=10000, n_jobs=8, objective='binary', seed=27)"
      ]
     },
     "execution_count": 30,
     "metadata": {},
     "output_type": "execute_result"
    }
   ],
   "source": [
    "model_lgb = lgb.LGBMClassifier(**params)\n",
    "model_lgb.fit(\n",
    "    X=x_train,\n",
    "    y=y_train,\n",
    "    eval_set=[(x_train, y_train), (x_valid, y_valid)],\n",
    "    early_stopping_rounds=300,\n",
    "    eval_metric=\"auc\",\n",
    "    verbose=500,\n",
    "    categorical_feature=\"auto\"\n",
    ")"
   ]
  },
  {
   "cell_type": "code",
   "execution_count": 31,
   "id": "2c5d859c",
   "metadata": {},
   "outputs": [],
   "source": [
    "train_scores[\"LGBM_gbtree\"] = model_lgb.predict_proba(x_train)[:,1]\n",
    "valid_scores[\"LGBM_gbtree\"] = model_lgb.predict_proba(x_valid)[:,1]"
   ]
  },
  {
   "cell_type": "code",
   "execution_count": 28,
   "id": "dd78d7c3",
   "metadata": {},
   "outputs": [],
   "source": [
    "from sklearn.metrics import roc_auc_score, roc_curve"
   ]
  },
  {
   "cell_type": "code",
   "execution_count": 26,
   "id": "31409049",
   "metadata": {},
   "outputs": [],
   "source": [
    "def plot_curves(valid_scores_par: pd.DataFrame, train_scores_par: pd.DataFrame,target_name ) -> None:\n",
    "    \"\"\"\n",
    "    Построение ROC-Curve для множества построенных моделей.\n",
    "\n",
    "    Parameters\n",
    "    ----------\n",
    "    valid_scores: pandas.core.frame.DataFrame\n",
    "        Датафрем с прогнозами модели на валидационной выборке.\n",
    "\n",
    "    train_scores: pandas.core.frame.DataFrame\n",
    "        Датафрейм с прогнозами модели на обучающей выборке.\n",
    "\n",
    "    \"\"\"\n",
    "    fig = plt.figure(figsize=(15, 5))\n",
    "    columns = set(valid_scores_par.columns) - set([target_name])\n",
    "\n",
    "    plt.subplot(121)\n",
    "    plt.xlabel(\"FPR\", size=14)\n",
    "    plt.ylabel(\"TPR\", size=14)\n",
    "    plt.xlim(0, 1)\n",
    "    plt.ylim(0, 1)\n",
    "    plt.title(\"Train ROC curve\")\n",
    "\n",
    "    for feature in columns:\n",
    "        fpr, tpr, _ = roc_curve(\n",
    "            train_scores_par[target_name], train_scores_par[feature]\n",
    "        )\n",
    "        plt.plot(fpr, tpr, linewidth=2, label=feature)\n",
    "\n",
    "    plt.legend(loc=\"best\")\n",
    "\n",
    "    plt.subplot(122)\n",
    "    plt.xlabel(\"FPR\", size=14)\n",
    "    plt.ylabel(\"TPR\", size=14)\n",
    "    plt.xlim(0, 1)\n",
    "    plt.ylim(0, 1)\n",
    "    plt.title(\"Valid ROC curve\")\n",
    "\n",
    "    for feature in columns:\n",
    "        fpr, tpr, _ = roc_curve(\n",
    "            valid_scores_par[target_name], valid_scores_par[feature]\n",
    "        )\n",
    "        plt.plot(fpr, tpr, linewidth=2, label=feature)\n",
    "    plt.legend(loc=\"best\")"
   ]
  },
  {
   "cell_type": "code",
   "execution_count": 34,
   "id": "0f03428e",
   "metadata": {},
   "outputs": [
    {
     "data": {
      "image/png": "[encoded data removed]",
      "text/plain": [
       "<Figure size 1080x360 with 2 Axes>"
      ]
     },
     "metadata": {
      "needs_background": "light"
     },
     "output_type": "display_data"
    }
   ],
   "source": [
    "plot_curves(valid_scores, train_scores,\"isFraud\")"
   ]
  },
  {
   "cell_type": "markdown",
   "id": "774c9d65",
   "metadata": {},
   "source": [
    "Обработка признаков теста"
   ]
  },
  {
   "cell_type": "code",
   "execution_count": 35,
   "id": "2c9db1a0",
   "metadata": {},
   "outputs": [
    {
     "data": {
      "text/html": [
       "<div>\n",
       "<style scoped>\n",
       "    .dataframe tbody tr th:only-of-type {\n",
       "        vertical-align: middle;\n",
       "    }\n",
       "\n",
       "    .dataframe tbody tr th {\n",
       "        vertical-align: top;\n",
       "    }\n",
       "\n",
       "    .dataframe thead th {\n",
       "        text-align: right;\n",
       "    }\n",
       "</style>\n",
       "<table border=\"1\" class=\"dataframe\">\n",
       "  <thead>\n",
       "    <tr style=\"text-align: right;\">\n",
       "      <th></th>\n",
       "      <th>TransactionID</th>\n",
       "      <th>isFraud</th>\n",
       "      <th>TransactionDT</th>\n",
       "      <th>TransactionAmt</th>\n",
       "      <th>ProductCD</th>\n",
       "      <th>card1</th>\n",
       "      <th>card2</th>\n",
       "      <th>card3</th>\n",
       "      <th>card4</th>\n",
       "      <th>card5</th>\n",
       "      <th>...</th>\n",
       "      <th>V330</th>\n",
       "      <th>V331</th>\n",
       "      <th>V332</th>\n",
       "      <th>V333</th>\n",
       "      <th>V334</th>\n",
       "      <th>V335</th>\n",
       "      <th>V336</th>\n",
       "      <th>V337</th>\n",
       "      <th>V338</th>\n",
       "      <th>V339</th>\n",
       "    </tr>\n",
       "  </thead>\n",
       "  <tbody>\n",
       "    <tr>\n",
       "      <th>0</th>\n",
       "      <td>3287000</td>\n",
       "      <td>1</td>\n",
       "      <td>7415038</td>\n",
       "      <td>226.000</td>\n",
       "      <td>W</td>\n",
       "      <td>12473</td>\n",
       "      <td>555.0</td>\n",
       "      <td>150.0</td>\n",
       "      <td>visa</td>\n",
       "      <td>226.0</td>\n",
       "      <td>...</td>\n",
       "      <td>NaN</td>\n",
       "      <td>NaN</td>\n",
       "      <td>NaN</td>\n",
       "      <td>NaN</td>\n",
       "      <td>NaN</td>\n",
       "      <td>NaN</td>\n",
       "      <td>NaN</td>\n",
       "      <td>NaN</td>\n",
       "      <td>NaN</td>\n",
       "      <td>NaN</td>\n",
       "    </tr>\n",
       "    <tr>\n",
       "      <th>1</th>\n",
       "      <td>3287001</td>\n",
       "      <td>0</td>\n",
       "      <td>7415054</td>\n",
       "      <td>3072.000</td>\n",
       "      <td>W</td>\n",
       "      <td>15651</td>\n",
       "      <td>417.0</td>\n",
       "      <td>150.0</td>\n",
       "      <td>visa</td>\n",
       "      <td>226.0</td>\n",
       "      <td>...</td>\n",
       "      <td>NaN</td>\n",
       "      <td>NaN</td>\n",
       "      <td>NaN</td>\n",
       "      <td>NaN</td>\n",
       "      <td>NaN</td>\n",
       "      <td>NaN</td>\n",
       "      <td>NaN</td>\n",
       "      <td>NaN</td>\n",
       "      <td>NaN</td>\n",
       "      <td>NaN</td>\n",
       "    </tr>\n",
       "    <tr>\n",
       "      <th>2</th>\n",
       "      <td>3287002</td>\n",
       "      <td>0</td>\n",
       "      <td>7415081</td>\n",
       "      <td>319.950</td>\n",
       "      <td>W</td>\n",
       "      <td>13844</td>\n",
       "      <td>583.0</td>\n",
       "      <td>150.0</td>\n",
       "      <td>visa</td>\n",
       "      <td>226.0</td>\n",
       "      <td>...</td>\n",
       "      <td>NaN</td>\n",
       "      <td>NaN</td>\n",
       "      <td>NaN</td>\n",
       "      <td>NaN</td>\n",
       "      <td>NaN</td>\n",
       "      <td>NaN</td>\n",
       "      <td>NaN</td>\n",
       "      <td>NaN</td>\n",
       "      <td>NaN</td>\n",
       "      <td>NaN</td>\n",
       "    </tr>\n",
       "    <tr>\n",
       "      <th>3</th>\n",
       "      <td>3287003</td>\n",
       "      <td>0</td>\n",
       "      <td>7415111</td>\n",
       "      <td>171.000</td>\n",
       "      <td>W</td>\n",
       "      <td>11556</td>\n",
       "      <td>309.0</td>\n",
       "      <td>150.0</td>\n",
       "      <td>visa</td>\n",
       "      <td>226.0</td>\n",
       "      <td>...</td>\n",
       "      <td>NaN</td>\n",
       "      <td>NaN</td>\n",
       "      <td>NaN</td>\n",
       "      <td>NaN</td>\n",
       "      <td>NaN</td>\n",
       "      <td>NaN</td>\n",
       "      <td>NaN</td>\n",
       "      <td>NaN</td>\n",
       "      <td>NaN</td>\n",
       "      <td>NaN</td>\n",
       "    </tr>\n",
       "    <tr>\n",
       "      <th>4</th>\n",
       "      <td>3287004</td>\n",
       "      <td>0</td>\n",
       "      <td>7415112</td>\n",
       "      <td>107.950</td>\n",
       "      <td>W</td>\n",
       "      <td>10985</td>\n",
       "      <td>555.0</td>\n",
       "      <td>150.0</td>\n",
       "      <td>visa</td>\n",
       "      <td>226.0</td>\n",
       "      <td>...</td>\n",
       "      <td>NaN</td>\n",
       "      <td>NaN</td>\n",
       "      <td>NaN</td>\n",
       "      <td>NaN</td>\n",
       "      <td>NaN</td>\n",
       "      <td>NaN</td>\n",
       "      <td>NaN</td>\n",
       "      <td>NaN</td>\n",
       "      <td>NaN</td>\n",
       "      <td>NaN</td>\n",
       "    </tr>\n",
       "    <tr>\n",
       "      <th>...</th>\n",
       "      <td>...</td>\n",
       "      <td>...</td>\n",
       "      <td>...</td>\n",
       "      <td>...</td>\n",
       "      <td>...</td>\n",
       "      <td>...</td>\n",
       "      <td>...</td>\n",
       "      <td>...</td>\n",
       "      <td>...</td>\n",
       "      <td>...</td>\n",
       "      <td>...</td>\n",
       "      <td>...</td>\n",
       "      <td>...</td>\n",
       "      <td>...</td>\n",
       "      <td>...</td>\n",
       "      <td>...</td>\n",
       "      <td>...</td>\n",
       "      <td>...</td>\n",
       "      <td>...</td>\n",
       "      <td>...</td>\n",
       "      <td>...</td>\n",
       "    </tr>\n",
       "    <tr>\n",
       "      <th>99996</th>\n",
       "      <td>3386996</td>\n",
       "      <td>0</td>\n",
       "      <td>10091528</td>\n",
       "      <td>368.990</td>\n",
       "      <td>W</td>\n",
       "      <td>13964</td>\n",
       "      <td>496.0</td>\n",
       "      <td>150.0</td>\n",
       "      <td>mastercard</td>\n",
       "      <td>224.0</td>\n",
       "      <td>...</td>\n",
       "      <td>NaN</td>\n",
       "      <td>NaN</td>\n",
       "      <td>NaN</td>\n",
       "      <td>NaN</td>\n",
       "      <td>NaN</td>\n",
       "      <td>NaN</td>\n",
       "      <td>NaN</td>\n",
       "      <td>NaN</td>\n",
       "      <td>NaN</td>\n",
       "      <td>NaN</td>\n",
       "    </tr>\n",
       "    <tr>\n",
       "      <th>99997</th>\n",
       "      <td>3386997</td>\n",
       "      <td>0</td>\n",
       "      <td>10091533</td>\n",
       "      <td>445.330</td>\n",
       "      <td>W</td>\n",
       "      <td>10616</td>\n",
       "      <td>583.0</td>\n",
       "      <td>150.0</td>\n",
       "      <td>visa</td>\n",
       "      <td>226.0</td>\n",
       "      <td>...</td>\n",
       "      <td>NaN</td>\n",
       "      <td>NaN</td>\n",
       "      <td>NaN</td>\n",
       "      <td>NaN</td>\n",
       "      <td>NaN</td>\n",
       "      <td>NaN</td>\n",
       "      <td>NaN</td>\n",
       "      <td>NaN</td>\n",
       "      <td>NaN</td>\n",
       "      <td>NaN</td>\n",
       "    </tr>\n",
       "    <tr>\n",
       "      <th>99998</th>\n",
       "      <td>3386998</td>\n",
       "      <td>0</td>\n",
       "      <td>10091544</td>\n",
       "      <td>15.226</td>\n",
       "      <td>C</td>\n",
       "      <td>9803</td>\n",
       "      <td>583.0</td>\n",
       "      <td>150.0</td>\n",
       "      <td>visa</td>\n",
       "      <td>226.0</td>\n",
       "      <td>...</td>\n",
       "      <td>NaN</td>\n",
       "      <td>NaN</td>\n",
       "      <td>NaN</td>\n",
       "      <td>NaN</td>\n",
       "      <td>NaN</td>\n",
       "      <td>NaN</td>\n",
       "      <td>NaN</td>\n",
       "      <td>NaN</td>\n",
       "      <td>NaN</td>\n",
       "      <td>NaN</td>\n",
       "    </tr>\n",
       "    <tr>\n",
       "      <th>99999</th>\n",
       "      <td>3386999</td>\n",
       "      <td>0</td>\n",
       "      <td>10091549</td>\n",
       "      <td>34.742</td>\n",
       "      <td>C</td>\n",
       "      <td>16062</td>\n",
       "      <td>500.0</td>\n",
       "      <td>185.0</td>\n",
       "      <td>mastercard</td>\n",
       "      <td>137.0</td>\n",
       "      <td>...</td>\n",
       "      <td>NaN</td>\n",
       "      <td>NaN</td>\n",
       "      <td>NaN</td>\n",
       "      <td>NaN</td>\n",
       "      <td>NaN</td>\n",
       "      <td>NaN</td>\n",
       "      <td>NaN</td>\n",
       "      <td>NaN</td>\n",
       "      <td>NaN</td>\n",
       "      <td>NaN</td>\n",
       "    </tr>\n",
       "    <tr>\n",
       "      <th>100000</th>\n",
       "      <td>3387000</td>\n",
       "      <td>0</td>\n",
       "      <td>10091550</td>\n",
       "      <td>312.450</td>\n",
       "      <td>W</td>\n",
       "      <td>16632</td>\n",
       "      <td>215.0</td>\n",
       "      <td>150.0</td>\n",
       "      <td>mastercard</td>\n",
       "      <td>229.0</td>\n",
       "      <td>...</td>\n",
       "      <td>NaN</td>\n",
       "      <td>NaN</td>\n",
       "      <td>NaN</td>\n",
       "      <td>NaN</td>\n",
       "      <td>NaN</td>\n",
       "      <td>NaN</td>\n",
       "      <td>NaN</td>\n",
       "      <td>NaN</td>\n",
       "      <td>NaN</td>\n",
       "      <td>NaN</td>\n",
       "    </tr>\n",
       "  </tbody>\n",
       "</table>\n",
       "<p>100001 rows × 394 columns</p>\n",
       "</div>"
      ],
      "text/plain": [
       "        TransactionID  isFraud  TransactionDT  TransactionAmt ProductCD  \\\n",
       "0             3287000        1        7415038         226.000         W   \n",
       "1             3287001        0        7415054        3072.000         W   \n",
       "2             3287002        0        7415081         319.950         W   \n",
       "3             3287003        0        7415111         171.000         W   \n",
       "4             3287004        0        7415112         107.950         W   \n",
       "...               ...      ...            ...             ...       ...   \n",
       "99996         3386996        0       10091528         368.990         W   \n",
       "99997         3386997        0       10091533         445.330         W   \n",
       "99998         3386998        0       10091544          15.226         C   \n",
       "99999         3386999        0       10091549          34.742         C   \n",
       "100000        3387000        0       10091550         312.450         W   \n",
       "\n",
       "        card1  card2  card3       card4  card5  ... V330  V331  V332  V333  \\\n",
       "0       12473  555.0  150.0        visa  226.0  ...  NaN   NaN   NaN   NaN   \n",
       "1       15651  417.0  150.0        visa  226.0  ...  NaN   NaN   NaN   NaN   \n",
       "2       13844  583.0  150.0        visa  226.0  ...  NaN   NaN   NaN   NaN   \n",
       "3       11556  309.0  150.0        visa  226.0  ...  NaN   NaN   NaN   NaN   \n",
       "4       10985  555.0  150.0        visa  226.0  ...  NaN   NaN   NaN   NaN   \n",
       "...       ...    ...    ...         ...    ...  ...  ...   ...   ...   ...   \n",
       "99996   13964  496.0  150.0  mastercard  224.0  ...  NaN   NaN   NaN   NaN   \n",
       "99997   10616  583.0  150.0        visa  226.0  ...  NaN   NaN   NaN   NaN   \n",
       "99998    9803  583.0  150.0        visa  226.0  ...  NaN   NaN   NaN   NaN   \n",
       "99999   16062  500.0  185.0  mastercard  137.0  ...  NaN   NaN   NaN   NaN   \n",
       "100000  16632  215.0  150.0  mastercard  229.0  ...  NaN   NaN   NaN   NaN   \n",
       "\n",
       "        V334 V335 V336  V337  V338  V339  \n",
       "0        NaN  NaN  NaN   NaN   NaN   NaN  \n",
       "1        NaN  NaN  NaN   NaN   NaN   NaN  \n",
       "2        NaN  NaN  NaN   NaN   NaN   NaN  \n",
       "3        NaN  NaN  NaN   NaN   NaN   NaN  \n",
       "4        NaN  NaN  NaN   NaN   NaN   NaN  \n",
       "...      ...  ...  ...   ...   ...   ...  \n",
       "99996    NaN  NaN  NaN   NaN   NaN   NaN  \n",
       "99997    NaN  NaN  NaN   NaN   NaN   NaN  \n",
       "99998    NaN  NaN  NaN   NaN   NaN   NaN  \n",
       "99999    NaN  NaN  NaN   NaN   NaN   NaN  \n",
       "100000   NaN  NaN  NaN   NaN   NaN   NaN  \n",
       "\n",
       "[100001 rows x 394 columns]"
      ]
     },
     "execution_count": 35,
     "metadata": {},
     "output_type": "execute_result"
    }
   ],
   "source": [
    "test"
   ]
  },
  {
   "cell_type": "code",
   "execution_count": 36,
   "id": "4cf5f27b",
   "metadata": {},
   "outputs": [
    {
     "name": "stdout",
     "output_type": "stream",
     "text": [
      "count of numeric_features 380\n"
     ]
    }
   ],
   "source": [
    "test_numerical_features = test.select_dtypes(exclude=[\"object\"])\n",
    "print(f\"count of numeric_features {test_numerical_features.shape[1]}\")\n"
   ]
  },
  {
   "cell_type": "code",
   "execution_count": 37,
   "id": "ea41bbac",
   "metadata": {},
   "outputs": [],
   "source": [
    "#Получение и обработка числовых признаков\n",
    "test_numerical_features = test_numerical_features.drop([\"TransactionID\",\"TransactionDT\",\"isFraud\"], axis=1)\n",
    "#Заменяем пропуски на среднии\n",
    "test_numerical_features = test_numerical_features.fillna(test_numerical_features.mean())\n",
    "test_data=test_numerical_features\n",
    "\n",
    "#Получение и обработка категориальных признаков\n",
    "test_categorical_features = test.select_dtypes(include=[\"object\"])\n",
    "test_data = handle_categorical_data(test_data, test_categorical_features)\n",
    "\n",
    "#Получение и обработка целевого признака\n",
    "test_target=test['isFraud']"
   ]
  },
  {
   "cell_type": "code",
   "execution_count": 38,
   "id": "8142eeb6",
   "metadata": {},
   "outputs": [],
   "source": [
    "test_scores = pd.DataFrame({\"isFraud\": test_target}) \n"
   ]
  },
  {
   "cell_type": "code",
   "execution_count": 39,
   "id": "f2122335",
   "metadata": {},
   "outputs": [
    {
     "data": {
      "text/plain": [
       "(100001, 537)"
      ]
     },
     "execution_count": 39,
     "metadata": {},
     "output_type": "execute_result"
    }
   ],
   "source": [
    "test_data.shape"
   ]
  },
  {
   "cell_type": "code",
   "execution_count": 40,
   "id": "84439f2d",
   "metadata": {},
   "outputs": [
    {
     "data": {
      "text/plain": [
       "(36000, 541)"
      ]
     },
     "execution_count": 40,
     "metadata": {},
     "output_type": "execute_result"
    }
   ],
   "source": [
    "x_valid.shape"
   ]
  },
  {
   "cell_type": "code",
   "execution_count": 41,
   "id": "11cf145a",
   "metadata": {},
   "outputs": [
    {
     "data": {
      "text/plain": [
       "['R_emaildomain_57',\n",
       " 'R_emaildomain_58',\n",
       " 'R_emaildomain_59',\n",
       " 'R_emaildomain_60']"
      ]
     },
     "execution_count": 41,
     "metadata": {},
     "output_type": "execute_result"
    }
   ],
   "source": [
    "train_not_test = data.columns.difference(test_data.columns)\n",
    "train_not_test.tolist()"
   ]
  },
  {
   "cell_type": "code",
   "execution_count": 42,
   "id": "eece9a9c",
   "metadata": {},
   "outputs": [],
   "source": [
    "for col in train_not_test.tolist():\n",
    "    test_data[col]=0.0"
   ]
  },
  {
   "cell_type": "code",
   "execution_count": 43,
   "id": "a228b413",
   "metadata": {},
   "outputs": [],
   "source": [
    "test_scores[\"LGBM_gbtree\"] = model_lgb.predict_proba(test_data)[:,1]"
   ]
  },
  {
   "cell_type": "code",
   "execution_count": 44,
   "id": "a21bb806",
   "metadata": {},
   "outputs": [
    {
     "data": {
      "image/png": "[encoded data removed]",
      "text/plain": [
       "<Figure size 1080x360 with 2 Axes>"
      ]
     },
     "metadata": {
      "needs_background": "light"
     },
     "output_type": "display_data"
    }
   ],
   "source": [
    "plot_curves(test_scores,train_scores,\"isFraud\")"
   ]
  },
  {
   "cell_type": "code",
   "execution_count": 45,
   "id": "f587beb0",
   "metadata": {},
   "outputs": [
    {
     "data": {
      "text/plain": [
       "0.9439406635254896"
      ]
     },
     "execution_count": 45,
     "metadata": {},
     "output_type": "execute_result"
    }
   ],
   "source": [
    "train_predict_target=model_lgb.predict(x_train)\n",
    "train_roc_auc=roc_auc_score(y_train,train_predict_target)\n",
    "train_roc_auc\n"
   ]
  },
  {
   "cell_type": "code",
   "execution_count": 48,
   "id": "65c2e2c2",
   "metadata": {},
   "outputs": [
    {
     "data": {
      "text/plain": [
       "0.8014390386037458"
      ]
     },
     "execution_count": 48,
     "metadata": {},
     "output_type": "execute_result"
    }
   ],
   "source": [
    "valid_predict_target=model_lgb.predict(x_valid)\n",
    "valid_roc_auc=roc_auc_score(y_valid,valid_predict_target)\n",
    "valid_roc_auc"
   ]
  },
  {
   "cell_type": "code",
   "execution_count": 46,
   "id": "ca0919ce",
   "metadata": {},
   "outputs": [],
   "source": [
    "test_predict_target=model_lgb.predict(test_data)"
   ]
  },
  {
   "cell_type": "code",
   "execution_count": 47,
   "id": "089c5314",
   "metadata": {},
   "outputs": [
    {
     "data": {
      "text/plain": [
       "0.578651248953539"
      ]
     },
     "execution_count": 47,
     "metadata": {},
     "output_type": "execute_result"
    }
   ],
   "source": [
    "test_roc_auc=roc_auc_score(test[\"isFraud\"].tolist(),test_predict_target)\n",
    "test_roc_auc"
   ]
  },
  {
   "cell_type": "markdown",
   "id": "ba81df20",
   "metadata": {},
   "source": [
    "Выводы: качество модели на валидационной выборке достаточно хорошее, roc-auc=0.96.  \n",
    "Расхождение по сравнению с качеством на обучающей выборке -на валидационной выборке заметное, тут видно переобучение на обучающей выборке.Оценить качество на ЛБ - не очень большое, сравнить с качеством на обучении и валидации - видно большое переобучение на тренировочной выборке - возможно надо выбрать другую модель"
   ]
  },
  {
   "cell_type": "markdown",
   "id": "a9dbc234",
   "metadata": {},
   "source": [
    "Возьмем CatBoost  модель"
   ]
  },
  {
   "cell_type": "code",
   "execution_count": 147,
   "id": "b2bc29fc",
   "metadata": {},
   "outputs": [],
   "source": [
    "cb_params = {\n",
    "    \"n_estimators\": 3000,\n",
    "    \"loss_function\": \"Logloss\",\n",
    "    \"eval_metric\": \"AUC\",\n",
    "    \"task_type\": \"CPU\",\n",
    "    \"max_bin\": 30,\n",
    "    \"verbose\": 300,\n",
    "    \"max_depth\": 6,\n",
    "    \"l2_leaf_reg\": 100,\n",
    "    \"early_stopping_rounds\": 100,\n",
    "    \"thread_count\": 8,\n",
    "    \"random_seed\": 42,\n",
    "    \"use_best_model\": True,\n",
    "    \"learning_rate\": 0.05   \n",
    "}"
   ]
  },
  {
   "cell_type": "code",
   "execution_count": 12,
   "id": "fd652735",
   "metadata": {},
   "outputs": [],
   "source": [
    "categorical_features=categorical_features.fillna('')"
   ]
  },
  {
   "cell_type": "code",
   "execution_count": 13,
   "id": "d609c679",
   "metadata": {},
   "outputs": [],
   "source": [
    "data = pd.concat([numerical_features, categorical_features], axis=1)"
   ]
  },
  {
   "cell_type": "code",
   "execution_count": 150,
   "id": "22a1bef8",
   "metadata": {},
   "outputs": [
    {
     "name": "stdout",
     "output_type": "stream",
     "text": [
      "x_train.shape = 144000 rows, 391 cols\n",
      "x_valid.shape = 36000 rows, 391 cols\n"
     ]
    }
   ],
   "source": [
    "x_train, x_valid = train_test_split(\n",
    "    data, train_size=0.8, random_state=1\n",
    ")\n",
    "\n",
    "print(\"x_train.shape = {} rows, {} cols\".format(*x_train.shape))\n",
    "print(\"x_valid.shape = {} rows, {} cols\".format(*x_valid.shape))"
   ]
  },
  {
   "cell_type": "code",
   "execution_count": 14,
   "id": "7350ab55",
   "metadata": {},
   "outputs": [
    {
     "data": {
      "text/plain": [
       "['ProductCD',\n",
       " 'card4',\n",
       " 'card6',\n",
       " 'P_emaildomain',\n",
       " 'R_emaildomain',\n",
       " 'M1',\n",
       " 'M2',\n",
       " 'M3',\n",
       " 'M4',\n",
       " 'M5',\n",
       " 'M6',\n",
       " 'M7',\n",
       " 'M8',\n",
       " 'M9']"
      ]
     },
     "execution_count": 14,
     "metadata": {},
     "output_type": "execute_result"
    }
   ],
   "source": [
    "cat_feats =[]\n",
    "for col in categorical_features.columns:\n",
    "    cat_feats.append(col)\n",
    "cat_feats"
   ]
  },
  {
   "cell_type": "code",
   "execution_count": 169,
   "id": "77025bd4",
   "metadata": {},
   "outputs": [],
   "source": [
    "train_scores = pd.DataFrame({\"isFraud\": y_train}) \n",
    "valid_scores = pd.DataFrame({\"isFraud\": y_valid})"
   ]
  },
  {
   "cell_type": "markdown",
   "id": "58e64b4c",
   "metadata": {},
   "source": [
    "Тренировка CatBoost модели"
   ]
  },
  {
   "cell_type": "code",
   "execution_count": 154,
   "id": "451b537d",
   "metadata": {},
   "outputs": [
    {
     "data": {
      "application/vnd.jupyter.widget-view+json": {
       "model_id": "b76409c1fa744604b00b69a697f9bd6d",
       "version_major": 2,
       "version_minor": 0
      },
      "text/plain": [
       "MetricVisualizer(layout=Layout(align_self='stretch', height='500px'))"
      ]
     },
     "metadata": {},
     "output_type": "display_data"
    },
    {
     "name": "stdout",
     "output_type": "stream",
     "text": [
      "0:\ttest: 0.5788717\ttest1: 0.5732932\tbest: 0.5732932 (0)\ttotal: 498ms\tremaining: 24m 53s\n",
      "300:\ttest: 0.8949634\ttest1: 0.8863130\tbest: 0.8863130 (300)\ttotal: 1m 6s\tremaining: 9m 55s\n",
      "600:\ttest: 0.9050738\ttest1: 0.8954457\tbest: 0.8954457 (600)\ttotal: 2m 12s\tremaining: 8m 48s\n",
      "900:\ttest: 0.9103720\ttest1: 0.9003304\tbest: 0.9003305 (899)\ttotal: 3m 23s\tremaining: 7m 53s\n",
      "1200:\ttest: 0.9132663\ttest1: 0.9026436\tbest: 0.9026443 (1198)\ttotal: 4m 37s\tremaining: 6m 56s\n",
      "1500:\ttest: 0.9159531\ttest1: 0.9047943\tbest: 0.9047978 (1494)\ttotal: 5m 53s\tremaining: 5m 53s\n",
      "1800:\ttest: 0.9184810\ttest1: 0.9066970\tbest: 0.9067316 (1781)\ttotal: 7m 10s\tremaining: 4m 46s\n",
      "2100:\ttest: 0.9218551\ttest1: 0.9095639\tbest: 0.9095639 (2100)\ttotal: 8m 30s\tremaining: 3m 38s\n",
      "2400:\ttest: 0.9237765\ttest1: 0.9110825\tbest: 0.9110826 (2399)\ttotal: 9m 51s\tremaining: 2m 27s\n",
      "2700:\ttest: 0.9262156\ttest1: 0.9131517\tbest: 0.9131517 (2700)\ttotal: 11m 11s\tremaining: 1m 14s\n",
      "2999:\ttest: 0.9278337\ttest1: 0.9144433\tbest: 0.9144481 (2996)\ttotal: 12m 31s\tremaining: 0us\n",
      "\n",
      "bestTest = 0.9144480768\n",
      "bestIteration = 2996\n",
      "\n",
      "Shrink model to first 2997 iterations.\n"
     ]
    },
    {
     "data": {
      "text/plain": [
       "<catboost.core.CatBoostClassifier at 0x2738bb0e610>"
      ]
     },
     "execution_count": 154,
     "metadata": {},
     "output_type": "execute_result"
    }
   ],
   "source": [
    "model_cb = cb.CatBoostClassifier(**cb_params)\n",
    "model_cb.fit(x_train, y_train, eval_set=[(x_train, y_train), (x_valid, y_valid)], cat_features=cat_feats,plot=True)"
   ]
  },
  {
   "cell_type": "code",
   "execution_count": 170,
   "id": "38896dd7",
   "metadata": {},
   "outputs": [],
   "source": [
    "train_scores[\"CatBoost_gbtree\"] = model_cb.predict_proba(x_train)[:,1]\n",
    "valid_scores[\"CatBoost_gbtree\"] = model_cb.predict_proba(x_valid)[:,1]"
   ]
  },
  {
   "cell_type": "code",
   "execution_count": 171,
   "id": "a58a7fbd",
   "metadata": {},
   "outputs": [
    {
     "data": {
      "image/png": "[encoded data removed]",
      "text/plain": [
       "<Figure size 1080x360 with 2 Axes>"
      ]
     },
     "metadata": {
      "needs_background": "light"
     },
     "output_type": "display_data"
    }
   ],
   "source": [
    "plot_curves(valid_scores, train_scores,\"isFraud\")"
   ]
  },
  {
   "cell_type": "code",
   "execution_count": 200,
   "id": "49718836",
   "metadata": {},
   "outputs": [
    {
     "name": "stdout",
     "output_type": "stream",
     "text": [
      "count of numeric_features 380\n"
     ]
    }
   ],
   "source": [
    "test_numerical_features = test.select_dtypes(exclude=[\"object\"])\n",
    "print(f\"count of numeric_features {test_numerical_features.shape[1]}\")\n",
    "test_numerical_features = test_numerical_features.drop([\"TransactionID\",\"TransactionDT\",\"isFraud\"], axis=1)\n",
    "test_categorical_features = test.select_dtypes(include=[\"object\"])\n",
    "test_categorical_features=test_categorical_features.fillna('')"
   ]
  },
  {
   "cell_type": "code",
   "execution_count": 201,
   "id": "1a599053",
   "metadata": {},
   "outputs": [],
   "source": [
    "test_numerical_features = test_numerical_features.fillna(test_numerical_features.mean())"
   ]
  },
  {
   "cell_type": "code",
   "execution_count": 202,
   "id": "e93bf72d",
   "metadata": {},
   "outputs": [],
   "source": [
    "test_data = pd.concat([test_numerical_features, test_categorical_features], axis=1)"
   ]
  },
  {
   "cell_type": "code",
   "execution_count": 203,
   "id": "e29e234d",
   "metadata": {},
   "outputs": [],
   "source": [
    "test_scores = pd.DataFrame({\"isFraud\": test[\"isFraud\"]}) "
   ]
  },
  {
   "cell_type": "code",
   "execution_count": 204,
   "id": "1d23f0fa",
   "metadata": {},
   "outputs": [],
   "source": [
    "test_scores[\"CatBoost_gbtree\"] = model_cb.predict_proba(test_data)[:,1]"
   ]
  },
  {
   "cell_type": "code",
   "execution_count": 205,
   "id": "9ebbf14f",
   "metadata": {},
   "outputs": [
    {
     "data": {
      "image/png": "[encoded data removed]",
      "text/plain": [
       "<Figure size 1080x360 with 2 Axes>"
      ]
     },
     "metadata": {
      "needs_background": "light"
     },
     "output_type": "display_data"
    }
   ],
   "source": [
    "plot_curves(test_scores,train_scores,\"isFraud\")"
   ]
  },
  {
   "cell_type": "code",
   "execution_count": 206,
   "id": "c750edf8",
   "metadata": {},
   "outputs": [
    {
     "data": {
      "text/plain": [
       "0.6396731650515586"
      ]
     },
     "execution_count": 206,
     "metadata": {},
     "output_type": "execute_result"
    }
   ],
   "source": [
    "test_predict_target=model_cb.predict(test_data)\n",
    "test_roc_auc=roc_auc_score(test[\"isFraud\"].tolist(),test_predict_target)\n",
    "test_roc_auc"
   ]
  },
  {
   "cell_type": "markdown",
   "id": "a367d4da",
   "metadata": {},
   "source": [
    "Выводы: CatBoost модель гораздо лучше показывает показатель roc-auc на тестовой выборке - ЛБ и при этом меньше переобучается на валидационной и тестовой выборке по сравнению с обучающей выборкой.\n",
    "Качество модели на валидационной выборке - приемлемое, расхождение по сравнению с качеством на обучающей выборке и валидационной выборке - не сильное - почти нет переобучения. Качество на ЛБ, в сравнении с качеством на обучении и валидации - хуже, но все же лучше чем модель LGBM"
   ]
  },
  {
   "cell_type": "markdown",
   "id": "af338d23",
   "metadata": {},
   "source": [
    "**Задание 2:**\n",
    "\n",
    "**сделать Hold-Out валидацию с разбиением на 3 выборки, разбиение проводить по id-транзакции (TransactionID), размер каждой выборки подобрать самостоятельно. Повторить процедуру из п.1. для каждой выборки.**"
   ]
  },
  {
   "cell_type": "markdown",
   "id": "6824c361",
   "metadata": {},
   "source": [
    "Возьмем CatBoost  модель"
   ]
  },
  {
   "cell_type": "markdown",
   "id": "305c1a11",
   "metadata": {},
   "source": [
    "Будем менять n_estimators и max_depth и l2_leaf_reg"
   ]
  },
  {
   "cell_type": "markdown",
   "id": "e75662c3",
   "metadata": {},
   "source": [
    "1) \"n_estimators\": 3000;  \"max_depth\": 4; \"l2_leaf_reg\": 100"
   ]
  },
  {
   "cell_type": "code",
   "execution_count": 10,
   "id": "2a4d568d",
   "metadata": {},
   "outputs": [],
   "source": [
    "cb_params = {\n",
    "    \"n_estimators\": 3000,\n",
    "    \"loss_function\": \"Logloss\",\n",
    "    \"eval_metric\": \"AUC\",\n",
    "    \"task_type\": \"CPU\",\n",
    "    \"max_bin\": 30,\n",
    "    \"verbose\": 300,\n",
    "    \"max_depth\": 4,\n",
    "    \"l2_leaf_reg\": 100,\n",
    "    \"early_stopping_rounds\": 150,\n",
    "    \"thread_count\": 8,\n",
    "    \"random_seed\": 42,\n",
    "    \"use_best_model\": True,\n",
    "    \"learning_rate\": 0.05   \n",
    "}"
   ]
  },
  {
   "cell_type": "code",
   "execution_count": 11,
   "id": "49099228",
   "metadata": {},
   "outputs": [],
   "source": [
    "categorical_features=categorical_features.fillna('')"
   ]
  },
  {
   "cell_type": "code",
   "execution_count": 12,
   "id": "a4d08827",
   "metadata": {},
   "outputs": [],
   "source": [
    "data = pd.concat([numerical_features, categorical_features], axis=1)"
   ]
  },
  {
   "cell_type": "code",
   "execution_count": 21,
   "id": "24a0b989",
   "metadata": {},
   "outputs": [
    {
     "name": "stdout",
     "output_type": "stream",
     "text": [
      "x_train.shape = 125999 rows, 391 cols\n",
      "x_valid.shape = 37800 rows, 391 cols\n",
      "x_test.shape = 16201 rows, 391 cols\n"
     ]
    }
   ],
   "source": [
    "x_train, x_valid = train_test_split(\n",
    "    data, train_size=0.7, shuffle=True, random_state=1\n",
    ")\n",
    "y_train, y_valid = train_test_split(\n",
    "    target, train_size=0.7, shuffle=True, random_state=1\n",
    ")\n",
    "\n",
    "x_valid, x_test = train_test_split(\n",
    "    x_valid, train_size=0.7, shuffle=True, random_state=27\n",
    ")\n",
    "y_valid, y_test = train_test_split(\n",
    "    y_valid, train_size=0.7, shuffle=True, random_state=27\n",
    ")\n",
    "\n",
    "print(\"x_train.shape = {} rows, {} cols\".format(*x_train.shape))\n",
    "print(\"x_valid.shape = {} rows, {} cols\".format(*x_valid.shape))\n",
    "print(\"x_test.shape = {} rows, {} cols\".format(*x_test.shape))"
   ]
  },
  {
   "cell_type": "code",
   "execution_count": 17,
   "id": "c1e9262e",
   "metadata": {},
   "outputs": [
    {
     "data": {
      "text/plain": [
       "['ProductCD',\n",
       " 'card4',\n",
       " 'card6',\n",
       " 'P_emaildomain',\n",
       " 'R_emaildomain',\n",
       " 'M1',\n",
       " 'M2',\n",
       " 'M3',\n",
       " 'M4',\n",
       " 'M5',\n",
       " 'M6',\n",
       " 'M7',\n",
       " 'M8',\n",
       " 'M9']"
      ]
     },
     "execution_count": 17,
     "metadata": {},
     "output_type": "execute_result"
    }
   ],
   "source": [
    "cat_feats =[]\n",
    "for col in categorical_features.columns:\n",
    "    cat_feats.append(col)\n",
    "cat_feats"
   ]
  },
  {
   "cell_type": "code",
   "execution_count": 24,
   "id": "e16a2153",
   "metadata": {},
   "outputs": [],
   "source": [
    "train_scores = pd.DataFrame({\"isFraud\": y_train}) \n",
    "valid_scores = pd.DataFrame({\"isFraud\": y_valid})\n",
    "test_scores = pd.DataFrame({\"isFraud\": y_test})"
   ]
  },
  {
   "cell_type": "code",
   "execution_count": 23,
   "id": "ae5a3b69",
   "metadata": {},
   "outputs": [],
   "source": [
    "LB_test_scores = pd.DataFrame({\"isFraud\": test[\"isFraud\"]}) "
   ]
  },
  {
   "cell_type": "code",
   "execution_count": 22,
   "id": "5cd71adb",
   "metadata": {},
   "outputs": [
    {
     "data": {
      "application/vnd.jupyter.widget-view+json": {
       "model_id": "7afc99ce247049719e9c87fcc73d16bd",
       "version_major": 2,
       "version_minor": 0
      },
      "text/plain": [
       "MetricVisualizer(layout=Layout(align_self='stretch', height='500px'))"
      ]
     },
     "metadata": {},
     "output_type": "display_data"
    },
    {
     "name": "stdout",
     "output_type": "stream",
     "text": [
      "0:\ttest: 0.5358912\ttest1: 0.5329285\tbest: 0.5329285 (0)\ttotal: 426ms\tremaining: 21m 18s\n",
      "300:\ttest: 0.8884480\ttest1: 0.8837647\tbest: 0.8837647 (300)\ttotal: 39.1s\tremaining: 5m 50s\n",
      "600:\ttest: 0.8955137\ttest1: 0.8894216\tbest: 0.8894216 (600)\ttotal: 1m 14s\tremaining: 4m 59s\n",
      "900:\ttest: 0.8996764\ttest1: 0.8929282\tbest: 0.8929282 (899)\ttotal: 1m 55s\tremaining: 4m 29s\n",
      "1200:\ttest: 0.9023343\ttest1: 0.8947951\tbest: 0.8948080 (1190)\ttotal: 2m 37s\tremaining: 3m 56s\n",
      "1500:\ttest: 0.9044680\ttest1: 0.8965704\tbest: 0.8965822 (1495)\ttotal: 3m 18s\tremaining: 3m 18s\n",
      "1800:\ttest: 0.9086767\ttest1: 0.9002840\tbest: 0.9002846 (1788)\ttotal: 4m 1s\tremaining: 2m 40s\n",
      "2100:\ttest: 0.9108635\ttest1: 0.9021935\tbest: 0.9021940 (2098)\ttotal: 4m 46s\tremaining: 2m 2s\n",
      "2400:\ttest: 0.9127130\ttest1: 0.9036452\tbest: 0.9036464 (2394)\ttotal: 5m 33s\tremaining: 1m 23s\n",
      "2700:\ttest: 0.9133077\ttest1: 0.9041289\tbest: 0.9041436 (2697)\ttotal: 6m 20s\tremaining: 42.1s\n",
      "2999:\ttest: 0.9141695\ttest1: 0.9047356\tbest: 0.9047382 (2970)\ttotal: 7m 8s\tremaining: 0us\n",
      "\n",
      "bestTest = 0.9047381971\n",
      "bestIteration = 2970\n",
      "\n",
      "Shrink model to first 2971 iterations.\n"
     ]
    },
    {
     "data": {
      "text/plain": [
       "<catboost.core.CatBoostClassifier at 0x150c8a5e520>"
      ]
     },
     "execution_count": 22,
     "metadata": {},
     "output_type": "execute_result"
    }
   ],
   "source": [
    "model_cb = cb.CatBoostClassifier(**cb_params)\n",
    "model_cb.fit(x_train, \n",
    "             y_train, \n",
    "             eval_set=[(x_train, y_train), (x_valid, y_valid)], \n",
    "             cat_features=cat_feats,plot=True)"
   ]
  },
  {
   "cell_type": "code",
   "execution_count": 26,
   "id": "17ee7242",
   "metadata": {},
   "outputs": [],
   "source": [
    "model_cb_1=model_cb"
   ]
  },
  {
   "cell_type": "code",
   "execution_count": 27,
   "id": "550f754e",
   "metadata": {},
   "outputs": [],
   "source": [
    "train_scores[\"CatBoost_gbtree_1\"] = model_cb_1.predict_proba(x_train)[:,1]\n",
    "valid_scores[\"CatBoost_gbtree_1\"] = model_cb_1.predict_proba(x_valid)[:,1]\n",
    "test_scores[\"CatBoost_gbtree_1\"] = model_cb_1.predict_proba(x_test)[:,1]"
   ]
  },
  {
   "cell_type": "code",
   "execution_count": 32,
   "id": "d0b76f95",
   "metadata": {},
   "outputs": [
    {
     "data": {
      "image/png": "[encoded data removed]",
      "text/plain": [
       "<Figure size 1080x360 with 2 Axes>"
      ]
     },
     "metadata": {
      "needs_background": "light"
     },
     "output_type": "display_data"
    }
   ],
   "source": [
    "plot_curves(valid_scores, train_scores,\"isFraud\")"
   ]
  },
  {
   "cell_type": "code",
   "execution_count": 33,
   "id": "00cf43dc",
   "metadata": {},
   "outputs": [
    {
     "data": {
      "image/png": "[encoded data removed]",
      "text/plain": [
       "<Figure size 1080x360 with 2 Axes>"
      ]
     },
     "metadata": {
      "needs_background": "light"
     },
     "output_type": "display_data"
    }
   ],
   "source": [
    "plot_curves(test_scores, train_scores,\"isFraud\")"
   ]
  },
  {
   "cell_type": "code",
   "execution_count": 34,
   "id": "02bbc8f0",
   "metadata": {},
   "outputs": [
    {
     "data": {
      "text/plain": [
       "0.6905410739081399"
      ]
     },
     "execution_count": 34,
     "metadata": {},
     "output_type": "execute_result"
    }
   ],
   "source": [
    "test_predict_target=model_cb_1.predict(x_test)\n",
    "test_roc_auc=roc_auc_score(y_test,test_predict_target)\n",
    "test_roc_auc"
   ]
  },
  {
   "cell_type": "markdown",
   "id": "d8578347",
   "metadata": {},
   "source": [
    "2) \"n_estimators\": 4000;  \"max_depth\": 7; \"l2_leaf_reg\": 100"
   ]
  },
  {
   "cell_type": "code",
   "execution_count": 19,
   "id": "dde22bfa",
   "metadata": {},
   "outputs": [],
   "source": [
    "cb_params = {\n",
    "    \"n_estimators\": 4000,\n",
    "    \"loss_function\": \"Logloss\",\n",
    "    \"eval_metric\": \"AUC\",\n",
    "    \"task_type\": \"CPU\",\n",
    "    \"max_bin\": 30,\n",
    "    \"verbose\": 300,\n",
    "    \"max_depth\": 7,\n",
    "    \"l2_leaf_reg\": 100,\n",
    "    \"early_stopping_rounds\": 150,\n",
    "    \"thread_count\": 8,\n",
    "    \"random_seed\": 42,\n",
    "    \"use_best_model\": True,\n",
    "    \"learning_rate\": 0.05   \n",
    "}"
   ]
  },
  {
   "cell_type": "code",
   "execution_count": 22,
   "id": "1b94cedb",
   "metadata": {},
   "outputs": [
    {
     "data": {
      "application/vnd.jupyter.widget-view+json": {
       "model_id": "0cd1cabe578e4c07ac86706fbaeb5625",
       "version_major": 2,
       "version_minor": 0
      },
      "text/plain": [
       "MetricVisualizer(layout=Layout(align_self='stretch', height='500px'))"
      ]
     },
     "metadata": {},
     "output_type": "display_data"
    },
    {
     "name": "stdout",
     "output_type": "stream",
     "text": [
      "0:\ttest: 0.6349778\ttest1: 0.6269278\tbest: 0.6269278 (0)\ttotal: 550ms\tremaining: 36m 39s\n",
      "300:\ttest: 0.8990770\ttest1: 0.8917127\tbest: 0.8917271 (295)\ttotal: 1m 10s\tremaining: 14m 27s\n",
      "600:\ttest: 0.9101769\ttest1: 0.8990980\tbest: 0.8990980 (600)\ttotal: 2m 20s\tremaining: 13m 17s\n",
      "900:\ttest: 0.9132293\ttest1: 0.9013615\tbest: 0.9013634 (898)\ttotal: 3m 31s\tremaining: 12m 8s\n",
      "1200:\ttest: 0.9170927\ttest1: 0.9043027\tbest: 0.9043027 (1200)\ttotal: 4m 47s\tremaining: 11m 10s\n",
      "1500:\ttest: 0.9195193\ttest1: 0.9061100\tbest: 0.9061389 (1496)\ttotal: 6m\tremaining: 10m\n",
      "1800:\ttest: 0.9223263\ttest1: 0.9088710\tbest: 0.9088710 (1800)\ttotal: 7m 15s\tremaining: 8m 51s\n",
      "2100:\ttest: 0.9256699\ttest1: 0.9115235\tbest: 0.9115324 (2092)\ttotal: 8m 30s\tremaining: 7m 41s\n",
      "2400:\ttest: 0.9284221\ttest1: 0.9137043\tbest: 0.9137043 (2400)\ttotal: 9m 46s\tremaining: 6m 30s\n",
      "2700:\ttest: 0.9314666\ttest1: 0.9160632\tbest: 0.9160710 (2696)\ttotal: 11m 4s\tremaining: 5m 19s\n",
      "3000:\ttest: 0.9335879\ttest1: 0.9176421\tbest: 0.9176421 (3000)\ttotal: 12m 22s\tremaining: 4m 7s\n",
      "3300:\ttest: 0.9360548\ttest1: 0.9197306\tbest: 0.9197306 (3300)\ttotal: 13m 45s\tremaining: 2m 54s\n",
      "3600:\ttest: 0.9380536\ttest1: 0.9208272\tbest: 0.9208280 (3599)\ttotal: 15m 9s\tremaining: 1m 40s\n",
      "3900:\ttest: 0.9398948\ttest1: 0.9218160\tbest: 0.9218160 (3896)\ttotal: 16m 35s\tremaining: 25.3s\n",
      "3999:\ttest: 0.9404193\ttest1: 0.9222027\tbest: 0.9222062 (3997)\ttotal: 17m 3s\tremaining: 0us\n",
      "\n",
      "bestTest = 0.9222062071\n",
      "bestIteration = 3997\n",
      "\n",
      "Shrink model to first 3998 iterations.\n"
     ]
    },
    {
     "data": {
      "text/plain": [
       "<catboost.core.CatBoostClassifier at 0x17f8b5c1be0>"
      ]
     },
     "execution_count": 22,
     "metadata": {},
     "output_type": "execute_result"
    }
   ],
   "source": [
    "model_cb_2 = cb.CatBoostClassifier(**cb_params)\n",
    "model_cb_2.fit(x_train, \n",
    "             y_train, \n",
    "             eval_set=[(x_train, y_train), (x_valid, y_valid)], \n",
    "             cat_features=cat_feats,plot=True)"
   ]
  },
  {
   "cell_type": "code",
   "execution_count": 24,
   "id": "dd1c18c8",
   "metadata": {},
   "outputs": [],
   "source": [
    "train_scores = pd.DataFrame({\"isFraud\": y_train}) \n",
    "valid_scores = pd.DataFrame({\"isFraud\": y_valid})\n",
    "test_scores = pd.DataFrame({\"isFraud\": y_test})\n",
    "\n",
    "train_scores[\"CatBoost_gbtree_2\"] = model_cb_2.predict_proba(x_train)[:,1]\n",
    "valid_scores[\"CatBoost_gbtree_2\"] = model_cb_2.predict_proba(x_valid)[:,1]\n",
    "test_scores[\"CatBoost_gbtree_2\"] = model_cb_2.predict_proba(x_test)[:,1]"
   ]
  },
  {
   "cell_type": "code",
   "execution_count": 29,
   "id": "dd42bbbc",
   "metadata": {},
   "outputs": [
    {
     "data": {
      "image/png": "[encoded data removed]",
      "text/plain": [
       "<Figure size 1080x360 with 2 Axes>"
      ]
     },
     "metadata": {
      "needs_background": "light"
     },
     "output_type": "display_data"
    }
   ],
   "source": [
    "plot_curves(valid_scores, train_scores,\"isFraud\")"
   ]
  },
  {
   "cell_type": "code",
   "execution_count": 30,
   "id": "beac36e2",
   "metadata": {},
   "outputs": [
    {
     "data": {
      "image/png": "[encoded data removed]",
      "text/plain": [
       "<Figure size 1080x360 with 2 Axes>"
      ]
     },
     "metadata": {
      "needs_background": "light"
     },
     "output_type": "display_data"
    }
   ],
   "source": [
    "plot_curves(test_scores, train_scores,\"isFraud\")"
   ]
  },
  {
   "cell_type": "code",
   "execution_count": 31,
   "id": "fa5df40b",
   "metadata": {},
   "outputs": [
    {
     "data": {
      "text/plain": [
       "0.734881072266792"
      ]
     },
     "execution_count": 31,
     "metadata": {},
     "output_type": "execute_result"
    }
   ],
   "source": [
    "test_predict_target=model_cb_2.predict(x_test)\n",
    "test_roc_auc=roc_auc_score(y_test,test_predict_target)\n",
    "test_roc_auc"
   ]
  },
  {
   "cell_type": "markdown",
   "id": "3f8f597a",
   "metadata": {},
   "source": [
    "3) \"n_estimators\": 3000;  \"max_depth\": 6; \"l2_leaf_reg\": 200"
   ]
  },
  {
   "cell_type": "code",
   "execution_count": 41,
   "id": "e37a5d2a",
   "metadata": {},
   "outputs": [],
   "source": [
    "cb_params = {\n",
    "    \"n_estimators\": 3000,\n",
    "    \"loss_function\": \"Logloss\",\n",
    "    \"eval_metric\": \"AUC\",\n",
    "    \"task_type\": \"CPU\",\n",
    "    \"max_bin\": 30,\n",
    "    \"verbose\": 300,\n",
    "    \"max_depth\": 6,\n",
    "    \"l2_leaf_reg\": 200,\n",
    "    \"early_stopping_rounds\": 150,\n",
    "    \"thread_count\": 8,\n",
    "    \"random_seed\": 42,\n",
    "    \"use_best_model\": True,\n",
    "    \"learning_rate\": 0.05   \n",
    "}"
   ]
  },
  {
   "cell_type": "code",
   "execution_count": 42,
   "id": "7f9138d2",
   "metadata": {},
   "outputs": [
    {
     "data": {
      "application/vnd.jupyter.widget-view+json": {
       "model_id": "67fb91cc692640368e9a2bb53fce340d",
       "version_major": 2,
       "version_minor": 0
      },
      "text/plain": [
       "MetricVisualizer(layout=Layout(align_self='stretch', height='500px'))"
      ]
     },
     "metadata": {},
     "output_type": "display_data"
    },
    {
     "name": "stdout",
     "output_type": "stream",
     "text": [
      "0:\ttest: 0.5359848\ttest1: 0.5324727\tbest: 0.5324727 (0)\ttotal: 200ms\tremaining: 10m\n",
      "300:\ttest: 0.8916511\ttest1: 0.8855204\tbest: 0.8855204 (300)\ttotal: 1m\tremaining: 8m 59s\n",
      "600:\ttest: 0.9008011\ttest1: 0.8937014\tbest: 0.8937014 (600)\ttotal: 2m 6s\tremaining: 8m 26s\n",
      "900:\ttest: 0.9045175\ttest1: 0.8964363\tbest: 0.8964379 (890)\ttotal: 3m 21s\tremaining: 7m 49s\n",
      "1200:\ttest: 0.9065555\ttest1: 0.8977473\tbest: 0.8977473 (1200)\ttotal: 4m 40s\tremaining: 6m 59s\n",
      "1500:\ttest: 0.9091298\ttest1: 0.8997417\tbest: 0.8997417 (1500)\ttotal: 6m 24s\tremaining: 6m 23s\n",
      "1800:\ttest: 0.9110801\ttest1: 0.9012360\tbest: 0.9012360 (1800)\ttotal: 7m 45s\tremaining: 5m 9s\n",
      "2100:\ttest: 0.9129514\ttest1: 0.9025290\tbest: 0.9025290 (2100)\ttotal: 8m 58s\tremaining: 3m 50s\n",
      "2400:\ttest: 0.9155907\ttest1: 0.9046990\tbest: 0.9046990 (2400)\ttotal: 10m 11s\tremaining: 2m 32s\n",
      "2700:\ttest: 0.9167418\ttest1: 0.9052332\tbest: 0.9052357 (2684)\ttotal: 11m 25s\tremaining: 1m 15s\n",
      "2999:\ttest: 0.9176889\ttest1: 0.9059033\tbest: 0.9059110 (2992)\ttotal: 12m 37s\tremaining: 0us\n",
      "\n",
      "bestTest = 0.9059110484\n",
      "bestIteration = 2992\n",
      "\n",
      "Shrink model to first 2993 iterations.\n"
     ]
    },
    {
     "data": {
      "text/plain": [
       "<catboost.core.CatBoostClassifier at 0x150cba70ac0>"
      ]
     },
     "execution_count": 42,
     "metadata": {},
     "output_type": "execute_result"
    }
   ],
   "source": [
    "model_cb_3 = cb.CatBoostClassifier(**cb_params)\n",
    "model_cb_3.fit(x_train, \n",
    "             y_train, \n",
    "             eval_set=[(x_train, y_train), (x_valid, y_valid)], \n",
    "             cat_features=cat_feats,plot=True)"
   ]
  },
  {
   "cell_type": "code",
   "execution_count": 43,
   "id": "fea14945",
   "metadata": {},
   "outputs": [],
   "source": [
    "train_scores = pd.DataFrame({\"isFraud\": y_train}) \n",
    "valid_scores = pd.DataFrame({\"isFraud\": y_valid})\n",
    "test_scores = pd.DataFrame({\"isFraud\": y_test})\n",
    "\n",
    "train_scores[\"CatBoost_gbtree_3\"] = model_cb_3.predict_proba(x_train)[:,1]\n",
    "valid_scores[\"CatBoost_gbtree_3\"] = model_cb_3.predict_proba(x_valid)[:,1]\n",
    "test_scores[\"CatBoost_gbtree_3\"] = model_cb_3.predict_proba(x_test)[:,1]"
   ]
  },
  {
   "cell_type": "code",
   "execution_count": 44,
   "id": "d32f4062",
   "metadata": {},
   "outputs": [
    {
     "data": {
      "image/png": "[encoded data removed]",
      "text/plain": [
       "<Figure size 1080x360 with 2 Axes>"
      ]
     },
     "metadata": {
      "needs_background": "light"
     },
     "output_type": "display_data"
    }
   ],
   "source": [
    "plot_curves(valid_scores, train_scores,\"isFraud\")"
   ]
  },
  {
   "cell_type": "code",
   "execution_count": 45,
   "id": "f5b0d40b",
   "metadata": {},
   "outputs": [
    {
     "data": {
      "image/png": "[encoded data removed]",
      "text/plain": [
       "<Figure size 1080x360 with 2 Axes>"
      ]
     },
     "metadata": {
      "needs_background": "light"
     },
     "output_type": "display_data"
    }
   ],
   "source": [
    "plot_curves(test_scores, train_scores,\"isFraud\")"
   ]
  },
  {
   "cell_type": "code",
   "execution_count": 46,
   "id": "330abae9",
   "metadata": {},
   "outputs": [
    {
     "data": {
      "text/plain": [
       "0.7046117210356302"
      ]
     },
     "execution_count": 46,
     "metadata": {},
     "output_type": "execute_result"
    }
   ],
   "source": [
    "test_predict_target=model_cb_3.predict(x_test)\n",
    "test_roc_auc=roc_auc_score(y_test,test_predict_target)\n",
    "test_roc_auc"
   ]
  },
  {
   "cell_type": "code",
   "execution_count": 32,
   "id": "c1bcb82b",
   "metadata": {},
   "outputs": [],
   "source": [
    "#Лучшая модель - 2 модель\n",
    "best_model_cb=model_cb_2"
   ]
  },
  {
   "cell_type": "code",
   "execution_count": 33,
   "id": "90a2cfb4",
   "metadata": {},
   "outputs": [],
   "source": [
    "train_scores = pd.DataFrame({\"isFraud\": y_train}) "
   ]
  },
  {
   "cell_type": "code",
   "execution_count": 34,
   "id": "29f82ce2",
   "metadata": {},
   "outputs": [],
   "source": [
    "train_scores[\"CatBoost_gbtree_Best\"]=model_cb_2.predict_proba(x_train)[:,1]"
   ]
  },
  {
   "cell_type": "markdown",
   "id": "9a7ffd39",
   "metadata": {},
   "source": [
    "Анализ на тесте"
   ]
  },
  {
   "cell_type": "code",
   "execution_count": 35,
   "id": "a7a85a57",
   "metadata": {},
   "outputs": [],
   "source": [
    "test_numerical_features = test.select_dtypes(exclude=[\"object\"])\n",
    "test_numerical_features = test_numerical_features.drop([\"TransactionID\",\"TransactionDT\",\"isFraud\"], axis=1)\n",
    "test_numerical_features = test_numerical_features.fillna(test_numerical_features.mean())\n",
    "\n",
    "test_categorical_features = test.select_dtypes(include=[\"object\"])\n",
    "test_categorical_features=test_categorical_features.fillna('')\n",
    "\n",
    "test_data = pd.concat([test_numerical_features, test_categorical_features], axis=1)"
   ]
  },
  {
   "cell_type": "code",
   "execution_count": 36,
   "id": "36f2bea0",
   "metadata": {
    "scrolled": true
   },
   "outputs": [
    {
     "data": {
      "image/png": "[encoded data removed]",
      "text/plain": [
       "<Figure size 1080x360 with 2 Axes>"
      ]
     },
     "metadata": {
      "needs_background": "light"
     },
     "output_type": "display_data"
    }
   ],
   "source": [
    "LB_test_scores[\"CatBoost_gbtree_Best\"] = best_model_cb.predict_proba(test_data)[:,1]\n",
    "plot_curves(LB_test_scores,train_scores,\"isFraud\")"
   ]
  },
  {
   "cell_type": "code",
   "execution_count": 37,
   "id": "9c10d6c3",
   "metadata": {},
   "outputs": [
    {
     "data": {
      "text/plain": [
       "0.641644773884366"
      ]
     },
     "execution_count": 37,
     "metadata": {},
     "output_type": "execute_result"
    }
   ],
   "source": [
    "test_predict_target=best_model_cb.predict(test_data)\n",
    "test_roc_auc=roc_auc_score(test[\"isFraud\"].tolist(),test_predict_target)\n",
    "test_roc_auc"
   ]
  },
  {
   "cell_type": "markdown",
   "id": "1fa7d7e6",
   "metadata": {},
   "source": [
    "Вывод: результат немного лучше чем при разбиении на 2 поднабора.\n",
    "Качество модели на валидационной выборке - приемлемое, расхождение по сравнению с качеством на обучающей выборке и валидационной выборке - не сильное - почти нет переобучения. Качество на ЛБ, в сравнении с качеством на обучении и валидации - хуже, есть переобучение"
   ]
  },
  {
   "cell_type": "markdown",
   "id": "ae975403",
   "metadata": {},
   "source": [
    "**Задание 3:**\n",
    "\n",
    "**построить доверительный интервал на данных из п.2 на основе бутстреп выборок, оценить качество модели на ЛБ относительно полученного доверительного интервала. Сделать выводы.**"
   ]
  },
  {
   "cell_type": "markdown",
   "id": "60683cfb",
   "metadata": {},
   "source": [
    "Из-за огромности задания оставшаяся часть будет сделана и добавлена позже."
   ]
  },
  {
   "cell_type": "code",
   "execution_count": 16,
   "id": "35707d5e",
   "metadata": {},
   "outputs": [],
   "source": [
    "from tqdm import tqdm\n",
    "from typing import List, Tuple"
   ]
  },
  {
   "cell_type": "code",
   "execution_count": 17,
   "id": "a27bd9b1",
   "metadata": {},
   "outputs": [],
   "source": [
    "def create_bootstrap_samples(data: np.array, n_samples: int = 1000) -> np.array:\n",
    "    \"\"\"\n",
    "    Создание бутстреп-выборок.\n",
    "\n",
    "    Parameters\n",
    "    ----------\n",
    "    data: np.array\n",
    "        Исходная выборка, которая будет использоваться для\n",
    "        создания бутстреп выборок.\n",
    "\n",
    "    n_samples: int, optional, default = 1000\n",
    "        Количество создаваемых бутстреп выборок.\n",
    "        Опциональный параметр, по умолчанию, равен 1000.\n",
    "\n",
    "    Returns\n",
    "    -------\n",
    "    bootstrap_idx: np.array\n",
    "        Матрица индексов, для создания бутстреп выборок.\n",
    "\n",
    "    \"\"\"\n",
    "    bootstrap_idx = np.random.randint(\n",
    "        low=0, high=len(data), size=(n_samples, len(data))\n",
    "    )\n",
    "    return bootstrap_idx\n",
    "\n",
    "\n",
    "def create_bootstrap_metrics(y_true: np.array,\n",
    "                             y_pred: np.array,\n",
    "                             metric: callable,\n",
    "                             n_samlpes: int = 1000) -> List[float]:\n",
    "    \"\"\"\n",
    "    Вычисление бутстреп оценок.\n",
    "\n",
    "    Parameters\n",
    "    ----------\n",
    "    y_true: np.array\n",
    "        Вектор целевой переменной.\n",
    "\n",
    "    y_pred: np.array\n",
    "        Вектор прогнозов.\n",
    "\n",
    "    metric: callable\n",
    "        Функция для вычисления метрики.\n",
    "        Функция должна принимать 2 аргумента: y_true, y_pred.\n",
    "\n",
    "    n_samples: int, optional, default = 1000\n",
    "        Количество создаваемых бутстреп выборок.\n",
    "        Опциональный параметр, по умолчанию, равен 1000.\n",
    "\n",
    "    Returns\n",
    "    -------\n",
    "    bootstrap_metrics: List[float]\n",
    "        Список со значениями метрики качества на каждой бустреп выборке.\n",
    "\n",
    "    \"\"\"\n",
    "    scores = []\n",
    "\n",
    "    if isinstance(y_true, pd.Series):\n",
    "        y_true = y_true.values\n",
    "\n",
    "    bootstrap_idx = create_bootstrap_samples(y_true)\n",
    "    for idx in bootstrap_idx:\n",
    "        y_true_bootstrap = y_true[idx]\n",
    "        y_pred_bootstrap = y_pred[idx]\n",
    "\n",
    "        score = metric(y_true_bootstrap, y_pred_bootstrap)\n",
    "        scores.append(score)\n",
    "\n",
    "    return scores\n",
    "\n",
    "\n",
    "def calculate_confidence_interval(scores: list, conf_interval: float = 0.95) -> Tuple[float]:\n",
    "    \"\"\"\n",
    "    Вычисление доверительного интервала.\n",
    "\n",
    "    Parameters\n",
    "    ----------\n",
    "    scores: List[float / int]\n",
    "        Список с оценками изучаемой величины.\n",
    "\n",
    "    conf_interval: float, optional, default = 0.95\n",
    "        Уровень доверия для построения интервала.\n",
    "        Опциональный параметр, по умолчанию, равен 0.95.\n",
    "\n",
    "    Returns\n",
    "    -------\n",
    "    conf_interval: Tuple[float]\n",
    "        Кортеж с границами доверительного интервала.\n",
    "\n",
    "    \"\"\"\n",
    "    left_bound = np.percentile(\n",
    "        scores, ((1 - conf_interval) / 2) * 100\n",
    "    )\n",
    "    right_bound = np.percentile(\n",
    "        scores, (conf_interval + ((1 - conf_interval) / 2)) * 100\n",
    "    )\n",
    "\n",
    "    return left_bound, right_bound"
   ]
  },
  {
   "cell_type": "markdown",
   "id": "c5357616",
   "metadata": {},
   "source": [
    "строим доверительный интервал на выделенном тесте (3 часть обучаемой выборки)"
   ]
  },
  {
   "cell_type": "code",
   "execution_count": 42,
   "id": "31b8e8f2",
   "metadata": {},
   "outputs": [
    {
     "data": {
      "text/plain": [
       "(0.7122632824018443, 0.7582786454781156)"
      ]
     },
     "execution_count": 42,
     "metadata": {},
     "output_type": "execute_result"
    }
   ],
   "source": [
    "np.random.seed(27)\n",
    "scores = create_bootstrap_metrics(y_test, best_model_cb.predict(x_test), roc_auc_score)\n",
    "\n",
    "calculate_confidence_interval(scores)"
   ]
  },
  {
   "cell_type": "markdown",
   "id": "f4393d88",
   "metadata": {},
   "source": [
    "строим доверительный интервал на тесте ЛБ "
   ]
  },
  {
   "cell_type": "code",
   "execution_count": 44,
   "id": "7b919e15",
   "metadata": {},
   "outputs": [
    {
     "data": {
      "text/plain": [
       "(0.6342742359953468, 0.6488857218908691)"
      ]
     },
     "execution_count": 44,
     "metadata": {},
     "output_type": "execute_result"
    }
   ],
   "source": [
    "np.random.seed(27)\n",
    "scores = create_bootstrap_metrics(test[\"isFraud\"], test_predict_target, roc_auc_score)\n",
    "\n",
    "calculate_confidence_interval(scores)"
   ]
  },
  {
   "cell_type": "code",
   "execution_count": 45,
   "id": "81322339",
   "metadata": {},
   "outputs": [
    {
     "name": "stderr",
     "output_type": "stream",
     "text": [
      "C:\\Users\\Windows\\.conda\\envs\\tf\\lib\\site-packages\\seaborn\\distributions.py:2619: FutureWarning: `distplot` is a deprecated function and will be removed in a future version. Please adapt your code to use either `displot` (a figure-level function with similar flexibility) or `histplot` (an axes-level function for histograms).\n",
      "  warnings.warn(msg, FutureWarning)\n"
     ]
    },
    {
     "data": {
      "text/plain": [
       "Text(0.5, 0, 'sampel number')"
      ]
     },
     "execution_count": 45,
     "metadata": {},
     "output_type": "execute_result"
    },
    {
     "data": {
      "image/png": "[encoded data removed]",
      "text/plain": [
       "<Figure size 1080x360 with 2 Axes>"
      ]
     },
     "metadata": {
      "needs_background": "light"
     },
     "output_type": "display_data"
    }
   ],
   "source": [
    "fig, axes = plt.subplots(1, 2, figsize=(15, 5))\n",
    "plt.suptitle(\"Bootstrap for evaluating validation stability\", size=15)\n",
    "axes[1].scatter(range(len(scores)), scores, alpha=0.25, color=\"blue\")\n",
    "axes[1].set_xlabel(\"sampel number\", size=15)\n",
    "axes[1].set_ylabel(\"roc_auc_score\", size=15)\n",
    "\n",
    "sns.distplot(scores, ax=axes[0], color=\"green\", bins=20)\n",
    "axes[0].set_xlabel(\"sampel number\", size=15)"
   ]
  },
  {
   "cell_type": "code",
   "execution_count": 46,
   "id": "aa2221af",
   "metadata": {},
   "outputs": [
    {
     "data": {
      "text/plain": [
       "0.014610000000000012"
      ]
     },
     "execution_count": 46,
     "metadata": {},
     "output_type": "execute_result"
    }
   ],
   "source": [
    "confidence_interval_width = 0.64888-0.63427\n",
    "confidence_interval_width"
   ]
  },
  {
   "cell_type": "markdown",
   "id": "bfa6ced3",
   "metadata": {},
   "source": [
    "Выводы ширина доверительного интервала достаточно узкая и приемлемая (roc_auc_score с равной вероятностью принимает значения внутри данного доверительного интервала), что говорит об устойчивости валидации."
   ]
  },
  {
   "cell_type": "markdown",
   "id": "b0318fcb",
   "metadata": {},
   "source": [
    "**Задание 4:**\n",
    "\n",
    "**выполнить Adversarial Validation, подобрать объекты из обучающей выборки, которые сильно похожи на объекты из assignment_2_test.csv, и использовать их в качестве валидационного набора. Оценить качество модели на ЛБ, сделать выводы о полученных результатах.**"
   ]
  },
  {
   "cell_type": "code",
   "execution_count": 47,
   "id": "5f74a9e9",
   "metadata": {},
   "outputs": [],
   "source": [
    "x_adv = pd.concat([\n",
    "    data, test_data], axis=0\n",
    ")\n",
    "y_adv = np.hstack((np.zeros(data.shape[0]), np.ones(test_data.shape[0])))\n",
    "assert x_adv.shape[0] == y_adv.shape[0]"
   ]
  },
  {
   "cell_type": "code",
   "execution_count": 52,
   "id": "1e702126",
   "metadata": {},
   "outputs": [],
   "source": [
    "cb_params = {\n",
    "    \"n_estimators\": 2000,\n",
    "    \"loss_function\": \"Logloss\",\n",
    "    \"eval_metric\": \"AUC\",\n",
    "    \"task_type\": \"CPU\",\n",
    "    \"max_bin\": 30,\n",
    "    \"verbose\": 300,\n",
    "    \"max_depth\": 7,\n",
    "    \"l2_leaf_reg\": 100,\n",
    "    \"early_stopping_rounds\": 150,\n",
    "    \"thread_count\": 8,\n",
    "    \"random_seed\": 42,\n",
    "    \"use_best_model\": True,\n",
    "    \"learning_rate\": 0.05   \n",
    "}"
   ]
  },
  {
   "cell_type": "code",
   "execution_count": 53,
   "id": "76ed917b",
   "metadata": {},
   "outputs": [
    {
     "name": "stderr",
     "output_type": "stream",
     "text": [
      "Custom logger is already specified. Specify more than one logger at same time is not thread safe."
     ]
    },
    {
     "data": {
      "application/vnd.jupyter.widget-view+json": {
       "model_id": "35471b61cb3e46318829c75276e9f4c6",
       "version_major": 2,
       "version_minor": 0
      },
      "text/plain": [
       "MetricVisualizer(layout=Layout(align_self='stretch', height='500px'))"
      ]
     },
     "metadata": {},
     "output_type": "display_data"
    },
    {
     "name": "stdout",
     "output_type": "stream",
     "text": [
      "0:\ttest: 0.6420305\ttest1: 0.6554981\tbest: 0.6554981 (0)\ttotal: 409ms\tremaining: 27m 16s\n",
      "Stopped by overfitting detector  (150 iterations wait)\n",
      "\n",
      "bestTest = 0.6880835489\n",
      "bestIteration = 16\n",
      "\n",
      "Shrink model to first 17 iterations.\n"
     ]
    },
    {
     "data": {
      "text/plain": [
       "<catboost.core.CatBoostClassifier at 0x17f8b5c1be0>"
      ]
     },
     "execution_count": 53,
     "metadata": {},
     "output_type": "execute_result"
    }
   ],
   "source": [
    "model_cb_2.fit(x_adv, \n",
    "             y_adv,    \n",
    "             eval_set=[(x_train, y_train), (x_valid, y_valid)], \n",
    "             cat_features=cat_feats,plot=True)"
   ]
  },
  {
   "cell_type": "code",
   "execution_count": 54,
   "id": "58cc22c2",
   "metadata": {},
   "outputs": [
    {
     "name": "stdout",
     "output_type": "stream",
     "text": [
      "1.0\n"
     ]
    }
   ],
   "source": [
    "y_pred_adv = model_cb_2.predict_proba(x_adv)\n",
    "score = roc_auc_score(y_adv, y_pred_adv[:, 1])\n",
    "print(round(score, 4))"
   ]
  },
  {
   "cell_type": "markdown",
   "id": "09430e26",
   "metadata": {},
   "source": [
    "Вывод - данные тренировочные отличаются очень сильно от тестовых"
   ]
  },
  {
   "cell_type": "code",
   "execution_count": 56,
   "id": "6adda5b6",
   "metadata": {},
   "outputs": [
    {
     "data": {
      "text/plain": [
       "array([[0.99192824, 0.00807176],\n",
       "       [0.99231074, 0.00768926],\n",
       "       [0.9920858 , 0.0079142 ],\n",
       "       ...,\n",
       "       [0.9920858 , 0.0079142 ],\n",
       "       [0.99215763, 0.00784237],\n",
       "       [0.9920858 , 0.0079142 ]])"
      ]
     },
     "execution_count": 56,
     "metadata": {},
     "output_type": "execute_result"
    }
   ],
   "source": [
    "#тренировочные данные\n",
    "y_pred = model_cb_2.predict_proba(data)\n",
    "y_pred"
   ]
  },
  {
   "cell_type": "code",
   "execution_count": 57,
   "id": "5bdcf684",
   "metadata": {},
   "outputs": [
    {
     "data": {
      "text/plain": [
       "(0.0, 0.1]    179887\n",
       "(0.1, 0.2]       111\n",
       "(0.2, 0.3]         2\n",
       "(0.3, 0.4]         0\n",
       "(0.4, 0.5]         0\n",
       "(0.5, 0.6]         0\n",
       "(0.6, 0.7]         0\n",
       "(0.7, 0.8]         0\n",
       "(0.8, 0.9]         0\n",
       "(0.9, 1.0]         0\n",
       "dtype: int64"
      ]
     },
     "execution_count": 57,
     "metadata": {},
     "output_type": "execute_result"
    }
   ],
   "source": [
    "pd.cut(\n",
    "    y_pred[:, 1], bins=np.arange(0, 1.01, 0.1)\n",
    ").value_counts().sort_index()"
   ]
  },
  {
   "cell_type": "markdown",
   "id": "c54afbe3",
   "metadata": {},
   "source": [
    "Берем в качестве валидационных данных данные в диапазонах бинов начиная с 0.6, они  похожи на данные из тестового набора"
   ]
  },
  {
   "cell_type": "code",
   "execution_count": 75,
   "id": "e650bcf3",
   "metadata": {},
   "outputs": [
    {
     "data": {
      "text/plain": [
       "108000"
      ]
     },
     "execution_count": 75,
     "metadata": {},
     "output_type": "execute_result"
    }
   ],
   "source": [
    "train_max_idx=180000*0.6\n",
    "int(train_max_idx)"
   ]
  },
  {
   "cell_type": "code",
   "execution_count": 79,
   "id": "336bca01",
   "metadata": {},
   "outputs": [],
   "source": [
    "x_train, x_valid = train_test_split(\n",
    "    data, train_size=0.6, random_state=1\n",
    ")\n",
    "y_train, y_valid = train_test_split(\n",
    "    target, train_size=0.6, random_state=1\n",
    ")\n",
    "\n",
    "x_valid=data[int(train_max_idx):]\n",
    "y_valid = target[int(train_max_idx):]\n",
    "\n"
   ]
  },
  {
   "cell_type": "code",
   "execution_count": 80,
   "id": "3dec5b31",
   "metadata": {},
   "outputs": [],
   "source": [
    "cb_params = {\n",
    "    \"n_estimators\": 4000,\n",
    "    \"loss_function\": \"Logloss\",\n",
    "    \"eval_metric\": \"AUC\",\n",
    "    \"task_type\": \"CPU\",\n",
    "    \"max_bin\": 30,\n",
    "    \"verbose\": 300,\n",
    "    \"max_depth\": 7,\n",
    "    \"l2_leaf_reg\": 100,\n",
    "    \"early_stopping_rounds\": 150,\n",
    "    \"thread_count\": 8,\n",
    "    \"random_seed\": 42,\n",
    "    \"use_best_model\": True,\n",
    "    \"learning_rate\": 0.05   \n",
    "}"
   ]
  },
  {
   "cell_type": "code",
   "execution_count": 81,
   "id": "66fcd668",
   "metadata": {},
   "outputs": [
    {
     "name": "stderr",
     "output_type": "stream",
     "text": [
      "Custom logger is already specified. Specify more than one logger at same time is not thread safe."
     ]
    },
    {
     "data": {
      "application/vnd.jupyter.widget-view+json": {
       "model_id": "bff716ea4b8342b18f715a947cb8da98",
       "version_major": 2,
       "version_minor": 0
      },
      "text/plain": [
       "MetricVisualizer(layout=Layout(align_self='stretch', height='500px'))"
      ]
     },
     "metadata": {},
     "output_type": "display_data"
    },
    {
     "name": "stdout",
     "output_type": "stream",
     "text": [
      "0:\ttest: 0.6938076\ttest1: 0.6667659\tbest: 0.6667659 (0)\ttotal: 224ms\tremaining: 14m 56s\n",
      "300:\ttest: 0.9005094\ttest1: 0.8906896\tbest: 0.8906896 (300)\ttotal: 1m 9s\tremaining: 14m 16s\n",
      "600:\ttest: 0.9124523\ttest1: 0.9012716\tbest: 0.9012716 (600)\ttotal: 2m 30s\tremaining: 14m 11s\n",
      "900:\ttest: 0.9167929\ttest1: 0.9052768\tbest: 0.9052807 (898)\ttotal: 3m 57s\tremaining: 13m 36s\n",
      "1200:\ttest: 0.9193633\ttest1: 0.9074284\tbest: 0.9074284 (1200)\ttotal: 5m 20s\tremaining: 12m 26s\n",
      "1500:\ttest: 0.9220294\ttest1: 0.9097383\tbest: 0.9097390 (1499)\ttotal: 6m 43s\tremaining: 11m 12s\n",
      "1800:\ttest: 0.9253322\ttest1: 0.9135206\tbest: 0.9135206 (1799)\ttotal: 8m 12s\tremaining: 10m\n",
      "2100:\ttest: 0.9279009\ttest1: 0.9160006\tbest: 0.9160026 (2099)\ttotal: 9m 41s\tremaining: 8m 45s\n",
      "2400:\ttest: 0.9300176\ttest1: 0.9184939\tbest: 0.9185201 (2392)\ttotal: 11m 12s\tremaining: 7m 27s\n",
      "2700:\ttest: 0.9319238\ttest1: 0.9206744\tbest: 0.9206744 (2700)\ttotal: 12m 43s\tremaining: 6m 7s\n",
      "3000:\ttest: 0.9343471\ttest1: 0.9239228\tbest: 0.9239228 (3000)\ttotal: 14m 11s\tremaining: 4m 43s\n",
      "3300:\ttest: 0.9364811\ttest1: 0.9257687\tbest: 0.9257687 (3300)\ttotal: 15m 40s\tremaining: 3m 19s\n",
      "3600:\ttest: 0.9390889\ttest1: 0.9280365\tbest: 0.9280365 (3600)\ttotal: 17m 12s\tremaining: 1m 54s\n",
      "3900:\ttest: 0.9425462\ttest1: 0.9322692\tbest: 0.9322692 (3900)\ttotal: 18m 47s\tremaining: 28.6s\n",
      "3999:\ttest: 0.9428941\ttest1: 0.9326105\tbest: 0.9326116 (3998)\ttotal: 19m 17s\tremaining: 0us\n",
      "\n",
      "bestTest = 0.9326116272\n",
      "bestIteration = 3998\n",
      "\n",
      "Shrink model to first 3999 iterations.\n"
     ]
    },
    {
     "data": {
      "text/plain": [
       "<catboost.core.CatBoostClassifier at 0x17f8e66f280>"
      ]
     },
     "execution_count": 81,
     "metadata": {},
     "output_type": "execute_result"
    }
   ],
   "source": [
    "model_cb_2 = cb.CatBoostClassifier(**cb_params)\n",
    "model_cb_2.fit(x_train, \n",
    "             y_train, \n",
    "             eval_set=[(x_train, y_train), (x_valid, y_valid)], \n",
    "             cat_features=cat_feats,plot=True)"
   ]
  },
  {
   "cell_type": "code",
   "execution_count": 82,
   "id": "7f6a645f",
   "metadata": {},
   "outputs": [],
   "source": [
    "best_model_cb=model_cb_2"
   ]
  },
  {
   "cell_type": "code",
   "execution_count": 83,
   "id": "edf49bdb",
   "metadata": {},
   "outputs": [],
   "source": [
    "train_scores = pd.DataFrame({\"isFraud\": y_train}) \n",
    "train_scores[\"CatBoost_adv_Best\"]=best_model_cb.predict_proba(x_train)[:,1]\n"
   ]
  },
  {
   "cell_type": "code",
   "execution_count": 84,
   "id": "387f7969",
   "metadata": {},
   "outputs": [],
   "source": [
    "LB_test_scores = pd.DataFrame({\"isFraud\": test[\"isFraud\"]}) \n",
    "LB_test_scores[\"CatBoost_adv_Best\"] = best_model_cb.predict_proba(test_data)[:,1]\n"
   ]
  },
  {
   "cell_type": "code",
   "execution_count": 85,
   "id": "c7eb46b1",
   "metadata": {},
   "outputs": [
    {
     "data": {
      "image/png": "[encoded data removed]",
      "text/plain": [
       "<Figure size 1080x360 with 2 Axes>"
      ]
     },
     "metadata": {
      "needs_background": "light"
     },
     "output_type": "display_data"
    }
   ],
   "source": [
    "plot_curves(LB_test_scores,train_scores,\"isFraud\")"
   ]
  },
  {
   "cell_type": "code",
   "execution_count": 86,
   "id": "ecc3cbee",
   "metadata": {},
   "outputs": [
    {
     "data": {
      "text/plain": [
       "0.6424074290810544"
      ]
     },
     "execution_count": 86,
     "metadata": {},
     "output_type": "execute_result"
    }
   ],
   "source": [
    "test_predict_target=best_model_cb.predict(test_data)\n",
    "test_roc_auc=roc_auc_score(test[\"isFraud\"].tolist(),test_predict_target)\n",
    "test_roc_auc"
   ]
  },
  {
   "cell_type": "markdown",
   "id": "ceaf06c6",
   "metadata": {},
   "source": [
    "Вывод - улучшения незначительные - в 3 знаке только"
   ]
  },
  {
   "cell_type": "markdown",
   "id": "facef167",
   "metadata": {},
   "source": [
    "**Задание 5:**\n",
    "\n",
    "**сделать KFold / StratifiedKFold валидацию (на ваше усмотрение), оценить получаемые качество и разброс по метрике качества. Сделать выводы об устойчивости кросс-валидации, сходимости оценки на кросс-валидации и отложенном наборе данных; Оценить качество на ЛБ, сделать выводы.**"
   ]
  },
  {
   "cell_type": "code",
   "execution_count": null,
   "id": "7cfa6fbe",
   "metadata": {},
   "outputs": [],
   "source": []
  }
 ],
 "metadata": {
  "kernelspec": {
   "display_name": "Python 3 (ipykernel)",
   "language": "python",
   "name": "python3"
  },
  "language_info": {
   "codemirror_mode": {
    "name": "ipython",
    "version": 3
   },
   "file_extension": ".py",
   "mimetype": "text/x-python",
   "name": "python",
   "nbconvert_exporter": "python",
   "pygments_lexer": "ipython3",
   "version": "3.8.5"
  }
 },
 "nbformat": 4,
 "nbformat_minor": 5
}
