{
 "cells": [
  {
   "cell_type": "markdown",
   "id": "f2ec8915",
   "metadata": {},
   "source": [
    "# Урок 6. Feature Engineering, Feature Selection, part II"
   ]
  },
  {
   "cell_type": "markdown",
   "id": "2130e1ad",
   "metadata": {},
   "source": [
    "**Задание 0: выбрать любимую модель и схему валидации решения, зафиксировать базовое качество модели.**\n"
   ]
  },
  {
   "cell_type": "markdown",
   "id": "a904598c",
   "metadata": {},
   "source": [
    "**Задание 1: использовать внутренний способ для оценки важности признаков алгоритма, вывести его в виде диаграммы.**"
   ]
  },
  {
   "cell_type": "markdown",
   "id": "8e92827b",
   "metadata": {},
   "source": [
    "Будет сделано позже , т.к. в настоящее время работаю над курсовым проектом"
   ]
  },
  {
   "cell_type": "code",
   "execution_count": null,
   "id": "c748b906",
   "metadata": {},
   "outputs": [],
   "source": []
  }
 ],
 "metadata": {
  "kernelspec": {
   "display_name": "Python 3 (ipykernel)",
   "language": "python",
   "name": "python3"
  },
  "language_info": {
   "codemirror_mode": {
    "name": "ipython",
    "version": 3
   },
   "file_extension": ".py",
   "mimetype": "text/x-python",
   "name": "python",
   "nbconvert_exporter": "python",
   "pygments_lexer": "ipython3",
   "version": "3.8.5"
  }
 },
 "nbformat": 4,
 "nbformat_minor": 5
}
