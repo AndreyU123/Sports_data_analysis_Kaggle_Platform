{
 "cells": [
  {
   "cell_type": "markdown",
   "id": "d99b7e2c",
   "metadata": {},
   "source": [
    "# Урок 7. Тюнинг гиперпараметров, построение ансамблей алгоритмов."
   ]
  },
  {
   "cell_type": "markdown",
   "id": "78f96bd0",
   "metadata": {},
   "source": [
    "**Задание 1 : Обучить алгоритмы LightGBM и XGBoost, получить OOF прогнозы, оценить корреляцию прогнозов на обучающей выборке. Применить модели на тестовую выборку и оценить корреляцию.**"
   ]
  },
  {
   "cell_type": "code",
   "execution_count": 1,
   "id": "592a4e81",
   "metadata": {},
   "outputs": [],
   "source": [
    "from typing import List,Optional\n",
    "from tqdm import tqdm\n",
    "\n",
    "import numpy as np\n",
    "import pandas as pd\n",
    "\n",
    "import matplotlib as mpl\n",
    "import matplotlib.pyplot as plt\n",
    "%matplotlib inline\n",
    "import os\n",
    "\n",
    "import seaborn as sns\n",
    "import scipy.stats as st\n",
    "from scipy.stats import probplot, ks_2samp\n",
    "from sklearn.metrics import roc_auc_score\n",
    "from sklearn.ensemble import RandomForestRegressor\n",
    "from sklearn.model_selection import KFold, cross_val_score,train_test_split\n",
    "from sklearn.base import BaseEstimator, TransformerMixin\n",
    "from sklearn.utils.validation import check_is_fitted\n",
    "\n",
    "import missingno as msno\n",
    "\n",
    "import xgboost as xgb\n",
    "import lightgbm as lgb\n",
    "import catboost as cb\n",
    "\n",
    "from sklearn.metrics import roc_auc_score, roc_curve"
   ]
  },
  {
   "cell_type": "code",
   "execution_count": 64,
   "id": "592cf8f4",
   "metadata": {},
   "outputs": [],
   "source": [
    "import time"
   ]
  },
  {
   "cell_type": "code",
   "execution_count": 69,
   "id": "a0e77545",
   "metadata": {},
   "outputs": [],
   "source": [
    "from sklearn.preprocessing import LabelEncoder"
   ]
  },
  {
   "cell_type": "code",
   "execution_count": 2,
   "id": "8ae58eeb",
   "metadata": {},
   "outputs": [],
   "source": [
    "DATA_PATH=\"Data\"\n",
    "def load_data(dataset_name,data_path=DATA_PATH):\n",
    "    csv_path = os.path.join(data_path,dataset_name)\n",
    "    data = pd.read_csv(csv_path)\n",
    "    data.columns=[col.upper() for col in data.columns]\n",
    "    print(\"shape = {} rows, {} cols\".format(*data.shape))\n",
    "    return data"
   ]
  },
  {
   "cell_type": "code",
   "execution_count": 4,
   "id": "bad7b677",
   "metadata": {},
   "outputs": [
    {
     "name": "stdout",
     "output_type": "stream",
     "text": [
      "shape = 110093 rows, 3 cols\n",
      "shape = 165141 rows, 2 cols\n",
      "shape = 250000 rows, 24 cols\n"
     ]
    }
   ],
   "source": [
    "train = load_data(\"train.csv\")\n",
    "test = load_data(\"test.csv\")\n",
    "client_profile=load_data(\"client_profile.csv\")"
   ]
  },
  {
   "cell_type": "code",
   "execution_count": 5,
   "id": "c889310a",
   "metadata": {},
   "outputs": [],
   "source": [
    "def target_description_print(ds, target_name):                              \n",
    "    \"\"\"\n",
    "    Печать распределения целевых значений.\n",
    "    \n",
    "    Parameters\n",
    "    ----------\n",
    "    ds: pd.DataFrame\n",
    "        Вектор целевой переменной.\n",
    "    target_name: str\n",
    "        название целевого поля\n",
    "    \"\"\"\n",
    "    \n",
    "    values_count_TARGET_0 = ds[ds[target_name]==0].count()[target_name]\n",
    "    values_count_TARGET_1 = ds[ds[target_name]==1].count()[target_name]\n",
    "    values_count_TARGET_1_2 = np.around(values_count_TARGET_1/values_count_TARGET_0,3)\n",
    "    values_count_TARGET_Sum = values_count_TARGET_0+values_count_TARGET_1\n",
    "    print(\"TARGET==0 values count =\",values_count_TARGET_0)\n",
    "    print(\"TARGET==1 values count =\",values_count_TARGET_1)\n",
    "    print(\"(TARGET==1)count / (TARGET==0)count =\",values_count_TARGET_1_2)\n",
    "    print(\"TARGET==0 and TARGET==1 in sum values count =\",values_count_TARGET_Sum)"
   ]
  },
  {
   "cell_type": "code",
   "execution_count": 6,
   "id": "28141d9e",
   "metadata": {},
   "outputs": [
    {
     "name": "stdout",
     "output_type": "stream",
     "text": [
      "TARGET==0 values count = 101196\n",
      "TARGET==1 values count = 8897\n",
      "(TARGET==1)count / (TARGET==0)count = 0.088\n",
      "TARGET==0 and TARGET==1 in sum values count = 110093\n"
     ]
    }
   ],
   "source": [
    "target_description_print(train,'TARGET')"
   ]
  },
  {
   "cell_type": "code",
   "execution_count": 7,
   "id": "ccda5b9a",
   "metadata": {},
   "outputs": [],
   "source": [
    "numerical_features = client_profile.select_dtypes(exclude=[\"object\"])\n",
    "numerical_features=numerical_features.drop([\"APPLICATION_NUMBER\"],axis=1)"
   ]
  },
  {
   "cell_type": "code",
   "execution_count": 11,
   "id": "05c2c62b",
   "metadata": {},
   "outputs": [],
   "source": [
    "def check_missings(df: pd.DataFrame) -> pd.DataFrame:\n",
    "    \"\"\"\n",
    "    Функция для вычисления среднего и общего числа пропусков.\n",
    "\n",
    "    Parameters\n",
    "    ----------\n",
    "    df: pandas.core.DataFrame\n",
    "        Набор данных для вычисления статистики.\n",
    "\n",
    "    Returns\n",
    "    -------\n",
    "    result: pandas.core.DataFrame\n",
    "        Датафрейм со статистикой распределения пропусков.\n",
    "\n",
    "    \"\"\"\n",
    "    na = df.isnull().sum()\n",
    "    result = pd.DataFrame({\n",
    "        \"Total\": na,\n",
    "        \"Percent\": 100*na/df.shape[0],\n",
    "        \"Types\": df.dtypes\n",
    "    })\n",
    "    result = result[result[\"Total\"] != 0]\n",
    "    print(f\"Total NA-values = {na.sum()}\")\n",
    "    return result.T"
   ]
  },
  {
   "cell_type": "code",
   "execution_count": 9,
   "id": "3eab9c0d",
   "metadata": {},
   "outputs": [],
   "source": [
    "from sklearn.impute import KNNImputer"
   ]
  },
  {
   "cell_type": "code",
   "execution_count": 10,
   "id": "0935b0b5",
   "metadata": {},
   "outputs": [],
   "source": [
    "knn_imputer = KNNImputer(n_neighbors=25, weights=\"uniform\")\n",
    "client_profile[\"AMOUNT_ANNUITY\"] = knn_imputer.fit_transform(client_profile[[\"AMOUNT_ANNUITY\"]])\n",
    "client_profile[\"FAMILY_SIZE\"] = knn_imputer.fit_transform(client_profile[[\"FAMILY_SIZE\"]])\n",
    "client_profile[\"EXTERNAL_SCORING_RATING_2\"] = knn_imputer.fit_transform(client_profile[[\"EXTERNAL_SCORING_RATING_2\"]])"
   ]
  },
  {
   "cell_type": "code",
   "execution_count": 12,
   "id": "9c51f891",
   "metadata": {},
   "outputs": [],
   "source": [
    "from sklearn.experimental import enable_iterative_imputer\n",
    "from sklearn.impute import IterativeImputer"
   ]
  },
  {
   "cell_type": "code",
   "execution_count": 14,
   "id": "cda77aae",
   "metadata": {},
   "outputs": [],
   "source": [
    "iterative_imputer = IterativeImputer()\n",
    "client_profile[numerical_features.columns] = iterative_imputer.fit_transform(client_profile[numerical_features.columns])\n"
   ]
  },
  {
   "cell_type": "code",
   "execution_count": 15,
   "id": "26a9ab20",
   "metadata": {},
   "outputs": [
    {
     "name": "stdout",
     "output_type": "stream",
     "text": [
      "Total NA-values = 0\n"
     ]
    },
    {
     "data": {
      "text/html": [
       "<div>\n",
       "<style scoped>\n",
       "    .dataframe tbody tr th:only-of-type {\n",
       "        vertical-align: middle;\n",
       "    }\n",
       "\n",
       "    .dataframe tbody tr th {\n",
       "        vertical-align: top;\n",
       "    }\n",
       "\n",
       "    .dataframe thead th {\n",
       "        text-align: right;\n",
       "    }\n",
       "</style>\n",
       "<table border=\"1\" class=\"dataframe\">\n",
       "  <thead>\n",
       "    <tr style=\"text-align: right;\">\n",
       "      <th></th>\n",
       "    </tr>\n",
       "  </thead>\n",
       "  <tbody>\n",
       "    <tr>\n",
       "      <th>Total</th>\n",
       "    </tr>\n",
       "    <tr>\n",
       "      <th>Percent</th>\n",
       "    </tr>\n",
       "    <tr>\n",
       "      <th>Types</th>\n",
       "    </tr>\n",
       "  </tbody>\n",
       "</table>\n",
       "</div>"
      ],
      "text/plain": [
       "Empty DataFrame\n",
       "Columns: []\n",
       "Index: [Total, Percent, Types]"
      ]
     },
     "execution_count": 15,
     "metadata": {},
     "output_type": "execute_result"
    }
   ],
   "source": [
    "client_profile_missing = check_missings(client_profile)\n",
    "client_profile_missing"
   ]
  },
  {
   "cell_type": "code",
   "execution_count": 87,
   "id": "70d44a70",
   "metadata": {},
   "outputs": [],
   "source": [
    "def make_cross_validation(X: pd.DataFrame,\n",
    "                          y: pd.Series,\n",
    "                          estimator: object,\n",
    "                          cat_feats,\n",
    "                          metric: callable,                          \n",
    "                          cv_strategy,                          \n",
    "                          isCatBoost=False\n",
    "                          ):\n",
    "    \"\"\"\n",
    "    Кросс-валидация.\n",
    "\n",
    "    Parameters\n",
    "    ----------\n",
    "    X: pd.DataFrame\n",
    "        Матрица признаков.\n",
    "\n",
    "    y: pd.Series\n",
    "        Вектор целевой переменной.\n",
    "\n",
    "    estimator: callable\n",
    "        Объект модели для обучения.\n",
    "\n",
    "    metric: callable\n",
    "        Метрика для оценки качества решения.\n",
    "        Ожидается, что на вход будет передана функция,\n",
    "        которая принимает 2 аргумента: y_true, y_pred.\n",
    "\n",
    "    cv_strategy: cross-validation generator\n",
    "        Объект для описания стратегии кросс-валидации.\n",
    "        Ожидается, что на вход будет передан объект типа\n",
    "        KFold или StratifiedKFold.\n",
    "\n",
    "    Returns\n",
    "    -------\n",
    "    oof_score: float\n",
    "        Значение метрики качества на OOF-прогнозах.\n",
    "\n",
    "    fold_train_scores: List[float]\n",
    "        Значение метрики качества на каждом обучающем датасете кросс-валидации.\n",
    "\n",
    "    fold_valid_scores: List[float]\n",
    "        Значение метрики качества на каждом валидационном датасете кросс-валидации.\n",
    "\n",
    "    oof_predictions: np.array\n",
    "        Прогнозы на OOF.\n",
    "\n",
    "    \"\"\"\n",
    "    estimators, fold_train_scores, fold_valid_scores = [], [], []\n",
    "    oof_predictions = np.zeros(X.shape[0])\n",
    "\n",
    "    for fold_number, (train_idx, valid_idx) in enumerate(cv_strategy.split(X, y)):\n",
    "        x_train, x_valid = X.loc[train_idx], X.loc[valid_idx]\n",
    "        y_train, y_valid = y.loc[train_idx], y.loc[valid_idx]\n",
    "\n",
    "        if isCatBoost:\n",
    "            estimator.fit(x_train, y_train, eval_set=[(x_train, y_train), (x_valid, y_valid)],\n",
    "                          cat_features=cat_feats,plot=True)\n",
    "        else:\n",
    "            estimator.fit(X=x_train,y=y_train,\n",
    "                      eval_set=[(x_train, y_train), (x_valid, y_valid)],\n",
    "                      early_stopping_rounds=500,\n",
    "                      eval_metric=\"auc\",\n",
    "                      verbose=200,\n",
    "                      categorical_feature=cat_feats)\n",
    "        \n",
    "        y_train_pred = estimator.predict_proba(x_train)[:, 1]\n",
    "        y_valid_pred = estimator.predict_proba(x_valid)[:, 1]\n",
    "\n",
    "        fold_train_scores.append(metric(y_train, y_train_pred))\n",
    "        fold_valid_scores.append(metric(y_valid, y_valid_pred))\n",
    "        \n",
    "        oof_predictions[valid_idx] = y_valid_pred\n",
    "        oof_predictions[train_idx] = y_train_pred\n",
    "\n",
    "        msg = (\n",
    "            f\"Fold: {fold_number+1}, train-observations = {len(train_idx)}, \"\n",
    "            f\"valid-observations = {len(valid_idx)}\\n\"\n",
    "            f\"train-score = {round(fold_train_scores[fold_number], 4)}, \"\n",
    "            f\"valid-score = {round(fold_valid_scores[fold_number], 4)}\" \n",
    "        )\n",
    "        print(msg)\n",
    "        print(\"=\"*69)\n",
    "        estimators.append(estimator)        \n",
    "\n",
    "    oof_score = metric(y, oof_predictions)\n",
    "    print(f\"CV-results train: {round(np.mean(fold_train_scores), 4)} +/- {round(np.std(fold_train_scores), 3)}\")\n",
    "    print(f\"CV-results valid: {round(np.mean(fold_valid_scores), 4)} +/- {round(np.std(fold_valid_scores), 3)}\")\n",
    "    print(f\"OOF-score = {round(oof_score, 4)}\")\n",
    "\n",
    "    return estimators, oof_score, fold_train_scores,fold_valid_scores, oof_predictions"
   ]
  },
  {
   "cell_type": "code",
   "execution_count": 113,
   "id": "561db151",
   "metadata": {},
   "outputs": [],
   "source": [
    "def xgboost_cross_validation(params, X, y, cv, metric: callable,  categorical = None):\n",
    "    \"\"\"\n",
    "    Кросс-валидация для модели xgbbooost.\n",
    "\n",
    "    Parameters\n",
    "    ----------\n",
    "    params: dict\n",
    "        Словарь гиперпараметров модели.\n",
    "\n",
    "    X: pandas.core.frame.DataFrame\n",
    "        Матрица признако для обучения модели.\n",
    "\n",
    "    y: pandas.core.frame.Series\n",
    "        Вектор целевой переменной для обучения модели.\n",
    "\n",
    "    cv: KFold or StratifiedKFold generator.\n",
    "        Объект KFold / StratifiedKFold для определения\n",
    "        стратегии кросс-валидации модели.\n",
    "\n",
    "    categorical: str, optional, default = None\n",
    "        Список категориальных признаков.\n",
    "        Опциональный параметр, по умолчанию, не используется.\n",
    "\n",
    "    Returns\n",
    "    -------\n",
    "    estimators: list\n",
    "        Список с объектами обученной модели.\n",
    "\n",
    "    encoders: dict\n",
    "        Список с объектами LabelEncoders.\n",
    "\n",
    "    oof_preds: np.array\n",
    "        Вектор OOF-прогнозов.\n",
    "\n",
    "    \"\"\"\n",
    "    estimators, encoders = [], {}    \n",
    "    oof_preds = np.zeros(X.shape[0])\n",
    "\n",
    "    if categorical:\n",
    "        for feature in categorical:\n",
    "            encoder = LabelEncoder()\n",
    "            X[feature] = encoder.fit_transform(X[feature].astype(\"str\").fillna(\"NA\"))\n",
    "            encoders[feature] = encoder\n",
    "\n",
    "    print(f\"{time.ctime()}, Cross-Validation, {X.shape[0]} rows, {X.shape[1]} cols\")\n",
    "\n",
    "    for fold, (train_idx, valid_idx) in enumerate(cv.split(X, y)):\n",
    "\n",
    "        x_train, x_valid = X.loc[train_idx], X.loc[valid_idx]\n",
    "        y_train, y_valid = y[train_idx], y[valid_idx]\n",
    "        dtrain = xgb.DMatrix(x_train, y_train)\n",
    "        dvalid = xgb.DMatrix(x_valid, y_valid)\n",
    "\n",
    "        model = xgb.train(\n",
    "            params=params,\n",
    "            dtrain=dtrain,\n",
    "            maximize=True,\n",
    "            num_boost_round=1000,\n",
    "            early_stopping_rounds=25,\n",
    "            evals=[(dtrain, \"train\"), (dvalid, \"valid\")],\n",
    "            verbose_eval=200,\n",
    "        )\n",
    "        oof_preds[valid_idx] = model.predict(dvalid)\n",
    "        oof_preds[train_idx] = model.predict(dtrain)\n",
    "        \n",
    "        \n",
    "        estimators.append(model)\n",
    "        score = roc_auc_score(y_valid, oof_preds[valid_idx])\n",
    "        print(f\"Fold {fold+1}, Valid score = {round(score, 5)}\")\n",
    "        \n",
    "    oof_score = metric(y, oof_preds)\n",
    "    print(f\"OOF-score = {round(oof_score, 4)}\")\n",
    "\n",
    "    return estimators, oof_score, oof_preds"
   ]
  },
  {
   "cell_type": "code",
   "execution_count": 152,
   "id": "cd6ab2cb",
   "metadata": {},
   "outputs": [],
   "source": [
    "def random_forest_cross_validation( X, y, cv, metric: callable, random_classifier: object, categorical = None):\n",
    "    \"\"\"\n",
    "    Кросс-валидация для модели RandomForestClassifier.\n",
    "\n",
    "    Parameters\n",
    "    ----------\n",
    "    params: dict\n",
    "        Словарь гиперпараметров модели.\n",
    "\n",
    "    X: pandas.core.frame.DataFrame\n",
    "        Матрица признако для обучения модели.\n",
    "\n",
    "    y: pandas.core.frame.Series\n",
    "        Вектор целевой переменной для обучения модели.\n",
    "\n",
    "    cv: KFold or StratifiedKFold generator.\n",
    "        Объект KFold / StratifiedKFold для определения\n",
    "        стратегии кросс-валидации модели.\n",
    "\n",
    "    categorical: str, optional, default = None\n",
    "        Список категориальных признаков.\n",
    "        Опциональный параметр, по умолчанию, не используется.\n",
    "\n",
    "    Returns\n",
    "    -------\n",
    "    estimators: list\n",
    "        Список с объектами обученной модели.\n",
    "\n",
    "    encoders: dict\n",
    "        Список с объектами LabelEncoders.\n",
    "\n",
    "    oof_preds: np.array\n",
    "        Вектор OOF-прогнозов.\n",
    "\n",
    "    \"\"\"\n",
    "    estimators, encoders = [], {}    \n",
    "    oof_preds = np.zeros(X.shape[0])\n",
    "\n",
    "    if categorical:\n",
    "        for feature in categorical:\n",
    "            encoder = LabelEncoder()\n",
    "            X[feature] = encoder.fit_transform(X[feature].astype(\"str\").fillna(\"NA\"))\n",
    "            encoders[feature] = encoder\n",
    "\n",
    "    print(f\"{time.ctime()}, Cross-Validation, {X.shape[0]} rows, {X.shape[1]} cols\")\n",
    "\n",
    "    for fold, (train_idx, valid_idx) in enumerate(cv.split(X, y)):\n",
    "\n",
    "        x_train, x_valid = X.loc[train_idx], X.loc[valid_idx]\n",
    "        y_train, y_valid = y[train_idx], y[valid_idx]\n",
    "        \n",
    "        x_train=x_train.fillna(-9999)\n",
    "        x_valid=x_valid.fillna(-9999)\n",
    "        \n",
    "        random_classifier.fit(x_train, y_train)      \n",
    "      \n",
    "        oof_preds[valid_idx] = random_classifier.predict_proba(x_valid)[:, 1]\n",
    "        oof_preds[train_idx] = random_classifier.predict_proba(x_train)[:, 1]   \n",
    "        \n",
    "        estimators.append(model)\n",
    "        score = roc_auc_score(y_valid, oof_preds[valid_idx])\n",
    "        print(f\"Fold {fold+1}, Valid score = {round(score, 5)}\")\n",
    "        \n",
    "    oof_score = metric(y, oof_preds)\n",
    "    print(f\"OOF-score = {round(oof_score, 4)}\")\n",
    "\n",
    "    return estimators, oof_score, oof_preds"
   ]
  },
  {
   "cell_type": "code",
   "execution_count": 17,
   "id": "6841dac1",
   "metadata": {},
   "outputs": [],
   "source": [
    "def create_client_profile_features(X:pd.DataFrame, copy:bool=True)->pd.DataFrame:\n",
    "    \"\"\"\n",
    "    Создание признаков на основе профиля клиентов\n",
    "    \n",
    "    Parameters\n",
    "    ----------\n",
    "    X: pd.DataFrame\n",
    "            исходная матрица признаков с профилем клиента\n",
    "    copy:bool,optional\n",
    "            использовать ли копию DF X, по умолчанию=True\n",
    "    \n",
    "    Returns \n",
    "    -------\n",
    "    X_transformed:pd.DataFrame\n",
    "            расширенная матрица признаков с профилем клиента\n",
    "        \n",
    "    \"\"\"\n",
    "    if copy:\n",
    "        X=X.copy(deep=True)\n",
    "        \n",
    "        \n",
    "    #AMT_REQ_CREDIT_BUREAU_QRT_max=10\n",
    "    #X['AMT_REQ_CREDIT_BUREAU_QRT']=np.where(X['AMT_REQ_CREDIT_BUREAU_QRT'] < AMT_REQ_CREDIT_BUREAU_QRT_max,\n",
    "    #                                        X['AMT_REQ_CREDIT_BUREAU_QRT'],np.nan)\n",
    "    \n",
    "    dayes_in_year=365\n",
    "    max_job_duration_years=70 #предполагаем что макс время работы не более 70 лет\n",
    "    X['DAYS_ON_LAST_JOB']= np.where(X['DAYS_ON_LAST_JOB'] < dayes_in_year * max_job_duration_years,\n",
    "                                    X['DAYS_ON_LAST_JOB'],np.nan)\n",
    "    bki_flags = [flag for flag in X.columns if \"AMT_REQ_CREDIT_BUREAU\" in flag]\n",
    "    X[\"BKI_REQUESTS_COUNT\"] = X[bki_flags].sum(axis=1)\n",
    "    X[\"BKI_KURTOSIS\"] = X[bki_flags].kurtosis(axis=1)\n",
    "    X[\"EXTERNAL_SCORING_PROD\"] = X[\"EXTERNAL_SCORING_RATING_1\"] * X[\"EXTERNAL_SCORING_RATING_2\"] * X[\"EXTERNAL_SCORING_RATING_3\"]\n",
    "    \n",
    "    total_ext_scoring_ratings = X[\"EXTERNAL_SCORING_RATING_1\"].sum()+X[\"EXTERNAL_SCORING_RATING_2\"].sum()+X[\"EXTERNAL_SCORING_RATING_3\"].sum()\n",
    "    ext_scoring_rating_1_ratio=np.ceil((total_ext_scoring_ratings / 3) / client_profile['EXTERNAL_SCORING_RATING_1'].sum())\n",
    "    ext_scoring_rating_2_ratio=np.ceil((total_ext_scoring_ratings / 3) / client_profile['EXTERNAL_SCORING_RATING_2'].sum())\n",
    "    ext_scoring_rating_3_ratio=np.ceil((total_ext_scoring_ratings / 3) / client_profile['EXTERNAL_SCORING_RATING_3'].sum())\n",
    "    X[\"EXTERNAL_SCORING_WEIGHTED\"] = X[\"EXTERNAL_SCORING_RATING_1\"] * ext_scoring_rating_1_ratio + X[\"EXTERNAL_SCORING_RATING_2\"] * ext_scoring_rating_2_ratio + X[\"EXTERNAL_SCORING_RATING_3\"] * ext_scoring_rating_3_ratio\n",
    "\n",
    "    for function_name in [\"min\", \"max\", \"mean\", \"nanmedian\", \"var\"]:\n",
    "        feature_name = \"EXTERNAL_SCORING_RATING_{}\".format(function_name)\n",
    "        X[feature_name] = eval(\"np.{}\".format(function_name))(\n",
    "            X[[\"EXTERNAL_SCORING_RATING_1\",\"EXTERNAL_SCORING_RATING_2\",\"EXTERNAL_SCORING_RATING_3\"]],axis=1)\n",
    "        \n",
    "    #Отношение между основными фин. показателями\n",
    "    X[\"RATIO_CREDIT_TO_ANNUITY\"] = X[\"AMOUNT_CREDIT\"] / X[\"AMOUNT_ANNUITY\"]\n",
    "    X[\"RATIO_ANNUITY_TO_SALARY\"] = X[\"AMOUNT_ANNUITY\"] / X[\"TOTAL_SALARY\"]\n",
    "    X[\"RATIO_CREDIT_TO_SALARY\"] = X[\"AMOUNT_CREDIT\"] / X[\"TOTAL_SALARY\"]\n",
    "    X[\"TOTAL_SALARY_NET\"] = X[\"TOTAL_SALARY\"]-X[\"AMOUNT_ANNUITY\"]\n",
    "    \n",
    "    #Отношение фин. показателей к возрасту и врем признакам\n",
    "    X[\"RATIO_ANNUITY_TO_AGE\"] = X[\"AMOUNT_ANNUITY\"] / X[\"AGE\"]\n",
    "    X[\"RATIO_CREDIT_TO_AGE\"] = X[\"AMOUNT_CREDIT\"] / X[\"AGE\"]\n",
    "    X[\"RATIO_SALARY_TO_AGE\"] = X[\"TOTAL_SALARY\"] / X[\"AGE\"]\n",
    "    X[\"RATIO_ANNUITY_TO_EXPERIENCE\"] = X[\"AMOUNT_ANNUITY\"] / X[\"DAYS_ON_LAST_JOB\"]\n",
    "    X[\"RATIO_CREDIT_TO_EXPERIENCE\"] = X[\"AMOUNT_CREDIT\"] / X[\"DAYS_ON_LAST_JOB\"]\n",
    "    X[\"RATIO_SALARY_TO_EXPERIENCE\"] = X[\"TOTAL_SALARY\"] / X[\"DAYS_ON_LAST_JOB\"]\n",
    "\n",
    "    #Отношение временных признаков\n",
    "    X[\"RATIO_AGE_TO_EXPERIENCE\"] = X[\"AGE\"] / X[\"DAYS_ON_LAST_JOB\"]\n",
    "    X[\"RATIO_SALARY_TO_REGION_POPULATION\"] = X[\"TOTAL_SALARY\"] * X[\"REGION_POPULATION\"]    \n",
    "    X[\"RATIO_CAR_TO_EXPERIENCE\"] = X[\"OWN_CAR_AGE\"] / X[\"DAYS_ON_LAST_JOB\"]    \n",
    "    X[\"RATIO_CAR_TO_AGE\"] = X[\"OWN_CAR_AGE\"] / X[\"AGE\"]\n",
    "\n",
    "    #Произведение фин. показателей кредита на вероятность дефолта (мат ожидание дефолта или ожидаемые потери)\n",
    "    X[\"EXPECTED_TOTAL_LOSS_1\"] = X[\"EXTERNAL_SCORING_RATING_1\"] * X[\"AMOUNT_CREDIT\"]\n",
    "    X[\"EXPECTED_TOTAL_LOSS_2\"] = X[\"EXTERNAL_SCORING_RATING_2\"] * X[\"AMOUNT_CREDIT\"]\n",
    "    X[\"EXPECTED_TOTAL_LOSS_3\"] = X[\"EXTERNAL_SCORING_RATING_3\"] * X[\"AMOUNT_CREDIT\"]\n",
    "    X[\"EXPECTED_MONTHLY_LOSS_1\"] = X[\"EXTERNAL_SCORING_RATING_1\"] * X[\"AMOUNT_ANNUITY\"]\n",
    "    X[\"EXPECTED_MONTHLY_LOSS_2\"] = X[\"EXTERNAL_SCORING_RATING_2\"] * X[\"AMOUNT_ANNUITY\"]\n",
    "    X[\"EXPECTED_MONTHLY_LOSS_3\"] = X[\"EXTERNAL_SCORING_RATING_3\"] * X[\"AMOUNT_ANNUITY\"]\n",
    "\n",
    "    #м.б закометарены\n",
    "    \n",
    "    \n",
    "    \n",
    "    X[\"EXTERNAL_SCORING_RATING_1_PLUS_2\"]=np.nansum(\n",
    "        X[[\"EXTERNAL_SCORING_RATING_1\",\"EXTERNAL_SCORING_RATING_2\"]], axis=1\n",
    "    )\n",
    "    X[\"EXTERNAL_SCORING_RATING_1_PLUS_3\"]=np.nansum(\n",
    "        X[[\"EXTERNAL_SCORING_RATING_1\",\"EXTERNAL_SCORING_RATING_3\"]], axis=1\n",
    "    )\n",
    "    \n",
    "    X[\"EXTERNAL_SCORING_RATING_2_PLUS_3\"]=np.nansum(\n",
    "        X[[\"EXTERNAL_SCORING_RATING_2\",\"EXTERNAL_SCORING_RATING_3\"]], axis=1\n",
    "    )\n",
    "    \n",
    "    \n",
    "    \n",
    "    X[\"EXTERNAL_SCORING_RATING_1_IS_NAN\"]=np.isnan(X[\"EXTERNAL_SCORING_RATING_1\"])\n",
    "    X[\"EXTERNAL_SCORING_RATING_2_IS_NAN\"]=np.isnan(X[\"EXTERNAL_SCORING_RATING_2\"])\n",
    "    X[\"EXTERNAL_SCORING_RATING_3_IS_NAN\"]=np.isnan(X[\"EXTERNAL_SCORING_RATING_3\"])\n",
    "    \n",
    "    \"\"\"\n",
    "    \"\"\"\n",
    "\n",
    "    #доп признаки\n",
    "    X[\"RATIO_CREDIT_PER_FAMILY_SIZE\"] = X[\"AMOUNT_CREDIT\"] / X[\"FAMILY_SIZE\"]\n",
    "    X[\"RATIO_CREDIT_PER_CHILDRENS\"] = X[\"AMOUNT_CREDIT\"] / (1+X[\"CHILDRENS\"])\n",
    "    X[\"RATIO_CHILDRENS_TO_FAMILY_SIZE\"] = X[\"CHILDRENS\"] / X[\"FAMILY_SIZE\"]\n",
    "    X[\"RATIO_SALARY_PER_FAMILY_SIZE\"] = X[\"TOTAL_SALARY\"] / X[\"FAMILY_SIZE\"]\n",
    "    X[\"RATIO_SALARY_PER_CHILD\"] = X[\"TOTAL_SALARY\"] / X[\"CHILDRENS\"]    \n",
    "    X[\"NON_CHILD\"] = X[\"FAMILY_SIZE\"] - X[\"CHILDRENS\"]    \n",
    "    X[\"RATIO_CHILD_TO_NON_CHILD\"] = X[\"CHILDRENS\"] / X[\"NON_CHILD\"]    \n",
    "    X[\"RATIO_SALARY_PER_NON_CHILD\"] = X[\"TOTAL_SALARY\"] / X[\"NON_CHILD\"]\n",
    "    X[\"RATIO_CREDIT_PER_NON_CHILD\"] = X[\"AMOUNT_CREDIT\"] / X[\"NON_CHILD\"]\n",
    "    return X    "
   ]
  },
  {
   "cell_type": "code",
   "execution_count": 18,
   "id": "65a487e6",
   "metadata": {},
   "outputs": [
    {
     "name": "stderr",
     "output_type": "stream",
     "text": [
      "C:\\Users\\Windows\\AppData\\Local\\Temp/ipykernel_17156/2666864051.py:1: FutureWarning: Sorting because non-concatenation axis is not aligned. A future version\n",
      "of pandas will change to not sort by default.\n",
      "\n",
      "To accept the future behavior, pass 'sort=False'.\n",
      "\n",
      "To retain the current behavior and silence the warning, pass 'sort=True'.\n",
      "\n",
      "  data=pd.concat([train,test],axis=0)\n"
     ]
    }
   ],
   "source": [
    "data=pd.concat([train,test],axis=0)\n",
    "data = data.reset_index(drop=True)"
   ]
  },
  {
   "cell_type": "code",
   "execution_count": 19,
   "id": "efedc998",
   "metadata": {},
   "outputs": [],
   "source": [
    "client_profile=create_client_profile_features(client_profile)\n",
    "data=data.merge(client_profile, how=\"left\", on=\"APPLICATION_NUMBER\")\n"
   ]
  },
  {
   "cell_type": "code",
   "execution_count": 20,
   "id": "0eee69bc",
   "metadata": {},
   "outputs": [],
   "source": [
    "mask=data[\"TARGET\"].isnull()\n",
    "feature_to_drop=[\"APPLICATION_NUMBER\",\"TARGET\"]\n",
    "\n",
    "train,test=data.loc[~mask],data.loc[mask]\n",
    "\n",
    "target,test_id=train[\"TARGET\"],test[\"APPLICATION_NUMBER\"]\n",
    "train=train.drop(feature_to_drop,axis=1)\n",
    "test=test.drop(feature_to_drop,axis=1)\n",
    "\n",
    "categorical = train.dtypes[train.dtypes==\"object\"].index.tolist()\n",
    "numerical=list(set(train.columns)-set(categorical))\n",
    "\n",
    "train=train.replace(np.inf,np.nan)\n",
    "train=train.replace(-np.inf,np.nan)"
   ]
  },
  {
   "cell_type": "code",
   "execution_count": 90,
   "id": "cd236dd0",
   "metadata": {},
   "outputs": [],
   "source": [
    "cb_params = {\n",
    "    \"n_estimators\": 7000,\n",
    "    \"loss_function\": \"Logloss\",\n",
    "    \"eval_metric\": \"AUC\",\n",
    "    \"task_type\": \"CPU\",\n",
    "    \"max_bin\": 20,\n",
    "    \"verbose\": 500,\n",
    "    \"max_depth\": 6,\n",
    "    \"l2_leaf_reg\": 30,\n",
    "    \"early_stopping_rounds\": 500,\n",
    "    \"thread_count\": 8,\n",
    "    \"random_seed\": 42,\n",
    "    \"use_best_model\": True,\n",
    "    \"learning_rate\": 0.01    \n",
    "}"
   ]
  },
  {
   "cell_type": "code",
   "execution_count": 91,
   "id": "d92d8b6c",
   "metadata": {},
   "outputs": [],
   "source": [
    "lgbm_params = {\n",
    "    \"boosting_type\": \"gbdt\",\n",
    "    \"objective\": \"binary\",\n",
    "    \"metric\": \"auc\",\n",
    "    \"learning_rate\": 0.01,\n",
    "    \"n_estimators\": 7000,\n",
    "    \"n_jobs\": 8,\n",
    "    \"seed\": 27,\n",
    "    \"early_stopping_rounds\":500,\n",
    "    'num_leaves': 50,\n",
    "    'max_depth': 6,\n",
    "    'subsample_for_bin': 200000,\n",
    "    'reg_alpha': 0.436193,\n",
    "    'reg_lambda': 0.479169,\n",
    "    'colsample_bytree': 0.508716,\n",
    "    'min_split_gain': 0.024766,\n",
    "    'subsample': 0.7,\n",
    "    'is_unbalance': False,\n",
    "    'random_state': 27,\n",
    "}"
   ]
  },
  {
   "cell_type": "code",
   "execution_count": 24,
   "id": "0f348828",
   "metadata": {},
   "outputs": [],
   "source": [
    "train[categorical]=train[categorical].fillna('')\n",
    "test[categorical]=test[categorical].fillna('')"
   ]
  },
  {
   "cell_type": "code",
   "execution_count": 25,
   "id": "b0f0e4e1",
   "metadata": {},
   "outputs": [
    {
     "data": {
      "text/plain": [
       "['NAME_CONTRACT_TYPE',\n",
       " 'GENDER',\n",
       " 'EDUCATION_LEVEL',\n",
       " 'FAMILY_STATUS',\n",
       " 'EXTERNAL_SCORING_RATING_1_IS_NAN',\n",
       " 'EXTERNAL_SCORING_RATING_2_IS_NAN',\n",
       " 'EXTERNAL_SCORING_RATING_3_IS_NAN']"
      ]
     },
     "execution_count": 25,
     "metadata": {},
     "output_type": "execute_result"
    }
   ],
   "source": [
    "categorical"
   ]
  },
  {
   "cell_type": "markdown",
   "id": "93d4b966",
   "metadata": {},
   "source": [
    "Тренировка CatBoost модели"
   ]
  },
  {
   "cell_type": "code",
   "execution_count": 88,
   "id": "051ae69d",
   "metadata": {},
   "outputs": [],
   "source": [
    "model_cb = cb.CatBoostClassifier(**cb_params)"
   ]
  },
  {
   "cell_type": "code",
   "execution_count": 89,
   "id": "a935cc10",
   "metadata": {},
   "outputs": [
    {
     "data": {
      "application/vnd.jupyter.widget-view+json": {
       "model_id": "07157caaf09845f2b2d8f98391f9be9f",
       "version_major": 2,
       "version_minor": 0
      },
      "text/plain": [
       "MetricVisualizer(layout=Layout(align_self='stretch', height='500px'))"
      ]
     },
     "metadata": {},
     "output_type": "display_data"
    },
    {
     "name": "stdout",
     "output_type": "stream",
     "text": [
      "0:\ttest: 0.6767389\ttest1: 0.6857680\tbest: 0.6857680 (0)\ttotal: 65.4ms\tremaining: 7m 37s\n",
      "500:\ttest: 0.7277280\ttest1: 0.7357775\tbest: 0.7357775 (500)\ttotal: 31.1s\tremaining: 6m 43s\n",
      "1000:\ttest: 0.7412193\ttest1: 0.7406901\tbest: 0.7407219 (980)\ttotal: 1m 2s\tremaining: 6m 16s\n",
      "1500:\ttest: 0.7482512\ttest1: 0.7407133\tbest: 0.7413931 (1216)\ttotal: 1m 34s\tremaining: 5m 45s\n",
      "Stopped by overfitting detector  (500 iterations wait)\n",
      "\n",
      "bestTest = 0.7413930552\n",
      "bestIteration = 1216\n",
      "\n",
      "Shrink model to first 1217 iterations.\n",
      "Fold: 1, train-observations = 88074, valid-observations = 22019\n",
      "train-score = 0.7449, valid-score = 0.7414\n",
      "=====================================================================\n"
     ]
    },
    {
     "data": {
      "application/vnd.jupyter.widget-view+json": {
       "model_id": "4691ecff4b9a467ea86c305432cb5c85",
       "version_major": 2,
       "version_minor": 0
      },
      "text/plain": [
       "MetricVisualizer(layout=Layout(align_self='stretch', height='500px'))"
      ]
     },
     "metadata": {},
     "output_type": "display_data"
    },
    {
     "name": "stdout",
     "output_type": "stream",
     "text": [
      "0:\ttest: 0.6798435\ttest1: 0.6653508\tbest: 0.6653508 (0)\ttotal: 64.8ms\tremaining: 7m 33s\n",
      "500:\ttest: 0.7328317\ttest1: 0.7132777\tbest: 0.7132777 (500)\ttotal: 32s\tremaining: 6m 54s\n",
      "1000:\ttest: 0.7453644\ttest1: 0.7182979\tbest: 0.7184559 (977)\ttotal: 1m 5s\tremaining: 6m 31s\n",
      "1500:\ttest: 0.7558646\ttest1: 0.7191391\tbest: 0.7193220 (1420)\ttotal: 1m 41s\tremaining: 6m 12s\n",
      "2000:\ttest: 0.7626686\ttest1: 0.7189531\tbest: 0.7195041 (1608)\ttotal: 2m 16s\tremaining: 5m 39s\n",
      "Stopped by overfitting detector  (500 iterations wait)\n",
      "\n",
      "bestTest = 0.7195041048\n",
      "bestIteration = 1608\n",
      "\n",
      "Shrink model to first 1609 iterations.\n",
      "Fold: 2, train-observations = 88074, valid-observations = 22019\n",
      "train-score = 0.7574, valid-score = 0.7195\n",
      "=====================================================================\n"
     ]
    },
    {
     "data": {
      "application/vnd.jupyter.widget-view+json": {
       "model_id": "87708928f744474989658ac044d7ff04",
       "version_major": 2,
       "version_minor": 0
      },
      "text/plain": [
       "MetricVisualizer(layout=Layout(align_self='stretch', height='500px'))"
      ]
     },
     "metadata": {},
     "output_type": "display_data"
    },
    {
     "name": "stdout",
     "output_type": "stream",
     "text": [
      "0:\ttest: 0.6763598\ttest1: 0.6775987\tbest: 0.6775987 (0)\ttotal: 62.3ms\tremaining: 7m 16s\n",
      "500:\ttest: 0.7297759\ttest1: 0.7214505\tbest: 0.7215462 (498)\ttotal: 34.9s\tremaining: 7m 33s\n",
      "1000:\ttest: 0.7419261\ttest1: 0.7243733\tbest: 0.7247645 (880)\ttotal: 1m 11s\tremaining: 7m 6s\n",
      "1500:\ttest: 0.7500570\ttest1: 0.7252379\tbest: 0.7254014 (1366)\ttotal: 1m 46s\tremaining: 6m 30s\n",
      "2000:\ttest: 0.7555275\ttest1: 0.7253673\tbest: 0.7257421 (1950)\ttotal: 2m 20s\tremaining: 5m 51s\n",
      "2500:\ttest: 0.7620864\ttest1: 0.7256063\tbest: 0.7260380 (2393)\ttotal: 2m 57s\tremaining: 5m 18s\n",
      "Stopped by overfitting detector  (500 iterations wait)\n",
      "\n",
      "bestTest = 0.7260379927\n",
      "bestIteration = 2393\n",
      "\n",
      "Shrink model to first 2394 iterations.\n",
      "Fold: 3, train-observations = 88074, valid-observations = 22019\n",
      "train-score = 0.7606, valid-score = 0.726\n",
      "=====================================================================\n"
     ]
    },
    {
     "data": {
      "application/vnd.jupyter.widget-view+json": {
       "model_id": "dbbb5eefe0dc4fc0958d77ce18a7b1b6",
       "version_major": 2,
       "version_minor": 0
      },
      "text/plain": [
       "MetricVisualizer(layout=Layout(align_self='stretch', height='500px'))"
      ]
     },
     "metadata": {},
     "output_type": "display_data"
    },
    {
     "name": "stdout",
     "output_type": "stream",
     "text": [
      "0:\ttest: 0.6698504\ttest1: 0.6731312\tbest: 0.6731312 (0)\ttotal: 64.9ms\tremaining: 7m 34s\n",
      "500:\ttest: 0.7300320\ttest1: 0.7214153\tbest: 0.7215494 (497)\ttotal: 37.1s\tremaining: 8m 1s\n",
      "1000:\ttest: 0.7421672\ttest1: 0.7254395\tbest: 0.7255376 (968)\ttotal: 1m 14s\tremaining: 7m 25s\n",
      "1500:\ttest: 0.7521657\ttest1: 0.7256166\tbest: 0.7259304 (1215)\ttotal: 1m 51s\tremaining: 6m 46s\n",
      "2000:\ttest: 0.7582139\ttest1: 0.7266385\tbest: 0.7268740 (1984)\ttotal: 2m 25s\tremaining: 6m 4s\n",
      "Stopped by overfitting detector  (500 iterations wait)\n",
      "\n",
      "bestTest = 0.7268739504\n",
      "bestIteration = 1984\n",
      "\n",
      "Shrink model to first 1985 iterations.\n",
      "Fold: 4, train-observations = 88075, valid-observations = 22018\n",
      "train-score = 0.7579, valid-score = 0.7269\n",
      "=====================================================================\n"
     ]
    },
    {
     "data": {
      "application/vnd.jupyter.widget-view+json": {
       "model_id": "d7c4e3621a5e4cada88ec7f3dedcceba",
       "version_major": 2,
       "version_minor": 0
      },
      "text/plain": [
       "MetricVisualizer(layout=Layout(align_self='stretch', height='500px'))"
      ]
     },
     "metadata": {},
     "output_type": "display_data"
    },
    {
     "name": "stdout",
     "output_type": "stream",
     "text": [
      "0:\ttest: 0.6715807\ttest1: 0.6612008\tbest: 0.6612008 (0)\ttotal: 65.7ms\tremaining: 7m 39s\n",
      "500:\ttest: 0.7338527\ttest1: 0.7101090\tbest: 0.7101327 (499)\ttotal: 36.7s\tremaining: 7m 55s\n",
      "1000:\ttest: 0.7463349\ttest1: 0.7121931\tbest: 0.7122012 (999)\ttotal: 1m 12s\tremaining: 7m 16s\n",
      "1500:\ttest: 0.7532364\ttest1: 0.7125991\tbest: 0.7126136 (1499)\ttotal: 1m 47s\tremaining: 6m 31s\n",
      "2000:\ttest: 0.7580770\ttest1: 0.7133319\tbest: 0.7133608 (1993)\ttotal: 2m 21s\tremaining: 5m 54s\n",
      "2500:\ttest: 0.7640910\ttest1: 0.7135196\tbest: 0.7138944 (2277)\ttotal: 2m 58s\tremaining: 5m 20s\n",
      "3000:\ttest: 0.7704600\ttest1: 0.7137950\tbest: 0.7140902 (2952)\ttotal: 3m 36s\tremaining: 4m 48s\n",
      "3500:\ttest: 0.7769669\ttest1: 0.7140340\tbest: 0.7142527 (3394)\ttotal: 4m 15s\tremaining: 4m 15s\n",
      "4000:\ttest: 0.7828027\ttest1: 0.7143948\tbest: 0.7145842 (3949)\ttotal: 4m 54s\tremaining: 3m 40s\n",
      "Stopped by overfitting detector  (500 iterations wait)\n",
      "\n",
      "bestTest = 0.7145842381\n",
      "bestIteration = 3949\n",
      "\n",
      "Shrink model to first 3950 iterations.\n",
      "Fold: 5, train-observations = 88075, valid-observations = 22018\n",
      "train-score = 0.7823, valid-score = 0.7146\n",
      "=====================================================================\n",
      "CV-results train: 0.7606 +/- 0.012\n",
      "CV-results valid: 0.7257 +/- 0.009\n",
      "OOF-score = 0.7687\n"
     ]
    }
   ],
   "source": [
    "cv_strategy = KFold(n_splits=5, random_state=42,shuffle=True)\n",
    "\n",
    "estimators, oof_score, fold_train_scores, fold_valid_scores, oof_predictions = make_cross_validation(\n",
    "    train, target, model_cb, categorical, metric=roc_auc_score,cv_strategy=cv_strategy,isCatBoost=True\n",
    ")"
   ]
  },
  {
   "cell_type": "code",
   "execution_count": 92,
   "id": "9b7af6b7",
   "metadata": {},
   "outputs": [],
   "source": [
    "oof_preds_cb=oof_predictions.copy()"
   ]
  },
  {
   "cell_type": "code",
   "execution_count": 93,
   "id": "e833bd88",
   "metadata": {},
   "outputs": [
    {
     "data": {
      "text/plain": [
       "array([0.0267421 , 0.08363302, 0.03598112, ..., 0.08363302, 0.0405271 ,\n",
       "       0.05591688])"
      ]
     },
     "execution_count": 93,
     "metadata": {},
     "output_type": "execute_result"
    }
   ],
   "source": [
    "oof_preds_cb"
   ]
  },
  {
   "cell_type": "markdown",
   "id": "bb6b5594",
   "metadata": {},
   "source": [
    "Тренировка xgboost модели"
   ]
  },
  {
   "cell_type": "code",
   "execution_count": 114,
   "id": "65130ce8",
   "metadata": {},
   "outputs": [],
   "source": [
    "xgb_params = {\n",
    "    \"objective\": \"binary:logistic\",\n",
    "    \"booster\": \"gbtree\",\n",
    "    \"eval_metric\": \"auc\",\n",
    "    \"eta\": \"0.05\",\n",
    "    \"max_depth\": 6,\n",
    "    \"gamma\": 10,\n",
    "    \"subsample\": 0.85,\n",
    "    \"colsample_bytree\": 0.7,\n",
    "    \"colsample_bylevel\": 0.632,\n",
    "    \"min_child_weight\": 30,\n",
    "    \"alpha\": 0,\n",
    "    \"lambda\": 0,\n",
    "    \"nthread\": 6,\n",
    "    \"random_seed\": 42\n",
    "}\n",
    "\n",
    "xgb_cv = KFold(n_splits=5, random_state=42, shuffle=True)"
   ]
  },
  {
   "cell_type": "code",
   "execution_count": 115,
   "id": "4e11b8c8",
   "metadata": {},
   "outputs": [
    {
     "name": "stdout",
     "output_type": "stream",
     "text": [
      "Sat Oct 30 16:28:33 2021, Cross-Validation, 110093 rows, 68 cols\n",
      "[16:28:33] WARNING: C:/Users/Administrator/workspace/xgboost-win64_release_1.4.0/src/learner.cc:573: \n",
      "Parameters: { \"random_seed\" } might not be used.\n",
      "\n",
      "  This may not be accurate due to some parameters are only used in language bindings but\n",
      "  passed down to XGBoost core.  Or some parameters are not used but slip through this\n",
      "  verification. Please open an issue if you find above cases.\n",
      "\n",
      "\n",
      "[0]\ttrain-auc:0.69549\tvalid-auc:0.69962\n",
      "[200]\ttrain-auc:0.75516\tvalid-auc:0.74284\n",
      "[287]\ttrain-auc:0.76258\tvalid-auc:0.74334\n",
      "Fold 1, Valid score = 0.74323\n",
      "[16:29:02] WARNING: C:/Users/Administrator/workspace/xgboost-win64_release_1.4.0/src/learner.cc:573: \n",
      "Parameters: { \"random_seed\" } might not be used.\n",
      "\n",
      "  This may not be accurate due to some parameters are only used in language bindings but\n",
      "  passed down to XGBoost core.  Or some parameters are not used but slip through this\n",
      "  verification. Please open an issue if you find above cases.\n",
      "\n",
      "\n",
      "[0]\ttrain-auc:0.69576\tvalid-auc:0.68022\n",
      "[192]\ttrain-auc:0.76016\tvalid-auc:0.72091\n",
      "Fold 2, Valid score = 0.7209\n",
      "[16:29:22] WARNING: C:/Users/Administrator/workspace/xgboost-win64_release_1.4.0/src/learner.cc:573: \n",
      "Parameters: { \"random_seed\" } might not be used.\n",
      "\n",
      "  This may not be accurate due to some parameters are only used in language bindings but\n",
      "  passed down to XGBoost core.  Or some parameters are not used but slip through this\n",
      "  verification. Please open an issue if you find above cases.\n",
      "\n",
      "\n",
      "[0]\ttrain-auc:0.69764\tvalid-auc:0.69641\n",
      "[188]\ttrain-auc:0.75555\tvalid-auc:0.72804\n",
      "Fold 3, Valid score = 0.72804\n",
      "[16:29:43] WARNING: C:/Users/Administrator/workspace/xgboost-win64_release_1.4.0/src/learner.cc:573: \n",
      "Parameters: { \"random_seed\" } might not be used.\n",
      "\n",
      "  This may not be accurate due to some parameters are only used in language bindings but\n",
      "  passed down to XGBoost core.  Or some parameters are not used but slip through this\n",
      "  verification. Please open an issue if you find above cases.\n",
      "\n",
      "\n",
      "[0]\ttrain-auc:0.69859\tvalid-auc:0.69159\n",
      "[188]\ttrain-auc:0.75661\tvalid-auc:0.72853\n",
      "Fold 4, Valid score = 0.7286\n",
      "[16:30:04] WARNING: C:/Users/Administrator/workspace/xgboost-win64_release_1.4.0/src/learner.cc:573: \n",
      "Parameters: { \"random_seed\" } might not be used.\n",
      "\n",
      "  This may not be accurate due to some parameters are only used in language bindings but\n",
      "  passed down to XGBoost core.  Or some parameters are not used but slip through this\n",
      "  verification. Please open an issue if you find above cases.\n",
      "\n",
      "\n",
      "[0]\ttrain-auc:0.69614\tvalid-auc:0.67938\n",
      "[200]\ttrain-auc:0.76038\tvalid-auc:0.71410\n",
      "[256]\ttrain-auc:0.76565\tvalid-auc:0.71458\n",
      "Fold 5, Valid score = 0.71469\n",
      "OOF-score = 0.7553\n"
     ]
    }
   ],
   "source": [
    "estimators, oof_score, oof_preds = xgboost_cross_validation(\n",
    "    xgb_params, train, target, xgb_cv,metric=roc_auc_score,categorical=categorical\n",
    ")"
   ]
  },
  {
   "cell_type": "code",
   "execution_count": 116,
   "id": "86215bf7",
   "metadata": {},
   "outputs": [],
   "source": [
    "oof_preds_xgb=oof_preds.copy()"
   ]
  },
  {
   "cell_type": "code",
   "execution_count": 117,
   "id": "4f70ae06",
   "metadata": {},
   "outputs": [
    {
     "data": {
      "text/plain": [
       "array([0.03681364, 0.08331785, 0.0463748 , ..., 0.08331785, 0.03508651,\n",
       "       0.04888916])"
      ]
     },
     "execution_count": 117,
     "metadata": {},
     "output_type": "execute_result"
    }
   ],
   "source": [
    "oof_preds_xgb"
   ]
  },
  {
   "cell_type": "markdown",
   "id": "fe81b3ad",
   "metadata": {},
   "source": [
    "Тренировка lightgbm модели"
   ]
  },
  {
   "cell_type": "code",
   "execution_count": 94,
   "id": "490b7286",
   "metadata": {},
   "outputs": [],
   "source": [
    "for c in categorical:\n",
    "    train[c] = train[c].astype('category')\n",
    "for c in categorical:\n",
    "    test[c] = test[c].astype('category')"
   ]
  },
  {
   "cell_type": "code",
   "execution_count": 96,
   "id": "17c5269d",
   "metadata": {},
   "outputs": [],
   "source": [
    " model_lgb = lgb.LGBMClassifier(**lgbm_params)"
   ]
  },
  {
   "cell_type": "code",
   "execution_count": 97,
   "id": "994bf2f5",
   "metadata": {},
   "outputs": [
    {
     "name": "stderr",
     "output_type": "stream",
     "text": [
      "C:\\Users\\Windows\\.conda\\envs\\tf\\lib\\site-packages\\lightgbm\\sklearn.py:726: UserWarning: 'early_stopping_rounds' argument is deprecated and will be removed in a future release of LightGBM. Pass 'early_stopping()' callback via 'callbacks' argument instead.\n",
      "  _log_warning(\"'early_stopping_rounds' argument is deprecated and will be removed in a future release of LightGBM. \"\n",
      "C:\\Users\\Windows\\.conda\\envs\\tf\\lib\\site-packages\\lightgbm\\sklearn.py:736: UserWarning: 'verbose' argument is deprecated and will be removed in a future release of LightGBM. Pass 'log_evaluation()' callback via 'callbacks' argument instead.\n",
      "  _log_warning(\"'verbose' argument is deprecated and will be removed in a future release of LightGBM. \"\n",
      "C:\\Users\\Windows\\.conda\\envs\\tf\\lib\\site-packages\\lightgbm\\basic.py:2065: UserWarning: Using categorical_feature in Dataset.\n",
      "  _log_warning('Using categorical_feature in Dataset.')\n",
      "C:\\Users\\Windows\\.conda\\envs\\tf\\lib\\site-packages\\lightgbm\\basic.py:2068: UserWarning: categorical_feature in Dataset is overridden.\n",
      "New categorical_feature is ['EDUCATION_LEVEL', 'EXTERNAL_SCORING_RATING_1_IS_NAN', 'EXTERNAL_SCORING_RATING_2_IS_NAN', 'EXTERNAL_SCORING_RATING_3_IS_NAN', 'FAMILY_STATUS', 'GENDER', 'NAME_CONTRACT_TYPE']\n",
      "  _log_warning('categorical_feature in Dataset is overridden.\\n'\n"
     ]
    },
    {
     "name": "stdout",
     "output_type": "stream",
     "text": [
      "[LightGBM] [Warning] seed is set=27, random_state=27 will be ignored. Current value: seed=27\n",
      "[LightGBM] [Warning] early_stopping_round is set=500, early_stopping_rounds=500 will be ignored. Current value: early_stopping_round=500\n"
     ]
    },
    {
     "name": "stderr",
     "output_type": "stream",
     "text": [
      "C:\\Users\\Windows\\.conda\\envs\\tf\\lib\\site-packages\\lightgbm\\basic.py:1780: UserWarning: Overriding the parameters from Reference Dataset.\n",
      "  _log_warning('Overriding the parameters from Reference Dataset.')\n",
      "C:\\Users\\Windows\\.conda\\envs\\tf\\lib\\site-packages\\lightgbm\\basic.py:1513: UserWarning: categorical_column in param dict is overridden.\n",
      "  _log_warning(f'{cat_alias} in param dict is overridden.')\n"
     ]
    },
    {
     "name": "stdout",
     "output_type": "stream",
     "text": [
      "[200]\ttraining's auc: 0.756857\tvalid_1's auc: 0.735228\n",
      "[400]\ttraining's auc: 0.784577\tvalid_1's auc: 0.740574\n",
      "[600]\ttraining's auc: 0.804048\tvalid_1's auc: 0.742476\n",
      "[800]\ttraining's auc: 0.820018\tvalid_1's auc: 0.74374\n",
      "[1000]\ttraining's auc: 0.832867\tvalid_1's auc: 0.742803\n",
      "[1200]\ttraining's auc: 0.845762\tvalid_1's auc: 0.743046\n",
      "Fold: 1, train-observations = 88074, valid-observations = 22019\n",
      "train-score = 0.8174, valid-score = 0.7442\n",
      "=====================================================================\n",
      "[LightGBM] [Warning] seed is set=27, random_state=27 will be ignored. Current value: seed=27\n",
      "[LightGBM] [Warning] early_stopping_round is set=500, early_stopping_rounds=500 will be ignored. Current value: early_stopping_round=500\n"
     ]
    },
    {
     "name": "stderr",
     "output_type": "stream",
     "text": [
      "C:\\Users\\Windows\\.conda\\envs\\tf\\lib\\site-packages\\lightgbm\\sklearn.py:726: UserWarning: 'early_stopping_rounds' argument is deprecated and will be removed in a future release of LightGBM. Pass 'early_stopping()' callback via 'callbacks' argument instead.\n",
      "  _log_warning(\"'early_stopping_rounds' argument is deprecated and will be removed in a future release of LightGBM. \"\n",
      "C:\\Users\\Windows\\.conda\\envs\\tf\\lib\\site-packages\\lightgbm\\sklearn.py:736: UserWarning: 'verbose' argument is deprecated and will be removed in a future release of LightGBM. Pass 'log_evaluation()' callback via 'callbacks' argument instead.\n",
      "  _log_warning(\"'verbose' argument is deprecated and will be removed in a future release of LightGBM. \"\n",
      "C:\\Users\\Windows\\.conda\\envs\\tf\\lib\\site-packages\\lightgbm\\basic.py:2065: UserWarning: Using categorical_feature in Dataset.\n",
      "  _log_warning('Using categorical_feature in Dataset.')\n",
      "C:\\Users\\Windows\\.conda\\envs\\tf\\lib\\site-packages\\lightgbm\\basic.py:2068: UserWarning: categorical_feature in Dataset is overridden.\n",
      "New categorical_feature is ['EDUCATION_LEVEL', 'EXTERNAL_SCORING_RATING_1_IS_NAN', 'EXTERNAL_SCORING_RATING_2_IS_NAN', 'EXTERNAL_SCORING_RATING_3_IS_NAN', 'FAMILY_STATUS', 'GENDER', 'NAME_CONTRACT_TYPE']\n",
      "  _log_warning('categorical_feature in Dataset is overridden.\\n'\n",
      "C:\\Users\\Windows\\.conda\\envs\\tf\\lib\\site-packages\\lightgbm\\basic.py:1780: UserWarning: Overriding the parameters from Reference Dataset.\n",
      "  _log_warning('Overriding the parameters from Reference Dataset.')\n",
      "C:\\Users\\Windows\\.conda\\envs\\tf\\lib\\site-packages\\lightgbm\\basic.py:1513: UserWarning: categorical_column in param dict is overridden.\n",
      "  _log_warning(f'{cat_alias} in param dict is overridden.')\n"
     ]
    },
    {
     "name": "stdout",
     "output_type": "stream",
     "text": [
      "[200]\ttraining's auc: 0.761134\tvalid_1's auc: 0.714165\n",
      "[400]\ttraining's auc: 0.788648\tvalid_1's auc: 0.720643\n",
      "[600]\ttraining's auc: 0.807835\tvalid_1's auc: 0.722507\n",
      "[800]\ttraining's auc: 0.821674\tvalid_1's auc: 0.722734\n",
      "[1000]\ttraining's auc: 0.834719\tvalid_1's auc: 0.722009\n",
      "Fold: 2, train-observations = 88074, valid-observations = 22019\n",
      "train-score = 0.8135, valid-score = 0.7232\n",
      "=====================================================================\n",
      "[LightGBM] [Warning] seed is set=27, random_state=27 will be ignored. Current value: seed=27\n",
      "[LightGBM] [Warning] early_stopping_round is set=500, early_stopping_rounds=500 will be ignored. Current value: early_stopping_round=500\n"
     ]
    },
    {
     "name": "stderr",
     "output_type": "stream",
     "text": [
      "C:\\Users\\Windows\\.conda\\envs\\tf\\lib\\site-packages\\lightgbm\\sklearn.py:726: UserWarning: 'early_stopping_rounds' argument is deprecated and will be removed in a future release of LightGBM. Pass 'early_stopping()' callback via 'callbacks' argument instead.\n",
      "  _log_warning(\"'early_stopping_rounds' argument is deprecated and will be removed in a future release of LightGBM. \"\n",
      "C:\\Users\\Windows\\.conda\\envs\\tf\\lib\\site-packages\\lightgbm\\sklearn.py:736: UserWarning: 'verbose' argument is deprecated and will be removed in a future release of LightGBM. Pass 'log_evaluation()' callback via 'callbacks' argument instead.\n",
      "  _log_warning(\"'verbose' argument is deprecated and will be removed in a future release of LightGBM. \"\n",
      "C:\\Users\\Windows\\.conda\\envs\\tf\\lib\\site-packages\\lightgbm\\basic.py:2065: UserWarning: Using categorical_feature in Dataset.\n",
      "  _log_warning('Using categorical_feature in Dataset.')\n",
      "C:\\Users\\Windows\\.conda\\envs\\tf\\lib\\site-packages\\lightgbm\\basic.py:2068: UserWarning: categorical_feature in Dataset is overridden.\n",
      "New categorical_feature is ['EDUCATION_LEVEL', 'EXTERNAL_SCORING_RATING_1_IS_NAN', 'EXTERNAL_SCORING_RATING_2_IS_NAN', 'EXTERNAL_SCORING_RATING_3_IS_NAN', 'FAMILY_STATUS', 'GENDER', 'NAME_CONTRACT_TYPE']\n",
      "  _log_warning('categorical_feature in Dataset is overridden.\\n'\n",
      "C:\\Users\\Windows\\.conda\\envs\\tf\\lib\\site-packages\\lightgbm\\basic.py:1780: UserWarning: Overriding the parameters from Reference Dataset.\n",
      "  _log_warning('Overriding the parameters from Reference Dataset.')\n",
      "C:\\Users\\Windows\\.conda\\envs\\tf\\lib\\site-packages\\lightgbm\\basic.py:1513: UserWarning: categorical_column in param dict is overridden.\n",
      "  _log_warning(f'{cat_alias} in param dict is overridden.')\n"
     ]
    },
    {
     "name": "stdout",
     "output_type": "stream",
     "text": [
      "[200]\ttraining's auc: 0.759074\tvalid_1's auc: 0.721485\n",
      "[400]\ttraining's auc: 0.786664\tvalid_1's auc: 0.727904\n",
      "[600]\ttraining's auc: 0.803242\tvalid_1's auc: 0.72967\n",
      "[800]\ttraining's auc: 0.817343\tvalid_1's auc: 0.730279\n",
      "[1000]\ttraining's auc: 0.830255\tvalid_1's auc: 0.730919\n",
      "[1200]\ttraining's auc: 0.843391\tvalid_1's auc: 0.730161\n",
      "[1400]\ttraining's auc: 0.854866\tvalid_1's auc: 0.729093\n",
      "Fold: 3, train-observations = 88074, valid-observations = 22019\n",
      "train-score = 0.8277, valid-score = 0.7311\n",
      "=====================================================================\n",
      "[LightGBM] [Warning] seed is set=27, random_state=27 will be ignored. Current value: seed=27\n",
      "[LightGBM] [Warning] early_stopping_round is set=500, early_stopping_rounds=500 will be ignored. Current value: early_stopping_round=500\n"
     ]
    },
    {
     "name": "stderr",
     "output_type": "stream",
     "text": [
      "C:\\Users\\Windows\\.conda\\envs\\tf\\lib\\site-packages\\lightgbm\\sklearn.py:726: UserWarning: 'early_stopping_rounds' argument is deprecated and will be removed in a future release of LightGBM. Pass 'early_stopping()' callback via 'callbacks' argument instead.\n",
      "  _log_warning(\"'early_stopping_rounds' argument is deprecated and will be removed in a future release of LightGBM. \"\n",
      "C:\\Users\\Windows\\.conda\\envs\\tf\\lib\\site-packages\\lightgbm\\sklearn.py:736: UserWarning: 'verbose' argument is deprecated and will be removed in a future release of LightGBM. Pass 'log_evaluation()' callback via 'callbacks' argument instead.\n",
      "  _log_warning(\"'verbose' argument is deprecated and will be removed in a future release of LightGBM. \"\n",
      "C:\\Users\\Windows\\.conda\\envs\\tf\\lib\\site-packages\\lightgbm\\basic.py:2065: UserWarning: Using categorical_feature in Dataset.\n",
      "  _log_warning('Using categorical_feature in Dataset.')\n",
      "C:\\Users\\Windows\\.conda\\envs\\tf\\lib\\site-packages\\lightgbm\\basic.py:2068: UserWarning: categorical_feature in Dataset is overridden.\n",
      "New categorical_feature is ['EDUCATION_LEVEL', 'EXTERNAL_SCORING_RATING_1_IS_NAN', 'EXTERNAL_SCORING_RATING_2_IS_NAN', 'EXTERNAL_SCORING_RATING_3_IS_NAN', 'FAMILY_STATUS', 'GENDER', 'NAME_CONTRACT_TYPE']\n",
      "  _log_warning('categorical_feature in Dataset is overridden.\\n'\n",
      "C:\\Users\\Windows\\.conda\\envs\\tf\\lib\\site-packages\\lightgbm\\basic.py:1780: UserWarning: Overriding the parameters from Reference Dataset.\n",
      "  _log_warning('Overriding the parameters from Reference Dataset.')\n",
      "C:\\Users\\Windows\\.conda\\envs\\tf\\lib\\site-packages\\lightgbm\\basic.py:1513: UserWarning: categorical_column in param dict is overridden.\n",
      "  _log_warning(f'{cat_alias} in param dict is overridden.')\n"
     ]
    },
    {
     "name": "stdout",
     "output_type": "stream",
     "text": [
      "[200]\ttraining's auc: 0.758935\tvalid_1's auc: 0.72002\n",
      "[400]\ttraining's auc: 0.785441\tvalid_1's auc: 0.726542\n",
      "[600]\ttraining's auc: 0.804853\tvalid_1's auc: 0.728636\n",
      "[800]\ttraining's auc: 0.819964\tvalid_1's auc: 0.729309\n",
      "[1000]\ttraining's auc: 0.833818\tvalid_1's auc: 0.729543\n",
      "[1200]\ttraining's auc: 0.846006\tvalid_1's auc: 0.729406\n",
      "[1400]\ttraining's auc: 0.856117\tvalid_1's auc: 0.729531\n",
      "Fold: 4, train-observations = 88075, valid-observations = 22018\n",
      "train-score = 0.8358, valid-score = 0.7299\n",
      "=====================================================================\n",
      "[LightGBM] [Warning] seed is set=27, random_state=27 will be ignored. Current value: seed=27\n",
      "[LightGBM] [Warning] early_stopping_round is set=500, early_stopping_rounds=500 will be ignored. Current value: early_stopping_round=500\n"
     ]
    },
    {
     "name": "stderr",
     "output_type": "stream",
     "text": [
      "C:\\Users\\Windows\\.conda\\envs\\tf\\lib\\site-packages\\lightgbm\\sklearn.py:726: UserWarning: 'early_stopping_rounds' argument is deprecated and will be removed in a future release of LightGBM. Pass 'early_stopping()' callback via 'callbacks' argument instead.\n",
      "  _log_warning(\"'early_stopping_rounds' argument is deprecated and will be removed in a future release of LightGBM. \"\n",
      "C:\\Users\\Windows\\.conda\\envs\\tf\\lib\\site-packages\\lightgbm\\sklearn.py:736: UserWarning: 'verbose' argument is deprecated and will be removed in a future release of LightGBM. Pass 'log_evaluation()' callback via 'callbacks' argument instead.\n",
      "  _log_warning(\"'verbose' argument is deprecated and will be removed in a future release of LightGBM. \"\n",
      "C:\\Users\\Windows\\.conda\\envs\\tf\\lib\\site-packages\\lightgbm\\basic.py:2065: UserWarning: Using categorical_feature in Dataset.\n",
      "  _log_warning('Using categorical_feature in Dataset.')\n",
      "C:\\Users\\Windows\\.conda\\envs\\tf\\lib\\site-packages\\lightgbm\\basic.py:2068: UserWarning: categorical_feature in Dataset is overridden.\n",
      "New categorical_feature is ['EDUCATION_LEVEL', 'EXTERNAL_SCORING_RATING_1_IS_NAN', 'EXTERNAL_SCORING_RATING_2_IS_NAN', 'EXTERNAL_SCORING_RATING_3_IS_NAN', 'FAMILY_STATUS', 'GENDER', 'NAME_CONTRACT_TYPE']\n",
      "  _log_warning('categorical_feature in Dataset is overridden.\\n'\n",
      "C:\\Users\\Windows\\.conda\\envs\\tf\\lib\\site-packages\\lightgbm\\basic.py:1780: UserWarning: Overriding the parameters from Reference Dataset.\n",
      "  _log_warning('Overriding the parameters from Reference Dataset.')\n",
      "C:\\Users\\Windows\\.conda\\envs\\tf\\lib\\site-packages\\lightgbm\\basic.py:1513: UserWarning: categorical_column in param dict is overridden.\n",
      "  _log_warning(f'{cat_alias} in param dict is overridden.')\n"
     ]
    },
    {
     "name": "stdout",
     "output_type": "stream",
     "text": [
      "[200]\ttraining's auc: 0.761862\tvalid_1's auc: 0.706238\n",
      "[400]\ttraining's auc: 0.787911\tvalid_1's auc: 0.709754\n",
      "[600]\ttraining's auc: 0.806745\tvalid_1's auc: 0.71294\n",
      "[800]\ttraining's auc: 0.821673\tvalid_1's auc: 0.714756\n",
      "[1000]\ttraining's auc: 0.834844\tvalid_1's auc: 0.7155\n",
      "[1200]\ttraining's auc: 0.84653\tvalid_1's auc: 0.715128\n",
      "[1400]\ttraining's auc: 0.856954\tvalid_1's auc: 0.7154\n",
      "Fold: 5, train-observations = 88075, valid-observations = 22018\n",
      "train-score = 0.8333, valid-score = 0.716\n",
      "=====================================================================\n",
      "CV-results train: 0.8256 +/- 0.009\n",
      "CV-results valid: 0.7289 +/- 0.009\n",
      "OOF-score = 0.8098\n"
     ]
    }
   ],
   "source": [
    "cv_strategy = KFold(n_splits=5, random_state=42,shuffle=True)\n",
    "\n",
    "estimators, oof_score, fold_train_scores, fold_valid_scores, oof_predictions = make_cross_validation(\n",
    "    train, target, model_lgb, categorical, metric=roc_auc_score,cv_strategy=cv_strategy\n",
    ")"
   ]
  },
  {
   "cell_type": "code",
   "execution_count": 98,
   "id": "bf63d6a4",
   "metadata": {},
   "outputs": [],
   "source": [
    "oof_preds_lgb=oof_predictions.copy()"
   ]
  },
  {
   "cell_type": "code",
   "execution_count": 99,
   "id": "95b185e4",
   "metadata": {},
   "outputs": [
    {
     "data": {
      "text/plain": [
       "array([0.02920836, 0.08400074, 0.05636689, ..., 0.08400074, 0.03465905,\n",
       "       0.05557075])"
      ]
     },
     "execution_count": 99,
     "metadata": {},
     "output_type": "execute_result"
    }
   ],
   "source": [
    "oof_preds_lgb"
   ]
  },
  {
   "cell_type": "code",
   "execution_count": 118,
   "id": "efa685f5",
   "metadata": {},
   "outputs": [],
   "source": [
    "scores = pd.DataFrame({\n",
    "    \"catboost\": oof_preds_cb,\n",
    "    \"lgbm\": oof_preds_lgb,  \n",
    "    \"xgb\": oof_preds_xgb,\n",
    "})\n",
    "\n",
    "corr = scores.corr()\n",
    "mask = np.zeros_like(corr, dtype=np.bool)\n",
    "mask[np.triu_indices_from(mask)] = True"
   ]
  },
  {
   "cell_type": "code",
   "execution_count": 119,
   "id": "ce238040",
   "metadata": {},
   "outputs": [
    {
     "data": {
      "text/plain": [
       "<AxesSubplot:>"
      ]
     },
     "execution_count": 119,
     "metadata": {},
     "output_type": "execute_result"
    },
    {
     "data": {
      "image/png": "[encoded data removed]",
      "text/plain": [
       "<Figure size 720x720 with 2 Axes>"
      ]
     },
     "metadata": {
      "needs_background": "light"
     },
     "output_type": "display_data"
    }
   ],
   "source": [
    "fig, axes = plt.subplots(1, 1, figsize=(10, 10))\n",
    "sns.heatmap(corr, mask=mask, annot=True, fmt=\".4g\", square=True, cmap=\"viridis\", ax=axes)"
   ]
  },
  {
   "cell_type": "markdown",
   "id": "1fb8a372",
   "metadata": {},
   "source": [
    "Выводы: \n",
    "\n",
    "больше всего корреляция между lightgbm и xgboost  моделями =0.9664, меньше всего между catboost и xgboost=0.9571, а также между catboost и lightgbm моделями=0.9585"
   ]
  },
  {
   "cell_type": "markdown",
   "id": "f2c02439",
   "metadata": {},
   "source": [
    "Посчитать метрику (roc-auc) на тесте нельзя, т.к. данные о целевом показателе неизвестны-они скрыты организаторами соревнований."
   ]
  },
  {
   "cell_type": "markdown",
   "id": "2c77f546",
   "metadata": {},
   "source": [
    "**Задание 2:**\n",
    "\n",
    "**Усреднить прогнозы с помощью арифмитического среднего, геометрического среднего и усреднить ранги, сделать выводы о качестве отдельных моделей и о качестве комбинации.**"
   ]
  },
  {
   "cell_type": "code",
   "execution_count": 105,
   "id": "3d969e61",
   "metadata": {},
   "outputs": [],
   "source": [
    "from scipy.stats import gmean, rankdata"
   ]
  },
  {
   "cell_type": "markdown",
   "id": "28bce697",
   "metadata": {},
   "source": [
    "прогнозы с помощью арифмитического среднего"
   ]
  },
  {
   "cell_type": "code",
   "execution_count": 102,
   "id": "86f0e768",
   "metadata": {},
   "outputs": [
    {
     "name": "stdout",
     "output_type": "stream",
     "text": [
      "Score = 0.7838\n"
     ]
    }
   ],
   "source": [
    "scores_mean = scores.mean(axis=1)\n",
    "score = roc_auc_score(target, scores_mean)\n",
    "print(f\"Score = {round(score, 4)}\")"
   ]
  },
  {
   "cell_type": "markdown",
   "id": "fe61bdda",
   "metadata": {},
   "source": [
    "прогнозы с помощью геометрического среднего "
   ]
  },
  {
   "cell_type": "code",
   "execution_count": 106,
   "id": "ddfe7ed5",
   "metadata": {},
   "outputs": [
    {
     "name": "stdout",
     "output_type": "stream",
     "text": [
      "Score = 0.7805\n"
     ]
    }
   ],
   "source": [
    "scores_mean = gmean(scores, axis=1)\n",
    "score = roc_auc_score(target, scores_mean)\n",
    "print(f\"Score = {round(score, 4)}\")"
   ]
  },
  {
   "cell_type": "markdown",
   "id": "e3008efd",
   "metadata": {},
   "source": [
    "рогнозы с помощью усреднения рангов"
   ]
  },
  {
   "cell_type": "code",
   "execution_count": 107,
   "id": "f1f26b93",
   "metadata": {},
   "outputs": [
    {
     "name": "stdout",
     "output_type": "stream",
     "text": [
      "Score = 0.7794\n"
     ]
    }
   ],
   "source": [
    "scores_mean = scores.rank().mean(axis=1)\n",
    "score = roc_auc_score(target, scores_mean)\n",
    "print(f\"Score = {round(score, 4)}\")"
   ]
  },
  {
   "cell_type": "code",
   "execution_count": 108,
   "id": "1203fd23",
   "metadata": {},
   "outputs": [
    {
     "name": "stdout",
     "output_type": "stream",
     "text": [
      "Score = 0.777\n"
     ]
    }
   ],
   "source": [
    "scores_mean = gmean(scores.rank(), axis=1)\n",
    "score = roc_auc_score(target, scores_mean)\n",
    "print(f\"Score = {round(score, 4)}\")"
   ]
  },
  {
   "cell_type": "markdown",
   "id": "2e9d401a",
   "metadata": {},
   "source": [
    "Выводы: \n",
    "\n",
    "OOF-score для catboost = 0.7687, OOF-score для lightgbm = 0.8098, OOF-score для xgboost=0.7553.\n",
    "\n",
    "Комбинация с усреднением и рангами дает модель, которая лучше catboost и xgboost, но хуже гораздо чем лучшая модель - lightgbm."
   ]
  },
  {
   "cell_type": "markdown",
   "id": "19c8ee2f",
   "metadata": {},
   "source": [
    "**Задание 3: Обучить CatBoost, получить OOF прогнозы и выполнить задание 1 для трех моделей.**"
   ]
  },
  {
   "cell_type": "markdown",
   "id": "a8964443",
   "metadata": {},
   "source": [
    "Сделано в п.1"
   ]
  },
  {
   "cell_type": "markdown",
   "id": "4ee6bfe0",
   "metadata": {},
   "source": [
    "**Задание 4: Выполнить задание 2 для трех моделей.**"
   ]
  },
  {
   "cell_type": "markdown",
   "id": "198036b0",
   "metadata": {},
   "source": [
    "Сделано в п.2"
   ]
  },
  {
   "cell_type": "markdown",
   "id": "3a5023cd",
   "metadata": {},
   "source": [
    "**Задание 5: (опция) Объединить OOF-прогнозы для трех моделей и обучить алгоритм Логистической регрессии (и любой другой, на ваше усмотрение). Сделать выводы о достигаемом качестве, сравнить достигаемое качество с качеством отдельных моделей и моделей, полученных в п.2 и п.4.**"
   ]
  },
  {
   "cell_type": "code",
   "execution_count": 122,
   "id": "2af40e31",
   "metadata": {},
   "outputs": [],
   "source": [
    "from sklearn.linear_model import LogisticRegression, LinearRegression\n",
    "from sklearn.ensemble import RandomForestClassifier\n",
    "from sklearn.preprocessing import StandardScaler, MinMaxScaler\n",
    "from sklearn.pipeline import Pipeline"
   ]
  },
  {
   "cell_type": "code",
   "execution_count": 124,
   "id": "ae21c70b",
   "metadata": {},
   "outputs": [],
   "source": [
    "logistic_regression = LogisticRegression(random_state=27)\n",
    "\n",
    "pipeline_std = Pipeline(\n",
    "    steps=[(\"scaling\", StandardScaler()), (\"estimator\", logistic_regression)]\n",
    ")\n",
    "pipeline_mm = Pipeline(\n",
    "    steps=[(\"scaling\", MinMaxScaler()), (\"estimator\", logistic_regression)]\n",
    ")"
   ]
  },
  {
   "cell_type": "code",
   "execution_count": 130,
   "id": "47330c4c",
   "metadata": {},
   "outputs": [
    {
     "data": {
      "text/html": [
       "<div>\n",
       "<style scoped>\n",
       "    .dataframe tbody tr th:only-of-type {\n",
       "        vertical-align: middle;\n",
       "    }\n",
       "\n",
       "    .dataframe tbody tr th {\n",
       "        vertical-align: top;\n",
       "    }\n",
       "\n",
       "    .dataframe thead th {\n",
       "        text-align: right;\n",
       "    }\n",
       "</style>\n",
       "<table border=\"1\" class=\"dataframe\">\n",
       "  <thead>\n",
       "    <tr style=\"text-align: right;\">\n",
       "      <th></th>\n",
       "      <th>catboost</th>\n",
       "      <th>lgbm</th>\n",
       "      <th>xgb</th>\n",
       "    </tr>\n",
       "  </thead>\n",
       "  <tbody>\n",
       "    <tr>\n",
       "      <th>0</th>\n",
       "      <td>0.026742</td>\n",
       "      <td>0.029208</td>\n",
       "      <td>0.036814</td>\n",
       "    </tr>\n",
       "    <tr>\n",
       "      <th>1</th>\n",
       "      <td>0.083633</td>\n",
       "      <td>0.084001</td>\n",
       "      <td>0.083318</td>\n",
       "    </tr>\n",
       "    <tr>\n",
       "      <th>2</th>\n",
       "      <td>0.035981</td>\n",
       "      <td>0.056367</td>\n",
       "      <td>0.046375</td>\n",
       "    </tr>\n",
       "    <tr>\n",
       "      <th>3</th>\n",
       "      <td>0.292460</td>\n",
       "      <td>0.241633</td>\n",
       "      <td>0.207585</td>\n",
       "    </tr>\n",
       "    <tr>\n",
       "      <th>4</th>\n",
       "      <td>0.083633</td>\n",
       "      <td>0.084001</td>\n",
       "      <td>0.083318</td>\n",
       "    </tr>\n",
       "    <tr>\n",
       "      <th>...</th>\n",
       "      <td>...</td>\n",
       "      <td>...</td>\n",
       "      <td>...</td>\n",
       "    </tr>\n",
       "    <tr>\n",
       "      <th>110088</th>\n",
       "      <td>0.083633</td>\n",
       "      <td>0.084001</td>\n",
       "      <td>0.083318</td>\n",
       "    </tr>\n",
       "    <tr>\n",
       "      <th>110089</th>\n",
       "      <td>0.051170</td>\n",
       "      <td>0.051929</td>\n",
       "      <td>0.057691</td>\n",
       "    </tr>\n",
       "    <tr>\n",
       "      <th>110090</th>\n",
       "      <td>0.083633</td>\n",
       "      <td>0.084001</td>\n",
       "      <td>0.083318</td>\n",
       "    </tr>\n",
       "    <tr>\n",
       "      <th>110091</th>\n",
       "      <td>0.040527</td>\n",
       "      <td>0.034659</td>\n",
       "      <td>0.035087</td>\n",
       "    </tr>\n",
       "    <tr>\n",
       "      <th>110092</th>\n",
       "      <td>0.055917</td>\n",
       "      <td>0.055571</td>\n",
       "      <td>0.048889</td>\n",
       "    </tr>\n",
       "  </tbody>\n",
       "</table>\n",
       "<p>110093 rows × 3 columns</p>\n",
       "</div>"
      ],
      "text/plain": [
       "        catboost      lgbm       xgb\n",
       "0       0.026742  0.029208  0.036814\n",
       "1       0.083633  0.084001  0.083318\n",
       "2       0.035981  0.056367  0.046375\n",
       "3       0.292460  0.241633  0.207585\n",
       "4       0.083633  0.084001  0.083318\n",
       "...          ...       ...       ...\n",
       "110088  0.083633  0.084001  0.083318\n",
       "110089  0.051170  0.051929  0.057691\n",
       "110090  0.083633  0.084001  0.083318\n",
       "110091  0.040527  0.034659  0.035087\n",
       "110092  0.055917  0.055571  0.048889\n",
       "\n",
       "[110093 rows x 3 columns]"
      ]
     },
     "execution_count": 130,
     "metadata": {},
     "output_type": "execute_result"
    }
   ],
   "source": [
    "scores"
   ]
  },
  {
   "cell_type": "code",
   "execution_count": 131,
   "id": "9d025058",
   "metadata": {},
   "outputs": [
    {
     "name": "stdout",
     "output_type": "stream",
     "text": [
      "CV-result: 0.8466 +/- 0.004\n",
      "CV-result: 0.8468 +/- 0.002\n"
     ]
    }
   ],
   "source": [
    "cv_std = cross_val_score(\n",
    "    estimator=pipeline_std,\n",
    "    X=scores.fillna(0),\n",
    "    y=target,\n",
    "    scoring=\"roc_auc\",\n",
    "    cv=5,\n",
    ")\n",
    "\n",
    "print(f\"CV-result: {round(np.mean(cv_std), 4)} +/- {round(np.std(cv_std), 3)}\")\n",
    "\n",
    "cv_mm = cross_val_score(\n",
    "    estimator=pipeline_mm,\n",
    "    X=scores.fillna(0),\n",
    "    y=target,\n",
    "    scoring=\"roc_auc\",\n",
    "    cv=5,\n",
    ")\n",
    "\n",
    "print(f\"CV-result: {round(np.mean(cv_mm), 4)} +/- {round(np.std(cv_mm), 3)}\")"
   ]
  },
  {
   "cell_type": "markdown",
   "id": "a2fbc15d",
   "metadata": {},
   "source": [
    "Выводы: качество модели значительно улучшились, т.к. теперь показатель метрики ro-auc=0.8468, что значительно лучше чем у комбинации моделей, так и чем у самой лучшей модели lightgbm = 0.8098"
   ]
  },
  {
   "cell_type": "markdown",
   "id": "a0dafbf7",
   "metadata": {},
   "source": [
    "**Задание 6: (опция) Обучить алгоритм RandomForest (желательно подтюнить параметры) и добавить к построенным ранее моделям. Выполнить задание 5.**"
   ]
  },
  {
   "cell_type": "code",
   "execution_count": 160,
   "id": "c1a169e7",
   "metadata": {},
   "outputs": [],
   "source": [
    "rnd_clf = RandomForestClassifier(n_estimators=7000, max_depth=6, random_state=42, n_jobs=8,verbose=0)\n"
   ]
  },
  {
   "cell_type": "code",
   "execution_count": 161,
   "id": "a7291a56",
   "metadata": {},
   "outputs": [],
   "source": [
    "forest_cv = KFold(n_splits=5, random_state=42, shuffle=True)"
   ]
  },
  {
   "cell_type": "code",
   "execution_count": 162,
   "id": "8479575f",
   "metadata": {},
   "outputs": [
    {
     "name": "stdout",
     "output_type": "stream",
     "text": [
      "Sat Oct 30 20:25:40 2021, Cross-Validation, 110093 rows, 68 cols\n",
      "Fold 1, Valid score = 0.71924\n",
      "Fold 2, Valid score = 0.70181\n",
      "Fold 3, Valid score = 0.70874\n",
      "Fold 4, Valid score = 0.70873\n",
      "Fold 5, Valid score = 0.69577\n",
      "OOF-score = 0.7249\n"
     ]
    }
   ],
   "source": [
    "estimators, oof_score, oof_preds = random_forest_cross_validation(\n",
    "    train, target, forest_cv, metric=roc_auc_score, random_classifier=rnd_clf, categorical=categorical\n",
    ")"
   ]
  },
  {
   "cell_type": "code",
   "execution_count": 163,
   "id": "daf4b157",
   "metadata": {},
   "outputs": [],
   "source": [
    "oof_preds_rnd_clf=oof_preds.copy()"
   ]
  },
  {
   "cell_type": "code",
   "execution_count": 164,
   "id": "1057be05",
   "metadata": {},
   "outputs": [
    {
     "data": {
      "text/plain": [
       "array([0.02544242, 0.08216327, 0.05083473, ..., 0.08216327, 0.04018545,\n",
       "       0.07390178])"
      ]
     },
     "execution_count": 164,
     "metadata": {},
     "output_type": "execute_result"
    }
   ],
   "source": [
    "oof_preds_rnd_clf"
   ]
  },
  {
   "cell_type": "markdown",
   "id": "be935abb",
   "metadata": {},
   "source": [
    "Результат для случайного леса - OOF-score = 0.7249 самый худший"
   ]
  },
  {
   "cell_type": "code",
   "execution_count": 165,
   "id": "0eee729c",
   "metadata": {},
   "outputs": [],
   "source": [
    "scores = pd.DataFrame({\n",
    "    \"catboost\": oof_preds_cb,\n",
    "    \"lgbm\": oof_preds_lgb,  \n",
    "    \"xgb\": oof_preds_xgb,\n",
    "    \"rnd_clf\":oof_preds_rnd_clf\n",
    "})\n",
    "\n",
    "corr = scores.corr()\n",
    "mask = np.zeros_like(corr, dtype=np.bool)\n",
    "mask[np.triu_indices_from(mask)] = True"
   ]
  },
  {
   "cell_type": "code",
   "execution_count": 166,
   "id": "e4b499c0",
   "metadata": {},
   "outputs": [
    {
     "data": {
      "text/plain": [
       "<AxesSubplot:>"
      ]
     },
     "execution_count": 166,
     "metadata": {},
     "output_type": "execute_result"
    },
    {
     "data": {
      "image/png": "[encoded data removed]",
      "text/plain": [
       "<Figure size 720x720 with 2 Axes>"
      ]
     },
     "metadata": {
      "needs_background": "light"
     },
     "output_type": "display_data"
    }
   ],
   "source": [
    "fig, axes = plt.subplots(1, 1, figsize=(10, 10))\n",
    "sns.heatmap(corr, mask=mask, annot=True, fmt=\".4g\", square=True, cmap=\"viridis\", ax=axes)"
   ]
  },
  {
   "cell_type": "markdown",
   "id": "555d05b6",
   "metadata": {},
   "source": [
    "Меньше всего корреляции между lightgbm и rnd_clf (случайным лесом) и между catboost и rnd_clf (случайным лесом)"
   ]
  },
  {
   "cell_type": "markdown",
   "id": "b2a2216e",
   "metadata": {},
   "source": [
    "Для примера можно посчитать как повлияла модель случайного леса на результат комбинации моделей на примере среднего арифметического"
   ]
  },
  {
   "cell_type": "code",
   "execution_count": 167,
   "id": "4ac43d03",
   "metadata": {},
   "outputs": [
    {
     "name": "stdout",
     "output_type": "stream",
     "text": [
      "Score = 0.7747\n"
     ]
    }
   ],
   "source": [
    "scores_mean = scores.mean(axis=1)\n",
    "score = roc_auc_score(target, scores_mean)\n",
    "print(f\"Score = {round(score, 4)}\")"
   ]
  },
  {
   "cell_type": "markdown",
   "id": "e71524e8",
   "metadata": {},
   "source": [
    "Модель случайного леса уменьшила метрику комбинации по среднему арифметическому по сравнению с 3 моделями \n",
    "\n",
    "Score(4 модели) = 0.7747 - меньше чем результат комбинации из 3 моделей Score(3 модели) = 0.7838"
   ]
  },
  {
   "cell_type": "code",
   "execution_count": 168,
   "id": "0bce8347",
   "metadata": {},
   "outputs": [],
   "source": [
    "logistic_regression = LogisticRegression(random_state=27)\n",
    "\n",
    "pipeline_std = Pipeline(\n",
    "    steps=[(\"scaling\", StandardScaler()), (\"estimator\", logistic_regression)]\n",
    ")\n",
    "pipeline_mm = Pipeline(\n",
    "    steps=[(\"scaling\", MinMaxScaler()), (\"estimator\", logistic_regression)]\n",
    ")"
   ]
  },
  {
   "cell_type": "code",
   "execution_count": 169,
   "id": "c68e63b8",
   "metadata": {},
   "outputs": [
    {
     "data": {
      "text/html": [
       "<div>\n",
       "<style scoped>\n",
       "    .dataframe tbody tr th:only-of-type {\n",
       "        vertical-align: middle;\n",
       "    }\n",
       "\n",
       "    .dataframe tbody tr th {\n",
       "        vertical-align: top;\n",
       "    }\n",
       "\n",
       "    .dataframe thead th {\n",
       "        text-align: right;\n",
       "    }\n",
       "</style>\n",
       "<table border=\"1\" class=\"dataframe\">\n",
       "  <thead>\n",
       "    <tr style=\"text-align: right;\">\n",
       "      <th></th>\n",
       "      <th>catboost</th>\n",
       "      <th>lgbm</th>\n",
       "      <th>xgb</th>\n",
       "      <th>rnd_clf</th>\n",
       "    </tr>\n",
       "  </thead>\n",
       "  <tbody>\n",
       "    <tr>\n",
       "      <th>0</th>\n",
       "      <td>0.026742</td>\n",
       "      <td>0.029208</td>\n",
       "      <td>0.036814</td>\n",
       "      <td>0.025442</td>\n",
       "    </tr>\n",
       "    <tr>\n",
       "      <th>1</th>\n",
       "      <td>0.083633</td>\n",
       "      <td>0.084001</td>\n",
       "      <td>0.083318</td>\n",
       "      <td>0.082163</td>\n",
       "    </tr>\n",
       "    <tr>\n",
       "      <th>2</th>\n",
       "      <td>0.035981</td>\n",
       "      <td>0.056367</td>\n",
       "      <td>0.046375</td>\n",
       "      <td>0.050835</td>\n",
       "    </tr>\n",
       "    <tr>\n",
       "      <th>3</th>\n",
       "      <td>0.292460</td>\n",
       "      <td>0.241633</td>\n",
       "      <td>0.207585</td>\n",
       "      <td>0.188228</td>\n",
       "    </tr>\n",
       "    <tr>\n",
       "      <th>4</th>\n",
       "      <td>0.083633</td>\n",
       "      <td>0.084001</td>\n",
       "      <td>0.083318</td>\n",
       "      <td>0.082163</td>\n",
       "    </tr>\n",
       "    <tr>\n",
       "      <th>...</th>\n",
       "      <td>...</td>\n",
       "      <td>...</td>\n",
       "      <td>...</td>\n",
       "      <td>...</td>\n",
       "    </tr>\n",
       "    <tr>\n",
       "      <th>110088</th>\n",
       "      <td>0.083633</td>\n",
       "      <td>0.084001</td>\n",
       "      <td>0.083318</td>\n",
       "      <td>0.082163</td>\n",
       "    </tr>\n",
       "    <tr>\n",
       "      <th>110089</th>\n",
       "      <td>0.051170</td>\n",
       "      <td>0.051929</td>\n",
       "      <td>0.057691</td>\n",
       "      <td>0.057449</td>\n",
       "    </tr>\n",
       "    <tr>\n",
       "      <th>110090</th>\n",
       "      <td>0.083633</td>\n",
       "      <td>0.084001</td>\n",
       "      <td>0.083318</td>\n",
       "      <td>0.082163</td>\n",
       "    </tr>\n",
       "    <tr>\n",
       "      <th>110091</th>\n",
       "      <td>0.040527</td>\n",
       "      <td>0.034659</td>\n",
       "      <td>0.035087</td>\n",
       "      <td>0.040185</td>\n",
       "    </tr>\n",
       "    <tr>\n",
       "      <th>110092</th>\n",
       "      <td>0.055917</td>\n",
       "      <td>0.055571</td>\n",
       "      <td>0.048889</td>\n",
       "      <td>0.073902</td>\n",
       "    </tr>\n",
       "  </tbody>\n",
       "</table>\n",
       "<p>110093 rows × 4 columns</p>\n",
       "</div>"
      ],
      "text/plain": [
       "        catboost      lgbm       xgb   rnd_clf\n",
       "0       0.026742  0.029208  0.036814  0.025442\n",
       "1       0.083633  0.084001  0.083318  0.082163\n",
       "2       0.035981  0.056367  0.046375  0.050835\n",
       "3       0.292460  0.241633  0.207585  0.188228\n",
       "4       0.083633  0.084001  0.083318  0.082163\n",
       "...          ...       ...       ...       ...\n",
       "110088  0.083633  0.084001  0.083318  0.082163\n",
       "110089  0.051170  0.051929  0.057691  0.057449\n",
       "110090  0.083633  0.084001  0.083318  0.082163\n",
       "110091  0.040527  0.034659  0.035087  0.040185\n",
       "110092  0.055917  0.055571  0.048889  0.073902\n",
       "\n",
       "[110093 rows x 4 columns]"
      ]
     },
     "execution_count": 169,
     "metadata": {},
     "output_type": "execute_result"
    }
   ],
   "source": [
    "scores"
   ]
  },
  {
   "cell_type": "code",
   "execution_count": 170,
   "id": "6cac4a9c",
   "metadata": {},
   "outputs": [
    {
     "name": "stdout",
     "output_type": "stream",
     "text": [
      "CV-result: 0.8476 +/- 0.004\n",
      "CV-result: 0.8482 +/- 0.003\n"
     ]
    }
   ],
   "source": [
    "cv_std = cross_val_score(\n",
    "    estimator=pipeline_std,\n",
    "    X=scores.fillna(0),\n",
    "    y=target,\n",
    "    scoring=\"roc_auc\",\n",
    "    cv=5,\n",
    ")\n",
    "\n",
    "print(f\"CV-result: {round(np.mean(cv_std), 4)} +/- {round(np.std(cv_std), 3)}\")\n",
    "\n",
    "cv_mm = cross_val_score(\n",
    "    estimator=pipeline_mm,\n",
    "    X=scores.fillna(0),\n",
    "    y=target,\n",
    "    scoring=\"roc_auc\",\n",
    "    cv=5,\n",
    ")\n",
    "\n",
    "print(f\"CV-result: {round(np.mean(cv_mm), 4)} +/- {round(np.std(cv_mm), 3)}\")"
   ]
  },
  {
   "cell_type": "markdown",
   "id": "856ad5f6",
   "metadata": {},
   "source": [
    "Вывод: модель слегка улучшилась по сравнению с предыдущим разом \n",
    "\n",
    "    - 4 модели в комбинации:\n",
    "CV-result: 0.8476 +/- 0.004\n",
    "CV-result: 0.8482 +/- 0.003\n",
    "\n",
    "    - 3 модели в комбинации:\n",
    "CV-result: 0.8466 +/- 0.004\n",
    "CV-result: 0.8468 +/- 0.002"
   ]
  },
  {
   "cell_type": "code",
   "execution_count": null,
   "id": "7d4d6ae3",
   "metadata": {},
   "outputs": [],
   "source": []
  }
 ],
 "metadata": {
  "kernelspec": {
   "display_name": "Python 3 (ipykernel)",
   "language": "python",
   "name": "python3"
  },
  "language_info": {
   "codemirror_mode": {
    "name": "ipython",
    "version": 3
   },
   "file_extension": ".py",
   "mimetype": "text/x-python",
   "name": "python",
   "nbconvert_exporter": "python",
   "pygments_lexer": "ipython3",
   "version": "3.8.5"
  }
 },
 "nbformat": 4,
 "nbformat_minor": 5
}
