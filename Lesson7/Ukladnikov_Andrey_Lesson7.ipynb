{
 "cells": [
  {
   "cell_type": "markdown",
   "id": "d9bb6ca6",
   "metadata": {},
   "source": [
    "# Урок 7. Тюнинг гиперпараметров, построение ансамблей алгоритмов."
   ]
  },
  {
   "cell_type": "markdown",
   "id": "9ef95587",
   "metadata": {},
   "source": [
    "**Задание 1 : Обучить алгоритмы LightGBM и XGBoost, получить OOF прогнозы, оценить корреляцию прогнозов на обучающей выборке. Применить модели на тестовую выборку и оценить корреляцию.**"
   ]
  },
  {
   "cell_type": "markdown",
   "id": "1b9ef327",
   "metadata": {},
   "source": [
    "Будет сделано позже"
   ]
  },
  {
   "cell_type": "code",
   "execution_count": null,
   "id": "1b7f40c4",
   "metadata": {},
   "outputs": [],
   "source": []
  }
 ],
 "metadata": {
  "kernelspec": {
   "display_name": "Python 3 (ipykernel)",
   "language": "python",
   "name": "python3"
  },
  "language_info": {
   "codemirror_mode": {
    "name": "ipython",
    "version": 3
   },
   "file_extension": ".py",
   "mimetype": "text/x-python",
   "name": "python",
   "nbconvert_exporter": "python",
   "pygments_lexer": "ipython3",
   "version": "3.8.5"
  }
 },
 "nbformat": 4,
 "nbformat_minor": 5
}
